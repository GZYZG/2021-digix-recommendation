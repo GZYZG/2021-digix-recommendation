{
 "cells": [
  {
   "cell_type": "code",
   "execution_count": 267,
   "metadata": {},
   "outputs": [],
   "source": [
    "import numpy as np\n",
    "from sklearn import metrics\n",
    "import os\n",
    "from sklearn.model_selection import train_test_split\n",
    "from sklearn import metrics\n",
    "from time import time\n",
    "import pandas as pd\n",
    "import xgboost as xgb\n",
    "from collections import Counter\n",
    "from imblearn.over_sampling import SMOTE\n",
    "from imblearn.under_sampling import NearMiss\n",
    "import datatable as dt"
   ]
  },
  {
   "cell_type": "markdown",
   "metadata": {},
   "source": [
    "# 给定预测标签，计算AUC\n",
    "使用OVR的策略计算每个类别的AUC\n",
    "过程：\n",
    "- 选择类别i作为正类，其他类别作为负类\n",
    "- 将真实标签中不等于i的标记为0，等于i的标记为1\n",
    "- 将预测标签中不等于i的标记为0，等于ide标记为1\n",
    "- 计算混淆矩阵\n",
    "- 计算(fpr, tpr)\n",
    "- 计算AUC"
   ]
  },
  {
   "cell_type": "code",
   "execution_count": 205,
   "metadata": {},
   "outputs": [],
   "source": [
    "y = np.random.randint(0, 10, 100)\n",
    "p = np.random.randint(0, 10, 100)"
   ]
  },
  {
   "cell_type": "code",
   "execution_count": 30,
   "metadata": {
    "tags": []
   },
   "outputs": [],
   "source": [
    "def confusion_matrix(label, predict, n):\n",
    "    \"\"\"\n",
    "    计算混淆矩阵\n",
    "    :param label: 标签，np.array类型。形状可以是(n_sample,) 或者 (n_sample, n_classes)，当为第二种形状时可以表示多标签分类的情况\n",
    "    :param predict: 预测值，与 `label` 同理\n",
    "    :param n: 类别数目\n",
    "    :return: 混淆矩阵，np.array类型。shape 为 (n, n)。$cm_{ij}$表示真实标签为 $i$，预测标签为 $j$ 的样本个数\n",
    "    \"\"\"\n",
    "    k = (label >= 0) & (label < n)\n",
    "    # bincount()函数用于统计数组内每个非负整数的个数\n",
    "    # 详见 https://docs.scipy.org/doc/numpy/reference/generated/numpy.bincount.html\n",
    "    return np.bincount(n * label[k].astype(int) + predict[k], minlength=n ** 2).reshape(n, n)\n",
    "\n",
    "\n",
    "def auc(y, p, classes):\n",
    "    \"\"\"\n",
    "    给定真实标签和预测标签，计算每个类别的auc值。实际只算出了roc曲线上一个点，即一个(fpr, tpr)，再并上(0, 0)和(1, 1)来计算auc\n",
    "    :param y: 标签，np.array类型\n",
    "    :param p: 预测标签，np.array类型\n",
    "    :param classes: 类别，list-like，表示有哪些类别\n",
    "    \"\"\"\n",
    "    all_aucs = np.zeros(len(classes))\n",
    "    for i, c in enumerate(classes):\n",
    "        _y = np.zeros_like(y)\n",
    "        _y[y==c] = 1\n",
    "        _y[y!=c] = 0\n",
    "        _p = np.zeros_like(p)\n",
    "        _p[p==c] = 1\n",
    "        _p[p!=c] = 0\n",
    "#         print(_y, _p)\n",
    "        cm = confusion_matrix(_y, _p, 2)\n",
    "#         print(cm)\n",
    "        tpr = (cm[0, 0] / (cm[0, 0] + cm[0, 1])) if (cm[0, 0] + cm[0, 1]) != 0 else 0\n",
    "        fpr = (cm[1, 0] / (cm[1, 0] + cm[1, 1])) if (cm[1, 0] + cm[1, 1]) != 0 else 0\n",
    "        tpr = [0, tpr, 1]\n",
    "        fpr = [0, fpr, 1]\n",
    "        auc = metrics.auc(fpr, tpr)\n",
    "        all_aucs[i] = auc\n",
    "        if _y.sum() == 0 or _p.sum() == 0:\n",
    "            all_aucs[i] = 0\n",
    "    return all_aucs"
   ]
  },
  {
   "cell_type": "code",
   "execution_count": 12,
   "metadata": {
    "tags": []
   },
   "outputs": [
    {
     "name": "stdout",
     "output_type": "stream",
     "text": [
      "[0.5298913  0.65555556 0.52304147 0.50747508 0.52445652 0.58219623\n",
      " 0.57264957 0.46842105 0.53379416 0.50795756]\n",
      "2.3789687141650595\n"
     ]
    }
   ],
   "source": [
    "classes = list(range(10))\n",
    "weights = np.arange(0, 1, 0.1)\n",
    "all_aucs = auc(y, p, classes)\n",
    "\n",
    "weighted_auc = (all_aucs * weights).sum()\n",
    "print(f\"{all_aucs}\\n{weighted_auc}\")"
   ]
  },
  {
   "cell_type": "code",
   "execution_count": 13,
   "metadata": {},
   "outputs": [
    {
     "name": "stdout",
     "output_type": "stream",
     "text": [
      "[0.5 0.5]\n"
     ]
    }
   ],
   "source": [
    "classes = list(range(2))\n",
    "y = np.array([0, 0, 1, 1])\n",
    "p = np.array([0, 1, 0, 1])\n",
    "all_aucs = auc(y, p, classes)\n",
    "\n",
    "print(f\"{all_aucs}\")"
   ]
  },
  {
   "cell_type": "markdown",
   "metadata": {},
   "source": [
    "# 加载数据\n",
    "训练数据加载过程：\n",
    "1. 分别加载处理好的用户特征和视频特征，以及整合的用户历史行为数据；\n",
    "2. 从用户历史行为数据中筛掉在视频特征中没出现过的video_id；\n",
    "3. 将行为数据中的user_id、video_id替换为对应用户/视频的特征\n",
    "4. 根据不同的任务划分为`watch_label`、`is_share`的数据集\n",
    "\n",
    "推断时，类似于上述过程拼接数据。"
   ]
  },
  {
   "cell_type": "code",
   "execution_count": 2,
   "metadata": {},
   "outputs": [],
   "source": [
    "base_dir = \"../2021_3_data\"\n",
    "test_data_dir  = os.path.join(base_dir, \"testdata\")\n",
    "train_data_dir = os.path.join(base_dir, \"traindata\")"
   ]
  },
  {
   "cell_type": "code",
   "execution_count": 3,
   "metadata": {},
   "outputs": [],
   "source": [
    "user_   = np.load(os.path.join(train_data_dir, \"user_features_data/user_features.npz\"), allow_pickle=True)\n",
    "video_  = np.load(os.path.join(train_data_dir, \"video_features_data/video_features.npz\"), allow_pickle=True)"
   ]
  },
  {
   "cell_type": "code",
   "execution_count": 4,
   "metadata": {},
   "outputs": [],
   "source": [
    "user_feats, user_cols = user_['features'], user_['columns']\n",
    "video_feats, video_cols = video_['features'], video_['columns']"
   ]
  },
  {
   "cell_type": "code",
   "execution_count": 5,
   "metadata": {},
   "outputs": [],
   "source": [
    "user_df = pd.DataFrame(user_feats, columns=user_cols)\n",
    "video_df = pd.DataFrame(video_feats, columns=video_cols)"
   ]
  },
  {
   "cell_type": "markdown",
   "metadata": {},
   "source": [
    "## 加载训练数据"
   ]
  },
  {
   "cell_type": "code",
   "execution_count": 14,
   "metadata": {},
   "outputs": [],
   "source": [
    "action_  = np.load(os.path.join(train_data_dir, \"all_actions.npz\"), allow_pickle=True) "
   ]
  },
  {
   "cell_type": "code",
   "execution_count": 15,
   "metadata": {},
   "outputs": [],
   "source": [
    "action_data, action_cols = action_['data'], action_['columns']"
   ]
  },
  {
   "cell_type": "code",
   "execution_count": 16,
   "metadata": {},
   "outputs": [],
   "source": [
    "action_df = pd.DataFrame(action_data, columns=action_cols)"
   ]
  },
  {
   "cell_type": "code",
   "execution_count": 17,
   "metadata": {},
   "outputs": [
    {
     "data": {
      "text/plain": [
       "(7353024, 5)"
      ]
     },
     "execution_count": 17,
     "metadata": {},
     "output_type": "execute_result"
    }
   ],
   "source": [
    "action_df.shape"
   ]
  },
  {
   "cell_type": "code",
   "execution_count": 18,
   "metadata": {},
   "outputs": [
    {
     "data": {
      "text/plain": [
       "Int64Index([   15,   144,   428,   497,   876,  1174,  2127,  2199,  2334,\n",
       "             3153,\n",
       "            ...\n",
       "            48069, 48269, 48343, 48626, 49103, 49241, 49404, 49419, 49793,\n",
       "            50337],\n",
       "           dtype='int64', length=243)"
      ]
     },
     "execution_count": 18,
     "metadata": {},
     "output_type": "execute_result"
    }
   ],
   "source": [
    "# 从用户历史行为数据中筛掉在视频特征中没出现过的video_id\n",
    "idx1 = pd.Index(action_df['video_id'].unique())\n",
    "idx2 = pd.Index(video_df['video_id'])\n",
    "not_exists = idx1.difference(idx2)\n",
    "not_exists"
   ]
  },
  {
   "cell_type": "code",
   "execution_count": 19,
   "metadata": {},
   "outputs": [
    {
     "name": "stdout",
     "output_type": "stream",
     "text": [
      "在视频特征中不存在的video_id在行为数据集中出现的次数 = 45006\t\t(cost 10.650s)\n"
     ]
    }
   ],
   "source": [
    "t0 = time()\n",
    "n = 0\n",
    "for vid in not_exists:\n",
    "    tn = (action_df['video_id'] == vid).sum()\n",
    "#     action_df = action_df[action_df['video_id'] != vid]\n",
    "    action_df['video_id'].replace(vid, np.nan, inplace=True)\n",
    "    n += tn\n",
    "action_df.dropna(axis=0, inplace=True)\n",
    "print(f\"在视频特征中不存在的video_id在行为数据集中出现的次数 = {n}\\t\\t(cost {time() - t0:.3f}s)\")"
   ]
  },
  {
   "cell_type": "code",
   "execution_count": 21,
   "metadata": {},
   "outputs": [
    {
     "data": {
      "text/plain": [
       "(7308018, 5)"
      ]
     },
     "execution_count": 21,
     "metadata": {},
     "output_type": "execute_result"
    }
   ],
   "source": [
    "action_df.shape"
   ]
  },
  {
   "cell_type": "code",
   "execution_count": 20,
   "metadata": {},
   "outputs": [],
   "source": [
    "video_action = video_df.merge(action_df, how='right', left_on='video_id', right_on='video_id')"
   ]
  },
  {
   "cell_type": "code",
   "execution_count": 28,
   "metadata": {},
   "outputs": [
    {
     "data": {
      "text/html": [
       "<div>\n",
       "<style scoped>\n",
       "    .dataframe tbody tr th:only-of-type {\n",
       "        vertical-align: middle;\n",
       "    }\n",
       "\n",
       "    .dataframe tbody tr th {\n",
       "        vertical-align: top;\n",
       "    }\n",
       "\n",
       "    .dataframe thead th {\n",
       "        text-align: right;\n",
       "    }\n",
       "</style>\n",
       "<table border=\"1\" class=\"dataframe\">\n",
       "  <thead>\n",
       "    <tr style=\"text-align: right;\">\n",
       "      <th></th>\n",
       "      <th>video_id</th>\n",
       "      <th>video_name</th>\n",
       "      <th>video_score</th>\n",
       "      <th>video_duration</th>\n",
       "      <th>video_release_year</th>\n",
       "      <th>video_release_month</th>\n",
       "      <th>video_release_day</th>\n",
       "      <th>desc_0</th>\n",
       "      <th>desc_1</th>\n",
       "      <th>desc_2</th>\n",
       "      <th>...</th>\n",
       "      <th>class_9</th>\n",
       "      <th>da_0</th>\n",
       "      <th>da_1</th>\n",
       "      <th>da_2</th>\n",
       "      <th>da_3</th>\n",
       "      <th>da_4</th>\n",
       "      <th>user_id</th>\n",
       "      <th>is_watch</th>\n",
       "      <th>is_share</th>\n",
       "      <th>watch_label</th>\n",
       "    </tr>\n",
       "  </thead>\n",
       "  <tbody>\n",
       "    <tr>\n",
       "      <th>0</th>\n",
       "      <td>28149</td>\n",
       "      <td>人潮汹涌</td>\n",
       "      <td>0.8</td>\n",
       "      <td>265</td>\n",
       "      <td>2021.0</td>\n",
       "      <td>2.0</td>\n",
       "      <td>12.0</td>\n",
       "      <td>0.277669</td>\n",
       "      <td>0.591679</td>\n",
       "      <td>0.016331</td>\n",
       "      <td>...</td>\n",
       "      <td>0.037483</td>\n",
       "      <td>0.075849</td>\n",
       "      <td>0.075966</td>\n",
       "      <td>0.388902</td>\n",
       "      <td>0.383616</td>\n",
       "      <td>0.075666</td>\n",
       "      <td>4239342</td>\n",
       "      <td>1</td>\n",
       "      <td>0</td>\n",
       "      <td>2</td>\n",
       "    </tr>\n",
       "    <tr>\n",
       "      <th>1</th>\n",
       "      <td>115</td>\n",
       "      <td>数码宝贝：最后的进化</td>\n",
       "      <td>0.81</td>\n",
       "      <td>194</td>\n",
       "      <td>2020.0</td>\n",
       "      <td>10.0</td>\n",
       "      <td>30.0</td>\n",
       "      <td>0.026072</td>\n",
       "      <td>0.026047</td>\n",
       "      <td>0.026042</td>\n",
       "      <td>...</td>\n",
       "      <td>0.626961</td>\n",
       "      <td>0.084394</td>\n",
       "      <td>0.361578</td>\n",
       "      <td>0.082888</td>\n",
       "      <td>0.082888</td>\n",
       "      <td>0.388253</td>\n",
       "      <td>3577036</td>\n",
       "      <td>1</td>\n",
       "      <td>0</td>\n",
       "      <td>0</td>\n",
       "    </tr>\n",
       "    <tr>\n",
       "      <th>2</th>\n",
       "      <td>3636</td>\n",
       "      <td>东海异闻录</td>\n",
       "      <td>0.77</td>\n",
       "      <td>3807</td>\n",
       "      <td>2021.0</td>\n",
       "      <td>4.0</td>\n",
       "      <td>24.0</td>\n",
       "      <td>0.018332</td>\n",
       "      <td>0.351056</td>\n",
       "      <td>0.018328</td>\n",
       "      <td>...</td>\n",
       "      <td>0.041772</td>\n",
       "      <td>0.324848</td>\n",
       "      <td>0.083544</td>\n",
       "      <td>0.083544</td>\n",
       "      <td>0.083544</td>\n",
       "      <td>0.424519</td>\n",
       "      <td>5527504</td>\n",
       "      <td>1</td>\n",
       "      <td>0</td>\n",
       "      <td>5</td>\n",
       "    </tr>\n",
       "    <tr>\n",
       "      <th>3</th>\n",
       "      <td>12968</td>\n",
       "      <td>刺杀小说家</td>\n",
       "      <td>0.79</td>\n",
       "      <td>7791</td>\n",
       "      <td>2021.0</td>\n",
       "      <td>2.0</td>\n",
       "      <td>12.0</td>\n",
       "      <td>0.022649</td>\n",
       "      <td>0.022656</td>\n",
       "      <td>0.022645</td>\n",
       "      <td>...</td>\n",
       "      <td>0.034261</td>\n",
       "      <td>0.50428</td>\n",
       "      <td>0.072258</td>\n",
       "      <td>0.070551</td>\n",
       "      <td>0.069007</td>\n",
       "      <td>0.283903</td>\n",
       "      <td>1117889</td>\n",
       "      <td>1</td>\n",
       "      <td>0</td>\n",
       "      <td>0</td>\n",
       "    </tr>\n",
       "    <tr>\n",
       "      <th>4</th>\n",
       "      <td>860</td>\n",
       "      <td>飞驰人生</td>\n",
       "      <td>0.84</td>\n",
       "      <td>5889</td>\n",
       "      <td>2019.0</td>\n",
       "      <td>2.0</td>\n",
       "      <td>5.0</td>\n",
       "      <td>0.345659</td>\n",
       "      <td>0.029107</td>\n",
       "      <td>0.029101</td>\n",
       "      <td>...</td>\n",
       "      <td>0.037924</td>\n",
       "      <td>0.076261</td>\n",
       "      <td>0.39165</td>\n",
       "      <td>0.077193</td>\n",
       "      <td>0.075847</td>\n",
       "      <td>0.379048</td>\n",
       "      <td>1117889</td>\n",
       "      <td>1</td>\n",
       "      <td>0</td>\n",
       "      <td>4</td>\n",
       "    </tr>\n",
       "  </tbody>\n",
       "</table>\n",
       "<p>5 rows × 46 columns</p>\n",
       "</div>"
      ],
      "text/plain": [
       "  video_id  video_name video_score video_duration video_release_year  \\\n",
       "0    28149        人潮汹涌         0.8            265             2021.0   \n",
       "1      115  数码宝贝：最后的进化        0.81            194             2020.0   \n",
       "2     3636       东海异闻录        0.77           3807             2021.0   \n",
       "3    12968       刺杀小说家        0.79           7791             2021.0   \n",
       "4      860        飞驰人生        0.84           5889             2019.0   \n",
       "\n",
       "  video_release_month video_release_day    desc_0    desc_1    desc_2  ...  \\\n",
       "0                 2.0              12.0  0.277669  0.591679  0.016331  ...   \n",
       "1                10.0              30.0  0.026072  0.026047  0.026042  ...   \n",
       "2                 4.0              24.0  0.018332  0.351056  0.018328  ...   \n",
       "3                 2.0              12.0  0.022649  0.022656  0.022645  ...   \n",
       "4                 2.0               5.0  0.345659  0.029107  0.029101  ...   \n",
       "\n",
       "    class_9      da_0      da_1      da_2      da_3      da_4  user_id  \\\n",
       "0  0.037483  0.075849  0.075966  0.388902  0.383616  0.075666  4239342   \n",
       "1  0.626961  0.084394  0.361578  0.082888  0.082888  0.388253  3577036   \n",
       "2  0.041772  0.324848  0.083544  0.083544  0.083544  0.424519  5527504   \n",
       "3  0.034261   0.50428  0.072258  0.070551  0.069007  0.283903  1117889   \n",
       "4  0.037924  0.076261   0.39165  0.077193  0.075847  0.379048  1117889   \n",
       "\n",
       "  is_watch is_share watch_label  \n",
       "0        1        0           2  \n",
       "1        1        0           0  \n",
       "2        1        0           5  \n",
       "3        1        0           0  \n",
       "4        1        0           4  \n",
       "\n",
       "[5 rows x 46 columns]"
      ]
     },
     "execution_count": 28,
     "metadata": {},
     "output_type": "execute_result"
    }
   ],
   "source": [
    "# print(video_action.columns)\n",
    "video_action.head()"
   ]
  },
  {
   "cell_type": "code",
   "execution_count": 29,
   "metadata": {},
   "outputs": [],
   "source": [
    "user_video_action = user_df.merge(video_action, how='right', left_on='user_id', right_on='user_id')"
   ]
  },
  {
   "cell_type": "code",
   "execution_count": 30,
   "metadata": {},
   "outputs": [
    {
     "data": {
      "text/plain": [
       "((7308018, 76),\n",
       " Index(['user_id', 'age_0', 'age_1', 'age_2', 'age_3', 'age_4', 'age_5',\n",
       "        'age_6', 'age_7', 'gender_0', 'gender_1', 'gender_2', 'gender_3',\n",
       "        'city_level_0', 'city_level_1', 'city_level_2', 'city_level_3',\n",
       "        'city_level_4', 'city_level_5', 'city_level_6', 'city_level_7',\n",
       "        'device_name_0', 'device_name_1', 'device_name_2', 'device_name_3',\n",
       "        'device_name_4', 'device_name_5', 'device_name_6', 'device_name_7',\n",
       "        'device_name_8', 'device_name_9', 'video_id', 'video_name',\n",
       "        'video_score', 'video_duration', 'video_release_year',\n",
       "        'video_release_month', 'video_release_day', 'desc_0', 'desc_1',\n",
       "        'desc_2', 'desc_3', 'desc_4', 'desc_5', 'desc_6', 'desc_7', 'desc_8',\n",
       "        'desc_9', 'tags_0', 'tags_1', 'tags_2', 'tags_3', 'tags_4', 'tags_5',\n",
       "        'tags_6', 'tags_7', 'tags_8', 'tags_9', 'class_0', 'class_1', 'class_2',\n",
       "        'class_3', 'class_4', 'class_5', 'class_6', 'class_7', 'class_8',\n",
       "        'class_9', 'da_0', 'da_1', 'da_2', 'da_3', 'da_4', 'is_watch',\n",
       "        'is_share', 'watch_label'],\n",
       "       dtype='object'))"
      ]
     },
     "execution_count": 30,
     "metadata": {},
     "output_type": "execute_result"
    }
   ],
   "source": [
    "user_video_action.shape, user_video_action.columns"
   ]
  },
  {
   "cell_type": "code",
   "execution_count": 31,
   "metadata": {},
   "outputs": [
    {
     "data": {
      "text/html": [
       "<div>\n",
       "<style scoped>\n",
       "    .dataframe tbody tr th:only-of-type {\n",
       "        vertical-align: middle;\n",
       "    }\n",
       "\n",
       "    .dataframe tbody tr th {\n",
       "        vertical-align: top;\n",
       "    }\n",
       "\n",
       "    .dataframe thead th {\n",
       "        text-align: right;\n",
       "    }\n",
       "</style>\n",
       "<table border=\"1\" class=\"dataframe\">\n",
       "  <thead>\n",
       "    <tr style=\"text-align: right;\">\n",
       "      <th></th>\n",
       "      <th>user_id</th>\n",
       "      <th>video_id</th>\n",
       "      <th>age_0</th>\n",
       "      <th>age_1</th>\n",
       "      <th>age_2</th>\n",
       "      <th>age_3</th>\n",
       "      <th>age_4</th>\n",
       "      <th>age_5</th>\n",
       "      <th>age_6</th>\n",
       "      <th>age_7</th>\n",
       "      <th>...</th>\n",
       "      <th>class_7</th>\n",
       "      <th>class_8</th>\n",
       "      <th>class_9</th>\n",
       "      <th>da_0</th>\n",
       "      <th>da_1</th>\n",
       "      <th>da_2</th>\n",
       "      <th>da_3</th>\n",
       "      <th>da_4</th>\n",
       "      <th>is_share</th>\n",
       "      <th>watch_label</th>\n",
       "    </tr>\n",
       "  </thead>\n",
       "  <tbody>\n",
       "    <tr>\n",
       "      <th>0</th>\n",
       "      <td>4239342.0</td>\n",
       "      <td>28149</td>\n",
       "      <td>0.0</td>\n",
       "      <td>1.0</td>\n",
       "      <td>0.0</td>\n",
       "      <td>0.0</td>\n",
       "      <td>0.0</td>\n",
       "      <td>0.0</td>\n",
       "      <td>0.0</td>\n",
       "      <td>0.0</td>\n",
       "      <td>...</td>\n",
       "      <td>0.037486</td>\n",
       "      <td>0.395894</td>\n",
       "      <td>0.037483</td>\n",
       "      <td>0.075849</td>\n",
       "      <td>0.075966</td>\n",
       "      <td>0.388902</td>\n",
       "      <td>0.383616</td>\n",
       "      <td>0.075666</td>\n",
       "      <td>0</td>\n",
       "      <td>2</td>\n",
       "    </tr>\n",
       "    <tr>\n",
       "      <th>1</th>\n",
       "      <td>3577036.0</td>\n",
       "      <td>115</td>\n",
       "      <td>0.0</td>\n",
       "      <td>1.0</td>\n",
       "      <td>0.0</td>\n",
       "      <td>0.0</td>\n",
       "      <td>0.0</td>\n",
       "      <td>0.0</td>\n",
       "      <td>0.0</td>\n",
       "      <td>0.0</td>\n",
       "      <td>...</td>\n",
       "      <td>0.041444</td>\n",
       "      <td>0.041444</td>\n",
       "      <td>0.626961</td>\n",
       "      <td>0.084394</td>\n",
       "      <td>0.361578</td>\n",
       "      <td>0.082888</td>\n",
       "      <td>0.082888</td>\n",
       "      <td>0.388253</td>\n",
       "      <td>0</td>\n",
       "      <td>0</td>\n",
       "    </tr>\n",
       "    <tr>\n",
       "      <th>2</th>\n",
       "      <td>5527504.0</td>\n",
       "      <td>3636</td>\n",
       "      <td>1.0</td>\n",
       "      <td>0.0</td>\n",
       "      <td>0.0</td>\n",
       "      <td>0.0</td>\n",
       "      <td>0.0</td>\n",
       "      <td>0.0</td>\n",
       "      <td>0.0</td>\n",
       "      <td>0.0</td>\n",
       "      <td>...</td>\n",
       "      <td>0.041779</td>\n",
       "      <td>0.04178</td>\n",
       "      <td>0.041772</td>\n",
       "      <td>0.324848</td>\n",
       "      <td>0.083544</td>\n",
       "      <td>0.083544</td>\n",
       "      <td>0.083544</td>\n",
       "      <td>0.424519</td>\n",
       "      <td>0</td>\n",
       "      <td>5</td>\n",
       "    </tr>\n",
       "    <tr>\n",
       "      <th>3</th>\n",
       "      <td>1117889.0</td>\n",
       "      <td>12968</td>\n",
       "      <td>0.0</td>\n",
       "      <td>0.0</td>\n",
       "      <td>0.0</td>\n",
       "      <td>1.0</td>\n",
       "      <td>0.0</td>\n",
       "      <td>0.0</td>\n",
       "      <td>0.0</td>\n",
       "      <td>0.0</td>\n",
       "      <td>...</td>\n",
       "      <td>0.034266</td>\n",
       "      <td>0.034261</td>\n",
       "      <td>0.034261</td>\n",
       "      <td>0.50428</td>\n",
       "      <td>0.072258</td>\n",
       "      <td>0.070551</td>\n",
       "      <td>0.069007</td>\n",
       "      <td>0.283903</td>\n",
       "      <td>0</td>\n",
       "      <td>0</td>\n",
       "    </tr>\n",
       "    <tr>\n",
       "      <th>4</th>\n",
       "      <td>1117889.0</td>\n",
       "      <td>860</td>\n",
       "      <td>0.0</td>\n",
       "      <td>0.0</td>\n",
       "      <td>0.0</td>\n",
       "      <td>1.0</td>\n",
       "      <td>0.0</td>\n",
       "      <td>0.0</td>\n",
       "      <td>0.0</td>\n",
       "      <td>0.0</td>\n",
       "      <td>...</td>\n",
       "      <td>0.037929</td>\n",
       "      <td>0.037924</td>\n",
       "      <td>0.037924</td>\n",
       "      <td>0.076261</td>\n",
       "      <td>0.39165</td>\n",
       "      <td>0.077193</td>\n",
       "      <td>0.075847</td>\n",
       "      <td>0.379048</td>\n",
       "      <td>0</td>\n",
       "      <td>4</td>\n",
       "    </tr>\n",
       "  </tbody>\n",
       "</table>\n",
       "<p>5 rows × 74 columns</p>\n",
       "</div>"
      ],
      "text/plain": [
       "     user_id video_id  age_0  age_1  age_2  age_3  age_4  age_5  age_6  age_7  \\\n",
       "0  4239342.0    28149    0.0    1.0    0.0    0.0    0.0    0.0    0.0    0.0   \n",
       "1  3577036.0      115    0.0    1.0    0.0    0.0    0.0    0.0    0.0    0.0   \n",
       "2  5527504.0     3636    1.0    0.0    0.0    0.0    0.0    0.0    0.0    0.0   \n",
       "3  1117889.0    12968    0.0    0.0    0.0    1.0    0.0    0.0    0.0    0.0   \n",
       "4  1117889.0      860    0.0    0.0    0.0    1.0    0.0    0.0    0.0    0.0   \n",
       "\n",
       "   ...   class_7   class_8   class_9      da_0      da_1      da_2      da_3  \\\n",
       "0  ...  0.037486  0.395894  0.037483  0.075849  0.075966  0.388902  0.383616   \n",
       "1  ...  0.041444  0.041444  0.626961  0.084394  0.361578  0.082888  0.082888   \n",
       "2  ...  0.041779   0.04178  0.041772  0.324848  0.083544  0.083544  0.083544   \n",
       "3  ...  0.034266  0.034261  0.034261   0.50428  0.072258  0.070551  0.069007   \n",
       "4  ...  0.037929  0.037924  0.037924  0.076261   0.39165  0.077193  0.075847   \n",
       "\n",
       "       da_4  is_share  watch_label  \n",
       "0  0.075666         0            2  \n",
       "1  0.388253         0            0  \n",
       "2  0.424519         0            5  \n",
       "3  0.283903         0            0  \n",
       "4  0.379048         0            4  \n",
       "\n",
       "[5 rows x 74 columns]"
      ]
     },
     "execution_count": 31,
     "metadata": {},
     "output_type": "execute_result"
    }
   ],
   "source": [
    "# 删除 video_name 列，调整video_id列的顺序\n",
    "user_video_action.drop(['video_name', 'is_watch'], axis=1, inplace=True)\n",
    "user_video_action.insert(1, 'video_id', user_video_action.pop('video_id'))\n",
    "user_video_action.head()"
   ]
  },
  {
   "cell_type": "code",
   "execution_count": 34,
   "metadata": {},
   "outputs": [],
   "source": [
    "# 保存数据以便下次直接读取\n",
    "np.savez(os.path.join(train_data_dir, \"train\"), data=user_video_action.values, columns=user_video_action.columns.tolist())"
   ]
  },
  {
   "cell_type": "code",
   "execution_count": 161,
   "metadata": {},
   "outputs": [],
   "source": [
    "npz = np.load(os.path.join(train_data_dir, \"train.npz\"), allow_pickle=True)"
   ]
  },
  {
   "cell_type": "code",
   "execution_count": 188,
   "metadata": {},
   "outputs": [
    {
     "data": {
      "text/plain": [
       "dtype('O')"
      ]
     },
     "execution_count": 188,
     "metadata": {},
     "output_type": "execute_result"
    }
   ],
   "source": [
    "npz['data'].dtype"
   ]
  },
  {
   "cell_type": "code",
   "execution_count": 200,
   "metadata": {},
   "outputs": [
    {
     "name": "stdout",
     "output_type": "stream",
     "text": [
      "Data loading costs 176.350s ...\n"
     ]
    },
    {
     "data": {
      "text/plain": [
       "(7308018, 74)"
      ]
     },
     "execution_count": 200,
     "metadata": {},
     "output_type": "execute_result"
    }
   ],
   "source": [
    "t0 = time()\n",
    "user_video_action = pd.DataFrame(npz['data'], columns=npz['columns'], dtype=np.float32)  # 注意加载类型\n",
    "print(f\"Data loading costs {time()-t0:.3f}s ...\")\n",
    "user_video_action.shape, user_video_action.info()"
   ]
  },
  {
   "cell_type": "code",
   "execution_count": 208,
   "metadata": {},
   "outputs": [],
   "source": [
    "# 将 pandas.DataFrame 保存未 .jay 文件\n",
    "tab = dt.Frame(user_video_action)\n",
    "tab.to_jay(os.path.join(train_data_dir, \"train.jay\"))"
   ]
  },
  {
   "cell_type": "code",
   "execution_count": 384,
   "metadata": {},
   "outputs": [],
   "source": [
    "tab = dt.fread(os.path.join(train_data_dir, \"train.jay\"))\n",
    "del tab[:, ['video_id', 'user_id']]"
   ]
  },
  {
   "cell_type": "code",
   "execution_count": 385,
   "metadata": {},
   "outputs": [],
   "source": [
    "user_video_action = tab.to_pandas()"
   ]
  },
  {
   "cell_type": "code",
   "execution_count": null,
   "metadata": {},
   "outputs": [],
   "source": [
    "# 删除 video_id、user_id列\n",
    "user_video_action.drop(['user_id', 'video_id'], axis=1, inplace=True)"
   ]
  },
  {
   "cell_type": "code",
   "execution_count": 387,
   "metadata": {
    "collapsed": true,
    "jupyter": {
     "outputs_hidden": true
    },
    "tags": []
   },
   "outputs": [
    {
     "name": "stdout",
     "output_type": "stream",
     "text": [
      "<class 'pandas.core.frame.DataFrame'>\n",
      "RangeIndex: 7308018 entries, 0 to 7308017\n",
      "Data columns (total 72 columns):\n",
      " #   Column               Dtype  \n",
      "---  ------               -----  \n",
      " 0   age_0                float32\n",
      " 1   age_1                float32\n",
      " 2   age_2                float32\n",
      " 3   age_3                float32\n",
      " 4   age_4                float32\n",
      " 5   age_5                float32\n",
      " 6   age_6                float32\n",
      " 7   age_7                float32\n",
      " 8   gender_0             float32\n",
      " 9   gender_1             float32\n",
      " 10  gender_2             float32\n",
      " 11  gender_3             float32\n",
      " 12  city_level_0         float32\n",
      " 13  city_level_1         float32\n",
      " 14  city_level_2         float32\n",
      " 15  city_level_3         float32\n",
      " 16  city_level_4         float32\n",
      " 17  city_level_5         float32\n",
      " 18  city_level_6         float32\n",
      " 19  city_level_7         float32\n",
      " 20  device_name_0        float32\n",
      " 21  device_name_1        float32\n",
      " 22  device_name_2        float32\n",
      " 23  device_name_3        float32\n",
      " 24  device_name_4        float32\n",
      " 25  device_name_5        float32\n",
      " 26  device_name_6        float32\n",
      " 27  device_name_7        float32\n",
      " 28  device_name_8        float32\n",
      " 29  device_name_9        float32\n",
      " 30  video_score          float32\n",
      " 31  video_duration       float32\n",
      " 32  video_release_year   float32\n",
      " 33  video_release_month  float32\n",
      " 34  video_release_day    float32\n",
      " 35  desc_0               float32\n",
      " 36  desc_1               float32\n",
      " 37  desc_2               float32\n",
      " 38  desc_3               float32\n",
      " 39  desc_4               float32\n",
      " 40  desc_5               float32\n",
      " 41  desc_6               float32\n",
      " 42  desc_7               float32\n",
      " 43  desc_8               float32\n",
      " 44  desc_9               float32\n",
      " 45  tags_0               float32\n",
      " 46  tags_1               float32\n",
      " 47  tags_2               float32\n",
      " 48  tags_3               float32\n",
      " 49  tags_4               float32\n",
      " 50  tags_5               float32\n",
      " 51  tags_6               float32\n",
      " 52  tags_7               float32\n",
      " 53  tags_8               float32\n",
      " 54  tags_9               float32\n",
      " 55  class_0              float32\n",
      " 56  class_1              float32\n",
      " 57  class_2              float32\n",
      " 58  class_3              float32\n",
      " 59  class_4              float32\n",
      " 60  class_5              float32\n",
      " 61  class_6              float32\n",
      " 62  class_7              float32\n",
      " 63  class_8              float32\n",
      " 64  class_9              float32\n",
      " 65  da_0                 float32\n",
      " 66  da_1                 float32\n",
      " 67  da_2                 float32\n",
      " 68  da_3                 float32\n",
      " 69  da_4                 float32\n",
      " 70  is_share             float32\n",
      " 71  watch_label          float32\n",
      "dtypes: float32(72)\n",
      "memory usage: 2.0 GB\n"
     ]
    },
    {
     "data": {
      "text/plain": [
       "((7308018, 72), None)"
      ]
     },
     "execution_count": 387,
     "metadata": {},
     "output_type": "execute_result"
    }
   ],
   "source": [
    "user_video_action.shape, user_video_action.info()"
   ]
  },
  {
   "cell_type": "code",
   "execution_count": 388,
   "metadata": {},
   "outputs": [],
   "source": [
    "dataset = user_video_action"
   ]
  },
  {
   "cell_type": "markdown",
   "metadata": {},
   "source": [
    "## 加载测试数据"
   ]
  },
  {
   "cell_type": "code",
   "execution_count": 146,
   "metadata": {},
   "outputs": [],
   "source": [
    "test_df = pd.read_csv(os.path.join(test_data_dir, \"test.csv\"))"
   ]
  },
  {
   "cell_type": "code",
   "execution_count": 147,
   "metadata": {},
   "outputs": [
    {
     "data": {
      "text/plain": [
       "Index(['user_id', 'video_id'], dtype='object')"
      ]
     },
     "execution_count": 147,
     "metadata": {},
     "output_type": "execute_result"
    }
   ],
   "source": [
    "test_df.columns"
   ]
  },
  {
   "cell_type": "code",
   "execution_count": 90,
   "metadata": {},
   "outputs": [
    {
     "data": {
      "text/plain": [
       "Int64Index([   15,   144,   428,   497,   876,  1174,  1589,  1906,  2127,\n",
       "             2199,\n",
       "            ...\n",
       "            47945, 48069, 48269, 48343, 48626, 49241, 49404, 49419, 49793,\n",
       "            50337],\n",
       "           dtype='int64', length=276)"
      ]
     },
     "execution_count": 90,
     "metadata": {},
     "output_type": "execute_result"
    }
   ],
   "source": [
    "# 测试数据集中存在video_id没有在视频特征中出现\n",
    "idx1 = pd.Index(test_df['video_id'].unique())\n",
    "idx2 = pd.Index(video_df['video_id'].unique())\n",
    "non_exists = idx1.difference(idx2)\n",
    "non_exists"
   ]
  },
  {
   "cell_type": "code",
   "execution_count": 265,
   "metadata": {},
   "outputs": [],
   "source": [
    "video_test = video_df.merge(test_df, how='right', left_on='video_id', right_on='video_id')\n",
    "user_video_test = user_df.merge(video_test, how='right', left_on='user_id', right_on='user_id')"
   ]
  },
  {
   "cell_type": "code",
   "execution_count": 266,
   "metadata": {},
   "outputs": [
    {
     "data": {
      "text/plain": [
       "(2822180, 75)"
      ]
     },
     "execution_count": 266,
     "metadata": {},
     "output_type": "execute_result"
    }
   ],
   "source": [
    "user_video_test.insert(1, 'video_id', user_video_test.pop('video_id'))"
   ]
  },
  {
   "cell_type": "code",
   "execution_count": 270,
   "metadata": {},
   "outputs": [],
   "source": [
    "user_video_test.drop('video_name', axis=1, inplace=True)"
   ]
  },
  {
   "cell_type": "code",
   "execution_count": 96,
   "metadata": {},
   "outputs": [],
   "source": [
    "# 保存数据以便下次直接读取\n",
    "np.savez(os.path.join(test_data_dir, \"test\"), data=user_video_test.values, columns=user_video_test.columns.tolist())"
   ]
  },
  {
   "cell_type": "code",
   "execution_count": 233,
   "metadata": {},
   "outputs": [],
   "source": [
    "npz = np.load(os.path.join(test_data_dir, \"test.npz\"), allow_pickle=True)"
   ]
  },
  {
   "cell_type": "code",
   "execution_count": null,
   "metadata": {},
   "outputs": [],
   "source": [
    "npz['data'].shape"
   ]
  },
  {
   "cell_type": "code",
   "execution_count": 235,
   "metadata": {
    "collapsed": true,
    "jupyter": {
     "outputs_hidden": true
    },
    "tags": []
   },
   "outputs": [
    {
     "name": "stdout",
     "output_type": "stream",
     "text": [
      "Data loading costs 61.867s ...\n",
      "<class 'pandas.core.frame.DataFrame'>\n",
      "RangeIndex: 2822180 entries, 0 to 2822179\n",
      "Data columns (total 73 columns):\n",
      " #   Column               Dtype \n",
      "---  ------               ----- \n",
      " 0   user_id              object\n",
      " 1   video_id             object\n",
      " 2   age_0                object\n",
      " 3   age_1                object\n",
      " 4   age_2                object\n",
      " 5   age_3                object\n",
      " 6   age_4                object\n",
      " 7   age_5                object\n",
      " 8   age_6                object\n",
      " 9   age_7                object\n",
      " 10  gender_0             object\n",
      " 11  gender_1             object\n",
      " 12  gender_2             object\n",
      " 13  gender_3             object\n",
      " 14  city_level_0         object\n",
      " 15  city_level_1         object\n",
      " 16  city_level_2         object\n",
      " 17  city_level_3         object\n",
      " 18  city_level_4         object\n",
      " 19  city_level_5         object\n",
      " 20  city_level_6         object\n",
      " 21  city_level_7         object\n",
      " 22  device_name_0        object\n",
      " 23  device_name_1        object\n",
      " 24  device_name_2        object\n",
      " 25  device_name_3        object\n",
      " 26  device_name_4        object\n",
      " 27  device_name_5        object\n",
      " 28  device_name_6        object\n",
      " 29  device_name_7        object\n",
      " 30  device_name_8        object\n",
      " 31  device_name_9        object\n",
      " 32  video_name           object\n",
      " 33  video_score          object\n",
      " 34  video_duration       object\n",
      " 35  video_release_year   object\n",
      " 36  video_release_month  object\n",
      " 37  video_release_day    object\n",
      " 38  desc_0               object\n",
      " 39  desc_1               object\n",
      " 40  desc_2               object\n",
      " 41  desc_3               object\n",
      " 42  desc_4               object\n",
      " 43  desc_5               object\n",
      " 44  desc_6               object\n",
      " 45  desc_7               object\n",
      " 46  desc_8               object\n",
      " 47  desc_9               object\n",
      " 48  tags_0               object\n",
      " 49  tags_1               object\n",
      " 50  tags_2               object\n",
      " 51  tags_3               object\n",
      " 52  tags_4               object\n",
      " 53  tags_5               object\n",
      " 54  tags_6               object\n",
      " 55  tags_7               object\n",
      " 56  tags_8               object\n",
      " 57  tags_9               object\n",
      " 58  class_0              object\n",
      " 59  class_1              object\n",
      " 60  class_2              object\n",
      " 61  class_3              object\n",
      " 62  class_4              object\n",
      " 63  class_5              object\n",
      " 64  class_6              object\n",
      " 65  class_7              object\n",
      " 66  class_8              object\n",
      " 67  class_9              object\n",
      " 68  da_0                 object\n",
      " 69  da_1                 object\n",
      " 70  da_2                 object\n",
      " 71  da_3                 object\n",
      " 72  da_4                 object\n",
      "dtypes: object(73)\n",
      "memory usage: 1.5+ GB\n"
     ]
    },
    {
     "data": {
      "text/plain": [
       "((2822180, 73), None)"
      ]
     },
     "execution_count": 235,
     "metadata": {},
     "output_type": "execute_result"
    }
   ],
   "source": [
    "t0 = time()\n",
    "user_video_test = pd.DataFrame(npz['data'], columns=npz['columns'])\n",
    "print(f\"Data loading costs {time()-t0:.3f}s ...\")\n",
    "user_video_test.shape, user_video_test.info()"
   ]
  },
  {
   "cell_type": "code",
   "execution_count": 245,
   "metadata": {},
   "outputs": [],
   "source": [
    "user_video_test.drop('video_name', axis=1, inplace=True)\n",
    "user_video_test = user_video_test.astype(np.float32)"
   ]
  },
  {
   "cell_type": "code",
   "execution_count": 246,
   "metadata": {},
   "outputs": [],
   "source": [
    "# 将 pandas.DataFrame 保存未 .jay 文件\n",
    "tab = dt.Frame(user_video_test)\n",
    "tab.to_jay(os.path.join(test_data_dir, \"test.jay\"))"
   ]
  },
  {
   "cell_type": "code",
   "execution_count": 248,
   "metadata": {},
   "outputs": [],
   "source": [
    "tab = dt.fread(os.path.join(test_data_dir, \"test.jay\"))\n",
    "del tab[:, ['user_id', 'video_id']]"
   ]
  },
  {
   "cell_type": "code",
   "execution_count": 380,
   "metadata": {
    "collapsed": true,
    "jupyter": {
     "outputs_hidden": true
    },
    "tags": []
   },
   "outputs": [
    {
     "name": "stdout",
     "output_type": "stream",
     "text": [
      "<class 'pandas.core.frame.DataFrame'>\n",
      "RangeIndex: 2822180 entries, 0 to 2822179\n",
      "Data columns (total 70 columns):\n",
      " #   Column               Dtype  \n",
      "---  ------               -----  \n",
      " 0   age_0                float32\n",
      " 1   age_1                float32\n",
      " 2   age_2                float32\n",
      " 3   age_3                float32\n",
      " 4   age_4                float32\n",
      " 5   age_5                float32\n",
      " 6   age_6                float32\n",
      " 7   age_7                float32\n",
      " 8   gender_0             float32\n",
      " 9   gender_1             float32\n",
      " 10  gender_2             float32\n",
      " 11  gender_3             float32\n",
      " 12  city_level_0         float32\n",
      " 13  city_level_1         float32\n",
      " 14  city_level_2         float32\n",
      " 15  city_level_3         float32\n",
      " 16  city_level_4         float32\n",
      " 17  city_level_5         float32\n",
      " 18  city_level_6         float32\n",
      " 19  city_level_7         float32\n",
      " 20  device_name_0        float32\n",
      " 21  device_name_1        float32\n",
      " 22  device_name_2        float32\n",
      " 23  device_name_3        float32\n",
      " 24  device_name_4        float32\n",
      " 25  device_name_5        float32\n",
      " 26  device_name_6        float32\n",
      " 27  device_name_7        float32\n",
      " 28  device_name_8        float32\n",
      " 29  device_name_9        float32\n",
      " 30  video_score          float32\n",
      " 31  video_duration       float32\n",
      " 32  video_release_year   float32\n",
      " 33  video_release_month  float32\n",
      " 34  video_release_day    float32\n",
      " 35  desc_0               float32\n",
      " 36  desc_1               float32\n",
      " 37  desc_2               float32\n",
      " 38  desc_3               float32\n",
      " 39  desc_4               float32\n",
      " 40  desc_5               float32\n",
      " 41  desc_6               float32\n",
      " 42  desc_7               float32\n",
      " 43  desc_8               float32\n",
      " 44  desc_9               float32\n",
      " 45  tags_0               float32\n",
      " 46  tags_1               float32\n",
      " 47  tags_2               float32\n",
      " 48  tags_3               float32\n",
      " 49  tags_4               float32\n",
      " 50  tags_5               float32\n",
      " 51  tags_6               float32\n",
      " 52  tags_7               float32\n",
      " 53  tags_8               float32\n",
      " 54  tags_9               float32\n",
      " 55  class_0              float32\n",
      " 56  class_1              float32\n",
      " 57  class_2              float32\n",
      " 58  class_3              float32\n",
      " 59  class_4              float32\n",
      " 60  class_5              float32\n",
      " 61  class_6              float32\n",
      " 62  class_7              float32\n",
      " 63  class_8              float32\n",
      " 64  class_9              float32\n",
      " 65  da_0                 float32\n",
      " 66  da_1                 float32\n",
      " 67  da_2                 float32\n",
      " 68  da_3                 float32\n",
      " 69  da_4                 float32\n",
      "dtypes: float32(70)\n",
      "memory usage: 753.6 MB\n"
     ]
    }
   ],
   "source": [
    "user_video_test = tab.to_pandas()\n",
    "user_video_test.info()"
   ]
  },
  {
   "cell_type": "code",
   "execution_count": 138,
   "metadata": {},
   "outputs": [],
   "source": [
    "# 删除 video_id、user_id 列\n",
    "user_video_test.drop(['user_id', 'video_id'], axis=1, inplace=True)"
   ]
  },
  {
   "cell_type": "code",
   "execution_count": 251,
   "metadata": {},
   "outputs": [],
   "source": [
    "inference_dataset = user_video_test"
   ]
  },
  {
   "cell_type": "code",
   "execution_count": 252,
   "metadata": {},
   "outputs": [
    {
     "data": {
      "text/plain": [
       "(2822180, 70)"
      ]
     },
     "execution_count": 252,
     "metadata": {},
     "output_type": "execute_result"
    }
   ],
   "source": [
    "inference_dataset.shape"
   ]
  },
  {
   "cell_type": "markdown",
   "metadata": {},
   "source": [
    "# XGBoost"
   ]
  },
  {
   "cell_type": "code",
   "execution_count": null,
   "metadata": {
    "jupyter": {
     "source_hidden": true
    },
    "tags": []
   },
   "outputs": [],
   "source": [
    "def train_xgb(X_train, y_train, params):\n",
    "    xg_train = xgb.DMatrix(X_train.values, label=y_train.values, enable_categorical=True)\n",
    "    xg_test = xgb.DMatrix(X_test.values, label=y_test.values, enable_categorical=True)\n",
    "    \n",
    "    watchlist = [(xg_train, 'train'), (xg_test, 'test')]\n",
    "    num_round = 5\n",
    "    # train xgb\n",
    "    bst = xgb.train(_param, xg_train, num_round, watchlist)\n",
    "    # get prediction\n",
    "    pred = bst.predict(xg_test)\n",
    "    error_rate = np.sum(pred != y_test) / test_y.shape[0]\n",
    "    print('Test error using softmax = {}'.format(error_rate))\n",
    "\n",
    "    # do the same thing again, but output probabilities\n",
    "    param['objective'] = 'multi:softprob'\n",
    "    bst = xgb.train(param, xg_train, num_round, watchlist)\n",
    "    # Note: this convention has been changed since xgboost-unity\n",
    "    # get prediction, this is in 1D array, need reshape to (ndata, nclass)\n",
    "    pred_prob = bst.predict(xg_test).reshape(y_test.shape[0], 6)\n",
    "    pred_label = np.argmax(pred_prob, axis=1)\n",
    "    error_rate = np.sum(pred_label != y_test) / y_test.shape[0]\n",
    "    print('Test error using softprob = {}'.format(error_rate))\n"
   ]
  },
  {
   "cell_type": "code",
   "execution_count": 389,
   "metadata": {},
   "outputs": [],
   "source": [
    "# 准备数据\n",
    "watch_label = dataset.pop('watch_label').astype(np.uint8)\n",
    "is_share = dataset.pop('is_share').astype(np.uint8)"
   ]
  },
  {
   "cell_type": "code",
   "execution_count": null,
   "metadata": {},
   "outputs": [],
   "source": [
    "train_idx, test_idx = train_test_split(dataset.index, test_size=0.2, random_state=0)"
   ]
  },
  {
   "cell_type": "code",
   "execution_count": 281,
   "metadata": {},
   "outputs": [],
   "source": [
    "X_train = dataset.iloc[train_idx]\n",
    "X_test  = dataset.iloc[test_idx]"
   ]
  },
  {
   "cell_type": "code",
   "execution_count": 283,
   "metadata": {},
   "outputs": [
    {
     "data": {
      "text/plain": [
       "(5846414, 70)"
      ]
     },
     "execution_count": 283,
     "metadata": {},
     "output_type": "execute_result"
    }
   ],
   "source": [
    "X_train.shape"
   ]
  },
  {
   "cell_type": "markdown",
   "metadata": {},
   "source": [
    "## watch_label 预测"
   ]
  },
  {
   "cell_type": "markdown",
   "metadata": {},
   "source": [
    "### 处理数据不均衡问题"
   ]
  },
  {
   "cell_type": "code",
   "execution_count": 440,
   "metadata": {},
   "outputs": [
    {
     "name": "stdout",
     "output_type": "stream",
     "text": [
      "[(0, 5146219), (1, 554320), (2, 312266), (3, 217820), (4, 171292), (5, 142012), (6, 124245), (7, 116928), (8, 137834), (9, 385082)]\n",
      "[[0.         0.70418806]\n",
      " [1.         0.07585094]\n",
      " [2.         0.04272923]\n",
      " [3.         0.02980562]\n",
      " [4.         0.02343891]\n",
      " [5.         0.01943235]\n",
      " [6.         0.01700119]\n",
      " [7.         0.01599996]\n",
      " [8.         0.01886065]\n",
      " [9.         0.05269308]]\n"
     ]
    }
   ],
   "source": [
    "items = list(Counter(watch_label).items())\n",
    "items.sort(key=lambda x: x[0])\n",
    "print(items)\n",
    "\n",
    "dist = np.array(items, dtype=np.float)\n",
    "dist[:, 1] = dist[:, 1] / watch_label.shape[0]\n",
    "print(dist)"
   ]
  },
  {
   "cell_type": "code",
   "execution_count": 441,
   "metadata": {},
   "outputs": [],
   "source": [
    "under_ss = np.array(items)\n",
    "under_ss_thresh = under_ss[9, 1]  # 设置每个类别样本数目的上限\n",
    "under_ss[:, 1] = np.clip(under_ss[:, 1], a_min=None, a_max=under_ss_thresh)\n",
    "\n",
    "over_ss = under_ss.copy()\n",
    "over_ss_thresh = under_ss[2, 1]  # 设置每个类别样本数据的下限\n",
    "over_ss[:, 1] = np.clip(over_ss[:, 1], a_min=over_ss_thresh, a_max=None)\n",
    "\n",
    "under_ss = dict(under_ss)\n",
    "over_ss = dict(over_ss)"
   ]
  },
  {
   "cell_type": "code",
   "execution_count": 442,
   "metadata": {
    "tags": []
   },
   "outputs": [
    {
     "data": {
      "text/plain": [
       "({0: 385082,\n",
       "  1: 385082,\n",
       "  2: 312266,\n",
       "  3: 217820,\n",
       "  4: 171292,\n",
       "  5: 142012,\n",
       "  6: 124245,\n",
       "  7: 116928,\n",
       "  8: 137834,\n",
       "  9: 385082},\n",
       " {0: 385082,\n",
       "  1: 385082,\n",
       "  2: 312266,\n",
       "  3: 312266,\n",
       "  4: 312266,\n",
       "  5: 312266,\n",
       "  6: 312266,\n",
       "  7: 312266,\n",
       "  8: 312266,\n",
       "  9: 385082})"
      ]
     },
     "execution_count": 442,
     "metadata": {},
     "output_type": "execute_result"
    }
   ],
   "source": [
    "under_ss, over_ss"
   ]
  },
  {
   "cell_type": "code",
   "execution_count": 443,
   "metadata": {},
   "outputs": [
    {
     "data": {
      "text/plain": [
       "(5146219,)"
      ]
     },
     "execution_count": 443,
     "metadata": {},
     "output_type": "execute_result"
    }
   ],
   "source": [
    "idxs = watch_label == 0\n",
    "idxs = idxs.replace(False, np.nan).dropna().index  # 保留watch_label=0的行索引\n",
    "idxs.shape"
   ]
  },
  {
   "cell_type": "code",
   "execution_count": 444,
   "metadata": {},
   "outputs": [
    {
     "data": {
      "text/plain": [
       "((4761137,), (385082,))"
      ]
     },
     "execution_count": 444,
     "metadata": {},
     "output_type": "execute_result"
    }
   ],
   "source": [
    "left_idxs = np.random.choice(idxs, under_ss_thresh, replace=False)  # 选择一部分保留，注意replace参数，为True时会重复采样\n",
    "del_idxs = idxs.difference(left_idxs)\n",
    "del_idxs.shape, left_idxs.shape"
   ]
  },
  {
   "cell_type": "code",
   "execution_count": 445,
   "metadata": {},
   "outputs": [
    {
     "data": {
      "text/plain": [
       "Counter({2: 312266,\n",
       "         0: 5146219,\n",
       "         5: 142012,\n",
       "         4: 171292,\n",
       "         1: 554320,\n",
       "         9: 385082,\n",
       "         3: 217820,\n",
       "         8: 137834,\n",
       "         7: 116928,\n",
       "         6: 124245})"
      ]
     },
     "execution_count": 445,
     "metadata": {},
     "output_type": "execute_result"
    }
   ],
   "source": [
    "Counter(watch_label)"
   ]
  },
  {
   "cell_type": "code",
   "execution_count": 446,
   "metadata": {},
   "outputs": [
    {
     "data": {
      "text/plain": [
       "((2546881, 70), (2546881,))"
      ]
     },
     "execution_count": 446,
     "metadata": {},
     "output_type": "execute_result"
    }
   ],
   "source": [
    "resampled_data = np.delete(dataset.values, del_idxs, axis=0)\n",
    "resampled_wl = np.delete(watch_label.values, del_idxs, axis=0)\n",
    "resampled_data.shape, resampled_wl.shape"
   ]
  },
  {
   "cell_type": "code",
   "execution_count": 447,
   "metadata": {},
   "outputs": [
    {
     "data": {
      "text/plain": [
       "Counter({2: 312266,\n",
       "         5: 142012,\n",
       "         4: 171292,\n",
       "         1: 554320,\n",
       "         9: 385082,\n",
       "         3: 217820,\n",
       "         0: 385082,\n",
       "         8: 137834,\n",
       "         7: 116928,\n",
       "         6: 124245})"
      ]
     },
     "execution_count": 447,
     "metadata": {},
     "output_type": "execute_result"
    }
   ],
   "source": [
    "Counter(resampled_wl)"
   ]
  },
  {
   "cell_type": "code",
   "execution_count": 273,
   "metadata": {},
   "outputs": [],
   "source": [
    "# 速度太慢，难以忍受！\n",
    "nm  = TomekLinks(sampling_strategy=under_ss)\n",
    "smt = SMOTE(sampling_strategy=over_ss)"
   ]
  },
  {
   "cell_type": "code",
   "execution_count": null,
   "metadata": {},
   "outputs": [],
   "source": [
    "t0 = time()\n",
    "X_r, y_r = nm.fit_resample(resampled_data, pd.Series(resampled_wl))\n",
    "print(f\"Under Sampling finished ...\\t\\t({time()-t0:.3f}s)\")"
   ]
  },
  {
   "cell_type": "code",
   "execution_count": null,
   "metadata": {},
   "outputs": [],
   "source": [
    "X_r, y_r = smt.fit_resample(X_r, y_r)"
   ]
  },
  {
   "cell_type": "code",
   "execution_count": 448,
   "metadata": {},
   "outputs": [
    {
     "data": {
      "text/plain": [
       "((2546881, 70), (7308018,))"
      ]
     },
     "execution_count": 448,
     "metadata": {},
     "output_type": "execute_result"
    }
   ],
   "source": [
    "# 将采样后的数据重装回 DataFrame\n",
    "data = pd.DataFrame(resampled_data, columns=dataset.columns)\n",
    "watch_label_res = pd.Series(resampled_wl)\n",
    "data.shape, watch_label.shape"
   ]
  },
  {
   "cell_type": "code",
   "execution_count": 449,
   "metadata": {},
   "outputs": [
    {
     "data": {
      "text/plain": [
       "((2037504,), (509377,))"
      ]
     },
     "execution_count": 449,
     "metadata": {},
     "output_type": "execute_result"
    }
   ],
   "source": [
    "train_idx, test_idx = train_test_split(data.index, test_size=0.2, random_state=0)\n",
    "train_idx.shape, test_idx.shape"
   ]
  },
  {
   "cell_type": "markdown",
   "metadata": {},
   "source": [
    "### 训练模型"
   ]
  },
  {
   "cell_type": "code",
   "execution_count": 450,
   "metadata": {},
   "outputs": [],
   "source": [
    "X_train = data.iloc[train_idx]\n",
    "X_test  = data.iloc[test_idx]"
   ]
  },
  {
   "cell_type": "code",
   "execution_count": 451,
   "metadata": {},
   "outputs": [],
   "source": [
    "y_train = watch_label_res.iloc[train_idx]\n",
    "y_test  = watch_label_res.iloc[test_idx]"
   ]
  },
  {
   "cell_type": "code",
   "execution_count": 452,
   "metadata": {},
   "outputs": [
    {
     "data": {
      "text/plain": [
       "((2037504, 70), (2037504,), (509377, 70), (509377,))"
      ]
     },
     "execution_count": 452,
     "metadata": {},
     "output_type": "execute_result"
    }
   ],
   "source": [
    "X_train.shape, y_train.shape, X_test.shape, y_test.shape"
   ]
  },
  {
   "cell_type": "code",
   "execution_count": 453,
   "metadata": {},
   "outputs": [
    {
     "name": "stdout",
     "output_type": "stream",
     "text": [
      "Data preparing finished ...\t\t(1.798s)\n"
     ]
    }
   ],
   "source": [
    "t0 = time()\n",
    "xg_train = xgb.DMatrix(X_train.values, label=y_train.values, enable_categorical=True)\n",
    "xg_test = xgb.DMatrix(X_test.values, label=y_test.values, enable_categorical=True)\n",
    "print(f\"Data preparing finished ...\\t\\t({time()-t0:.3f}s)\")"
   ]
  },
  {
   "cell_type": "code",
   "execution_count": 454,
   "metadata": {},
   "outputs": [],
   "source": [
    "# setup parameters for xgboost\n",
    "param = {}\n",
    "# use softmax multi-class classification\n",
    "param['objective'] = 'multi:softmax'\n",
    "# scale weight of positive examples\n",
    "param['eta'] = 0.1\n",
    "param['max_depth'] = 8\n",
    "param['nthread'] = 8\n",
    "param['num_class'] = 10\n",
    "param['gpu_id'] = 0\n",
    "param['tree_method'] = 'gpu_hist'\n",
    "# param['scale_pos_weight'] = 2\n",
    "watchlist = [(xg_train, 'train'), (xg_test, 'test')]"
   ]
  },
  {
   "cell_type": "code",
   "execution_count": 455,
   "metadata": {
    "collapsed": true,
    "jupyter": {
     "outputs_hidden": true
    },
    "tags": []
   },
   "outputs": [
    {
     "name": "stdout",
     "output_type": "stream",
     "text": [
      "[17:57:57] WARNING: ../src/learner.cc:1095: Starting in XGBoost 1.3.0, the default evaluation metric used with the objective 'multi:softmax' was changed from 'merror' to 'mlogloss'. Explicitly set eval_metric if you'd like to restore the old behavior.\n",
      "[0]\ttrain-mlogloss:2.27475\ttest-mlogloss:2.27492\n",
      "[1]\ttrain-mlogloss:2.25202\ttest-mlogloss:2.25229\n",
      "[2]\ttrain-mlogloss:2.23241\ttest-mlogloss:2.23282\n",
      "[3]\ttrain-mlogloss:2.21584\ttest-mlogloss:2.21638\n",
      "[4]\ttrain-mlogloss:2.20143\ttest-mlogloss:2.20211\n",
      "[5]\ttrain-mlogloss:2.18868\ttest-mlogloss:2.18952\n",
      "[6]\ttrain-mlogloss:2.17747\ttest-mlogloss:2.17848\n",
      "[7]\ttrain-mlogloss:2.16754\ttest-mlogloss:2.16868\n",
      "[8]\ttrain-mlogloss:2.15873\ttest-mlogloss:2.16002\n",
      "[9]\ttrain-mlogloss:2.15075\ttest-mlogloss:2.15222\n",
      "[10]\ttrain-mlogloss:2.14374\ttest-mlogloss:2.14535\n",
      "[11]\ttrain-mlogloss:2.13735\ttest-mlogloss:2.13912\n",
      "[12]\ttrain-mlogloss:2.13172\ttest-mlogloss:2.13366\n",
      "[13]\ttrain-mlogloss:2.12663\ttest-mlogloss:2.12874\n",
      "[14]\ttrain-mlogloss:2.12199\ttest-mlogloss:2.12429\n",
      "[15]\ttrain-mlogloss:2.11789\ttest-mlogloss:2.12036\n",
      "[16]\ttrain-mlogloss:2.11397\ttest-mlogloss:2.11662\n",
      "[17]\ttrain-mlogloss:2.11039\ttest-mlogloss:2.11324\n",
      "[18]\ttrain-mlogloss:2.10729\ttest-mlogloss:2.11032\n",
      "[19]\ttrain-mlogloss:2.10433\ttest-mlogloss:2.10756\n",
      "[20]\ttrain-mlogloss:2.10167\ttest-mlogloss:2.10509\n",
      "[21]\ttrain-mlogloss:2.09936\ttest-mlogloss:2.10296\n",
      "[22]\ttrain-mlogloss:2.09707\ttest-mlogloss:2.10087\n",
      "[23]\ttrain-mlogloss:2.09493\ttest-mlogloss:2.09893\n",
      "[24]\ttrain-mlogloss:2.09302\ttest-mlogloss:2.09723\n",
      "[25]\ttrain-mlogloss:2.09130\ttest-mlogloss:2.09572\n",
      "[26]\ttrain-mlogloss:2.08969\ttest-mlogloss:2.09429\n",
      "[27]\ttrain-mlogloss:2.08818\ttest-mlogloss:2.09298\n",
      "[28]\ttrain-mlogloss:2.08676\ttest-mlogloss:2.09178\n",
      "[29]\ttrain-mlogloss:2.08553\ttest-mlogloss:2.09075\n",
      "[30]\ttrain-mlogloss:2.08435\ttest-mlogloss:2.08977\n",
      "[31]\ttrain-mlogloss:2.08315\ttest-mlogloss:2.08878\n",
      "[32]\ttrain-mlogloss:2.08215\ttest-mlogloss:2.08799\n",
      "[33]\ttrain-mlogloss:2.08116\ttest-mlogloss:2.08722\n",
      "[34]\ttrain-mlogloss:2.08028\ttest-mlogloss:2.08656\n",
      "[35]\ttrain-mlogloss:2.07943\ttest-mlogloss:2.08594\n",
      "[36]\ttrain-mlogloss:2.07863\ttest-mlogloss:2.08535\n",
      "[37]\ttrain-mlogloss:2.07794\ttest-mlogloss:2.08488\n",
      "[38]\ttrain-mlogloss:2.07717\ttest-mlogloss:2.08431\n",
      "[39]\ttrain-mlogloss:2.07653\ttest-mlogloss:2.08391\n",
      "[40]\ttrain-mlogloss:2.07587\ttest-mlogloss:2.08347\n",
      "[41]\ttrain-mlogloss:2.07517\ttest-mlogloss:2.08300\n",
      "[42]\ttrain-mlogloss:2.07462\ttest-mlogloss:2.08269\n",
      "[43]\ttrain-mlogloss:2.07409\ttest-mlogloss:2.08236\n",
      "[44]\ttrain-mlogloss:2.07355\ttest-mlogloss:2.08207\n",
      "[45]\ttrain-mlogloss:2.07302\ttest-mlogloss:2.08177\n",
      "[46]\ttrain-mlogloss:2.07254\ttest-mlogloss:2.08150\n",
      "[47]\ttrain-mlogloss:2.07208\ttest-mlogloss:2.08125\n",
      "[48]\ttrain-mlogloss:2.07162\ttest-mlogloss:2.08102\n",
      "[49]\ttrain-mlogloss:2.07116\ttest-mlogloss:2.08079\n",
      "[50]\ttrain-mlogloss:2.07067\ttest-mlogloss:2.08051\n",
      "[51]\ttrain-mlogloss:2.07025\ttest-mlogloss:2.08033\n",
      "[52]\ttrain-mlogloss:2.06984\ttest-mlogloss:2.08014\n",
      "[53]\ttrain-mlogloss:2.06944\ttest-mlogloss:2.07996\n",
      "[54]\ttrain-mlogloss:2.06902\ttest-mlogloss:2.07977\n",
      "[55]\ttrain-mlogloss:2.06863\ttest-mlogloss:2.07961\n",
      "[56]\ttrain-mlogloss:2.06821\ttest-mlogloss:2.07943\n",
      "[57]\ttrain-mlogloss:2.06783\ttest-mlogloss:2.07927\n",
      "[58]\ttrain-mlogloss:2.06745\ttest-mlogloss:2.07910\n",
      "[59]\ttrain-mlogloss:2.06712\ttest-mlogloss:2.07897\n",
      "[60]\ttrain-mlogloss:2.06672\ttest-mlogloss:2.07879\n",
      "[61]\ttrain-mlogloss:2.06632\ttest-mlogloss:2.07861\n",
      "[62]\ttrain-mlogloss:2.06597\ttest-mlogloss:2.07847\n",
      "[63]\ttrain-mlogloss:2.06561\ttest-mlogloss:2.07834\n",
      "[64]\ttrain-mlogloss:2.06519\ttest-mlogloss:2.07816\n",
      "[65]\ttrain-mlogloss:2.06482\ttest-mlogloss:2.07804\n",
      "[66]\ttrain-mlogloss:2.06447\ttest-mlogloss:2.07792\n",
      "[67]\ttrain-mlogloss:2.06413\ttest-mlogloss:2.07779\n",
      "[68]\ttrain-mlogloss:2.06380\ttest-mlogloss:2.07768\n",
      "[69]\ttrain-mlogloss:2.06349\ttest-mlogloss:2.07759\n",
      "[70]\ttrain-mlogloss:2.06314\ttest-mlogloss:2.07745\n",
      "[71]\ttrain-mlogloss:2.06278\ttest-mlogloss:2.07730\n",
      "[72]\ttrain-mlogloss:2.06246\ttest-mlogloss:2.07719\n",
      "[73]\ttrain-mlogloss:2.06217\ttest-mlogloss:2.07710\n",
      "[74]\ttrain-mlogloss:2.06188\ttest-mlogloss:2.07701\n",
      "[75]\ttrain-mlogloss:2.06163\ttest-mlogloss:2.07693\n",
      "[76]\ttrain-mlogloss:2.06125\ttest-mlogloss:2.07677\n",
      "[77]\ttrain-mlogloss:2.06099\ttest-mlogloss:2.07671\n",
      "[78]\ttrain-mlogloss:2.06073\ttest-mlogloss:2.07665\n",
      "[79]\ttrain-mlogloss:2.06040\ttest-mlogloss:2.07650\n",
      "[80]\ttrain-mlogloss:2.06012\ttest-mlogloss:2.07640\n",
      "[81]\ttrain-mlogloss:2.05982\ttest-mlogloss:2.07631\n",
      "[82]\ttrain-mlogloss:2.05954\ttest-mlogloss:2.07622\n",
      "[83]\ttrain-mlogloss:2.05924\ttest-mlogloss:2.07608\n",
      "[84]\ttrain-mlogloss:2.05895\ttest-mlogloss:2.07598\n",
      "[85]\ttrain-mlogloss:2.05870\ttest-mlogloss:2.07592\n",
      "[86]\ttrain-mlogloss:2.05841\ttest-mlogloss:2.07581\n",
      "[87]\ttrain-mlogloss:2.05819\ttest-mlogloss:2.07575\n",
      "[88]\ttrain-mlogloss:2.05791\ttest-mlogloss:2.07566\n",
      "[89]\ttrain-mlogloss:2.05766\ttest-mlogloss:2.07558\n",
      "[90]\ttrain-mlogloss:2.05742\ttest-mlogloss:2.07553\n",
      "[91]\ttrain-mlogloss:2.05714\ttest-mlogloss:2.07543\n",
      "[92]\ttrain-mlogloss:2.05687\ttest-mlogloss:2.07532\n",
      "[93]\ttrain-mlogloss:2.05658\ttest-mlogloss:2.07523\n",
      "[94]\ttrain-mlogloss:2.05634\ttest-mlogloss:2.07518\n",
      "[95]\ttrain-mlogloss:2.05612\ttest-mlogloss:2.07510\n",
      "[96]\ttrain-mlogloss:2.05587\ttest-mlogloss:2.07506\n",
      "[97]\ttrain-mlogloss:2.05565\ttest-mlogloss:2.07500\n",
      "[98]\ttrain-mlogloss:2.05542\ttest-mlogloss:2.07495\n",
      "[99]\ttrain-mlogloss:2.05520\ttest-mlogloss:2.07489\n",
      "[100]\ttrain-mlogloss:2.05489\ttest-mlogloss:2.07478\n",
      "[101]\ttrain-mlogloss:2.05461\ttest-mlogloss:2.07468\n",
      "[102]\ttrain-mlogloss:2.05432\ttest-mlogloss:2.07459\n",
      "[103]\ttrain-mlogloss:2.05411\ttest-mlogloss:2.07453\n",
      "[104]\ttrain-mlogloss:2.05397\ttest-mlogloss:2.07451\n",
      "[105]\ttrain-mlogloss:2.05371\ttest-mlogloss:2.07443\n",
      "[106]\ttrain-mlogloss:2.05341\ttest-mlogloss:2.07432\n",
      "[107]\ttrain-mlogloss:2.05317\ttest-mlogloss:2.07423\n",
      "[108]\ttrain-mlogloss:2.05295\ttest-mlogloss:2.07418\n",
      "[109]\ttrain-mlogloss:2.05277\ttest-mlogloss:2.07414\n",
      "[110]\ttrain-mlogloss:2.05256\ttest-mlogloss:2.07409\n",
      "[111]\ttrain-mlogloss:2.05237\ttest-mlogloss:2.07405\n",
      "[112]\ttrain-mlogloss:2.05217\ttest-mlogloss:2.07401\n",
      "[113]\ttrain-mlogloss:2.05196\ttest-mlogloss:2.07396\n",
      "[114]\ttrain-mlogloss:2.05171\ttest-mlogloss:2.07389\n",
      "[115]\ttrain-mlogloss:2.05150\ttest-mlogloss:2.07385\n",
      "[116]\ttrain-mlogloss:2.05125\ttest-mlogloss:2.07378\n",
      "[117]\ttrain-mlogloss:2.05109\ttest-mlogloss:2.07376\n",
      "[118]\ttrain-mlogloss:2.05088\ttest-mlogloss:2.07371\n",
      "[119]\ttrain-mlogloss:2.05064\ttest-mlogloss:2.07366\n",
      "[120]\ttrain-mlogloss:2.05043\ttest-mlogloss:2.07363\n",
      "[121]\ttrain-mlogloss:2.05023\ttest-mlogloss:2.07357\n",
      "[122]\ttrain-mlogloss:2.05001\ttest-mlogloss:2.07353\n",
      "[123]\ttrain-mlogloss:2.04978\ttest-mlogloss:2.07346\n",
      "[124]\ttrain-mlogloss:2.04959\ttest-mlogloss:2.07342\n",
      "[125]\ttrain-mlogloss:2.04938\ttest-mlogloss:2.07335\n",
      "[126]\ttrain-mlogloss:2.04920\ttest-mlogloss:2.07332\n",
      "[127]\ttrain-mlogloss:2.04901\ttest-mlogloss:2.07326\n",
      "[128]\ttrain-mlogloss:2.04881\ttest-mlogloss:2.07322\n",
      "[129]\ttrain-mlogloss:2.04865\ttest-mlogloss:2.07320\n",
      "[130]\ttrain-mlogloss:2.04850\ttest-mlogloss:2.07317\n",
      "[131]\ttrain-mlogloss:2.04831\ttest-mlogloss:2.07314\n",
      "[132]\ttrain-mlogloss:2.04811\ttest-mlogloss:2.07310\n",
      "[133]\ttrain-mlogloss:2.04790\ttest-mlogloss:2.07303\n",
      "[134]\ttrain-mlogloss:2.04768\ttest-mlogloss:2.07297\n",
      "[135]\ttrain-mlogloss:2.04749\ttest-mlogloss:2.07293\n",
      "[136]\ttrain-mlogloss:2.04728\ttest-mlogloss:2.07287\n",
      "[137]\ttrain-mlogloss:2.04708\ttest-mlogloss:2.07283\n",
      "[138]\ttrain-mlogloss:2.04693\ttest-mlogloss:2.07280\n",
      "[139]\ttrain-mlogloss:2.04673\ttest-mlogloss:2.07277\n",
      "[140]\ttrain-mlogloss:2.04655\ttest-mlogloss:2.07271\n",
      "[141]\ttrain-mlogloss:2.04636\ttest-mlogloss:2.07267\n",
      "[142]\ttrain-mlogloss:2.04621\ttest-mlogloss:2.07264\n",
      "[143]\ttrain-mlogloss:2.04599\ttest-mlogloss:2.07260\n",
      "[144]\ttrain-mlogloss:2.04584\ttest-mlogloss:2.07257\n",
      "[145]\ttrain-mlogloss:2.04561\ttest-mlogloss:2.07250\n",
      "[146]\ttrain-mlogloss:2.04544\ttest-mlogloss:2.07246\n",
      "[147]\ttrain-mlogloss:2.04525\ttest-mlogloss:2.07241\n",
      "[148]\ttrain-mlogloss:2.04507\ttest-mlogloss:2.07238\n",
      "[149]\ttrain-mlogloss:2.04493\ttest-mlogloss:2.07235\n",
      "[150]\ttrain-mlogloss:2.04471\ttest-mlogloss:2.07231\n",
      "[151]\ttrain-mlogloss:2.04453\ttest-mlogloss:2.07228\n",
      "[152]\ttrain-mlogloss:2.04436\ttest-mlogloss:2.07225\n",
      "[153]\ttrain-mlogloss:2.04422\ttest-mlogloss:2.07221\n",
      "[154]\ttrain-mlogloss:2.04402\ttest-mlogloss:2.07215\n",
      "[155]\ttrain-mlogloss:2.04382\ttest-mlogloss:2.07208\n",
      "[156]\ttrain-mlogloss:2.04365\ttest-mlogloss:2.07207\n",
      "[157]\ttrain-mlogloss:2.04344\ttest-mlogloss:2.07201\n",
      "[158]\ttrain-mlogloss:2.04325\ttest-mlogloss:2.07197\n",
      "[159]\ttrain-mlogloss:2.04302\ttest-mlogloss:2.07191\n",
      "[160]\ttrain-mlogloss:2.04285\ttest-mlogloss:2.07189\n",
      "[161]\ttrain-mlogloss:2.04270\ttest-mlogloss:2.07185\n",
      "[162]\ttrain-mlogloss:2.04252\ttest-mlogloss:2.07182\n",
      "[163]\ttrain-mlogloss:2.04238\ttest-mlogloss:2.07179\n",
      "[164]\ttrain-mlogloss:2.04223\ttest-mlogloss:2.07177\n",
      "[165]\ttrain-mlogloss:2.04204\ttest-mlogloss:2.07173\n",
      "[166]\ttrain-mlogloss:2.04186\ttest-mlogloss:2.07168\n",
      "[167]\ttrain-mlogloss:2.04170\ttest-mlogloss:2.07166\n",
      "[168]\ttrain-mlogloss:2.04153\ttest-mlogloss:2.07162\n",
      "[169]\ttrain-mlogloss:2.04136\ttest-mlogloss:2.07160\n",
      "[170]\ttrain-mlogloss:2.04121\ttest-mlogloss:2.07158\n",
      "[171]\ttrain-mlogloss:2.04103\ttest-mlogloss:2.07157\n",
      "[172]\ttrain-mlogloss:2.04083\ttest-mlogloss:2.07153\n",
      "[173]\ttrain-mlogloss:2.04070\ttest-mlogloss:2.07151\n",
      "[174]\ttrain-mlogloss:2.04050\ttest-mlogloss:2.07145\n",
      "[175]\ttrain-mlogloss:2.04033\ttest-mlogloss:2.07142\n",
      "[176]\ttrain-mlogloss:2.04015\ttest-mlogloss:2.07139\n",
      "[177]\ttrain-mlogloss:2.03992\ttest-mlogloss:2.07132\n",
      "[178]\ttrain-mlogloss:2.03974\ttest-mlogloss:2.07126\n",
      "[179]\ttrain-mlogloss:2.03957\ttest-mlogloss:2.07125\n",
      "[180]\ttrain-mlogloss:2.03939\ttest-mlogloss:2.07121\n",
      "[181]\ttrain-mlogloss:2.03920\ttest-mlogloss:2.07119\n",
      "[182]\ttrain-mlogloss:2.03902\ttest-mlogloss:2.07113\n",
      "[183]\ttrain-mlogloss:2.03889\ttest-mlogloss:2.07112\n",
      "[184]\ttrain-mlogloss:2.03867\ttest-mlogloss:2.07107\n",
      "[185]\ttrain-mlogloss:2.03849\ttest-mlogloss:2.07105\n",
      "[186]\ttrain-mlogloss:2.03832\ttest-mlogloss:2.07102\n",
      "[187]\ttrain-mlogloss:2.03812\ttest-mlogloss:2.07098\n",
      "[188]\ttrain-mlogloss:2.03793\ttest-mlogloss:2.07095\n",
      "[189]\ttrain-mlogloss:2.03774\ttest-mlogloss:2.07091\n",
      "[190]\ttrain-mlogloss:2.03757\ttest-mlogloss:2.07088\n",
      "[191]\ttrain-mlogloss:2.03740\ttest-mlogloss:2.07086\n",
      "[192]\ttrain-mlogloss:2.03721\ttest-mlogloss:2.07084\n",
      "[193]\ttrain-mlogloss:2.03711\ttest-mlogloss:2.07082\n",
      "[194]\ttrain-mlogloss:2.03697\ttest-mlogloss:2.07079\n",
      "[195]\ttrain-mlogloss:2.03682\ttest-mlogloss:2.07078\n",
      "[196]\ttrain-mlogloss:2.03662\ttest-mlogloss:2.07073\n",
      "[197]\ttrain-mlogloss:2.03647\ttest-mlogloss:2.07070\n",
      "[198]\ttrain-mlogloss:2.03630\ttest-mlogloss:2.07066\n",
      "[199]\ttrain-mlogloss:2.03610\ttest-mlogloss:2.07063\n",
      "[200]\ttrain-mlogloss:2.03595\ttest-mlogloss:2.07061\n",
      "[201]\ttrain-mlogloss:2.03580\ttest-mlogloss:2.07060\n",
      "[202]\ttrain-mlogloss:2.03565\ttest-mlogloss:2.07060\n",
      "[203]\ttrain-mlogloss:2.03546\ttest-mlogloss:2.07055\n",
      "[204]\ttrain-mlogloss:2.03527\ttest-mlogloss:2.07050\n",
      "[205]\ttrain-mlogloss:2.03506\ttest-mlogloss:2.07045\n",
      "[206]\ttrain-mlogloss:2.03491\ttest-mlogloss:2.07043\n",
      "[207]\ttrain-mlogloss:2.03471\ttest-mlogloss:2.07040\n",
      "[208]\ttrain-mlogloss:2.03454\ttest-mlogloss:2.07035\n",
      "[209]\ttrain-mlogloss:2.03440\ttest-mlogloss:2.07035\n",
      "[210]\ttrain-mlogloss:2.03426\ttest-mlogloss:2.07034\n",
      "[211]\ttrain-mlogloss:2.03409\ttest-mlogloss:2.07032\n",
      "[212]\ttrain-mlogloss:2.03396\ttest-mlogloss:2.07028\n",
      "[213]\ttrain-mlogloss:2.03377\ttest-mlogloss:2.07026\n",
      "[214]\ttrain-mlogloss:2.03356\ttest-mlogloss:2.07023\n",
      "[215]\ttrain-mlogloss:2.03343\ttest-mlogloss:2.07020\n",
      "[216]\ttrain-mlogloss:2.03326\ttest-mlogloss:2.07016\n",
      "[217]\ttrain-mlogloss:2.03311\ttest-mlogloss:2.07012\n",
      "[218]\ttrain-mlogloss:2.03295\ttest-mlogloss:2.07009\n",
      "[219]\ttrain-mlogloss:2.03281\ttest-mlogloss:2.07008\n",
      "[220]\ttrain-mlogloss:2.03265\ttest-mlogloss:2.07007\n",
      "[221]\ttrain-mlogloss:2.03248\ttest-mlogloss:2.07003\n",
      "[222]\ttrain-mlogloss:2.03233\ttest-mlogloss:2.07002\n",
      "[223]\ttrain-mlogloss:2.03218\ttest-mlogloss:2.07000\n",
      "[224]\ttrain-mlogloss:2.03199\ttest-mlogloss:2.06996\n",
      "[225]\ttrain-mlogloss:2.03186\ttest-mlogloss:2.06994\n",
      "[226]\ttrain-mlogloss:2.03170\ttest-mlogloss:2.06993\n",
      "[227]\ttrain-mlogloss:2.03154\ttest-mlogloss:2.06991\n",
      "[228]\ttrain-mlogloss:2.03139\ttest-mlogloss:2.06989\n",
      "[229]\ttrain-mlogloss:2.03122\ttest-mlogloss:2.06988\n",
      "[230]\ttrain-mlogloss:2.03106\ttest-mlogloss:2.06986\n",
      "[231]\ttrain-mlogloss:2.03088\ttest-mlogloss:2.06982\n",
      "[232]\ttrain-mlogloss:2.03069\ttest-mlogloss:2.06979\n",
      "[233]\ttrain-mlogloss:2.03058\ttest-mlogloss:2.06978\n",
      "[234]\ttrain-mlogloss:2.03042\ttest-mlogloss:2.06977\n",
      "[235]\ttrain-mlogloss:2.03032\ttest-mlogloss:2.06976\n",
      "[236]\ttrain-mlogloss:2.03022\ttest-mlogloss:2.06975\n",
      "[237]\ttrain-mlogloss:2.03007\ttest-mlogloss:2.06974\n",
      "[238]\ttrain-mlogloss:2.02993\ttest-mlogloss:2.06972\n",
      "[239]\ttrain-mlogloss:2.02978\ttest-mlogloss:2.06970\n",
      "[240]\ttrain-mlogloss:2.02963\ttest-mlogloss:2.06968\n",
      "[241]\ttrain-mlogloss:2.02950\ttest-mlogloss:2.06967\n",
      "[242]\ttrain-mlogloss:2.02936\ttest-mlogloss:2.06966\n",
      "[243]\ttrain-mlogloss:2.02921\ttest-mlogloss:2.06965\n",
      "[244]\ttrain-mlogloss:2.02904\ttest-mlogloss:2.06962\n",
      "[245]\ttrain-mlogloss:2.02890\ttest-mlogloss:2.06961\n",
      "[246]\ttrain-mlogloss:2.02876\ttest-mlogloss:2.06961\n",
      "[247]\ttrain-mlogloss:2.02859\ttest-mlogloss:2.06959\n",
      "[248]\ttrain-mlogloss:2.02847\ttest-mlogloss:2.06958\n",
      "[249]\ttrain-mlogloss:2.02832\ttest-mlogloss:2.06955\n",
      "250-rounds Training finished ...\t\t(165.361s)\n"
     ]
    }
   ],
   "source": [
    "num_round = 250\n",
    "t0 = time()\n",
    "wl_bst_sm = xgb.train(param, xg_train, num_round, watchlist)\n",
    "print(f\"{num_round}-rounds Training finished ...\\t\\t({time()-t0:.3f}s)\")"
   ]
  },
  {
   "cell_type": "code",
   "execution_count": 456,
   "metadata": {},
   "outputs": [
    {
     "name": "stdout",
     "output_type": "stream",
     "text": [
      "Test error using softmax = 0.7282386130508445\n"
     ]
    }
   ],
   "source": [
    "# get prediction\n",
    "pred = wl_bst_sm.predict(xg_test)\n",
    "# pred = pred.astype(np.uint8)\n",
    "error_rate = np.sum(pred != y_test) / y_test.shape[0]\n",
    "print('Test error using softmax = {}'.format(error_rate))"
   ]
  },
  {
   "cell_type": "code",
   "execution_count": 457,
   "metadata": {},
   "outputs": [
    {
     "data": {
      "text/plain": [
       "(array([0.62004039, 0.58891123, 0.50362896, 0.50026904, 0.50024575,\n",
       "        0.50008881, 0.50302352, 0.50024341, 0.50804977, 0.59886517]),\n",
       " 2.357243306851747)"
      ]
     },
     "execution_count": 457,
     "metadata": {},
     "output_type": "execute_result"
    }
   ],
   "source": [
    "weights = np.arange(0, 1, 0.1)\n",
    "aucs = auc(y_test.astype(np.uint8), pred.astype(np.uint8), np.arange(param['num_class']))\n",
    "# aucs[aucs == 0.5] = 0\n",
    "w_aucs = (aucs * weights).sum()\n",
    "aucs, w_aucs"
   ]
  },
  {
   "cell_type": "code",
   "execution_count": 458,
   "metadata": {},
   "outputs": [],
   "source": [
    "report = metrics.classification_report(list(y_test), list(pred))"
   ]
  },
  {
   "cell_type": "code",
   "execution_count": 459,
   "metadata": {},
   "outputs": [
    {
     "name": "stdout",
     "output_type": "stream",
     "text": [
      "              precision    recall  f1-score   support\n",
      "\n",
      "           0       0.32      0.38      0.35     77054\n",
      "           1       0.28      0.63      0.39    110718\n",
      "           2       0.28      0.01      0.02     62540\n",
      "           3       0.15      0.00      0.00     43797\n",
      "           4       0.21      0.00      0.00     33993\n",
      "           5       0.14      0.00      0.00     28208\n",
      "           6       0.30      0.01      0.01     24911\n",
      "           7       0.12      0.00      0.00     23415\n",
      "           8       0.28      0.02      0.04     27510\n",
      "           9       0.23      0.48      0.31     77231\n",
      "\n",
      "    accuracy                           0.27    509377\n",
      "   macro avg       0.23      0.15      0.11    509377\n",
      "weighted avg       0.25      0.27      0.19    509377\n",
      "\n"
     ]
    }
   ],
   "source": [
    "print(report)"
   ]
  },
  {
   "cell_type": "markdown",
   "metadata": {},
   "source": [
    "### 调参"
   ]
  },
  {
   "cell_type": "code",
   "execution_count": 481,
   "metadata": {},
   "outputs": [],
   "source": [
    "from xgboost import XGBClassifier\n",
    "from sklearn import svm, datasets\n",
    "from sklearn.model_selection import GridSearchCV"
   ]
  },
  {
   "cell_type": "code",
   "execution_count": 532,
   "metadata": {
    "collapsed": true,
    "jupyter": {
     "outputs_hidden": true
    },
    "tags": []
   },
   "outputs": [
    {
     "name": "stdout",
     "output_type": "stream",
     "text": [
      "[{'max_depth': 5, 'min_child_weight': 1}, {'max_depth': 7, 'min_child_weight': 1}, {'max_depth': 9, 'min_child_weight': 1}, {'max_depth': 11, 'min_child_weight': 1}, {'max_depth': 5, 'min_child_weight': 3}, {'max_depth': 7, 'min_child_weight': 3}, {'max_depth': 9, 'min_child_weight': 3}, {'max_depth': 11, 'min_child_weight': 3}, {'max_depth': 5, 'min_child_weight': 5}, {'max_depth': 7, 'min_child_weight': 5}, {'max_depth': 9, 'min_child_weight': 5}, {'max_depth': 11, 'min_child_weight': 5}, {'max_depth': 5, 'min_child_weight': 7}, {'max_depth': 7, 'min_child_weight': 7}, {'max_depth': 9, 'min_child_weight': 7}, {'max_depth': 11, 'min_child_weight': 7}]\n",
      "[{'objective': 'multi:softmax', 'eta': 0.1, 'max_depth': 5, 'nthread': 8, 'num_class': 10, 'min_child_weight': 1}, {'objective': 'multi:softmax', 'eta': 0.1, 'max_depth': 7, 'nthread': 8, 'num_class': 10, 'min_child_weight': 1}, {'objective': 'multi:softmax', 'eta': 0.1, 'max_depth': 9, 'nthread': 8, 'num_class': 10, 'min_child_weight': 1}, {'objective': 'multi:softmax', 'eta': 0.1, 'max_depth': 11, 'nthread': 8, 'num_class': 10, 'min_child_weight': 1}, {'objective': 'multi:softmax', 'eta': 0.1, 'max_depth': 5, 'nthread': 8, 'num_class': 10, 'min_child_weight': 3}, {'objective': 'multi:softmax', 'eta': 0.1, 'max_depth': 7, 'nthread': 8, 'num_class': 10, 'min_child_weight': 3}, {'objective': 'multi:softmax', 'eta': 0.1, 'max_depth': 9, 'nthread': 8, 'num_class': 10, 'min_child_weight': 3}, {'objective': 'multi:softmax', 'eta': 0.1, 'max_depth': 11, 'nthread': 8, 'num_class': 10, 'min_child_weight': 3}, {'objective': 'multi:softmax', 'eta': 0.1, 'max_depth': 5, 'nthread': 8, 'num_class': 10, 'min_child_weight': 5}, {'objective': 'multi:softmax', 'eta': 0.1, 'max_depth': 7, 'nthread': 8, 'num_class': 10, 'min_child_weight': 5}, {'objective': 'multi:softmax', 'eta': 0.1, 'max_depth': 9, 'nthread': 8, 'num_class': 10, 'min_child_weight': 5}, {'objective': 'multi:softmax', 'eta': 0.1, 'max_depth': 11, 'nthread': 8, 'num_class': 10, 'min_child_weight': 5}, {'objective': 'multi:softmax', 'eta': 0.1, 'max_depth': 5, 'nthread': 8, 'num_class': 10, 'min_child_weight': 7}, {'objective': 'multi:softmax', 'eta': 0.1, 'max_depth': 7, 'nthread': 8, 'num_class': 10, 'min_child_weight': 7}, {'objective': 'multi:softmax', 'eta': 0.1, 'max_depth': 9, 'nthread': 8, 'num_class': 10, 'min_child_weight': 7}, {'objective': 'multi:softmax', 'eta': 0.1, 'max_depth': 11, 'nthread': 8, 'num_class': 10, 'min_child_weight': 7}]\n"
     ]
    }
   ],
   "source": [
    "base_param = {  # 基本参数，不需要调参\n",
    "    'objective': 'multi:softmax',\n",
    "    'eta': 0.1,\n",
    "    'max_depth': 8,\n",
    "    'nthread': 8,\n",
    "    'num_class': 10\n",
    "} \n",
    "ps = {  # 需要调参的参数\n",
    "    'max_depth': list(range(5, 12, 2)),\n",
    "    'min_child_weight': list(range(1, 8, 2))\n",
    "}\n",
    "\n",
    "tmp = []\n",
    "keys = list(ps.keys())\n",
    "k = keys[0]\n",
    "tmp.extend([[e] for e in ps[k].copy()])\n",
    "\n",
    "# 将需要调参的参数进行组合，即笛卡尔乘积\n",
    "for k in keys[1:]:\n",
    "    v = ps[k].copy()\n",
    "    l = len(tmp)\n",
    "    tmp = [tmp[i%l].copy() for i in range(len(v) * len(tmp))]\n",
    "    for i, e in enumerate(tmp):\n",
    "        e.append(v[i // l])\n",
    "        \n",
    "com_ps = [dict(zip(keys, e)) for e in tmp]\n",
    "# print(com_ps)\n",
    "all_params = [base_param.copy() for _ in range(len(com_ps))] \n",
    "for i in range(len(com_ps)):\n",
    "    all_params[i].update(com_ps[i])\n",
    "    \n",
    "print(all_params)"
   ]
  },
  {
   "cell_type": "code",
   "execution_count": 490,
   "metadata": {},
   "outputs": [],
   "source": [
    "param_test1 = {\n",
    "    'max_depth':range(3,10,2),\n",
    "    'min_child_weight':range(1,6,2), \n",
    "}\n",
    "param_test2 = {\n",
    "'max_depth':[4,5,6],\n",
    "'min_child_weight':[4,5,6]\n",
    "}\n",
    "\n",
    "clf = XGBClassifier(learning_rate =0.1, n_estimators=200, max_depth=5, min_child_weight=1, gamma=0, subsample=0.8,\n",
    "        colsample_bytree=0.8, objective= 'multi:logistic', nthread=8, gpu_id=0, seed=27)"
   ]
  },
  {
   "cell_type": "code",
   "execution_count": null,
   "metadata": {},
   "outputs": [],
   "source": [
    "%%time\n",
    "gsearch1 = GridSearchCV(estimator=clf, param_grid = param_test1, scoring='roc_auc_ovr', n_jobs=8, cv=5, verbose=3)\n",
    "gsearch1.fit(data, watch_label_res)\n",
    "gsearch1.grid_scores_, gsearch1.best_params_,gsearch1.best_score_"
   ]
  },
  {
   "cell_type": "code",
   "execution_count": null,
   "metadata": {},
   "outputs": [],
   "source": []
  },
  {
   "cell_type": "code",
   "execution_count": 494,
   "metadata": {},
   "outputs": [],
   "source": [
    "cv_data = xgb.DMatrix(data.values, label=watch_label_res.values, enable_categorical=True)"
   ]
  },
  {
   "cell_type": "code",
   "execution_count": 496,
   "metadata": {},
   "outputs": [],
   "source": [
    "param = {}\n",
    "# use softmax multi-class classification\n",
    "param['objective'] = 'multi:softmax'\n",
    "# scale weight of positive examples\n",
    "param['eta'] = 0.1\n",
    "param['max_depth'] = 8\n",
    "param['nthread'] = 8\n",
    "param['num_class'] = 10\n",
    "# param['gpu_id'] = 0\n",
    "# param['tree_method'] = 'gpu_hist'"
   ]
  },
  {
   "cell_type": "code",
   "execution_count": 500,
   "metadata": {},
   "outputs": [
    {
     "ename": "XGBoostError",
     "evalue": "[22:52:21] ../src/tree/updater_gpu_hist.cu:793: Exception in gpu_hist: [22:52:21] ../src/c_api/../data/../common/device_helpers.cuh:414: Memory allocation error on worker 0: [22:52:21] ../src/c_api/../data/../common/common.h:45: ../src/common/device_helpers.cuh: 433: out of memory\nStack trace:\n  [bt] (0) /home/gzy/.local/lib/python3.8/site-packages/xgboost/lib/libxgboost.so(+0x9133f) [0x7f77e0ef233f]\n  [bt] (1) /home/gzy/.local/lib/python3.8/site-packages/xgboost/lib/libxgboost.so(+0x328d14) [0x7f77e1189d14]\n  [bt] (2) /home/gzy/.local/lib/python3.8/site-packages/xgboost/lib/libxgboost.so(+0x384451) [0x7f77e11e5451]\n  [bt] (3) /home/gzy/.local/lib/python3.8/site-packages/xgboost/lib/libxgboost.so(+0x384c2e) [0x7f77e11e5c2e]\n  [bt] (4) /home/gzy/.local/lib/python3.8/site-packages/xgboost/lib/libxgboost.so(+0x37b9f0) [0x7f77e11dc9f0]\n  [bt] (5) /home/gzy/.local/lib/python3.8/site-packages/xgboost/lib/libxgboost.so(+0x3368d0) [0x7f77e11978d0]\n  [bt] (6) /home/gzy/.local/lib/python3.8/site-packages/xgboost/lib/libxgboost.so(+0x33822d) [0x7f77e119922d]\n  [bt] (7) /home/gzy/.local/lib/python3.8/site-packages/xgboost/lib/libxgboost.so(+0x39132b) [0x7f77e11f232b]\n  [bt] (8) /home/gzy/.local/lib/python3.8/site-packages/xgboost/lib/libxgboost.so(+0x39186e) [0x7f77e11f286e]\n\n\n- Free memory: 17367040\n- Requested memory: 16057440\n\nStack trace:\n  [bt] (0) /home/gzy/.local/lib/python3.8/site-packages/xgboost/lib/libxgboost.so(+0x9133f) [0x7f77e0ef233f]\n  [bt] (1) /home/gzy/.local/lib/python3.8/site-packages/xgboost/lib/libxgboost.so(+0x329275) [0x7f77e118a275]\n  [bt] (2) /home/gzy/.local/lib/python3.8/site-packages/xgboost/lib/libxgboost.so(+0x38487b) [0x7f77e11e587b]\n  [bt] (3) /home/gzy/.local/lib/python3.8/site-packages/xgboost/lib/libxgboost.so(+0x384c2e) [0x7f77e11e5c2e]\n  [bt] (4) /home/gzy/.local/lib/python3.8/site-packages/xgboost/lib/libxgboost.so(+0x37b9f0) [0x7f77e11dc9f0]\n  [bt] (5) /home/gzy/.local/lib/python3.8/site-packages/xgboost/lib/libxgboost.so(+0x3368d0) [0x7f77e11978d0]\n  [bt] (6) /home/gzy/.local/lib/python3.8/site-packages/xgboost/lib/libxgboost.so(+0x33822d) [0x7f77e119922d]\n  [bt] (7) /home/gzy/.local/lib/python3.8/site-packages/xgboost/lib/libxgboost.so(+0x39132b) [0x7f77e11f232b]\n  [bt] (8) /home/gzy/.local/lib/python3.8/site-packages/xgboost/lib/libxgboost.so(+0x39186e) [0x7f77e11f286e]\n\n\n\nStack trace:\n  [bt] (0) /home/gzy/.local/lib/python3.8/site-packages/xgboost/lib/libxgboost.so(+0x9133f) [0x7f77e0ef233f]\n  [bt] (1) /home/gzy/.local/lib/python3.8/site-packages/xgboost/lib/libxgboost.so(+0x4e9a88) [0x7f77e134aa88]\n  [bt] (2) /home/gzy/.local/lib/python3.8/site-packages/xgboost/lib/libxgboost.so(+0x18c862) [0x7f77e0fed862]\n  [bt] (3) /home/gzy/.local/lib/python3.8/site-packages/xgboost/lib/libxgboost.so(+0x18ead8) [0x7f77e0fefad8]\n  [bt] (4) /home/gzy/.local/lib/python3.8/site-packages/xgboost/lib/libxgboost.so(+0x1b9b93) [0x7f77e101ab93]\n  [bt] (5) /home/gzy/.local/lib/python3.8/site-packages/xgboost/lib/libxgboost.so(XGBoosterUpdateOneIter+0x50) [0x7f77e0ee1ed0]\n  [bt] (6) /lib/x86_64-linux-gnu/libffi.so.7(+0x6ff5) [0x7f79e555aff5]\n  [bt] (7) /lib/x86_64-linux-gnu/libffi.so.7(+0x640a) [0x7f79e555a40a]\n  [bt] (8) /usr/lib/python3.8/lib-dynload/_ctypes.cpython-38-x86_64-linux-gnu.so(_ctypes_callproc+0x58c) [0x7f79e460629c]\n\n",
     "output_type": "error",
     "traceback": [
      "\u001b[0;31m---------------------------------------------------------------------------\u001b[0m",
      "\u001b[0;31mXGBoostError\u001b[0m                              Traceback (most recent call last)",
      "\u001b[0;32m<timed exec>\u001b[0m in \u001b[0;36m<module>\u001b[0;34m\u001b[0m\n",
      "\u001b[0;32m~/.local/lib/python3.8/site-packages/xgboost/training.py\u001b[0m in \u001b[0;36mcv\u001b[0;34m(params, dtrain, num_boost_round, nfold, stratified, folds, metrics, obj, feval, maximize, early_stopping_rounds, fpreproc, as_pandas, verbose_eval, show_stdv, seed, callbacks, shuffle)\u001b[0m\n\u001b[1;32m    493\u001b[0m         \u001b[0;32mif\u001b[0m \u001b[0mcallbacks\u001b[0m\u001b[0;34m.\u001b[0m\u001b[0mbefore_iteration\u001b[0m\u001b[0;34m(\u001b[0m\u001b[0mbooster\u001b[0m\u001b[0;34m,\u001b[0m \u001b[0mi\u001b[0m\u001b[0;34m,\u001b[0m \u001b[0mdtrain\u001b[0m\u001b[0;34m,\u001b[0m \u001b[0;32mNone\u001b[0m\u001b[0;34m)\u001b[0m\u001b[0;34m:\u001b[0m\u001b[0;34m\u001b[0m\u001b[0;34m\u001b[0m\u001b[0m\n\u001b[1;32m    494\u001b[0m             \u001b[0;32mbreak\u001b[0m\u001b[0;34m\u001b[0m\u001b[0;34m\u001b[0m\u001b[0m\n\u001b[0;32m--> 495\u001b[0;31m         \u001b[0mbooster\u001b[0m\u001b[0;34m.\u001b[0m\u001b[0mupdate\u001b[0m\u001b[0;34m(\u001b[0m\u001b[0mi\u001b[0m\u001b[0;34m,\u001b[0m \u001b[0mobj\u001b[0m\u001b[0;34m)\u001b[0m\u001b[0;34m\u001b[0m\u001b[0;34m\u001b[0m\u001b[0m\n\u001b[0m\u001b[1;32m    496\u001b[0m \u001b[0;34m\u001b[0m\u001b[0m\n\u001b[1;32m    497\u001b[0m         \u001b[0mshould_break\u001b[0m \u001b[0;34m=\u001b[0m \u001b[0mcallbacks\u001b[0m\u001b[0;34m.\u001b[0m\u001b[0mafter_iteration\u001b[0m\u001b[0;34m(\u001b[0m\u001b[0mbooster\u001b[0m\u001b[0;34m,\u001b[0m \u001b[0mi\u001b[0m\u001b[0;34m,\u001b[0m \u001b[0mdtrain\u001b[0m\u001b[0;34m,\u001b[0m \u001b[0;32mNone\u001b[0m\u001b[0;34m)\u001b[0m\u001b[0;34m\u001b[0m\u001b[0;34m\u001b[0m\u001b[0m\n",
      "\u001b[0;32m~/.local/lib/python3.8/site-packages/xgboost/training.py\u001b[0m in \u001b[0;36mupdate\u001b[0;34m(self, iteration, obj)\u001b[0m\n\u001b[1;32m    229\u001b[0m         \u001b[0;34m'''Iterate through folds for update'''\u001b[0m\u001b[0;34m\u001b[0m\u001b[0;34m\u001b[0m\u001b[0m\n\u001b[1;32m    230\u001b[0m         \u001b[0;32mfor\u001b[0m \u001b[0mfold\u001b[0m \u001b[0;32min\u001b[0m \u001b[0mself\u001b[0m\u001b[0;34m.\u001b[0m\u001b[0mcvfolds\u001b[0m\u001b[0;34m:\u001b[0m\u001b[0;34m\u001b[0m\u001b[0;34m\u001b[0m\u001b[0m\n\u001b[0;32m--> 231\u001b[0;31m             \u001b[0mfold\u001b[0m\u001b[0;34m.\u001b[0m\u001b[0mupdate\u001b[0m\u001b[0;34m(\u001b[0m\u001b[0miteration\u001b[0m\u001b[0;34m,\u001b[0m \u001b[0mobj\u001b[0m\u001b[0;34m)\u001b[0m\u001b[0;34m\u001b[0m\u001b[0;34m\u001b[0m\u001b[0m\n\u001b[0m\u001b[1;32m    232\u001b[0m \u001b[0;34m\u001b[0m\u001b[0m\n\u001b[1;32m    233\u001b[0m     \u001b[0;32mdef\u001b[0m \u001b[0meval\u001b[0m\u001b[0;34m(\u001b[0m\u001b[0mself\u001b[0m\u001b[0;34m,\u001b[0m \u001b[0miteration\u001b[0m\u001b[0;34m,\u001b[0m \u001b[0mfeval\u001b[0m\u001b[0;34m)\u001b[0m\u001b[0;34m:\u001b[0m\u001b[0;34m\u001b[0m\u001b[0;34m\u001b[0m\u001b[0m\n",
      "\u001b[0;32m~/.local/lib/python3.8/site-packages/xgboost/training.py\u001b[0m in \u001b[0;36mupdate\u001b[0;34m(self, iteration, fobj)\u001b[0m\n\u001b[1;32m    215\u001b[0m     \u001b[0;32mdef\u001b[0m \u001b[0mupdate\u001b[0m\u001b[0;34m(\u001b[0m\u001b[0mself\u001b[0m\u001b[0;34m,\u001b[0m \u001b[0miteration\u001b[0m\u001b[0;34m,\u001b[0m \u001b[0mfobj\u001b[0m\u001b[0;34m)\u001b[0m\u001b[0;34m:\u001b[0m\u001b[0;34m\u001b[0m\u001b[0;34m\u001b[0m\u001b[0m\n\u001b[1;32m    216\u001b[0m         \u001b[0;34m\"\"\"\"Update the boosters for one iteration\"\"\"\u001b[0m\u001b[0;34m\u001b[0m\u001b[0;34m\u001b[0m\u001b[0m\n\u001b[0;32m--> 217\u001b[0;31m         \u001b[0mself\u001b[0m\u001b[0;34m.\u001b[0m\u001b[0mbst\u001b[0m\u001b[0;34m.\u001b[0m\u001b[0mupdate\u001b[0m\u001b[0;34m(\u001b[0m\u001b[0mself\u001b[0m\u001b[0;34m.\u001b[0m\u001b[0mdtrain\u001b[0m\u001b[0;34m,\u001b[0m \u001b[0miteration\u001b[0m\u001b[0;34m,\u001b[0m \u001b[0mfobj\u001b[0m\u001b[0;34m)\u001b[0m\u001b[0;34m\u001b[0m\u001b[0;34m\u001b[0m\u001b[0m\n\u001b[0m\u001b[1;32m    218\u001b[0m \u001b[0;34m\u001b[0m\u001b[0m\n\u001b[1;32m    219\u001b[0m     \u001b[0;32mdef\u001b[0m \u001b[0meval\u001b[0m\u001b[0;34m(\u001b[0m\u001b[0mself\u001b[0m\u001b[0;34m,\u001b[0m \u001b[0miteration\u001b[0m\u001b[0;34m,\u001b[0m \u001b[0mfeval\u001b[0m\u001b[0;34m)\u001b[0m\u001b[0;34m:\u001b[0m\u001b[0;34m\u001b[0m\u001b[0;34m\u001b[0m\u001b[0m\n",
      "\u001b[0;32m~/.local/lib/python3.8/site-packages/xgboost/core.py\u001b[0m in \u001b[0;36mupdate\u001b[0;34m(self, dtrain, iteration, fobj)\u001b[0m\n\u001b[1;32m   1497\u001b[0m \u001b[0;34m\u001b[0m\u001b[0m\n\u001b[1;32m   1498\u001b[0m         \u001b[0;32mif\u001b[0m \u001b[0mfobj\u001b[0m \u001b[0;32mis\u001b[0m \u001b[0;32mNone\u001b[0m\u001b[0;34m:\u001b[0m\u001b[0;34m\u001b[0m\u001b[0;34m\u001b[0m\u001b[0m\n\u001b[0;32m-> 1499\u001b[0;31m             _check_call(_LIB.XGBoosterUpdateOneIter(self.handle,\n\u001b[0m\u001b[1;32m   1500\u001b[0m                                                     \u001b[0mctypes\u001b[0m\u001b[0;34m.\u001b[0m\u001b[0mc_int\u001b[0m\u001b[0;34m(\u001b[0m\u001b[0miteration\u001b[0m\u001b[0;34m)\u001b[0m\u001b[0;34m,\u001b[0m\u001b[0;34m\u001b[0m\u001b[0;34m\u001b[0m\u001b[0m\n\u001b[1;32m   1501\u001b[0m                                                     dtrain.handle))\n",
      "\u001b[0;32m~/.local/lib/python3.8/site-packages/xgboost/core.py\u001b[0m in \u001b[0;36m_check_call\u001b[0;34m(ret)\u001b[0m\n\u001b[1;32m    208\u001b[0m     \"\"\"\n\u001b[1;32m    209\u001b[0m     \u001b[0;32mif\u001b[0m \u001b[0mret\u001b[0m \u001b[0;34m!=\u001b[0m \u001b[0;36m0\u001b[0m\u001b[0;34m:\u001b[0m\u001b[0;34m\u001b[0m\u001b[0;34m\u001b[0m\u001b[0m\n\u001b[0;32m--> 210\u001b[0;31m         \u001b[0;32mraise\u001b[0m \u001b[0mXGBoostError\u001b[0m\u001b[0;34m(\u001b[0m\u001b[0mpy_str\u001b[0m\u001b[0;34m(\u001b[0m\u001b[0m_LIB\u001b[0m\u001b[0;34m.\u001b[0m\u001b[0mXGBGetLastError\u001b[0m\u001b[0;34m(\u001b[0m\u001b[0;34m)\u001b[0m\u001b[0;34m)\u001b[0m\u001b[0;34m)\u001b[0m\u001b[0;34m\u001b[0m\u001b[0;34m\u001b[0m\u001b[0m\n\u001b[0m\u001b[1;32m    211\u001b[0m \u001b[0;34m\u001b[0m\u001b[0m\n\u001b[1;32m    212\u001b[0m \u001b[0;34m\u001b[0m\u001b[0m\n",
      "\u001b[0;31mXGBoostError\u001b[0m: [22:52:21] ../src/tree/updater_gpu_hist.cu:793: Exception in gpu_hist: [22:52:21] ../src/c_api/../data/../common/device_helpers.cuh:414: Memory allocation error on worker 0: [22:52:21] ../src/c_api/../data/../common/common.h:45: ../src/common/device_helpers.cuh: 433: out of memory\nStack trace:\n  [bt] (0) /home/gzy/.local/lib/python3.8/site-packages/xgboost/lib/libxgboost.so(+0x9133f) [0x7f77e0ef233f]\n  [bt] (1) /home/gzy/.local/lib/python3.8/site-packages/xgboost/lib/libxgboost.so(+0x328d14) [0x7f77e1189d14]\n  [bt] (2) /home/gzy/.local/lib/python3.8/site-packages/xgboost/lib/libxgboost.so(+0x384451) [0x7f77e11e5451]\n  [bt] (3) /home/gzy/.local/lib/python3.8/site-packages/xgboost/lib/libxgboost.so(+0x384c2e) [0x7f77e11e5c2e]\n  [bt] (4) /home/gzy/.local/lib/python3.8/site-packages/xgboost/lib/libxgboost.so(+0x37b9f0) [0x7f77e11dc9f0]\n  [bt] (5) /home/gzy/.local/lib/python3.8/site-packages/xgboost/lib/libxgboost.so(+0x3368d0) [0x7f77e11978d0]\n  [bt] (6) /home/gzy/.local/lib/python3.8/site-packages/xgboost/lib/libxgboost.so(+0x33822d) [0x7f77e119922d]\n  [bt] (7) /home/gzy/.local/lib/python3.8/site-packages/xgboost/lib/libxgboost.so(+0x39132b) [0x7f77e11f232b]\n  [bt] (8) /home/gzy/.local/lib/python3.8/site-packages/xgboost/lib/libxgboost.so(+0x39186e) [0x7f77e11f286e]\n\n\n- Free memory: 17367040\n- Requested memory: 16057440\n\nStack trace:\n  [bt] (0) /home/gzy/.local/lib/python3.8/site-packages/xgboost/lib/libxgboost.so(+0x9133f) [0x7f77e0ef233f]\n  [bt] (1) /home/gzy/.local/lib/python3.8/site-packages/xgboost/lib/libxgboost.so(+0x329275) [0x7f77e118a275]\n  [bt] (2) /home/gzy/.local/lib/python3.8/site-packages/xgboost/lib/libxgboost.so(+0x38487b) [0x7f77e11e587b]\n  [bt] (3) /home/gzy/.local/lib/python3.8/site-packages/xgboost/lib/libxgboost.so(+0x384c2e) [0x7f77e11e5c2e]\n  [bt] (4) /home/gzy/.local/lib/python3.8/site-packages/xgboost/lib/libxgboost.so(+0x37b9f0) [0x7f77e11dc9f0]\n  [bt] (5) /home/gzy/.local/lib/python3.8/site-packages/xgboost/lib/libxgboost.so(+0x3368d0) [0x7f77e11978d0]\n  [bt] (6) /home/gzy/.local/lib/python3.8/site-packages/xgboost/lib/libxgboost.so(+0x33822d) [0x7f77e119922d]\n  [bt] (7) /home/gzy/.local/lib/python3.8/site-packages/xgboost/lib/libxgboost.so(+0x39132b) [0x7f77e11f232b]\n  [bt] (8) /home/gzy/.local/lib/python3.8/site-packages/xgboost/lib/libxgboost.so(+0x39186e) [0x7f77e11f286e]\n\n\n\nStack trace:\n  [bt] (0) /home/gzy/.local/lib/python3.8/site-packages/xgboost/lib/libxgboost.so(+0x9133f) [0x7f77e0ef233f]\n  [bt] (1) /home/gzy/.local/lib/python3.8/site-packages/xgboost/lib/libxgboost.so(+0x4e9a88) [0x7f77e134aa88]\n  [bt] (2) /home/gzy/.local/lib/python3.8/site-packages/xgboost/lib/libxgboost.so(+0x18c862) [0x7f77e0fed862]\n  [bt] (3) /home/gzy/.local/lib/python3.8/site-packages/xgboost/lib/libxgboost.so(+0x18ead8) [0x7f77e0fefad8]\n  [bt] (4) /home/gzy/.local/lib/python3.8/site-packages/xgboost/lib/libxgboost.so(+0x1b9b93) [0x7f77e101ab93]\n  [bt] (5) /home/gzy/.local/lib/python3.8/site-packages/xgboost/lib/libxgboost.so(XGBoosterUpdateOneIter+0x50) [0x7f77e0ee1ed0]\n  [bt] (6) /lib/x86_64-linux-gnu/libffi.so.7(+0x6ff5) [0x7f79e555aff5]\n  [bt] (7) /lib/x86_64-linux-gnu/libffi.so.7(+0x640a) [0x7f79e555a40a]\n  [bt] (8) /usr/lib/python3.8/lib-dynload/_ctypes.cpython-38-x86_64-linux-gnu.so(_ctypes_callproc+0x58c) [0x7f79e460629c]\n\n"
     ]
    }
   ],
   "source": [
    "%%time\n",
    "cv_res= xgb.cv(param, cv_data, num_boost_round=200,early_stopping_rounds=30,nfold=3, metrics='auc',show_stdv=True)\n",
    "print(cv_res)"
   ]
  },
  {
   "cell_type": "markdown",
   "metadata": {},
   "source": [
    "## is_share 预测"
   ]
  },
  {
   "cell_type": "markdown",
   "metadata": {},
   "source": [
    "### 处理数据不均衡问题"
   ]
  },
  {
   "cell_type": "code",
   "execution_count": 422,
   "metadata": {},
   "outputs": [
    {
     "name": "stdout",
     "output_type": "stream",
     "text": [
      "[(0, 7293752), (1, 14266)]\n",
      "[[0.        0.9980479]\n",
      " [1.        0.0019521]]\n"
     ]
    }
   ],
   "source": [
    "items = list(Counter(is_share).items())\n",
    "items.sort(key=lambda x: x[0])\n",
    "print(items)\n",
    "\n",
    "dist = np.array(items, dtype=np.float)\n",
    "dist[:, 1] = dist[:, 1] / is_share.shape[0]\n",
    "print(dist)"
   ]
  },
  {
   "cell_type": "code",
   "execution_count": 423,
   "metadata": {},
   "outputs": [],
   "source": [
    "under_ss = np.array(items)\n",
    "under_ss_thresh = under_ss[1, 1]\n",
    "under_ss[:, 1] = np.clip(under_ss[:, 1], a_min=None, a_max=under_ss_thresh)\n",
    "\n",
    "over_ss = under_ss.copy()\n",
    "over_ss_thresh = under_ss[1, 1]\n",
    "over_ss[:, 1] = np.clip(over_ss[:, 1], a_min=over_ss_thresh, a_max=None)\n",
    "\n",
    "under_ss = dict(under_ss)\n",
    "over_ss = dict(over_ss)"
   ]
  },
  {
   "cell_type": "code",
   "execution_count": 424,
   "metadata": {},
   "outputs": [
    {
     "data": {
      "text/plain": [
       "({0: 14266, 1: 14266}, {0: 14266, 1: 14266})"
      ]
     },
     "execution_count": 424,
     "metadata": {},
     "output_type": "execute_result"
    }
   ],
   "source": [
    "under_ss, over_ss"
   ]
  },
  {
   "cell_type": "code",
   "execution_count": 425,
   "metadata": {},
   "outputs": [
    {
     "data": {
      "text/plain": [
       "(7293752,)"
      ]
     },
     "execution_count": 425,
     "metadata": {},
     "output_type": "execute_result"
    }
   ],
   "source": [
    "idxs = is_share == 0\n",
    "idxs = idxs.replace(False, np.nan).dropna().index  # 保留watch_label=0的行索引\n",
    "idxs.shape"
   ]
  },
  {
   "cell_type": "code",
   "execution_count": 426,
   "metadata": {},
   "outputs": [
    {
     "data": {
      "text/plain": [
       "((7279486,), (14266,))"
      ]
     },
     "execution_count": 426,
     "metadata": {},
     "output_type": "execute_result"
    }
   ],
   "source": [
    "left_idxs = np.random.choice(idxs, under_ss_thresh, replace=False)  # 选择一部分保留\n",
    "del_idxs = idxs.difference(left_idxs)\n",
    "del_idxs.shape, left_idxs.shape"
   ]
  },
  {
   "cell_type": "code",
   "execution_count": 482,
   "metadata": {},
   "outputs": [
    {
     "data": {
      "text/plain": [
       "((2546881, 70), (2546881,))"
      ]
     },
     "execution_count": 482,
     "metadata": {},
     "output_type": "execute_result"
    }
   ],
   "source": [
    "resampled_data = np.delete(dataset.values, del_idxs, axis=0)\n",
    "resampled_sh = np.delete(is_share.values, del_idxs, axis=0)\n",
    "resampled_data.shape, resampled_sh.shape"
   ]
  },
  {
   "cell_type": "code",
   "execution_count": 428,
   "metadata": {},
   "outputs": [
    {
     "data": {
      "text/plain": [
       "((28532, 70), (7308018,))"
      ]
     },
     "execution_count": 428,
     "metadata": {},
     "output_type": "execute_result"
    }
   ],
   "source": [
    "# 将采样后的数据重装会DataFrame\n",
    "data_sh = pd.DataFrame(resampled_data, columns=dataset.columns)\n",
    "is_share_res = pd.Series(resampled_sh)\n",
    "data.shape, is_share.shape"
   ]
  },
  {
   "cell_type": "code",
   "execution_count": 429,
   "metadata": {},
   "outputs": [
    {
     "data": {
      "text/plain": [
       "((22825,), (5707,))"
      ]
     },
     "execution_count": 429,
     "metadata": {},
     "output_type": "execute_result"
    }
   ],
   "source": [
    "train_idx, test_idx = train_test_split(data_sh.index, test_size=0.2, random_state=1)\n",
    "train_idx.shape, test_idx.shape"
   ]
  },
  {
   "cell_type": "markdown",
   "metadata": {},
   "source": [
    "### 训练模型"
   ]
  },
  {
   "cell_type": "code",
   "execution_count": 430,
   "metadata": {},
   "outputs": [],
   "source": [
    "X_train_sh = data_sh.iloc[train_idx]\n",
    "X_test_sh  = data_sh.iloc[test_idx]"
   ]
  },
  {
   "cell_type": "code",
   "execution_count": 431,
   "metadata": {},
   "outputs": [],
   "source": [
    "y_train_sh = is_share_res.iloc[train_idx]\n",
    "y_test_sh  = is_share_res.iloc[test_idx]"
   ]
  },
  {
   "cell_type": "code",
   "execution_count": 432,
   "metadata": {},
   "outputs": [
    {
     "name": "stdout",
     "output_type": "stream",
     "text": [
      "Data preparing finished ...\t\t(0.014s)\n"
     ]
    }
   ],
   "source": [
    "t0 = time()\n",
    "xg_train_sh = xgb.DMatrix(X_train_sh.values, label=y_train_sh.values, enable_categorical=True)\n",
    "xg_test_sh = xgb.DMatrix(X_test_sh.values, label=y_test_sh.values, enable_categorical=True)\n",
    "print(f\"Data preparing finished ...\\t\\t({time()-t0:.3f}s)\")"
   ]
  },
  {
   "cell_type": "code",
   "execution_count": 433,
   "metadata": {},
   "outputs": [
    {
     "data": {
      "text/plain": [
       "70"
      ]
     },
     "execution_count": 433,
     "metadata": {},
     "output_type": "execute_result"
    }
   ],
   "source": [
    "xg_train_sh.num_col()"
   ]
  },
  {
   "cell_type": "code",
   "execution_count": 434,
   "metadata": {},
   "outputs": [],
   "source": [
    "# setup parameters for xgboost\n",
    "param_sh = {}\n",
    "# use softmax multi-class classification\n",
    "param_sh['objective'] = 'binary:hinge'\n",
    "# scale weight of positive examples\n",
    "param_sh['eta'] = 0.1\n",
    "param_sh['max_depth'] = 7\n",
    "param_sh['nthread'] = 4\n",
    "# param['num_class'] = 2\n",
    "param_sh['gpu_id'] = 0\n",
    "param_sh['tree_method'] = 'gpu_hist'\n",
    "# param_sh['scale_pos_weight'] = 2\n",
    "\n",
    "watchlist = [(xg_train_sh, 'train'), (xg_test_sh, 'test')]"
   ]
  },
  {
   "cell_type": "code",
   "execution_count": 435,
   "metadata": {
    "collapsed": true,
    "jupyter": {
     "outputs_hidden": true
    },
    "tags": []
   },
   "outputs": [
    {
     "name": "stdout",
     "output_type": "stream",
     "text": [
      "[0]\ttrain-error:0.50217\ttest-error:0.49133\n",
      "[1]\ttrain-error:0.50217\ttest-error:0.49133\n",
      "[2]\ttrain-error:0.50217\ttest-error:0.49133\n",
      "[3]\ttrain-error:0.50217\ttest-error:0.49133\n",
      "[4]\ttrain-error:0.50217\ttest-error:0.49133\n",
      "[5]\ttrain-error:0.49774\ttest-error:0.48992\n",
      "[6]\ttrain-error:0.49424\ttest-error:0.48975\n",
      "[7]\ttrain-error:0.49249\ttest-error:0.48940\n",
      "[8]\ttrain-error:0.47820\ttest-error:0.47608\n",
      "[9]\ttrain-error:0.46287\ttest-error:0.46785\n",
      "[10]\ttrain-error:0.45932\ttest-error:0.46697\n",
      "[11]\ttrain-error:0.45196\ttest-error:0.46434\n",
      "[12]\ttrain-error:0.44565\ttest-error:0.46101\n",
      "[13]\ttrain-error:0.43579\ttest-error:0.45453\n",
      "[14]\ttrain-error:0.42988\ttest-error:0.45138\n",
      "[15]\ttrain-error:0.42361\ttest-error:0.44787\n",
      "[16]\ttrain-error:0.41963\ttest-error:0.44367\n",
      "[17]\ttrain-error:0.41073\ttest-error:0.43841\n",
      "[18]\ttrain-error:0.40022\ttest-error:0.42334\n",
      "[19]\ttrain-error:0.39689\ttest-error:0.42299\n",
      "[20]\ttrain-error:0.39531\ttest-error:0.42106\n",
      "[21]\ttrain-error:0.39194\ttest-error:0.41931\n",
      "[22]\ttrain-error:0.38778\ttest-error:0.41773\n",
      "[23]\ttrain-error:0.38523\ttest-error:0.41528\n",
      "[24]\ttrain-error:0.38361\ttest-error:0.41353\n",
      "[25]\ttrain-error:0.38059\ttest-error:0.41160\n",
      "[26]\ttrain-error:0.37823\ttest-error:0.40915\n",
      "[27]\ttrain-error:0.37599\ttest-error:0.40687\n",
      "[28]\ttrain-error:0.37472\ttest-error:0.40407\n",
      "[29]\ttrain-error:0.37091\ttest-error:0.40477\n",
      "[30]\ttrain-error:0.36859\ttest-error:0.40319\n",
      "[31]\ttrain-error:0.36762\ttest-error:0.40196\n",
      "[32]\ttrain-error:0.36644\ttest-error:0.39986\n",
      "[33]\ttrain-error:0.36372\ttest-error:0.39969\n",
      "[34]\ttrain-error:0.36188\ttest-error:0.39898\n",
      "[35]\ttrain-error:0.35961\ttest-error:0.39828\n",
      "[36]\ttrain-error:0.35790\ttest-error:0.39495\n",
      "[37]\ttrain-error:0.35737\ttest-error:0.39600\n",
      "[38]\ttrain-error:0.35654\ttest-error:0.39443\n",
      "[39]\ttrain-error:0.35606\ttest-error:0.39425\n",
      "[40]\ttrain-error:0.35457\ttest-error:0.39338\n",
      "[41]\ttrain-error:0.35303\ttest-error:0.39232\n",
      "[42]\ttrain-error:0.35194\ttest-error:0.39373\n",
      "[43]\ttrain-error:0.35111\ttest-error:0.39390\n",
      "[44]\ttrain-error:0.35001\ttest-error:0.39338\n",
      "[45]\ttrain-error:0.34892\ttest-error:0.39303\n",
      "[46]\ttrain-error:0.34795\ttest-error:0.39145\n",
      "[47]\ttrain-error:0.34738\ttest-error:0.39162\n",
      "[48]\ttrain-error:0.34576\ttest-error:0.39040\n",
      "[49]\ttrain-error:0.34493\ttest-error:0.38882\n",
      "[50]\ttrain-error:0.34348\ttest-error:0.38900\n",
      "[51]\ttrain-error:0.34186\ttest-error:0.38847\n",
      "[52]\ttrain-error:0.33989\ttest-error:0.38900\n",
      "[53]\ttrain-error:0.33954\ttest-error:0.38847\n",
      "[54]\ttrain-error:0.33831\ttest-error:0.38759\n",
      "[55]\ttrain-error:0.33717\ttest-error:0.38619\n",
      "[56]\ttrain-error:0.33643\ttest-error:0.38567\n",
      "[57]\ttrain-error:0.33450\ttest-error:0.38584\n",
      "[58]\ttrain-error:0.33393\ttest-error:0.38567\n",
      "[59]\ttrain-error:0.33284\ttest-error:0.38567\n",
      "[60]\ttrain-error:0.33157\ttest-error:0.38461\n",
      "[61]\ttrain-error:0.33025\ttest-error:0.38654\n",
      "[62]\ttrain-error:0.32867\ttest-error:0.38742\n",
      "[63]\ttrain-error:0.32837\ttest-error:0.38742\n",
      "[64]\ttrain-error:0.32754\ttest-error:0.38794\n",
      "[65]\ttrain-error:0.32679\ttest-error:0.38742\n",
      "[66]\ttrain-error:0.32583\ttest-error:0.38759\n",
      "[67]\ttrain-error:0.32543\ttest-error:0.38777\n",
      "[68]\ttrain-error:0.32438\ttest-error:0.38584\n",
      "[69]\ttrain-error:0.32403\ttest-error:0.38427\n",
      "[70]\ttrain-error:0.32245\ttest-error:0.38427\n",
      "[71]\ttrain-error:0.32254\ttest-error:0.38497\n",
      "[72]\ttrain-error:0.32153\ttest-error:0.38532\n",
      "[73]\ttrain-error:0.32066\ttest-error:0.38619\n",
      "[74]\ttrain-error:0.31969\ttest-error:0.38672\n",
      "[75]\ttrain-error:0.31886\ttest-error:0.38759\n",
      "[76]\ttrain-error:0.31825\ttest-error:0.38794\n",
      "[77]\ttrain-error:0.31768\ttest-error:0.38672\n",
      "[78]\ttrain-error:0.31702\ttest-error:0.38549\n",
      "[79]\ttrain-error:0.31606\ttest-error:0.38514\n",
      "[80]\ttrain-error:0.31457\ttest-error:0.38444\n",
      "[81]\ttrain-error:0.31426\ttest-error:0.38444\n",
      "[82]\ttrain-error:0.31404\ttest-error:0.38461\n",
      "[83]\ttrain-error:0.31330\ttest-error:0.38374\n",
      "[84]\ttrain-error:0.31268\ttest-error:0.38479\n",
      "[85]\ttrain-error:0.31216\ttest-error:0.38479\n",
      "[86]\ttrain-error:0.31106\ttest-error:0.38356\n",
      "[87]\ttrain-error:0.31040\ttest-error:0.38392\n",
      "[88]\ttrain-error:0.31040\ttest-error:0.38304\n",
      "[89]\ttrain-error:0.31006\ttest-error:0.38216\n",
      "[90]\ttrain-error:0.30918\ttest-error:0.38199\n",
      "[91]\ttrain-error:0.30848\ttest-error:0.38251\n",
      "[92]\ttrain-error:0.30795\ttest-error:0.38286\n",
      "[93]\ttrain-error:0.30760\ttest-error:0.38234\n",
      "[94]\ttrain-error:0.30655\ttest-error:0.38199\n",
      "[95]\ttrain-error:0.30602\ttest-error:0.38199\n",
      "[96]\ttrain-error:0.30554\ttest-error:0.38286\n",
      "[97]\ttrain-error:0.30523\ttest-error:0.38216\n",
      "[98]\ttrain-error:0.30515\ttest-error:0.38094\n",
      "[99]\ttrain-error:0.30432\ttest-error:0.38111\n",
      "[100]\ttrain-error:0.30366\ttest-error:0.38181\n",
      "[101]\ttrain-error:0.30274\ttest-error:0.38216\n",
      "[102]\ttrain-error:0.30274\ttest-error:0.38181\n",
      "[103]\ttrain-error:0.30265\ttest-error:0.38111\n",
      "[104]\ttrain-error:0.30217\ttest-error:0.38041\n",
      "[105]\ttrain-error:0.30099\ttest-error:0.38041\n",
      "[106]\ttrain-error:0.29985\ttest-error:0.38059\n",
      "[107]\ttrain-error:0.29897\ttest-error:0.37988\n",
      "[108]\ttrain-error:0.29831\ttest-error:0.38023\n",
      "[109]\ttrain-error:0.29770\ttest-error:0.38041\n",
      "[110]\ttrain-error:0.29709\ttest-error:0.37953\n",
      "[111]\ttrain-error:0.29687\ttest-error:0.37918\n",
      "[112]\ttrain-error:0.29678\ttest-error:0.37866\n",
      "[113]\ttrain-error:0.29634\ttest-error:0.37918\n",
      "[114]\ttrain-error:0.29599\ttest-error:0.37971\n",
      "[115]\ttrain-error:0.29542\ttest-error:0.37848\n",
      "[116]\ttrain-error:0.29450\ttest-error:0.37901\n",
      "[117]\ttrain-error:0.29354\ttest-error:0.37848\n",
      "[118]\ttrain-error:0.29297\ttest-error:0.37866\n",
      "[119]\ttrain-error:0.29266\ttest-error:0.38006\n",
      "[120]\ttrain-error:0.29200\ttest-error:0.37988\n",
      "[121]\ttrain-error:0.29126\ttest-error:0.38041\n",
      "[122]\ttrain-error:0.29126\ttest-error:0.37988\n",
      "[123]\ttrain-error:0.29082\ttest-error:0.37953\n",
      "[124]\ttrain-error:0.28938\ttest-error:0.38006\n",
      "[125]\ttrain-error:0.28714\ttest-error:0.38094\n",
      "[126]\ttrain-error:0.28679\ttest-error:0.38076\n",
      "[127]\ttrain-error:0.28688\ttest-error:0.37953\n",
      "[128]\ttrain-error:0.28622\ttest-error:0.37901\n",
      "[129]\ttrain-error:0.28561\ttest-error:0.37866\n",
      "[130]\ttrain-error:0.28504\ttest-error:0.37813\n",
      "[131]\ttrain-error:0.28491\ttest-error:0.37866\n",
      "[132]\ttrain-error:0.28421\ttest-error:0.37848\n",
      "[133]\ttrain-error:0.28372\ttest-error:0.37778\n",
      "[134]\ttrain-error:0.28329\ttest-error:0.37761\n",
      "[135]\ttrain-error:0.28250\ttest-error:0.37813\n",
      "[136]\ttrain-error:0.28210\ttest-error:0.37866\n",
      "[137]\ttrain-error:0.28184\ttest-error:0.37831\n",
      "[138]\ttrain-error:0.28180\ttest-error:0.37813\n",
      "[139]\ttrain-error:0.28149\ttest-error:0.37883\n",
      "[140]\ttrain-error:0.28131\ttest-error:0.37883\n",
      "[141]\ttrain-error:0.28079\ttest-error:0.37953\n",
      "[142]\ttrain-error:0.27996\ttest-error:0.37813\n",
      "[143]\ttrain-error:0.27965\ttest-error:0.37901\n",
      "[144]\ttrain-error:0.27921\ttest-error:0.37848\n",
      "[145]\ttrain-error:0.27904\ttest-error:0.37866\n",
      "[146]\ttrain-error:0.27807\ttest-error:0.37918\n",
      "[147]\ttrain-error:0.27790\ttest-error:0.37883\n",
      "[148]\ttrain-error:0.27763\ttest-error:0.37883\n",
      "[149]\ttrain-error:0.27715\ttest-error:0.37761\n",
      "[150]\ttrain-error:0.27663\ttest-error:0.37761\n",
      "[151]\ttrain-error:0.27619\ttest-error:0.37813\n",
      "[152]\ttrain-error:0.27571\ttest-error:0.37796\n",
      "[153]\ttrain-error:0.27536\ttest-error:0.37743\n",
      "[154]\ttrain-error:0.27500\ttest-error:0.37743\n",
      "[155]\ttrain-error:0.27492\ttest-error:0.37743\n",
      "[156]\ttrain-error:0.27430\ttest-error:0.37743\n",
      "[157]\ttrain-error:0.27395\ttest-error:0.37708\n",
      "[158]\ttrain-error:0.27374\ttest-error:0.37691\n",
      "[159]\ttrain-error:0.27343\ttest-error:0.37655\n",
      "[160]\ttrain-error:0.27308\ttest-error:0.37708\n",
      "[161]\ttrain-error:0.27211\ttest-error:0.37761\n",
      "[162]\ttrain-error:0.27128\ttest-error:0.37761\n",
      "[163]\ttrain-error:0.27084\ttest-error:0.37813\n",
      "[164]\ttrain-error:0.27049\ttest-error:0.37761\n",
      "[165]\ttrain-error:0.27001\ttest-error:0.37708\n",
      "[166]\ttrain-error:0.27001\ttest-error:0.37655\n",
      "[167]\ttrain-error:0.26992\ttest-error:0.37585\n",
      "[168]\ttrain-error:0.26970\ttest-error:0.37603\n",
      "[169]\ttrain-error:0.26984\ttest-error:0.37621\n",
      "[170]\ttrain-error:0.26935\ttest-error:0.37568\n",
      "[171]\ttrain-error:0.26896\ttest-error:0.37638\n",
      "[172]\ttrain-error:0.26865\ttest-error:0.37568\n",
      "[173]\ttrain-error:0.26874\ttest-error:0.37621\n",
      "[174]\ttrain-error:0.26870\ttest-error:0.37638\n",
      "[175]\ttrain-error:0.26848\ttest-error:0.37691\n",
      "[176]\ttrain-error:0.26808\ttest-error:0.37655\n",
      "[177]\ttrain-error:0.26795\ttest-error:0.37638\n",
      "[178]\ttrain-error:0.26782\ttest-error:0.37638\n",
      "[179]\ttrain-error:0.26769\ttest-error:0.37655\n",
      "[180]\ttrain-error:0.26730\ttest-error:0.37638\n",
      "[181]\ttrain-error:0.26699\ttest-error:0.37655\n",
      "[182]\ttrain-error:0.26686\ttest-error:0.37655\n",
      "[183]\ttrain-error:0.26694\ttest-error:0.37621\n",
      "[184]\ttrain-error:0.26686\ttest-error:0.37655\n",
      "[185]\ttrain-error:0.26659\ttest-error:0.37638\n",
      "[186]\ttrain-error:0.26651\ttest-error:0.37621\n",
      "[187]\ttrain-error:0.26633\ttest-error:0.37708\n",
      "[188]\ttrain-error:0.26598\ttest-error:0.37743\n",
      "[189]\ttrain-error:0.26611\ttest-error:0.37708\n",
      "[190]\ttrain-error:0.26567\ttest-error:0.37708\n",
      "[191]\ttrain-error:0.26537\ttest-error:0.37708\n",
      "[192]\ttrain-error:0.26523\ttest-error:0.37726\n",
      "[193]\ttrain-error:0.26493\ttest-error:0.37655\n",
      "[194]\ttrain-error:0.26462\ttest-error:0.37638\n",
      "[195]\ttrain-error:0.26445\ttest-error:0.37708\n",
      "[196]\ttrain-error:0.26432\ttest-error:0.37691\n",
      "[197]\ttrain-error:0.26410\ttest-error:0.37673\n",
      "[198]\ttrain-error:0.26410\ttest-error:0.37673\n",
      "[199]\ttrain-error:0.26375\ttest-error:0.37691\n",
      "[200]\ttrain-error:0.26361\ttest-error:0.37673\n",
      "[201]\ttrain-error:0.26331\ttest-error:0.37778\n",
      "[202]\ttrain-error:0.26287\ttest-error:0.37673\n",
      "[203]\ttrain-error:0.26243\ttest-error:0.37603\n",
      "[204]\ttrain-error:0.26204\ttest-error:0.37603\n",
      "[205]\ttrain-error:0.26191\ttest-error:0.37568\n",
      "[206]\ttrain-error:0.26125\ttest-error:0.37568\n",
      "[207]\ttrain-error:0.26129\ttest-error:0.37550\n",
      "[208]\ttrain-error:0.26155\ttest-error:0.37603\n",
      "[209]\ttrain-error:0.26147\ttest-error:0.37638\n",
      "[210]\ttrain-error:0.26112\ttest-error:0.37621\n",
      "[211]\ttrain-error:0.26072\ttest-error:0.37621\n",
      "[212]\ttrain-error:0.26072\ttest-error:0.37585\n",
      "[213]\ttrain-error:0.26050\ttest-error:0.37585\n",
      "[214]\ttrain-error:0.26042\ttest-error:0.37568\n",
      "[215]\ttrain-error:0.26028\ttest-error:0.37585\n",
      "[216]\ttrain-error:0.26033\ttest-error:0.37603\n",
      "[217]\ttrain-error:0.26002\ttest-error:0.37585\n",
      "[218]\ttrain-error:0.25941\ttest-error:0.37603\n",
      "[219]\ttrain-error:0.25923\ttest-error:0.37638\n",
      "[220]\ttrain-error:0.25879\ttest-error:0.37655\n",
      "[221]\ttrain-error:0.25866\ttest-error:0.37691\n",
      "[222]\ttrain-error:0.25849\ttest-error:0.37726\n",
      "[223]\ttrain-error:0.25840\ttest-error:0.37743\n",
      "[224]\ttrain-error:0.25818\ttest-error:0.37726\n",
      "[225]\ttrain-error:0.25801\ttest-error:0.37761\n",
      "[226]\ttrain-error:0.25783\ttest-error:0.37743\n",
      "[227]\ttrain-error:0.25770\ttest-error:0.37743\n",
      "[228]\ttrain-error:0.25757\ttest-error:0.37813\n",
      "[229]\ttrain-error:0.25770\ttest-error:0.37743\n",
      "[230]\ttrain-error:0.25757\ttest-error:0.37761\n",
      "[231]\ttrain-error:0.25757\ttest-error:0.37743\n",
      "[232]\ttrain-error:0.25739\ttest-error:0.37743\n",
      "[233]\ttrain-error:0.25757\ttest-error:0.37691\n",
      "[234]\ttrain-error:0.25713\ttest-error:0.37761\n",
      "[235]\ttrain-error:0.25713\ttest-error:0.37796\n",
      "[236]\ttrain-error:0.25674\ttest-error:0.37831\n",
      "[237]\ttrain-error:0.25643\ttest-error:0.37848\n",
      "[238]\ttrain-error:0.25630\ttest-error:0.37813\n",
      "[239]\ttrain-error:0.25617\ttest-error:0.37831\n",
      "[240]\ttrain-error:0.25604\ttest-error:0.37848\n",
      "[241]\ttrain-error:0.25564\ttest-error:0.37778\n",
      "[242]\ttrain-error:0.25564\ttest-error:0.37778\n",
      "[243]\ttrain-error:0.25511\ttest-error:0.37761\n",
      "[244]\ttrain-error:0.25516\ttest-error:0.37778\n",
      "[245]\ttrain-error:0.25490\ttest-error:0.37778\n",
      "[246]\ttrain-error:0.25490\ttest-error:0.37796\n",
      "[247]\ttrain-error:0.25481\ttest-error:0.37831\n",
      "[248]\ttrain-error:0.25507\ttest-error:0.37761\n",
      "[249]\ttrain-error:0.25485\ttest-error:0.37778\n",
      "250-rounds Training finished ...\t\t(1.844s)\n"
     ]
    }
   ],
   "source": [
    "num_round = 250\n",
    "t0 = time()\n",
    "sh_bst_sm = xgb.train(param_sh, xg_train_sh, num_round, watchlist)\n",
    "print(f\"{num_round}-rounds Training finished ...\\t\\t({time()-t0:.3f}s)\")"
   ]
  },
  {
   "cell_type": "code",
   "execution_count": 436,
   "metadata": {},
   "outputs": [
    {
     "name": "stdout",
     "output_type": "stream",
     "text": [
      "Test error using softmax = 0.3777816716313299\n"
     ]
    }
   ],
   "source": [
    "# get prediction\n",
    "pred_sh = sh_bst_sm.predict(xg_test_sh)\n",
    "error_rate = np.sum(pred_sh != y_test_sh) / y_test_sh.shape[0]\n",
    "print('Test error using softmax = {}'.format(error_rate))"
   ]
  },
  {
   "cell_type": "code",
   "execution_count": 437,
   "metadata": {},
   "outputs": [
    {
     "data": {
      "text/plain": [
       "(Counter({0.0: 2640, 1.0: 3067}), Counter({1: 2903, 0: 2804}))"
      ]
     },
     "execution_count": 437,
     "metadata": {},
     "output_type": "execute_result"
    }
   ],
   "source": [
    "Counter(pred_sh), Counter(y_test_sh)"
   ]
  },
  {
   "cell_type": "code",
   "execution_count": 438,
   "metadata": {},
   "outputs": [
    {
     "name": "stdout",
     "output_type": "stream",
     "text": [
      "              precision    recall  f1-score   support\n",
      "\n",
      "           0       0.62      0.59      0.60      2804\n",
      "           1       0.62      0.66      0.64      2903\n",
      "\n",
      "    accuracy                           0.62      5707\n",
      "   macro avg       0.62      0.62      0.62      5707\n",
      "weighted avg       0.62      0.62      0.62      5707\n",
      "\n"
     ]
    }
   ],
   "source": [
    "report_sh = metrics.classification_report(list(y_test_sh), list(pred_sh))\n",
    "print(report_sh)"
   ]
  },
  {
   "cell_type": "code",
   "execution_count": 439,
   "metadata": {},
   "outputs": [
    {
     "data": {
      "text/plain": [
       "array([0.62160596, 0.62160596])"
      ]
     },
     "execution_count": 439,
     "metadata": {},
     "output_type": "execute_result"
    }
   ],
   "source": [
    "aucs_sh = auc(y_test_sh.astype(np.uint8), pred_sh.astype(np.uint8), [0, 1])\n",
    "aucs_sh"
   ]
  },
  {
   "cell_type": "markdown",
   "metadata": {},
   "source": [
    "## 保存模型"
   ]
  },
  {
   "cell_type": "code",
   "execution_count": 468,
   "metadata": {},
   "outputs": [],
   "source": [
    "wl_bst_sm.save_model('wl_model_v4')\n",
    "sh_bst_sm.save_model('sh_model_v4')"
   ]
  },
  {
   "cell_type": "code",
   "execution_count": 469,
   "metadata": {},
   "outputs": [],
   "source": [
    "def write_log(log_name, info, log_path=\"./\"):\n",
    "    import datetime\n",
    "    with open(os.path.join(log_path, log_name), 'w') as log:\n",
    "        log.write(f\"# {datetime.datetime.now().__str__()}\\n\")\n",
    "        log.write(f\"\\n## model name: {info['model_name']}\\n\")\n",
    "        log.write(f\"- model save path : {info['model_save_path']}\\n\")\n",
    "        \n",
    "        log.write(f\"\\n## Data setup\\n\")\n",
    "        log.write(f\"- dataset.shape : {dataset.shape}\\n\")\n",
    "        log.write(f\"- dataset.columns : {dataset.columns}\\n\")\n",
    "        log.write(f\"- is resample : {info['is_resample']}\\n\")\n",
    "        log.write(f\"- Traing_Data.shape (watch_label)  : {X_train.shape}\\n\")\n",
    "        log.write(f\"- Testing_Data.shape (watch_label) : {X_test.shape}\\n\")\n",
    "        log.write(f\"- Traing_Data.shape (is_share)  : {X_train_sh.shape}\\n\")\n",
    "        log.write(f\"- Testing_Data.shape (is_share) : {X_test_sh.shape}\\n\")\n",
    "        if info.get('is_resample', False):\n",
    "            log.write(f\"- Resampled class distribution (watch_label): \\n{Counter(resampled_wl)}\\n\")\n",
    "            log.write(f\"- Resampled class distribution (is_share): \\n{Counter(resampled_sh)}\\n\")\n",
    "            \n",
    "        log.write(f\"\\n## Model Params\\n\")\n",
    "        log.write(f\"- model params (watch_label) : \\n{param}\\n\")\n",
    "        log.write(f\"- model params (is_share) : \\n{param_sh}\\n\")\n",
    "        \n",
    "        log.write(f\"\\n## Model's Performance\\n\")\n",
    "        log.write(f\"- Aucs (watch_label) : {aucs}\\n\")\n",
    "        log.write(f\"- Weighted Aucs (watch_label) : {w_aucs}\\n\")\n",
    "        log.write(f\"- Aucs (is_share) : {aucs_sh}\\n\")\n",
    "        \n",
    "        log.write(f\"- Classification Report (watch_label) : \\n\\n{report}\\n\")\n",
    "        log.write(f\"- Classification Report (is_share) : \\n\\n{report_sh}\\n\")\n",
    "        \n",
    "        log.flush()\n",
    "        \n",
    "    pass"
   ]
  },
  {
   "cell_type": "code",
   "execution_count": 109,
   "metadata": {},
   "outputs": [
    {
     "data": {
      "text/plain": [
       "'/home/gzy/jupyter-lab/multi-objects-video-recommendation/Models'"
      ]
     },
     "execution_count": 109,
     "metadata": {},
     "output_type": "execute_result"
    }
   ],
   "source": [
    "os.getcwd()"
   ]
  },
  {
   "cell_type": "code",
   "execution_count": 470,
   "metadata": {},
   "outputs": [],
   "source": [
    "log_name = \"log_v4.md\"\n",
    "info = {'is_resample': True, 'model_name': ['wl_model_v3', 'sh_model_v3'], 'model_save_path': os.getcwd()}\n",
    "write_log(log_name, info)"
   ]
  },
  {
   "cell_type": "markdown",
   "metadata": {},
   "source": [
    "## 预测"
   ]
  },
  {
   "cell_type": "code",
   "execution_count": 460,
   "metadata": {},
   "outputs": [],
   "source": [
    "test = inference_dataset\n",
    "test = xgb.DMatrix(test.values, enable_categorical=True)"
   ]
  },
  {
   "cell_type": "code",
   "execution_count": 461,
   "metadata": {},
   "outputs": [
    {
     "data": {
      "text/plain": [
       "((2822180, 70), 70)"
      ]
     },
     "execution_count": 461,
     "metadata": {},
     "output_type": "execute_result"
    }
   ],
   "source": [
    "inference_dataset.shape, test.num_col()"
   ]
  },
  {
   "cell_type": "code",
   "execution_count": 462,
   "metadata": {},
   "outputs": [
    {
     "data": {
      "text/plain": [
       "(Counter({1.0: 1311788,\n",
       "          0.0: 788117,\n",
       "          9.0: 681228,\n",
       "          2.0: 23596,\n",
       "          4.0: 741,\n",
       "          8.0: 9749,\n",
       "          3.0: 3041,\n",
       "          6.0: 2609,\n",
       "          7.0: 910,\n",
       "          5.0: 401}),\n",
       " Counter({1.0: 1131623, 0.0: 1690557}))"
      ]
     },
     "execution_count": 462,
     "metadata": {},
     "output_type": "execute_result"
    }
   ],
   "source": [
    "wl = wl_bst_sm.predict(test)\n",
    "sh = sh_bst_sm.predict(test)\n",
    "Counter(wl), Counter(Counter(sh))"
   ]
  },
  {
   "cell_type": "code",
   "execution_count": 463,
   "metadata": {},
   "outputs": [
    {
     "data": {
      "text/html": [
       "<div>\n",
       "<style scoped>\n",
       "    .dataframe tbody tr th:only-of-type {\n",
       "        vertical-align: middle;\n",
       "    }\n",
       "\n",
       "    .dataframe tbody tr th {\n",
       "        vertical-align: top;\n",
       "    }\n",
       "\n",
       "    .dataframe thead th {\n",
       "        text-align: right;\n",
       "    }\n",
       "</style>\n",
       "<table border=\"1\" class=\"dataframe\">\n",
       "  <thead>\n",
       "    <tr style=\"text-align: right;\">\n",
       "      <th></th>\n",
       "      <th>user_id</th>\n",
       "      <th>video_id</th>\n",
       "      <th>watch_label</th>\n",
       "      <th>is_share</th>\n",
       "    </tr>\n",
       "  </thead>\n",
       "  <tbody>\n",
       "    <tr>\n",
       "      <th>0</th>\n",
       "      <td>1688013</td>\n",
       "      <td>32645</td>\n",
       "      <td>1</td>\n",
       "      <td>1</td>\n",
       "    </tr>\n",
       "    <tr>\n",
       "      <th>1</th>\n",
       "      <td>4502598</td>\n",
       "      <td>41270</td>\n",
       "      <td>0</td>\n",
       "      <td>1</td>\n",
       "    </tr>\n",
       "    <tr>\n",
       "      <th>2</th>\n",
       "      <td>5585629</td>\n",
       "      <td>16345</td>\n",
       "      <td>1</td>\n",
       "      <td>0</td>\n",
       "    </tr>\n",
       "    <tr>\n",
       "      <th>3</th>\n",
       "      <td>1635520</td>\n",
       "      <td>28149</td>\n",
       "      <td>1</td>\n",
       "      <td>1</td>\n",
       "    </tr>\n",
       "    <tr>\n",
       "      <th>4</th>\n",
       "      <td>4160191</td>\n",
       "      <td>40554</td>\n",
       "      <td>1</td>\n",
       "      <td>0</td>\n",
       "    </tr>\n",
       "  </tbody>\n",
       "</table>\n",
       "</div>"
      ],
      "text/plain": [
       "   user_id  video_id  watch_label  is_share\n",
       "0  1688013     32645            1         1\n",
       "1  4502598     41270            0         1\n",
       "2  5585629     16345            1         0\n",
       "3  1635520     28149            1         1\n",
       "4  4160191     40554            1         0"
      ]
     },
     "execution_count": 463,
     "metadata": {},
     "output_type": "execute_result"
    }
   ],
   "source": [
    "test_df['watch_label'] = wl.astype(np.uint8)\n",
    "test_df['is_share'] = sh.astype(np.uint8)\n",
    "test_df.head()"
   ]
  },
  {
   "cell_type": "code",
   "execution_count": 467,
   "metadata": {},
   "outputs": [],
   "source": [
    "test_df.to_csv(f'../submission-{int(time())}.csv', index=False, sep=\",\")"
   ]
  },
  {
   "cell_type": "code",
   "execution_count": 464,
   "metadata": {},
   "outputs": [
    {
     "data": {
      "text/html": [
       "<div>\n",
       "<style scoped>\n",
       "    .dataframe tbody tr th:only-of-type {\n",
       "        vertical-align: middle;\n",
       "    }\n",
       "\n",
       "    .dataframe tbody tr th {\n",
       "        vertical-align: top;\n",
       "    }\n",
       "\n",
       "    .dataframe thead th {\n",
       "        text-align: right;\n",
       "    }\n",
       "</style>\n",
       "<table border=\"1\" class=\"dataframe\">\n",
       "  <thead>\n",
       "    <tr style=\"text-align: right;\">\n",
       "      <th></th>\n",
       "      <th>user_id</th>\n",
       "      <th>video_id</th>\n",
       "      <th>watch_label</th>\n",
       "      <th>is_share</th>\n",
       "    </tr>\n",
       "  </thead>\n",
       "  <tbody>\n",
       "    <tr>\n",
       "      <th>0</th>\n",
       "      <td>1688013</td>\n",
       "      <td>32645</td>\n",
       "      <td>1</td>\n",
       "      <td>0</td>\n",
       "    </tr>\n",
       "    <tr>\n",
       "      <th>1</th>\n",
       "      <td>4502598</td>\n",
       "      <td>41270</td>\n",
       "      <td>0</td>\n",
       "      <td>1</td>\n",
       "    </tr>\n",
       "    <tr>\n",
       "      <th>2</th>\n",
       "      <td>5585629</td>\n",
       "      <td>16345</td>\n",
       "      <td>1</td>\n",
       "      <td>0</td>\n",
       "    </tr>\n",
       "    <tr>\n",
       "      <th>3</th>\n",
       "      <td>1635520</td>\n",
       "      <td>28149</td>\n",
       "      <td>1</td>\n",
       "      <td>1</td>\n",
       "    </tr>\n",
       "    <tr>\n",
       "      <th>4</th>\n",
       "      <td>4160191</td>\n",
       "      <td>40554</td>\n",
       "      <td>1</td>\n",
       "      <td>0</td>\n",
       "    </tr>\n",
       "  </tbody>\n",
       "</table>\n",
       "</div>"
      ],
      "text/plain": [
       "   user_id  video_id  watch_label  is_share\n",
       "0  1688013     32645            1         0\n",
       "1  4502598     41270            0         1\n",
       "2  5585629     16345            1         0\n",
       "3  1635520     28149            1         1\n",
       "4  4160191     40554            1         0"
      ]
     },
     "execution_count": 464,
     "metadata": {},
     "output_type": "execute_result"
    }
   ],
   "source": [
    "tdf = pd.read_csv('../submission-1624972040.csv')\n",
    "tdf.head()"
   ]
  },
  {
   "cell_type": "code",
   "execution_count": 465,
   "metadata": {},
   "outputs": [],
   "source": [
    "widx = test_df['watch_label'] != tdf['watch_label']\n",
    "sidx = test_df['is_share'] != tdf['is_share']"
   ]
  },
  {
   "cell_type": "code",
   "execution_count": 477,
   "metadata": {},
   "outputs": [
    {
     "data": {
      "text/plain": [
       "(465361, 551398)"
      ]
     },
     "execution_count": 477,
     "metadata": {},
     "output_type": "execute_result"
    }
   ],
   "source": [
    "widx.sum(), sidx.sum()"
   ]
  },
  {
   "cell_type": "markdown",
   "metadata": {},
   "source": [
    "# 服务器间同步文件"
   ]
  },
  {
   "cell_type": "markdown",
   "metadata": {},
   "source": [
    "## 推向Digix服务器"
   ]
  },
  {
   "cell_type": "code",
   "execution_count": 471,
   "metadata": {},
   "outputs": [
    {
     "name": "stdout",
     "output_type": "stream",
     "text": [
      "models.ipynb                                  100%  110KB   9.9MB/s   00:00    \n"
     ]
    }
   ],
   "source": [
    "!scp ./models.ipynb digix@49.123.120.71:/home/digix/digix/Models/models.ipynb "
   ]
  },
  {
   "cell_type": "code",
   "execution_count": 472,
   "metadata": {},
   "outputs": [
    {
     "name": "stdout",
     "output_type": "stream",
     "text": [
      "explore-data.ipynb                            100%  306KB  10.6MB/s   00:00    \n"
     ]
    }
   ],
   "source": [
    "!scp ../explore-data.ipynb digix@49.123.120.71:/home/digix/digix/explore-data.ipynb "
   ]
  },
  {
   "cell_type": "markdown",
   "metadata": {},
   "source": [
    "## 从Digix服务器拉数据"
   ]
  },
  {
   "cell_type": "code",
   "execution_count": 473,
   "metadata": {},
   "outputs": [
    {
     "name": "stdout",
     "output_type": "stream",
     "text": [
      "LightGBM.ipynb                                100%   71KB   9.5MB/s   00:00    \n"
     ]
    }
   ],
   "source": [
    "!scp  digix@49.123.120.71:/home/digix/digix/Models/LightGBM.ipynb ./LightGBM.ipynb"
   ]
  },
  {
   "cell_type": "code",
   "execution_count": 474,
   "metadata": {},
   "outputs": [
    {
     "name": "stdout",
     "output_type": "stream",
     "text": [
      "scp: /home/digix/digix/Models/feature_engineering.ipynb: No such file or directory\n"
     ]
    }
   ],
   "source": [
    "!scp  digix@49.123.120.71:/home/digix/digix/Models/feature_engineering.ipynb ./feature_engineering.ipynb"
   ]
  },
  {
   "cell_type": "code",
   "execution_count": 475,
   "metadata": {},
   "outputs": [
    {
     "name": "stdout",
     "output_type": "stream",
     "text": [
      "data_analysis.ipynb                           100% 4303KB  11.2MB/s   00:00    \n",
      "data_analysis-checkpoint.ipynb                100% 4303KB  11.1MB/s   00:00    \n"
     ]
    }
   ],
   "source": [
    "!scp -r digix@49.123.120.71:/home/digix/digix/Models/Feature_Engineering/  ./"
   ]
  },
  {
   "cell_type": "code",
   "execution_count": null,
   "metadata": {},
   "outputs": [],
   "source": []
  }
 ],
 "metadata": {
  "kernelspec": {
   "display_name": "Python 3",
   "language": "python",
   "name": "python3"
  },
  "language_info": {
   "codemirror_mode": {
    "name": "ipython",
    "version": 3
   },
   "file_extension": ".py",
   "mimetype": "text/x-python",
   "name": "python",
   "nbconvert_exporter": "python",
   "pygments_lexer": "ipython3",
   "version": "3.8.5"
  },
  "toc-autonumbering": true
 },
 "nbformat": 4,
 "nbformat_minor": 4
}
