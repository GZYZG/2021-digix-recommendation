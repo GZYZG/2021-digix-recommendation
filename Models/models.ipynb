{
 "cells": [
  {
   "cell_type": "code",
   "execution_count": 1,
   "metadata": {},
   "outputs": [],
   "source": [
    "import numpy as np\n",
    "from sklearn import metrics\n",
    "import os\n",
    "from sklearn.model_selection import train_test_split\n",
    "from sklearn import metrics\n",
    "from time import time\n",
    "import pandas as pd\n",
    "import xgboost as xgb\n",
    "from collections import Counter\n",
    "from imblearn.over_sampling import SMOTE\n",
    "from imblearn.under_sampling import NearMiss"
   ]
  },
  {
   "cell_type": "markdown",
   "metadata": {},
   "source": [
    "# 给定预测标签，计算AUC\n",
    "使用OVR的策略计算每个类别的AUC\n",
    "过程：\n",
    "- 选择类别i作为正类，其他类别作为负类\n",
    "- 将真实标签中不等于i的标记为0，等于i的标记为1\n",
    "- 将预测标签中不等于i的标记为0，等于ide标记为1\n",
    "- 计算混淆矩阵\n",
    "- 计算(fpr, tpr)\n",
    "- 计算AUC"
   ]
  },
  {
   "cell_type": "code",
   "execution_count": 11,
   "metadata": {},
   "outputs": [],
   "source": [
    "y = np.random.randint(0, 10, 100)\n",
    "p = np.random.randint(0, 10, 100)"
   ]
  },
  {
   "cell_type": "code",
   "execution_count": 30,
   "metadata": {
    "tags": []
   },
   "outputs": [],
   "source": [
    "def confusion_matrix(label, predict, n):\n",
    "    \"\"\"\n",
    "    计算混淆矩阵\n",
    "    :param label: 标签，np.array类型。形状可以是(n_sample,) 或者 (n_sample, n_classes)，当为第二种形状时可以表示多标签分类的情况\n",
    "    :param predict: 预测值，与 `label` 同理\n",
    "    :param n: 类别数目\n",
    "    :return: 混淆矩阵，np.array类型。shape 为 (n, n)。$cm_{ij}$表示真实标签为 $i$，预测标签为 $j$ 的样本个数\n",
    "    \"\"\"\n",
    "    k = (label >= 0) & (label < n)\n",
    "    # bincount()函数用于统计数组内每个非负整数的个数\n",
    "    # 详见 https://docs.scipy.org/doc/numpy/reference/generated/numpy.bincount.html\n",
    "    return np.bincount(n * label[k].astype(int) + predict[k], minlength=n ** 2).reshape(n, n)\n",
    "\n",
    "\n",
    "def auc(y, p, classes):\n",
    "    \"\"\"\n",
    "    给定真实标签和预测标签，计算每个类别的auc值。实际只算出了roc曲线上一个点，即一个(fpr, tpr)，再并上(0, 0)和(1, 1)来计算auc\n",
    "    :param y: 标签，np.array类型\n",
    "    :param p: 预测标签，np.array类型\n",
    "    :param classes: 类别，list-like，表示有哪些类别\n",
    "    \"\"\"\n",
    "    all_aucs = np.zeros(len(classes))\n",
    "    for i, c in enumerate(classes):\n",
    "        _y = np.zeros_like(y)\n",
    "        _y[y==c] = 1\n",
    "        _y[y!=c] = 0\n",
    "        _p = np.zeros_like(p)\n",
    "        _p[p==c] = 1\n",
    "        _p[p!=c] = 0\n",
    "#         print(_y, _p)\n",
    "        cm = confusion_matrix(_y, _p, 2)\n",
    "#         print(cm)\n",
    "        tpr = (cm[0, 0] / (cm[0, 0] + cm[0, 1])) if (cm[0, 0] + cm[0, 1]) != 0 else 0\n",
    "        fpr = (cm[1, 0] / (cm[1, 0] + cm[1, 1])) if (cm[1, 0] + cm[1, 1]) != 0 else 0\n",
    "        tpr = [0, tpr, 1]\n",
    "        fpr = [0, fpr, 1]\n",
    "        auc = metrics.auc(fpr, tpr)\n",
    "        all_aucs[i] = auc\n",
    "        if _y.sum() == 0 or _p.sum() == 0:\n",
    "            all_aucs[i] = 0\n",
    "    return all_aucs"
   ]
  },
  {
   "cell_type": "code",
   "execution_count": 12,
   "metadata": {
    "tags": []
   },
   "outputs": [
    {
     "name": "stdout",
     "output_type": "stream",
     "text": [
      "[0.5298913  0.65555556 0.52304147 0.50747508 0.52445652 0.58219623\n",
      " 0.57264957 0.46842105 0.53379416 0.50795756]\n",
      "2.3789687141650595\n"
     ]
    }
   ],
   "source": [
    "classes = list(range(10))\n",
    "weights = np.arange(0, 1, 0.1)\n",
    "all_aucs = auc(y, p, classes)\n",
    "\n",
    "weighted_auc = (all_aucs * weights).sum()\n",
    "print(f\"{all_aucs}\\n{weighted_auc}\")"
   ]
  },
  {
   "cell_type": "code",
   "execution_count": 13,
   "metadata": {},
   "outputs": [
    {
     "name": "stdout",
     "output_type": "stream",
     "text": [
      "[0.5 0.5]\n"
     ]
    }
   ],
   "source": [
    "classes = list(range(2))\n",
    "y = np.array([0, 0, 1, 1])\n",
    "p = np.array([0, 1, 0, 1])\n",
    "all_aucs = auc(y, p, classes)\n",
    "\n",
    "print(f\"{all_aucs}\")"
   ]
  },
  {
   "cell_type": "markdown",
   "metadata": {},
   "source": [
    "# 加载数据\n",
    "训练数据加载过程：\n",
    "1. 分别加载处理好的用户特征和视频特征，以及整合的用户历史行为数据；\n",
    "2. 从用户历史行为数据中筛掉在视频特征中没出现过的video_id；\n",
    "3. 将行为数据中的user_id、video_id替换为对应用户/视频的特征\n",
    "4. 根据不同的任务划分为`watch_label`、`is_share`的数据集\n",
    "\n",
    "推断时，类似于上述过程拼接数据。"
   ]
  },
  {
   "cell_type": "code",
   "execution_count": 2,
   "metadata": {},
   "outputs": [],
   "source": [
    "base_dir = \"../2021_3_data\"\n",
    "test_data_dir  = os.path.join(base_dir, \"testdata\")\n",
    "train_data_dir = os.path.join(base_dir, \"traindata\")"
   ]
  },
  {
   "cell_type": "code",
   "execution_count": 3,
   "metadata": {},
   "outputs": [],
   "source": [
    "user_   = np.load(os.path.join(train_data_dir, \"user_features_data/user_features.npz\"), allow_pickle=True)\n",
    "video_  = np.load(os.path.join(train_data_dir, \"video_features_data/video_features.npz\"), allow_pickle=True)"
   ]
  },
  {
   "cell_type": "code",
   "execution_count": 4,
   "metadata": {},
   "outputs": [],
   "source": [
    "user_feats, user_cols = user_['features'], user_['columns']\n",
    "video_feats, video_cols = video_['features'], video_['columns']"
   ]
  },
  {
   "cell_type": "code",
   "execution_count": 5,
   "metadata": {},
   "outputs": [],
   "source": [
    "user_df = pd.DataFrame(user_feats, columns=user_cols)\n",
    "video_df = pd.DataFrame(video_feats, columns=video_cols)"
   ]
  },
  {
   "cell_type": "markdown",
   "metadata": {},
   "source": [
    "## 加载训练数据"
   ]
  },
  {
   "cell_type": "code",
   "execution_count": 14,
   "metadata": {},
   "outputs": [],
   "source": [
    "action_  = np.load(os.path.join(train_data_dir, \"all_actions.npz\"), allow_pickle=True) "
   ]
  },
  {
   "cell_type": "code",
   "execution_count": 15,
   "metadata": {},
   "outputs": [],
   "source": [
    "action_data, action_cols = action_['data'], action_['columns']"
   ]
  },
  {
   "cell_type": "code",
   "execution_count": 16,
   "metadata": {},
   "outputs": [],
   "source": [
    "action_df = pd.DataFrame(action_data, columns=action_cols)"
   ]
  },
  {
   "cell_type": "code",
   "execution_count": 17,
   "metadata": {},
   "outputs": [
    {
     "data": {
      "text/plain": [
       "(7353024, 5)"
      ]
     },
     "execution_count": 17,
     "metadata": {},
     "output_type": "execute_result"
    }
   ],
   "source": [
    "action_df.shape"
   ]
  },
  {
   "cell_type": "code",
   "execution_count": 18,
   "metadata": {},
   "outputs": [
    {
     "data": {
      "text/plain": [
       "Int64Index([   15,   144,   428,   497,   876,  1174,  2127,  2199,  2334,\n",
       "             3153,\n",
       "            ...\n",
       "            48069, 48269, 48343, 48626, 49103, 49241, 49404, 49419, 49793,\n",
       "            50337],\n",
       "           dtype='int64', length=243)"
      ]
     },
     "execution_count": 18,
     "metadata": {},
     "output_type": "execute_result"
    }
   ],
   "source": [
    "# 从用户历史行为数据中筛掉在视频特征中没出现过的video_id\n",
    "idx1 = pd.Index(action_df['video_id'].unique())\n",
    "idx2 = pd.Index(video_df['video_id'])\n",
    "not_exists = idx1.difference(idx2)\n",
    "not_exists"
   ]
  },
  {
   "cell_type": "code",
   "execution_count": 19,
   "metadata": {},
   "outputs": [
    {
     "name": "stdout",
     "output_type": "stream",
     "text": [
      "在视频特征中不存在的video_id在行为数据集中出现的次数 = 45006\t\t(cost 10.650s)\n"
     ]
    }
   ],
   "source": [
    "t0 = time()\n",
    "n = 0\n",
    "for vid in not_exists:\n",
    "    tn = (action_df['video_id'] == vid).sum()\n",
    "#     action_df = action_df[action_df['video_id'] != vid]\n",
    "    action_df['video_id'].replace(vid, np.nan, inplace=True)\n",
    "    n += tn\n",
    "action_df.dropna(axis=0, inplace=True)\n",
    "print(f\"在视频特征中不存在的video_id在行为数据集中出现的次数 = {n}\\t\\t(cost {time() - t0:.3f}s)\")"
   ]
  },
  {
   "cell_type": "code",
   "execution_count": 21,
   "metadata": {},
   "outputs": [
    {
     "data": {
      "text/plain": [
       "(7308018, 5)"
      ]
     },
     "execution_count": 21,
     "metadata": {},
     "output_type": "execute_result"
    }
   ],
   "source": [
    "action_df.shape"
   ]
  },
  {
   "cell_type": "code",
   "execution_count": 20,
   "metadata": {},
   "outputs": [],
   "source": [
    "video_action = video_df.merge(action_df, how='right', left_on='video_id', right_on='video_id')"
   ]
  },
  {
   "cell_type": "code",
   "execution_count": 28,
   "metadata": {},
   "outputs": [
    {
     "data": {
      "text/html": [
       "<div>\n",
       "<style scoped>\n",
       "    .dataframe tbody tr th:only-of-type {\n",
       "        vertical-align: middle;\n",
       "    }\n",
       "\n",
       "    .dataframe tbody tr th {\n",
       "        vertical-align: top;\n",
       "    }\n",
       "\n",
       "    .dataframe thead th {\n",
       "        text-align: right;\n",
       "    }\n",
       "</style>\n",
       "<table border=\"1\" class=\"dataframe\">\n",
       "  <thead>\n",
       "    <tr style=\"text-align: right;\">\n",
       "      <th></th>\n",
       "      <th>video_id</th>\n",
       "      <th>video_name</th>\n",
       "      <th>video_score</th>\n",
       "      <th>video_duration</th>\n",
       "      <th>video_release_year</th>\n",
       "      <th>video_release_month</th>\n",
       "      <th>video_release_day</th>\n",
       "      <th>desc_0</th>\n",
       "      <th>desc_1</th>\n",
       "      <th>desc_2</th>\n",
       "      <th>...</th>\n",
       "      <th>class_9</th>\n",
       "      <th>da_0</th>\n",
       "      <th>da_1</th>\n",
       "      <th>da_2</th>\n",
       "      <th>da_3</th>\n",
       "      <th>da_4</th>\n",
       "      <th>user_id</th>\n",
       "      <th>is_watch</th>\n",
       "      <th>is_share</th>\n",
       "      <th>watch_label</th>\n",
       "    </tr>\n",
       "  </thead>\n",
       "  <tbody>\n",
       "    <tr>\n",
       "      <th>0</th>\n",
       "      <td>28149</td>\n",
       "      <td>人潮汹涌</td>\n",
       "      <td>0.8</td>\n",
       "      <td>265</td>\n",
       "      <td>2021.0</td>\n",
       "      <td>2.0</td>\n",
       "      <td>12.0</td>\n",
       "      <td>0.277669</td>\n",
       "      <td>0.591679</td>\n",
       "      <td>0.016331</td>\n",
       "      <td>...</td>\n",
       "      <td>0.037483</td>\n",
       "      <td>0.075849</td>\n",
       "      <td>0.075966</td>\n",
       "      <td>0.388902</td>\n",
       "      <td>0.383616</td>\n",
       "      <td>0.075666</td>\n",
       "      <td>4239342</td>\n",
       "      <td>1</td>\n",
       "      <td>0</td>\n",
       "      <td>2</td>\n",
       "    </tr>\n",
       "    <tr>\n",
       "      <th>1</th>\n",
       "      <td>115</td>\n",
       "      <td>数码宝贝：最后的进化</td>\n",
       "      <td>0.81</td>\n",
       "      <td>194</td>\n",
       "      <td>2020.0</td>\n",
       "      <td>10.0</td>\n",
       "      <td>30.0</td>\n",
       "      <td>0.026072</td>\n",
       "      <td>0.026047</td>\n",
       "      <td>0.026042</td>\n",
       "      <td>...</td>\n",
       "      <td>0.626961</td>\n",
       "      <td>0.084394</td>\n",
       "      <td>0.361578</td>\n",
       "      <td>0.082888</td>\n",
       "      <td>0.082888</td>\n",
       "      <td>0.388253</td>\n",
       "      <td>3577036</td>\n",
       "      <td>1</td>\n",
       "      <td>0</td>\n",
       "      <td>0</td>\n",
       "    </tr>\n",
       "    <tr>\n",
       "      <th>2</th>\n",
       "      <td>3636</td>\n",
       "      <td>东海异闻录</td>\n",
       "      <td>0.77</td>\n",
       "      <td>3807</td>\n",
       "      <td>2021.0</td>\n",
       "      <td>4.0</td>\n",
       "      <td>24.0</td>\n",
       "      <td>0.018332</td>\n",
       "      <td>0.351056</td>\n",
       "      <td>0.018328</td>\n",
       "      <td>...</td>\n",
       "      <td>0.041772</td>\n",
       "      <td>0.324848</td>\n",
       "      <td>0.083544</td>\n",
       "      <td>0.083544</td>\n",
       "      <td>0.083544</td>\n",
       "      <td>0.424519</td>\n",
       "      <td>5527504</td>\n",
       "      <td>1</td>\n",
       "      <td>0</td>\n",
       "      <td>5</td>\n",
       "    </tr>\n",
       "    <tr>\n",
       "      <th>3</th>\n",
       "      <td>12968</td>\n",
       "      <td>刺杀小说家</td>\n",
       "      <td>0.79</td>\n",
       "      <td>7791</td>\n",
       "      <td>2021.0</td>\n",
       "      <td>2.0</td>\n",
       "      <td>12.0</td>\n",
       "      <td>0.022649</td>\n",
       "      <td>0.022656</td>\n",
       "      <td>0.022645</td>\n",
       "      <td>...</td>\n",
       "      <td>0.034261</td>\n",
       "      <td>0.50428</td>\n",
       "      <td>0.072258</td>\n",
       "      <td>0.070551</td>\n",
       "      <td>0.069007</td>\n",
       "      <td>0.283903</td>\n",
       "      <td>1117889</td>\n",
       "      <td>1</td>\n",
       "      <td>0</td>\n",
       "      <td>0</td>\n",
       "    </tr>\n",
       "    <tr>\n",
       "      <th>4</th>\n",
       "      <td>860</td>\n",
       "      <td>飞驰人生</td>\n",
       "      <td>0.84</td>\n",
       "      <td>5889</td>\n",
       "      <td>2019.0</td>\n",
       "      <td>2.0</td>\n",
       "      <td>5.0</td>\n",
       "      <td>0.345659</td>\n",
       "      <td>0.029107</td>\n",
       "      <td>0.029101</td>\n",
       "      <td>...</td>\n",
       "      <td>0.037924</td>\n",
       "      <td>0.076261</td>\n",
       "      <td>0.39165</td>\n",
       "      <td>0.077193</td>\n",
       "      <td>0.075847</td>\n",
       "      <td>0.379048</td>\n",
       "      <td>1117889</td>\n",
       "      <td>1</td>\n",
       "      <td>0</td>\n",
       "      <td>4</td>\n",
       "    </tr>\n",
       "  </tbody>\n",
       "</table>\n",
       "<p>5 rows × 46 columns</p>\n",
       "</div>"
      ],
      "text/plain": [
       "  video_id  video_name video_score video_duration video_release_year  \\\n",
       "0    28149        人潮汹涌         0.8            265             2021.0   \n",
       "1      115  数码宝贝：最后的进化        0.81            194             2020.0   \n",
       "2     3636       东海异闻录        0.77           3807             2021.0   \n",
       "3    12968       刺杀小说家        0.79           7791             2021.0   \n",
       "4      860        飞驰人生        0.84           5889             2019.0   \n",
       "\n",
       "  video_release_month video_release_day    desc_0    desc_1    desc_2  ...  \\\n",
       "0                 2.0              12.0  0.277669  0.591679  0.016331  ...   \n",
       "1                10.0              30.0  0.026072  0.026047  0.026042  ...   \n",
       "2                 4.0              24.0  0.018332  0.351056  0.018328  ...   \n",
       "3                 2.0              12.0  0.022649  0.022656  0.022645  ...   \n",
       "4                 2.0               5.0  0.345659  0.029107  0.029101  ...   \n",
       "\n",
       "    class_9      da_0      da_1      da_2      da_3      da_4  user_id  \\\n",
       "0  0.037483  0.075849  0.075966  0.388902  0.383616  0.075666  4239342   \n",
       "1  0.626961  0.084394  0.361578  0.082888  0.082888  0.388253  3577036   \n",
       "2  0.041772  0.324848  0.083544  0.083544  0.083544  0.424519  5527504   \n",
       "3  0.034261   0.50428  0.072258  0.070551  0.069007  0.283903  1117889   \n",
       "4  0.037924  0.076261   0.39165  0.077193  0.075847  0.379048  1117889   \n",
       "\n",
       "  is_watch is_share watch_label  \n",
       "0        1        0           2  \n",
       "1        1        0           0  \n",
       "2        1        0           5  \n",
       "3        1        0           0  \n",
       "4        1        0           4  \n",
       "\n",
       "[5 rows x 46 columns]"
      ]
     },
     "execution_count": 28,
     "metadata": {},
     "output_type": "execute_result"
    }
   ],
   "source": [
    "# print(video_action.columns)\n",
    "video_action.head()"
   ]
  },
  {
   "cell_type": "code",
   "execution_count": 29,
   "metadata": {},
   "outputs": [],
   "source": [
    "user_video_action = user_df.merge(video_action, how='right', left_on='user_id', right_on='user_id')"
   ]
  },
  {
   "cell_type": "code",
   "execution_count": 30,
   "metadata": {},
   "outputs": [
    {
     "data": {
      "text/plain": [
       "((7308018, 76),\n",
       " Index(['user_id', 'age_0', 'age_1', 'age_2', 'age_3', 'age_4', 'age_5',\n",
       "        'age_6', 'age_7', 'gender_0', 'gender_1', 'gender_2', 'gender_3',\n",
       "        'city_level_0', 'city_level_1', 'city_level_2', 'city_level_3',\n",
       "        'city_level_4', 'city_level_5', 'city_level_6', 'city_level_7',\n",
       "        'device_name_0', 'device_name_1', 'device_name_2', 'device_name_3',\n",
       "        'device_name_4', 'device_name_5', 'device_name_6', 'device_name_7',\n",
       "        'device_name_8', 'device_name_9', 'video_id', 'video_name',\n",
       "        'video_score', 'video_duration', 'video_release_year',\n",
       "        'video_release_month', 'video_release_day', 'desc_0', 'desc_1',\n",
       "        'desc_2', 'desc_3', 'desc_4', 'desc_5', 'desc_6', 'desc_7', 'desc_8',\n",
       "        'desc_9', 'tags_0', 'tags_1', 'tags_2', 'tags_3', 'tags_4', 'tags_5',\n",
       "        'tags_6', 'tags_7', 'tags_8', 'tags_9', 'class_0', 'class_1', 'class_2',\n",
       "        'class_3', 'class_4', 'class_5', 'class_6', 'class_7', 'class_8',\n",
       "        'class_9', 'da_0', 'da_1', 'da_2', 'da_3', 'da_4', 'is_watch',\n",
       "        'is_share', 'watch_label'],\n",
       "       dtype='object'))"
      ]
     },
     "execution_count": 30,
     "metadata": {},
     "output_type": "execute_result"
    }
   ],
   "source": [
    "user_video_action.shape, user_video_action.columns"
   ]
  },
  {
   "cell_type": "code",
   "execution_count": 31,
   "metadata": {},
   "outputs": [
    {
     "data": {
      "text/html": [
       "<div>\n",
       "<style scoped>\n",
       "    .dataframe tbody tr th:only-of-type {\n",
       "        vertical-align: middle;\n",
       "    }\n",
       "\n",
       "    .dataframe tbody tr th {\n",
       "        vertical-align: top;\n",
       "    }\n",
       "\n",
       "    .dataframe thead th {\n",
       "        text-align: right;\n",
       "    }\n",
       "</style>\n",
       "<table border=\"1\" class=\"dataframe\">\n",
       "  <thead>\n",
       "    <tr style=\"text-align: right;\">\n",
       "      <th></th>\n",
       "      <th>user_id</th>\n",
       "      <th>video_id</th>\n",
       "      <th>age_0</th>\n",
       "      <th>age_1</th>\n",
       "      <th>age_2</th>\n",
       "      <th>age_3</th>\n",
       "      <th>age_4</th>\n",
       "      <th>age_5</th>\n",
       "      <th>age_6</th>\n",
       "      <th>age_7</th>\n",
       "      <th>...</th>\n",
       "      <th>class_7</th>\n",
       "      <th>class_8</th>\n",
       "      <th>class_9</th>\n",
       "      <th>da_0</th>\n",
       "      <th>da_1</th>\n",
       "      <th>da_2</th>\n",
       "      <th>da_3</th>\n",
       "      <th>da_4</th>\n",
       "      <th>is_share</th>\n",
       "      <th>watch_label</th>\n",
       "    </tr>\n",
       "  </thead>\n",
       "  <tbody>\n",
       "    <tr>\n",
       "      <th>0</th>\n",
       "      <td>4239342.0</td>\n",
       "      <td>28149</td>\n",
       "      <td>0.0</td>\n",
       "      <td>1.0</td>\n",
       "      <td>0.0</td>\n",
       "      <td>0.0</td>\n",
       "      <td>0.0</td>\n",
       "      <td>0.0</td>\n",
       "      <td>0.0</td>\n",
       "      <td>0.0</td>\n",
       "      <td>...</td>\n",
       "      <td>0.037486</td>\n",
       "      <td>0.395894</td>\n",
       "      <td>0.037483</td>\n",
       "      <td>0.075849</td>\n",
       "      <td>0.075966</td>\n",
       "      <td>0.388902</td>\n",
       "      <td>0.383616</td>\n",
       "      <td>0.075666</td>\n",
       "      <td>0</td>\n",
       "      <td>2</td>\n",
       "    </tr>\n",
       "    <tr>\n",
       "      <th>1</th>\n",
       "      <td>3577036.0</td>\n",
       "      <td>115</td>\n",
       "      <td>0.0</td>\n",
       "      <td>1.0</td>\n",
       "      <td>0.0</td>\n",
       "      <td>0.0</td>\n",
       "      <td>0.0</td>\n",
       "      <td>0.0</td>\n",
       "      <td>0.0</td>\n",
       "      <td>0.0</td>\n",
       "      <td>...</td>\n",
       "      <td>0.041444</td>\n",
       "      <td>0.041444</td>\n",
       "      <td>0.626961</td>\n",
       "      <td>0.084394</td>\n",
       "      <td>0.361578</td>\n",
       "      <td>0.082888</td>\n",
       "      <td>0.082888</td>\n",
       "      <td>0.388253</td>\n",
       "      <td>0</td>\n",
       "      <td>0</td>\n",
       "    </tr>\n",
       "    <tr>\n",
       "      <th>2</th>\n",
       "      <td>5527504.0</td>\n",
       "      <td>3636</td>\n",
       "      <td>1.0</td>\n",
       "      <td>0.0</td>\n",
       "      <td>0.0</td>\n",
       "      <td>0.0</td>\n",
       "      <td>0.0</td>\n",
       "      <td>0.0</td>\n",
       "      <td>0.0</td>\n",
       "      <td>0.0</td>\n",
       "      <td>...</td>\n",
       "      <td>0.041779</td>\n",
       "      <td>0.04178</td>\n",
       "      <td>0.041772</td>\n",
       "      <td>0.324848</td>\n",
       "      <td>0.083544</td>\n",
       "      <td>0.083544</td>\n",
       "      <td>0.083544</td>\n",
       "      <td>0.424519</td>\n",
       "      <td>0</td>\n",
       "      <td>5</td>\n",
       "    </tr>\n",
       "    <tr>\n",
       "      <th>3</th>\n",
       "      <td>1117889.0</td>\n",
       "      <td>12968</td>\n",
       "      <td>0.0</td>\n",
       "      <td>0.0</td>\n",
       "      <td>0.0</td>\n",
       "      <td>1.0</td>\n",
       "      <td>0.0</td>\n",
       "      <td>0.0</td>\n",
       "      <td>0.0</td>\n",
       "      <td>0.0</td>\n",
       "      <td>...</td>\n",
       "      <td>0.034266</td>\n",
       "      <td>0.034261</td>\n",
       "      <td>0.034261</td>\n",
       "      <td>0.50428</td>\n",
       "      <td>0.072258</td>\n",
       "      <td>0.070551</td>\n",
       "      <td>0.069007</td>\n",
       "      <td>0.283903</td>\n",
       "      <td>0</td>\n",
       "      <td>0</td>\n",
       "    </tr>\n",
       "    <tr>\n",
       "      <th>4</th>\n",
       "      <td>1117889.0</td>\n",
       "      <td>860</td>\n",
       "      <td>0.0</td>\n",
       "      <td>0.0</td>\n",
       "      <td>0.0</td>\n",
       "      <td>1.0</td>\n",
       "      <td>0.0</td>\n",
       "      <td>0.0</td>\n",
       "      <td>0.0</td>\n",
       "      <td>0.0</td>\n",
       "      <td>...</td>\n",
       "      <td>0.037929</td>\n",
       "      <td>0.037924</td>\n",
       "      <td>0.037924</td>\n",
       "      <td>0.076261</td>\n",
       "      <td>0.39165</td>\n",
       "      <td>0.077193</td>\n",
       "      <td>0.075847</td>\n",
       "      <td>0.379048</td>\n",
       "      <td>0</td>\n",
       "      <td>4</td>\n",
       "    </tr>\n",
       "  </tbody>\n",
       "</table>\n",
       "<p>5 rows × 74 columns</p>\n",
       "</div>"
      ],
      "text/plain": [
       "     user_id video_id  age_0  age_1  age_2  age_3  age_4  age_5  age_6  age_7  \\\n",
       "0  4239342.0    28149    0.0    1.0    0.0    0.0    0.0    0.0    0.0    0.0   \n",
       "1  3577036.0      115    0.0    1.0    0.0    0.0    0.0    0.0    0.0    0.0   \n",
       "2  5527504.0     3636    1.0    0.0    0.0    0.0    0.0    0.0    0.0    0.0   \n",
       "3  1117889.0    12968    0.0    0.0    0.0    1.0    0.0    0.0    0.0    0.0   \n",
       "4  1117889.0      860    0.0    0.0    0.0    1.0    0.0    0.0    0.0    0.0   \n",
       "\n",
       "   ...   class_7   class_8   class_9      da_0      da_1      da_2      da_3  \\\n",
       "0  ...  0.037486  0.395894  0.037483  0.075849  0.075966  0.388902  0.383616   \n",
       "1  ...  0.041444  0.041444  0.626961  0.084394  0.361578  0.082888  0.082888   \n",
       "2  ...  0.041779   0.04178  0.041772  0.324848  0.083544  0.083544  0.083544   \n",
       "3  ...  0.034266  0.034261  0.034261   0.50428  0.072258  0.070551  0.069007   \n",
       "4  ...  0.037929  0.037924  0.037924  0.076261   0.39165  0.077193  0.075847   \n",
       "\n",
       "       da_4  is_share  watch_label  \n",
       "0  0.075666         0            2  \n",
       "1  0.388253         0            0  \n",
       "2  0.424519         0            5  \n",
       "3  0.283903         0            0  \n",
       "4  0.379048         0            4  \n",
       "\n",
       "[5 rows x 74 columns]"
      ]
     },
     "execution_count": 31,
     "metadata": {},
     "output_type": "execute_result"
    }
   ],
   "source": [
    "# 删除 video_name 列，调整video_id列的顺序\n",
    "user_video_action.drop(['video_name', 'is_watch'], axis=1, inplace=True)\n",
    "user_video_action.insert(1, 'video_id', user_video_action.pop('video_id'))\n",
    "user_video_action.head()"
   ]
  },
  {
   "cell_type": "code",
   "execution_count": 34,
   "metadata": {},
   "outputs": [],
   "source": [
    "# 保存数据以便下次直接读取\n",
    "np.savez(os.path.join(train_data_dir, \"train\"), data=user_video_action.values, columns=user_video_action.columns.tolist())"
   ]
  },
  {
   "cell_type": "code",
   "execution_count": 6,
   "metadata": {},
   "outputs": [],
   "source": [
    "npz = np.load(os.path.join(train_data_dir, \"train.npz\"), allow_pickle=True)"
   ]
  },
  {
   "cell_type": "code",
   "execution_count": 8,
   "metadata": {},
   "outputs": [
    {
     "name": "stdout",
     "output_type": "stream",
     "text": [
      "Data loading costs 223.653s ...\n"
     ]
    },
    {
     "data": {
      "text/plain": [
       "(7308018, 74)"
      ]
     },
     "execution_count": 8,
     "metadata": {},
     "output_type": "execute_result"
    }
   ],
   "source": [
    "t0 = time()\n",
    "user_video_action = pd.DataFrame(npz['data'], columns=npz['columns'])\n",
    "print(f\"Data loading costs {time()-t0:.3f}s ...\")\n",
    "user_video_action.shape"
   ]
  },
  {
   "cell_type": "code",
   "execution_count": 9,
   "metadata": {},
   "outputs": [
    {
     "data": {
      "text/plain": [
       "((7308018, 74),\n",
       " Index(['user_id', 'video_id', 'age_0', 'age_1', 'age_2', 'age_3', 'age_4',\n",
       "        'age_5', 'age_6', 'age_7', 'gender_0', 'gender_1', 'gender_2',\n",
       "        'gender_3', 'city_level_0', 'city_level_1', 'city_level_2',\n",
       "        'city_level_3', 'city_level_4', 'city_level_5', 'city_level_6',\n",
       "        'city_level_7', 'device_name_0', 'device_name_1', 'device_name_2',\n",
       "        'device_name_3', 'device_name_4', 'device_name_5', 'device_name_6',\n",
       "        'device_name_7', 'device_name_8', 'device_name_9', 'video_score',\n",
       "        'video_duration', 'video_release_year', 'video_release_month',\n",
       "        'video_release_day', 'desc_0', 'desc_1', 'desc_2', 'desc_3', 'desc_4',\n",
       "        'desc_5', 'desc_6', 'desc_7', 'desc_8', 'desc_9', 'tags_0', 'tags_1',\n",
       "        'tags_2', 'tags_3', 'tags_4', 'tags_5', 'tags_6', 'tags_7', 'tags_8',\n",
       "        'tags_9', 'class_0', 'class_1', 'class_2', 'class_3', 'class_4',\n",
       "        'class_5', 'class_6', 'class_7', 'class_8', 'class_9', 'da_0', 'da_1',\n",
       "        'da_2', 'da_3', 'da_4', 'is_share', 'watch_label'],\n",
       "       dtype='object'))"
      ]
     },
     "execution_count": 9,
     "metadata": {},
     "output_type": "execute_result"
    }
   ],
   "source": [
    "user_video_action.shape, user_video_action.columns"
   ]
  },
  {
   "cell_type": "code",
   "execution_count": 10,
   "metadata": {},
   "outputs": [],
   "source": [
    "# 删除 video_id、user_id列\n",
    "user_video_action.drop(['user_id', 'video_id'], axis=1, inplace=True)"
   ]
  },
  {
   "cell_type": "code",
   "execution_count": 11,
   "metadata": {},
   "outputs": [
    {
     "data": {
      "text/plain": [
       "((7308018, 72),\n",
       " Index(['age_0', 'age_1', 'age_2', 'age_3', 'age_4', 'age_5', 'age_6', 'age_7',\n",
       "        'gender_0', 'gender_1', 'gender_2', 'gender_3', 'city_level_0',\n",
       "        'city_level_1', 'city_level_2', 'city_level_3', 'city_level_4',\n",
       "        'city_level_5', 'city_level_6', 'city_level_7', 'device_name_0',\n",
       "        'device_name_1', 'device_name_2', 'device_name_3', 'device_name_4',\n",
       "        'device_name_5', 'device_name_6', 'device_name_7', 'device_name_8',\n",
       "        'device_name_9', 'video_score', 'video_duration', 'video_release_year',\n",
       "        'video_release_month', 'video_release_day', 'desc_0', 'desc_1',\n",
       "        'desc_2', 'desc_3', 'desc_4', 'desc_5', 'desc_6', 'desc_7', 'desc_8',\n",
       "        'desc_9', 'tags_0', 'tags_1', 'tags_2', 'tags_3', 'tags_4', 'tags_5',\n",
       "        'tags_6', 'tags_7', 'tags_8', 'tags_9', 'class_0', 'class_1', 'class_2',\n",
       "        'class_3', 'class_4', 'class_5', 'class_6', 'class_7', 'class_8',\n",
       "        'class_9', 'da_0', 'da_1', 'da_2', 'da_3', 'da_4', 'is_share',\n",
       "        'watch_label'],\n",
       "       dtype='object'))"
      ]
     },
     "execution_count": 11,
     "metadata": {},
     "output_type": "execute_result"
    }
   ],
   "source": [
    "user_video_action.shape, user_video_action.columns"
   ]
  },
  {
   "cell_type": "code",
   "execution_count": 12,
   "metadata": {},
   "outputs": [],
   "source": [
    "dataset = user_video_action"
   ]
  },
  {
   "cell_type": "markdown",
   "metadata": {},
   "source": [
    "## 加载测试数据"
   ]
  },
  {
   "cell_type": "code",
   "execution_count": 88,
   "metadata": {},
   "outputs": [],
   "source": [
    "test_df = pd.read_csv(os.path.join(test_data_dir, \"test.csv\"))"
   ]
  },
  {
   "cell_type": "code",
   "execution_count": 337,
   "metadata": {},
   "outputs": [
    {
     "data": {
      "text/plain": [
       "Index(['user_id', 'video_id', 'watch_label', 'is_share'], dtype='object')"
      ]
     },
     "execution_count": 337,
     "metadata": {},
     "output_type": "execute_result"
    }
   ],
   "source": [
    "test_df.columns"
   ]
  },
  {
   "cell_type": "code",
   "execution_count": 90,
   "metadata": {},
   "outputs": [
    {
     "data": {
      "text/plain": [
       "Int64Index([   15,   144,   428,   497,   876,  1174,  1589,  1906,  2127,\n",
       "             2199,\n",
       "            ...\n",
       "            47945, 48069, 48269, 48343, 48626, 49241, 49404, 49419, 49793,\n",
       "            50337],\n",
       "           dtype='int64', length=276)"
      ]
     },
     "execution_count": 90,
     "metadata": {},
     "output_type": "execute_result"
    }
   ],
   "source": [
    "# 测试数据集中存在video_id没有在视频特征中出现\n",
    "idx1 = pd.Index(test_df['video_id'].unique())\n",
    "idx2 = pd.Index(video_df['video_id'].unique())\n",
    "non_exists = idx1.difference(idx2)\n",
    "non_exists"
   ]
  },
  {
   "cell_type": "code",
   "execution_count": 265,
   "metadata": {},
   "outputs": [],
   "source": [
    "video_test = video_df.merge(test_df, how='right', left_on='video_id', right_on='video_id')\n",
    "user_video_test = user_df.merge(video_test, how='right', left_on='user_id', right_on='user_id')"
   ]
  },
  {
   "cell_type": "code",
   "execution_count": 266,
   "metadata": {},
   "outputs": [
    {
     "data": {
      "text/plain": [
       "(2822180, 75)"
      ]
     },
     "execution_count": 266,
     "metadata": {},
     "output_type": "execute_result"
    }
   ],
   "source": [
    "user_video_test.insert(1, 'video_id', user_video_test.pop('video_id'))"
   ]
  },
  {
   "cell_type": "code",
   "execution_count": 270,
   "metadata": {},
   "outputs": [],
   "source": [
    "user_video_test.drop('video_name', axis=1, inplace=True)"
   ]
  },
  {
   "cell_type": "code",
   "execution_count": 96,
   "metadata": {},
   "outputs": [],
   "source": [
    "# 保存数据以便下次直接读取\n",
    "np.savez(os.path.join(test_data_dir, \"test\"), data=user_video_test.values, columns=user_video_test.columns.tolist())"
   ]
  },
  {
   "cell_type": "code",
   "execution_count": 223,
   "metadata": {},
   "outputs": [],
   "source": [
    "user_video_test.drop('video_name', axis=1, inplace=True)"
   ]
  },
  {
   "cell_type": "code",
   "execution_count": 339,
   "metadata": {},
   "outputs": [],
   "source": [
    "# 删除 video_id、user_id 列\n",
    "user_video_test.drop(['user_id', 'video_id', 'watch_label', 'is_share'], axis=1, inplace=True)"
   ]
  },
  {
   "cell_type": "code",
   "execution_count": 340,
   "metadata": {},
   "outputs": [],
   "source": [
    "inference_dataset = user_video_test"
   ]
  },
  {
   "cell_type": "code",
   "execution_count": 345,
   "metadata": {},
   "outputs": [
    {
     "data": {
      "text/plain": [
       "(2822180, 70)"
      ]
     },
     "execution_count": 345,
     "metadata": {},
     "output_type": "execute_result"
    }
   ],
   "source": [
    "inference_dataset.shape"
   ]
  },
  {
   "cell_type": "markdown",
   "metadata": {},
   "source": [
    "# XGBoost"
   ]
  },
  {
   "cell_type": "code",
   "execution_count": null,
   "metadata": {
    "jupyter": {
     "source_hidden": true
    },
    "tags": []
   },
   "outputs": [],
   "source": [
    "def train_xgb(X_train, y_train, params):\n",
    "    xg_train = xgb.DMatrix(X_train.values, label=y_train.values, enable_categorical=True)\n",
    "    xg_test = xgb.DMatrix(X_test.values, label=y_test.values, enable_categorical=True)\n",
    "    \n",
    "    watchlist = [(xg_train, 'train'), (xg_test, 'test')]\n",
    "    num_round = 5\n",
    "    # train xgb\n",
    "    bst = xgb.train(_param, xg_train, num_round, watchlist)\n",
    "    # get prediction\n",
    "    pred = bst.predict(xg_test)\n",
    "    error_rate = np.sum(pred != y_test) / test_y.shape[0]\n",
    "    print('Test error using softmax = {}'.format(error_rate))\n",
    "\n",
    "    # do the same thing again, but output probabilities\n",
    "    param['objective'] = 'multi:softprob'\n",
    "    bst = xgb.train(param, xg_train, num_round, watchlist)\n",
    "    # Note: this convention has been changed since xgboost-unity\n",
    "    # get prediction, this is in 1D array, need reshape to (ndata, nclass)\n",
    "    pred_prob = bst.predict(xg_test).reshape(y_test.shape[0], 6)\n",
    "    pred_label = np.argmax(pred_prob, axis=1)\n",
    "    error_rate = np.sum(pred_label != y_test) / y_test.shape[0]\n",
    "    print('Test error using softprob = {}'.format(error_rate))\n"
   ]
  },
  {
   "cell_type": "code",
   "execution_count": 13,
   "metadata": {},
   "outputs": [],
   "source": [
    "# 准备数据\n",
    "watch_label = dataset.pop('watch_label')\n",
    "is_share = dataset.pop('is_share')"
   ]
  },
  {
   "cell_type": "code",
   "execution_count": null,
   "metadata": {},
   "outputs": [],
   "source": [
    "train_idx, test_idx = train_test_split(dataset.index, test_size=0.2, random_state=0)"
   ]
  },
  {
   "cell_type": "code",
   "execution_count": 281,
   "metadata": {},
   "outputs": [],
   "source": [
    "X_train = dataset.iloc[train_idx]\n",
    "X_test  = dataset.iloc[test_idx]"
   ]
  },
  {
   "cell_type": "code",
   "execution_count": 283,
   "metadata": {},
   "outputs": [
    {
     "data": {
      "text/plain": [
       "(5846414, 70)"
      ]
     },
     "execution_count": 283,
     "metadata": {},
     "output_type": "execute_result"
    }
   ],
   "source": [
    "X_train.shape"
   ]
  },
  {
   "cell_type": "markdown",
   "metadata": {},
   "source": [
    "## watch_label 预测"
   ]
  },
  {
   "cell_type": "markdown",
   "metadata": {},
   "source": [
    "### 处理数据不均衡问题"
   ]
  },
  {
   "cell_type": "code",
   "execution_count": 14,
   "metadata": {},
   "outputs": [
    {
     "name": "stdout",
     "output_type": "stream",
     "text": [
      "[(0, 5146219), (1, 554320), (2, 312266), (3, 217820), (4, 171292), (5, 142012), (6, 124245), (7, 116928), (8, 137834), (9, 385082)]\n",
      "[[0.         0.70418806]\n",
      " [1.         0.07585094]\n",
      " [2.         0.04272923]\n",
      " [3.         0.02980562]\n",
      " [4.         0.02343891]\n",
      " [5.         0.01943235]\n",
      " [6.         0.01700119]\n",
      " [7.         0.01599996]\n",
      " [8.         0.01886065]\n",
      " [9.         0.05269308]]\n"
     ]
    }
   ],
   "source": [
    "items = list(Counter(watch_label).items())\n",
    "items.sort(key=lambda x: x[0])\n",
    "print(items)\n",
    "\n",
    "dist = np.array(items, dtype=np.float)\n",
    "dist[:, 1] = dist[:, 1] / watch_label.shape[0]\n",
    "print(dist)"
   ]
  },
  {
   "cell_type": "code",
   "execution_count": 15,
   "metadata": {},
   "outputs": [],
   "source": [
    "under_ss = np.array(items)\n",
    "under_ss_thresh = under_ss[2, 1]\n",
    "under_ss[:, 1] = np.clip(under_ss[:, 1], a_min=None, a_max=under_ss_thresh)\n",
    "\n",
    "over_ss = under_ss.copy()\n",
    "over_ss_thresh = under_ss[3, 1]\n",
    "over_ss[:, 1] = np.clip(over_ss[:, 1], a_min=over_ss_thresh, a_max=None)\n",
    "\n",
    "under_ss = dict(under_ss)\n",
    "over_ss = dict(over_ss)"
   ]
  },
  {
   "cell_type": "code",
   "execution_count": 16,
   "metadata": {
    "tags": []
   },
   "outputs": [
    {
     "data": {
      "text/plain": [
       "({0: 312266,\n",
       "  1: 312266,\n",
       "  2: 312266,\n",
       "  3: 217820,\n",
       "  4: 171292,\n",
       "  5: 142012,\n",
       "  6: 124245,\n",
       "  7: 116928,\n",
       "  8: 137834,\n",
       "  9: 312266},\n",
       " {0: 312266,\n",
       "  1: 312266,\n",
       "  2: 312266,\n",
       "  3: 217820,\n",
       "  4: 217820,\n",
       "  5: 217820,\n",
       "  6: 217820,\n",
       "  7: 217820,\n",
       "  8: 217820,\n",
       "  9: 312266})"
      ]
     },
     "execution_count": 16,
     "metadata": {},
     "output_type": "execute_result"
    }
   ],
   "source": [
    "under_ss, over_ss"
   ]
  },
  {
   "cell_type": "code",
   "execution_count": null,
   "metadata": {},
   "outputs": [],
   "source": [
    "# 速度太慢，难以忍受！\n",
    "nm = NearMiss(sampling_strategy=under_ss)\n",
    "X_r, y_r = nm.fit_resample(dataset, watch_label)"
   ]
  },
  {
   "cell_type": "code",
   "execution_count": null,
   "metadata": {},
   "outputs": [],
   "source": [
    "X_r.shape, Counter(y_r)"
   ]
  },
  {
   "cell_type": "code",
   "execution_count": 17,
   "metadata": {},
   "outputs": [
    {
     "data": {
      "text/plain": [
       "(5146219,)"
      ]
     },
     "execution_count": 17,
     "metadata": {},
     "output_type": "execute_result"
    }
   ],
   "source": [
    "idxs = watch_label == 0\n",
    "idxs = idxs.replace(False, np.nan).dropna().index  # 保留watch_label=0的行索引\n",
    "idxs.shape"
   ]
  },
  {
   "cell_type": "code",
   "execution_count": 18,
   "metadata": {},
   "outputs": [
    {
     "data": {
      "text/plain": [
       "((4843350,), (312266,))"
      ]
     },
     "execution_count": 18,
     "metadata": {},
     "output_type": "execute_result"
    }
   ],
   "source": [
    "left_idxs = np.random.choice(idxs, under_ss_thresh)  # 选择一部分保留\n",
    "del_idxs = idxs.difference(left_idxs)\n",
    "del_idxs.shape, left_idxs.shape"
   ]
  },
  {
   "cell_type": "code",
   "execution_count": 19,
   "metadata": {},
   "outputs": [
    {
     "data": {
      "text/plain": [
       "((2464668, 70), (2464668,))"
      ]
     },
     "execution_count": 19,
     "metadata": {},
     "output_type": "execute_result"
    }
   ],
   "source": [
    "resampled_data = np.delete(dataset.values, del_idxs, axis=0)\n",
    "resampled_wl = np.delete(watch_label.values, del_idxs, axis=0)\n",
    "resampled_data.shape, resampled_wl.shape"
   ]
  },
  {
   "cell_type": "code",
   "execution_count": 20,
   "metadata": {},
   "outputs": [
    {
     "data": {
      "text/plain": [
       "((2464668, 70), (2464668,))"
      ]
     },
     "execution_count": 20,
     "metadata": {},
     "output_type": "execute_result"
    }
   ],
   "source": [
    "# 将采样后的数据重装回 DataFrame\n",
    "data = pd.DataFrame(resampled_data, columns=dataset.columns)\n",
    "watch_label = pd.Series(resampled_wl)\n",
    "data.shape, watch_label.shape"
   ]
  },
  {
   "cell_type": "code",
   "execution_count": 21,
   "metadata": {},
   "outputs": [
    {
     "data": {
      "text/plain": [
       "((1971734,), (492934,))"
      ]
     },
     "execution_count": 21,
     "metadata": {},
     "output_type": "execute_result"
    }
   ],
   "source": [
    "train_idx, test_idx = train_test_split(data.index, test_size=0.2, random_state=0)\n",
    "train_idx.shape, test_idx.shape"
   ]
  },
  {
   "cell_type": "markdown",
   "metadata": {},
   "source": [
    "### 训练模型"
   ]
  },
  {
   "cell_type": "code",
   "execution_count": 22,
   "metadata": {},
   "outputs": [],
   "source": [
    "X_train = data.iloc[train_idx]\n",
    "X_test  = data.iloc[test_idx]"
   ]
  },
  {
   "cell_type": "code",
   "execution_count": 23,
   "metadata": {},
   "outputs": [],
   "source": [
    "y_train = watch_label.iloc[train_idx]\n",
    "y_test  = watch_label.iloc[test_idx]"
   ]
  },
  {
   "cell_type": "code",
   "execution_count": 24,
   "metadata": {},
   "outputs": [
    {
     "data": {
      "text/plain": [
       "((1971734, 70), (1971734,), (492934, 70), (492934,))"
      ]
     },
     "execution_count": 24,
     "metadata": {},
     "output_type": "execute_result"
    }
   ],
   "source": [
    "X_train.shape, y_train.shape, X_test.shape, y_test.shape"
   ]
  },
  {
   "cell_type": "code",
   "execution_count": 25,
   "metadata": {},
   "outputs": [
    {
     "name": "stdout",
     "output_type": "stream",
     "text": [
      "Data preparing finished ...\t\t(12.862s)\n"
     ]
    }
   ],
   "source": [
    "t0 = time()\n",
    "xg_train = xgb.DMatrix(X_train.values, label=y_train.values, enable_categorical=True)\n",
    "xg_test = xgb.DMatrix(X_test.values, label=y_test.values, enable_categorical=True)\n",
    "print(f\"Data preparing finished ...\\t\\t({time()-t0:.3f}s)\")"
   ]
  },
  {
   "cell_type": "code",
   "execution_count": 116,
   "metadata": {},
   "outputs": [],
   "source": [
    "# setup parameters for xgboost\n",
    "param = {}\n",
    "# use softmax multi-class classification\n",
    "param['objective'] = 'multi:softmax'\n",
    "# scale weight of positive examples\n",
    "param['eta'] = 0.1\n",
    "param['max_depth'] = 8\n",
    "param['nthread'] = 8\n",
    "param['num_class'] = 10\n",
    "param['gpu_id'] = 0\n",
    "param['tree_method'] = 'gpu_hist'\n",
    "watchlist = [(xg_train, 'train'), (xg_test, 'test')]"
   ]
  },
  {
   "cell_type": "code",
   "execution_count": 27,
   "metadata": {
    "collapsed": true,
    "jupyter": {
     "outputs_hidden": true
    },
    "tags": []
   },
   "outputs": [
    {
     "name": "stdout",
     "output_type": "stream",
     "text": [
      "[22:34:14] WARNING: ../src/learner.cc:1095: Starting in XGBoost 1.3.0, the default evaluation metric used with the objective 'multi:softmax' was changed from 'merror' to 'mlogloss'. Explicitly set eval_metric if you'd like to restore the old behavior.\n",
      "[0]\ttrain-mlogloss:2.27553\ttest-mlogloss:2.27581\n",
      "[1]\ttrain-mlogloss:2.25345\ttest-mlogloss:2.25396\n",
      "[2]\ttrain-mlogloss:2.23469\ttest-mlogloss:2.23546\n",
      "[3]\ttrain-mlogloss:2.21863\ttest-mlogloss:2.21965\n",
      "[4]\ttrain-mlogloss:2.20447\ttest-mlogloss:2.20572\n",
      "[5]\ttrain-mlogloss:2.19210\ttest-mlogloss:2.19355\n",
      "[6]\ttrain-mlogloss:2.18122\ttest-mlogloss:2.18288\n",
      "[7]\ttrain-mlogloss:2.17162\ttest-mlogloss:2.17347\n",
      "[8]\ttrain-mlogloss:2.16310\ttest-mlogloss:2.16514\n",
      "[9]\ttrain-mlogloss:2.15542\ttest-mlogloss:2.15766\n",
      "[10]\ttrain-mlogloss:2.14863\ttest-mlogloss:2.15106\n",
      "[11]\ttrain-mlogloss:2.14264\ttest-mlogloss:2.14524\n",
      "[12]\ttrain-mlogloss:2.13711\ttest-mlogloss:2.13991\n",
      "[13]\ttrain-mlogloss:2.13223\ttest-mlogloss:2.13521\n",
      "[14]\ttrain-mlogloss:2.12787\ttest-mlogloss:2.13104\n",
      "[15]\ttrain-mlogloss:2.12388\ttest-mlogloss:2.12724\n",
      "[16]\ttrain-mlogloss:2.12024\ttest-mlogloss:2.12381\n",
      "[17]\ttrain-mlogloss:2.11702\ttest-mlogloss:2.12079\n",
      "[18]\ttrain-mlogloss:2.11411\ttest-mlogloss:2.11807\n",
      "[19]\ttrain-mlogloss:2.11146\ttest-mlogloss:2.11561\n",
      "[20]\ttrain-mlogloss:2.10881\ttest-mlogloss:2.11318\n",
      "[21]\ttrain-mlogloss:2.10655\ttest-mlogloss:2.11114\n",
      "[22]\ttrain-mlogloss:2.10444\ttest-mlogloss:2.10924\n",
      "[23]\ttrain-mlogloss:2.10253\ttest-mlogloss:2.10755\n",
      "[24]\ttrain-mlogloss:2.10061\ttest-mlogloss:2.10586\n",
      "[25]\ttrain-mlogloss:2.09877\ttest-mlogloss:2.10426\n",
      "[26]\ttrain-mlogloss:2.09719\ttest-mlogloss:2.10290\n",
      "[27]\ttrain-mlogloss:2.09574\ttest-mlogloss:2.10168\n",
      "[28]\ttrain-mlogloss:2.09442\ttest-mlogloss:2.10059\n",
      "[29]\ttrain-mlogloss:2.09307\ttest-mlogloss:2.09947\n",
      "[30]\ttrain-mlogloss:2.09198\ttest-mlogloss:2.09859\n",
      "[31]\ttrain-mlogloss:2.09084\ttest-mlogloss:2.09768\n",
      "[32]\ttrain-mlogloss:2.08976\ttest-mlogloss:2.09685\n",
      "[33]\ttrain-mlogloss:2.08878\ttest-mlogloss:2.09611\n",
      "[34]\ttrain-mlogloss:2.08784\ttest-mlogloss:2.09539\n",
      "[35]\ttrain-mlogloss:2.08695\ttest-mlogloss:2.09472\n",
      "[36]\ttrain-mlogloss:2.08613\ttest-mlogloss:2.09415\n",
      "[37]\ttrain-mlogloss:2.08541\ttest-mlogloss:2.09366\n",
      "[38]\ttrain-mlogloss:2.08471\ttest-mlogloss:2.09320\n",
      "[39]\ttrain-mlogloss:2.08406\ttest-mlogloss:2.09277\n",
      "[40]\ttrain-mlogloss:2.08343\ttest-mlogloss:2.09236\n",
      "[41]\ttrain-mlogloss:2.08286\ttest-mlogloss:2.09202\n",
      "[42]\ttrain-mlogloss:2.08233\ttest-mlogloss:2.09169\n",
      "[43]\ttrain-mlogloss:2.08178\ttest-mlogloss:2.09135\n",
      "[44]\ttrain-mlogloss:2.08128\ttest-mlogloss:2.09108\n",
      "[45]\ttrain-mlogloss:2.08077\ttest-mlogloss:2.09078\n",
      "[46]\ttrain-mlogloss:2.08026\ttest-mlogloss:2.09049\n",
      "[47]\ttrain-mlogloss:2.07984\ttest-mlogloss:2.09028\n",
      "[48]\ttrain-mlogloss:2.07935\ttest-mlogloss:2.09002\n",
      "[49]\ttrain-mlogloss:2.07891\ttest-mlogloss:2.08980\n",
      "[50]\ttrain-mlogloss:2.07845\ttest-mlogloss:2.08956\n",
      "[51]\ttrain-mlogloss:2.07801\ttest-mlogloss:2.08935\n",
      "[52]\ttrain-mlogloss:2.07762\ttest-mlogloss:2.08919\n",
      "[53]\ttrain-mlogloss:2.07723\ttest-mlogloss:2.08903\n",
      "[54]\ttrain-mlogloss:2.07681\ttest-mlogloss:2.08882\n",
      "[55]\ttrain-mlogloss:2.07638\ttest-mlogloss:2.08864\n",
      "[56]\ttrain-mlogloss:2.07597\ttest-mlogloss:2.08848\n",
      "[57]\ttrain-mlogloss:2.07562\ttest-mlogloss:2.08836\n",
      "[58]\ttrain-mlogloss:2.07523\ttest-mlogloss:2.08820\n",
      "[59]\ttrain-mlogloss:2.07485\ttest-mlogloss:2.08806\n",
      "[60]\ttrain-mlogloss:2.07449\ttest-mlogloss:2.08792\n",
      "[61]\ttrain-mlogloss:2.07410\ttest-mlogloss:2.08778\n",
      "[62]\ttrain-mlogloss:2.07375\ttest-mlogloss:2.08766\n",
      "[63]\ttrain-mlogloss:2.07340\ttest-mlogloss:2.08754\n",
      "[64]\ttrain-mlogloss:2.07305\ttest-mlogloss:2.08741\n",
      "[65]\ttrain-mlogloss:2.07267\ttest-mlogloss:2.08724\n",
      "[66]\ttrain-mlogloss:2.07233\ttest-mlogloss:2.08714\n",
      "[67]\ttrain-mlogloss:2.07203\ttest-mlogloss:2.08705\n",
      "[68]\ttrain-mlogloss:2.07167\ttest-mlogloss:2.08690\n",
      "[69]\ttrain-mlogloss:2.07134\ttest-mlogloss:2.08678\n",
      "[70]\ttrain-mlogloss:2.07104\ttest-mlogloss:2.08668\n",
      "[71]\ttrain-mlogloss:2.07073\ttest-mlogloss:2.08660\n",
      "[72]\ttrain-mlogloss:2.07040\ttest-mlogloss:2.08652\n",
      "[73]\ttrain-mlogloss:2.07011\ttest-mlogloss:2.08643\n",
      "[74]\ttrain-mlogloss:2.06978\ttest-mlogloss:2.08633\n",
      "[75]\ttrain-mlogloss:2.06943\ttest-mlogloss:2.08619\n",
      "[76]\ttrain-mlogloss:2.06917\ttest-mlogloss:2.08614\n",
      "[77]\ttrain-mlogloss:2.06886\ttest-mlogloss:2.08605\n",
      "[78]\ttrain-mlogloss:2.06852\ttest-mlogloss:2.08594\n",
      "[79]\ttrain-mlogloss:2.06817\ttest-mlogloss:2.08580\n",
      "[80]\ttrain-mlogloss:2.06787\ttest-mlogloss:2.08574\n",
      "[81]\ttrain-mlogloss:2.06760\ttest-mlogloss:2.08568\n",
      "[82]\ttrain-mlogloss:2.06728\ttest-mlogloss:2.08556\n",
      "[83]\ttrain-mlogloss:2.06702\ttest-mlogloss:2.08550\n",
      "[84]\ttrain-mlogloss:2.06668\ttest-mlogloss:2.08538\n",
      "[85]\ttrain-mlogloss:2.06641\ttest-mlogloss:2.08533\n",
      "[86]\ttrain-mlogloss:2.06616\ttest-mlogloss:2.08526\n",
      "[87]\ttrain-mlogloss:2.06591\ttest-mlogloss:2.08519\n",
      "[88]\ttrain-mlogloss:2.06566\ttest-mlogloss:2.08514\n",
      "[89]\ttrain-mlogloss:2.06535\ttest-mlogloss:2.08507\n",
      "[90]\ttrain-mlogloss:2.06512\ttest-mlogloss:2.08501\n",
      "[91]\ttrain-mlogloss:2.06481\ttest-mlogloss:2.08491\n",
      "[92]\ttrain-mlogloss:2.06456\ttest-mlogloss:2.08485\n",
      "[93]\ttrain-mlogloss:2.06426\ttest-mlogloss:2.08475\n",
      "[94]\ttrain-mlogloss:2.06400\ttest-mlogloss:2.08470\n",
      "[95]\ttrain-mlogloss:2.06370\ttest-mlogloss:2.08460\n",
      "[96]\ttrain-mlogloss:2.06346\ttest-mlogloss:2.08455\n",
      "[97]\ttrain-mlogloss:2.06324\ttest-mlogloss:2.08451\n",
      "[98]\ttrain-mlogloss:2.06298\ttest-mlogloss:2.08443\n",
      "[99]\ttrain-mlogloss:2.06277\ttest-mlogloss:2.08440\n",
      "[100]\ttrain-mlogloss:2.06257\ttest-mlogloss:2.08438\n",
      "[101]\ttrain-mlogloss:2.06232\ttest-mlogloss:2.08431\n",
      "[102]\ttrain-mlogloss:2.06205\ttest-mlogloss:2.08423\n",
      "[103]\ttrain-mlogloss:2.06183\ttest-mlogloss:2.08419\n",
      "[104]\ttrain-mlogloss:2.06156\ttest-mlogloss:2.08412\n",
      "[105]\ttrain-mlogloss:2.06132\ttest-mlogloss:2.08406\n",
      "[106]\ttrain-mlogloss:2.06109\ttest-mlogloss:2.08399\n",
      "[107]\ttrain-mlogloss:2.06085\ttest-mlogloss:2.08394\n",
      "[108]\ttrain-mlogloss:2.06061\ttest-mlogloss:2.08388\n",
      "[109]\ttrain-mlogloss:2.06033\ttest-mlogloss:2.08380\n",
      "[110]\ttrain-mlogloss:2.06010\ttest-mlogloss:2.08376\n",
      "[111]\ttrain-mlogloss:2.05991\ttest-mlogloss:2.08372\n",
      "[112]\ttrain-mlogloss:2.05969\ttest-mlogloss:2.08368\n",
      "[113]\ttrain-mlogloss:2.05947\ttest-mlogloss:2.08361\n",
      "[114]\ttrain-mlogloss:2.05921\ttest-mlogloss:2.08356\n",
      "[115]\ttrain-mlogloss:2.05901\ttest-mlogloss:2.08351\n",
      "[116]\ttrain-mlogloss:2.05876\ttest-mlogloss:2.08343\n",
      "[117]\ttrain-mlogloss:2.05855\ttest-mlogloss:2.08338\n",
      "[118]\ttrain-mlogloss:2.05832\ttest-mlogloss:2.08335\n",
      "[119]\ttrain-mlogloss:2.05807\ttest-mlogloss:2.08330\n",
      "[120]\ttrain-mlogloss:2.05784\ttest-mlogloss:2.08324\n",
      "[121]\ttrain-mlogloss:2.05767\ttest-mlogloss:2.08322\n",
      "[122]\ttrain-mlogloss:2.05740\ttest-mlogloss:2.08318\n",
      "[123]\ttrain-mlogloss:2.05720\ttest-mlogloss:2.08313\n",
      "[124]\ttrain-mlogloss:2.05695\ttest-mlogloss:2.08307\n",
      "[125]\ttrain-mlogloss:2.05675\ttest-mlogloss:2.08303\n",
      "[126]\ttrain-mlogloss:2.05657\ttest-mlogloss:2.08298\n",
      "[127]\ttrain-mlogloss:2.05632\ttest-mlogloss:2.08292\n",
      "[128]\ttrain-mlogloss:2.05610\ttest-mlogloss:2.08289\n",
      "[129]\ttrain-mlogloss:2.05591\ttest-mlogloss:2.08286\n",
      "[130]\ttrain-mlogloss:2.05571\ttest-mlogloss:2.08281\n",
      "[131]\ttrain-mlogloss:2.05549\ttest-mlogloss:2.08278\n",
      "[132]\ttrain-mlogloss:2.05532\ttest-mlogloss:2.08274\n",
      "[133]\ttrain-mlogloss:2.05511\ttest-mlogloss:2.08271\n",
      "[134]\ttrain-mlogloss:2.05491\ttest-mlogloss:2.08269\n",
      "[135]\ttrain-mlogloss:2.05467\ttest-mlogloss:2.08264\n",
      "[136]\ttrain-mlogloss:2.05442\ttest-mlogloss:2.08259\n",
      "[137]\ttrain-mlogloss:2.05421\ttest-mlogloss:2.08252\n",
      "[138]\ttrain-mlogloss:2.05396\ttest-mlogloss:2.08247\n",
      "[139]\ttrain-mlogloss:2.05379\ttest-mlogloss:2.08245\n",
      "[140]\ttrain-mlogloss:2.05358\ttest-mlogloss:2.08243\n",
      "[141]\ttrain-mlogloss:2.05332\ttest-mlogloss:2.08238\n",
      "[142]\ttrain-mlogloss:2.05312\ttest-mlogloss:2.08234\n",
      "[143]\ttrain-mlogloss:2.05295\ttest-mlogloss:2.08231\n",
      "[144]\ttrain-mlogloss:2.05274\ttest-mlogloss:2.08227\n",
      "[145]\ttrain-mlogloss:2.05253\ttest-mlogloss:2.08222\n",
      "[146]\ttrain-mlogloss:2.05233\ttest-mlogloss:2.08220\n",
      "[147]\ttrain-mlogloss:2.05214\ttest-mlogloss:2.08214\n",
      "[148]\ttrain-mlogloss:2.05197\ttest-mlogloss:2.08209\n",
      "[149]\ttrain-mlogloss:2.05176\ttest-mlogloss:2.08207\n",
      "[150]\ttrain-mlogloss:2.05153\ttest-mlogloss:2.08203\n",
      "[151]\ttrain-mlogloss:2.05133\ttest-mlogloss:2.08198\n",
      "[152]\ttrain-mlogloss:2.05116\ttest-mlogloss:2.08197\n",
      "[153]\ttrain-mlogloss:2.05101\ttest-mlogloss:2.08195\n",
      "[154]\ttrain-mlogloss:2.05082\ttest-mlogloss:2.08190\n",
      "[155]\ttrain-mlogloss:2.05061\ttest-mlogloss:2.08185\n",
      "[156]\ttrain-mlogloss:2.05044\ttest-mlogloss:2.08182\n",
      "[157]\ttrain-mlogloss:2.05023\ttest-mlogloss:2.08177\n",
      "[158]\ttrain-mlogloss:2.05007\ttest-mlogloss:2.08176\n",
      "[159]\ttrain-mlogloss:2.04989\ttest-mlogloss:2.08173\n",
      "[160]\ttrain-mlogloss:2.04968\ttest-mlogloss:2.08170\n",
      "[161]\ttrain-mlogloss:2.04948\ttest-mlogloss:2.08167\n",
      "[162]\ttrain-mlogloss:2.04933\ttest-mlogloss:2.08166\n",
      "[163]\ttrain-mlogloss:2.04915\ttest-mlogloss:2.08162\n",
      "[164]\ttrain-mlogloss:2.04899\ttest-mlogloss:2.08159\n",
      "[165]\ttrain-mlogloss:2.04878\ttest-mlogloss:2.08156\n",
      "[166]\ttrain-mlogloss:2.04860\ttest-mlogloss:2.08150\n",
      "[167]\ttrain-mlogloss:2.04840\ttest-mlogloss:2.08146\n",
      "[168]\ttrain-mlogloss:2.04816\ttest-mlogloss:2.08139\n",
      "[169]\ttrain-mlogloss:2.04798\ttest-mlogloss:2.08137\n",
      "[170]\ttrain-mlogloss:2.04779\ttest-mlogloss:2.08137\n",
      "[171]\ttrain-mlogloss:2.04761\ttest-mlogloss:2.08135\n",
      "[172]\ttrain-mlogloss:2.04739\ttest-mlogloss:2.08133\n",
      "[173]\ttrain-mlogloss:2.04718\ttest-mlogloss:2.08129\n",
      "[174]\ttrain-mlogloss:2.04704\ttest-mlogloss:2.08127\n",
      "[175]\ttrain-mlogloss:2.04689\ttest-mlogloss:2.08126\n",
      "[176]\ttrain-mlogloss:2.04669\ttest-mlogloss:2.08123\n",
      "[177]\ttrain-mlogloss:2.04655\ttest-mlogloss:2.08120\n",
      "[178]\ttrain-mlogloss:2.04633\ttest-mlogloss:2.08117\n",
      "[179]\ttrain-mlogloss:2.04615\ttest-mlogloss:2.08115\n",
      "[180]\ttrain-mlogloss:2.04602\ttest-mlogloss:2.08114\n",
      "[181]\ttrain-mlogloss:2.04585\ttest-mlogloss:2.08113\n",
      "[182]\ttrain-mlogloss:2.04571\ttest-mlogloss:2.08112\n",
      "[183]\ttrain-mlogloss:2.04554\ttest-mlogloss:2.08110\n",
      "[184]\ttrain-mlogloss:2.04540\ttest-mlogloss:2.08108\n",
      "[185]\ttrain-mlogloss:2.04521\ttest-mlogloss:2.08107\n",
      "[186]\ttrain-mlogloss:2.04500\ttest-mlogloss:2.08105\n",
      "[187]\ttrain-mlogloss:2.04482\ttest-mlogloss:2.08102\n",
      "[188]\ttrain-mlogloss:2.04467\ttest-mlogloss:2.08100\n",
      "[189]\ttrain-mlogloss:2.04444\ttest-mlogloss:2.08095\n",
      "[190]\ttrain-mlogloss:2.04429\ttest-mlogloss:2.08094\n",
      "[191]\ttrain-mlogloss:2.04409\ttest-mlogloss:2.08092\n",
      "[192]\ttrain-mlogloss:2.04393\ttest-mlogloss:2.08089\n",
      "[193]\ttrain-mlogloss:2.04378\ttest-mlogloss:2.08088\n",
      "[194]\ttrain-mlogloss:2.04358\ttest-mlogloss:2.08086\n",
      "[195]\ttrain-mlogloss:2.04342\ttest-mlogloss:2.08082\n",
      "[196]\ttrain-mlogloss:2.04326\ttest-mlogloss:2.08081\n",
      "[197]\ttrain-mlogloss:2.04313\ttest-mlogloss:2.08079\n",
      "[198]\ttrain-mlogloss:2.04299\ttest-mlogloss:2.08079\n",
      "[199]\ttrain-mlogloss:2.04279\ttest-mlogloss:2.08077\n",
      "200-rounds Training finished ...\t\t(143.602s)\n"
     ]
    }
   ],
   "source": [
    "num_round = 200\n",
    "t0 = time()\n",
    "wl_bst_sm = xgb.train(param, xg_train, num_round, watchlist)\n",
    "print(f\"{num_round}-rounds Training finished ...\\t\\t({time()-t0:.3f}s)\")"
   ]
  },
  {
   "cell_type": "code",
   "execution_count": 66,
   "metadata": {},
   "outputs": [
    {
     "name": "stdout",
     "output_type": "stream",
     "text": [
      "Test error using softmax = 0.7318647121115606\n"
     ]
    }
   ],
   "source": [
    "# get prediction\n",
    "pred = wl_bst_sm.predict(xg_test)\n",
    "# pred = pred.astype(np.uint8)\n",
    "error_rate = np.sum(pred != y_test) / y_test.shape[0]\n",
    "print('Test error using softmax = {}'.format(error_rate))"
   ]
  },
  {
   "cell_type": "code",
   "execution_count": 110,
   "metadata": {},
   "outputs": [
    {
     "data": {
      "text/plain": [
       "(array([0.59772762, 0.58489796, 0.50334059, 0.5001315 , 0.50015731,\n",
       "        0.50007303, 0.50316653, 0.5003208 , 0.50896805, 0.59955772]),\n",
       " 2.3581976737371133)"
      ]
     },
     "execution_count": 110,
     "metadata": {},
     "output_type": "execute_result"
    }
   ],
   "source": [
    "weights = np.arange(0, 1, 0.1)\n",
    "aucs = auc(y_test.astype(np.uint8), pred.astype(np.uint8), np.arange(param['num_class']))\n",
    "# aucs[aucs == 0.5] = 0\n",
    "w_aucs = (aucs * weights).sum()\n",
    "aucs, w_aucs"
   ]
  },
  {
   "cell_type": "code",
   "execution_count": 97,
   "metadata": {},
   "outputs": [],
   "source": [
    "report = metrics.classification_report(list(y_test), list(pred))"
   ]
  },
  {
   "cell_type": "code",
   "execution_count": 98,
   "metadata": {},
   "outputs": [
    {
     "name": "stdout",
     "output_type": "stream",
     "text": [
      "              precision    recall  f1-score   support\n",
      "\n",
      "           0       0.33      0.27      0.30     60667\n",
      "           1       0.28      0.67      0.39    110396\n",
      "           2       0.28      0.01      0.02     62526\n",
      "           3       0.13      0.00      0.00     43744\n",
      "           4       0.17      0.00      0.00     34450\n",
      "           5       0.13      0.00      0.00     28316\n",
      "           6       0.32      0.01      0.01     24744\n",
      "           7       0.19      0.00      0.00     23339\n",
      "           8       0.31      0.02      0.04     27467\n",
      "           9       0.23      0.51      0.32     77285\n",
      "\n",
      "    accuracy                           0.27    492934\n",
      "   macro avg       0.24      0.15      0.11    492934\n",
      "weighted avg       0.25      0.27      0.18    492934\n",
      "\n"
     ]
    }
   ],
   "source": [
    "print(report)"
   ]
  },
  {
   "cell_type": "markdown",
   "metadata": {},
   "source": [
    "## is_share 预测"
   ]
  },
  {
   "cell_type": "markdown",
   "metadata": {},
   "source": [
    "### 处理数据不均衡问题"
   ]
  },
  {
   "cell_type": "code",
   "execution_count": 46,
   "metadata": {},
   "outputs": [
    {
     "name": "stdout",
     "output_type": "stream",
     "text": [
      "[(0, 7293752), (1, 14266)]\n",
      "[[0.        0.9980479]\n",
      " [1.        0.0019521]]\n"
     ]
    }
   ],
   "source": [
    "items = list(Counter(is_share).items())\n",
    "items.sort(key=lambda x: x[0])\n",
    "print(items)\n",
    "\n",
    "dist = np.array(items, dtype=np.float)\n",
    "dist[:, 1] = dist[:, 1] / is_share.shape[0]\n",
    "print(dist)"
   ]
  },
  {
   "cell_type": "code",
   "execution_count": 47,
   "metadata": {},
   "outputs": [],
   "source": [
    "under_ss = np.array(items)\n",
    "under_ss_thresh = under_ss[1, 1]\n",
    "under_ss[:, 1] = np.clip(under_ss[:, 1], a_min=None, a_max=under_ss_thresh)\n",
    "\n",
    "over_ss = under_ss.copy()\n",
    "over_ss_thresh = under_ss[1, 1]\n",
    "over_ss[:, 1] = np.clip(over_ss[:, 1], a_min=over_ss_thresh, a_max=None)\n",
    "\n",
    "under_ss = dict(under_ss)\n",
    "over_ss = dict(over_ss)"
   ]
  },
  {
   "cell_type": "code",
   "execution_count": 48,
   "metadata": {},
   "outputs": [
    {
     "data": {
      "text/plain": [
       "({0: 14266, 1: 14266}, {0: 14266, 1: 14266})"
      ]
     },
     "execution_count": 48,
     "metadata": {},
     "output_type": "execute_result"
    }
   ],
   "source": [
    "under_ss, over_ss"
   ]
  },
  {
   "cell_type": "code",
   "execution_count": 49,
   "metadata": {},
   "outputs": [
    {
     "data": {
      "text/plain": [
       "(7293752,)"
      ]
     },
     "execution_count": 49,
     "metadata": {},
     "output_type": "execute_result"
    }
   ],
   "source": [
    "idxs = is_share == 0\n",
    "idxs = idxs.replace(False, np.nan).dropna().index  # 保留watch_label=0的行索引\n",
    "idxs.shape"
   ]
  },
  {
   "cell_type": "code",
   "execution_count": 50,
   "metadata": {},
   "outputs": [
    {
     "data": {
      "text/plain": [
       "((7279498,), (14266,))"
      ]
     },
     "execution_count": 50,
     "metadata": {},
     "output_type": "execute_result"
    }
   ],
   "source": [
    "left_idxs = np.random.choice(idxs, under_ss_thresh)  # 选择一部分保留\n",
    "del_idxs = idxs.difference(left_idxs)\n",
    "del_idxs.shape, left_idxs.shape"
   ]
  },
  {
   "cell_type": "code",
   "execution_count": 51,
   "metadata": {},
   "outputs": [
    {
     "data": {
      "text/plain": [
       "((28520, 70), (28520,))"
      ]
     },
     "execution_count": 51,
     "metadata": {},
     "output_type": "execute_result"
    }
   ],
   "source": [
    "resampled_data = np.delete(dataset.values, del_idxs, axis=0)\n",
    "resampled_sh = np.delete(is_share.values, del_idxs, axis=0)\n",
    "resampled_data.shape, resampled_sh.shape"
   ]
  },
  {
   "cell_type": "code",
   "execution_count": 52,
   "metadata": {},
   "outputs": [
    {
     "data": {
      "text/plain": [
       "((28520, 70), (28520,))"
      ]
     },
     "execution_count": 52,
     "metadata": {},
     "output_type": "execute_result"
    }
   ],
   "source": [
    "# 将采样后的数据重装会DataFrame\n",
    "data = pd.DataFrame(resampled_data, columns=dataset.columns)\n",
    "is_share = pd.Series(resampled_sh)\n",
    "data.shape, is_share.shape"
   ]
  },
  {
   "cell_type": "code",
   "execution_count": 53,
   "metadata": {},
   "outputs": [
    {
     "data": {
      "text/plain": [
       "((22816,), (5704,))"
      ]
     },
     "execution_count": 53,
     "metadata": {},
     "output_type": "execute_result"
    }
   ],
   "source": [
    "train_idx, test_idx = train_test_split(data.index, test_size=0.2, random_state=0)\n",
    "train_idx.shape, test_idx.shape"
   ]
  },
  {
   "cell_type": "markdown",
   "metadata": {},
   "source": [
    "### 训练模型"
   ]
  },
  {
   "cell_type": "code",
   "execution_count": 54,
   "metadata": {},
   "outputs": [],
   "source": [
    "X_train_sh = data.iloc[train_idx]\n",
    "X_test_sh  = data.iloc[test_idx]"
   ]
  },
  {
   "cell_type": "code",
   "execution_count": 55,
   "metadata": {},
   "outputs": [],
   "source": [
    "y_train_sh = is_share.iloc[train_idx]\n",
    "y_test_sh  = is_share.iloc[test_idx]"
   ]
  },
  {
   "cell_type": "code",
   "execution_count": 56,
   "metadata": {},
   "outputs": [
    {
     "name": "stdout",
     "output_type": "stream",
     "text": [
      "Data preparing finished ...\t\t(0.114s)\n"
     ]
    }
   ],
   "source": [
    "t0 = time()\n",
    "xg_train_sh = xgb.DMatrix(X_train_sh.values, label=y_train_sh.values, enable_categorical=True)\n",
    "xg_test_sh = xgb.DMatrix(X_test_sh.values, label=y_test_sh.values, enable_categorical=True)\n",
    "print(f\"Data preparing finished ...\\t\\t({time()-t0:.3f}s)\")"
   ]
  },
  {
   "cell_type": "code",
   "execution_count": 57,
   "metadata": {},
   "outputs": [
    {
     "data": {
      "text/plain": [
       "70"
      ]
     },
     "execution_count": 57,
     "metadata": {},
     "output_type": "execute_result"
    }
   ],
   "source": [
    "xg_train_sh.num_col()"
   ]
  },
  {
   "cell_type": "code",
   "execution_count": 117,
   "metadata": {},
   "outputs": [],
   "source": [
    "# setup parameters for xgboost\n",
    "param_sh = {}\n",
    "# use softmax multi-class classification\n",
    "param_sh['objective'] = 'binary:hinge'\n",
    "# scale weight of positive examples\n",
    "param_sh['eta'] = 0.1\n",
    "param_sh['max_depth'] = 6\n",
    "param_sh['nthread'] = 4\n",
    "# param['num_class'] = 2\n",
    "param_sh['gpu_id'] = 0\n",
    "param_sh['tree_method'] = 'gpu_hist'\n",
    "\n",
    "watchlist = [(xg_train_sh, 'train'), (xg_test_sh, 'test')]"
   ]
  },
  {
   "cell_type": "code",
   "execution_count": 107,
   "metadata": {
    "collapsed": true,
    "jupyter": {
     "outputs_hidden": true
    },
    "tags": []
   },
   "outputs": [
    {
     "name": "stdout",
     "output_type": "stream",
     "text": [
      "[0]\ttrain-error:0.50004\ttest-error:0.49877\n",
      "[1]\ttrain-error:0.50004\ttest-error:0.49877\n",
      "[2]\ttrain-error:0.50004\ttest-error:0.49877\n",
      "[3]\ttrain-error:0.50004\ttest-error:0.49877\n",
      "[4]\ttrain-error:0.50004\ttest-error:0.49877\n",
      "[5]\ttrain-error:0.50004\ttest-error:0.49877\n",
      "[6]\ttrain-error:0.48611\ttest-error:0.48948\n",
      "[7]\ttrain-error:0.48576\ttest-error:0.48966\n",
      "[8]\ttrain-error:0.47940\ttest-error:0.48475\n",
      "[9]\ttrain-error:0.47914\ttest-error:0.48475\n",
      "[10]\ttrain-error:0.47848\ttest-error:0.48422\n",
      "[11]\ttrain-error:0.47673\ttest-error:0.48387\n",
      "[12]\ttrain-error:0.43908\ttest-error:0.45792\n",
      "[13]\ttrain-error:0.43632\ttest-error:0.45354\n",
      "[14]\ttrain-error:0.43399\ttest-error:0.45039\n",
      "[15]\ttrain-error:0.43281\ttest-error:0.44881\n",
      "[16]\ttrain-error:0.42917\ttest-error:0.44776\n",
      "[17]\ttrain-error:0.42396\ttest-error:0.44478\n",
      "[18]\ttrain-error:0.41808\ttest-error:0.43952\n",
      "[19]\ttrain-error:0.41563\ttest-error:0.43794\n",
      "[20]\ttrain-error:0.41247\ttest-error:0.43671\n",
      "[21]\ttrain-error:0.40980\ttest-error:0.43443\n",
      "[22]\ttrain-error:0.40691\ttest-error:0.43180\n",
      "[23]\ttrain-error:0.40415\ttest-error:0.43093\n",
      "[24]\ttrain-error:0.40121\ttest-error:0.42882\n",
      "[25]\ttrain-error:0.39670\ttest-error:0.42760\n",
      "[26]\ttrain-error:0.39354\ttest-error:0.42637\n",
      "[27]\ttrain-error:0.39082\ttest-error:0.42672\n",
      "[28]\ttrain-error:0.38973\ttest-error:0.42742\n",
      "[29]\ttrain-error:0.38714\ttest-error:0.42812\n",
      "[30]\ttrain-error:0.38609\ttest-error:0.42514\n",
      "[31]\ttrain-error:0.38438\ttest-error:0.42514\n",
      "[32]\ttrain-error:0.38127\ttest-error:0.42514\n",
      "[33]\ttrain-error:0.38004\ttest-error:0.42304\n",
      "[34]\ttrain-error:0.37890\ttest-error:0.42216\n",
      "[35]\ttrain-error:0.37789\ttest-error:0.42076\n",
      "[36]\ttrain-error:0.37636\ttest-error:0.41690\n",
      "[37]\ttrain-error:0.37390\ttest-error:0.41585\n",
      "[38]\ttrain-error:0.37128\ttest-error:0.41497\n",
      "[39]\ttrain-error:0.37000\ttest-error:0.41409\n",
      "[40]\ttrain-error:0.36838\ttest-error:0.41234\n",
      "[41]\ttrain-error:0.36676\ttest-error:0.41059\n",
      "[42]\ttrain-error:0.36474\ttest-error:0.41024\n",
      "[43]\ttrain-error:0.36325\ttest-error:0.40831\n",
      "[44]\ttrain-error:0.36211\ttest-error:0.40621\n",
      "[45]\ttrain-error:0.36014\ttest-error:0.40515\n",
      "[46]\ttrain-error:0.36010\ttest-error:0.40375\n",
      "[47]\ttrain-error:0.35988\ttest-error:0.40305\n",
      "[48]\ttrain-error:0.35940\ttest-error:0.40287\n",
      "[49]\ttrain-error:0.35900\ttest-error:0.40235\n",
      "[50]\ttrain-error:0.35716\ttest-error:0.40112\n",
      "[51]\ttrain-error:0.35707\ttest-error:0.40147\n",
      "[52]\ttrain-error:0.35650\ttest-error:0.40147\n",
      "[53]\ttrain-error:0.35624\ttest-error:0.40095\n",
      "[54]\ttrain-error:0.35550\ttest-error:0.40130\n",
      "[55]\ttrain-error:0.35471\ttest-error:0.40060\n",
      "[56]\ttrain-error:0.35427\ttest-error:0.39972\n",
      "[57]\ttrain-error:0.35392\ttest-error:0.39937\n",
      "[58]\ttrain-error:0.35252\ttest-error:0.39867\n",
      "[59]\ttrain-error:0.35098\ttest-error:0.39902\n",
      "[60]\ttrain-error:0.35046\ttest-error:0.39902\n",
      "[61]\ttrain-error:0.34875\ttest-error:0.39937\n",
      "[62]\ttrain-error:0.34813\ttest-error:0.39919\n",
      "[63]\ttrain-error:0.34721\ttest-error:0.39884\n",
      "[64]\ttrain-error:0.34664\ttest-error:0.39884\n",
      "[65]\ttrain-error:0.34634\ttest-error:0.39867\n",
      "[66]\ttrain-error:0.34528\ttest-error:0.39726\n",
      "[67]\ttrain-error:0.34485\ttest-error:0.39762\n",
      "[68]\ttrain-error:0.34379\ttest-error:0.39762\n",
      "[69]\ttrain-error:0.34371\ttest-error:0.39569\n",
      "[70]\ttrain-error:0.34362\ttest-error:0.39621\n",
      "[71]\ttrain-error:0.34283\ttest-error:0.39639\n",
      "[72]\ttrain-error:0.34257\ttest-error:0.39639\n",
      "[73]\ttrain-error:0.34252\ttest-error:0.39516\n",
      "[74]\ttrain-error:0.34186\ttest-error:0.39481\n",
      "[75]\ttrain-error:0.34121\ttest-error:0.39464\n",
      "[76]\ttrain-error:0.34064\ttest-error:0.39446\n",
      "[77]\ttrain-error:0.34059\ttest-error:0.39534\n",
      "[78]\ttrain-error:0.34081\ttest-error:0.39551\n",
      "[79]\ttrain-error:0.34068\ttest-error:0.39499\n",
      "[80]\ttrain-error:0.33976\ttest-error:0.39604\n",
      "[81]\ttrain-error:0.33906\ttest-error:0.39551\n",
      "[82]\ttrain-error:0.33845\ttest-error:0.39481\n",
      "[83]\ttrain-error:0.33788\ttest-error:0.39499\n",
      "[84]\ttrain-error:0.33744\ttest-error:0.39446\n",
      "[85]\ttrain-error:0.33665\ttest-error:0.39464\n",
      "[86]\ttrain-error:0.33599\ttest-error:0.39306\n",
      "[87]\ttrain-error:0.33555\ttest-error:0.39306\n",
      "[88]\ttrain-error:0.33542\ttest-error:0.39358\n",
      "[89]\ttrain-error:0.33476\ttest-error:0.39323\n",
      "[90]\ttrain-error:0.33428\ttest-error:0.39446\n",
      "[91]\ttrain-error:0.33380\ttest-error:0.39411\n",
      "[92]\ttrain-error:0.33319\ttest-error:0.39464\n",
      "[93]\ttrain-error:0.33292\ttest-error:0.39464\n",
      "[94]\ttrain-error:0.33284\ttest-error:0.39411\n",
      "[95]\ttrain-error:0.33222\ttest-error:0.39446\n",
      "[96]\ttrain-error:0.33183\ttest-error:0.39411\n",
      "[97]\ttrain-error:0.33117\ttest-error:0.39376\n",
      "[98]\ttrain-error:0.33034\ttest-error:0.39376\n",
      "[99]\ttrain-error:0.32959\ttest-error:0.39428\n",
      "[100]\ttrain-error:0.32942\ttest-error:0.39393\n",
      "[101]\ttrain-error:0.32929\ttest-error:0.39306\n",
      "[102]\ttrain-error:0.32867\ttest-error:0.39358\n",
      "[103]\ttrain-error:0.32832\ttest-error:0.39358\n",
      "[104]\ttrain-error:0.32810\ttest-error:0.39341\n",
      "[105]\ttrain-error:0.32710\ttest-error:0.39323\n",
      "[106]\ttrain-error:0.32666\ttest-error:0.39323\n",
      "[107]\ttrain-error:0.32622\ttest-error:0.39393\n",
      "[108]\ttrain-error:0.32595\ttest-error:0.39376\n",
      "[109]\ttrain-error:0.32582\ttest-error:0.39393\n",
      "[110]\ttrain-error:0.32552\ttest-error:0.39341\n",
      "[111]\ttrain-error:0.32499\ttest-error:0.39288\n",
      "[112]\ttrain-error:0.32464\ttest-error:0.39393\n",
      "[113]\ttrain-error:0.32368\ttest-error:0.39236\n",
      "[114]\ttrain-error:0.32341\ttest-error:0.39236\n",
      "[115]\ttrain-error:0.32368\ttest-error:0.39253\n",
      "[116]\ttrain-error:0.32337\ttest-error:0.39253\n",
      "[117]\ttrain-error:0.32284\ttest-error:0.39288\n",
      "[118]\ttrain-error:0.32236\ttest-error:0.39288\n",
      "[119]\ttrain-error:0.32179\ttest-error:0.39428\n",
      "[120]\ttrain-error:0.32140\ttest-error:0.39499\n",
      "[121]\ttrain-error:0.32109\ttest-error:0.39464\n",
      "[122]\ttrain-error:0.32087\ttest-error:0.39428\n",
      "[123]\ttrain-error:0.32034\ttest-error:0.39446\n",
      "[124]\ttrain-error:0.32034\ttest-error:0.39411\n",
      "[125]\ttrain-error:0.32013\ttest-error:0.39428\n",
      "[126]\ttrain-error:0.31986\ttest-error:0.39376\n",
      "[127]\ttrain-error:0.31951\ttest-error:0.39393\n",
      "[128]\ttrain-error:0.31947\ttest-error:0.39376\n",
      "[129]\ttrain-error:0.31907\ttest-error:0.39358\n",
      "[130]\ttrain-error:0.31837\ttest-error:0.39411\n",
      "[131]\ttrain-error:0.31811\ttest-error:0.39358\n",
      "[132]\ttrain-error:0.31772\ttest-error:0.39306\n",
      "[133]\ttrain-error:0.31706\ttest-error:0.39271\n",
      "[134]\ttrain-error:0.31671\ttest-error:0.39218\n",
      "[135]\ttrain-error:0.31631\ttest-error:0.39236\n",
      "[136]\ttrain-error:0.31574\ttest-error:0.39306\n",
      "[137]\ttrain-error:0.31579\ttest-error:0.39201\n",
      "[138]\ttrain-error:0.31539\ttest-error:0.39218\n",
      "[139]\ttrain-error:0.31452\ttest-error:0.39218\n",
      "[140]\ttrain-error:0.31447\ttest-error:0.39165\n",
      "[141]\ttrain-error:0.31412\ttest-error:0.39201\n",
      "[142]\ttrain-error:0.31351\ttest-error:0.39183\n",
      "[143]\ttrain-error:0.31298\ttest-error:0.39148\n",
      "[144]\ttrain-error:0.31250\ttest-error:0.39218\n",
      "[145]\ttrain-error:0.31237\ttest-error:0.39183\n",
      "[146]\ttrain-error:0.31202\ttest-error:0.39236\n",
      "[147]\ttrain-error:0.31184\ttest-error:0.39253\n",
      "[148]\ttrain-error:0.31136\ttest-error:0.39148\n",
      "[149]\ttrain-error:0.31127\ttest-error:0.39236\n",
      "[150]\ttrain-error:0.31075\ttest-error:0.39218\n",
      "[151]\ttrain-error:0.31101\ttest-error:0.39183\n",
      "[152]\ttrain-error:0.31040\ttest-error:0.39218\n",
      "[153]\ttrain-error:0.31009\ttest-error:0.39271\n",
      "[154]\ttrain-error:0.30991\ttest-error:0.39253\n",
      "[155]\ttrain-error:0.30978\ttest-error:0.39271\n",
      "[156]\ttrain-error:0.30934\ttest-error:0.39201\n",
      "[157]\ttrain-error:0.30912\ttest-error:0.39183\n",
      "[158]\ttrain-error:0.30930\ttest-error:0.39165\n",
      "[159]\ttrain-error:0.30912\ttest-error:0.39148\n",
      "[160]\ttrain-error:0.30869\ttest-error:0.39253\n",
      "[161]\ttrain-error:0.30851\ttest-error:0.39288\n",
      "[162]\ttrain-error:0.30842\ttest-error:0.39288\n",
      "[163]\ttrain-error:0.30842\ttest-error:0.39288\n",
      "[164]\ttrain-error:0.30803\ttest-error:0.39183\n",
      "[165]\ttrain-error:0.30755\ttest-error:0.39236\n",
      "[166]\ttrain-error:0.30720\ttest-error:0.39393\n",
      "[167]\ttrain-error:0.30706\ttest-error:0.39376\n",
      "[168]\ttrain-error:0.30693\ttest-error:0.39393\n",
      "[169]\ttrain-error:0.30680\ttest-error:0.39358\n",
      "[170]\ttrain-error:0.30619\ttest-error:0.39306\n",
      "[171]\ttrain-error:0.30601\ttest-error:0.39288\n",
      "[172]\ttrain-error:0.30571\ttest-error:0.39306\n",
      "[173]\ttrain-error:0.30527\ttest-error:0.39341\n",
      "[174]\ttrain-error:0.30531\ttest-error:0.39323\n",
      "[175]\ttrain-error:0.30509\ttest-error:0.39358\n",
      "[176]\ttrain-error:0.30470\ttest-error:0.39393\n",
      "[177]\ttrain-error:0.30439\ttest-error:0.39376\n",
      "[178]\ttrain-error:0.30448\ttest-error:0.39358\n",
      "[179]\ttrain-error:0.30417\ttest-error:0.39341\n",
      "[180]\ttrain-error:0.30404\ttest-error:0.39341\n",
      "[181]\ttrain-error:0.30387\ttest-error:0.39323\n",
      "[182]\ttrain-error:0.30378\ttest-error:0.39288\n",
      "[183]\ttrain-error:0.30351\ttest-error:0.39271\n",
      "[184]\ttrain-error:0.30321\ttest-error:0.39288\n",
      "[185]\ttrain-error:0.30251\ttest-error:0.39341\n",
      "[186]\ttrain-error:0.30229\ttest-error:0.39341\n",
      "[187]\ttrain-error:0.30207\ttest-error:0.39323\n",
      "[188]\ttrain-error:0.30172\ttest-error:0.39323\n",
      "[189]\ttrain-error:0.30132\ttest-error:0.39271\n",
      "[190]\ttrain-error:0.30102\ttest-error:0.39236\n",
      "[191]\ttrain-error:0.30102\ttest-error:0.39306\n",
      "[192]\ttrain-error:0.30071\ttest-error:0.39236\n",
      "[193]\ttrain-error:0.30071\ttest-error:0.39165\n",
      "[194]\ttrain-error:0.30014\ttest-error:0.39148\n",
      "[195]\ttrain-error:0.29992\ttest-error:0.39078\n",
      "[196]\ttrain-error:0.29975\ttest-error:0.39095\n",
      "[197]\ttrain-error:0.29953\ttest-error:0.39043\n",
      "[198]\ttrain-error:0.29935\ttest-error:0.39060\n",
      "[199]\ttrain-error:0.29900\ttest-error:0.39078\n",
      "200-rounds Training finished ...\t\t(1.210s)\n"
     ]
    }
   ],
   "source": [
    "num_round = 200\n",
    "t0 = time()\n",
    "sh_bst_sm = xgb.train(param_sh, xg_train_sh, num_round, watchlist)\n",
    "print(f\"{num_round}-rounds Training finished ...\\t\\t({time()-t0:.3f}s)\")"
   ]
  },
  {
   "cell_type": "code",
   "execution_count": 108,
   "metadata": {},
   "outputs": [
    {
     "name": "stdout",
     "output_type": "stream",
     "text": [
      "Test error using softmax = 0.3907784011220196\n"
     ]
    }
   ],
   "source": [
    "# get prediction\n",
    "pred_sh = sh_bst_sm.predict(xg_test_sh)\n",
    "error_rate = np.sum(pred_sh != y_test_sh) / y_test_sh.shape[0]\n",
    "print('Test error using softmax = {}'.format(error_rate))"
   ]
  },
  {
   "cell_type": "code",
   "execution_count": 61,
   "metadata": {},
   "outputs": [
    {
     "data": {
      "text/plain": [
       "(Counter({1.0: 3084, 0.0: 2620}), Counter({1: 2859, 0: 2845}))"
      ]
     },
     "execution_count": 61,
     "metadata": {},
     "output_type": "execute_result"
    }
   ],
   "source": [
    "Counter(pred_sh), Counter(y_test_sh)"
   ]
  },
  {
   "cell_type": "code",
   "execution_count": 94,
   "metadata": {},
   "outputs": [
    {
     "name": "stdout",
     "output_type": "stream",
     "text": [
      "              precision    recall  f1-score   support\n",
      "\n",
      "           0       0.62      0.57      0.59      2845\n",
      "           1       0.60      0.65      0.62      2859\n",
      "\n",
      "    accuracy                           0.61      5704\n",
      "   macro avg       0.61      0.61      0.61      5704\n",
      "weighted avg       0.61      0.61      0.61      5704\n",
      "\n"
     ]
    }
   ],
   "source": [
    "report_sh = metrics.classification_report(list(y_test_sh), list(pred_sh))\n",
    "print(report_sh)"
   ]
  },
  {
   "cell_type": "code",
   "execution_count": 95,
   "metadata": {},
   "outputs": [
    {
     "data": {
      "text/plain": [
       "array([0.60912243, 0.60912243])"
      ]
     },
     "execution_count": 95,
     "metadata": {},
     "output_type": "execute_result"
    }
   ],
   "source": [
    "aucs_sh = auc(y_test_sh.astype(np.uint8), pred_sh.astype(np.uint8), [0, 1])\n",
    "aucs_sh"
   ]
  },
  {
   "cell_type": "markdown",
   "metadata": {},
   "source": [
    "## 保存模型"
   ]
  },
  {
   "cell_type": "code",
   "execution_count": 81,
   "metadata": {},
   "outputs": [],
   "source": [
    "wl_bst_sm.save_model('wl_model_v3')\n",
    "sh_bst_sm.save_model('sh_model_v3')"
   ]
  },
  {
   "cell_type": "code",
   "execution_count": 126,
   "metadata": {},
   "outputs": [],
   "source": [
    "def write_log(log_name, info, log_path=\"./\"):\n",
    "    import datetime\n",
    "    with open(os.path.join(log_path, log_name), 'w') as log:\n",
    "        log.write(f\"# {datetime.datetime.now().__str__()}\\n\")\n",
    "        log.write(f\"\\n## model name: {info['model_name']}\\n\")\n",
    "        log.write(f\"- model save path : {info['model_save_path']}\\n\")\n",
    "        \n",
    "        log.write(f\"\\n## Data setup\\n\")\n",
    "        log.write(f\"- dataset.shape : {dataset.shape}\\n\")\n",
    "        log.write(f\"- dataset.columns : {dataset.columns}\\n\")\n",
    "        log.write(f\"- is resample : {info['is_resample']}\\n\")\n",
    "        log.write(f\"- Traing_Data.shape (watch_label)  : {X_train.shape}\\n\")\n",
    "        log.write(f\"- Testing_Data.shape (watch_label) : {X_test.shape}\\n\")\n",
    "        log.write(f\"- Traing_Data.shape (is_share)  : {X_train_sh.shape}\\n\")\n",
    "        log.write(f\"- Testing_Data.shape (is_share) : {X_test_sh.shape}\\n\")\n",
    "        if info.get('is_resample', False):\n",
    "            log.write(f\"- Resampled class distribution (watch_label): \\n{Counter(resampled_wl)}\\n\")\n",
    "            log.write(f\"- Resampled class distribution (is_share): \\n{Counter(resampled_sh)}\\n\")\n",
    "            \n",
    "        log.write(f\"\\n## Model Params\\n\")\n",
    "        log.write(f\"- model params (watch_label) : \\n{param}\\n\")\n",
    "        log.write(f\"- model params (is_share) : \\n{param_sh}\\n\")\n",
    "        \n",
    "        log.write(f\"\\n## Model's Performance\\n\")\n",
    "        log.write(f\"- Aucs (watch_label) : {aucs}\\n\")\n",
    "        log.write(f\"- Weighted Aucs (watch_label) : {w_aucs}\\n\")\n",
    "        log.write(f\"- Aucs (is_share) : {aucs_sh}\\n\")\n",
    "        \n",
    "        log.write(f\"- Classification Report (watch_label) : \\n{report}\\n\")\n",
    "        log.write(f\"- Classification Report (is_share) : \\n{report_sh}\\n\")\n",
    "        \n",
    "        log.flush()\n",
    "        \n",
    "    pass"
   ]
  },
  {
   "cell_type": "code",
   "execution_count": 109,
   "metadata": {},
   "outputs": [
    {
     "data": {
      "text/plain": [
       "'/home/gzy/jupyter-lab/multi-objects-video-recommendation/Models'"
      ]
     },
     "execution_count": 109,
     "metadata": {},
     "output_type": "execute_result"
    }
   ],
   "source": [
    "os.getcwd()"
   ]
  },
  {
   "cell_type": "code",
   "execution_count": 127,
   "metadata": {},
   "outputs": [],
   "source": [
    "info = {'is_resample': True, 'model_name': ['wl_model_v3', 'sh_model_v3'], 'model_save_path': os.getcwd()}\n",
    "write_log(\"log_v3.md\", info)"
   ]
  },
  {
   "cell_type": "markdown",
   "metadata": {},
   "source": [
    "## 预测"
   ]
  },
  {
   "cell_type": "code",
   "execution_count": 355,
   "metadata": {},
   "outputs": [],
   "source": [
    "test = inference_dataset\n",
    "test = xgb.DMatrix(test.values, enable_categorical=True)"
   ]
  },
  {
   "cell_type": "code",
   "execution_count": 356,
   "metadata": {},
   "outputs": [
    {
     "data": {
      "text/plain": [
       "((2822180, 70), 70)"
      ]
     },
     "execution_count": 356,
     "metadata": {},
     "output_type": "execute_result"
    }
   ],
   "source": [
    "inference_dataset.shape, test.num_col()"
   ]
  },
  {
   "cell_type": "code",
   "execution_count": 457,
   "metadata": {},
   "outputs": [
    {
     "data": {
      "text/plain": [
       "(Counter({1.0: 1512646,\n",
       "          0.0: 513461,\n",
       "          9.0: 758114,\n",
       "          2.0: 22784,\n",
       "          4.0: 687,\n",
       "          8.0: 9674,\n",
       "          3.0: 1667,\n",
       "          6.0: 2270,\n",
       "          7.0: 511,\n",
       "          5.0: 366}),\n",
       " Counter({0.0: 1625293, 1.0: 1196887}))"
      ]
     },
     "execution_count": 457,
     "metadata": {},
     "output_type": "execute_result"
    }
   ],
   "source": [
    "wl = wl_bst_sm.predict(test)\n",
    "sh = sh_bst_sm.predict(test)\n",
    "Counter(wl), Counter(Counter(sh)"
   ]
  },
  {
   "cell_type": "code",
   "execution_count": 452,
   "metadata": {},
   "outputs": [
    {
     "data": {
      "text/html": [
       "<div>\n",
       "<style scoped>\n",
       "    .dataframe tbody tr th:only-of-type {\n",
       "        vertical-align: middle;\n",
       "    }\n",
       "\n",
       "    .dataframe tbody tr th {\n",
       "        vertical-align: top;\n",
       "    }\n",
       "\n",
       "    .dataframe thead th {\n",
       "        text-align: right;\n",
       "    }\n",
       "</style>\n",
       "<table border=\"1\" class=\"dataframe\">\n",
       "  <thead>\n",
       "    <tr style=\"text-align: right;\">\n",
       "      <th></th>\n",
       "      <th>user_id</th>\n",
       "      <th>video_id</th>\n",
       "      <th>watch_label</th>\n",
       "      <th>is_share</th>\n",
       "    </tr>\n",
       "  </thead>\n",
       "  <tbody>\n",
       "    <tr>\n",
       "      <th>0</th>\n",
       "      <td>1688013</td>\n",
       "      <td>32645</td>\n",
       "      <td>1</td>\n",
       "      <td>0</td>\n",
       "    </tr>\n",
       "    <tr>\n",
       "      <th>1</th>\n",
       "      <td>4502598</td>\n",
       "      <td>41270</td>\n",
       "      <td>0</td>\n",
       "      <td>1</td>\n",
       "    </tr>\n",
       "    <tr>\n",
       "      <th>2</th>\n",
       "      <td>5585629</td>\n",
       "      <td>16345</td>\n",
       "      <td>1</td>\n",
       "      <td>0</td>\n",
       "    </tr>\n",
       "    <tr>\n",
       "      <th>3</th>\n",
       "      <td>1635520</td>\n",
       "      <td>28149</td>\n",
       "      <td>1</td>\n",
       "      <td>1</td>\n",
       "    </tr>\n",
       "    <tr>\n",
       "      <th>4</th>\n",
       "      <td>4160191</td>\n",
       "      <td>40554</td>\n",
       "      <td>1</td>\n",
       "      <td>0</td>\n",
       "    </tr>\n",
       "  </tbody>\n",
       "</table>\n",
       "</div>"
      ],
      "text/plain": [
       "   user_id  video_id  watch_label  is_share\n",
       "0  1688013     32645            1         0\n",
       "1  4502598     41270            0         1\n",
       "2  5585629     16345            1         0\n",
       "3  1635520     28149            1         1\n",
       "4  4160191     40554            1         0"
      ]
     },
     "execution_count": 452,
     "metadata": {},
     "output_type": "execute_result"
    }
   ],
   "source": [
    "test_df['watch_label'] = wl.astype(np.uint8)\n",
    "test_df['is_share'] = sh.astype(np.uint8)\n",
    "test_df.head()"
   ]
  },
  {
   "cell_type": "code",
   "execution_count": 458,
   "metadata": {},
   "outputs": [],
   "source": [
    "test_df.to_csv(f'../submission-{int(time())}.csv', index=False, sep=\",\")"
   ]
  },
  {
   "cell_type": "code",
   "execution_count": 456,
   "metadata": {},
   "outputs": [
    {
     "data": {
      "text/html": [
       "<div>\n",
       "<style scoped>\n",
       "    .dataframe tbody tr th:only-of-type {\n",
       "        vertical-align: middle;\n",
       "    }\n",
       "\n",
       "    .dataframe tbody tr th {\n",
       "        vertical-align: top;\n",
       "    }\n",
       "\n",
       "    .dataframe thead th {\n",
       "        text-align: right;\n",
       "    }\n",
       "</style>\n",
       "<table border=\"1\" class=\"dataframe\">\n",
       "  <thead>\n",
       "    <tr style=\"text-align: right;\">\n",
       "      <th></th>\n",
       "      <th>user_id</th>\n",
       "      <th>video_id</th>\n",
       "      <th>watch_label</th>\n",
       "      <th>is_share</th>\n",
       "    </tr>\n",
       "  </thead>\n",
       "  <tbody>\n",
       "    <tr>\n",
       "      <th>0</th>\n",
       "      <td>1688013</td>\n",
       "      <td>32645</td>\n",
       "      <td>0</td>\n",
       "      <td>0</td>\n",
       "    </tr>\n",
       "    <tr>\n",
       "      <th>1</th>\n",
       "      <td>4502598</td>\n",
       "      <td>41270</td>\n",
       "      <td>0</td>\n",
       "      <td>0</td>\n",
       "    </tr>\n",
       "    <tr>\n",
       "      <th>2</th>\n",
       "      <td>5585629</td>\n",
       "      <td>16345</td>\n",
       "      <td>0</td>\n",
       "      <td>0</td>\n",
       "    </tr>\n",
       "    <tr>\n",
       "      <th>3</th>\n",
       "      <td>1635520</td>\n",
       "      <td>28149</td>\n",
       "      <td>0</td>\n",
       "      <td>0</td>\n",
       "    </tr>\n",
       "    <tr>\n",
       "      <th>4</th>\n",
       "      <td>4160191</td>\n",
       "      <td>40554</td>\n",
       "      <td>0</td>\n",
       "      <td>0</td>\n",
       "    </tr>\n",
       "  </tbody>\n",
       "</table>\n",
       "</div>"
      ],
      "text/plain": [
       "   user_id  video_id  watch_label  is_share\n",
       "0  1688013     32645            0         0\n",
       "1  4502598     41270            0         0\n",
       "2  5585629     16345            0         0\n",
       "3  1635520     28149            0         0\n",
       "4  4160191     40554            0         0"
      ]
     },
     "execution_count": 456,
     "metadata": {},
     "output_type": "execute_result"
    }
   ],
   "source": [
    "tdf = pd.read_csv('../submission-1624955107.csv')\n",
    "tdf.head()"
   ]
  },
  {
   "cell_type": "code",
   "execution_count": 454,
   "metadata": {},
   "outputs": [],
   "source": [
    "widx = test_df['watch_label'] != tdf['watch_label']\n",
    "sidx = test_df['is_share'] != tdf['is_share']"
   ]
  },
  {
   "cell_type": "code",
   "execution_count": 1,
   "metadata": {},
   "outputs": [
    {
     "ename": "NameError",
     "evalue": "name 'widx' is not defined",
     "output_type": "error",
     "traceback": [
      "\u001b[0;31m---------------------------------------------------------------------------\u001b[0m",
      "\u001b[0;31mNameError\u001b[0m                                 Traceback (most recent call last)",
      "\u001b[0;32m<ipython-input-1-f1e020a34a6c>\u001b[0m in \u001b[0;36m<module>\u001b[0;34m\u001b[0m\n\u001b[0;32m----> 1\u001b[0;31m \u001b[0mwidx\u001b[0m\u001b[0;34m.\u001b[0m\u001b[0msum\u001b[0m\u001b[0;34m(\u001b[0m\u001b[0;34m)\u001b[0m\u001b[0;34m,\u001b[0m \u001b[0msidx\u001b[0m\u001b[0;34m.\u001b[0m\u001b[0msum\u001b[0m\u001b[0;34m(\u001b[0m\u001b[0;34m)\u001b[0m\u001b[0;34m\u001b[0m\u001b[0;34m\u001b[0m\u001b[0m\n\u001b[0m",
      "\u001b[0;31mNameError\u001b[0m: name 'widx' is not defined"
     ]
    }
   ],
   "source": [
    "widx.sum(), sidx.sum()"
   ]
  },
  {
   "cell_type": "markdown",
   "metadata": {},
   "source": [
    "# 服务器间同步文件"
   ]
  },
  {
   "cell_type": "markdown",
   "metadata": {},
   "source": [
    "## 推向Digix服务器"
   ]
  },
  {
   "cell_type": "code",
   "execution_count": 128,
   "metadata": {},
   "outputs": [
    {
     "name": "stdout",
     "output_type": "stream",
     "text": [
      "models.ipynb                                  100%   92KB   9.2MB/s   00:00    \n"
     ]
    }
   ],
   "source": [
    "!scp ./models.ipynb digix@49.123.120.71:/home/digix/digix/Models/models.ipynb "
   ]
  },
  {
   "cell_type": "code",
   "execution_count": 129,
   "metadata": {},
   "outputs": [
    {
     "name": "stdout",
     "output_type": "stream",
     "text": [
      "explore-data.ipynb                            100%  306KB  10.5MB/s   00:00    \n"
     ]
    }
   ],
   "source": [
    "!scp ../explore-data.ipynb digix@49.123.120.71:/home/digix/digix/explore-data.ipynb "
   ]
  },
  {
   "cell_type": "markdown",
   "metadata": {},
   "source": [
    "## 从Digix服务器拉数据"
   ]
  },
  {
   "cell_type": "code",
   "execution_count": 43,
   "metadata": {},
   "outputs": [
    {
     "name": "stdout",
     "output_type": "stream",
     "text": [
      "LightGBM.ipynb                                100%   71KB   8.7MB/s   00:00    \n"
     ]
    }
   ],
   "source": [
    "!scp  digix@49.123.120.71:/home/digix/digix/Models/LightGBM.ipynb ./LightGBM.ipynb"
   ]
  },
  {
   "cell_type": "code",
   "execution_count": 44,
   "metadata": {},
   "outputs": [
    {
     "name": "stdout",
     "output_type": "stream",
     "text": [
      "feature_engineering.ipynb                     100%  274KB  10.5MB/s   00:00    \n"
     ]
    }
   ],
   "source": [
    "!scp  digix@49.123.120.71:/home/digix/digix/Models/feature_engineering.ipynb ./feature_engineering.ipynb"
   ]
  },
  {
   "cell_type": "code",
   "execution_count": null,
   "metadata": {},
   "outputs": [],
   "source": []
  }
 ],
 "metadata": {
  "kernelspec": {
   "display_name": "Python 3",
   "language": "python",
   "name": "python3"
  },
  "language_info": {
   "codemirror_mode": {
    "name": "ipython",
    "version": 3
   },
   "file_extension": ".py",
   "mimetype": "text/x-python",
   "name": "python",
   "nbconvert_exporter": "python",
   "pygments_lexer": "ipython3",
   "version": "3.8.5"
  },
  "toc-autonumbering": true
 },
 "nbformat": 4,
 "nbformat_minor": 4
}
