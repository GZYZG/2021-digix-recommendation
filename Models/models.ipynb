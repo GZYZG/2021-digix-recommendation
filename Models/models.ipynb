{
 "cells": [
  {
   "cell_type": "code",
   "execution_count": 3,
   "metadata": {},
   "outputs": [],
   "source": [
    "import numpy as np\n",
    "from sklearn import metrics\n",
    "import os\n",
    "from sklearn.model_selection import train_test_split\n",
    "from time import time\n",
    "import pandas as pd\n",
    "import xgboost as xgb"
   ]
  },
  {
   "cell_type": "code",
   "execution_count": 10,
   "metadata": {
    "tags": []
   },
   "outputs": [],
   "source": [
    "def confusion_matrix(label, predict, n):\n",
    "    \"\"\"\n",
    "    计算混淆矩阵\n",
    "    :param label: 标签，np.array类型。形状可以是(n_sample,) 或者 (n_sample, n_classes)，当为第二种形状时可以表示多标签分类的情况\n",
    "    :param predict: 预测值，与 `label` 同理\n",
    "    :param n: 类别数目\n",
    "    :return: 混淆矩阵，np.array类型。shape 为 (n, n)。$cm_{ij}$表示真实标签为 $i$，预测标签为 $j$ 的样本个数\n",
    "    \"\"\"\n",
    "    k = (label >= 0) & (label < n)\n",
    "    # bincount()函数用于统计数组内每个非负整数的个数\n",
    "    # 详见 https://docs.scipy.org/doc/numpy/reference/generated/numpy.bincount.html\n",
    "    return np.bincount(n * label[k].astype(int) + predict[k], minlength=n ** 2).reshape(n, n)\n",
    "\n",
    "\n",
    "def auc(y, p, classes):\n",
    "    \"\"\"\n",
    "    给定真实标签和预测标签，计算每个类别的auc值。实际只算出了roc曲线上一个点，即一个(fpr, tpr)，再并上(0, 0)和(1, 1)来计算auc\n",
    "    :param y: 标签，np.array类型\n",
    "    :param p: 预测标签，np.array类型\n",
    "    :param classes: 类别，list-like，表示有哪些类别\n",
    "    \"\"\"\n",
    "    all_aucs = np.zeros(len(classes))\n",
    "    for i, c in enumerate(classes):\n",
    "        _y = np.zeros_like(y)\n",
    "        _y[y==c] = 1\n",
    "        _y[y!=c] = 0\n",
    "        _p = np.zeros_like(p)\n",
    "        _p[p==c] = 1\n",
    "        _p[p!=c] = 0\n",
    "#         print(_y, _p)\n",
    "        cm = confusion_matrix(_y, _p, 2)\n",
    "#         print(cm)\n",
    "        tpr = (cm[0, 0] / (cm[0, 0] + cm[0, 1])) if (cm[0, 0] + cm[0, 1]) != 0 else 0\n",
    "        fpr = (cm[1, 0] / (cm[1, 0] + cm[1, 1])) if (cm[1, 0] + cm[1, 1]) != 0 else 0\n",
    "        tpr = [0, tpr, 1]\n",
    "        fpr = [0, fpr, 1]\n",
    "        auc = metrics.auc(fpr, tpr)\n",
    "        all_aucs[i] = auc\n",
    "    return all_aucs"
   ]
  },
  {
   "cell_type": "code",
   "execution_count": 11,
   "metadata": {},
   "outputs": [],
   "source": [
    "y = np.random.randint(0, 10, 100)\n",
    "p = np.random.randint(0, 10, 100)"
   ]
  },
  {
   "cell_type": "markdown",
   "metadata": {},
   "source": [
    "# 给定预测标签，计算AUC\n",
    "使用OVR的策略计算每个类别的AUC\n",
    "过程：\n",
    "- 选择类别i作为正类，其他类别作为负类\n",
    "- 将真实标签中不等于i的标记为0，等于i的标记为1\n",
    "- 将预测标签中不等于i的标记为0，等于ide标记为1\n",
    "- 计算混淆矩阵\n",
    "- 计算(fpr, tpr)\n",
    "- 计算AUC"
   ]
  },
  {
   "cell_type": "code",
   "execution_count": 12,
   "metadata": {
    "tags": []
   },
   "outputs": [
    {
     "name": "stdout",
     "output_type": "stream",
     "text": [
      "[0.5298913  0.65555556 0.52304147 0.50747508 0.52445652 0.58219623\n",
      " 0.57264957 0.46842105 0.53379416 0.50795756]\n",
      "2.3789687141650595\n"
     ]
    }
   ],
   "source": [
    "classes = list(range(10))\n",
    "weights = np.arange(0, 1, 0.1)\n",
    "all_aucs = auc(y, p, classes)\n",
    "\n",
    "weighted_auc = (all_aucs * weights).sum()\n",
    "print(f\"{all_aucs}\\n{weighted_auc}\")"
   ]
  },
  {
   "cell_type": "code",
   "execution_count": 13,
   "metadata": {},
   "outputs": [
    {
     "name": "stdout",
     "output_type": "stream",
     "text": [
      "[0.5 0.5]\n"
     ]
    }
   ],
   "source": [
    "classes = list(range(2))\n",
    "y = np.array([0, 0, 1, 1])\n",
    "p = np.array([0, 1, 0, 1])\n",
    "all_aucs = auc(y, p, classes)\n",
    "\n",
    "print(f\"{all_aucs}\")"
   ]
  },
  {
   "cell_type": "markdown",
   "metadata": {},
   "source": [
    "# 加载数据\n",
    "训练数据加载过程：\n",
    "1. 分别加载处理好的用户特征和视频特征，以及整合的用户历史行为数据；\n",
    "2. 从用户历史行为数据中筛掉在视频特征中没出现过的video_id；\n",
    "3. 将行为数据中的user_id、video_id替换为对应用户/视频的特征\n",
    "4. 根据不同的任务划分为`watch_label`、`is_share`的数据集\n",
    "\n",
    "推断时，类似于上述过程拼接数据。"
   ]
  },
  {
   "cell_type": "code",
   "execution_count": 4,
   "metadata": {},
   "outputs": [],
   "source": [
    "base_dir = \"../2021_3_data\"\n",
    "test_data_dir  = os.path.join(base_dir, \"testdata\")\n",
    "train_data_dir = os.path.join(base_dir, \"traindata\")"
   ]
  },
  {
   "cell_type": "code",
   "execution_count": null,
   "metadata": {},
   "outputs": [],
   "source": [
    "user_   = np.load(os.path.join(train_data_dir, \"user_features_data/user_features.npz\"), allow_pickle=True)\n",
    "video_  = np.load(os.path.join(train_data_dir, \"video_features_data/video_features.npz\"), allow_pickle=True)"
   ]
  },
  {
   "cell_type": "code",
   "execution_count": null,
   "metadata": {},
   "outputs": [],
   "source": [
    "user_feats, user_cols = user_['features'], user_['columns']\n",
    "video_feats, video_cols = video_['features'], video_['columns']"
   ]
  },
  {
   "cell_type": "code",
   "execution_count": null,
   "metadata": {},
   "outputs": [],
   "source": [
    "user_df = pd.DataFrame(user_feats, columns=user_cols)\n",
    "video_df = pd.DataFrame(video_feats, columns=video_cols)"
   ]
  },
  {
   "cell_type": "markdown",
   "metadata": {},
   "source": [
    "## 加载训练数据"
   ]
  },
  {
   "cell_type": "code",
   "execution_count": 5,
   "metadata": {},
   "outputs": [],
   "source": [
    "action_  = np.load(os.path.join(train_data_dir, \"all_actions.npz\"), allow_pickle=True) "
   ]
  },
  {
   "cell_type": "code",
   "execution_count": 44,
   "metadata": {},
   "outputs": [],
   "source": [
    "action_data, action_cols = action_['data'], action_['columns']"
   ]
  },
  {
   "cell_type": "code",
   "execution_count": 45,
   "metadata": {},
   "outputs": [],
   "source": [
    "action_df = pd.DataFrame(action_data, columns=action_cols)"
   ]
  },
  {
   "cell_type": "code",
   "execution_count": 46,
   "metadata": {},
   "outputs": [
    {
     "data": {
      "text/plain": [
       "(7353024, 5)"
      ]
     },
     "execution_count": 46,
     "metadata": {},
     "output_type": "execute_result"
    }
   ],
   "source": [
    "action_df.shape"
   ]
  },
  {
   "cell_type": "code",
   "execution_count": 47,
   "metadata": {},
   "outputs": [
    {
     "data": {
      "text/plain": [
       "Int64Index([   15,   144,   428,   497,   876,  1174,  2127,  2199,  2334,\n",
       "             3153,\n",
       "            ...\n",
       "            48069, 48269, 48343, 48626, 49103, 49241, 49404, 49419, 49793,\n",
       "            50337],\n",
       "           dtype='int64', length=243)"
      ]
     },
     "execution_count": 47,
     "metadata": {},
     "output_type": "execute_result"
    }
   ],
   "source": [
    "# 从用户历史行为数据中筛掉在视频特征中没出现过的video_id\n",
    "idx1 = pd.Index(action_df['video_id'].unique())\n",
    "idx2 = pd.Index(video_df['video_id'])\n",
    "not_exists = idx1.difference(idx2)\n",
    "not_exists"
   ]
  },
  {
   "cell_type": "code",
   "execution_count": 48,
   "metadata": {},
   "outputs": [
    {
     "name": "stdout",
     "output_type": "stream",
     "text": [
      "在视频特征中不存在的video_id在行为数据集中出现的次数 = 45006\t\t(cost 8.837s)\n"
     ]
    }
   ],
   "source": [
    "t0 = time()\n",
    "n = 0\n",
    "for vid in not_exists:\n",
    "    tn = (action_df['video_id'] == vid).sum()\n",
    "#     action_df = action_df[action_df['video_id'] != vid]\n",
    "    action_df['video_id'].replace(vid, np.nan, inplace=True)\n",
    "    n += tn\n",
    "action_df.dropna(axis=0, inplace=True)\n",
    "print(f\"在视频特征中不存在的video_id在行为数据集中出现的次数 = {n}\\t\\t(cost {time() - t0:.3f}s)\")"
   ]
  },
  {
   "cell_type": "code",
   "execution_count": 49,
   "metadata": {},
   "outputs": [
    {
     "data": {
      "text/plain": [
       "(7308018, 5)"
      ]
     },
     "execution_count": 49,
     "metadata": {},
     "output_type": "execute_result"
    }
   ],
   "source": [
    "action_df.shape"
   ]
  },
  {
   "cell_type": "code",
   "execution_count": 52,
   "metadata": {},
   "outputs": [],
   "source": [
    "video_action = video_df.merge(action_df, how='right', left_on='video_id', right_on='video_id')"
   ]
  },
  {
   "cell_type": "code",
   "execution_count": 63,
   "metadata": {},
   "outputs": [
    {
     "data": {
      "text/html": [
       "<div>\n",
       "<style scoped>\n",
       "    .dataframe tbody tr th:only-of-type {\n",
       "        vertical-align: middle;\n",
       "    }\n",
       "\n",
       "    .dataframe tbody tr th {\n",
       "        vertical-align: top;\n",
       "    }\n",
       "\n",
       "    .dataframe thead th {\n",
       "        text-align: right;\n",
       "    }\n",
       "</style>\n",
       "<table border=\"1\" class=\"dataframe\">\n",
       "  <thead>\n",
       "    <tr style=\"text-align: right;\">\n",
       "      <th></th>\n",
       "      <th>video_id</th>\n",
       "      <th>video_name</th>\n",
       "      <th>video_score</th>\n",
       "      <th>video_duration</th>\n",
       "      <th>video_release_year</th>\n",
       "      <th>video_release_month</th>\n",
       "      <th>video_release_day</th>\n",
       "      <th>desc_0</th>\n",
       "      <th>desc_1</th>\n",
       "      <th>desc_2</th>\n",
       "      <th>...</th>\n",
       "      <th>class_9</th>\n",
       "      <th>da_0</th>\n",
       "      <th>da_1</th>\n",
       "      <th>da_2</th>\n",
       "      <th>da_3</th>\n",
       "      <th>da_4</th>\n",
       "      <th>user_id</th>\n",
       "      <th>is_watch</th>\n",
       "      <th>is_share</th>\n",
       "      <th>watch_label</th>\n",
       "    </tr>\n",
       "  </thead>\n",
       "  <tbody>\n",
       "    <tr>\n",
       "      <th>0</th>\n",
       "      <td>28149</td>\n",
       "      <td>人潮汹涌</td>\n",
       "      <td>0.8</td>\n",
       "      <td>265</td>\n",
       "      <td>2021.0</td>\n",
       "      <td>2.0</td>\n",
       "      <td>12.0</td>\n",
       "      <td>0.277669</td>\n",
       "      <td>0.591679</td>\n",
       "      <td>0.016331</td>\n",
       "      <td>...</td>\n",
       "      <td>0.037483</td>\n",
       "      <td>0.075849</td>\n",
       "      <td>0.075966</td>\n",
       "      <td>0.388902</td>\n",
       "      <td>0.383616</td>\n",
       "      <td>0.075666</td>\n",
       "      <td>4239342</td>\n",
       "      <td>1</td>\n",
       "      <td>0</td>\n",
       "      <td>2</td>\n",
       "    </tr>\n",
       "    <tr>\n",
       "      <th>1</th>\n",
       "      <td>115</td>\n",
       "      <td>数码宝贝：最后的进化</td>\n",
       "      <td>0.81</td>\n",
       "      <td>194</td>\n",
       "      <td>2020.0</td>\n",
       "      <td>10.0</td>\n",
       "      <td>30.0</td>\n",
       "      <td>0.026072</td>\n",
       "      <td>0.026047</td>\n",
       "      <td>0.026042</td>\n",
       "      <td>...</td>\n",
       "      <td>0.626961</td>\n",
       "      <td>0.084394</td>\n",
       "      <td>0.361578</td>\n",
       "      <td>0.082888</td>\n",
       "      <td>0.082888</td>\n",
       "      <td>0.388253</td>\n",
       "      <td>3577036</td>\n",
       "      <td>1</td>\n",
       "      <td>0</td>\n",
       "      <td>0</td>\n",
       "    </tr>\n",
       "    <tr>\n",
       "      <th>2</th>\n",
       "      <td>3636</td>\n",
       "      <td>东海异闻录</td>\n",
       "      <td>0.77</td>\n",
       "      <td>3807</td>\n",
       "      <td>2021.0</td>\n",
       "      <td>4.0</td>\n",
       "      <td>24.0</td>\n",
       "      <td>0.018332</td>\n",
       "      <td>0.351056</td>\n",
       "      <td>0.018328</td>\n",
       "      <td>...</td>\n",
       "      <td>0.041772</td>\n",
       "      <td>0.324848</td>\n",
       "      <td>0.083544</td>\n",
       "      <td>0.083544</td>\n",
       "      <td>0.083544</td>\n",
       "      <td>0.424519</td>\n",
       "      <td>5527504</td>\n",
       "      <td>1</td>\n",
       "      <td>0</td>\n",
       "      <td>5</td>\n",
       "    </tr>\n",
       "    <tr>\n",
       "      <th>3</th>\n",
       "      <td>12968</td>\n",
       "      <td>刺杀小说家</td>\n",
       "      <td>0.79</td>\n",
       "      <td>7791</td>\n",
       "      <td>2021.0</td>\n",
       "      <td>2.0</td>\n",
       "      <td>12.0</td>\n",
       "      <td>0.022649</td>\n",
       "      <td>0.022656</td>\n",
       "      <td>0.022645</td>\n",
       "      <td>...</td>\n",
       "      <td>0.034261</td>\n",
       "      <td>0.50428</td>\n",
       "      <td>0.072258</td>\n",
       "      <td>0.070551</td>\n",
       "      <td>0.069007</td>\n",
       "      <td>0.283903</td>\n",
       "      <td>1117889</td>\n",
       "      <td>1</td>\n",
       "      <td>0</td>\n",
       "      <td>0</td>\n",
       "    </tr>\n",
       "    <tr>\n",
       "      <th>4</th>\n",
       "      <td>860</td>\n",
       "      <td>飞驰人生</td>\n",
       "      <td>0.84</td>\n",
       "      <td>5889</td>\n",
       "      <td>2019.0</td>\n",
       "      <td>2.0</td>\n",
       "      <td>5.0</td>\n",
       "      <td>0.345659</td>\n",
       "      <td>0.029107</td>\n",
       "      <td>0.029101</td>\n",
       "      <td>...</td>\n",
       "      <td>0.037924</td>\n",
       "      <td>0.076261</td>\n",
       "      <td>0.39165</td>\n",
       "      <td>0.077193</td>\n",
       "      <td>0.075847</td>\n",
       "      <td>0.379048</td>\n",
       "      <td>1117889</td>\n",
       "      <td>1</td>\n",
       "      <td>0</td>\n",
       "      <td>4</td>\n",
       "    </tr>\n",
       "  </tbody>\n",
       "</table>\n",
       "<p>5 rows × 46 columns</p>\n",
       "</div>"
      ],
      "text/plain": [
       "  video_id  video_name video_score video_duration video_release_year  \\\n",
       "0    28149        人潮汹涌         0.8            265             2021.0   \n",
       "1      115  数码宝贝：最后的进化        0.81            194             2020.0   \n",
       "2     3636       东海异闻录        0.77           3807             2021.0   \n",
       "3    12968       刺杀小说家        0.79           7791             2021.0   \n",
       "4      860        飞驰人生        0.84           5889             2019.0   \n",
       "\n",
       "  video_release_month video_release_day    desc_0    desc_1    desc_2  ...  \\\n",
       "0                 2.0              12.0  0.277669  0.591679  0.016331  ...   \n",
       "1                10.0              30.0  0.026072  0.026047  0.026042  ...   \n",
       "2                 4.0              24.0  0.018332  0.351056  0.018328  ...   \n",
       "3                 2.0              12.0  0.022649  0.022656  0.022645  ...   \n",
       "4                 2.0               5.0  0.345659  0.029107  0.029101  ...   \n",
       "\n",
       "    class_9      da_0      da_1      da_2      da_3      da_4  user_id  \\\n",
       "0  0.037483  0.075849  0.075966  0.388902  0.383616  0.075666  4239342   \n",
       "1  0.626961  0.084394  0.361578  0.082888  0.082888  0.388253  3577036   \n",
       "2  0.041772  0.324848  0.083544  0.083544  0.083544  0.424519  5527504   \n",
       "3  0.034261   0.50428  0.072258  0.070551  0.069007  0.283903  1117889   \n",
       "4  0.037924  0.076261   0.39165  0.077193  0.075847  0.379048  1117889   \n",
       "\n",
       "  is_watch is_share watch_label  \n",
       "0        1        0           2  \n",
       "1        1        0           0  \n",
       "2        1        0           5  \n",
       "3        1        0           0  \n",
       "4        1        0           4  \n",
       "\n",
       "[5 rows x 46 columns]"
      ]
     },
     "execution_count": 63,
     "metadata": {},
     "output_type": "execute_result"
    }
   ],
   "source": [
    "video_action.head()"
   ]
  },
  {
   "cell_type": "code",
   "execution_count": 67,
   "metadata": {},
   "outputs": [],
   "source": [
    "user_video_action = user_df.merge(video_action, how='right', left_on='user_id', right_on='user_id')"
   ]
  },
  {
   "cell_type": "code",
   "execution_count": 68,
   "metadata": {},
   "outputs": [
    {
     "data": {
      "text/html": [
       "<div>\n",
       "<style scoped>\n",
       "    .dataframe tbody tr th:only-of-type {\n",
       "        vertical-align: middle;\n",
       "    }\n",
       "\n",
       "    .dataframe tbody tr th {\n",
       "        vertical-align: top;\n",
       "    }\n",
       "\n",
       "    .dataframe thead th {\n",
       "        text-align: right;\n",
       "    }\n",
       "</style>\n",
       "<table border=\"1\" class=\"dataframe\">\n",
       "  <thead>\n",
       "    <tr style=\"text-align: right;\">\n",
       "      <th></th>\n",
       "      <th>user_id</th>\n",
       "      <th>video_id</th>\n",
       "      <th>age_0</th>\n",
       "      <th>age_1</th>\n",
       "      <th>age_2</th>\n",
       "      <th>age_3</th>\n",
       "      <th>age_4</th>\n",
       "      <th>age_5</th>\n",
       "      <th>age_6</th>\n",
       "      <th>age_7</th>\n",
       "      <th>...</th>\n",
       "      <th>class_7</th>\n",
       "      <th>class_8</th>\n",
       "      <th>class_9</th>\n",
       "      <th>da_0</th>\n",
       "      <th>da_1</th>\n",
       "      <th>da_2</th>\n",
       "      <th>da_3</th>\n",
       "      <th>da_4</th>\n",
       "      <th>is_share</th>\n",
       "      <th>watch_label</th>\n",
       "    </tr>\n",
       "  </thead>\n",
       "  <tbody>\n",
       "    <tr>\n",
       "      <th>0</th>\n",
       "      <td>4239342.0</td>\n",
       "      <td>28149</td>\n",
       "      <td>0.0</td>\n",
       "      <td>1.0</td>\n",
       "      <td>0.0</td>\n",
       "      <td>0.0</td>\n",
       "      <td>0.0</td>\n",
       "      <td>0.0</td>\n",
       "      <td>0.0</td>\n",
       "      <td>0.0</td>\n",
       "      <td>...</td>\n",
       "      <td>0.037486</td>\n",
       "      <td>0.395894</td>\n",
       "      <td>0.037483</td>\n",
       "      <td>0.075849</td>\n",
       "      <td>0.075966</td>\n",
       "      <td>0.388902</td>\n",
       "      <td>0.383616</td>\n",
       "      <td>0.075666</td>\n",
       "      <td>0</td>\n",
       "      <td>2</td>\n",
       "    </tr>\n",
       "    <tr>\n",
       "      <th>1</th>\n",
       "      <td>3577036.0</td>\n",
       "      <td>115</td>\n",
       "      <td>0.0</td>\n",
       "      <td>1.0</td>\n",
       "      <td>0.0</td>\n",
       "      <td>0.0</td>\n",
       "      <td>0.0</td>\n",
       "      <td>0.0</td>\n",
       "      <td>0.0</td>\n",
       "      <td>0.0</td>\n",
       "      <td>...</td>\n",
       "      <td>0.041444</td>\n",
       "      <td>0.041444</td>\n",
       "      <td>0.626961</td>\n",
       "      <td>0.084394</td>\n",
       "      <td>0.361578</td>\n",
       "      <td>0.082888</td>\n",
       "      <td>0.082888</td>\n",
       "      <td>0.388253</td>\n",
       "      <td>0</td>\n",
       "      <td>0</td>\n",
       "    </tr>\n",
       "    <tr>\n",
       "      <th>2</th>\n",
       "      <td>5527504.0</td>\n",
       "      <td>3636</td>\n",
       "      <td>1.0</td>\n",
       "      <td>0.0</td>\n",
       "      <td>0.0</td>\n",
       "      <td>0.0</td>\n",
       "      <td>0.0</td>\n",
       "      <td>0.0</td>\n",
       "      <td>0.0</td>\n",
       "      <td>0.0</td>\n",
       "      <td>...</td>\n",
       "      <td>0.041779</td>\n",
       "      <td>0.04178</td>\n",
       "      <td>0.041772</td>\n",
       "      <td>0.324848</td>\n",
       "      <td>0.083544</td>\n",
       "      <td>0.083544</td>\n",
       "      <td>0.083544</td>\n",
       "      <td>0.424519</td>\n",
       "      <td>0</td>\n",
       "      <td>5</td>\n",
       "    </tr>\n",
       "  </tbody>\n",
       "</table>\n",
       "<p>3 rows × 74 columns</p>\n",
       "</div>"
      ],
      "text/plain": [
       "     user_id video_id  age_0  age_1  age_2  age_3  age_4  age_5  age_6  age_7  \\\n",
       "0  4239342.0    28149    0.0    1.0    0.0    0.0    0.0    0.0    0.0    0.0   \n",
       "1  3577036.0      115    0.0    1.0    0.0    0.0    0.0    0.0    0.0    0.0   \n",
       "2  5527504.0     3636    1.0    0.0    0.0    0.0    0.0    0.0    0.0    0.0   \n",
       "\n",
       "   ...   class_7   class_8   class_9      da_0      da_1      da_2      da_3  \\\n",
       "0  ...  0.037486  0.395894  0.037483  0.075849  0.075966  0.388902  0.383616   \n",
       "1  ...  0.041444  0.041444  0.626961  0.084394  0.361578  0.082888  0.082888   \n",
       "2  ...  0.041779   0.04178  0.041772  0.324848  0.083544  0.083544  0.083544   \n",
       "\n",
       "       da_4  is_share  watch_label  \n",
       "0  0.075666         0            2  \n",
       "1  0.388253         0            0  \n",
       "2  0.424519         0            5  \n",
       "\n",
       "[3 rows x 74 columns]"
      ]
     },
     "execution_count": 68,
     "metadata": {},
     "output_type": "execute_result"
    }
   ],
   "source": [
    "# 删除 video_name 列，调整video_id列的顺序\n",
    "user_video_action.drop(['video_name', 'is_watch'], axis=1, inplace=True)\n",
    "user_video_action.insert(1, 'video_id', user_video_action.pop('video_id'))\n",
    "user_video_action.head(3)"
   ]
  },
  {
   "cell_type": "code",
   "execution_count": 97,
   "metadata": {},
   "outputs": [],
   "source": [
    "# 保存数据以便下次直接读取\n",
    "np.savez(os.path.join(train_data_dir, \"train\"), data=user_video_action.values, columns=user_video_action.columns.tolist())"
   ]
  },
  {
   "cell_type": "code",
   "execution_count": null,
   "metadata": {},
   "outputs": [],
   "source": [
    "# 删除 video_id、user_id列\n",
    "user_video_action.drop(['user_id', 'video_id'], axis=1, inplace=True)"
   ]
  },
  {
   "cell_type": "code",
   "execution_count": 70,
   "metadata": {},
   "outputs": [],
   "source": [
    "dataset = user_video_action"
   ]
  },
  {
   "cell_type": "markdown",
   "metadata": {},
   "source": [
    "## 加载测试数据"
   ]
  },
  {
   "cell_type": "code",
   "execution_count": 88,
   "metadata": {},
   "outputs": [],
   "source": [
    "test_df = pd.read_csv(os.path.join(test_data_dir, \"test.csv\"))"
   ]
  },
  {
   "cell_type": "code",
   "execution_count": 90,
   "metadata": {},
   "outputs": [
    {
     "data": {
      "text/plain": [
       "Int64Index([   15,   144,   428,   497,   876,  1174,  1589,  1906,  2127,\n",
       "             2199,\n",
       "            ...\n",
       "            47945, 48069, 48269, 48343, 48626, 49241, 49404, 49419, 49793,\n",
       "            50337],\n",
       "           dtype='int64', length=276)"
      ]
     },
     "execution_count": 90,
     "metadata": {},
     "output_type": "execute_result"
    }
   ],
   "source": [
    "# 测试数据集中存在video_id没有在视频特征中出现\n",
    "idx1 = pd.Index(test_df['video_id'].unique())\n",
    "idx2 = pd.Index(video_df['video_id'].unique())\n",
    "non_exists = idx1.difference(idx2)\n",
    "non_exists"
   ]
  },
  {
   "cell_type": "code",
   "execution_count": 91,
   "metadata": {},
   "outputs": [],
   "source": [
    "video_test = video_df.merge(test_df, how='right', left_on='video_id', right_on='video_id')\n",
    "user_video_test = user_df.merge(video_test, how='right', left_on='user_id', right_on='user_id')"
   ]
  },
  {
   "cell_type": "code",
   "execution_count": 94,
   "metadata": {},
   "outputs": [],
   "source": [
    "user_video_test.insert(1, 'video_id', user_video_test.pop('video_id'))"
   ]
  },
  {
   "cell_type": "code",
   "execution_count": 96,
   "metadata": {},
   "outputs": [],
   "source": [
    "# 保存数据以便下次直接读取\n",
    "np.savez(os.path.join(test_data_dir, \"test\"), data=user_video_test.values, columns=user_video_test.columns.tolist())"
   ]
  },
  {
   "cell_type": "code",
   "execution_count": null,
   "metadata": {},
   "outputs": [],
   "source": [
    "inference_dataset = user_video_test"
   ]
  },
  {
   "cell_type": "markdown",
   "metadata": {},
   "source": [
    "# XGBoost"
   ]
  },
  {
   "cell_type": "code",
   "execution_count": null,
   "metadata": {},
   "outputs": [],
   "source": [
    "def train_xgb(X_train, y_train, params):\n",
    "    xg_train = xgb.DMatrix(X_train.values, label=y_train.values, enable_categorical=True)\n",
    "    xg_test = xgb.DMatrix(X_test.values, label=y_test.values, enable_categorical=True)\n",
    "    \n",
    "    watchlist = [(xg_train, 'train'), (xg_test, 'test')]\n",
    "    num_round = 5\n",
    "    # train xgb\n",
    "    bst = xgb.train(_param, xg_train, num_round, watchlist)\n",
    "    # get prediction\n",
    "    pred = bst.predict(xg_test)\n",
    "    error_rate = np.sum(pred != y_test) / test_y.shape[0]\n",
    "    print('Test error using softmax = {}'.format(error_rate))\n",
    "\n",
    "    # do the same thing again, but output probabilities\n",
    "    param['objective'] = 'multi:softprob'\n",
    "    bst = xgb.train(param, xg_train, num_round, watchlist)\n",
    "    # Note: this convention has been changed since xgboost-unity\n",
    "    # get prediction, this is in 1D array, need reshape to (ndata, nclass)\n",
    "    pred_prob = bst.predict(xg_test).reshape(y_test.shape[0], 6)\n",
    "    pred_label = np.argmax(pred_prob, axis=1)\n",
    "    error_rate = np.sum(pred_label != y_test) / y_test.shape[0]\n",
    "    print('Test error using softprob = {}'.format(error_rate))\n"
   ]
  },
  {
   "cell_type": "code",
   "execution_count": 79,
   "metadata": {},
   "outputs": [],
   "source": [
    "# 准备数据\n",
    "watch_label = dataset.pop('watch_label')\n",
    "is_share = dataset.pop('is_share')\n",
    "train_idx, test_idx = train_test_split(dataset.index, test_size=0.2, random_state=0)"
   ]
  },
  {
   "cell_type": "code",
   "execution_count": 80,
   "metadata": {},
   "outputs": [],
   "source": [
    "X_train = dataset.iloc[train_idx]\n",
    "X_test  = dataset.iloc[test_idx]"
   ]
  },
  {
   "cell_type": "code",
   "execution_count": 82,
   "metadata": {},
   "outputs": [
    {
     "data": {
      "text/plain": [
       "((5846414, 72), (1461604, 72))"
      ]
     },
     "execution_count": 82,
     "metadata": {},
     "output_type": "execute_result"
    }
   ],
   "source": [
    "X_train.shape, X_test.shape"
   ]
  },
  {
   "cell_type": "markdown",
   "metadata": {},
   "source": [
    "## watch_label 预测"
   ]
  },
  {
   "cell_type": "code",
   "execution_count": 81,
   "metadata": {},
   "outputs": [],
   "source": [
    "y_train = watch_label.iloc[train_idx]\n",
    "y_test  = watch_label.iloc[test_idx]"
   ]
  },
  {
   "cell_type": "code",
   "execution_count": 99,
   "metadata": {},
   "outputs": [
    {
     "name": "stdout",
     "output_type": "stream",
     "text": [
      "Data preparing finished ...\t\t(48.264s)\n"
     ]
    }
   ],
   "source": [
    "t0 = time()\n",
    "xg_train = xgb.DMatrix(X_train.values, label=y_train.values, enable_categorical=True)\n",
    "xg_test = xgb.DMatrix(X_test.values, label=y_test.values, enable_categorical=True)\n",
    "# setup parameters for xgboost\n",
    "param = {}\n",
    "# use softmax multi-class classification\n",
    "param['objective'] = 'multi:softmax'\n",
    "# scale weight of positive examples\n",
    "param['eta'] = 0.1\n",
    "param['max_depth'] = 6\n",
    "param['nthread'] = 4\n",
    "param['num_class'] = 10\n",
    "watchlist = [(xg_train, 'train'), (xg_test, 'test')]\n",
    "print(f\"Data preparing finished ...\\t\\t({time()-t0:.3f}s)\")"
   ]
  },
  {
   "cell_type": "code",
   "execution_count": null,
   "metadata": {},
   "outputs": [
    {
     "name": "stdout",
     "output_type": "stream",
     "text": [
      "[22:28:52] WARNING: ../src/learner.cc:1095: Starting in XGBoost 1.3.0, the default evaluation metric used with the objective 'multi:softmax' was changed from 'merror' to 'mlogloss'. Explicitly set eval_metric if you'd like to restore the old behavior.\n",
      "[0]\ttrain-mlogloss:2.07532\ttest-mlogloss:2.07479\n"
     ]
    }
   ],
   "source": [
    "num_round = 20\n",
    "t0 = time()\n",
    "wl_bst_sm = xgb.train(param, xg_train, num_round, watchlist)\n",
    "print(f\"{num_round}-rounds Training finished ...\\t\\t({time()-t0:.3f}s)\")"
   ]
  },
  {
   "cell_type": "code",
   "execution_count": null,
   "metadata": {},
   "outputs": [],
   "source": [
    "# get prediction\n",
    "pred = wl_bst_sm.predict(xg_test)\n",
    "error_rate = np.sum(pred != y_test) / y_test.shape[0]\n",
    "print('Test error using softmax = {}'.format(error_rate))"
   ]
  },
  {
   "cell_type": "code",
   "execution_count": null,
   "metadata": {},
   "outputs": [],
   "source": [
    "# do the same thing again, but output probabilities\n",
    "num_round = 10\n",
    "param['objective'] = 'multi:softprob'\n",
    "wl_bst_sp = xgb.train(param, xg_train, num_round, watchlist)"
   ]
  },
  {
   "cell_type": "code",
   "execution_count": null,
   "metadata": {},
   "outputs": [],
   "source": [
    "# Note: this convention has been changed since xgboost-unity\n",
    "# get prediction, this is in 1D array, need reshape to (ndata, nclass)\n",
    "pred_prob = wl_bst_sp.predict(xg_test).reshape(y_test.shape[0], 6)\n",
    "pred_label = np.argmax(pred_prob, axis=1)\n",
    "error_rate = np.sum(pred_label != y_test) / y_test.shape[0]\n",
    "print('Test error using softprob = {}'.format(error_rate))"
   ]
  },
  {
   "cell_type": "markdown",
   "metadata": {},
   "source": [
    "## is_share 预测"
   ]
  },
  {
   "cell_type": "code",
   "execution_count": null,
   "metadata": {},
   "outputs": [],
   "source": [
    "y_train = is_share.iloc[train_idx]\n",
    "y_test  = is_share.iloc[test_idx]"
   ]
  },
  {
   "cell_type": "code",
   "execution_count": null,
   "metadata": {},
   "outputs": [],
   "source": [
    "xg_train = xgb.DMatrix(X_train.values, label=y_train.values, enable_categorical=True)\n",
    "xg_test = xgb.DMatrix(X_test.values, label=y_test.values, enable_categorical=True)\n",
    "# setup parameters for xgboost\n",
    "param = {}\n",
    "# use softmax multi-class classification\n",
    "param['objective'] = 'multi:softmax'\n",
    "# scale weight of positive examples\n",
    "param['eta'] = 0.1\n",
    "param['max_depth'] = 6\n",
    "param['nthread'] = 4\n",
    "param['num_class'] = 10\n",
    "\n",
    "watchlist = [(xg_train, 'train'), (xg_test, 'test')]\n"
   ]
  },
  {
   "cell_type": "code",
   "execution_count": null,
   "metadata": {},
   "outputs": [],
   "source": [
    "num_round = 5\n",
    "sh_bst = xgb.train(param, xg_train, num_round, watchlist)"
   ]
  },
  {
   "cell_type": "markdown",
   "metadata": {},
   "source": [
    "# 服务器间同步文件"
   ]
  },
  {
   "cell_type": "markdown",
   "metadata": {},
   "source": [
    "## 推向Digix服务器"
   ]
  },
  {
   "cell_type": "code",
   "execution_count": 2,
   "metadata": {},
   "outputs": [
    {
     "name": "stdout",
     "output_type": "stream",
     "text": [
      "models.ipynb                                  100% 4972     2.9MB/s   00:00    \n"
     ]
    }
   ],
   "source": [
    "!scp ./models.ipynb digix@49.123.120.71:/home/digix/digix/Models/models.ipynb "
   ]
  },
  {
   "cell_type": "code",
   "execution_count": 16,
   "metadata": {},
   "outputs": [
    {
     "name": "stdout",
     "output_type": "stream",
     "text": [
      "explore-data.ipynb                            100%  280KB  10.6MB/s   00:00    \n"
     ]
    }
   ],
   "source": [
    "!scp ../explore-data.ipynb digix@49.123.120.71:/home/digix/digix/explore-data.ipynb "
   ]
  },
  {
   "cell_type": "markdown",
   "metadata": {},
   "source": [
    "## 从Digix服务器拉数据"
   ]
  },
  {
   "cell_type": "code",
   "execution_count": 43,
   "metadata": {},
   "outputs": [
    {
     "name": "stdout",
     "output_type": "stream",
     "text": [
      "LightGBM.ipynb                                100%   71KB   8.7MB/s   00:00    \n"
     ]
    }
   ],
   "source": [
    "!scp  digix@49.123.120.71:/home/digix/digix/Models/LightGBM.ipynb ./LightGBM.ipynb"
   ]
  },
  {
   "cell_type": "code",
   "execution_count": 44,
   "metadata": {},
   "outputs": [
    {
     "name": "stdout",
     "output_type": "stream",
     "text": [
      "feature_engineering.ipynb                     100%  274KB  10.5MB/s   00:00    \n"
     ]
    }
   ],
   "source": [
    "!scp  digix@49.123.120.71:/home/digix/digix/Models/feature_engineering.ipynb ./feature_engineering.ipynb"
   ]
  },
  {
   "cell_type": "code",
   "execution_count": null,
   "metadata": {},
   "outputs": [],
   "source": []
  }
 ],
 "metadata": {
  "kernelspec": {
   "display_name": "Python 3",
   "language": "python",
   "name": "python3"
  },
  "language_info": {
   "codemirror_mode": {
    "name": "ipython",
    "version": 3
   },
   "file_extension": ".py",
   "mimetype": "text/x-python",
   "name": "python",
   "nbconvert_exporter": "python",
   "pygments_lexer": "ipython3",
   "version": "3.8.5"
  }
 },
 "nbformat": 4,
 "nbformat_minor": 4
}
