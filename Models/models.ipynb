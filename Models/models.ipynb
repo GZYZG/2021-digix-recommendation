{
 "cells": [
  {
   "cell_type": "code",
   "execution_count": 5,
   "metadata": {},
   "outputs": [],
   "source": [
    "import numpy as np\n",
    "from sklearn import metrics\n",
    "import os\n",
    "from sklearn.model_selection import train_test_split\n",
    "from sklearn import metrics\n",
    "from time import time\n",
    "import pandas as pd\n",
    "import xgboost as xgb\n",
    "from collections import Counter\n",
    "from imblearn.over_sampling import SMOTE\n",
    "from imblearn.under_sampling import NearMiss\n",
    "import datatable as dt\n",
    "import warnings\n",
    "\n",
    "from tools import *"
   ]
  },
  {
   "cell_type": "markdown",
   "metadata": {},
   "source": [
    "# 给定预测标签，计算AUC\n",
    "使用OVR的策略计算每个类别的AUC\n",
    "过程：\n",
    "- 选择类别i作为正类，其他类别作为负类\n",
    "- 将真实标签中不等于i的标记为0，等于i的标记为1\n",
    "- 将预测标签中不等于i的标记为0，等于ide标记为1\n",
    "- 计算混淆矩阵\n",
    "- 计算(fpr, tpr)\n",
    "- 计算AUC"
   ]
  },
  {
   "cell_type": "markdown",
   "metadata": {},
   "source": [
    "# 加载数据\n",
    "训练数据加载过程：\n",
    "1. 分别加载处理好的用户特征和视频特征，以及整合的用户历史行为数据；\n",
    "2. 从用户历史行为数据中筛掉在视频特征中没出现过的video_id；\n",
    "3. 将行为数据中的user_id、video_id替换为对应用户/视频的特征\n",
    "4. 根据不同的任务划分为`watch_label`、`is_share`的数据集\n",
    "\n",
    "推断时，类似于上述过程拼接数据。"
   ]
  },
  {
   "cell_type": "markdown",
   "metadata": {},
   "source": [
    "## 读取数据"
   ]
  },
  {
   "cell_type": "code",
   "execution_count": 2,
   "metadata": {},
   "outputs": [],
   "source": [
    "base_dir = \"../2021_3_data\"\n",
    "test_data_dir  = os.path.join(base_dir, \"testdata\")\n",
    "train_data_dir = os.path.join(base_dir, \"traindata\")"
   ]
  },
  {
   "cell_type": "markdown",
   "metadata": {},
   "source": [
    "### 基础特征与附加特征合并"
   ]
  },
  {
   "cell_type": "code",
   "execution_count": 280,
   "metadata": {},
   "outputs": [],
   "source": [
    "video_status = dt.fread(os.path.join(train_data_dir, \"video_features_data/video_status.csv\"))\n",
    "user_status = dt.fread(os.path.join(train_data_dir, \"user_features_data/user_status.csv\"))"
   ]
  },
  {
   "cell_type": "code",
   "execution_count": 282,
   "metadata": {},
   "outputs": [],
   "source": [
    "tab_user = dt.fread(os.path.join(train_data_dir, \"user_features_data/user_features.jay\"))\n",
    "tab_video = dt.fread(os.path.join(train_data_dir, \"video_features_data/video_features.jay\"))"
   ]
  },
  {
   "cell_type": "code",
   "execution_count": 283,
   "metadata": {},
   "outputs": [],
   "source": [
    "video_status.key = 'video_id'\n",
    "video_ws = tab_video[:, :, join(video_status)]"
   ]
  },
  {
   "cell_type": "code",
   "execution_count": 286,
   "metadata": {},
   "outputs": [],
   "source": [
    "user_status.key = 'user_id'\n",
    "user_ws = tab_user[:, :, join(user_status)]"
   ]
  },
  {
   "cell_type": "code",
   "execution_count": 288,
   "metadata": {},
   "outputs": [],
   "source": [
    "video_ws.to_jay(os.path.join(train_data_dir, \"video_features_data/video_features_with_status.jay\"))"
   ]
  },
  {
   "cell_type": "code",
   "execution_count": 289,
   "metadata": {},
   "outputs": [],
   "source": [
    "user_ws.to_jay(os.path.join(train_data_dir, \"user_features_data/user_features_with_status.jay\"))"
   ]
  },
  {
   "cell_type": "code",
   "execution_count": 287,
   "metadata": {
    "collapsed": true,
    "jupyter": {
     "outputs_hidden": true
    },
    "tags": []
   },
   "outputs": [
    {
     "data": {
      "text/html": [
       "<div class='datatable'>\n",
       "  <table class='frame'>\n",
       "  <thead>\n",
       "    <tr class='colnames'><td class='row_index'></td><th>user_id</th><th>age_0</th><th>age_1</th><th>age_2</th><th>age_3</th><th>age_4</th><th>age_5</th><th>age_6</th><th>age_7</th><th>gender_0</th><th class='vellipsis'>&hellip;</th><th>average_watch_label</th><th>sum_watch_times</th><th>sum_comment_times</th><th>sum_collect_times</th><th>sum_share_times</th></tr>\n",
       "    <tr class='coltypes'><td class='row_index'></td><td class='float' title='float64'>&#x25AA;&#x25AA;&#x25AA;&#x25AA;&#x25AA;&#x25AA;&#x25AA;&#x25AA;</td><td class='float' title='float64'>&#x25AA;&#x25AA;&#x25AA;&#x25AA;&#x25AA;&#x25AA;&#x25AA;&#x25AA;</td><td class='float' title='float64'>&#x25AA;&#x25AA;&#x25AA;&#x25AA;&#x25AA;&#x25AA;&#x25AA;&#x25AA;</td><td class='float' title='float64'>&#x25AA;&#x25AA;&#x25AA;&#x25AA;&#x25AA;&#x25AA;&#x25AA;&#x25AA;</td><td class='float' title='float64'>&#x25AA;&#x25AA;&#x25AA;&#x25AA;&#x25AA;&#x25AA;&#x25AA;&#x25AA;</td><td class='float' title='float64'>&#x25AA;&#x25AA;&#x25AA;&#x25AA;&#x25AA;&#x25AA;&#x25AA;&#x25AA;</td><td class='float' title='float64'>&#x25AA;&#x25AA;&#x25AA;&#x25AA;&#x25AA;&#x25AA;&#x25AA;&#x25AA;</td><td class='float' title='float64'>&#x25AA;&#x25AA;&#x25AA;&#x25AA;&#x25AA;&#x25AA;&#x25AA;&#x25AA;</td><td class='float' title='float64'>&#x25AA;&#x25AA;&#x25AA;&#x25AA;&#x25AA;&#x25AA;&#x25AA;&#x25AA;</td><td class='float' title='float64'>&#x25AA;&#x25AA;&#x25AA;&#x25AA;&#x25AA;&#x25AA;&#x25AA;&#x25AA;</td><td></td><td class='float' title='float64'>&#x25AA;&#x25AA;&#x25AA;&#x25AA;&#x25AA;&#x25AA;&#x25AA;&#x25AA;</td><td class='float' title='float64'>&#x25AA;&#x25AA;&#x25AA;&#x25AA;&#x25AA;&#x25AA;&#x25AA;&#x25AA;</td><td class='float' title='float64'>&#x25AA;&#x25AA;&#x25AA;&#x25AA;&#x25AA;&#x25AA;&#x25AA;&#x25AA;</td><td class='float' title='float64'>&#x25AA;&#x25AA;&#x25AA;&#x25AA;&#x25AA;&#x25AA;&#x25AA;&#x25AA;</td><td class='float' title='float64'>&#x25AA;&#x25AA;&#x25AA;&#x25AA;&#x25AA;&#x25AA;&#x25AA;&#x25AA;</td></tr>\n",
       "  </thead>\n",
       "  <tbody>\n",
       "    <tr><td class='row_index'>0</td><td>1.757e+06</td><td>0</td><td>0</td><td>0</td><td>1</td><td>0</td><td>0</td><td>0</td><td>0</td><td>0</td><td class=vellipsis>&hellip;</td><td>0</td><td>0</td><td>0</td><td>0</td><td>0</td></tr>\n",
       "    <tr><td class='row_index'>1</td><td>17938</td><td>1</td><td>0</td><td>0</td><td>0</td><td>0</td><td>0</td><td>0</td><td>0</td><td>1</td><td class=vellipsis>&hellip;</td><td>0.0967742</td><td>3</td><td>0</td><td>0</td><td>0</td></tr>\n",
       "    <tr><td class='row_index'>2</td><td>4.26352e+06</td><td>0</td><td>1</td><td>0</td><td>0</td><td>0</td><td>0</td><td>0</td><td>0</td><td>1</td><td class=vellipsis>&hellip;</td><td>0.204545</td><td>2</td><td>0</td><td>0</td><td>0</td></tr>\n",
       "    <tr><td class='row_index'>3</td><td>1.4116e+06</td><td>0</td><td>0</td><td>0</td><td>1</td><td>0</td><td>0</td><td>0</td><td>0</td><td>1</td><td class=vellipsis>&hellip;</td><td>0</td><td>0</td><td>0</td><td>0</td><td>0</td></tr>\n",
       "    <tr><td class='row_index'>4</td><td>3.99224e+06</td><td>0</td><td>0</td><td>1</td><td>0</td><td>0</td><td>0</td><td>0</td><td>0</td><td>1</td><td class=vellipsis>&hellip;</td><td>0</td><td>0</td><td>0</td><td>0</td><td>0</td></tr>\n",
       "    <tr><td class='row_index'>5</td><td>4.0116e+06</td><td>0</td><td>0</td><td>1</td><td>0</td><td>0</td><td>0</td><td>0</td><td>0</td><td>1</td><td class=vellipsis>&hellip;</td><td>0</td><td>0</td><td>0</td><td>0</td><td>0</td></tr>\n",
       "    <tr><td class='row_index'>6</td><td>4.78556e+06</td><td>0</td><td>0</td><td>0</td><td>0</td><td>0</td><td>1</td><td>0</td><td>0</td><td>0</td><td class=vellipsis>&hellip;</td><td>0</td><td>0</td><td>0</td><td>0</td><td>0</td></tr>\n",
       "    <tr><td class='row_index'>7</td><td>5.11036e+06</td><td>1</td><td>0</td><td>0</td><td>0</td><td>0</td><td>0</td><td>0</td><td>0</td><td>1</td><td class=vellipsis>&hellip;</td><td>0</td><td>0</td><td>0</td><td>0</td><td>0</td></tr>\n",
       "    <tr><td class='row_index'>8</td><td>1.3212e+06</td><td>0</td><td>0</td><td>0</td><td>0</td><td>0</td><td>1</td><td>0</td><td>0</td><td>0</td><td class=vellipsis>&hellip;</td><td>0</td><td>0</td><td>0</td><td>0</td><td>0</td></tr>\n",
       "    <tr><td class='row_index'>9</td><td>3.20698e+06</td><td>1</td><td>0</td><td>0</td><td>0</td><td>0</td><td>0</td><td>0</td><td>0</td><td>0</td><td class=vellipsis>&hellip;</td><td>0</td><td>0</td><td>0</td><td>0</td><td>0</td></tr>\n",
       "    <tr><td class='row_index'>10</td><td>5.18172e+06</td><td>0</td><td>1</td><td>0</td><td>0</td><td>0</td><td>0</td><td>0</td><td>0</td><td>0</td><td class=vellipsis>&hellip;</td><td>0</td><td>1</td><td>0</td><td>0</td><td>0</td></tr>\n",
       "    <tr><td class='row_index'>11</td><td>1.878e+06</td><td>0</td><td>0</td><td>0</td><td>0</td><td>0</td><td>1</td><td>0</td><td>0</td><td>0</td><td class=vellipsis>&hellip;</td><td>0</td><td>1</td><td>0</td><td>0</td><td>0</td></tr>\n",
       "    <tr><td class='row_index'>12</td><td>3.04464e+06</td><td>0</td><td>1</td><td>0</td><td>0</td><td>0</td><td>0</td><td>0</td><td>0</td><td>0</td><td class=vellipsis>&hellip;</td><td>0</td><td>1</td><td>0</td><td>0</td><td>0</td></tr>\n",
       "    <tr><td class='row_index'>13</td><td>108273</td><td>0</td><td>1</td><td>0</td><td>0</td><td>0</td><td>0</td><td>0</td><td>0</td><td>0</td><td class=vellipsis>&hellip;</td><td>0</td><td>0</td><td>0</td><td>0</td><td>0</td></tr>\n",
       "    <tr><td class='row_index'>14</td><td>5.64838e+06</td><td>0</td><td>0</td><td>0</td><td>1</td><td>0</td><td>0</td><td>0</td><td>0</td><td>0</td><td class=vellipsis>&hellip;</td><td>0</td><td>0</td><td>0</td><td>0</td><td>0</td></tr>\n",
       "    <tr><td class='row_index'>&#x22EE;</td><td class='hellipsis'>&#x22EE;</td><td class='hellipsis'>&#x22EE;</td><td class='hellipsis'>&#x22EE;</td><td class='hellipsis'>&#x22EE;</td><td class='hellipsis'>&#x22EE;</td><td class='hellipsis'>&#x22EE;</td><td class='hellipsis'>&#x22EE;</td><td class='hellipsis'>&#x22EE;</td><td class='hellipsis'>&#x22EE;</td><td class='hellipsis'>&#x22EE;</td><td class='hellipsis'>&#x22F1;</td><td class='hellipsis'>&#x22EE;</td><td class='hellipsis'>&#x22EE;</td><td class='hellipsis'>&#x22EE;</td><td class='hellipsis'>&#x22EE;</td><td class='hellipsis'>&#x22EE;</td></tr>\n",
       "    <tr><td class='row_index'>5,910,795</td><td>3.22343e+06</td><td>0</td><td>0</td><td>0</td><td>0</td><td>1</td><td>0</td><td>0</td><td>0</td><td>1</td><td class=vellipsis>&hellip;</td><td>0</td><td>0</td><td>0</td><td>0</td><td>0</td></tr>\n",
       "    <tr><td class='row_index'>5,910,796</td><td>4.70783e+06</td><td>0</td><td>0</td><td>0</td><td>0</td><td>1</td><td>0</td><td>0</td><td>0</td><td>1</td><td class=vellipsis>&hellip;</td><td>0.142857</td><td>3</td><td>0</td><td>0</td><td>0</td></tr>\n",
       "    <tr><td class='row_index'>5,910,797</td><td>5.90765e+06</td><td>1</td><td>0</td><td>0</td><td>0</td><td>0</td><td>0</td><td>0</td><td>0</td><td>1</td><td class=vellipsis>&hellip;</td><td>0</td><td>2</td><td>0</td><td>0</td><td>0</td></tr>\n",
       "    <tr><td class='row_index'>5,910,798</td><td>3.63322e+06</td><td>0</td><td>0</td><td>0</td><td>1</td><td>0</td><td>0</td><td>0</td><td>0</td><td>1</td><td class=vellipsis>&hellip;</td><td>0</td><td>0</td><td>0</td><td>0</td><td>0</td></tr>\n",
       "    <tr><td class='row_index'>5,910,799</td><td>782537</td><td>0</td><td>0</td><td>0</td><td>1</td><td>0</td><td>0</td><td>0</td><td>0</td><td>1</td><td class=vellipsis>&hellip;</td><td>0</td><td>0</td><td>0</td><td>0</td><td>0</td></tr>\n",
       "  </tbody>\n",
       "  </table>\n",
       "  <div class='footer'>\n",
       "    <div class='frame_dimensions'>5,910,800 rows &times; 36 columns</div>\n",
       "  </div>\n",
       "</div>\n"
      ],
      "text/plain": [
       "<Frame#7f315506be10 5910800x36>"
      ]
     },
     "execution_count": 287,
     "metadata": {},
     "output_type": "execute_result"
    }
   ],
   "source": [
    "user_ws"
   ]
  },
  {
   "cell_type": "markdown",
   "metadata": {},
   "source": [
    "### 通过 .npz 读取数据"
   ]
  },
  {
   "cell_type": "markdown",
   "metadata": {},
   "source": [
    "#### 单表读取后合并"
   ]
  },
  {
   "cell_type": "code",
   "execution_count": 20,
   "metadata": {
    "tags": []
   },
   "outputs": [
    {
     "name": "stdout",
     "output_type": "stream",
     "text": [
      "CPU times: user 3.6 s, sys: 2.4 s, total: 6 s\n",
      "Wall time: 12.1 s\n"
     ]
    }
   ],
   "source": [
    "%%time\n",
    "# 单独读取每个文件再进行合并\n",
    "user_df = read_npz_to_df(os.path.join(train_data_dir, \"user_features_data/user_features.npz\"), data_name='features', column_name='columns')\n",
    "video_df = read_npz_to_df(os.path.join(train_data_dir, \"video_features_data/video_features.npz\"), data_name='features')\n",
    "action_df = read_npz_to_df(os.path.join(train_data_dir, \"all_actions.npz\"), data_name='data')"
   ]
  },
  {
   "cell_type": "code",
   "execution_count": 797,
   "metadata": {},
   "outputs": [],
   "source": [
    "# 因为将字符串保存到 .npz时会使dtype为object，重新读回DataFrame时各个列的数据类型均为 object，所以先转换类型\n",
    "dtypes = dict(zip(video_df.columns, [np.float32] * video_df.shape[1]))\n",
    "dtypes.update({'video_name': np.str})\n",
    "video_df = video_df.astype(dtypes)"
   ]
  },
  {
   "cell_type": "code",
   "execution_count": 802,
   "metadata": {},
   "outputs": [
    {
     "name": "stdout",
     "output_type": "stream",
     "text": [
      "CPU times: user 1min 29s, sys: 5.88 s, total: 1min 35s\n",
      "Wall time: 40.1 s\n"
     ]
    },
    {
     "data": {
      "text/plain": [
       "(7353024, 76)"
      ]
     },
     "execution_count": 802,
     "metadata": {},
     "output_type": "execute_result"
    }
   ],
   "source": [
    "%%time\n",
    "# 合并各个表\n",
    "df_train = merge_user_video_action(user_df, video_df, action_df)\n",
    "df_train.shape"
   ]
  },
  {
   "cell_type": "code",
   "execution_count": 805,
   "metadata": {},
   "outputs": [],
   "source": [
    "np.savez(os.path.join(train_data_dir, \"train.npz\"), data=df_train.to_pandas().values, columns=df_train.to_pandas().columns.tolist())"
   ]
  },
  {
   "cell_type": "code",
   "execution_count": 777,
   "metadata": {},
   "outputs": [
    {
     "name": "stdout",
     "output_type": "stream",
     "text": [
      "CPU times: user 626 ms, sys: 0 ns, total: 626 ms\n",
      "Wall time: 721 ms\n"
     ]
    }
   ],
   "source": [
    "%%time\n",
    "test_df = load_table(os.path.join(test_data_dir, \"test.csv\"), ftype=\"csv\")"
   ]
  },
  {
   "cell_type": "code",
   "execution_count": 779,
   "metadata": {},
   "outputs": [
    {
     "name": "stdout",
     "output_type": "stream",
     "text": [
      "CPU times: user 3min 8s, sys: 12.8 s, total: 3min 20s\n",
      "Wall time: 51.2 s\n"
     ]
    },
    {
     "data": {
      "text/plain": [
       "(2822180, 73)"
      ]
     },
     "execution_count": 779,
     "metadata": {},
     "output_type": "execute_result"
    }
   ],
   "source": [
    "%%time\n",
    "df_test = merge_user_video_action(user_df, video_df, test_df)\n",
    "df_test.shape"
   ]
  },
  {
   "cell_type": "markdown",
   "metadata": {},
   "source": [
    "#### 读取合并好的数据"
   ]
  },
  {
   "cell_type": "code",
   "execution_count": 806,
   "metadata": {},
   "outputs": [
    {
     "name": "stdout",
     "output_type": "stream",
     "text": [
      "CPU times: user 3min 2s, sys: 38.4 s, total: 3min 40s\n",
      "Wall time: 3min 41s\n"
     ]
    },
    {
     "data": {
      "text/plain": [
       "(7353024, 76)"
      ]
     },
     "execution_count": 806,
     "metadata": {},
     "output_type": "execute_result"
    }
   ],
   "source": [
    "%%time\n",
    "# 直接读取保存好的合并后的训练数据\n",
    "path = os.path.join(train_data_dir, \"train.npz\")\n",
    "df_train = read_npz_to_df(path, data_name='data')\n",
    "df_train.shape"
   ]
  },
  {
   "cell_type": "code",
   "execution_count": 810,
   "metadata": {},
   "outputs": [
    {
     "name": "stdout",
     "output_type": "stream",
     "text": [
      "CPU times: user 1min 37s, sys: 36.9 s, total: 2min 14s\n",
      "Wall time: 5min 49s\n"
     ]
    },
    {
     "data": {
      "text/plain": [
       "(2822180, 73)"
      ]
     },
     "execution_count": 810,
     "metadata": {},
     "output_type": "execute_result"
    }
   ],
   "source": [
    "%%time\n",
    "# 直接读取保存好的合并后的测试数据\n",
    "path = os.path.join(test_data_dir, \"test.npz\")\n",
    "df_test = read_npz_to_df(path, data_name='data')\n",
    "df_test.shape"
   ]
  },
  {
   "cell_type": "markdown",
   "metadata": {},
   "source": [
    "### 通过 .jay 文件读取"
   ]
  },
  {
   "cell_type": "markdown",
   "metadata": {},
   "source": [
    "#### 单表读取后合并"
   ]
  },
  {
   "cell_type": "code",
   "execution_count": 3,
   "metadata": {},
   "outputs": [],
   "source": [
    "with_status = False\n",
    "if with_status:\n",
    "    user_features_name = \"user_features_with_status\"\n",
    "    video_features_name = \"video_features_with_status\"\n",
    "else:\n",
    "    user_features_name = \"user_features\"\n",
    "    video_features_name = \"video_features\"\n",
    "    \n",
    "p_user = os.path.join(train_data_dir, f\"user_features_data/{user_features_name}.jay\")\n",
    "p_video = os.path.join(train_data_dir, f\"video_features_data/{video_features_name}.jay\")"
   ]
  },
  {
   "cell_type": "code",
   "execution_count": 4,
   "metadata": {},
   "outputs": [
    {
     "name": "stdout",
     "output_type": "stream",
     "text": [
      "CPU times: user 2min 49s, sys: 12.5 s, total: 3min 1s\n",
      "Wall time: 57.8 s\n"
     ]
    },
    {
     "data": {
      "text/plain": [
       "(7353024, 76)"
      ]
     },
     "execution_count": 4,
     "metadata": {},
     "output_type": "execute_result"
    }
   ],
   "source": [
    "%%time\n",
    "## 使用datatable 加载训练数据\n",
    "p_act = os.path.join(train_data_dir, \"all_actions.jay\")\n",
    "\n",
    "df_train, others = load_train_test_data(None, pre_merged=False, return_others=True,\n",
    "                           **{\"p_user\": p_user, \"p_video\": p_video, \"p_action\": p_act})\n",
    "user_df = others['user']\n",
    "video_df = others['video']\n",
    "action_df = others['action']\n",
    "df_train.shape"
   ]
  },
  {
   "cell_type": "code",
   "execution_count": 466,
   "metadata": {},
   "outputs": [],
   "source": [
    "tt = df_train.to_pandas()\n",
    "np.savez(os.path.join(train_data_dir, \"train\"), data=tt.values, columns=tt.columns.tolist())"
   ]
  },
  {
   "cell_type": "code",
   "execution_count": 371,
   "metadata": {},
   "outputs": [
    {
     "name": "stdout",
     "output_type": "stream",
     "text": [
      "CPU times: user 1min 9s, sys: 2.91 s, total: 1min 12s\n",
      "Wall time: 1.84 s\n"
     ]
    },
    {
     "data": {
      "text/plain": [
       "(2822180, 73)"
      ]
     },
     "execution_count": 371,
     "metadata": {},
     "output_type": "execute_result"
    }
   ],
   "source": [
    "%%time\n",
    "# p_user = os.path.join(train_data_dir, \"user_features_data/user_features.jay\")\n",
    "# p_video = os.path.join(train_data_dir, \"video_features_data/video_features.jay\")\n",
    "p_act = os.path.join(test_data_dir, \"test.csv\")\n",
    "\n",
    "path = os.path.join(test_data_dir, \"test.jay\")\n",
    "kwargs = {\"p_user\": p_user, \"p_video\": p_video, \"p_action\": p_act}\n",
    "\n",
    "df_test, others = load_train_test_data(None, pre_merged=False, return_others=True, **kwargs)\n",
    "test_df = others['action']\n",
    "df_test.shape"
   ]
  },
  {
   "cell_type": "code",
   "execution_count": 474,
   "metadata": {},
   "outputs": [],
   "source": [
    "action_df = action_df.to_pandas()\n",
    "user_df = user_df.to_pandas()\n",
    "video_df = video_df.to_pandas()"
   ]
  },
  {
   "cell_type": "code",
   "execution_count": null,
   "metadata": {},
   "outputs": [],
   "source": [
    "test_df = test_df.to_pandas()"
   ]
  },
  {
   "cell_type": "markdown",
   "metadata": {},
   "source": [
    "#### 读取合并好后的数据"
   ]
  },
  {
   "cell_type": "code",
   "execution_count": 468,
   "metadata": {},
   "outputs": [
    {
     "name": "stdout",
     "output_type": "stream",
     "text": [
      "CPU times: user 0 ns, sys: 177 ms, total: 177 ms\n",
      "Wall time: 184 ms\n"
     ]
    },
    {
     "data": {
      "text/plain": [
       "(7353024, 76)"
      ]
     },
     "execution_count": 468,
     "metadata": {},
     "output_type": "execute_result"
    }
   ],
   "source": [
    "%%time\n",
    "# 直接读取保存好的合并后的训练数据\n",
    "path = os.path.join(train_data_dir, \"train.jay\")\n",
    "df_train = load_train_test_data(path, pre_merged=True)\n",
    "df_train.shape"
   ]
  },
  {
   "cell_type": "code",
   "execution_count": 454,
   "metadata": {},
   "outputs": [
    {
     "name": "stdout",
     "output_type": "stream",
     "text": [
      "CPU times: user 649 µs, sys: 46 µs, total: 695 µs\n",
      "Wall time: 684 µs\n"
     ]
    },
    {
     "data": {
      "text/plain": [
       "(2822180, 72)"
      ]
     },
     "execution_count": 454,
     "metadata": {},
     "output_type": "execute_result"
    }
   ],
   "source": [
    "%%time\n",
    "# 直接读取保存好的合并后的测试数据\n",
    "path = os.path.join(test_data_dir, \"test.jay\")\n",
    "df_test = load_train_test_data(path, pre_merged=True)\n",
    "df_test.shape"
   ]
  },
  {
   "cell_type": "markdown",
   "metadata": {},
   "source": [
    "## 处理训练数据\n",
    "可在此做一些预处理：\n",
    "- 从用户历史行为数据中筛掉在视频特征中没出现过的video_id\n",
    "- 删除多余的列\n",
    "- 调整列的顺序\n",
    "- 改变列的数据类型\n"
   ]
  },
  {
   "cell_type": "code",
   "execution_count": 469,
   "metadata": {},
   "outputs": [
    {
     "name": "stdout",
     "output_type": "stream",
     "text": [
      "CPU times: user 29.8 s, sys: 9.82 s, total: 39.6 s\n",
      "Wall time: 16.2 s\n"
     ]
    }
   ],
   "source": [
    "%%time\n",
    "if isinstance(df_train, dt.Frame):\n",
    "    df_train = df_train.to_pandas()\n",
    "if isinstance(df_test, dt.Frame):\n",
    "    df_test = df_test.to_pandas()"
   ]
  },
  {
   "cell_type": "code",
   "execution_count": 375,
   "metadata": {
    "collapsed": true,
    "jupyter": {
     "outputs_hidden": true
    },
    "tags": []
   },
   "outputs": [
    {
     "name": "stdout",
     "output_type": "stream",
     "text": [
      "<class 'pandas.core.frame.DataFrame'>\n",
      "RangeIndex: 7353024 entries, 0 to 7353023\n",
      "Data columns (total 76 columns):\n",
      " #   Column               Dtype  \n",
      "---  ------               -----  \n",
      " 0   user_id              int64  \n",
      " 1   video_id             int64  \n",
      " 2   is_watch             int64  \n",
      " 3   is_share             int64  \n",
      " 4   watch_label          int64  \n",
      " 5   age_0                float64\n",
      " 6   age_1                float64\n",
      " 7   age_2                float64\n",
      " 8   age_3                float64\n",
      " 9   age_4                float64\n",
      " 10  age_5                float64\n",
      " 11  age_6                float64\n",
      " 12  age_7                float64\n",
      " 13  gender_0             float64\n",
      " 14  gender_1             float64\n",
      " 15  gender_2             float64\n",
      " 16  gender_3             float64\n",
      " 17  city_level_0         float64\n",
      " 18  city_level_1         float64\n",
      " 19  city_level_2         float64\n",
      " 20  city_level_3         float64\n",
      " 21  city_level_4         float64\n",
      " 22  city_level_5         float64\n",
      " 23  city_level_6         float64\n",
      " 24  city_level_7         float64\n",
      " 25  device_name_0        float64\n",
      " 26  device_name_1        float64\n",
      " 27  device_name_2        float64\n",
      " 28  device_name_3        float64\n",
      " 29  device_name_4        float64\n",
      " 30  device_name_5        float64\n",
      " 31  device_name_6        float64\n",
      " 32  device_name_7        float64\n",
      " 33  device_name_8        float64\n",
      " 34  device_name_9        float64\n",
      " 35  video_name           object \n",
      " 36  video_score          float32\n",
      " 37  video_duration       float32\n",
      " 38  video_release_year   float32\n",
      " 39  video_release_month  float32\n",
      " 40  video_release_day    float32\n",
      " 41  desc_0               float32\n",
      " 42  desc_1               float32\n",
      " 43  desc_2               float32\n",
      " 44  desc_3               float32\n",
      " 45  desc_4               float32\n",
      " 46  desc_5               float32\n",
      " 47  desc_6               float32\n",
      " 48  desc_7               float32\n",
      " 49  desc_8               float32\n",
      " 50  desc_9               float32\n",
      " 51  tags_0               float32\n",
      " 52  tags_1               float32\n",
      " 53  tags_2               float32\n",
      " 54  tags_3               float32\n",
      " 55  tags_4               float32\n",
      " 56  tags_5               float32\n",
      " 57  tags_6               float32\n",
      " 58  tags_7               float32\n",
      " 59  tags_8               float32\n",
      " 60  tags_9               float32\n",
      " 61  class_0              float32\n",
      " 62  class_1              float32\n",
      " 63  class_2              float32\n",
      " 64  class_3              float32\n",
      " 65  class_4              float32\n",
      " 66  class_5              float32\n",
      " 67  class_6              float32\n",
      " 68  class_7              float32\n",
      " 69  class_8              float32\n",
      " 70  class_9              float32\n",
      " 71  da_0                 float32\n",
      " 72  da_1                 float32\n",
      " 73  da_2                 float32\n",
      " 74  da_3                 float32\n",
      " 75  da_4                 float32\n",
      "dtypes: float32(40), float64(30), int64(5), object(1)\n",
      "memory usage: 3.1+ GB\n"
     ]
    }
   ],
   "source": [
    "df_train.info()"
   ]
  },
  {
   "cell_type": "code",
   "execution_count": 471,
   "metadata": {},
   "outputs": [],
   "source": [
    "# 删除 video_name、is_watch 列\n",
    "df_train.drop(['video_name', 'is_watch'], axis=1, inplace=True)"
   ]
  },
  {
   "cell_type": "code",
   "execution_count": 472,
   "metadata": {},
   "outputs": [],
   "source": [
    "if 'action_df' not in dir():\n",
    "    action_df = load_table(os.path.join(train_data_dir, \"all_actions.jay\")).to_pandas()\n",
    "if 'video_df' not in dir():\n",
    "    video_df = load_table(os.path.join(train_data_dir, \"video_features_data/video_features.jay\")).to_pandas()"
   ]
  },
  {
   "cell_type": "code",
   "execution_count": 476,
   "metadata": {},
   "outputs": [
    {
     "name": "stdout",
     "output_type": "stream",
     "text": [
      "<class 'pandas.core.frame.DataFrame'>\n",
      "RangeIndex: 7353024 entries, 0 to 7353023\n",
      "Data columns (total 5 columns):\n",
      " #   Column       Dtype\n",
      "---  ------       -----\n",
      " 0   user_id      int64\n",
      " 1   video_id     int64\n",
      " 2   is_watch     int64\n",
      " 3   is_share     int64\n",
      " 4   watch_label  int64\n",
      "dtypes: int64(5)\n",
      "memory usage: 280.5 MB\n"
     ]
    }
   ],
   "source": [
    "action_df.info()"
   ]
  },
  {
   "cell_type": "code",
   "execution_count": 477,
   "metadata": {},
   "outputs": [
    {
     "data": {
      "text/plain": [
       "Int64Index([], dtype='int64')"
      ]
     },
     "execution_count": 477,
     "metadata": {},
     "output_type": "execute_result"
    }
   ],
   "source": [
    "# 从用户历史行为数据中筛掉在视频特征中没出现过的video_id\n",
    "idx1 = pd.Index(action_df['video_id'].unique())\n",
    "idx2 = pd.Index(video_df['video_id'])\n",
    "not_exists = idx1.difference(idx2)\n",
    "not_exists"
   ]
  },
  {
   "cell_type": "code",
   "execution_count": 478,
   "metadata": {},
   "outputs": [
    {
     "name": "stdout",
     "output_type": "stream",
     "text": [
      "0\n",
      "CPU times: user 1.25 ms, sys: 0 ns, total: 1.25 ms\n",
      "Wall time: 1.07 ms\n"
     ]
    }
   ],
   "source": [
    "%%time\n",
    "# 将训练数据中未出现的视频剔除\n",
    "n = 0\n",
    "for vid in not_exists:\n",
    "    tn = (df_train['video_id'] == vid).sum()\n",
    "    df_train['video_id'].replace(vid, np.nan, inplace=True)\n",
    "    n += tn\n",
    "\n",
    "if n > 0:\n",
    "    df_train.dropna(axis=0, inplace=True)\n",
    "    df_train.reset_index(drop=True, inplace=True)\n",
    "print(n)"
   ]
  },
  {
   "cell_type": "code",
   "execution_count": 479,
   "metadata": {},
   "outputs": [],
   "source": [
    "# 删除 video_id、user_id列\n",
    "df_train.drop(['user_id', 'video_id'], axis=1, inplace=True)"
   ]
  },
  {
   "cell_type": "code",
   "execution_count": 480,
   "metadata": {},
   "outputs": [
    {
     "data": {
      "text/plain": [
       "(7353024, 72)"
      ]
     },
     "execution_count": 480,
     "metadata": {},
     "output_type": "execute_result"
    }
   ],
   "source": [
    "dataset = df_train\n",
    "dataset.shape"
   ]
  },
  {
   "cell_type": "code",
   "execution_count": 481,
   "metadata": {},
   "outputs": [
    {
     "data": {
      "text/plain": [
       "((7353024,), (7353024,), (7353024, 70))"
      ]
     },
     "execution_count": 481,
     "metadata": {},
     "output_type": "execute_result"
    }
   ],
   "source": [
    "# 准备数据\n",
    "watch_label = dataset.pop('watch_label').astype(np.uint8)\n",
    "is_share = dataset.pop('is_share').astype(np.uint8)\n",
    "watch_label.shape, is_share.shape, dataset.shape"
   ]
  },
  {
   "cell_type": "markdown",
   "metadata": {},
   "source": [
    "## 处理测试数据"
   ]
  },
  {
   "cell_type": "code",
   "execution_count": 482,
   "metadata": {},
   "outputs": [],
   "source": [
    "if 'test_df' not in dir():\n",
    "    test_df = pd.read_csv(os.path.join(test_data_dir, \"test.csv\"))"
   ]
  },
  {
   "cell_type": "code",
   "execution_count": 483,
   "metadata": {},
   "outputs": [
    {
     "name": "stdout",
     "output_type": "stream",
     "text": [
      "<class 'pandas.core.frame.DataFrame'>\n",
      "RangeIndex: 2822180 entries, 0 to 2822179\n",
      "Data columns (total 4 columns):\n",
      " #   Column       Dtype\n",
      "---  ------       -----\n",
      " 0   user_id      int32\n",
      " 1   video_id     int32\n",
      " 2   watch_label  uint8\n",
      " 3   is_share     uint8\n",
      "dtypes: int32(2), uint8(2)\n",
      "memory usage: 26.9 MB\n"
     ]
    }
   ],
   "source": [
    "test_df.info()"
   ]
  },
  {
   "cell_type": "code",
   "execution_count": 484,
   "metadata": {
    "collapsed": true,
    "jupyter": {
     "outputs_hidden": true
    },
    "tags": []
   },
   "outputs": [
    {
     "name": "stdout",
     "output_type": "stream",
     "text": [
      "<class 'pandas.core.frame.DataFrame'>\n",
      "RangeIndex: 2822180 entries, 0 to 2822179\n",
      "Data columns (total 72 columns):\n",
      " #   Column               Dtype  \n",
      "---  ------               -----  \n",
      " 0   user_id              float32\n",
      " 1   video_id             float32\n",
      " 2   age_0                float32\n",
      " 3   age_1                float32\n",
      " 4   age_2                float32\n",
      " 5   age_3                float32\n",
      " 6   age_4                float32\n",
      " 7   age_5                float32\n",
      " 8   age_6                float32\n",
      " 9   age_7                float32\n",
      " 10  gender_0             float32\n",
      " 11  gender_1             float32\n",
      " 12  gender_2             float32\n",
      " 13  gender_3             float32\n",
      " 14  city_level_0         float32\n",
      " 15  city_level_1         float32\n",
      " 16  city_level_2         float32\n",
      " 17  city_level_3         float32\n",
      " 18  city_level_4         float32\n",
      " 19  city_level_5         float32\n",
      " 20  city_level_6         float32\n",
      " 21  city_level_7         float32\n",
      " 22  device_name_0        float32\n",
      " 23  device_name_1        float32\n",
      " 24  device_name_2        float32\n",
      " 25  device_name_3        float32\n",
      " 26  device_name_4        float32\n",
      " 27  device_name_5        float32\n",
      " 28  device_name_6        float32\n",
      " 29  device_name_7        float32\n",
      " 30  device_name_8        float32\n",
      " 31  device_name_9        float32\n",
      " 32  video_score          float32\n",
      " 33  video_duration       float32\n",
      " 34  video_release_year   float32\n",
      " 35  video_release_month  float32\n",
      " 36  video_release_day    float32\n",
      " 37  desc_0               float32\n",
      " 38  desc_1               float32\n",
      " 39  desc_2               float32\n",
      " 40  desc_3               float32\n",
      " 41  desc_4               float32\n",
      " 42  desc_5               float32\n",
      " 43  desc_6               float32\n",
      " 44  desc_7               float32\n",
      " 45  desc_8               float32\n",
      " 46  desc_9               float32\n",
      " 47  tags_0               float32\n",
      " 48  tags_1               float32\n",
      " 49  tags_2               float32\n",
      " 50  tags_3               float32\n",
      " 51  tags_4               float32\n",
      " 52  tags_5               float32\n",
      " 53  tags_6               float32\n",
      " 54  tags_7               float32\n",
      " 55  tags_8               float32\n",
      " 56  tags_9               float32\n",
      " 57  class_0              float32\n",
      " 58  class_1              float32\n",
      " 59  class_2              float32\n",
      " 60  class_3              float32\n",
      " 61  class_4              float32\n",
      " 62  class_5              float32\n",
      " 63  class_6              float32\n",
      " 64  class_7              float32\n",
      " 65  class_8              float32\n",
      " 66  class_9              float32\n",
      " 67  da_0                 float32\n",
      " 68  da_1                 float32\n",
      " 69  da_2                 float32\n",
      " 70  da_3                 float32\n",
      " 71  da_4                 float32\n",
      "dtypes: float32(72)\n",
      "memory usage: 775.1 MB\n"
     ]
    }
   ],
   "source": [
    "df_test.info()"
   ]
  },
  {
   "cell_type": "code",
   "execution_count": 485,
   "metadata": {},
   "outputs": [],
   "source": [
    "# 删除 video_name 列\n",
    "if 'video_name' in df_test.columns:\n",
    "    df_test.drop('video_name', axis=1, inplace=True)"
   ]
  },
  {
   "cell_type": "code",
   "execution_count": 486,
   "metadata": {},
   "outputs": [
    {
     "data": {
      "text/plain": [
       "Int64Index([], dtype='int64')"
      ]
     },
     "execution_count": 486,
     "metadata": {},
     "output_type": "execute_result"
    }
   ],
   "source": [
    "# 测试数据集中存在video_id没有在视频特征中出现\n",
    "idx1 = pd.Index(test_df['video_id'].unique())\n",
    "idx2 = pd.Index(video_df['video_id'].unique())\n",
    "non_exists = idx1.difference(idx2)\n",
    "non_exists"
   ]
  },
  {
   "cell_type": "code",
   "execution_count": 487,
   "metadata": {},
   "outputs": [
    {
     "name": "stdout",
     "output_type": "stream",
     "text": [
      "在视频特征中不存在的video_id在测试数据集中出现的次数 = 0\t\t(cost 0.000s)\n",
      "CPU times: user 0 ns, sys: 430 µs, total: 430 µs\n",
      "Wall time: 390 µs\n"
     ]
    }
   ],
   "source": [
    "%%time\n",
    "t0 = time()\n",
    "n = 0\n",
    "for vid in not_exists:\n",
    "    tn = (test_df['video_id'] == vid).sum()\n",
    "#     df_test = action_df[action_df['video_id'] != vid]\n",
    "    n += tn\n",
    "\n",
    "print(f\"在视频特征中不存在的video_id在测试数据集中出现的次数 = {n}\\t\\t(cost {time() - t0:.3f}s)\")"
   ]
  },
  {
   "cell_type": "code",
   "execution_count": 488,
   "metadata": {},
   "outputs": [],
   "source": [
    "# 删除 video_id、user_id 列\n",
    "df_test.drop(['user_id', 'video_id'], axis=1, inplace=True)"
   ]
  },
  {
   "cell_type": "code",
   "execution_count": 489,
   "metadata": {},
   "outputs": [
    {
     "data": {
      "text/plain": [
       "(2822180, 70)"
      ]
     },
     "execution_count": 489,
     "metadata": {},
     "output_type": "execute_result"
    }
   ],
   "source": [
    "inference_dataset = df_test\n",
    "inference_dataset.shape"
   ]
  },
  {
   "cell_type": "markdown",
   "metadata": {},
   "source": [
    "# watch_label 预测"
   ]
  },
  {
   "cell_type": "markdown",
   "metadata": {},
   "source": [
    "## XGBoost"
   ]
  },
  {
   "cell_type": "markdown",
   "metadata": {},
   "source": [
    "### 处理数据不均衡问题"
   ]
  },
  {
   "cell_type": "code",
   "execution_count": 490,
   "metadata": {},
   "outputs": [
    {
     "name": "stdout",
     "output_type": "stream",
     "text": [
      "[(0, 5176743), (1, 557421), (2, 314107), (3, 219188), (4, 172404), (5, 143001), (6, 125092), (7, 117749), (8, 138798), (9, 388521)]\n",
      "[[0.         0.70402912]\n",
      " [1.         0.0758084 ]\n",
      " [2.         0.04271807]\n",
      " [3.         0.02980923]\n",
      " [4.         0.02344668]\n",
      " [5.         0.01944792]\n",
      " [6.         0.01701232]\n",
      " [7.         0.01601368]\n",
      " [8.         0.01887632]\n",
      " [9.         0.05283826]]\n"
     ]
    }
   ],
   "source": [
    "items = list(Counter(watch_label).items())\n",
    "items.sort(key=lambda x: x[0])\n",
    "print(items)\n",
    "\n",
    "dist = np.array(items, dtype=np.float)\n",
    "dist[:, 1] = dist[:, 1] / watch_label.shape[0]\n",
    "print(dist)"
   ]
  },
  {
   "cell_type": "code",
   "execution_count": 491,
   "metadata": {},
   "outputs": [],
   "source": [
    "under_ss = np.array(items)\n",
    "under_ss_thresh = under_ss[3, 1]  # 设置每个类别样本数目的上限\n",
    "under_ss[:, 1] = np.clip(under_ss[:, 1], a_min=None, a_max=under_ss_thresh)\n",
    "\n",
    "over_ss = under_ss.copy()\n",
    "over_ss_thresh = under_ss[2, 1]  # 设置每个类别样本数据的下限\n",
    "over_ss[:, 1] = np.clip(over_ss[:, 1], a_min=over_ss_thresh, a_max=None)\n",
    "\n",
    "under_ss = dict(under_ss)\n",
    "over_ss = dict(over_ss)"
   ]
  },
  {
   "cell_type": "code",
   "execution_count": 492,
   "metadata": {
    "tags": []
   },
   "outputs": [
    {
     "data": {
      "text/plain": [
       "({0: 219188,\n",
       "  1: 219188,\n",
       "  2: 219188,\n",
       "  3: 219188,\n",
       "  4: 172404,\n",
       "  5: 143001,\n",
       "  6: 125092,\n",
       "  7: 117749,\n",
       "  8: 138798,\n",
       "  9: 219188},\n",
       " {0: 219188,\n",
       "  1: 219188,\n",
       "  2: 219188,\n",
       "  3: 219188,\n",
       "  4: 219188,\n",
       "  5: 219188,\n",
       "  6: 219188,\n",
       "  7: 219188,\n",
       "  8: 219188,\n",
       "  9: 219188})"
      ]
     },
     "execution_count": 492,
     "metadata": {},
     "output_type": "execute_result"
    }
   ],
   "source": [
    "under_ss, over_ss"
   ]
  },
  {
   "cell_type": "code",
   "execution_count": 493,
   "metadata": {},
   "outputs": [
    {
     "data": {
      "text/plain": [
       "(5176743,)"
      ]
     },
     "execution_count": 493,
     "metadata": {},
     "output_type": "execute_result"
    }
   ],
   "source": [
    "idxs = watch_label == 0\n",
    "idxs = idxs.replace(False, np.nan).dropna().index  # 保留watch_label=0的行索引\n",
    "idxs.shape"
   ]
  },
  {
   "cell_type": "code",
   "execution_count": 494,
   "metadata": {},
   "outputs": [
    {
     "data": {
      "text/plain": [
       "((4957555,), (219188,))"
      ]
     },
     "execution_count": 494,
     "metadata": {},
     "output_type": "execute_result"
    }
   ],
   "source": [
    "left_idxs = np.random.choice(idxs, under_ss_thresh, replace=False)  # 选择一部分保留，注意replace参数，为True时会重复采样\n",
    "del_idxs = idxs.difference(left_idxs)\n",
    "del_idxs.shape, left_idxs.shape"
   ]
  },
  {
   "cell_type": "code",
   "execution_count": 495,
   "metadata": {},
   "outputs": [
    {
     "data": {
      "text/plain": [
       "Counter({2: 314107,\n",
       "         0: 5176743,\n",
       "         5: 143001,\n",
       "         4: 172404,\n",
       "         1: 557421,\n",
       "         9: 388521,\n",
       "         3: 219188,\n",
       "         8: 138798,\n",
       "         7: 117749,\n",
       "         6: 125092})"
      ]
     },
     "execution_count": 495,
     "metadata": {},
     "output_type": "execute_result"
    }
   ],
   "source": [
    "Counter(watch_label)"
   ]
  },
  {
   "cell_type": "code",
   "execution_count": 496,
   "metadata": {},
   "outputs": [
    {
     "data": {
      "text/plain": [
       "((2395469, 70), (2395469,))"
      ]
     },
     "execution_count": 496,
     "metadata": {},
     "output_type": "execute_result"
    }
   ],
   "source": [
    "resampled_data = np.delete(dataset.values, del_idxs, axis=0)\n",
    "resampled_wl = np.delete(watch_label.values, del_idxs, axis=0)\n",
    "resampled_data.shape, resampled_wl.shape"
   ]
  },
  {
   "cell_type": "code",
   "execution_count": 497,
   "metadata": {},
   "outputs": [
    {
     "data": {
      "text/plain": [
       "Counter({2: 314107,\n",
       "         5: 143001,\n",
       "         4: 172404,\n",
       "         1: 557421,\n",
       "         0: 219188,\n",
       "         9: 388521,\n",
       "         3: 219188,\n",
       "         8: 138798,\n",
       "         7: 117749,\n",
       "         6: 125092})"
      ]
     },
     "execution_count": 497,
     "metadata": {},
     "output_type": "execute_result"
    }
   ],
   "source": [
    "Counter(resampled_wl)"
   ]
  },
  {
   "cell_type": "code",
   "execution_count": 273,
   "metadata": {},
   "outputs": [],
   "source": [
    "# 速度太慢，难以忍受！\n",
    "nm  = TomekLinks(sampling_strategy=under_ss)\n",
    "smt = SMOTE(sampling_strategy=over_ss)"
   ]
  },
  {
   "cell_type": "code",
   "execution_count": null,
   "metadata": {},
   "outputs": [],
   "source": [
    "t0 = time()\n",
    "X_r, y_r = nm.fit_resample(resampled_data, pd.Series(resampled_wl))\n",
    "print(f\"Under Sampling finished ...\\t\\t({time()-t0:.3f}s)\")"
   ]
  },
  {
   "cell_type": "code",
   "execution_count": null,
   "metadata": {},
   "outputs": [],
   "source": [
    "X_r, y_r = smt.fit_resample(X_r, y_r)"
   ]
  },
  {
   "cell_type": "code",
   "execution_count": 498,
   "metadata": {},
   "outputs": [
    {
     "data": {
      "text/plain": [
       "((2395469, 70), (7353024,))"
      ]
     },
     "execution_count": 498,
     "metadata": {},
     "output_type": "execute_result"
    }
   ],
   "source": [
    "# 将采样后的数据重装回 DataFrame\n",
    "data = pd.DataFrame(resampled_data, columns=dataset.columns)\n",
    "watch_label_res = pd.Series(resampled_wl)\n",
    "data.shape, watch_label.shape"
   ]
  },
  {
   "cell_type": "code",
   "execution_count": 524,
   "metadata": {},
   "outputs": [
    {
     "data": {
      "text/plain": [
       "((1916375,), (479094,))"
      ]
     },
     "execution_count": 524,
     "metadata": {},
     "output_type": "execute_result"
    }
   ],
   "source": [
    "train_idx, test_idx = train_test_split(data.index, test_size=0.2, random_state=0)\n",
    "train_idx.shape, test_idx.shape"
   ]
  },
  {
   "cell_type": "markdown",
   "metadata": {},
   "source": [
    "### 训练模型"
   ]
  },
  {
   "cell_type": "code",
   "execution_count": 525,
   "metadata": {},
   "outputs": [],
   "source": [
    "X_train = data.iloc[train_idx]\n",
    "X_test  = data.iloc[test_idx]"
   ]
  },
  {
   "cell_type": "code",
   "execution_count": 526,
   "metadata": {},
   "outputs": [],
   "source": [
    "y_train = watch_label_res.iloc[train_idx]\n",
    "y_test  = watch_label_res.iloc[test_idx]"
   ]
  },
  {
   "cell_type": "code",
   "execution_count": 527,
   "metadata": {},
   "outputs": [
    {
     "data": {
      "text/plain": [
       "((1916375, 70), (1916375,), (479094, 70), (479094,))"
      ]
     },
     "execution_count": 527,
     "metadata": {},
     "output_type": "execute_result"
    }
   ],
   "source": [
    "X_train.shape, y_train.shape, X_test.shape, y_test.shape"
   ]
  },
  {
   "cell_type": "code",
   "execution_count": 405,
   "metadata": {},
   "outputs": [
    {
     "name": "stdout",
     "output_type": "stream",
     "text": [
      "Data preparing finished ...\t\t(1.521s)\n"
     ]
    }
   ],
   "source": [
    "t0 = time()\n",
    "xg_train = xgb.DMatrix(X_train.values, label=y_train.values, enable_categorical=True)\n",
    "xg_test = xgb.DMatrix(X_test.values, label=y_test.values, enable_categorical=True)\n",
    "print(f\"Data preparing finished ...\\t\\t({time()-t0:.3f}s)\")"
   ]
  },
  {
   "cell_type": "code",
   "execution_count": 406,
   "metadata": {},
   "outputs": [],
   "source": [
    "# setup parameters for xgboost\n",
    "param = {}\n",
    "# use softmax multi-class classification\n",
    "param['objective'] = 'multi:softmax'\n",
    "# scale weight of positive examples\n",
    "param['eta'] = 0.1\n",
    "param['max_depth'] = 11\n",
    "param['min_child_weight'] = 7\n",
    "param['nthread'] = 8\n",
    "param['num_class'] = 10\n",
    "param['gamma'] = .4\n",
    "param['gpu_id'] = 0\n",
    "param['tree_method'] = 'gpu_hist'\n",
    "# param['scale_pos_weight'] = 2\n",
    "watchlist = [(xg_train, 'train'), (xg_test, 'test')]"
   ]
  },
  {
   "cell_type": "code",
   "execution_count": 407,
   "metadata": {
    "collapsed": true,
    "jupyter": {
     "outputs_hidden": true
    },
    "tags": []
   },
   "outputs": [
    {
     "name": "stdout",
     "output_type": "stream",
     "text": [
      "[21:06:12] WARNING: ../src/learner.cc:1095: Starting in XGBoost 1.3.0, the default evaluation metric used with the objective 'multi:softmax' was changed from 'merror' to 'mlogloss'. Explicitly set eval_metric if you'd like to restore the old behavior.\n",
      "[0]\ttrain-mlogloss:2.27322\ttest-mlogloss:2.27402\n",
      "[1]\ttrain-mlogloss:2.24908\ttest-mlogloss:2.25062\n",
      "[2]\ttrain-mlogloss:2.22869\ttest-mlogloss:2.23093\n",
      "[3]\ttrain-mlogloss:2.21114\ttest-mlogloss:2.21408\n",
      "[4]\ttrain-mlogloss:2.19593\ttest-mlogloss:2.19955\n",
      "[5]\ttrain-mlogloss:2.18259\ttest-mlogloss:2.18689\n",
      "[6]\ttrain-mlogloss:2.17102\ttest-mlogloss:2.17597\n",
      "[7]\ttrain-mlogloss:2.16074\ttest-mlogloss:2.16635\n",
      "[8]\ttrain-mlogloss:2.15146\ttest-mlogloss:2.15772\n",
      "[9]\ttrain-mlogloss:2.14330\ttest-mlogloss:2.15018\n",
      "[10]\ttrain-mlogloss:2.13587\ttest-mlogloss:2.14341\n",
      "[11]\ttrain-mlogloss:2.12925\ttest-mlogloss:2.13743\n",
      "[12]\ttrain-mlogloss:2.12326\ttest-mlogloss:2.13210\n",
      "[13]\ttrain-mlogloss:2.11784\ttest-mlogloss:2.12727\n",
      "[14]\ttrain-mlogloss:2.11293\ttest-mlogloss:2.12299\n",
      "[15]\ttrain-mlogloss:2.10846\ttest-mlogloss:2.11918\n",
      "[16]\ttrain-mlogloss:2.10435\ttest-mlogloss:2.11573\n",
      "[17]\ttrain-mlogloss:2.10067\ttest-mlogloss:2.11267\n",
      "[18]\ttrain-mlogloss:2.09729\ttest-mlogloss:2.10991\n",
      "[19]\ttrain-mlogloss:2.09423\ttest-mlogloss:2.10746\n",
      "[20]\ttrain-mlogloss:2.09131\ttest-mlogloss:2.10518\n",
      "[21]\ttrain-mlogloss:2.08866\ttest-mlogloss:2.10316\n",
      "[22]\ttrain-mlogloss:2.08621\ttest-mlogloss:2.10136\n",
      "[23]\ttrain-mlogloss:2.08395\ttest-mlogloss:2.09975\n",
      "[24]\ttrain-mlogloss:2.08183\ttest-mlogloss:2.09827\n",
      "[25]\ttrain-mlogloss:2.07985\ttest-mlogloss:2.09694\n",
      "[26]\ttrain-mlogloss:2.07798\ttest-mlogloss:2.09571\n",
      "[27]\ttrain-mlogloss:2.07624\ttest-mlogloss:2.09459\n",
      "[28]\ttrain-mlogloss:2.07447\ttest-mlogloss:2.09349\n",
      "[29]\ttrain-mlogloss:2.07289\ttest-mlogloss:2.09252\n",
      "[30]\ttrain-mlogloss:2.07137\ttest-mlogloss:2.09168\n",
      "[31]\ttrain-mlogloss:2.06989\ttest-mlogloss:2.09085\n",
      "[32]\ttrain-mlogloss:2.06858\ttest-mlogloss:2.09018\n",
      "[33]\ttrain-mlogloss:2.06723\ttest-mlogloss:2.08946\n",
      "[34]\ttrain-mlogloss:2.06596\ttest-mlogloss:2.08886\n",
      "[35]\ttrain-mlogloss:2.06476\ttest-mlogloss:2.08828\n",
      "[36]\ttrain-mlogloss:2.06350\ttest-mlogloss:2.08771\n",
      "[37]\ttrain-mlogloss:2.06236\ttest-mlogloss:2.08723\n",
      "[38]\ttrain-mlogloss:2.06128\ttest-mlogloss:2.08681\n",
      "[39]\ttrain-mlogloss:2.06032\ttest-mlogloss:2.08644\n",
      "[40]\ttrain-mlogloss:2.05931\ttest-mlogloss:2.08608\n",
      "[41]\ttrain-mlogloss:2.05841\ttest-mlogloss:2.08580\n",
      "[42]\ttrain-mlogloss:2.05736\ttest-mlogloss:2.08543\n",
      "[43]\ttrain-mlogloss:2.05650\ttest-mlogloss:2.08518\n",
      "[44]\ttrain-mlogloss:2.05560\ttest-mlogloss:2.08492\n",
      "[45]\ttrain-mlogloss:2.05478\ttest-mlogloss:2.08468\n",
      "[46]\ttrain-mlogloss:2.05402\ttest-mlogloss:2.08452\n",
      "[47]\ttrain-mlogloss:2.05323\ttest-mlogloss:2.08437\n",
      "[48]\ttrain-mlogloss:2.05254\ttest-mlogloss:2.08424\n",
      "[49]\ttrain-mlogloss:2.05190\ttest-mlogloss:2.08409\n",
      "[50]\ttrain-mlogloss:2.05118\ttest-mlogloss:2.08392\n",
      "[51]\ttrain-mlogloss:2.05053\ttest-mlogloss:2.08383\n",
      "[52]\ttrain-mlogloss:2.04985\ttest-mlogloss:2.08372\n",
      "[53]\ttrain-mlogloss:2.04920\ttest-mlogloss:2.08362\n",
      "[54]\ttrain-mlogloss:2.04859\ttest-mlogloss:2.08353\n",
      "[55]\ttrain-mlogloss:2.04799\ttest-mlogloss:2.08345\n",
      "[56]\ttrain-mlogloss:2.04742\ttest-mlogloss:2.08339\n",
      "[57]\ttrain-mlogloss:2.04673\ttest-mlogloss:2.08331\n",
      "[58]\ttrain-mlogloss:2.04614\ttest-mlogloss:2.08325\n",
      "[59]\ttrain-mlogloss:2.04552\ttest-mlogloss:2.08319\n",
      "[60]\ttrain-mlogloss:2.04482\ttest-mlogloss:2.08304\n",
      "[61]\ttrain-mlogloss:2.04421\ttest-mlogloss:2.08299\n",
      "[62]\ttrain-mlogloss:2.04352\ttest-mlogloss:2.08286\n",
      "[63]\ttrain-mlogloss:2.04286\ttest-mlogloss:2.08282\n",
      "[64]\ttrain-mlogloss:2.04220\ttest-mlogloss:2.08273\n",
      "[65]\ttrain-mlogloss:2.04163\ttest-mlogloss:2.08269\n",
      "[66]\ttrain-mlogloss:2.04107\ttest-mlogloss:2.08263\n",
      "[67]\ttrain-mlogloss:2.04050\ttest-mlogloss:2.08261\n",
      "[68]\ttrain-mlogloss:2.03995\ttest-mlogloss:2.08257\n",
      "[69]\ttrain-mlogloss:2.03932\ttest-mlogloss:2.08248\n",
      "[70]\ttrain-mlogloss:2.03873\ttest-mlogloss:2.08247\n",
      "[71]\ttrain-mlogloss:2.03811\ttest-mlogloss:2.08245\n",
      "[72]\ttrain-mlogloss:2.03764\ttest-mlogloss:2.08241\n",
      "[73]\ttrain-mlogloss:2.03714\ttest-mlogloss:2.08240\n",
      "[74]\ttrain-mlogloss:2.03656\ttest-mlogloss:2.08240\n",
      "[75]\ttrain-mlogloss:2.03605\ttest-mlogloss:2.08237\n",
      "[76]\ttrain-mlogloss:2.03557\ttest-mlogloss:2.08237\n",
      "[77]\ttrain-mlogloss:2.03508\ttest-mlogloss:2.08235\n",
      "[78]\ttrain-mlogloss:2.03469\ttest-mlogloss:2.08232\n",
      "[79]\ttrain-mlogloss:2.03423\ttest-mlogloss:2.08229\n",
      "[80]\ttrain-mlogloss:2.03376\ttest-mlogloss:2.08226\n",
      "[81]\ttrain-mlogloss:2.03331\ttest-mlogloss:2.08220\n",
      "[82]\ttrain-mlogloss:2.03288\ttest-mlogloss:2.08219\n",
      "[83]\ttrain-mlogloss:2.03237\ttest-mlogloss:2.08216\n",
      "[84]\ttrain-mlogloss:2.03193\ttest-mlogloss:2.08210\n",
      "[85]\ttrain-mlogloss:2.03145\ttest-mlogloss:2.08208\n",
      "[86]\ttrain-mlogloss:2.03097\ttest-mlogloss:2.08204\n",
      "[87]\ttrain-mlogloss:2.03051\ttest-mlogloss:2.08202\n",
      "[88]\ttrain-mlogloss:2.03003\ttest-mlogloss:2.08200\n",
      "[89]\ttrain-mlogloss:2.02959\ttest-mlogloss:2.08194\n",
      "[90]\ttrain-mlogloss:2.02916\ttest-mlogloss:2.08192\n",
      "[91]\ttrain-mlogloss:2.02865\ttest-mlogloss:2.08190\n",
      "[92]\ttrain-mlogloss:2.02821\ttest-mlogloss:2.08191\n",
      "[93]\ttrain-mlogloss:2.02784\ttest-mlogloss:2.08189\n",
      "[94]\ttrain-mlogloss:2.02735\ttest-mlogloss:2.08190\n",
      "[95]\ttrain-mlogloss:2.02688\ttest-mlogloss:2.08188\n",
      "[96]\ttrain-mlogloss:2.02637\ttest-mlogloss:2.08187\n",
      "[97]\ttrain-mlogloss:2.02588\ttest-mlogloss:2.08182\n",
      "[98]\ttrain-mlogloss:2.02546\ttest-mlogloss:2.08182\n",
      "[99]\ttrain-mlogloss:2.02498\ttest-mlogloss:2.08181\n",
      "[100]\ttrain-mlogloss:2.02458\ttest-mlogloss:2.08178\n",
      "[101]\ttrain-mlogloss:2.02418\ttest-mlogloss:2.08176\n",
      "[102]\ttrain-mlogloss:2.02371\ttest-mlogloss:2.08173\n",
      "[103]\ttrain-mlogloss:2.02326\ttest-mlogloss:2.08170\n",
      "[104]\ttrain-mlogloss:2.02291\ttest-mlogloss:2.08170\n",
      "[105]\ttrain-mlogloss:2.02246\ttest-mlogloss:2.08171\n",
      "[106]\ttrain-mlogloss:2.02217\ttest-mlogloss:2.08171\n",
      "[107]\ttrain-mlogloss:2.02177\ttest-mlogloss:2.08169\n",
      "[108]\ttrain-mlogloss:2.02140\ttest-mlogloss:2.08168\n",
      "[109]\ttrain-mlogloss:2.02103\ttest-mlogloss:2.08167\n",
      "[110]\ttrain-mlogloss:2.02063\ttest-mlogloss:2.08167\n",
      "[111]\ttrain-mlogloss:2.02027\ttest-mlogloss:2.08167\n",
      "[112]\ttrain-mlogloss:2.01987\ttest-mlogloss:2.08167\n",
      "[113]\ttrain-mlogloss:2.01956\ttest-mlogloss:2.08168\n",
      "[114]\ttrain-mlogloss:2.01913\ttest-mlogloss:2.08168\n",
      "[115]\ttrain-mlogloss:2.01879\ttest-mlogloss:2.08170\n",
      "[116]\ttrain-mlogloss:2.01835\ttest-mlogloss:2.08170\n",
      "[117]\ttrain-mlogloss:2.01798\ttest-mlogloss:2.08170\n",
      "[118]\ttrain-mlogloss:2.01756\ttest-mlogloss:2.08173\n",
      "[119]\ttrain-mlogloss:2.01710\ttest-mlogloss:2.08172\n",
      "[120]\ttrain-mlogloss:2.01668\ttest-mlogloss:2.08173\n",
      "[121]\ttrain-mlogloss:2.01636\ttest-mlogloss:2.08174\n",
      "[122]\ttrain-mlogloss:2.01592\ttest-mlogloss:2.08174\n",
      "[123]\ttrain-mlogloss:2.01548\ttest-mlogloss:2.08174\n",
      "[124]\ttrain-mlogloss:2.01508\ttest-mlogloss:2.08175\n",
      "[125]\ttrain-mlogloss:2.01467\ttest-mlogloss:2.08177\n",
      "[126]\ttrain-mlogloss:2.01433\ttest-mlogloss:2.08177\n",
      "[127]\ttrain-mlogloss:2.01389\ttest-mlogloss:2.08177\n",
      "[128]\ttrain-mlogloss:2.01357\ttest-mlogloss:2.08179\n",
      "[129]\ttrain-mlogloss:2.01329\ttest-mlogloss:2.08180\n",
      "[130]\ttrain-mlogloss:2.01297\ttest-mlogloss:2.08180\n",
      "[131]\ttrain-mlogloss:2.01262\ttest-mlogloss:2.08182\n",
      "[132]\ttrain-mlogloss:2.01214\ttest-mlogloss:2.08182\n",
      "[133]\ttrain-mlogloss:2.01179\ttest-mlogloss:2.08183\n",
      "[134]\ttrain-mlogloss:2.01142\ttest-mlogloss:2.08182\n",
      "[135]\ttrain-mlogloss:2.01104\ttest-mlogloss:2.08183\n",
      "[136]\ttrain-mlogloss:2.01072\ttest-mlogloss:2.08185\n",
      "[137]\ttrain-mlogloss:2.01032\ttest-mlogloss:2.08184\n",
      "[138]\ttrain-mlogloss:2.00997\ttest-mlogloss:2.08185\n",
      "[139]\ttrain-mlogloss:2.00963\ttest-mlogloss:2.08187\n",
      "[140]\ttrain-mlogloss:2.00934\ttest-mlogloss:2.08189\n",
      "[141]\ttrain-mlogloss:2.00891\ttest-mlogloss:2.08191\n",
      "[142]\ttrain-mlogloss:2.00860\ttest-mlogloss:2.08189\n",
      "[143]\ttrain-mlogloss:2.00831\ttest-mlogloss:2.08191\n",
      "[144]\ttrain-mlogloss:2.00800\ttest-mlogloss:2.08191\n",
      "[145]\ttrain-mlogloss:2.00763\ttest-mlogloss:2.08192\n",
      "[146]\ttrain-mlogloss:2.00726\ttest-mlogloss:2.08193\n",
      "[147]\ttrain-mlogloss:2.00695\ttest-mlogloss:2.08195\n",
      "[148]\ttrain-mlogloss:2.00658\ttest-mlogloss:2.08197\n",
      "[149]\ttrain-mlogloss:2.00630\ttest-mlogloss:2.08197\n",
      "[150]\ttrain-mlogloss:2.00585\ttest-mlogloss:2.08197\n",
      "[151]\ttrain-mlogloss:2.00556\ttest-mlogloss:2.08200\n",
      "[152]\ttrain-mlogloss:2.00517\ttest-mlogloss:2.08203\n",
      "[153]\ttrain-mlogloss:2.00474\ttest-mlogloss:2.08203\n",
      "[154]\ttrain-mlogloss:2.00440\ttest-mlogloss:2.08205\n",
      "[155]\ttrain-mlogloss:2.00409\ttest-mlogloss:2.08207\n",
      "[156]\ttrain-mlogloss:2.00381\ttest-mlogloss:2.08207\n",
      "[157]\ttrain-mlogloss:2.00345\ttest-mlogloss:2.08209\n",
      "[158]\ttrain-mlogloss:2.00310\ttest-mlogloss:2.08212\n",
      "[159]\ttrain-mlogloss:2.00273\ttest-mlogloss:2.08214\n",
      "[160]\ttrain-mlogloss:2.00234\ttest-mlogloss:2.08216\n",
      "[161]\ttrain-mlogloss:2.00196\ttest-mlogloss:2.08220\n",
      "[162]\ttrain-mlogloss:2.00165\ttest-mlogloss:2.08220\n",
      "[163]\ttrain-mlogloss:2.00133\ttest-mlogloss:2.08223\n",
      "[164]\ttrain-mlogloss:2.00103\ttest-mlogloss:2.08226\n",
      "[165]\ttrain-mlogloss:2.00060\ttest-mlogloss:2.08227\n",
      "[166]\ttrain-mlogloss:2.00032\ttest-mlogloss:2.08230\n",
      "[167]\ttrain-mlogloss:2.00004\ttest-mlogloss:2.08232\n",
      "[168]\ttrain-mlogloss:1.99969\ttest-mlogloss:2.08234\n",
      "[169]\ttrain-mlogloss:1.99934\ttest-mlogloss:2.08235\n",
      "[170]\ttrain-mlogloss:1.99903\ttest-mlogloss:2.08236\n",
      "[171]\ttrain-mlogloss:1.99870\ttest-mlogloss:2.08238\n",
      "[172]\ttrain-mlogloss:1.99832\ttest-mlogloss:2.08240\n",
      "[173]\ttrain-mlogloss:1.99788\ttest-mlogloss:2.08241\n",
      "[174]\ttrain-mlogloss:1.99757\ttest-mlogloss:2.08244\n",
      "[175]\ttrain-mlogloss:1.99722\ttest-mlogloss:2.08247\n",
      "[176]\ttrain-mlogloss:1.99689\ttest-mlogloss:2.08249\n",
      "[177]\ttrain-mlogloss:1.99652\ttest-mlogloss:2.08251\n",
      "[178]\ttrain-mlogloss:1.99622\ttest-mlogloss:2.08254\n",
      "[179]\ttrain-mlogloss:1.99588\ttest-mlogloss:2.08256\n",
      "[180]\ttrain-mlogloss:1.99552\ttest-mlogloss:2.08260\n",
      "[181]\ttrain-mlogloss:1.99516\ttest-mlogloss:2.08262\n",
      "[182]\ttrain-mlogloss:1.99479\ttest-mlogloss:2.08264\n",
      "[183]\ttrain-mlogloss:1.99444\ttest-mlogloss:2.08268\n",
      "[184]\ttrain-mlogloss:1.99413\ttest-mlogloss:2.08271\n",
      "[185]\ttrain-mlogloss:1.99383\ttest-mlogloss:2.08274\n",
      "[186]\ttrain-mlogloss:1.99343\ttest-mlogloss:2.08276\n",
      "[187]\ttrain-mlogloss:1.99309\ttest-mlogloss:2.08277\n",
      "[188]\ttrain-mlogloss:1.99272\ttest-mlogloss:2.08278\n",
      "[189]\ttrain-mlogloss:1.99236\ttest-mlogloss:2.08281\n",
      "[190]\ttrain-mlogloss:1.99203\ttest-mlogloss:2.08284\n",
      "[191]\ttrain-mlogloss:1.99170\ttest-mlogloss:2.08287\n",
      "[192]\ttrain-mlogloss:1.99139\ttest-mlogloss:2.08290\n",
      "[193]\ttrain-mlogloss:1.99107\ttest-mlogloss:2.08292\n",
      "[194]\ttrain-mlogloss:1.99074\ttest-mlogloss:2.08295\n",
      "[195]\ttrain-mlogloss:1.99045\ttest-mlogloss:2.08297\n",
      "[196]\ttrain-mlogloss:1.99010\ttest-mlogloss:2.08300\n",
      "[197]\ttrain-mlogloss:1.98984\ttest-mlogloss:2.08304\n",
      "[198]\ttrain-mlogloss:1.98954\ttest-mlogloss:2.08306\n",
      "[199]\ttrain-mlogloss:1.98912\ttest-mlogloss:2.08309\n",
      "200-rounds Training finished ...\t\t(193.472s)\n"
     ]
    }
   ],
   "source": [
    "num_round = 200\n",
    "t0 = time()\n",
    "wl_bst_sm = xgb.train(param, xg_train, num_round, watchlist)\n",
    "print(f\"{num_round}-rounds Training finished ...\\t\\t({time()-t0:.3f}s)\")"
   ]
  },
  {
   "cell_type": "code",
   "execution_count": 408,
   "metadata": {},
   "outputs": [
    {
     "name": "stdout",
     "output_type": "stream",
     "text": [
      "Test error using softmax = 0.7301364659127436\n"
     ]
    }
   ],
   "source": [
    "# get prediction\n",
    "pred = wl_bst_sm.predict(xg_test)\n",
    "# pred = pred.astype(np.uint8)\n",
    "error_rate = np.sum(pred != y_test) / y_test.shape[0]\n",
    "print('Test error using softmax = {}'.format(error_rate))"
   ]
  },
  {
   "cell_type": "code",
   "execution_count": 409,
   "metadata": {},
   "outputs": [
    {
     "data": {
      "text/plain": [
       "(array([0.57430505, 0.58606509, 0.50357122, 0.50041816, 0.50033007,\n",
       "        0.50013865, 0.50273403, 0.50042983, 0.50980292, 0.60638754]),\n",
       " 2.3651799768885837)"
      ]
     },
     "execution_count": 409,
     "metadata": {},
     "output_type": "execute_result"
    }
   ],
   "source": [
    "weights = np.arange(0, 1, 0.1)\n",
    "aucs = auc(y_test.astype(np.uint8), pred.astype(np.uint8), np.arange(param['num_class']))\n",
    "# aucs[aucs == 0.5] = 0\n",
    "w_aucs = (aucs * weights).sum()\n",
    "aucs, w_aucs"
   ]
  },
  {
   "cell_type": "code",
   "execution_count": 336,
   "metadata": {},
   "outputs": [],
   "source": [
    "report = metrics.classification_report(list(y_test), list(pred))"
   ]
  },
  {
   "cell_type": "code",
   "execution_count": 410,
   "metadata": {},
   "outputs": [
    {
     "name": "stdout",
     "output_type": "stream",
     "text": [
      "              precision    recall  f1-score   support\n",
      "\n",
      "           0       0.87      0.54      0.67     43867\n",
      "           1       0.41      0.73      0.52    111843\n",
      "           2       0.41      0.16      0.23     62804\n",
      "           3       0.46      0.13      0.20     43875\n",
      "           4       0.45      0.09      0.15     34453\n",
      "           5       0.55      0.10      0.17     28592\n",
      "           6       0.46      0.05      0.08     24837\n",
      "           7       0.56      0.07      0.12     23675\n",
      "           8       0.39      0.07      0.12     27616\n",
      "           9       0.31      0.75      0.43     77532\n",
      "\n",
      "    accuracy                           0.40    479094\n",
      "   macro avg       0.49      0.27      0.27    479094\n",
      "weighted avg       0.46      0.40      0.34    479094\n",
      "\n"
     ]
    }
   ],
   "source": [
    "print(report)"
   ]
  },
  {
   "cell_type": "markdown",
   "metadata": {},
   "source": [
    "### 调参"
   ]
  },
  {
   "cell_type": "code",
   "execution_count": 643,
   "metadata": {},
   "outputs": [],
   "source": [
    "from xgboost import XGBClassifier\n",
    "from sklearn import svm, datasets\n",
    "from sklearn.model_selection import GridSearchCV\n",
    "from sklearn.model_selection import ParameterGrid\n",
    "from collections.abc import Iterable\n",
    "from sklearn.model_selection import StratifiedKFold"
   ]
  },
  {
   "cell_type": "code",
   "execution_count": 523,
   "metadata": {
    "tags": []
   },
   "outputs": [
    {
     "name": "stdout",
     "output_type": "stream",
     "text": [
      "150\n"
     ]
    }
   ],
   "source": [
    "base_param = {  # 基本参数，不需要调参\n",
    "    'objective': 'multi:softmax',\n",
    "    'eta': 0.1,\n",
    "    'nthread': 8,\n",
    "    'num_class': 10,\n",
    "    'gpu_id': 0,\n",
    "    'tree_method': 'gpu_hist'\n",
    "} \n",
    "ps = {  # 需要调参的参数\n",
    "    'max_depth': list(range(5, 14, 2)),\n",
    "    'min_child_weight': list(range(2, 12, 2)),\n",
    "    'gamma': [0.1, 0.2, 0.3, 0.4, 0.5, 0.6],\n",
    "}\n",
    "\n",
    "ps2 = {\n",
    "    'subsample':  [i/10.0 for i in range(6,11,1)], \n",
    "    'colsample_bytree':  [i/10.0 for i in range(6,11,1)] \n",
    "}\n",
    "\n",
    "ps3 = {'reg_alpha': [0.1, 0.2, 0.5, 1, 1.5, 2, 4]}\n",
    "\n",
    "# 将需要调参的参数进行组合，即笛卡尔乘积。类似于sklearn中的 ParameterGrid\n",
    "items = list(ps.items())\n",
    "iterables = [item[1] for item in items]\n",
    "keys = [item[0] for item in items]\n",
    "\n",
    "ret = myproduct(*iterables)\n",
    "com_ps = [dict(zip(keys, e)) for e in ret]\n",
    "\n",
    "\n",
    "all_params = [base_param.copy() for _ in range(len(com_ps))] \n",
    "for i in range(len(com_ps)):\n",
    "    all_params[i].update(com_ps[i])\n",
    "    \n",
    "print(com_ps.__len__())    \n",
    "# print(all_params)"
   ]
  },
  {
   "cell_type": "code",
   "execution_count": 529,
   "metadata": {},
   "outputs": [
    {
     "name": "stdout",
     "output_type": "stream",
     "text": [
      "Data preparing finished ...\t\t(5.092s)\n"
     ]
    }
   ],
   "source": [
    "t0 = time()\n",
    "xg_train = xgb.DMatrix(X_train.values, label=y_train.values, enable_categorical=True)\n",
    "xg_test = xgb.DMatrix(X_test.values, label=y_test.values, enable_categorical=True)\n",
    "print(f\"Data preparing finished ...\\t\\t({time()-t0:.3f}s)\")"
   ]
  },
  {
   "cell_type": "code",
   "execution_count": null,
   "metadata": {},
   "outputs": [],
   "source": [
    "gridsearch_results = gridsearch_xgb(all_params, xg_train, xg_test)"
   ]
  },
  {
   "cell_type": "code",
   "execution_count": null,
   "metadata": {},
   "outputs": [],
   "source": [
    "gs_cv_results_sh = gridsearch_cv_xgb(data.values, watch_label_res.values, all_params, n_round=200, verbose_eval=False, n_class=10)"
   ]
  },
  {
   "cell_type": "code",
   "execution_count": 584,
   "metadata": {},
   "outputs": [
    {
     "ename": "ValueError",
     "evalue": "最小误差与最大AUC对应的模型不一致 : [93 19]",
     "output_type": "error",
     "traceback": [
      "\u001b[0;31m---------------------------------------------------------------------------\u001b[0m",
      "\u001b[0;31mValueError\u001b[0m                                Traceback (most recent call last)",
      "\u001b[0;32m<ipython-input-584-646c9ffaa26f>\u001b[0m in \u001b[0;36m<module>\u001b[0;34m\u001b[0m\n\u001b[1;32m      2\u001b[0m \u001b[0mopt_idxs\u001b[0m \u001b[0;34m=\u001b[0m \u001b[0marr\u001b[0m\u001b[0;34m.\u001b[0m\u001b[0margmax\u001b[0m\u001b[0;34m(\u001b[0m\u001b[0maxis\u001b[0m\u001b[0;34m=\u001b[0m\u001b[0;36m1\u001b[0m\u001b[0;34m)\u001b[0m\u001b[0;34m\u001b[0m\u001b[0;34m\u001b[0m\u001b[0m\n\u001b[1;32m      3\u001b[0m \u001b[0;32mif\u001b[0m \u001b[0mopt_idxs\u001b[0m\u001b[0;34m[\u001b[0m\u001b[0;36m0\u001b[0m\u001b[0;34m]\u001b[0m \u001b[0;34m!=\u001b[0m \u001b[0mopt_idxs\u001b[0m\u001b[0;34m[\u001b[0m\u001b[0;36m1\u001b[0m\u001b[0;34m]\u001b[0m\u001b[0;34m:\u001b[0m\u001b[0;34m\u001b[0m\u001b[0;34m\u001b[0m\u001b[0m\n\u001b[0;32m----> 4\u001b[0;31m     \u001b[0;32mraise\u001b[0m \u001b[0mValueError\u001b[0m\u001b[0;34m(\u001b[0m\u001b[0;34mf\"最小误差与最大AUC对应的模型不一致 : {opt_idxs}\"\u001b[0m\u001b[0;34m)\u001b[0m\u001b[0;34m\u001b[0m\u001b[0;34m\u001b[0m\u001b[0m\n\u001b[0m\u001b[1;32m      5\u001b[0m \u001b[0;32melse\u001b[0m\u001b[0;34m:\u001b[0m\u001b[0;34m\u001b[0m\u001b[0;34m\u001b[0m\u001b[0m\n\u001b[1;32m      6\u001b[0m     \u001b[0mopt_idx\u001b[0m \u001b[0;34m=\u001b[0m \u001b[0mopt_idxs\u001b[0m\u001b[0;34m[\u001b[0m\u001b[0;36m0\u001b[0m\u001b[0;34m]\u001b[0m\u001b[0;34m\u001b[0m\u001b[0;34m\u001b[0m\u001b[0m\n",
      "\u001b[0;31mValueError\u001b[0m: 最小误差与最大AUC对应的模型不一致 : [93 19]"
     ]
    }
   ],
   "source": [
    "arr = np.array([[-e['test_error'] for e in gridsearch_results], [e['w_auc'] for e in gridsearch_results]], dtype=np.float32)\n",
    "opt_idxs = arr.argmax(axis=1)\n",
    "if opt_idxs[0] != opt_idxs[1]:\n",
    "     warnings.warn(f\"最小误差与最大AUC对应的模型不一致 : {opt_idxs}。选择误差最小的模型 : {opt_idxs[0]}\")\n",
    "\n",
    "opt_idx = opt_idxs[0]"
   ]
  },
  {
   "cell_type": "code",
   "execution_count": 583,
   "metadata": {
    "collapsed": true,
    "jupyter": {
     "outputs_hidden": true
    },
    "tags": []
   },
   "outputs": [
    {
     "data": {
      "text/plain": [
       "({'test_error': 0.7289070620796754,\n",
       "  'aucs': array([0.57555597, 0.58567653, 0.50347593, 0.50017473, 0.50017414,\n",
       "         0.5000983 , 0.50292636, 0.50040085, 0.50878295, 0.60767447]),\n",
       "  'w_auc': 2.365403849959146,\n",
       "  'report': '              precision    recall  f1-score   support\\n\\n           0       0.33      0.19      0.24     43749\\n           1       0.29      0.68      0.41    111616\\n           2       0.23      0.01      0.03     62829\\n           3       0.13      0.00      0.00     43872\\n           4       0.15      0.00      0.00     34228\\n           5       0.18      0.00      0.00     28926\\n           6       0.33      0.01      0.01     25061\\n           7       0.16      0.00      0.00     23400\\n           8       0.31      0.02      0.04     27750\\n           9       0.24      0.56      0.34     77663\\n\\n    accuracy                           0.27    479094\\n   macro avg       0.23      0.15      0.11    479094\\nweighted avg       0.24      0.27      0.18    479094\\n',\n",
       "  'model': <xgboost.core.Booster at 0x7f35ba8b00d0>},\n",
       " {'test_error': 0.73068750600091,\n",
       "  'aucs': array([0.57882633, 0.58668642, 0.50378179, 0.50067885, 0.50046282,\n",
       "         0.50010955, 0.50312644, 0.50043677, 0.50916784, 0.60848382]),\n",
       "  'w_auc': 2.367019878746503,\n",
       "  'report': '              precision    recall  f1-score   support\\n\\n           0       0.32      0.20      0.25     43749\\n           1       0.29      0.66      0.40    111616\\n           2       0.18      0.03      0.04     62829\\n           3       0.12      0.01      0.01     43872\\n           4       0.12      0.00      0.00     34228\\n           5       0.08      0.00      0.00     28926\\n           6       0.25      0.01      0.01     25061\\n           7       0.11      0.00      0.00     23400\\n           8       0.27      0.02      0.04     27750\\n           9       0.24      0.57      0.34     77663\\n\\n    accuracy                           0.27    479094\\n   macro avg       0.20      0.15      0.11    479094\\nweighted avg       0.22      0.27      0.18    479094\\n',\n",
       "  'model': <xgboost.core.Booster at 0x7f3584f94e50>})"
      ]
     },
     "execution_count": 583,
     "metadata": {},
     "output_type": "execute_result"
    }
   ],
   "source": [
    "gridsearch_results[93]"
   ]
  },
  {
   "cell_type": "code",
   "execution_count": 588,
   "metadata": {},
   "outputs": [
    {
     "name": "stdout",
     "output_type": "stream",
     "text": [
      "              precision    recall  f1-score   support\n",
      "\n",
      "           0       0.33      0.19      0.24     43749\n",
      "           1       0.29      0.68      0.41    111616\n",
      "           2       0.23      0.01      0.03     62829\n",
      "           3       0.13      0.00      0.00     43872\n",
      "           4       0.15      0.00      0.00     34228\n",
      "           5       0.18      0.00      0.00     28926\n",
      "           6       0.33      0.01      0.01     25061\n",
      "           7       0.16      0.00      0.00     23400\n",
      "           8       0.31      0.02      0.04     27750\n",
      "           9       0.24      0.56      0.34     77663\n",
      "\n",
      "    accuracy                           0.27    479094\n",
      "   macro avg       0.23      0.15      0.11    479094\n",
      "weighted avg       0.24      0.27      0.18    479094\n",
      "\n"
     ]
    }
   ],
   "source": [
    "opt_idx = opt_idxs[0]\n",
    "opt_param = all_params[opt_idx]\n",
    "print(gridsearch_results[opt_idx]['report'])"
   ]
  },
  {
   "cell_type": "code",
   "execution_count": 557,
   "metadata": {},
   "outputs": [
    {
     "data": {
      "text/plain": [
       "(479094,)"
      ]
     },
     "execution_count": 557,
     "metadata": {},
     "output_type": "execute_result"
    }
   ],
   "source": [
    "y_test.shape"
   ]
  },
  {
   "cell_type": "code",
   "execution_count": null,
   "metadata": {},
   "outputs": [],
   "source": [
    "gridsearch_cv_xgb(data.values, watch_label_res, all_params)"
   ]
  },
  {
   "cell_type": "code",
   "execution_count": 496,
   "metadata": {},
   "outputs": [],
   "source": [
    "param = {}\n",
    "# use softmax multi-class classification\n",
    "param['objective'] = 'multi:softmax'\n",
    "# scale weight of positive examples\n",
    "param['eta'] = 0.1\n",
    "param['max_depth'] = 8\n",
    "param['nthread'] = 8\n",
    "param['num_class'] = 10\n",
    "# param['gpu_id'] = 0\n",
    "# param['tree_method'] = 'gpu_hist'"
   ]
  },
  {
   "cell_type": "code",
   "execution_count": null,
   "metadata": {},
   "outputs": [],
   "source": [
    "%%time\n",
    "cv_res= xgb.cv(param, cv_data, num_boost_round=200,early_stopping_rounds=30,nfold=3, metrics='auc',show_stdv=True)\n",
    "print(cv_res)"
   ]
  },
  {
   "cell_type": "markdown",
   "metadata": {},
   "source": [
    "# is_share 预测"
   ]
  },
  {
   "cell_type": "markdown",
   "metadata": {},
   "source": [
    "## XGBoost"
   ]
  },
  {
   "cell_type": "markdown",
   "metadata": {},
   "source": [
    "### 处理数据不均衡问题"
   ]
  },
  {
   "cell_type": "code",
   "execution_count": 541,
   "metadata": {},
   "outputs": [
    {
     "name": "stdout",
     "output_type": "stream",
     "text": [
      "[(0, 7338705), (1, 14319)]\n",
      "[[0.         0.99805264]\n",
      " [1.         0.00194736]]\n"
     ]
    }
   ],
   "source": [
    "items = list(Counter(is_share).items())\n",
    "items.sort(key=lambda x: x[0])\n",
    "print(items)\n",
    "\n",
    "dist = np.array(items, dtype=np.float)\n",
    "dist[:, 1] = dist[:, 1] / is_share.shape[0]\n",
    "print(dist)"
   ]
  },
  {
   "cell_type": "code",
   "execution_count": 542,
   "metadata": {},
   "outputs": [],
   "source": [
    "under_ss = np.array(items)\n",
    "under_ss_thresh = under_ss[1, 1] + 800\n",
    "under_ss[:, 1] = np.clip(under_ss[:, 1], a_min=None, a_max=under_ss_thresh)\n",
    "\n",
    "over_ss = under_ss.copy()\n",
    "over_ss_thresh = under_ss[1, 1]\n",
    "over_ss[:, 1] = np.clip(over_ss[:, 1], a_min=over_ss_thresh, a_max=None)\n",
    "\n",
    "under_ss = dict(under_ss)\n",
    "over_ss = dict(over_ss)"
   ]
  },
  {
   "cell_type": "code",
   "execution_count": 543,
   "metadata": {},
   "outputs": [
    {
     "data": {
      "text/plain": [
       "({0: 15119, 1: 14319}, {0: 15119, 1: 14319})"
      ]
     },
     "execution_count": 543,
     "metadata": {},
     "output_type": "execute_result"
    }
   ],
   "source": [
    "under_ss, over_ss"
   ]
  },
  {
   "cell_type": "code",
   "execution_count": 544,
   "metadata": {},
   "outputs": [
    {
     "data": {
      "text/plain": [
       "(7338705,)"
      ]
     },
     "execution_count": 544,
     "metadata": {},
     "output_type": "execute_result"
    }
   ],
   "source": [
    "idxs = is_share == 0\n",
    "idxs = idxs.replace(False, np.nan).dropna().index  # 保留watch_label=0的行索引\n",
    "idxs.shape"
   ]
  },
  {
   "cell_type": "code",
   "execution_count": 545,
   "metadata": {},
   "outputs": [
    {
     "data": {
      "text/plain": [
       "((7323586,), (15119,))"
      ]
     },
     "execution_count": 545,
     "metadata": {},
     "output_type": "execute_result"
    }
   ],
   "source": [
    "left_idxs = np.random.choice(idxs, under_ss_thresh, replace=False)  # 选择一部分保留\n",
    "del_idxs = idxs.difference(left_idxs)\n",
    "del_idxs.shape, left_idxs.shape"
   ]
  },
  {
   "cell_type": "code",
   "execution_count": 546,
   "metadata": {},
   "outputs": [
    {
     "data": {
      "text/plain": [
       "((29438, 70), (29438,))"
      ]
     },
     "execution_count": 546,
     "metadata": {},
     "output_type": "execute_result"
    }
   ],
   "source": [
    "resampled_data = np.delete(dataset.values, del_idxs, axis=0)\n",
    "resampled_sh = np.delete(is_share.values, del_idxs, axis=0)\n",
    "resampled_data.shape, resampled_sh.shape"
   ]
  },
  {
   "cell_type": "code",
   "execution_count": 547,
   "metadata": {},
   "outputs": [
    {
     "data": {
      "text/plain": [
       "((2395469, 70), (7353024,))"
      ]
     },
     "execution_count": 547,
     "metadata": {},
     "output_type": "execute_result"
    }
   ],
   "source": [
    "# 将采样后的数据重装会DataFrame\n",
    "data_sh = pd.DataFrame(resampled_data, columns=dataset.columns)\n",
    "is_share_res = pd.Series(resampled_sh)\n",
    "data_sh.shape, is_share_res.shape"
   ]
  },
  {
   "cell_type": "code",
   "execution_count": 548,
   "metadata": {},
   "outputs": [
    {
     "data": {
      "text/plain": [
       "((23550,), (5888,))"
      ]
     },
     "execution_count": 548,
     "metadata": {},
     "output_type": "execute_result"
    }
   ],
   "source": [
    "train_idx, test_idx = train_test_split(data_sh.index, test_size=0.2, random_state=1)\n",
    "train_idx.shape, test_idx.shape"
   ]
  },
  {
   "cell_type": "markdown",
   "metadata": {},
   "source": [
    "### 训练模型"
   ]
  },
  {
   "cell_type": "code",
   "execution_count": 549,
   "metadata": {},
   "outputs": [],
   "source": [
    "X_train_sh = data_sh.iloc[train_idx]\n",
    "X_test_sh  = data_sh.iloc[test_idx]"
   ]
  },
  {
   "cell_type": "code",
   "execution_count": 431,
   "metadata": {},
   "outputs": [],
   "source": [
    "y_train_sh = is_share_res.iloc[train_idx]\n",
    "y_test_sh  = is_share_res.iloc[test_idx]"
   ]
  },
  {
   "cell_type": "code",
   "execution_count": 432,
   "metadata": {},
   "outputs": [
    {
     "name": "stdout",
     "output_type": "stream",
     "text": [
      "Data preparing finished ...\t\t(0.023s)\n"
     ]
    }
   ],
   "source": [
    "t0 = time()\n",
    "xg_train_sh = xgb.DMatrix(X_train_sh.values, label=y_train_sh.values, enable_categorical=True)\n",
    "xg_test_sh = xgb.DMatrix(X_test_sh.values, label=y_test_sh.values, enable_categorical=True)\n",
    "print(f\"Data preparing finished ...\\t\\t({time()-t0:.3f}s)\")"
   ]
  },
  {
   "cell_type": "code",
   "execution_count": 433,
   "metadata": {},
   "outputs": [],
   "source": [
    "# setup parameters for xgboost\n",
    "param_sh = {}\n",
    "# use softmax multi-class classification\n",
    "param_sh['objective'] = 'binary:hinge'\n",
    "# scale weight of positive examples\n",
    "param_sh['eta'] = 0.1\n",
    "param_sh['max_depth'] = 6\n",
    "param_sh['nthread'] = 4\n",
    "param_sh['gpu_id'] = 0\n",
    "param_sh['tree_method'] = 'gpu_hist'\n",
    "# param_sh['min_child_weight'] = 7\n",
    "\n",
    "\n",
    "watchlist = [(xg_train_sh, 'train'), (xg_test_sh, 'test')]"
   ]
  },
  {
   "cell_type": "code",
   "execution_count": 434,
   "metadata": {
    "collapsed": true,
    "jupyter": {
     "outputs_hidden": true
    },
    "tags": []
   },
   "outputs": [
    {
     "name": "stdout",
     "output_type": "stream",
     "text": [
      "[0]\ttrain-error:0.51236\ttest-error:0.51851\n",
      "[1]\ttrain-error:0.51236\ttest-error:0.51851\n",
      "[2]\ttrain-error:0.51236\ttest-error:0.51851\n",
      "[3]\ttrain-error:0.51236\ttest-error:0.51851\n",
      "[4]\ttrain-error:0.51236\ttest-error:0.51851\n",
      "[5]\ttrain-error:0.51134\ttest-error:0.51783\n",
      "[6]\ttrain-error:0.50297\ttest-error:0.51172\n",
      "[7]\ttrain-error:0.50157\ttest-error:0.51087\n",
      "[8]\ttrain-error:0.50110\ttest-error:0.50934\n",
      "[9]\ttrain-error:0.50081\ttest-error:0.50917\n",
      "[10]\ttrain-error:0.49983\ttest-error:0.50968\n",
      "[11]\ttrain-error:0.48858\ttest-error:0.49966\n",
      "[12]\ttrain-error:0.48726\ttest-error:0.49796\n",
      "[13]\ttrain-error:0.47091\ttest-error:0.48403\n",
      "[14]\ttrain-error:0.45427\ttest-error:0.47130\n",
      "[15]\ttrain-error:0.44832\ttest-error:0.46365\n",
      "[16]\ttrain-error:0.44484\ttest-error:0.46128\n",
      "[17]\ttrain-error:0.43257\ttest-error:0.44837\n",
      "[18]\ttrain-error:0.42514\ttest-error:0.43886\n",
      "[19]\ttrain-error:0.42064\ttest-error:0.43886\n",
      "[20]\ttrain-error:0.41677\ttest-error:0.43393\n",
      "[21]\ttrain-error:0.41350\ttest-error:0.43376\n",
      "[22]\ttrain-error:0.41028\ttest-error:0.43308\n",
      "[23]\ttrain-error:0.40747\ttest-error:0.42935\n",
      "[24]\ttrain-error:0.40314\ttest-error:0.42612\n",
      "[25]\ttrain-error:0.39983\ttest-error:0.42578\n",
      "[26]\ttrain-error:0.39529\ttest-error:0.41933\n",
      "[27]\ttrain-error:0.39181\ttest-error:0.41712\n",
      "[28]\ttrain-error:0.38913\ttest-error:0.41491\n",
      "[29]\ttrain-error:0.38539\ttest-error:0.41219\n",
      "[30]\ttrain-error:0.38391\ttest-error:0.41016\n",
      "[31]\ttrain-error:0.38272\ttest-error:0.40863\n",
      "[32]\ttrain-error:0.38055\ttest-error:0.40744\n",
      "[33]\ttrain-error:0.37983\ttest-error:0.40523\n",
      "[34]\ttrain-error:0.37754\ttest-error:0.40438\n",
      "[35]\ttrain-error:0.37643\ttest-error:0.40268\n",
      "[36]\ttrain-error:0.37546\ttest-error:0.40319\n",
      "[37]\ttrain-error:0.37469\ttest-error:0.40217\n",
      "[38]\ttrain-error:0.37274\ttest-error:0.40098\n",
      "[39]\ttrain-error:0.37146\ttest-error:0.39980\n",
      "[40]\ttrain-error:0.37083\ttest-error:0.39929\n",
      "[41]\ttrain-error:0.36905\ttest-error:0.39912\n",
      "[42]\ttrain-error:0.36739\ttest-error:0.39895\n",
      "[43]\ttrain-error:0.36705\ttest-error:0.39912\n",
      "[44]\ttrain-error:0.36671\ttest-error:0.39844\n",
      "[45]\ttrain-error:0.36628\ttest-error:0.39793\n",
      "[46]\ttrain-error:0.36561\ttest-error:0.39640\n",
      "[47]\ttrain-error:0.36471\ttest-error:0.39572\n",
      "[48]\ttrain-error:0.36225\ttest-error:0.39385\n",
      "[49]\ttrain-error:0.36174\ttest-error:0.39419\n",
      "[50]\ttrain-error:0.36174\ttest-error:0.39487\n",
      "[51]\ttrain-error:0.36098\ttest-error:0.39402\n",
      "[52]\ttrain-error:0.36089\ttest-error:0.39368\n",
      "[53]\ttrain-error:0.36059\ttest-error:0.39249\n",
      "[54]\ttrain-error:0.35979\ttest-error:0.39300\n",
      "[55]\ttrain-error:0.35932\ttest-error:0.39215\n",
      "[56]\ttrain-error:0.35868\ttest-error:0.39198\n",
      "[57]\ttrain-error:0.35843\ttest-error:0.39080\n",
      "[58]\ttrain-error:0.35741\ttest-error:0.39080\n",
      "[59]\ttrain-error:0.35703\ttest-error:0.39011\n",
      "[60]\ttrain-error:0.35597\ttest-error:0.38944\n",
      "[61]\ttrain-error:0.35478\ttest-error:0.38927\n",
      "[62]\ttrain-error:0.35423\ttest-error:0.38808\n",
      "[63]\ttrain-error:0.35355\ttest-error:0.38791\n",
      "[64]\ttrain-error:0.35253\ttest-error:0.38927\n",
      "[65]\ttrain-error:0.35244\ttest-error:0.38825\n",
      "[66]\ttrain-error:0.35168\ttest-error:0.38876\n",
      "[67]\ttrain-error:0.35104\ttest-error:0.38927\n",
      "[68]\ttrain-error:0.35066\ttest-error:0.38927\n",
      "[69]\ttrain-error:0.34998\ttest-error:0.38842\n",
      "[70]\ttrain-error:0.34815\ttest-error:0.39045\n",
      "[71]\ttrain-error:0.34773\ttest-error:0.38893\n",
      "[72]\ttrain-error:0.34739\ttest-error:0.38842\n",
      "[73]\ttrain-error:0.34705\ttest-error:0.38791\n",
      "[74]\ttrain-error:0.34692\ttest-error:0.38944\n",
      "[75]\ttrain-error:0.34569\ttest-error:0.39164\n",
      "[76]\ttrain-error:0.34518\ttest-error:0.39147\n",
      "[77]\ttrain-error:0.34480\ttest-error:0.39164\n",
      "[78]\ttrain-error:0.34429\ttest-error:0.39181\n",
      "[79]\ttrain-error:0.34399\ttest-error:0.39080\n",
      "[80]\ttrain-error:0.34378\ttest-error:0.39011\n",
      "[81]\ttrain-error:0.34357\ttest-error:0.39062\n",
      "[82]\ttrain-error:0.34336\ttest-error:0.38944\n",
      "[83]\ttrain-error:0.34331\ttest-error:0.38995\n",
      "[84]\ttrain-error:0.34285\ttest-error:0.39028\n",
      "[85]\ttrain-error:0.34268\ttest-error:0.38944\n",
      "[86]\ttrain-error:0.34221\ttest-error:0.38893\n",
      "[87]\ttrain-error:0.34221\ttest-error:0.38859\n",
      "[88]\ttrain-error:0.34191\ttest-error:0.38859\n",
      "[89]\ttrain-error:0.34183\ttest-error:0.38944\n",
      "[90]\ttrain-error:0.34093\ttest-error:0.38893\n",
      "[91]\ttrain-error:0.34110\ttest-error:0.38927\n",
      "[92]\ttrain-error:0.34021\ttest-error:0.38961\n",
      "[93]\ttrain-error:0.33958\ttest-error:0.38944\n",
      "[94]\ttrain-error:0.33915\ttest-error:0.38961\n",
      "[95]\ttrain-error:0.33894\ttest-error:0.38961\n",
      "[96]\ttrain-error:0.33877\ttest-error:0.38825\n",
      "[97]\ttrain-error:0.33839\ttest-error:0.38876\n",
      "[98]\ttrain-error:0.33809\ttest-error:0.38944\n",
      "[99]\ttrain-error:0.33792\ttest-error:0.38978\n",
      "[100]\ttrain-error:0.33728\ttest-error:0.38978\n",
      "[101]\ttrain-error:0.33669\ttest-error:0.38961\n",
      "[102]\ttrain-error:0.33635\ttest-error:0.38995\n",
      "[103]\ttrain-error:0.33575\ttest-error:0.38944\n",
      "[104]\ttrain-error:0.33550\ttest-error:0.39028\n",
      "[105]\ttrain-error:0.33524\ttest-error:0.39011\n",
      "[106]\ttrain-error:0.33503\ttest-error:0.38995\n",
      "[107]\ttrain-error:0.33465\ttest-error:0.39011\n",
      "[108]\ttrain-error:0.33448\ttest-error:0.38995\n",
      "[109]\ttrain-error:0.33422\ttest-error:0.39028\n",
      "[110]\ttrain-error:0.33393\ttest-error:0.39028\n",
      "[111]\ttrain-error:0.33380\ttest-error:0.38944\n",
      "[112]\ttrain-error:0.33329\ttest-error:0.38944\n",
      "[113]\ttrain-error:0.33253\ttest-error:0.38910\n",
      "[114]\ttrain-error:0.33240\ttest-error:0.38927\n",
      "[115]\ttrain-error:0.33193\ttest-error:0.38910\n",
      "[116]\ttrain-error:0.33168\ttest-error:0.38944\n",
      "[117]\ttrain-error:0.33108\ttest-error:0.38978\n",
      "[118]\ttrain-error:0.33108\ttest-error:0.38961\n",
      "[119]\ttrain-error:0.33087\ttest-error:0.38910\n",
      "[120]\ttrain-error:0.33019\ttest-error:0.38808\n",
      "[121]\ttrain-error:0.32985\ttest-error:0.38808\n",
      "[122]\ttrain-error:0.32938\ttest-error:0.38774\n",
      "[123]\ttrain-error:0.32854\ttest-error:0.38723\n",
      "[124]\ttrain-error:0.32794\ttest-error:0.38740\n",
      "[125]\ttrain-error:0.32790\ttest-error:0.38808\n",
      "[126]\ttrain-error:0.32781\ttest-error:0.38774\n",
      "[127]\ttrain-error:0.32752\ttest-error:0.38808\n",
      "[128]\ttrain-error:0.32735\ttest-error:0.38808\n",
      "[129]\ttrain-error:0.32722\ttest-error:0.38706\n",
      "[130]\ttrain-error:0.32692\ttest-error:0.38723\n",
      "[131]\ttrain-error:0.32654\ttest-error:0.38791\n",
      "[132]\ttrain-error:0.32565\ttest-error:0.38825\n",
      "[133]\ttrain-error:0.32514\ttest-error:0.38808\n",
      "[134]\ttrain-error:0.32510\ttest-error:0.38774\n",
      "[135]\ttrain-error:0.32467\ttest-error:0.38825\n",
      "[136]\ttrain-error:0.32454\ttest-error:0.38842\n",
      "[137]\ttrain-error:0.32399\ttest-error:0.38859\n",
      "[138]\ttrain-error:0.32314\ttest-error:0.38859\n",
      "[139]\ttrain-error:0.32314\ttest-error:0.38825\n",
      "[140]\ttrain-error:0.32238\ttest-error:0.38740\n",
      "[141]\ttrain-error:0.32187\ttest-error:0.38706\n",
      "[142]\ttrain-error:0.32153\ttest-error:0.38842\n",
      "[143]\ttrain-error:0.32140\ttest-error:0.38944\n",
      "[144]\ttrain-error:0.32157\ttest-error:0.38978\n",
      "[145]\ttrain-error:0.32144\ttest-error:0.38978\n",
      "[146]\ttrain-error:0.32102\ttest-error:0.38995\n",
      "[147]\ttrain-error:0.32085\ttest-error:0.39011\n",
      "[148]\ttrain-error:0.32051\ttest-error:0.38978\n",
      "[149]\ttrain-error:0.32000\ttest-error:0.38944\n",
      "[150]\ttrain-error:0.32000\ttest-error:0.38910\n",
      "[151]\ttrain-error:0.31970\ttest-error:0.38927\n",
      "[152]\ttrain-error:0.31928\ttest-error:0.38893\n",
      "[153]\ttrain-error:0.31873\ttest-error:0.38859\n",
      "[154]\ttrain-error:0.31830\ttest-error:0.38910\n",
      "[155]\ttrain-error:0.31817\ttest-error:0.38842\n",
      "[156]\ttrain-error:0.31800\ttest-error:0.38893\n",
      "[157]\ttrain-error:0.31779\ttest-error:0.38944\n",
      "[158]\ttrain-error:0.31758\ttest-error:0.38893\n",
      "[159]\ttrain-error:0.31754\ttest-error:0.38893\n",
      "[160]\ttrain-error:0.31690\ttest-error:0.38825\n",
      "[161]\ttrain-error:0.31677\ttest-error:0.38842\n",
      "[162]\ttrain-error:0.31631\ttest-error:0.38808\n",
      "[163]\ttrain-error:0.31588\ttest-error:0.38791\n",
      "[164]\ttrain-error:0.31558\ttest-error:0.38791\n",
      "[165]\ttrain-error:0.31533\ttest-error:0.38893\n",
      "[166]\ttrain-error:0.31486\ttest-error:0.38893\n",
      "[167]\ttrain-error:0.31465\ttest-error:0.38876\n",
      "[168]\ttrain-error:0.31456\ttest-error:0.38910\n",
      "[169]\ttrain-error:0.31439\ttest-error:0.38842\n",
      "[170]\ttrain-error:0.31410\ttest-error:0.38876\n",
      "[171]\ttrain-error:0.31380\ttest-error:0.38978\n",
      "[172]\ttrain-error:0.31355\ttest-error:0.38995\n",
      "[173]\ttrain-error:0.31325\ttest-error:0.38961\n",
      "[174]\ttrain-error:0.31282\ttest-error:0.39028\n",
      "[175]\ttrain-error:0.31261\ttest-error:0.39045\n",
      "[176]\ttrain-error:0.31231\ttest-error:0.38995\n",
      "[177]\ttrain-error:0.31176\ttest-error:0.39011\n",
      "[178]\ttrain-error:0.31104\ttest-error:0.39045\n",
      "[179]\ttrain-error:0.31074\ttest-error:0.38961\n",
      "[180]\ttrain-error:0.31036\ttest-error:0.38978\n",
      "[181]\ttrain-error:0.31002\ttest-error:0.38944\n",
      "[182]\ttrain-error:0.31002\ttest-error:0.38944\n",
      "[183]\ttrain-error:0.30994\ttest-error:0.38893\n",
      "[184]\ttrain-error:0.30938\ttest-error:0.38927\n",
      "[185]\ttrain-error:0.30909\ttest-error:0.38927\n",
      "[186]\ttrain-error:0.30888\ttest-error:0.38910\n",
      "[187]\ttrain-error:0.30879\ttest-error:0.38961\n",
      "[188]\ttrain-error:0.30854\ttest-error:0.38927\n",
      "[189]\ttrain-error:0.30854\ttest-error:0.38893\n",
      "[190]\ttrain-error:0.30854\ttest-error:0.38961\n",
      "[191]\ttrain-error:0.30764\ttest-error:0.38927\n",
      "[192]\ttrain-error:0.30752\ttest-error:0.38927\n",
      "[193]\ttrain-error:0.30739\ttest-error:0.38893\n",
      "[194]\ttrain-error:0.30713\ttest-error:0.38876\n",
      "[195]\ttrain-error:0.30701\ttest-error:0.38961\n",
      "[196]\ttrain-error:0.30620\ttest-error:0.38859\n",
      "[197]\ttrain-error:0.30624\ttest-error:0.38842\n",
      "[198]\ttrain-error:0.30565\ttest-error:0.38842\n",
      "[199]\ttrain-error:0.30518\ttest-error:0.38825\n",
      "200-rounds Training finished ...\t\t(1.209s)\n"
     ]
    }
   ],
   "source": [
    "num_round = 200\n",
    "t0 = time()\n",
    "sh_bst_sm = xgb.train(param_sh, xg_train_sh, num_round, watchlist)\n",
    "print(f\"{num_round}-rounds Training finished ...\\t\\t({time()-t0:.3f}s)\")"
   ]
  },
  {
   "cell_type": "code",
   "execution_count": 435,
   "metadata": {},
   "outputs": [
    {
     "name": "stdout",
     "output_type": "stream",
     "text": [
      "Test error using softmax = 0.3882472826086957\n"
     ]
    }
   ],
   "source": [
    "# get prediction\n",
    "pred_sh = sh_bst_sm.predict(xg_test_sh)\n",
    "error_rate = np.sum(pred_sh != y_test_sh) / y_test_sh.shape[0]\n",
    "print('Test error using softmax = {}'.format(error_rate))"
   ]
  },
  {
   "cell_type": "code",
   "execution_count": 436,
   "metadata": {},
   "outputs": [
    {
     "data": {
      "text/plain": [
       "(Counter({1.0: 3043, 0.0: 2845}), Counter({1: 2835, 0: 3053}))"
      ]
     },
     "execution_count": 436,
     "metadata": {},
     "output_type": "execute_result"
    }
   ],
   "source": [
    "Counter(pred_sh), Counter(y_test_sh)"
   ]
  },
  {
   "cell_type": "code",
   "execution_count": 437,
   "metadata": {},
   "outputs": [
    {
     "name": "stdout",
     "output_type": "stream",
     "text": [
      "              precision    recall  f1-score   support\n",
      "\n",
      "           0       0.63      0.59      0.61      3053\n",
      "           1       0.59      0.63      0.61      2835\n",
      "\n",
      "    accuracy                           0.61      5888\n",
      "   macro avg       0.61      0.61      0.61      5888\n",
      "weighted avg       0.61      0.61      0.61      5888\n",
      "\n"
     ]
    }
   ],
   "source": [
    "report_sh = metrics.classification_report(list(y_test_sh), list(pred_sh))\n",
    "print(report_sh)"
   ]
  },
  {
   "cell_type": "code",
   "execution_count": 438,
   "metadata": {},
   "outputs": [
    {
     "data": {
      "text/plain": [
       "array([0.6125295, 0.6125295])"
      ]
     },
     "execution_count": 438,
     "metadata": {},
     "output_type": "execute_result"
    }
   ],
   "source": [
    "aucs_sh = auc(y_test_sh.astype(np.uint8), pred_sh.astype(np.uint8), [0, 1])\n",
    "aucs_sh"
   ]
  },
  {
   "cell_type": "markdown",
   "metadata": {},
   "source": [
    "### 调参"
   ]
  },
  {
   "cell_type": "code",
   "execution_count": 1,
   "metadata": {},
   "outputs": [],
   "source": [
    "from tools import *"
   ]
  },
  {
   "cell_type": "code",
   "execution_count": 613,
   "metadata": {
    "tags": []
   },
   "outputs": [
    {
     "name": "stdout",
     "output_type": "stream",
     "text": [
      "120\n"
     ]
    }
   ],
   "source": [
    "base_param_sh = {  # 基本参数，不需要调参\n",
    "    'objective': 'binary:hinge',\n",
    "    'eta': 0.1,\n",
    "    'nthread': 8,\n",
    "#     'num_class': 10,\n",
    "    'gpu_id': 0,\n",
    "    'tree_method': 'gpu_hist'\n",
    "} \n",
    "ps_sh = {  # 需要调参的参数\n",
    "    'max_depth': list(range(5, 10, 2)),\n",
    "    'min_child_weight': list(range(1, 10, 2)),\n",
    "    'gamma': [0.1, 0.2, 0.3, 0.4, 0.5, 0.6],\n",
    "}\n",
    "\n",
    "com_ps_sh = list(ParameterGrid(ps_sh))\n",
    "\n",
    "\n",
    "all_params_sh = [base_param_sh.copy() for _ in range(len(com_ps_sh))] \n",
    "for i in range(len(com_ps_sh)):\n",
    "    all_params_sh[i].update(com_ps_sh[i])\n",
    "\n",
    "# print(com_ps_sh)\n",
    "print(all_params_sh.__len__())"
   ]
  },
  {
   "cell_type": "code",
   "execution_count": 550,
   "metadata": {},
   "outputs": [
    {
     "name": "stdout",
     "output_type": "stream",
     "text": [
      "Data preparing finished ...\t\t(24.924s)\n"
     ]
    }
   ],
   "source": [
    "t0 = time()\n",
    "xg_train_sh = xgb.DMatrix(X_train_sh.values, label=y_train_sh.values, enable_categorical=True)\n",
    "xg_test_sh = xgb.DMatrix(X_test_sh.values, label=y_test_sh.values, enable_categorical=True)\n",
    "print(f\"Data preparing finished ...\\t\\t({time()-t0:.3f}s)\")"
   ]
  },
  {
   "cell_type": "code",
   "execution_count": null,
   "metadata": {},
   "outputs": [],
   "source": [
    "gridsearch_results_sh = gridsearch_xgb(all_params_sh, xg_train_sh, xg_test_sh, num_round=150, n_class=2, verbose_eval=False)"
   ]
  },
  {
   "cell_type": "code",
   "execution_count": null,
   "metadata": {},
   "outputs": [],
   "source": [
    "gs_cv_results_sh = gridsearch_cv_xgb(data_sh.values, is_share_res.values, all_params_sh, n_round=150, verbose_eval=False, n_class=2)"
   ]
  },
  {
   "cell_type": "code",
   "execution_count": 747,
   "metadata": {
    "collapsed": true,
    "jupyter": {
     "outputs_hidden": true
    },
    "tags": []
   },
   "outputs": [
    {
     "data": {
      "text/plain": [
       "[({'objective': 'binary:hinge',\n",
       "   'eta': 0.1,\n",
       "   'nthread': 8,\n",
       "   'gpu_id': 0,\n",
       "   'tree_method': 'gpu_hist',\n",
       "   'gamma': 0.1,\n",
       "   'max_depth': 5,\n",
       "   'min_child_weight': 1},\n",
       "  {'mean_test_error': 0.38277045475107274,\n",
       "   'mean_auc': array([0.61766193, 0.61766193]),\n",
       "   'report':               precision    recall  f1-score  support\n",
       "   0              0.634445  0.601760  0.617489   3023.8\n",
       "   1              0.601125  0.633564  0.616760   2863.8\n",
       "   accuracy            NaN       NaN  0.617230   5887.6\n",
       "   macro avg      0.617785  0.617662  0.617125   5887.6\n",
       "   weighted avg   0.618238  0.617230  0.617134   5887.6}),\n",
       " ({'objective': 'binary:hinge',\n",
       "   'eta': 0.1,\n",
       "   'nthread': 8,\n",
       "   'gpu_id': 0,\n",
       "   'tree_method': 'gpu_hist',\n",
       "   'gamma': 0.1,\n",
       "   'max_depth': 5,\n",
       "   'min_child_weight': 3},\n",
       "  {'mean_test_error': 0.38178523884609417,\n",
       "   'mean_auc': array([0.61874936, 0.61874936]),\n",
       "   'report':               precision    recall  f1-score  support\n",
       "   0              0.636618  0.599047  0.617017   3023.8\n",
       "   1              0.601331  0.638452  0.619127   2863.8\n",
       "   accuracy            NaN       NaN  0.618215   5887.6\n",
       "   macro avg      0.618975  0.618749  0.618072   5887.6\n",
       "   weighted avg   0.619454  0.618215  0.618044   5887.6}),\n",
       " ({'objective': 'binary:hinge',\n",
       "   'eta': 0.1,\n",
       "   'nthread': 8,\n",
       "   'gpu_id': 0,\n",
       "   'tree_method': 'gpu_hist',\n",
       "   'gamma': 0.1,\n",
       "   'max_depth': 5,\n",
       "   'min_child_weight': 5},\n",
       "  {'mean_test_error': 0.3809021847604523,\n",
       "   'mean_auc': array([0.61975848, 0.61975848]),\n",
       "   'report':               precision    recall  f1-score  support\n",
       "   0              0.638971  0.595408  0.616036   3023.8\n",
       "   1              0.601370  0.644109  0.621684   2863.8\n",
       "   accuracy            NaN       NaN  0.619098   5887.6\n",
       "   macro avg      0.620171  0.619758  0.618860   5887.6\n",
       "   weighted avg   0.620681  0.619098  0.618784   5887.6}),\n",
       " ({'objective': 'binary:hinge',\n",
       "   'eta': 0.1,\n",
       "   'nthread': 8,\n",
       "   'gpu_id': 0,\n",
       "   'tree_method': 'gpu_hist',\n",
       "   'gamma': 0.1,\n",
       "   'max_depth': 5,\n",
       "   'min_child_weight': 7},\n",
       "  {'mean_test_error': 0.3797131183484613,\n",
       "   'mean_auc': array([0.62084621, 0.62084621]),\n",
       "   'report':               precision    recall  f1-score  support\n",
       "   0              0.638955  0.600237  0.618802   3023.8\n",
       "   1              0.603143  0.641455  0.621547   2863.8\n",
       "   accuracy            NaN       NaN  0.620287   5887.6\n",
       "   macro avg      0.621049  0.620846  0.620175   5887.6\n",
       "   weighted avg   0.621535  0.620287  0.620138   5887.6}),\n",
       " ({'objective': 'binary:hinge',\n",
       "   'eta': 0.1,\n",
       "   'nthread': 8,\n",
       "   'gpu_id': 0,\n",
       "   'tree_method': 'gpu_hist',\n",
       "   'gamma': 0.1,\n",
       "   'max_depth': 5,\n",
       "   'min_child_weight': 9},\n",
       "  {'mean_test_error': 0.3814795034748636,\n",
       "   'mean_auc': array([0.61917689, 0.61917689]),\n",
       "   'report':               precision    recall  f1-score  support\n",
       "   0              0.638159  0.595013  0.615555   3023.8\n",
       "   1              0.600838  0.643341  0.621135   2863.8\n",
       "   accuracy            NaN       NaN  0.618520   5887.6\n",
       "   macro avg      0.619499  0.619177  0.618345   5887.6\n",
       "   weighted avg   0.620006  0.618520  0.618269   5887.6}),\n",
       " ({'objective': 'binary:hinge',\n",
       "   'eta': 0.1,\n",
       "   'nthread': 8,\n",
       "   'gpu_id': 0,\n",
       "   'tree_method': 'gpu_hist',\n",
       "   'gamma': 0.1,\n",
       "   'max_depth': 7,\n",
       "   'min_child_weight': 1},\n",
       "  {'mean_test_error': 0.3767917092100502,\n",
       "   'mean_auc': array([0.62375024, 0.62375024]),\n",
       "   'report':               precision    recall  f1-score  support\n",
       "   0              0.641529  0.603810  0.622049   3023.8\n",
       "   1              0.606133  0.643690  0.624304   2863.8\n",
       "   accuracy            NaN       NaN  0.623208   5887.6\n",
       "   macro avg      0.623831  0.623750  0.623177   5887.6\n",
       "   weighted avg   0.624312  0.623208  0.623146   5887.6}),\n",
       " ({'objective': 'binary:hinge',\n",
       "   'eta': 0.1,\n",
       "   'nthread': 8,\n",
       "   'gpu_id': 0,\n",
       "   'tree_method': 'gpu_hist',\n",
       "   'gamma': 0.1,\n",
       "   'max_depth': 7,\n",
       "   'min_child_weight': 3},\n",
       "  {'mean_test_error': 0.3768935190655904,\n",
       "   'mean_auc': array([0.62362373, 0.62362373]),\n",
       "   'report':               precision    recall  f1-score  support\n",
       "   0              0.641172  0.604604  0.622282   3023.8\n",
       "   1              0.606236  0.642643  0.623847   2863.8\n",
       "   accuracy            NaN       NaN  0.623106   5887.6\n",
       "   macro avg      0.623704  0.623624  0.623064   5887.6\n",
       "   weighted avg   0.624179  0.623106  0.623043   5887.6}),\n",
       " ({'objective': 'binary:hinge',\n",
       "   'eta': 0.1,\n",
       "   'nthread': 8,\n",
       "   'gpu_id': 0,\n",
       "   'tree_method': 'gpu_hist',\n",
       "   'gamma': 0.1,\n",
       "   'max_depth': 7,\n",
       "   'min_child_weight': 5},\n",
       "  {'mean_test_error': 0.37736916063212234,\n",
       "   'mean_auc': array([0.62321036, 0.62321036]),\n",
       "   'report':               precision    recall  f1-score  support\n",
       "   0              0.641360  0.601892  0.620909   3023.8\n",
       "   1              0.605326  0.644528  0.624234   2863.8\n",
       "   accuracy            NaN       NaN  0.622631   5887.6\n",
       "   macro avg      0.623343  0.623210  0.622571   5887.6\n",
       "   weighted avg   0.623833  0.622631  0.622526   5887.6}),\n",
       " ({'objective': 'binary:hinge',\n",
       "   'eta': 0.1,\n",
       "   'nthread': 8,\n",
       "   'gpu_id': 0,\n",
       "   'tree_method': 'gpu_hist',\n",
       "   'gamma': 0.1,\n",
       "   'max_depth': 7,\n",
       "   'min_child_weight': 7},\n",
       "  {'mean_test_error': 0.37787867727158586,\n",
       "   'mean_auc': array([0.62264243, 0.62264243]),\n",
       "   'report':               precision    recall  f1-score  support\n",
       "   0              0.640244  0.603480  0.621233   3023.8\n",
       "   1              0.605235  0.641805  0.622907   2863.8\n",
       "   accuracy            NaN       NaN  0.622121   5887.6\n",
       "   macro avg      0.622740  0.622642  0.622070   5887.6\n",
       "   weighted avg   0.623215  0.622121  0.622047   5887.6}),\n",
       " ({'objective': 'binary:hinge',\n",
       "   'eta': 0.1,\n",
       "   'nthread': 8,\n",
       "   'gpu_id': 0,\n",
       "   'tree_method': 'gpu_hist',\n",
       "   'gamma': 0.1,\n",
       "   'max_depth': 7,\n",
       "   'min_child_weight': 9},\n",
       "  {'mean_test_error': 0.37747114358461165,\n",
       "   'mean_auc': array([0.62314979, 0.62314979]),\n",
       "   'report':               precision    recall  f1-score  support\n",
       "   0              0.641742  0.600305  0.620211   3023.8\n",
       "   1              0.604927  0.645995  0.624683   2863.8\n",
       "   accuracy            NaN       NaN  0.622529   5887.6\n",
       "   macro avg      0.623334  0.623150  0.622447   5887.6\n",
       "   weighted avg   0.623835  0.622529  0.622386   5887.6}),\n",
       " ({'objective': 'binary:hinge',\n",
       "   'eta': 0.1,\n",
       "   'nthread': 8,\n",
       "   'gpu_id': 0,\n",
       "   'tree_method': 'gpu_hist',\n",
       "   'gamma': 0.1,\n",
       "   'max_depth': 9,\n",
       "   'min_child_weight': 1},\n",
       "  {'mean_test_error': 0.38477470393497837,\n",
       "   'mean_auc': array([0.61636876, 0.61636876]),\n",
       "   'report':               precision    recall  f1-score  support\n",
       "   0              0.639733  0.574312  0.605221   3023.8\n",
       "   1              0.594308  0.658426  0.624697   2863.8\n",
       "   accuracy            NaN       NaN  0.615225   5887.6\n",
       "   macro avg      0.617020  0.616369  0.614959   5887.6\n",
       "   weighted avg   0.617638  0.615225  0.614694   5887.6}),\n",
       " ({'objective': 'binary:hinge',\n",
       "   'eta': 0.1,\n",
       "   'nthread': 8,\n",
       "   'gpu_id': 0,\n",
       "   'tree_method': 'gpu_hist',\n",
       "   'gamma': 0.1,\n",
       "   'max_depth': 9,\n",
       "   'min_child_weight': 3},\n",
       "  {'mean_test_error': 0.38334822351755155,\n",
       "   'mean_auc': array([0.61781668, 0.61781668]),\n",
       "   'report':               precision    recall  f1-score  support\n",
       "   0              0.641471  0.574973  0.606379   3023.8\n",
       "   1              0.595511  0.660661  0.626377   2863.8\n",
       "   accuracy            NaN       NaN  0.616652   5887.6\n",
       "   macro avg      0.618491  0.617817  0.616378   5887.6\n",
       "   weighted avg   0.619116  0.616652  0.616106   5887.6}),\n",
       " ({'objective': 'binary:hinge',\n",
       "   'eta': 0.1,\n",
       "   'nthread': 8,\n",
       "   'gpu_id': 0,\n",
       "   'tree_method': 'gpu_hist',\n",
       "   'gamma': 0.1,\n",
       "   'max_depth': 9,\n",
       "   'min_child_weight': 5},\n",
       "  {'mean_test_error': 0.3821588282213573,\n",
       "   'mean_auc': array([0.61886577, 0.61886577]),\n",
       "   'report':               precision    recall  f1-score  support\n",
       "   0              0.641180  0.581191  0.609668   3023.8\n",
       "   1              0.597571  0.656541  0.625633   2863.8\n",
       "   accuracy            NaN       NaN  0.617841   5887.6\n",
       "   macro avg      0.619375  0.618866  0.617651   5887.6\n",
       "   weighted avg   0.619968  0.617841  0.617433   5887.6}),\n",
       " ({'objective': 'binary:hinge',\n",
       "   'eta': 0.1,\n",
       "   'nthread': 8,\n",
       "   'gpu_id': 0,\n",
       "   'tree_method': 'gpu_hist',\n",
       "   'gamma': 0.1,\n",
       "   'max_depth': 9,\n",
       "   'min_child_weight': 7},\n",
       "  {'mean_test_error': 0.38249858868287534,\n",
       "   'mean_auc': array([0.61856431, 0.61856431]),\n",
       "   'report':               precision    recall  f1-score  support\n",
       "   0              0.641273  0.579470  0.608770   3023.8\n",
       "   1              0.596963  0.657658  0.625814   2863.8\n",
       "   accuracy            NaN       NaN  0.617501   5887.6\n",
       "   macro avg      0.619118  0.618564  0.617292   5887.6\n",
       "   weighted avg   0.619720  0.617501  0.617060   5887.6}),\n",
       " ({'objective': 'binary:hinge',\n",
       "   'eta': 0.1,\n",
       "   'nthread': 8,\n",
       "   'gpu_id': 0,\n",
       "   'tree_method': 'gpu_hist',\n",
       "   'gamma': 0.1,\n",
       "   'max_depth': 9,\n",
       "   'min_child_weight': 9},\n",
       "  {'mean_test_error': 0.38226088041262624,\n",
       "   'mean_auc': array([0.61881047, 0.61881047]),\n",
       "   'report':               precision    recall  f1-score  support\n",
       "   0              0.641551  0.579405  0.608859   3023.8\n",
       "   1              0.597183  0.658216  0.626187   2863.8\n",
       "   accuracy            NaN       NaN  0.617739   5887.6\n",
       "   macro avg      0.619367  0.618810  0.617523   5887.6\n",
       "   weighted avg   0.619970  0.617739  0.617287   5887.6}),\n",
       " ({'objective': 'binary:hinge',\n",
       "   'eta': 0.1,\n",
       "   'nthread': 8,\n",
       "   'gpu_id': 0,\n",
       "   'tree_method': 'gpu_hist',\n",
       "   'gamma': 0.1,\n",
       "   'max_depth': 11,\n",
       "   'min_child_weight': 1},\n",
       "  {'mean_test_error': 0.3924860691575395,\n",
       "   'mean_auc': array([0.60887027, 0.60887027]),\n",
       "   'report':               precision    recall  f1-score  support\n",
       "   0              0.633664  0.558965  0.593973   3023.8\n",
       "   1              0.585857  0.658775  0.620178   2863.8\n",
       "   accuracy            NaN       NaN  0.607514   5887.6\n",
       "   macro avg      0.609761  0.608870  0.607076   5887.6\n",
       "   weighted avg   0.610410  0.607514  0.606720   5887.6}),\n",
       " ({'objective': 'binary:hinge',\n",
       "   'eta': 0.1,\n",
       "   'nthread': 8,\n",
       "   'gpu_id': 0,\n",
       "   'tree_method': 'gpu_hist',\n",
       "   'gamma': 0.1,\n",
       "   'max_depth': 11,\n",
       "   'min_child_weight': 3},\n",
       "  {'mean_test_error': 0.38681297820917127,\n",
       "   'mean_auc': array([0.61441154, 0.61441154]),\n",
       "   'report':               precision    recall  f1-score  support\n",
       "   0              0.638389  0.569350  0.601882   3023.8\n",
       "   1              0.591903  0.659473  0.623853   2863.8\n",
       "   accuracy            NaN       NaN  0.613187   5887.6\n",
       "   macro avg      0.615146  0.614412  0.612867   5887.6\n",
       "   weighted avg   0.615778  0.613187  0.612569   5887.6}),\n",
       " ({'objective': 'binary:hinge',\n",
       "   'eta': 0.1,\n",
       "   'nthread': 8,\n",
       "   'gpu_id': 0,\n",
       "   'tree_method': 'gpu_hist',\n",
       "   'gamma': 0.1,\n",
       "   'max_depth': 11,\n",
       "   'min_child_weight': 5},\n",
       "  {'mean_test_error': 0.39014197296364134,\n",
       "   'mean_auc': array([0.61115976, 0.61115976]),\n",
       "   'report':               precision    recall  f1-score  support\n",
       "   0              0.635641  0.563265  0.597257   3023.8\n",
       "   1              0.588338  0.659054  0.621683   2863.8\n",
       "   accuracy            NaN       NaN  0.609858   5887.6\n",
       "   macro avg      0.611989  0.611160  0.609470   5887.6\n",
       "   weighted avg   0.612632  0.609858  0.609138   5887.6}),\n",
       " ({'objective': 'binary:hinge',\n",
       "   'eta': 0.1,\n",
       "   'nthread': 8,\n",
       "   'gpu_id': 0,\n",
       "   'tree_method': 'gpu_hist',\n",
       "   'gamma': 0.1,\n",
       "   'max_depth': 11,\n",
       "   'min_child_weight': 7},\n",
       "  {'mean_test_error': 0.3905494720312258,\n",
       "   'mean_auc': array([0.61060794, 0.61060794]),\n",
       "   'report':               precision    recall  f1-score  support\n",
       "   0              0.633635  0.568027  0.599018   3023.8\n",
       "   1              0.588841  0.653188  0.619330   2863.8\n",
       "   accuracy            NaN       NaN  0.609451   5887.6\n",
       "   macro avg      0.611238  0.610608  0.609174   5887.6\n",
       "   weighted avg   0.611847  0.609451  0.608898   5887.6}),\n",
       " ({'objective': 'binary:hinge',\n",
       "   'eta': 0.1,\n",
       "   'nthread': 8,\n",
       "   'gpu_id': 0,\n",
       "   'tree_method': 'gpu_hist',\n",
       "   'gamma': 0.1,\n",
       "   'max_depth': 11,\n",
       "   'min_child_weight': 9},\n",
       "  {'mean_test_error': 0.39017584226667457,\n",
       "   'mean_auc': array([0.61101812, 0.61101812]),\n",
       "   'report':               precision    recall  f1-score  support\n",
       "   0              0.634410  0.567102  0.598820   3023.8\n",
       "   1              0.589012  0.654934  0.620188   2863.8\n",
       "   accuracy            NaN       NaN  0.609824   5887.6\n",
       "   macro avg      0.611711  0.611018  0.609504   5887.6\n",
       "   weighted avg   0.612328  0.609824  0.609213   5887.6}),\n",
       " ({'objective': 'binary:hinge',\n",
       "   'eta': 0.1,\n",
       "   'nthread': 8,\n",
       "   'gpu_id': 0,\n",
       "   'tree_method': 'gpu_hist',\n",
       "   'gamma': 0.2,\n",
       "   'max_depth': 5,\n",
       "   'min_child_weight': 1},\n",
       "  {'mean_test_error': 0.3833139676313321,\n",
       "   'mean_auc': array([0.61712544, 0.61712544]),\n",
       "   'report':               precision    recall  f1-score  support\n",
       "   0              0.633971  0.600966  0.616846   3023.8\n",
       "   1              0.600533  0.633285  0.616316   2863.8\n",
       "   accuracy            NaN       NaN  0.616686   5887.6\n",
       "   macro avg      0.617252  0.617125  0.616581   5887.6\n",
       "   weighted avg   0.617706  0.616686  0.616588   5887.6}),\n",
       " ({'objective': 'binary:hinge',\n",
       "   'eta': 0.1,\n",
       "   'nthread': 8,\n",
       "   'gpu_id': 0,\n",
       "   'tree_method': 'gpu_hist',\n",
       "   'gamma': 0.2,\n",
       "   'max_depth': 5,\n",
       "   'min_child_weight': 3},\n",
       "  {'mean_test_error': 0.38134374353771383,\n",
       "   'mean_auc': array([0.61924905, 0.61924905]),\n",
       "   'report':               precision    recall  f1-score  support\n",
       "   0              0.637989  0.597393  0.616516   3023.8\n",
       "   1              0.601427  0.641105  0.620211   2863.8\n",
       "   accuracy            NaN       NaN  0.618656   5887.6\n",
       "   macro avg      0.619708  0.619249  0.618363   5887.6\n",
       "   weighted avg   0.620204  0.618656  0.618313   5887.6}),\n",
       " ({'objective': 'binary:hinge',\n",
       "   'eta': 0.1,\n",
       "   'nthread': 8,\n",
       "   'gpu_id': 0,\n",
       "   'tree_method': 'gpu_hist',\n",
       "   'gamma': 0.2,\n",
       "   'max_depth': 5,\n",
       "   'min_child_weight': 5},\n",
       "  {'mean_test_error': 0.38178527346548397,\n",
       "   'mean_auc': array([0.61890666, 0.61890666]),\n",
       "   'report':               precision    recall  f1-score  support\n",
       "   0              0.638178  0.593425  0.614792   3023.8\n",
       "   1              0.600227  0.644388  0.621360   2863.8\n",
       "   accuracy            NaN       NaN  0.618215   5887.6\n",
       "   macro avg      0.619202  0.618907  0.618076   5887.6\n",
       "   weighted avg   0.619718  0.618215  0.617987   5887.6}),\n",
       " ({'objective': 'binary:hinge',\n",
       "   'eta': 0.1,\n",
       "   'nthread': 8,\n",
       "   'gpu_id': 0,\n",
       "   'tree_method': 'gpu_hist',\n",
       "   'gamma': 0.2,\n",
       "   'max_depth': 5,\n",
       "   'min_child_weight': 7},\n",
       "  {'mean_test_error': 0.38069820731567716,\n",
       "   'mean_auc': array([0.61990197, 0.61990197]),\n",
       "   'report':               precision    recall  f1-score  support\n",
       "   0              0.638401  0.597790  0.617193   3023.8\n",
       "   1              0.601923  0.642014  0.621124   2863.8\n",
       "   accuracy            NaN       NaN  0.619302   5887.6\n",
       "   macro avg      0.620162  0.619902  0.619158   5887.6\n",
       "   weighted avg   0.620657  0.619302  0.619105   5887.6}),\n",
       " ({'objective': 'binary:hinge',\n",
       "   'eta': 0.1,\n",
       "   'nthread': 8,\n",
       "   'gpu_id': 0,\n",
       "   'tree_method': 'gpu_hist',\n",
       "   'gamma': 0.2,\n",
       "   'max_depth': 5,\n",
       "   'min_child_weight': 9},\n",
       "  {'mean_test_error': 0.3821588859203403,\n",
       "   'mean_auc': array([0.61864244, 0.61864244]),\n",
       "   'report':               precision    recall  f1-score  support\n",
       "   0              0.639014  0.589125  0.612800   3023.8\n",
       "   1              0.599128  0.648160  0.622474   2863.8\n",
       "   accuracy            NaN       NaN  0.617841   5887.6\n",
       "   macro avg      0.619071  0.618642  0.617637   5887.6\n",
       "   weighted avg   0.619613  0.617841  0.617506   5887.6}),\n",
       " ({'objective': 'binary:hinge',\n",
       "   'eta': 0.1,\n",
       "   'nthread': 8,\n",
       "   'gpu_id': 0,\n",
       "   'tree_method': 'gpu_hist',\n",
       "   'gamma': 0.2,\n",
       "   'max_depth': 7,\n",
       "   'min_child_weight': 1},\n",
       "  {'mean_test_error': 0.37655370090508933,\n",
       "   'mean_auc': array([0.62399689, 0.62399689]),\n",
       "   'report':               precision    recall  f1-score  support\n",
       "   0              0.641856  0.603745  0.622113   3023.8\n",
       "   1              0.606379  0.644249  0.624650   2863.8\n",
       "   accuracy            NaN       NaN  0.623446   5887.6\n",
       "   macro avg      0.624117  0.623997  0.623382   5887.6\n",
       "   weighted avg   0.624599  0.623446  0.623347   5887.6}),\n",
       " ({'objective': 'binary:hinge',\n",
       "   'eta': 0.1,\n",
       "   'nthread': 8,\n",
       "   'gpu_id': 0,\n",
       "   'tree_method': 'gpu_hist',\n",
       "   'gamma': 0.2,\n",
       "   'max_depth': 7,\n",
       "   'min_child_weight': 3},\n",
       "  {'mean_test_error': 0.3772331352796508,\n",
       "   'mean_auc': array([0.62323248, 0.62323248]),\n",
       "   'report':               precision    recall  f1-score  support\n",
       "   0              0.640263  0.606126  0.622653   3023.8\n",
       "   1              0.606317  0.640339  0.622796   2863.8\n",
       "   accuracy            NaN       NaN  0.622767   5887.6\n",
       "   macro avg      0.623290  0.623232  0.622725   5887.6\n",
       "   weighted avg   0.623751  0.622767  0.622723   5887.6}),\n",
       " ({'objective': 'binary:hinge',\n",
       "   'eta': 0.1,\n",
       "   'nthread': 8,\n",
       "   'gpu_id': 0,\n",
       "   'tree_method': 'gpu_hist',\n",
       "   'gamma': 0.2,\n",
       "   'max_depth': 7,\n",
       "   'min_child_weight': 5},\n",
       "  {'mean_test_error': 0.37743715311371406,\n",
       "   'mean_auc': array([0.62314061, 0.62314061]),\n",
       "   'report':               precision    recall  f1-score  support\n",
       "   0              0.641254  0.601892  0.620870   3023.8\n",
       "   1              0.605273  0.644389  0.624150   2863.8\n",
       "   accuracy            NaN       NaN  0.622563   5887.6\n",
       "   macro avg      0.623264  0.623141  0.622510   5887.6\n",
       "   weighted avg   0.623753  0.622563  0.622465   5887.6}),\n",
       " ({'objective': 'binary:hinge',\n",
       "   'eta': 0.1,\n",
       "   'nthread': 8,\n",
       "   'gpu_id': 0,\n",
       "   'tree_method': 'gpu_hist',\n",
       "   'gamma': 0.2,\n",
       "   'max_depth': 7,\n",
       "   'min_child_weight': 7},\n",
       "  {'mean_test_error': 0.37920342861204864,\n",
       "   'mean_auc': array([0.62132899, 0.62132899]),\n",
       "   'report':               precision    recall  f1-score  support\n",
       "   0              0.638976  0.601761  0.619671   3023.8\n",
       "   1              0.603955  0.640897  0.621756   2863.8\n",
       "   accuracy            NaN       NaN  0.620797   5887.6\n",
       "   macro avg      0.621465  0.621329  0.620714   5887.6\n",
       "   weighted avg   0.621941  0.620797  0.620685   5887.6}),\n",
       " ({'objective': 'binary:hinge',\n",
       "   'eta': 0.1,\n",
       "   'nthread': 8,\n",
       "   'gpu_id': 0,\n",
       "   'tree_method': 'gpu_hist',\n",
       "   'gamma': 0.2,\n",
       "   'max_depth': 7,\n",
       "   'min_child_weight': 9},\n",
       "  {'mean_test_error': 0.3771313658133987,\n",
       "   'mean_auc': array([0.6234713, 0.6234713]),\n",
       "   'report':               precision    recall  f1-score  support\n",
       "   0              0.641916  0.601297  0.620832   3023.8\n",
       "   1              0.605362  0.645645  0.624759   2863.8\n",
       "   accuracy            NaN       NaN  0.622869   5887.6\n",
       "   macro avg      0.623639  0.623471  0.622795   5887.6\n",
       "   weighted avg   0.624136  0.622869  0.622742   5887.6}),\n",
       " ({'objective': 'binary:hinge',\n",
       "   'eta': 0.1,\n",
       "   'nthread': 8,\n",
       "   'gpu_id': 0,\n",
       "   'tree_method': 'gpu_hist',\n",
       "   'gamma': 0.2,\n",
       "   'max_depth': 9,\n",
       "   'min_child_weight': 1},\n",
       "  {'mean_test_error': 0.3838236112085583,\n",
       "   'mean_auc': array([0.61738182, 0.61738182]),\n",
       "   'report':               precision    recall  f1-score  support\n",
       "   0              0.641450  0.573055  0.605277   3023.8\n",
       "   1              0.594809  0.661709  0.626441   2863.8\n",
       "   accuracy            NaN       NaN  0.616176   5887.6\n",
       "   macro avg      0.618129  0.617382  0.615859   5887.6\n",
       "   weighted avg   0.618763  0.616176  0.615571   5887.6}),\n",
       " ({'objective': 'binary:hinge',\n",
       "   'eta': 0.1,\n",
       "   'nthread': 8,\n",
       "   'gpu_id': 0,\n",
       "   'tree_method': 'gpu_hist',\n",
       "   'gamma': 0.2,\n",
       "   'max_depth': 9,\n",
       "   'min_child_weight': 3},\n",
       "  {'mean_test_error': 0.38327991946145157,\n",
       "   'mean_auc': array([0.61789415, 0.61789415]),\n",
       "   'report':               precision    recall  f1-score  support\n",
       "   0              0.641667  0.574708  0.606304   3023.8\n",
       "   1              0.595520  0.661080  0.626559   2863.8\n",
       "   accuracy            NaN       NaN  0.616720   5887.6\n",
       "   macro avg      0.618594  0.617894  0.616432   5887.6\n",
       "   weighted avg   0.619221  0.616720  0.616156   5887.6}),\n",
       " ({'objective': 'binary:hinge',\n",
       "   'eta': 0.1,\n",
       "   'nthread': 8,\n",
       "   'gpu_id': 0,\n",
       "   'tree_method': 'gpu_hist',\n",
       "   'gamma': 0.2,\n",
       "   'max_depth': 9,\n",
       "   'min_child_weight': 5},\n",
       "  {'mean_test_error': 0.38236270180796306,\n",
       "   'mean_auc': array([0.61881485, 0.61881485]),\n",
       "   'report':               precision    recall  f1-score  support\n",
       "   0              0.642674  0.575502  0.607196   3023.8\n",
       "   1              0.596366  0.662127  0.627498   2863.8\n",
       "   accuracy            NaN       NaN  0.617637   5887.6\n",
       "   macro avg      0.619520  0.618815  0.617347   5887.6\n",
       "   weighted avg   0.620149  0.617637  0.617071   5887.6}),\n",
       " ({'objective': 'binary:hinge',\n",
       "   'eta': 0.1,\n",
       "   'nthread': 8,\n",
       "   'gpu_id': 0,\n",
       "   'tree_method': 'gpu_hist',\n",
       "   'gamma': 0.2,\n",
       "   'max_depth': 9,\n",
       "   'min_child_weight': 7},\n",
       "  {'mean_test_error': 0.3810718947792114,\n",
       "   'mean_auc': array([0.61997365, 0.61997365]),\n",
       "   'report':               precision    recall  f1-score  support\n",
       "   0              0.642604  0.581521  0.610500   3023.8\n",
       "   1              0.598420  0.658426  0.626961   2863.8\n",
       "   accuracy            NaN       NaN  0.618928   5887.6\n",
       "   macro avg      0.620512  0.619974  0.618730   5887.6\n",
       "   weighted avg   0.621112  0.618928  0.618506   5887.6}),\n",
       " ({'objective': 'binary:hinge',\n",
       "   'eta': 0.1,\n",
       "   'nthread': 8,\n",
       "   'gpu_id': 0,\n",
       "   'tree_method': 'gpu_hist',\n",
       "   'gamma': 0.2,\n",
       "   'max_depth': 9,\n",
       "   'min_child_weight': 9},\n",
       "  {'mean_test_error': 0.38423121990421044,\n",
       "   'mean_auc': array([0.61684744, 0.61684744]),\n",
       "   'report':               precision    recall  f1-score  support\n",
       "   0              0.639599  0.577154  0.606738   3023.8\n",
       "   1              0.595230  0.656541  0.624355   2863.8\n",
       "   accuracy            NaN       NaN  0.615769   5887.6\n",
       "   macro avg      0.617414  0.616847  0.615547   5887.6\n",
       "   weighted avg   0.618017  0.615769  0.615308   5887.6}),\n",
       " ({'objective': 'binary:hinge',\n",
       "   'eta': 0.1,\n",
       "   'nthread': 8,\n",
       "   'gpu_id': 0,\n",
       "   'tree_method': 'gpu_hist',\n",
       "   'gamma': 0.2,\n",
       "   'max_depth': 11,\n",
       "   'min_child_weight': 1},\n",
       "  {'mean_test_error': 0.3928594912057518,\n",
       "   'mean_auc': array([0.60838491, 0.60838491]),\n",
       "   'report':               precision    recall  f1-score  support\n",
       "   0              0.632060  0.562604  0.595287   3023.8\n",
       "   1              0.586183  0.654166  0.618292   2863.8\n",
       "   accuracy            NaN       NaN  0.607141   5887.6\n",
       "   macro avg      0.609122  0.608385  0.606790   5887.6\n",
       "   weighted avg   0.609745  0.607141  0.606477   5887.6}),\n",
       " ({'objective': 'binary:hinge',\n",
       "   'eta': 0.1,\n",
       "   'nthread': 8,\n",
       "   'gpu_id': 0,\n",
       "   'tree_method': 'gpu_hist',\n",
       "   'gamma': 0.2,\n",
       "   'max_depth': 11,\n",
       "   'min_child_weight': 3},\n",
       "  {'mean_test_error': 0.3913987895214954,\n",
       "   'mean_auc': array([0.60985169, 0.60985169]),\n",
       "   'report':               precision    recall  f1-score  support\n",
       "   0              0.633761  0.563861  0.596709   3023.8\n",
       "   1              0.587504  0.655842  0.619748   2863.8\n",
       "   accuracy            NaN       NaN  0.608601   5887.6\n",
       "   macro avg      0.610633  0.609852  0.608228   5887.6\n",
       "   weighted avg   0.611261  0.608601  0.607915   5887.6}),\n",
       " ({'objective': 'binary:hinge',\n",
       "   'eta': 0.1,\n",
       "   'nthread': 8,\n",
       "   'gpu_id': 0,\n",
       "   'tree_method': 'gpu_hist',\n",
       "   'gamma': 0.2,\n",
       "   'max_depth': 11,\n",
       "   'min_child_weight': 5},\n",
       "  {'mean_test_error': 0.38912280120715503,\n",
       "   'mean_auc': array([0.61217615, 0.61217615]),\n",
       "   'report':               precision    recall  f1-score  support\n",
       "   0              0.636703  0.564390  0.598357   3023.8\n",
       "   1              0.589308  0.659963  0.622628   2863.8\n",
       "   accuracy            NaN       NaN  0.610877   5887.6\n",
       "   macro avg      0.613005  0.612176  0.610493   5887.6\n",
       "   weighted avg   0.613649  0.610877  0.610163   5887.6}),\n",
       " ({'objective': 'binary:hinge',\n",
       "   'eta': 0.1,\n",
       "   'nthread': 8,\n",
       "   'gpu_id': 0,\n",
       "   'tree_method': 'gpu_hist',\n",
       "   'gamma': 0.2,\n",
       "   'max_depth': 11,\n",
       "   'min_child_weight': 7},\n",
       "  {'mean_test_error': 0.39017587111616603,\n",
       "   'mean_auc': array([0.61104189, 0.61104189]),\n",
       "   'report':               precision    recall  f1-score  support\n",
       "   0              0.634678  0.566241  0.598503   3023.8\n",
       "   1              0.588813  0.655842  0.620518   2863.8\n",
       "   accuracy            NaN       NaN  0.609824   5887.6\n",
       "   macro avg      0.611745  0.611042  0.609510   5887.6\n",
       "   weighted avg   0.612369  0.609824  0.609211   5887.6}),\n",
       " ({'objective': 'binary:hinge',\n",
       "   'eta': 0.1,\n",
       "   'nthread': 8,\n",
       "   'gpu_id': 0,\n",
       "   'tree_method': 'gpu_hist',\n",
       "   'gamma': 0.2,\n",
       "   'max_depth': 11,\n",
       "   'min_child_weight': 9},\n",
       "  {'mean_test_error': 0.38769615346267755,\n",
       "   'mean_auc': array([0.61354678, 0.61354678]),\n",
       "   'report':               precision    recall  f1-score  support\n",
       "   0              0.637640  0.567830  0.600675   3023.8\n",
       "   1              0.590995  0.659264  0.623236   2863.8\n",
       "   accuracy            NaN       NaN  0.612304   5887.6\n",
       "   macro avg      0.614317  0.613547  0.611955   5887.6\n",
       "   weighted avg   0.614951  0.612304  0.611649   5887.6}),\n",
       " ({'objective': 'binary:hinge',\n",
       "   'eta': 0.1,\n",
       "   'nthread': 8,\n",
       "   'gpu_id': 0,\n",
       "   'tree_method': 'gpu_hist',\n",
       "   'gamma': 0.3,\n",
       "   'max_depth': 5,\n",
       "   'min_child_weight': 1},\n",
       "  {'mean_test_error': 0.38256658693436535,\n",
       "   'mean_auc': array([0.61785083, 0.61785083]),\n",
       "   'report':               precision    recall  f1-score  support\n",
       "   0              0.634503  0.602487  0.617952   3023.8\n",
       "   1              0.601361  0.633215  0.616764   2863.8\n",
       "   accuracy            NaN       NaN  0.617433   5887.6\n",
       "   macro avg      0.617932  0.617851  0.617358   5887.6\n",
       "   weighted avg   0.618382  0.617433  0.617374   5887.6}),\n",
       " ({'objective': 'binary:hinge',\n",
       "   'eta': 0.1,\n",
       "   'nthread': 8,\n",
       "   'gpu_id': 0,\n",
       "   'tree_method': 'gpu_hist',\n",
       "   'gamma': 0.3,\n",
       "   'max_depth': 5,\n",
       "   'min_child_weight': 3},\n",
       "  {'mean_test_error': 0.3813096492086469,\n",
       "   'mean_auc': array([0.61933807, 0.61933807]),\n",
       "   'report':               precision    recall  f1-score  support\n",
       "   0              0.638491  0.595475  0.615814   3023.8\n",
       "   1              0.601040  0.643201  0.621070   2863.8\n",
       "   accuracy            NaN       NaN  0.618690   5887.6\n",
       "   macro avg      0.619765  0.619338  0.618442   5887.6\n",
       "   weighted avg   0.620274  0.618690  0.618371   5887.6}),\n",
       " ({'objective': 'binary:hinge',\n",
       "   'eta': 0.1,\n",
       "   'nthread': 8,\n",
       "   'gpu_id': 0,\n",
       "   'tree_method': 'gpu_hist',\n",
       "   'gamma': 0.3,\n",
       "   'max_depth': 5,\n",
       "   'min_child_weight': 5},\n",
       "  {'mean_test_error': 0.38120789128219135,\n",
       "   'mean_auc': array([0.61948523, 0.61948523]),\n",
       "   'report':               precision    recall  f1-score  support\n",
       "   0              0.638798  0.593954  0.615349   3023.8\n",
       "   1              0.600787  0.645017  0.621940   2863.8\n",
       "   accuracy            NaN       NaN  0.618792   5887.6\n",
       "   macro avg      0.619793  0.619485  0.618644   5887.6\n",
       "   weighted avg   0.620309  0.618792  0.618555   5887.6}),\n",
       " ({'objective': 'binary:hinge',\n",
       "   'eta': 0.1,\n",
       "   'nthread': 8,\n",
       "   'gpu_id': 0,\n",
       "   'tree_method': 'gpu_hist',\n",
       "   'gamma': 0.3,\n",
       "   'max_depth': 5,\n",
       "   'min_child_weight': 7},\n",
       "  {'mean_test_error': 0.38127569912703746,\n",
       "   'mean_auc': array([0.61931052, 0.61931052]),\n",
       "   'report':               precision    recall  f1-score  support\n",
       "   0              0.637547  0.597725  0.616838   3023.8\n",
       "   1              0.601452  0.640896  0.620417   2863.8\n",
       "   accuracy            NaN       NaN  0.618724   5887.6\n",
       "   macro avg      0.619499  0.619311  0.618628   5887.6\n",
       "   weighted avg   0.619990  0.618724  0.618579   5887.6}),\n",
       " ({'objective': 'binary:hinge',\n",
       "   'eta': 0.1,\n",
       "   'nthread': 8,\n",
       "   'gpu_id': 0,\n",
       "   'tree_method': 'gpu_hist',\n",
       "   'gamma': 0.3,\n",
       "   'max_depth': 5,\n",
       "   'min_child_weight': 9},\n",
       "  {'mean_test_error': 0.38283828567551204,\n",
       "   'mean_auc': array([0.61786522, 0.61786522]),\n",
       "   'report':               precision    recall  f1-score  support\n",
       "   0              0.637289  0.591971  0.613505   3023.8\n",
       "   1              0.599171  0.643760  0.620435   2863.8\n",
       "   accuracy            NaN       NaN  0.617162   5887.6\n",
       "   macro avg      0.618230  0.617865  0.616970   5887.6\n",
       "   weighted avg   0.618748  0.617162  0.616876   5887.6}),\n",
       " ({'objective': 'binary:hinge',\n",
       "   'eta': 0.1,\n",
       "   'nthread': 8,\n",
       "   'gpu_id': 0,\n",
       "   'tree_method': 'gpu_hist',\n",
       "   'gamma': 0.3,\n",
       "   'max_depth': 7,\n",
       "   'min_child_weight': 1},\n",
       "  {'mean_test_error': 0.3766896397090863,\n",
       "   'mean_auc': array([0.62384214, 0.62384214]),\n",
       "   'report':               precision    recall  f1-score  support\n",
       "   0              0.641545  0.604273  0.622273   3023.8\n",
       "   1              0.606329  0.643411  0.624250   2863.8\n",
       "   accuracy            NaN       NaN  0.623310   5887.6\n",
       "   macro avg      0.623937  0.623842  0.623262   5887.6\n",
       "   weighted avg   0.624415  0.623310  0.623235   5887.6}),\n",
       " ({'objective': 'binary:hinge',\n",
       "   'eta': 0.1,\n",
       "   'nthread': 8,\n",
       "   'gpu_id': 0,\n",
       "   'tree_method': 'gpu_hist',\n",
       "   'gamma': 0.3,\n",
       "   'max_depth': 7,\n",
       "   'min_child_weight': 3},\n",
       "  {'mean_test_error': 0.3774368992381888,\n",
       "   'mean_auc': array([0.62307837, 0.62307837]),\n",
       "   'report':               precision    recall  f1-score  support\n",
       "   0              0.640607  0.604142  0.621756   3023.8\n",
       "   1              0.605733  0.642015  0.623271   2863.8\n",
       "   accuracy            NaN       NaN  0.622563   5887.6\n",
       "   macro avg      0.623170  0.623078  0.622514   5887.6\n",
       "   weighted avg   0.623644  0.622563  0.622493   5887.6}),\n",
       " ({'objective': 'binary:hinge',\n",
       "   'eta': 0.1,\n",
       "   'nthread': 8,\n",
       "   'gpu_id': 0,\n",
       "   'tree_method': 'gpu_hist',\n",
       "   'gamma': 0.3,\n",
       "   'max_depth': 7,\n",
       "   'min_child_weight': 5},\n",
       "  {'mean_test_error': 0.3773692414106986,\n",
       "   'mean_auc': array([0.62322503, 0.62322503]),\n",
       "   'report':               precision    recall  f1-score  support\n",
       "   0              0.641488  0.601363  0.620708   3023.8\n",
       "   1              0.605215  0.645087  0.624454   2863.8\n",
       "   accuracy            NaN       NaN  0.622631   5887.6\n",
       "   macro avg      0.623351  0.623225  0.622581   5887.6\n",
       "   weighted avg   0.623844  0.622631  0.622530   5887.6}),\n",
       " ({'objective': 'binary:hinge',\n",
       "   'eta': 0.1,\n",
       "   'nthread': 8,\n",
       "   'gpu_id': 0,\n",
       "   'tree_method': 'gpu_hist',\n",
       "   'gamma': 0.3,\n",
       "   'max_depth': 7,\n",
       "   'min_child_weight': 7},\n",
       "  {'mean_test_error': 0.3759764341197628,\n",
       "   'mean_auc': array([0.62465696, 0.62465696]),\n",
       "   'report':               precision    recall  f1-score  support\n",
       "   0              0.643353  0.601364  0.621551   3023.8\n",
       "   1              0.606309  0.647950  0.626353   2863.8\n",
       "   accuracy            NaN       NaN  0.624024   5887.6\n",
       "   macro avg      0.624831  0.624657  0.623952   5887.6\n",
       "   weighted avg   0.625335  0.624024  0.623887   5887.6}),\n",
       " ({'objective': 'binary:hinge',\n",
       "   'eta': 0.1,\n",
       "   'nthread': 8,\n",
       "   'gpu_id': 0,\n",
       "   'tree_method': 'gpu_hist',\n",
       "   'gamma': 0.3,\n",
       "   'max_depth': 7,\n",
       "   'min_child_weight': 9},\n",
       "  {'mean_test_error': 0.3766559435030022,\n",
       "   'mean_auc': array([0.62397112, 0.62397112]),\n",
       "   'report':               precision    recall  f1-score  support\n",
       "   0              0.642648  0.600900  0.620962   3023.8\n",
       "   1              0.605662  0.647042  0.625573   2863.8\n",
       "   accuracy            NaN       NaN  0.623344   5887.6\n",
       "   macro avg      0.624155  0.623971  0.623268   5887.6\n",
       "   weighted avg   0.624658  0.623344  0.623205   5887.6}),\n",
       " ({'objective': 'binary:hinge',\n",
       "   'eta': 0.1,\n",
       "   'nthread': 8,\n",
       "   'gpu_id': 0,\n",
       "   'tree_method': 'gpu_hist',\n",
       "   'gamma': 0.3,\n",
       "   'max_depth': 9,\n",
       "   'min_child_weight': 1},\n",
       "  {'mean_test_error': 0.38188735450624445,\n",
       "   'mean_auc': array([0.61936985, 0.61936985]),\n",
       "   'report':               precision    recall  f1-score  support\n",
       "   0              0.644116  0.573121  0.606525   3023.8\n",
       "   1              0.596257  0.665619  0.629015   2863.8\n",
       "   accuracy            NaN       NaN  0.618113   5887.6\n",
       "   macro avg      0.620187  0.619370  0.617770   5887.6\n",
       "   weighted avg   0.620837  0.618113  0.617464   5887.6}),\n",
       " ({'objective': 'binary:hinge',\n",
       "   'eta': 0.1,\n",
       "   'nthread': 8,\n",
       "   'gpu_id': 0,\n",
       "   'tree_method': 'gpu_hist',\n",
       "   'gamma': 0.3,\n",
       "   'max_depth': 9,\n",
       "   'min_child_weight': 3},\n",
       "  {'mean_test_error': 0.38195512773170065,\n",
       "   'mean_auc': array([0.61921154, 0.61921154]),\n",
       "   'report':               precision    recall  f1-score  support\n",
       "   0              0.642987  0.576296  0.607790   3023.8\n",
       "   1              0.596804  0.662127  0.627750   2863.8\n",
       "   accuracy            NaN       NaN  0.618045   5887.6\n",
       "   macro avg      0.619896  0.619212  0.617770   5887.6\n",
       "   weighted avg   0.620523  0.618045  0.617499   5887.6}),\n",
       " ({'objective': 'binary:hinge',\n",
       "   'eta': 0.1,\n",
       "   'nthread': 8,\n",
       "   'gpu_id': 0,\n",
       "   'tree_method': 'gpu_hist',\n",
       "   'gamma': 0.3,\n",
       "   'max_depth': 9,\n",
       "   'min_child_weight': 5},\n",
       "  {'mean_test_error': 0.38545402291157377,\n",
       "   'mean_auc': array([0.61568515, 0.61568515]),\n",
       "   'report':               precision    recall  f1-score  support\n",
       "   0              0.638937  0.573782  0.604572   3023.8\n",
       "   1              0.593712  0.657588  0.623992   2863.8\n",
       "   accuracy            NaN       NaN  0.614546   5887.6\n",
       "   macro avg      0.616324  0.615685  0.614282   5887.6\n",
       "   weighted avg   0.616939  0.614546  0.614018   5887.6}),\n",
       " ({'objective': 'binary:hinge',\n",
       "   'eta': 0.1,\n",
       "   'nthread': 8,\n",
       "   'gpu_id': 0,\n",
       "   'tree_method': 'gpu_hist',\n",
       "   'gamma': 0.3,\n",
       "   'max_depth': 9,\n",
       "   'min_child_weight': 7},\n",
       "  {'mean_test_error': 0.38161544804875885,\n",
       "   'mean_auc': array([0.61942763, 0.61942763]),\n",
       "   'report':               precision    recall  f1-score  support\n",
       "   0              0.641974  0.581057  0.609978   3023.8\n",
       "   1              0.597920  0.657798  0.626416   2863.8\n",
       "   accuracy            NaN       NaN  0.618385   5887.6\n",
       "   macro avg      0.619947  0.619428  0.618197   5887.6\n",
       "   weighted avg   0.620546  0.618385  0.617973   5887.6}),\n",
       " ({'objective': 'binary:hinge',\n",
       "   'eta': 0.1,\n",
       "   'nthread': 8,\n",
       "   'gpu_id': 0,\n",
       "   'tree_method': 'gpu_hist',\n",
       "   'gamma': 0.3,\n",
       "   'max_depth': 9,\n",
       "   'min_child_weight': 9},\n",
       "  {'mean_test_error': 0.3835857529209533,\n",
       "   'mean_auc': array([0.6175348, 0.6175348]),\n",
       "   'report':               precision    recall  f1-score  support\n",
       "   0              0.640728  0.576295  0.606797   3023.8\n",
       "   1              0.595551  0.658775  0.625563   2863.8\n",
       "   accuracy            NaN       NaN  0.616414   5887.6\n",
       "   macro avg      0.618140  0.617535  0.616180   5887.6\n",
       "   weighted avg   0.618753  0.616414  0.615925   5887.6}),\n",
       " ({'objective': 'binary:hinge',\n",
       "   'eta': 0.1,\n",
       "   'nthread': 8,\n",
       "   'gpu_id': 0,\n",
       "   'tree_method': 'gpu_hist',\n",
       "   'gamma': 0.3,\n",
       "   'max_depth': 11,\n",
       "   'min_child_weight': 1},\n",
       "  {'mean_test_error': 0.3905155046399214,\n",
       "   'mean_auc': array([0.61069264, 0.61069264]),\n",
       "   'report':               precision    recall  f1-score  support\n",
       "   0              0.634208  0.566242  0.598269   3023.8\n",
       "   1              0.588582  0.655143  0.620058   2863.8\n",
       "   accuracy            NaN       NaN  0.609484   5887.6\n",
       "   macro avg      0.611395  0.610693  0.609163   5887.6\n",
       "   weighted avg   0.612015  0.609484  0.608867   5887.6}),\n",
       " ({'objective': 'binary:hinge',\n",
       "   'eta': 0.1,\n",
       "   'nthread': 8,\n",
       "   'gpu_id': 0,\n",
       "   'tree_method': 'gpu_hist',\n",
       "   'gamma': 0.3,\n",
       "   'max_depth': 11,\n",
       "   'min_child_weight': 3},\n",
       "  {'mean_test_error': 0.38868125396969005,\n",
       "   'mean_auc': array([0.61254506, 0.61254506]),\n",
       "   'report':               precision    recall  f1-score  support\n",
       "   0              0.636448  0.567432  0.599940   3023.8\n",
       "   1              0.590122  0.657658  0.622046   2863.8\n",
       "   accuracy            NaN       NaN  0.611319   5887.6\n",
       "   macro avg      0.613285  0.612545  0.610993   5887.6\n",
       "   weighted avg   0.613914  0.611319  0.610692   5887.6}),\n",
       " ({'objective': 'binary:hinge',\n",
       "   'eta': 0.1,\n",
       "   'nthread': 8,\n",
       "   'gpu_id': 0,\n",
       "   'tree_method': 'gpu_hist',\n",
       "   'gamma': 0.3,\n",
       "   'max_depth': 11,\n",
       "   'min_child_weight': 5},\n",
       "  {'mean_test_error': 0.38939460957636945,\n",
       "   'mean_auc': array([0.6119043, 0.6119043]),\n",
       "   'report':               precision    recall  f1-score  support\n",
       "   0              0.636441  0.564126  0.598063   3023.8\n",
       "   1              0.589064  0.659683  0.622346   2863.8\n",
       "   accuracy            NaN       NaN  0.610605   5887.6\n",
       "   macro avg      0.612753  0.611904  0.610205   5887.6\n",
       "   weighted avg   0.613397  0.610605  0.609874   5887.6}),\n",
       " ({'objective': 'binary:hinge',\n",
       "   'eta': 0.1,\n",
       "   'nthread': 8,\n",
       "   'gpu_id': 0,\n",
       "   'tree_method': 'gpu_hist',\n",
       "   'gamma': 0.3,\n",
       "   'max_depth': 11,\n",
       "   'min_child_weight': 7},\n",
       "  {'mean_test_error': 0.39020961925133496,\n",
       "   'mean_auc': array([0.61102586, 0.61102586]),\n",
       "   'report':               precision    recall  f1-score  support\n",
       "   0              0.634794  0.565581  0.598167   3023.8\n",
       "   1              0.588723  0.656471  0.620735   2863.8\n",
       "   accuracy            NaN       NaN  0.609790   5887.6\n",
       "   macro avg      0.611759  0.611026  0.609451   5887.6\n",
       "   weighted avg   0.612385  0.609790  0.609144   5887.6}),\n",
       " ({'objective': 'binary:hinge',\n",
       "   'eta': 0.1,\n",
       "   'nthread': 8,\n",
       "   'gpu_id': 0,\n",
       "   'tree_method': 'gpu_hist',\n",
       "   'gamma': 0.3,\n",
       "   'max_depth': 11,\n",
       "   'min_child_weight': 9},\n",
       "  {'mean_test_error': 0.38803582160582273,\n",
       "   'mean_auc': array([0.61319343, 0.61319343]),\n",
       "   'report':               precision    recall  f1-score  support\n",
       "   0              0.637147  0.567961  0.600554   3023.8\n",
       "   1              0.590718  0.658426  0.622727   2863.8\n",
       "   accuracy            NaN       NaN  0.611964   5887.6\n",
       "   macro avg      0.613932  0.613193  0.611640   5887.6\n",
       "   weighted avg   0.614563  0.611964  0.611339   5887.6}),\n",
       " ({'objective': 'binary:hinge',\n",
       "   'eta': 0.1,\n",
       "   'nthread': 8,\n",
       "   'gpu_id': 0,\n",
       "   'tree_method': 'gpu_hist',\n",
       "   'gamma': 0.4,\n",
       "   'max_depth': 5,\n",
       "   'min_child_weight': 1},\n",
       "  {'mean_test_error': 0.383449808347058,\n",
       "   'mean_auc': array([0.61707982, 0.61707982]),\n",
       "   'report':               precision    recall  f1-score  support\n",
       "   0              0.634862  0.597593  0.615419   3023.8\n",
       "   1              0.599739  0.636567  0.617395   2863.8\n",
       "   accuracy            NaN       NaN  0.616550   5887.6\n",
       "   macro avg      0.617301  0.617080  0.616407   5887.6\n",
       "   weighted avg   0.617778  0.616550  0.616380   5887.6}),\n",
       " ({'objective': 'binary:hinge',\n",
       "   'eta': 0.1,\n",
       "   'nthread': 8,\n",
       "   'gpu_id': 0,\n",
       "   'tree_method': 'gpu_hist',\n",
       "   'gamma': 0.4,\n",
       "   'max_depth': 5,\n",
       "   'min_child_weight': 3},\n",
       "  {'mean_test_error': 0.38215892630962844,\n",
       "   'mean_auc': array([0.61845925, 0.61845925]),\n",
       "   'report':               precision    recall  f1-score  support\n",
       "   0              0.637165  0.595673  0.615361   3023.8\n",
       "   1              0.600468  0.641245  0.619886   2863.8\n",
       "   accuracy            NaN       NaN  0.617841   5887.6\n",
       "   macro avg      0.618816  0.618459  0.617623   5887.6\n",
       "   weighted avg   0.619315  0.617841  0.617562   5887.6}),\n",
       " ({'objective': 'binary:hinge',\n",
       "   'eta': 0.1,\n",
       "   'nthread': 8,\n",
       "   'gpu_id': 0,\n",
       "   'tree_method': 'gpu_hist',\n",
       "   'gamma': 0.4,\n",
       "   'max_depth': 5,\n",
       "   'min_child_weight': 5},\n",
       "  {'mean_test_error': 0.3821590070882047,\n",
       "   'mean_auc': array([0.6185001, 0.6185001]),\n",
       "   'report':               precision    recall  f1-score  support\n",
       "   0              0.637356  0.594218  0.614891   3023.8\n",
       "   1              0.600101  0.642782  0.620588   2863.8\n",
       "   accuracy            NaN       NaN  0.617841   5887.6\n",
       "   macro avg      0.618729  0.618500  0.617739   5887.6\n",
       "   weighted avg   0.619235  0.617841  0.617662   5887.6}),\n",
       " ({'objective': 'binary:hinge',\n",
       "   'eta': 0.1,\n",
       "   'nthread': 8,\n",
       "   'gpu_id': 0,\n",
       "   'tree_method': 'gpu_hist',\n",
       "   'gamma': 0.4,\n",
       "   'max_depth': 5,\n",
       "   'min_child_weight': 7},\n",
       "  {'mean_test_error': 0.38151340739728656,\n",
       "   'mean_auc': array([0.61894771, 0.61894771]),\n",
       "   'report':               precision    recall  f1-score  support\n",
       "   0              0.636198  0.601957  0.618341   3023.8\n",
       "   1              0.602103  0.635938  0.618325   2863.8\n",
       "   accuracy            NaN       NaN  0.618487   5887.6\n",
       "   macro avg      0.619151  0.618948  0.618333   5887.6\n",
       "   weighted avg   0.619614  0.618487  0.618333   5887.6}),\n",
       " ({'objective': 'binary:hinge',\n",
       "   'eta': 0.1,\n",
       "   'nthread': 8,\n",
       "   'gpu_id': 0,\n",
       "   'tree_method': 'gpu_hist',\n",
       "   'gamma': 0.4,\n",
       "   'max_depth': 5,\n",
       "   'min_child_weight': 9},\n",
       "  {'mean_test_error': 0.38093596751501096,\n",
       "   'mean_auc': array([0.61970811, 0.61970811]),\n",
       "   'report':               precision    recall  f1-score  support\n",
       "   0              0.638518  0.596006  0.616272   3023.8\n",
       "   1              0.601483  0.643411  0.621535   2863.8\n",
       "   accuracy            NaN       NaN  0.619064   5887.6\n",
       "   macro avg      0.620001  0.619708  0.618904   5887.6\n",
       "   weighted avg   0.620504  0.619064  0.618832   5887.6}),\n",
       " ({'objective': 'binary:hinge',\n",
       "   'eta': 0.1,\n",
       "   'nthread': 8,\n",
       "   'gpu_id': 0,\n",
       "   'tree_method': 'gpu_hist',\n",
       "   'gamma': 0.4,\n",
       "   'max_depth': 7,\n",
       "   'min_child_weight': 1},\n",
       "  {'mean_test_error': 0.37777681548696096,\n",
       "   'mean_auc': array([0.62279855, 0.62279855]),\n",
       "   'report':               precision    recall  f1-score  support\n",
       "   0              0.640912  0.601628  0.620573   3023.8\n",
       "   1              0.604928  0.643969  0.623772   2863.8\n",
       "   accuracy            NaN       NaN  0.622223   5887.6\n",
       "   macro avg      0.622920  0.622799  0.622173   5887.6\n",
       "   weighted avg   0.623409  0.622223  0.622129   5887.6}),\n",
       " ({'objective': 'binary:hinge',\n",
       "   'eta': 0.1,\n",
       "   'nthread': 8,\n",
       "   'gpu_id': 0,\n",
       "   'tree_method': 'gpu_hist',\n",
       "   'gamma': 0.4,\n",
       "   'max_depth': 7,\n",
       "   'min_child_weight': 3},\n",
       "  {'mean_test_error': 0.3777428019364702,\n",
       "   'mean_auc': array([0.62279891, 0.62279891]),\n",
       "   'report':               precision    recall  f1-score  support\n",
       "   0              0.640607  0.602885  0.621093   3023.8\n",
       "   1              0.605203  0.642713  0.623323   2863.8\n",
       "   accuracy            NaN       NaN  0.622257   5887.6\n",
       "   macro avg      0.622905  0.622799  0.622208   5887.6\n",
       "   weighted avg   0.623386  0.622257  0.622177   5887.6}),\n",
       " ({'objective': 'binary:hinge',\n",
       "   'eta': 0.1,\n",
       "   'nthread': 8,\n",
       "   'gpu_id': 0,\n",
       "   'tree_method': 'gpu_hist',\n",
       "   'gamma': 0.4,\n",
       "   'max_depth': 7,\n",
       "   'min_child_weight': 5},\n",
       "  {'mean_test_error': 0.37655393747091975,\n",
       "   'mean_auc': array([0.62396348, 0.62396348]),\n",
       "   'report':               precision    recall  f1-score  support\n",
       "   0              0.641532  0.604935  0.622641   3023.8\n",
       "   1              0.606538  0.642992  0.624184   2863.8\n",
       "   accuracy            NaN       NaN  0.623446   5887.6\n",
       "   macro avg      0.624035  0.623963  0.623413   5887.6\n",
       "   weighted avg   0.624511  0.623446  0.623391   5887.6}),\n",
       " ({'objective': 'binary:hinge',\n",
       "   'eta': 0.1,\n",
       "   'nthread': 8,\n",
       "   'gpu_id': 0,\n",
       "   'tree_method': 'gpu_hist',\n",
       "   'gamma': 0.4,\n",
       "   'max_depth': 7,\n",
       "   'min_child_weight': 7},\n",
       "  {'mean_test_error': 0.3774711031953235,\n",
       "   'mean_auc': array([0.62313698, 0.62313698]),\n",
       "   'report':               precision    recall  f1-score  support\n",
       "   0              0.641505  0.600768  0.620342   3023.8\n",
       "   1              0.605113  0.645506  0.624548   2863.8\n",
       "   accuracy            NaN       NaN  0.622529   5887.6\n",
       "   macro avg      0.623309  0.623137  0.622445   5887.6\n",
       "   weighted avg   0.623803  0.622529  0.622388   5887.6}),\n",
       " ({'objective': 'binary:hinge',\n",
       "   'eta': 0.1,\n",
       "   'nthread': 8,\n",
       "   'gpu_id': 0,\n",
       "   'tree_method': 'gpu_hist',\n",
       "   'gamma': 0.4,\n",
       "   'max_depth': 7,\n",
       "   'min_child_weight': 9},\n",
       "  {'mean_test_error': 0.3781164605505129,\n",
       "   'mean_auc': array([0.62256425, 0.62256425]),\n",
       "   'report':               precision    recall  f1-score  support\n",
       "   0              0.641679  0.597527  0.618717   3023.8\n",
       "   1              0.603868  0.647601  0.624886   2863.8\n",
       "   accuracy            NaN       NaN  0.621884   5887.6\n",
       "   macro avg      0.622774  0.622564  0.621802   5887.6\n",
       "   weighted avg   0.623287  0.621884  0.621718   5887.6}),\n",
       " ({'objective': 'binary:hinge',\n",
       "   'eta': 0.1,\n",
       "   'nthread': 8,\n",
       "   'gpu_id': 0,\n",
       "   'tree_method': 'gpu_hist',\n",
       "   'gamma': 0.4,\n",
       "   'max_depth': 9,\n",
       "   'min_child_weight': 1},\n",
       "  {'mean_test_error': 0.3823968365263181,\n",
       "   'mean_auc': array([0.61877276, 0.61877276]),\n",
       "   'report':               precision    recall  f1-score  support\n",
       "   0              0.642590  0.575767  0.607264   3023.8\n",
       "   1              0.596406  0.661778  0.627330   2863.8\n",
       "   accuracy            NaN       NaN  0.617603   5887.6\n",
       "   macro avg      0.619498  0.618773  0.617297   5887.6\n",
       "   weighted avg   0.620126  0.617603  0.617024   5887.6}),\n",
       " ({'objective': 'binary:hinge',\n",
       "   'eta': 0.1,\n",
       "   'nthread': 8,\n",
       "   'gpu_id': 0,\n",
       "   'tree_method': 'gpu_hist',\n",
       "   'gamma': 0.4,\n",
       "   'max_depth': 9,\n",
       "   'min_child_weight': 3},\n",
       "  {'mean_test_error': 0.3837894649504066,\n",
       "   'mean_auc': array([0.6173848, 0.6173848]),\n",
       "   'report':               precision    recall  f1-score  support\n",
       "   0              0.641115  0.574179  0.605784   3023.8\n",
       "   1              0.595023  0.660591  0.626080   2863.8\n",
       "   accuracy            NaN       NaN  0.616211   5887.6\n",
       "   macro avg      0.618069  0.617385  0.615932   5887.6\n",
       "   weighted avg   0.618695  0.616211  0.615656   5887.6}),\n",
       " ({'objective': 'binary:hinge',\n",
       "   'eta': 0.1,\n",
       "   'nthread': 8,\n",
       "   'gpu_id': 0,\n",
       "   'tree_method': 'gpu_hist',\n",
       "   'gamma': 0.4,\n",
       "   'max_depth': 9,\n",
       "   'min_child_weight': 5},\n",
       "  {'mean_test_error': 0.3833139676313321,\n",
       "   'mean_auc': array([0.61781315, 0.61781315]),\n",
       "   'report':               precision    recall  f1-score  support\n",
       "   0              0.641086  0.576362  0.606969   3023.8\n",
       "   1              0.595797  0.659264  0.625900   2863.8\n",
       "   accuracy            NaN       NaN  0.616686   5887.6\n",
       "   macro avg      0.618442  0.617813  0.616434   5887.6\n",
       "   weighted avg   0.619057  0.616686  0.616177   5887.6}),\n",
       " ({'objective': 'binary:hinge',\n",
       "   'eta': 0.1,\n",
       "   'nthread': 8,\n",
       "   'gpu_id': 0,\n",
       "   'tree_method': 'gpu_hist',\n",
       "   'gamma': 0.4,\n",
       "   'max_depth': 9,\n",
       "   'min_child_weight': 7},\n",
       "  {'mean_test_error': 0.38229483626413396,\n",
       "   'mean_auc': array([0.61879054, 0.61879054]),\n",
       "   'report':               precision    recall  f1-score  support\n",
       "   0              0.641706  0.578875  0.608638   3023.8\n",
       "   1              0.597031  0.658706  0.626326   2863.8\n",
       "   accuracy            NaN       NaN  0.617705   5887.6\n",
       "   macro avg      0.619368  0.618791  0.617482   5887.6\n",
       "   weighted avg   0.619976  0.617705  0.617241   5887.6}),\n",
       " ({'objective': 'binary:hinge',\n",
       "   'eta': 0.1,\n",
       "   'nthread': 8,\n",
       "   'gpu_id': 0,\n",
       "   'tree_method': 'gpu_hist',\n",
       "   'gamma': 0.4,\n",
       "   'max_depth': 9,\n",
       "   'min_child_weight': 9},\n",
       "  {'mean_test_error': 0.38249873870023116,\n",
       "   'mean_auc': array([0.61854402, 0.61854402]),\n",
       "   'report':               precision    recall  f1-score  support\n",
       "   0              0.641024  0.580198  0.609054   3023.8\n",
       "   1              0.597122  0.656890  0.625548   2863.8\n",
       "   accuracy            NaN       NaN  0.617501   5887.6\n",
       "   macro avg      0.619073  0.618544  0.617301   5887.6\n",
       "   weighted avg   0.619669  0.617501  0.617077   5887.6}),\n",
       " ({'objective': 'binary:hinge',\n",
       "   'eta': 0.1,\n",
       "   'nthread': 8,\n",
       "   'gpu_id': 0,\n",
       "   'tree_method': 'gpu_hist',\n",
       "   'gamma': 0.4,\n",
       "   'max_depth': 11,\n",
       "   'min_child_weight': 1},\n",
       "  {'mean_test_error': 0.3893265767054896,\n",
       "   'mean_auc': array([0.61191678, 0.61191678]),\n",
       "   'report':               precision    recall  f1-score  support\n",
       "   0              0.635916  0.566176  0.598993   3023.8\n",
       "   1              0.589442  0.657658  0.621663   2863.8\n",
       "   accuracy            NaN       NaN  0.610673   5887.6\n",
       "   macro avg      0.612679  0.611917  0.610328   5887.6\n",
       "   weighted avg   0.613311  0.610673  0.610020   5887.6}),\n",
       " ({'objective': 'binary:hinge',\n",
       "   'eta': 0.1,\n",
       "   'nthread': 8,\n",
       "   'gpu_id': 0,\n",
       "   'tree_method': 'gpu_hist',\n",
       "   'gamma': 0.4,\n",
       "   'max_depth': 11,\n",
       "   'min_child_weight': 3},\n",
       "  {'mean_test_error': 0.3884434360713732,\n",
       "   'mean_auc': array([0.6128151, 0.6128151]),\n",
       "   'report':               precision    recall  f1-score  support\n",
       "   0              0.637039  0.566506  0.599672   3023.8\n",
       "   1              0.590175  0.659124  0.622722   2863.8\n",
       "   accuracy            NaN       NaN  0.611557   5887.6\n",
       "   macro avg      0.613607  0.612815  0.611197   5887.6\n",
       "   weighted avg   0.614243  0.611557  0.610884   5887.6}),\n",
       " ({'objective': 'binary:hinge',\n",
       "   'eta': 0.1,\n",
       "   'nthread': 8,\n",
       "   'gpu_id': 0,\n",
       "   'tree_method': 'gpu_hist',\n",
       "   'gamma': 0.4,\n",
       "   'max_depth': 11,\n",
       "   'min_child_weight': 5},\n",
       "  {'mean_test_error': 0.38813737758583766,\n",
       "   'mean_auc': array([0.61305597, 0.61305597]),\n",
       "   'report':               precision    recall  f1-score  support\n",
       "   0              0.636591  0.569152  0.600943   3023.8\n",
       "   1              0.590914  0.656960  0.622157   2863.8\n",
       "   accuracy            NaN       NaN  0.611863   5887.6\n",
       "   macro avg      0.613752  0.613056  0.611550   5887.6\n",
       "   weighted avg   0.614373  0.611863  0.611262   5887.6}),\n",
       " ({'objective': 'binary:hinge',\n",
       "   'eta': 0.1,\n",
       "   'nthread': 8,\n",
       "   'gpu_id': 0,\n",
       "   'tree_method': 'gpu_hist',\n",
       "   'gamma': 0.4,\n",
       "   'max_depth': 11,\n",
       "   'min_child_weight': 7},\n",
       "  {'mean_test_error': 0.3888850236981263,\n",
       "   'mean_auc': array([0.61235588, 0.61235588]),\n",
       "   'report':               precision    recall  f1-score  support\n",
       "   0              0.636386  0.566704  0.599514   3023.8\n",
       "   1              0.589836  0.658007  0.622050   2863.8\n",
       "   accuracy            NaN       NaN  0.611115   5887.6\n",
       "   macro avg      0.613111  0.612356  0.610782   5887.6\n",
       "   weighted avg   0.613744  0.611115  0.610476   5887.6}),\n",
       " ({'objective': 'binary:hinge',\n",
       "   'eta': 0.1,\n",
       "   'nthread': 8,\n",
       "   'gpu_id': 0,\n",
       "   'tree_method': 'gpu_hist',\n",
       "   'gamma': 0.4,\n",
       "   'max_depth': 11,\n",
       "   'min_child_weight': 9},\n",
       "  {'mean_test_error': 0.38898692010214103,\n",
       "   'mean_auc': array([0.61225477, 0.61225477]),\n",
       "   'report':               precision    recall  f1-score  support\n",
       "   0              0.636230  0.566572  0.599366   3023.8\n",
       "   1              0.589781  0.657937  0.621984   2863.8\n",
       "   accuracy            NaN       NaN  0.611013   5887.6\n",
       "   macro avg      0.613005  0.612255  0.610675   5887.6\n",
       "   weighted avg   0.613636  0.611013  0.610367   5887.6}),\n",
       " ({'objective': 'binary:hinge',\n",
       "   'eta': 0.1,\n",
       "   'nthread': 8,\n",
       "   'gpu_id': 0,\n",
       "   'tree_method': 'gpu_hist',\n",
       "   'gamma': 0.5,\n",
       "   'max_depth': 5,\n",
       "   'min_child_weight': 1},\n",
       "  {'mean_test_error': 0.3840952407109253,\n",
       "   'mean_auc': array([0.61637542, 0.61637542]),\n",
       "   'report':               precision    recall  f1-score  support\n",
       "   0              0.633540  0.599047  0.615601   3023.8\n",
       "   1              0.599535  0.633703  0.615964   2863.8\n",
       "   accuracy            NaN       NaN  0.615905   5887.6\n",
       "   macro avg      0.616538  0.616375  0.615782   5887.6\n",
       "   weighted avg   0.617000  0.615905  0.615778   5887.6}),\n",
       " ({'objective': 'binary:hinge',\n",
       "   'eta': 0.1,\n",
       "   'nthread': 8,\n",
       "   'gpu_id': 0,\n",
       "   'tree_method': 'gpu_hist',\n",
       "   'gamma': 0.5,\n",
       "   'max_depth': 5,\n",
       "   'min_child_weight': 3},\n",
       "  {'mean_test_error': 0.38035846416385405,\n",
       "   'mean_auc': array([0.62028596, 0.62028596]),\n",
       "   'report':               precision    recall  f1-score  support\n",
       "   0              0.639500  0.596533  0.616821   3023.8\n",
       "   1              0.601975  0.644039  0.621928   2863.8\n",
       "   accuracy            NaN       NaN  0.619642   5887.6\n",
       "   macro avg      0.620738  0.620286  0.619374   5887.6\n",
       "   weighted avg   0.621247  0.619642  0.619305   5887.6}),\n",
       " ({'objective': 'binary:hinge',\n",
       "   'eta': 0.1,\n",
       "   'nthread': 8,\n",
       "   'gpu_id': 0,\n",
       "   'tree_method': 'gpu_hist',\n",
       "   'gamma': 0.5,\n",
       "   'max_depth': 5,\n",
       "   'min_child_weight': 5},\n",
       "  {'mean_test_error': 0.382396871145708,\n",
       "   'mean_auc': array([0.61826133, 0.61826133]),\n",
       "   'report':               precision    recall  f1-score  support\n",
       "   0              0.637128  0.594020  0.614641   3023.8\n",
       "   1              0.599904  0.642503  0.620319   2863.8\n",
       "   accuracy            NaN       NaN  0.617603   5887.6\n",
       "   macro avg      0.618516  0.618261  0.617480   5887.6\n",
       "   weighted avg   0.619022  0.617603  0.617403   5887.6}),\n",
       " ({'objective': 'binary:hinge',\n",
       "   'eta': 0.1,\n",
       "   'nthread': 8,\n",
       "   'gpu_id': 0,\n",
       "   'tree_method': 'gpu_hist',\n",
       "   'gamma': 0.5,\n",
       "   'max_depth': 5,\n",
       "   'min_child_weight': 7},\n",
       "  {'mean_test_error': 0.3811737161745482,\n",
       "   'mean_auc': array([0.61930067, 0.61930067]),\n",
       "   'report':               precision    recall  f1-score  support\n",
       "   0              0.636515  0.601825  0.618516   3023.8\n",
       "   1              0.602356  0.636776  0.618942   2863.8\n",
       "   accuracy            NaN       NaN  0.618826   5887.6\n",
       "   macro avg      0.619436  0.619301  0.618729   5887.6\n",
       "   weighted avg   0.619900  0.618826  0.618724   5887.6}),\n",
       " ({'objective': 'binary:hinge',\n",
       "   'eta': 0.1,\n",
       "   'nthread': 8,\n",
       "   'gpu_id': 0,\n",
       "   'tree_method': 'gpu_hist',\n",
       "   'gamma': 0.5,\n",
       "   'max_depth': 5,\n",
       "   'min_child_weight': 9},\n",
       "  {'mean_test_error': 0.38229474394576113,\n",
       "   'mean_auc': array([0.61827453, 0.61827453]),\n",
       "   'report':               precision    recall  f1-score  support\n",
       "   0              0.636339  0.597329  0.615990   3023.8\n",
       "   1              0.600656  0.639220  0.619154   2863.8\n",
       "   accuracy            NaN       NaN  0.617705   5887.6\n",
       "   macro avg      0.618498  0.618275  0.617572   5887.6\n",
       "   weighted avg   0.618982  0.617705  0.617529   5887.6}),\n",
       " ({'objective': 'binary:hinge',\n",
       "   'eta': 0.1,\n",
       "   'nthread': 8,\n",
       "   'gpu_id': 0,\n",
       "   'tree_method': 'gpu_hist',\n",
       "   'gamma': 0.5,\n",
       "   'max_depth': 7,\n",
       "   'min_child_weight': 1},\n",
       "  {'mean_test_error': 0.3769954616287915,\n",
       "   'mean_auc': array([0.62362767, 0.62362767]),\n",
       "   'report':               precision    recall  f1-score  support\n",
       "   0              0.642223  0.600702  0.620712   3023.8\n",
       "   1              0.605315  0.646553  0.625206   2863.8\n",
       "   accuracy            NaN       NaN  0.623005   5887.6\n",
       "   macro avg      0.623769  0.623628  0.622959   5887.6\n",
       "   weighted avg   0.624270  0.623005  0.622897   5887.6}),\n",
       " ({'objective': 'binary:hinge',\n",
       "   'eta': 0.1,\n",
       "   'nthread': 8,\n",
       "   'gpu_id': 0,\n",
       "   'tree_method': 'gpu_hist',\n",
       "   'gamma': 0.5,\n",
       "   'max_depth': 7,\n",
       "   'min_child_weight': 3},\n",
       "  {'mean_test_error': 0.37808237776124254,\n",
       "   'mean_auc': array([0.62247568, 0.62247568]),\n",
       "   'report':               precision    recall  f1-score  support\n",
       "   0              0.640448  0.601959  0.620536   3023.8\n",
       "   1              0.604724  0.642993  0.623208   2863.8\n",
       "   accuracy            NaN       NaN  0.621918   5887.6\n",
       "   macro avg      0.622586  0.622476  0.621872   5887.6\n",
       "   weighted avg   0.623072  0.621918  0.621836   5887.6}),\n",
       " ({'objective': 'binary:hinge',\n",
       "   'eta': 0.1,\n",
       "   'nthread': 8,\n",
       "   'gpu_id': 0,\n",
       "   'tree_method': 'gpu_hist',\n",
       "   'gamma': 0.5,\n",
       "   'max_depth': 7,\n",
       "   'min_child_weight': 5},\n",
       "  {'mean_test_error': 0.378727965912364,\n",
       "   'mean_auc': array([0.62186543, 0.62186543]),\n",
       "   'report':               precision    recall  f1-score  support\n",
       "   0              0.640077  0.600040  0.619370   3023.8\n",
       "   1              0.603867  0.643691  0.623107   2863.8\n",
       "   accuracy            NaN       NaN  0.621272   5887.6\n",
       "   macro avg      0.621972  0.621865  0.621239   5887.6\n",
       "   weighted avg   0.622464  0.621272  0.621188   5887.6}),\n",
       " ({'objective': 'binary:hinge',\n",
       "   'eta': 0.1,\n",
       "   'nthread': 8,\n",
       "   'gpu_id': 0,\n",
       "   'tree_method': 'gpu_hist',\n",
       "   'gamma': 0.5,\n",
       "   'max_depth': 7,\n",
       "   'min_child_weight': 7},\n",
       "  {'mean_test_error': 0.3789996935030022,\n",
       "   'mean_auc': array([0.62160296, 0.62160296]),\n",
       "   'report':               precision    recall  f1-score  support\n",
       "   0              0.639899  0.599446  0.618928   3023.8\n",
       "   1              0.603591  0.643760  0.622956   2863.8\n",
       "   accuracy            NaN       NaN  0.621000   5887.6\n",
       "   macro avg      0.621745  0.621603  0.620942   5887.6\n",
       "   weighted avg   0.622238  0.621000  0.620887   5887.6}),\n",
       " ({'objective': 'binary:hinge',\n",
       "   'eta': 0.1,\n",
       "   'nthread': 8,\n",
       "   'gpu_id': 0,\n",
       "   'tree_method': 'gpu_hist',\n",
       "   'gamma': 0.5,\n",
       "   'max_depth': 7,\n",
       "   'min_child_weight': 9},\n",
       "  {'mean_test_error': 0.3783543303779145,\n",
       "   'mean_auc': array([0.62226628, 0.62226628]),\n",
       "   'report':               precision    recall  f1-score  support\n",
       "   0              0.640837  0.599445  0.619361   3023.8\n",
       "   1              0.604022  0.645088  0.623801   2863.8\n",
       "   accuracy            NaN       NaN  0.621646   5887.6\n",
       "   macro avg      0.622429  0.622266  0.621581   5887.6\n",
       "   weighted avg   0.622930  0.621646  0.621521   5887.6}),\n",
       " ({'objective': 'binary:hinge',\n",
       "   'eta': 0.1,\n",
       "   'nthread': 8,\n",
       "   'gpu_id': 0,\n",
       "   'tree_method': 'gpu_hist',\n",
       "   'gamma': 0.5,\n",
       "   'max_depth': 9,\n",
       "   'min_child_weight': 1},\n",
       "  {'mean_test_error': 0.38249858291297706,\n",
       "   'mean_auc': array([0.61866413, 0.61866413]),\n",
       "   'report':               precision    recall  f1-score  support\n",
       "   0              0.642343  0.575899  0.607266   3023.8\n",
       "   1              0.596353  0.661429  0.627174   2863.8\n",
       "   accuracy            NaN       NaN  0.617501   5887.6\n",
       "   macro avg      0.619348  0.618664  0.617220   5887.6\n",
       "   weighted avg   0.619973  0.617501  0.616949   5887.6}),\n",
       " ({'objective': 'binary:hinge',\n",
       "   'eta': 0.1,\n",
       "   'nthread': 8,\n",
       "   'gpu_id': 0,\n",
       "   'tree_method': 'gpu_hist',\n",
       "   'gamma': 0.5,\n",
       "   'max_depth': 9,\n",
       "   'min_child_weight': 3},\n",
       "  {'mean_test_error': 0.38253274071092536,\n",
       "   'mean_auc': array([0.61869003, 0.61869003]),\n",
       "   'report':               precision    recall  f1-score  support\n",
       "   0              0.643047  0.573716  0.606370   3023.8\n",
       "   1              0.595881  0.663664  0.627921   2863.8\n",
       "   accuracy            NaN       NaN  0.617467   5887.6\n",
       "   macro avg      0.619464  0.618690  0.617145   5887.6\n",
       "   weighted avg   0.620105  0.617467  0.616852   5887.6}),\n",
       " ({'objective': 'binary:hinge',\n",
       "   'eta': 0.1,\n",
       "   'nthread': 8,\n",
       "   'gpu_id': 0,\n",
       "   'tree_method': 'gpu_hist',\n",
       "   'gamma': 0.5,\n",
       "   'max_depth': 9,\n",
       "   'min_child_weight': 5},\n",
       "  {'mean_test_error': 0.38270251996846405,\n",
       "   'mean_auc': array([0.61832162, 0.61832162]),\n",
       "   'report':               precision    recall  f1-score  support\n",
       "   0              0.640574  0.580661  0.609101   3023.8\n",
       "   1              0.597081  0.655982  0.625110   2863.8\n",
       "   accuracy            NaN       NaN  0.617297   5887.6\n",
       "   macro avg      0.618827  0.618322  0.617105   5887.6\n",
       "   weighted avg   0.619418  0.617297  0.616888   5887.6}),\n",
       " ({'objective': 'binary:hinge',\n",
       "   'eta': 0.1,\n",
       "   'nthread': 8,\n",
       "   'gpu_id': 0,\n",
       "   'tree_method': 'gpu_hist',\n",
       "   'gamma': 0.5,\n",
       "   'max_depth': 9,\n",
       "   'min_child_weight': 7},\n",
       "  {'mean_test_error': 0.38392551915236967,\n",
       "   'mean_auc': array([0.6172727, 0.6172727]),\n",
       "   'report':               precision    recall  f1-score  support\n",
       "   0              0.641248  0.573186  0.605286   3023.8\n",
       "   1              0.594739  0.661359  0.626265   2863.8\n",
       "   accuracy            NaN       NaN  0.616074   5887.6\n",
       "   macro avg      0.617993  0.617273  0.615776   5887.6\n",
       "   weighted avg   0.618625  0.616074  0.615490   5887.6}),\n",
       " ({'objective': 'binary:hinge',\n",
       "   'eta': 0.1,\n",
       "   'nthread': 8,\n",
       "   'gpu_id': 0,\n",
       "   'tree_method': 'gpu_hist',\n",
       "   'gamma': 0.5,\n",
       "   'max_depth': 9,\n",
       "   'min_child_weight': 9},\n",
       "  {'mean_test_error': 0.3828724607831552,\n",
       "   'mean_auc': array([0.61825547, 0.61825547]),\n",
       "   'report':               precision    recall  f1-score  support\n",
       "   0              0.641591  0.576758  0.607410   3023.8\n",
       "   1              0.596194  0.659753  0.626335   2863.8\n",
       "   accuracy            NaN       NaN  0.617128   5887.6\n",
       "   macro avg      0.618892  0.618255  0.616873   5887.6\n",
       "   weighted avg   0.619509  0.617128  0.616616   5887.6}),\n",
       " ({'objective': 'binary:hinge',\n",
       "   'eta': 0.1,\n",
       "   'nthread': 8,\n",
       "   'gpu_id': 0,\n",
       "   'tree_method': 'gpu_hist',\n",
       "   'gamma': 0.5,\n",
       "   'max_depth': 11,\n",
       "   'min_child_weight': 1},\n",
       "  {'mean_test_error': 0.39126281032821025,\n",
       "   'mean_auc': array([0.61003149, 0.61003149]),\n",
       "   'report':               precision    recall  f1-score  support\n",
       "   0              0.634407  0.562405  0.596214   3023.8\n",
       "   1              0.587314  0.657658  0.620480   2863.8\n",
       "   accuracy            NaN       NaN  0.608737   5887.6\n",
       "   macro avg      0.610861  0.610031  0.608347   5887.6\n",
       "   weighted avg   0.611501  0.608737  0.608018   5887.6}),\n",
       " ({'objective': 'binary:hinge',\n",
       "   'eta': 0.1,\n",
       "   'nthread': 8,\n",
       "   'gpu_id': 0,\n",
       "   'tree_method': 'gpu_hist',\n",
       "   'gamma': 0.5,\n",
       "   'max_depth': 11,\n",
       "   'min_child_weight': 3},\n",
       "  {'mean_test_error': 0.3877299246774396,\n",
       "   'mean_auc': array([0.61353386, 0.61353386]),\n",
       "   'report':               precision    recall  f1-score  support\n",
       "   0              0.637826  0.567036  0.600339   3023.8\n",
       "   1              0.590812  0.660032  0.623497   2863.8\n",
       "   accuracy            NaN       NaN  0.612270   5887.6\n",
       "   macro avg      0.614319  0.613534  0.611918   5887.6\n",
       "   weighted avg   0.614958  0.612270  0.611603   5887.6}),\n",
       " ({'objective': 'binary:hinge',\n",
       "   'eta': 0.1,\n",
       "   'nthread': 8,\n",
       "   'gpu_id': 0,\n",
       "   'tree_method': 'gpu_hist',\n",
       "   'gamma': 0.5,\n",
       "   'max_depth': 11,\n",
       "   'min_child_weight': 5},\n",
       "  {'mean_test_error': 0.3901078267054896,\n",
       "   'mean_auc': array([0.61111365, 0.61111365]),\n",
       "   'report':               precision    recall  f1-score  support\n",
       "   0              0.634799  0.566176  0.598508   3023.8\n",
       "   1              0.588863  0.656051  0.620630   2863.8\n",
       "   accuracy            NaN       NaN  0.609892   5887.6\n",
       "   macro avg      0.611831  0.611114  0.609569   5887.6\n",
       "   weighted avg   0.612455  0.609892  0.609268   5887.6}),\n",
       " ({'objective': 'binary:hinge',\n",
       "   'eta': 0.1,\n",
       "   'nthread': 8,\n",
       "   'gpu_id': 0,\n",
       "   'tree_method': 'gpu_hist',\n",
       "   'gamma': 0.5,\n",
       "   'max_depth': 11,\n",
       "   'min_child_weight': 7},\n",
       "  {'mean_test_error': 0.39021000583452115,\n",
       "   'mean_auc': array([0.61099402, 0.61099402]),\n",
       "   'report':               precision    recall  f1-score  support\n",
       "   0              0.634538  0.566705  0.598670   3023.8\n",
       "   1              0.588863  0.655283  0.620272   2863.8\n",
       "   accuracy            NaN       NaN  0.609790   5887.6\n",
       "   macro avg      0.611700  0.610994  0.609471   5887.6\n",
       "   weighted avg   0.612321  0.609790  0.609177   5887.6}),\n",
       " ({'objective': 'binary:hinge',\n",
       "   'eta': 0.1,\n",
       "   'nthread': 8,\n",
       "   'gpu_id': 0,\n",
       "   'tree_method': 'gpu_hist',\n",
       "   'gamma': 0.5,\n",
       "   'max_depth': 11,\n",
       "   'min_child_weight': 9},\n",
       "  {'mean_test_error': 0.3896323986251947,\n",
       "   'mean_auc': array([0.61155992, 0.61155992]),\n",
       "   'report':               precision    recall  f1-score  support\n",
       "   0              0.635024  0.567697  0.599449   3023.8\n",
       "   1              0.589469  0.655423  0.620679   2863.8\n",
       "   accuracy            NaN       NaN  0.610368   5887.6\n",
       "   macro avg      0.612247  0.611560  0.610064   5887.6\n",
       "   weighted avg   0.612866  0.610368  0.609775   5887.6}),\n",
       " ({'objective': 'binary:hinge',\n",
       "   'eta': 0.1,\n",
       "   'nthread': 8,\n",
       "   'gpu_id': 0,\n",
       "   'tree_method': 'gpu_hist',\n",
       "   'gamma': 0.6,\n",
       "   'max_depth': 5,\n",
       "   'min_child_weight': 1},\n",
       "  {'mean_test_error': 0.38324590014106247,\n",
       "   'mean_auc': array([0.61724852, 0.61724852]),\n",
       "   'report':               precision    recall  f1-score  support\n",
       "   0              0.634697  0.599047  0.616137   3023.8\n",
       "   1              0.600168  0.635450  0.617115   2863.8\n",
       "   accuracy            NaN       NaN  0.616754   5887.6\n",
       "   macro avg      0.617432  0.617249  0.616626   5887.6\n",
       "   weighted avg   0.617901  0.616754  0.616613   5887.6}),\n",
       " ({'objective': 'binary:hinge',\n",
       "   'eta': 0.1,\n",
       "   'nthread': 8,\n",
       "   'gpu_id': 0,\n",
       "   'tree_method': 'gpu_hist',\n",
       "   'gamma': 0.6,\n",
       "   'max_depth': 5,\n",
       "   'min_child_weight': 3},\n",
       "  {'mean_test_error': 0.38073209392840524,\n",
       "   'mean_auc': array([0.61992049, 0.61992049]),\n",
       "   'report':               precision    recall  f1-score  support\n",
       "   0              0.639301  0.595872  0.616208   3023.8\n",
       "   1              0.601676  0.643969  0.621610   2863.8\n",
       "   accuracy            NaN       NaN  0.619268   5887.6\n",
       "   macro avg      0.620488  0.619920  0.618909   5887.6\n",
       "   weighted avg   0.620999  0.619268  0.618836   5887.6}),\n",
       " ({'objective': 'binary:hinge',\n",
       "   'eta': 0.1,\n",
       "   'nthread': 8,\n",
       "   'gpu_id': 0,\n",
       "   'tree_method': 'gpu_hist',\n",
       "   'gamma': 0.6,\n",
       "   'max_depth': 5,\n",
       "   'min_child_weight': 5},\n",
       "  {'mean_test_error': 0.3830762824406762,\n",
       "   'mean_auc': array([0.61753333, 0.61753333]),\n",
       "   'report':               precision    recall  f1-score  support\n",
       "   0              0.635922  0.595078  0.614656   3023.8\n",
       "   1              0.599566  0.639989  0.618974   2863.8\n",
       "   accuracy            NaN       NaN  0.616924   5887.6\n",
       "   macro avg      0.617744  0.617533  0.616815   5887.6\n",
       "   weighted avg   0.618238  0.616924  0.616756   5887.6}),\n",
       " ({'objective': 'binary:hinge',\n",
       "   'eta': 0.1,\n",
       "   'nthread': 8,\n",
       "   'gpu_id': 0,\n",
       "   'tree_method': 'gpu_hist',\n",
       "   'gamma': 0.6,\n",
       "   'max_depth': 5,\n",
       "   'min_child_weight': 7},\n",
       "  {'mean_test_error': 0.3814454091457965,\n",
       "   'mean_auc': array([0.61904363, 0.61904363]),\n",
       "   'report':               precision    recall  f1-score  support\n",
       "   0              0.636367  0.601032  0.618071   3023.8\n",
       "   1              0.601944  0.637055  0.618893   2863.8\n",
       "   accuracy            NaN       NaN  0.618555   5887.6\n",
       "   macro avg      0.619155  0.619044  0.618482   5887.6\n",
       "   weighted avg   0.619623  0.618555  0.618471   5887.6}),\n",
       " ({'objective': 'binary:hinge',\n",
       "   'eta': 0.1,\n",
       "   'nthread': 8,\n",
       "   'gpu_id': 0,\n",
       "   'tree_method': 'gpu_hist',\n",
       "   'gamma': 0.6,\n",
       "   'max_depth': 5,\n",
       "   'min_child_weight': 9},\n",
       "  {'mean_test_error': 0.38311005365543827,\n",
       "   'mean_auc': array([0.61757065, 0.61757065]),\n",
       "   'report':               precision    recall  f1-score  support\n",
       "   0              0.636772  0.592499  0.613558   3023.8\n",
       "   1              0.599055  0.642642  0.619852   2863.8\n",
       "   accuracy            NaN       NaN  0.616890   5887.6\n",
       "   macro avg      0.617913  0.617571  0.616705   5887.6\n",
       "   weighted avg   0.618426  0.616890  0.616620   5887.6}),\n",
       " ({'objective': 'binary:hinge',\n",
       "   'eta': 0.1,\n",
       "   'nthread': 8,\n",
       "   'gpu_id': 0,\n",
       "   'tree_method': 'gpu_hist',\n",
       "   'gamma': 0.6,\n",
       "   'max_depth': 7,\n",
       "   'min_child_weight': 1},\n",
       "  {'mean_test_error': 0.3794412234307723,\n",
       "   'mean_auc': array([0.62106577, 0.62106577]),\n",
       "   'report':               precision    recall  f1-score  support\n",
       "   0              0.638426  0.602422  0.619795   3023.8\n",
       "   1              0.603901  0.639709  0.621196   2863.8\n",
       "   accuracy            NaN       NaN  0.620559   5887.6\n",
       "   macro avg      0.621163  0.621066  0.620496   5887.6\n",
       "   weighted avg   0.621633  0.620559  0.620477   5887.6}),\n",
       " ({'objective': 'binary:hinge',\n",
       "   'eta': 0.1,\n",
       "   'nthread': 8,\n",
       "   'gpu_id': 0,\n",
       "   'tree_method': 'gpu_hist',\n",
       "   'gamma': 0.6,\n",
       "   'max_depth': 7,\n",
       "   'min_child_weight': 3},\n",
       "  {'mean_test_error': 0.37706340795119686,\n",
       "   'mean_auc': array([0.62351035, 0.62351035]),\n",
       "   'report':               precision    recall  f1-score  support\n",
       "   0              0.641653  0.602422  0.621330   3023.8\n",
       "   1              0.605632  0.644599  0.624429   2863.8\n",
       "   accuracy            NaN       NaN  0.622937   5887.6\n",
       "   macro avg      0.623642  0.623510  0.622880   5887.6\n",
       "   weighted avg   0.624132  0.622937  0.622837   5887.6}),\n",
       " ({'objective': 'binary:hinge',\n",
       "   'eta': 0.1,\n",
       "   'nthread': 8,\n",
       "   'gpu_id': 0,\n",
       "   'tree_method': 'gpu_hist',\n",
       "   'gamma': 0.6,\n",
       "   'max_depth': 7,\n",
       "   'min_child_weight': 5},\n",
       "  {'mean_test_error': 0.3786942062373986,\n",
       "   'mean_auc': array([0.62183918, 0.62183918]),\n",
       "   'report':               precision    recall  f1-score  support\n",
       "   0              0.639538  0.602223  0.620261   3023.8\n",
       "   1              0.604311  0.641455  0.622278   2863.8\n",
       "   accuracy            NaN       NaN  0.621306   5887.6\n",
       "   macro avg      0.621924  0.621839  0.621269   5887.6\n",
       "   weighted avg   0.622403  0.621306  0.621242   5887.6}),\n",
       " ({'objective': 'binary:hinge',\n",
       "   'eta': 0.1,\n",
       "   'nthread': 8,\n",
       "   'gpu_id': 0,\n",
       "   'tree_method': 'gpu_hist',\n",
       "   'gamma': 0.6,\n",
       "   'max_depth': 7,\n",
       "   'min_child_weight': 7},\n",
       "  {'mean_test_error': 0.37658799141069854,\n",
       "   'mean_auc': array([0.62403733, 0.62403733]),\n",
       "   'report':               precision    recall  f1-score  support\n",
       "   0              0.642659  0.601032  0.621059   3023.8\n",
       "   1              0.605744  0.647042  0.625634   2863.8\n",
       "   accuracy            NaN       NaN  0.623412   5887.6\n",
       "   macro avg      0.624201  0.624037  0.623347   5887.6\n",
       "   weighted avg   0.624703  0.623412  0.623285   5887.6}),\n",
       " ({'objective': 'binary:hinge',\n",
       "   'eta': 0.1,\n",
       "   'nthread': 8,\n",
       "   'gpu_id': 0,\n",
       "   'tree_method': 'gpu_hist',\n",
       "   'gamma': 0.6,\n",
       "   'max_depth': 7,\n",
       "   'min_child_weight': 9},\n",
       "  {'mean_test_error': 0.3785920674976551,\n",
       "   'mean_auc': array([0.62194056, 0.62194056]),\n",
       "   'report':               precision    recall  f1-score  support\n",
       "   0              0.639582  0.602355  0.620340   3023.8\n",
       "   1              0.604478  0.641526  0.622389   2863.8\n",
       "   accuracy            NaN       NaN  0.621408   5887.6\n",
       "   macro avg      0.622030  0.621941  0.621364   5887.6\n",
       "   weighted avg   0.622507  0.621408  0.621336   5887.6}),\n",
       " ({'objective': 'binary:hinge',\n",
       "   'eta': 0.1,\n",
       "   'nthread': 8,\n",
       "   'gpu_id': 0,\n",
       "   'tree_method': 'gpu_hist',\n",
       "   'gamma': 0.6,\n",
       "   'max_depth': 9,\n",
       "   'min_child_weight': 1},\n",
       "  {'mean_test_error': 0.38416313510424593,\n",
       "   'mean_auc': array([0.61700504, 0.61700504]),\n",
       "   'report':               precision    recall  f1-score  support\n",
       "   0              0.640661  0.574048  0.605441   3023.8\n",
       "   1              0.594782  0.659962  0.625612   2863.8\n",
       "   accuracy            NaN       NaN  0.615837   5887.6\n",
       "   macro avg      0.617721  0.617005  0.615526   5887.6\n",
       "   weighted avg   0.618345  0.615837  0.615252   5887.6}),\n",
       " ({'objective': 'binary:hinge',\n",
       "   'eta': 0.1,\n",
       "   'nthread': 8,\n",
       "   'gpu_id': 0,\n",
       "   'tree_method': 'gpu_hist',\n",
       "   'gamma': 0.6,\n",
       "   'max_depth': 9,\n",
       "   'min_child_weight': 3},\n",
       "  {'mean_test_error': 0.38246454628289306,\n",
       "   'mean_auc': array([0.61866965, 0.61866965]),\n",
       "   'report':               precision    recall  f1-score  support\n",
       "   0              0.642087  0.576958  0.607719   3023.8\n",
       "   1              0.596574  0.660382  0.626810   2863.8\n",
       "   accuracy            NaN       NaN  0.617535   5887.6\n",
       "   macro avg      0.619330  0.618670  0.617264   5887.6\n",
       "   weighted avg   0.619949  0.617535  0.617005   5887.6}),\n",
       " ({'objective': 'binary:hinge',\n",
       "   'eta': 0.1,\n",
       "   'nthread': 8,\n",
       "   'gpu_id': 0,\n",
       "   'tree_method': 'gpu_hist',\n",
       "   'gamma': 0.6,\n",
       "   'max_depth': 9,\n",
       "   'min_child_weight': 5},\n",
       "  {'mean_test_error': 0.3828724319336637,\n",
       "   'mean_auc': array([0.61823744, 0.61823744]),\n",
       "   'report':               precision    recall  f1-score  support\n",
       "   0              0.641382  0.577420  0.607690   3023.8\n",
       "   1              0.596309  0.659055  0.626089   2863.8\n",
       "   accuracy            NaN       NaN  0.617128   5887.6\n",
       "   macro avg      0.618846  0.618237  0.616889   5887.6\n",
       "   weighted avg   0.619458  0.617128  0.616639   5887.6}),\n",
       " ({'objective': 'binary:hinge',\n",
       "   'eta': 0.1,\n",
       "   'nthread': 8,\n",
       "   'gpu_id': 0,\n",
       "   'tree_method': 'gpu_hist',\n",
       "   'gamma': 0.6,\n",
       "   'max_depth': 9,\n",
       "   'min_child_weight': 7},\n",
       "  {'mean_test_error': 0.38399328660792753,\n",
       "   'mean_auc': array([0.61711814, 0.61711814]),\n",
       "   'report':               precision    recall  f1-score  support\n",
       "   0              0.640236  0.576229  0.606506   3023.8\n",
       "   1              0.595234  0.658007  0.625017   2863.8\n",
       "   accuracy            NaN       NaN  0.616007   5887.6\n",
       "   macro avg      0.617735  0.617118  0.615762   5887.6\n",
       "   weighted avg   0.618347  0.616007  0.615510   5887.6}),\n",
       " ({'objective': 'binary:hinge',\n",
       "   'eta': 0.1,\n",
       "   'nthread': 8,\n",
       "   'gpu_id': 0,\n",
       "   'tree_method': 'gpu_hist',\n",
       "   'gamma': 0.6,\n",
       "   'max_depth': 9,\n",
       "   'min_child_weight': 9},\n",
       "  {'mean_test_error': 0.3803925931123108,\n",
       "   'mean_auc': array([0.62071594, 0.62071594]),\n",
       "   'report':               precision    recall  f1-score  support\n",
       "   0              0.644000  0.579933  0.610281   3023.8\n",
       "   1              0.598630  0.661499  0.628489   2863.8\n",
       "   accuracy            NaN       NaN  0.619607   5887.6\n",
       "   macro avg      0.621315  0.620716  0.619385   5887.6\n",
       "   weighted avg   0.621932  0.619607  0.619137   5887.6}),\n",
       " ({'objective': 'binary:hinge',\n",
       "   'eta': 0.1,\n",
       "   'nthread': 8,\n",
       "   'gpu_id': 0,\n",
       "   'tree_method': 'gpu_hist',\n",
       "   'gamma': 0.6,\n",
       "   'max_depth': 11,\n",
       "   'min_child_weight': 1},\n",
       "  {'mean_test_error': 0.39241790357899864,\n",
       "   'mean_auc': array([0.6088518, 0.6088518]),\n",
       "   'report':               precision    recall  f1-score  support\n",
       "   0              0.632825  0.562141  0.595380   3023.8\n",
       "   1              0.586419  0.655563  0.619058   2863.8\n",
       "   accuracy            NaN       NaN  0.607582   5887.6\n",
       "   macro avg      0.609622  0.608852  0.607219   5887.6\n",
       "   weighted avg   0.610253  0.607582  0.606897   5887.6}),\n",
       " ({'objective': 'binary:hinge',\n",
       "   'eta': 0.1,\n",
       "   'nthread': 8,\n",
       "   'gpu_id': 0,\n",
       "   'tree_method': 'gpu_hist',\n",
       "   'gamma': 0.6,\n",
       "   'max_depth': 11,\n",
       "   'min_child_weight': 3},\n",
       "  {'mean_test_error': 0.3906856762505447,\n",
       "   'mean_auc': array([0.61060468, 0.61060468]),\n",
       "   'report':               precision    recall  f1-score  support\n",
       "   0              0.634990  0.563133  0.596876   3023.8\n",
       "   1              0.587877  0.658077  0.620977   2863.8\n",
       "   accuracy            NaN       NaN  0.609314   5887.6\n",
       "   macro avg      0.611434  0.610605  0.608926   5887.6\n",
       "   weighted avg   0.612074  0.609314  0.608599   5887.6}),\n",
       " ({'objective': 'binary:hinge',\n",
       "   'eta': 0.1,\n",
       "   'nthread': 8,\n",
       "   'gpu_id': 0,\n",
       "   'tree_method': 'gpu_hist',\n",
       "   'gamma': 0.6,\n",
       "   'max_depth': 11,\n",
       "   'min_child_weight': 5},\n",
       "  {'mean_test_error': 0.39024403669470686,\n",
       "   'mean_auc': array([0.61103276, 0.61103276]),\n",
       "   'report':               precision    recall  f1-score  support\n",
       "   0              0.635331  0.564059  0.597549   3023.8\n",
       "   1              0.588358  0.658007  0.621216   2863.8\n",
       "   accuracy            NaN       NaN  0.609756   5887.6\n",
       "   macro avg      0.611845  0.611033  0.609382   5887.6\n",
       "   weighted avg   0.612483  0.609756  0.609061   5887.6}),\n",
       " ({'objective': 'binary:hinge',\n",
       "   'eta': 0.1,\n",
       "   'nthread': 8,\n",
       "   'gpu_id': 0,\n",
       "   'tree_method': 'gpu_hist',\n",
       "   'gamma': 0.6,\n",
       "   'max_depth': 11,\n",
       "   'min_child_weight': 7},\n",
       "  {'mean_test_error': 0.3908211419228809,\n",
       "   'mean_auc': array([0.61032699, 0.61032699]),\n",
       "   'report':               precision    recall  f1-score  support\n",
       "   0              0.633243  0.568094  0.598873   3023.8\n",
       "   1              0.588652  0.652560  0.618938   2863.8\n",
       "   accuracy            NaN       NaN  0.609179   5887.6\n",
       "   macro avg      0.610948  0.610327  0.608906   5887.6\n",
       "   weighted avg   0.611554  0.609179  0.608633   5887.6}),\n",
       " ({'objective': 'binary:hinge',\n",
       "   'eta': 0.1,\n",
       "   'nthread': 8,\n",
       "   'gpu_id': 0,\n",
       "   'tree_method': 'gpu_hist',\n",
       "   'gamma': 0.6,\n",
       "   'max_depth': 11,\n",
       "   'min_child_weight': 9},\n",
       "  {'mean_test_error': 0.3888848217516857,\n",
       "   'mean_auc': array([0.61228781, 0.61228781]),\n",
       "   'report':               precision    recall  f1-score  support\n",
       "   0              0.635572  0.569152  0.600506   3023.8\n",
       "   1              0.590317  0.655423  0.621150   2863.8\n",
       "   accuracy            NaN       NaN  0.611115   5887.6\n",
       "   macro avg      0.612944  0.612288  0.610828   5887.6\n",
       "   weighted avg   0.613560  0.611115  0.610547   5887.6})]"
      ]
     },
     "execution_count": 747,
     "metadata": {},
     "output_type": "execute_result"
    }
   ],
   "source": [
    "performance = []\n",
    "classes = [0, 1]\n",
    "for ret in gs_cv_results_sh:\n",
    "    err = sum([e['test_error'] for e in ret[1:]]) / len(ret[1:])\n",
    "    aucs = np.array([e['aucs'] for e in ret[1:]])\n",
    "    aucs = np.sum(aucs, axis=0) / len(ret[1:])\n",
    "    \n",
    "    df = None\n",
    "    for e in ret[1:]:   \n",
    "        t_df = report_2_df(e['report'])\n",
    "        if df is not None:\n",
    "            df += t_df\n",
    "        else:\n",
    "            df = t_df\n",
    "        \n",
    "    df /= len(ret[1:])\n",
    "    performance.append((\n",
    "        ret[0],\n",
    "        {'mean_test_error': err, 'mean_auc': aucs[:2], 'report': df},\n",
    "    ))\n",
    "\n",
    "performance"
   ]
  },
  {
   "cell_type": "code",
   "execution_count": 753,
   "metadata": {},
   "outputs": [],
   "source": [
    "with open('greadsearch-cv-is_share.md', 'w') as f:\n",
    "    for ret in performance:\n",
    "        f.write(f\"# {', '.join([f'{k}={v}' for k, v in ret[0].items()])}\\n\")\n",
    "        for k, v in ret[1].items():\n",
    "            is_break = '\\n' if k == 'report' else ''\n",
    "            f.write(f\"- {k} :{is_break} {v}\\n\\n\")\n",
    "        f.write(f\"{'-'*50}\\n\\n\\n\")"
   ]
  },
  {
   "cell_type": "code",
   "execution_count": 765,
   "metadata": {},
   "outputs": [
    {
     "data": {
      "text/plain": [
       "48"
      ]
     },
     "execution_count": 765,
     "metadata": {},
     "output_type": "execute_result"
    }
   ],
   "source": [
    "mean_test_error = np.array([e[1]['mean_test_error'] for e in performance])\n",
    "mean_test_error.argmin()"
   ]
  },
  {
   "cell_type": "code",
   "execution_count": 766,
   "metadata": {},
   "outputs": [
    {
     "data": {
      "text/plain": [
       "({'objective': 'binary:hinge',\n",
       "  'eta': 0.1,\n",
       "  'nthread': 8,\n",
       "  'gpu_id': 0,\n",
       "  'tree_method': 'gpu_hist',\n",
       "  'gamma': 0.3,\n",
       "  'max_depth': 7,\n",
       "  'min_child_weight': 7},\n",
       " {'mean_test_error': 0.3759764341197628,\n",
       "  'mean_auc': array([0.62465696, 0.62465696]),\n",
       "  'report':               precision    recall  f1-score  support\n",
       "  0              0.643353  0.601364  0.621551   3023.8\n",
       "  1              0.606309  0.647950  0.626353   2863.8\n",
       "  accuracy            NaN       NaN  0.624024   5887.6\n",
       "  macro avg      0.624831  0.624657  0.623952   5887.6\n",
       "  weighted avg   0.625335  0.624024  0.623887   5887.6})"
      ]
     },
     "execution_count": 766,
     "metadata": {},
     "output_type": "execute_result"
    }
   ],
   "source": [
    "performance[48]"
   ]
  },
  {
   "cell_type": "code",
   "execution_count": 617,
   "metadata": {},
   "outputs": [
    {
     "data": {
      "text/plain": [
       "{'objective': 'binary:hinge',\n",
       " 'eta': 0.1,\n",
       " 'nthread': 8,\n",
       " 'gpu_id': 0,\n",
       " 'tree_method': 'gpu_hist',\n",
       " 'gamma': 0.3,\n",
       " 'max_depth': 11,\n",
       " 'min_child_weight': 9}"
      ]
     },
     "execution_count": 617,
     "metadata": {},
     "output_type": "execute_result"
    }
   ],
   "source": [
    "arr = np.array([[-e['test_error'] for e in gridsearch_results_sh], [e['aucs'][1] for e in gridsearch_results_sh]], dtype=np.float32)\n",
    "opt_idxs_sh = arr.argmax(axis=1)\n",
    "if opt_idxs_sh[0] != opt_idxs_sh[1]:\n",
    "    warnings.warn(f\"最小误差与最大AUC对应的模型不一致 : {opt_idxs_sh}。选择误差最小的模型 : {opt_idxs_sh[0]}\")\n",
    "\n",
    "opt_idx_sh = opt_idxs_sh[0]\n",
    "all_params_sh[opt_idx_sh]"
   ]
  },
  {
   "cell_type": "code",
   "execution_count": 603,
   "metadata": {},
   "outputs": [
    {
     "data": {
      "text/plain": [
       "146"
      ]
     },
     "execution_count": 603,
     "metadata": {},
     "output_type": "execute_result"
    }
   ],
   "source": [
    "opt_idx_sh = opt_idxs_sh[0]\n",
    "opt_idx_sh"
   ]
  },
  {
   "cell_type": "code",
   "execution_count": 619,
   "metadata": {},
   "outputs": [
    {
     "name": "stdout",
     "output_type": "stream",
     "text": [
      "              precision    recall  f1-score   support\n",
      "\n",
      "         0.0       0.54      0.44      0.49      3053\n",
      "         1.0       0.50      0.60      0.54      2835\n",
      "\n",
      "    accuracy                           0.52      5888\n",
      "   macro avg       0.52      0.52      0.51      5888\n",
      "weighted avg       0.52      0.52      0.51      5888\n",
      "\n"
     ]
    }
   ],
   "source": [
    "print(gridsearch_results_sh[opt_idx_sh]['report'])"
   ]
  },
  {
   "cell_type": "code",
   "execution_count": 620,
   "metadata": {},
   "outputs": [
    {
     "data": {
      "text/html": [
       "<div>\n",
       "<style scoped>\n",
       "    .dataframe tbody tr th:only-of-type {\n",
       "        vertical-align: middle;\n",
       "    }\n",
       "\n",
       "    .dataframe tbody tr th {\n",
       "        vertical-align: top;\n",
       "    }\n",
       "\n",
       "    .dataframe thead th {\n",
       "        text-align: right;\n",
       "    }\n",
       "</style>\n",
       "<table border=\"1\" class=\"dataframe\">\n",
       "  <thead>\n",
       "    <tr style=\"text-align: right;\">\n",
       "      <th></th>\n",
       "      <th>test_error</th>\n",
       "      <th>aucs</th>\n",
       "      <th>w_auc</th>\n",
       "      <th>report</th>\n",
       "      <th>model</th>\n",
       "    </tr>\n",
       "  </thead>\n",
       "  <tbody>\n",
       "    <tr>\n",
       "      <th>0</th>\n",
       "      <td>0.503057</td>\n",
       "      <td>[0.50379590202715, 0.50379590202715]</td>\n",
       "      <td>None</td>\n",
       "      <td>precision    recall  f1-score   ...</td>\n",
       "      <td>&lt;xgboost.core.Booster object at 0x7f35ba907130&gt;</td>\n",
       "    </tr>\n",
       "    <tr>\n",
       "      <th>1</th>\n",
       "      <td>0.496943</td>\n",
       "      <td>[0.508734635779073, 0.508734635779073]</td>\n",
       "      <td>None</td>\n",
       "      <td>precision    recall  f1-score   ...</td>\n",
       "      <td>&lt;xgboost.core.Booster object at 0x7f32e4009580&gt;</td>\n",
       "    </tr>\n",
       "    <tr>\n",
       "      <th>2</th>\n",
       "      <td>0.501189</td>\n",
       "      <td>[0.5048543919272165, 0.5048543919272165]</td>\n",
       "      <td>None</td>\n",
       "      <td>precision    recall  f1-score   ...</td>\n",
       "      <td>&lt;xgboost.core.Booster object at 0x7f3583f4f4f0&gt;</td>\n",
       "    </tr>\n",
       "    <tr>\n",
       "      <th>3</th>\n",
       "      <td>0.502717</td>\n",
       "      <td>[0.502360357955947, 0.502360357955947]</td>\n",
       "      <td>None</td>\n",
       "      <td>precision    recall  f1-score   ...</td>\n",
       "      <td>&lt;xgboost.core.Booster object at 0x7f3574279550&gt;</td>\n",
       "    </tr>\n",
       "    <tr>\n",
       "      <th>4</th>\n",
       "      <td>0.499321</td>\n",
       "      <td>[0.5061017844072763, 0.5061017844072763]</td>\n",
       "      <td>None</td>\n",
       "      <td>precision    recall  f1-score   ...</td>\n",
       "      <td>&lt;xgboost.core.Booster object at 0x7f32e4082730&gt;</td>\n",
       "    </tr>\n",
       "    <tr>\n",
       "      <th>...</th>\n",
       "      <td>...</td>\n",
       "      <td>...</td>\n",
       "      <td>...</td>\n",
       "      <td>...</td>\n",
       "      <td>...</td>\n",
       "    </tr>\n",
       "    <tr>\n",
       "      <th>115</th>\n",
       "      <td>0.498132</td>\n",
       "      <td>[0.5057747576472328, 0.5057747576472328]</td>\n",
       "      <td>None</td>\n",
       "      <td>precision    recall  f1-score   ...</td>\n",
       "      <td>&lt;xgboost.core.Booster object at 0x7f32468a4640&gt;</td>\n",
       "    </tr>\n",
       "    <tr>\n",
       "      <th>116</th>\n",
       "      <td>0.497962</td>\n",
       "      <td>[0.5046665869463117, 0.5046665869463118]</td>\n",
       "      <td>None</td>\n",
       "      <td>precision    recall  f1-score   ...</td>\n",
       "      <td>&lt;xgboost.core.Booster object at 0x7f32468a4850&gt;</td>\n",
       "    </tr>\n",
       "    <tr>\n",
       "      <th>117</th>\n",
       "      <td>0.499490</td>\n",
       "      <td>[0.5026636996830249, 0.5026636996830249]</td>\n",
       "      <td>None</td>\n",
       "      <td>precision    recall  f1-score   ...</td>\n",
       "      <td>&lt;xgboost.core.Booster object at 0x7f32468a46a0&gt;</td>\n",
       "    </tr>\n",
       "    <tr>\n",
       "      <th>118</th>\n",
       "      <td>0.491678</td>\n",
       "      <td>[0.5107513874519006, 0.5107513874519005]</td>\n",
       "      <td>None</td>\n",
       "      <td>precision    recall  f1-score   ...</td>\n",
       "      <td>&lt;xgboost.core.Booster object at 0x7f32468a4670&gt;</td>\n",
       "    </tr>\n",
       "    <tr>\n",
       "      <th>119</th>\n",
       "      <td>0.499151</td>\n",
       "      <td>[0.5034068320344114, 0.5034068320344114]</td>\n",
       "      <td>None</td>\n",
       "      <td>precision    recall  f1-score   ...</td>\n",
       "      <td>&lt;xgboost.core.Booster object at 0x7f32468a4820&gt;</td>\n",
       "    </tr>\n",
       "  </tbody>\n",
       "</table>\n",
       "<p>120 rows × 5 columns</p>\n",
       "</div>"
      ],
      "text/plain": [
       "     test_error                                      aucs w_auc  \\\n",
       "0      0.503057      [0.50379590202715, 0.50379590202715]  None   \n",
       "1      0.496943    [0.508734635779073, 0.508734635779073]  None   \n",
       "2      0.501189  [0.5048543919272165, 0.5048543919272165]  None   \n",
       "3      0.502717    [0.502360357955947, 0.502360357955947]  None   \n",
       "4      0.499321  [0.5061017844072763, 0.5061017844072763]  None   \n",
       "..          ...                                       ...   ...   \n",
       "115    0.498132  [0.5057747576472328, 0.5057747576472328]  None   \n",
       "116    0.497962  [0.5046665869463117, 0.5046665869463118]  None   \n",
       "117    0.499490  [0.5026636996830249, 0.5026636996830249]  None   \n",
       "118    0.491678  [0.5107513874519006, 0.5107513874519005]  None   \n",
       "119    0.499151  [0.5034068320344114, 0.5034068320344114]  None   \n",
       "\n",
       "                                                report  \\\n",
       "0                  precision    recall  f1-score   ...   \n",
       "1                  precision    recall  f1-score   ...   \n",
       "2                  precision    recall  f1-score   ...   \n",
       "3                  precision    recall  f1-score   ...   \n",
       "4                  precision    recall  f1-score   ...   \n",
       "..                                                 ...   \n",
       "115                precision    recall  f1-score   ...   \n",
       "116                precision    recall  f1-score   ...   \n",
       "117                precision    recall  f1-score   ...   \n",
       "118                precision    recall  f1-score   ...   \n",
       "119                precision    recall  f1-score   ...   \n",
       "\n",
       "                                               model  \n",
       "0    <xgboost.core.Booster object at 0x7f35ba907130>  \n",
       "1    <xgboost.core.Booster object at 0x7f32e4009580>  \n",
       "2    <xgboost.core.Booster object at 0x7f3583f4f4f0>  \n",
       "3    <xgboost.core.Booster object at 0x7f3574279550>  \n",
       "4    <xgboost.core.Booster object at 0x7f32e4082730>  \n",
       "..                                               ...  \n",
       "115  <xgboost.core.Booster object at 0x7f32468a4640>  \n",
       "116  <xgboost.core.Booster object at 0x7f32468a4850>  \n",
       "117  <xgboost.core.Booster object at 0x7f32468a46a0>  \n",
       "118  <xgboost.core.Booster object at 0x7f32468a4670>  \n",
       "119  <xgboost.core.Booster object at 0x7f32468a4820>  \n",
       "\n",
       "[120 rows x 5 columns]"
      ]
     },
     "execution_count": 620,
     "metadata": {},
     "output_type": "execute_result"
    }
   ],
   "source": [
    "pd.DataFrame(gridsearch_results_sh)"
   ]
  },
  {
   "cell_type": "markdown",
   "metadata": {},
   "source": [
    "## LR"
   ]
  },
  {
   "cell_type": "code",
   "execution_count": 621,
   "metadata": {},
   "outputs": [],
   "source": [
    "from sklearn.linear_model import LogisticRegression"
   ]
  },
  {
   "cell_type": "code",
   "execution_count": 624,
   "metadata": {},
   "outputs": [
    {
     "data": {
      "text/plain": [
       "0.5185122282608695"
      ]
     },
     "execution_count": 624,
     "metadata": {},
     "output_type": "execute_result"
    }
   ],
   "source": [
    "clf = LogisticRegression(random_state=0)\n",
    "clf.fit(X_train_sh, y_train_sh)\n",
    "clf.score(X_test_sh, y_test_sh)"
   ]
  },
  {
   "cell_type": "markdown",
   "metadata": {},
   "source": [
    "# 预测"
   ]
  },
  {
   "cell_type": "code",
   "execution_count": 582,
   "metadata": {},
   "outputs": [],
   "source": [
    "test = inference_dataset\n",
    "test = xgb.DMatrix(test.values, enable_categorical=True)"
   ]
  },
  {
   "cell_type": "code",
   "execution_count": 591,
   "metadata": {},
   "outputs": [
    {
     "data": {
      "text/plain": [
       "((2822180, 70), 70)"
      ]
     },
     "execution_count": 591,
     "metadata": {},
     "output_type": "execute_result"
    }
   ],
   "source": [
    "inference_dataset.shape, test.num_col()"
   ]
  },
  {
   "cell_type": "code",
   "execution_count": 590,
   "metadata": {},
   "outputs": [],
   "source": [
    "bst_wl = gridsearch_results[opt_idx]['model']  # wl_bst_sm\n",
    "bst_sh = gridsearch_results_sh[opt_idx_sh]['model']  # sh_bst_sm"
   ]
  },
  {
   "cell_type": "code",
   "execution_count": 592,
   "metadata": {},
   "outputs": [
    {
     "data": {
      "text/plain": [
       "(Counter({1.0: 1909048,\n",
       "          0.0: 371933,\n",
       "          9.0: 510899,\n",
       "          8.0: 449,\n",
       "          2.0: 25453,\n",
       "          4.0: 286,\n",
       "          3.0: 2141,\n",
       "          6.0: 1804,\n",
       "          5.0: 151,\n",
       "          7.0: 16}),\n",
       " Counter({1.0: 1041974, 0.0: 1780206}))"
      ]
     },
     "execution_count": 592,
     "metadata": {},
     "output_type": "execute_result"
    }
   ],
   "source": [
    "wl = bst_wl.predict(test)\n",
    "sh = bst_sh.predict(test)\n",
    "Counter(wl), Counter(Counter(sh))"
   ]
  },
  {
   "cell_type": "code",
   "execution_count": 594,
   "metadata": {},
   "outputs": [
    {
     "data": {
      "text/plain": [
       "(2822180, 4)"
      ]
     },
     "execution_count": 594,
     "metadata": {},
     "output_type": "execute_result"
    }
   ],
   "source": [
    "test_df['watch_label'] = wl.astype(np.uint8)\n",
    "test_df['is_share'] = sh.astype(np.uint8)\n",
    "test_df.shape"
   ]
  },
  {
   "cell_type": "code",
   "execution_count": 665,
   "metadata": {},
   "outputs": [
    {
     "name": "stdout",
     "output_type": "stream",
     "text": [
      "new submission saved to ../submission-1625568173.csv\n"
     ]
    }
   ],
   "source": [
    "fn = f'../submission-{int(time())}.csv'\n",
    "test_df.to_csv(fn, index=False, sep=\",\")\n",
    "print(f\"new submission saved to {fn}\")"
   ]
  },
  {
   "cell_type": "code",
   "execution_count": 593,
   "metadata": {},
   "outputs": [
    {
     "data": {
      "text/plain": [
       "(2822180, 4)"
      ]
     },
     "execution_count": 593,
     "metadata": {},
     "output_type": "execute_result"
    }
   ],
   "source": [
    "tdf = pd.read_csv('../submission-1625404864.csv')\n",
    "tdf.shape"
   ]
  },
  {
   "cell_type": "code",
   "execution_count": 663,
   "metadata": {},
   "outputs": [],
   "source": [
    "widx = test_df['watch_label'] != tdf['watch_label']\n",
    "sidx = test_df['is_share'] != tdf['is_share']"
   ]
  },
  {
   "cell_type": "code",
   "execution_count": 664,
   "metadata": {},
   "outputs": [
    {
     "data": {
      "text/plain": [
       "(913388, 0)"
      ]
     },
     "execution_count": 664,
     "metadata": {},
     "output_type": "execute_result"
    }
   ],
   "source": [
    "widx.sum(), sidx.sum()"
   ]
  },
  {
   "cell_type": "markdown",
   "metadata": {},
   "source": [
    "# 保存模型"
   ]
  },
  {
   "cell_type": "code",
   "execution_count": 625,
   "metadata": {},
   "outputs": [],
   "source": [
    "wl_model_name = 'wl_model_v10'\n",
    "sh_model_name = 'sh_model_v10'\n",
    "bst_wl.save_model(wl_model_name)\n",
    "bst_sh.save_model(sh_model_name)"
   ]
  },
  {
   "cell_type": "code",
   "execution_count": 636,
   "metadata": {},
   "outputs": [],
   "source": [
    "def write_log(log_name, info, log_path=\"./\"):\n",
    "    import datetime\n",
    "    with open(os.path.join(log_path, log_name), 'w') as log:\n",
    "        log.write(f\"# {datetime.datetime.now().__str__()}\\n\")\n",
    "        if info.get('comment', False):\n",
    "            log.write(f\"\\n## Comment: \\n\")\n",
    "            log.write(f\"{info['comment']}\\n\")\n",
    "            \n",
    "        log.write(f\"\\n## model name: {info['model_name']}\\n\")\n",
    "        log.write(f\"- model save path : {info['model_save_path']}\\n\")\n",
    "        \n",
    "        log.write(f\"\\n## Data setup\\n\")\n",
    "        log.write(f\"- dataset.shape : {dataset.shape}\\n\")\n",
    "        log.write(f\"- dataset.columns : {dataset.columns}\\n\")\n",
    "        log.write(f\"- is resample : {info['is_resample']}\\n\")\n",
    "        log.write(f\"- Traing_Data.shape (watch_label)  : {X_train.shape}\\n\")\n",
    "        log.write(f\"- Testing_Data.shape (watch_label) : {X_test.shape}\\n\")\n",
    "        log.write(f\"- Traing_Data.shape (is_share)  : {X_train_sh.shape}\\n\")\n",
    "        log.write(f\"- Testing_Data.shape (is_share) : {X_test_sh.shape}\\n\")\n",
    "        if info.get('is_resample', False):\n",
    "            log.write(f\"- Resampled class distribution (watch_label): \\n{Counter(resampled_wl)}\\n\")\n",
    "            log.write(f\"- Resampled class distribution (is_share): \\n{Counter(resampled_sh)}\\n\")\n",
    "            \n",
    "        log.write(f\"\\n## Model Params\\n\")\n",
    "        log.write(f\"- model params (watch_label) : \\n{info['param_wl']}\\n\")\n",
    "        log.write(f\"- model params (is_share) : \\n{info['param_sh']}\\n\")\n",
    "        \n",
    "        log.write(f\"\\n## Model's Performance\\n\")\n",
    "        log.write(f\"- Aucs (watch_label) : {info['aucs']}\\n\")\n",
    "        log.write(f\"- Weighted Aucs (watch_label) : {info['w_auc']}\\n\")\n",
    "        log.write(f\"- Aucs (is_share) : {info['aucs_sh']}\\n\")\n",
    "        \n",
    "        log.write(f\"- Classification Report (watch_label) : \\n\\n{info['report']}\\n\")\n",
    "        log.write(f\"- Classification Report (is_share) : \\n\\n{info['report_sh']}\\n\")\n",
    "        \n",
    "        log.flush()\n",
    "        \n",
    "    pass"
   ]
  },
  {
   "cell_type": "code",
   "execution_count": 637,
   "metadata": {},
   "outputs": [],
   "source": [
    "param_wl = all_params[opt_idx]\n",
    "param_sh = all_params[opt_idx_sh]\n",
    "\n",
    "aucs = gridsearch_results[opt_idx]['aucs']\n",
    "w_auc = gridsearch_results[opt_idx]['w_auc']\n",
    "aucs_sh = gridsearch_results_sh[opt_idx]['aucs']\n",
    "\n",
    "report = gridsearch_results[opt_idx]['report']\n",
    "report_sh = gridsearch_results_sh[opt_idx]['report']"
   ]
  },
  {
   "cell_type": "code",
   "execution_count": 666,
   "metadata": {},
   "outputs": [],
   "source": [
    "log_name = \"log_v10.2.md\"\n",
    "info = {'is_resample': True, 'model_name': [wl_model_name, sh_model_name], 'model_save_path': os.getcwd(),\n",
    "        'comment': \"将submission-1625555134.csv中的is_share替换为submission-1625404864.csv中的is_share，保留watch_label。\\nwatch_label的预测：基础特征，is_share的预测：基础特征。\\n此次生成的提交是：submission-1625568173.csv。官方测评得分：xxx😐\",\n",
    "        'param_wl': param_wl, 'param_sh': param_sh, 'aucs': aucs, 'w_auc': w_auc, 'aucs_sh': aucs_sh, \n",
    "        'report': report, 'report_sh': report_sh}\n",
    "write_log(log_name, info)"
   ]
  },
  {
   "cell_type": "markdown",
   "metadata": {},
   "source": [
    "# 服务器间同步文件"
   ]
  },
  {
   "cell_type": "markdown",
   "metadata": {},
   "source": [
    "## 推向Digix服务器"
   ]
  },
  {
   "cell_type": "code",
   "execution_count": 648,
   "metadata": {},
   "outputs": [
    {
     "name": "stdout",
     "output_type": "stream",
     "text": [
      "models.ipynb                                  100%  132KB   9.2MB/s   00:00    \n"
     ]
    }
   ],
   "source": [
    "!scp ./models.ipynb digix@49.123.120.71:/home/digix/digix/Models/models.ipynb "
   ]
  },
  {
   "cell_type": "code",
   "execution_count": 599,
   "metadata": {},
   "outputs": [
    {
     "name": "stdout",
     "output_type": "stream",
     "text": [
      "ssh: connect to host 49.123.120.71 port 22: No route to host\n",
      "lost connection\n"
     ]
    }
   ],
   "source": [
    "!scp ./log_*.md digix@49.123.120.71:/home/digix/digix/Models/"
   ]
  },
  {
   "cell_type": "code",
   "execution_count": 472,
   "metadata": {},
   "outputs": [
    {
     "name": "stdout",
     "output_type": "stream",
     "text": [
      "explore-data.ipynb                            100%  306KB  10.6MB/s   00:00    \n"
     ]
    }
   ],
   "source": [
    "!scp ../explore-data.ipynb digix@49.123.120.71:/home/digix/digix/explore-data.ipynb "
   ]
  },
  {
   "cell_type": "code",
   "execution_count": 650,
   "metadata": {},
   "outputs": [
    {
     "name": "stdout",
     "output_type": "stream",
     "text": [
      "video_features.jay                            100% 9035KB  11.1MB/s   00:00    \n"
     ]
    }
   ],
   "source": [
    "!scp ../2021_3_data/traindata/video_features_data/video_features.jay digix@49.123.120.71:/home/digix/digix/dataset/new_video_features.jay"
   ]
  },
  {
   "cell_type": "markdown",
   "metadata": {},
   "source": [
    "## 从Digix服务器拉数据"
   ]
  },
  {
   "cell_type": "code",
   "execution_count": 1,
   "metadata": {},
   "outputs": [
    {
     "name": "stdout",
     "output_type": "stream",
     "text": [
      "LightGBM.ipynb                                100%   71KB   2.2MB/s   00:00    \n"
     ]
    }
   ],
   "source": [
    "!scp  digix@49.123.120.71:/home/digix/digix/Models/LightGBM.ipynb ./LightGBM.ipynb"
   ]
  },
  {
   "cell_type": "code",
   "execution_count": 2,
   "metadata": {},
   "outputs": [
    {
     "name": "stdout",
     "output_type": "stream",
     "text": [
      "scp: /home/digix/digix/Models/feature_engineering.ipynb: No such file or directory\n"
     ]
    }
   ],
   "source": [
    "!scp  digix@49.123.120.71:/home/digix/digix/Models/feature_engineering.ipynb ./feature_engineering.ipynb"
   ]
  },
  {
   "cell_type": "code",
   "execution_count": 3,
   "metadata": {},
   "outputs": [
    {
     "name": "stdout",
     "output_type": "stream",
     "text": [
      "utils.py                                      100% 3860     2.6MB/s   00:00    \n",
      "data_analysis.ipynb                           100% 6566KB  11.2MB/s   00:00    \n",
      "__init__.py                                   100%    0     0.0KB/s   00:00    \n",
      "__init__.cpython-36.pyc                       100%  139   128.3KB/s   00:00    \n",
      "utils.cpython-36.pyc                          100% 4120     2.6MB/s   00:00    \n",
      "video_data.ipynb                              100%   55KB   1.7MB/s   00:00    \n",
      "user_data-checkpoint.ipynb                    100%  202KB  10.1MB/s   00:00    \n",
      "data_analysis-checkpoint.ipynb                100% 6554KB  11.0MB/s   00:00    \n",
      "utils-checkpoint.py                           100% 3860     2.4MB/s   00:00    \n",
      "video_data-checkpoint.ipynb                   100%   17KB   1.4MB/s   00:00    \n",
      "user_data.ipynb                               100%  202KB  10.3MB/s   00:00    \n"
     ]
    }
   ],
   "source": [
    "!scp -r digix@49.123.120.71:/home/digix/digix/Models/Feature_Engineering/  ./"
   ]
  },
  {
   "cell_type": "code",
   "execution_count": 168,
   "metadata": {},
   "outputs": [
    {
     "name": "stdout",
     "output_type": "stream",
     "text": [
      "video_status.csv                              100% 2008KB   9.1MB/s   00:00    \n",
      "user_status.csv                               100%  138MB   9.3MB/s   00:14    \n"
     ]
    }
   ],
   "source": [
    "!scp -r digix@49.123.120.71:/home/digix/digix/dataset/traindata/video_features_data/video_status.csv ../2021_3_data/traindata/video_features_data/"
   ]
  },
  {
   "cell_type": "code",
   "execution_count": 279,
   "metadata": {},
   "outputs": [
    {
     "name": "stdout",
     "output_type": "stream",
     "text": [
      "user_status.csv                               100%  168MB  11.2MB/s   00:14    \n"
     ]
    }
   ],
   "source": [
    "!scp -r digix@49.123.120.71:/home/digix/digix/dataset/traindata/user_features_data/user_status.csv ../2021_3_data/traindata/user_features_data/"
   ]
  },
  {
   "cell_type": "code",
   "execution_count": null,
   "metadata": {},
   "outputs": [],
   "source": []
  }
 ],
 "metadata": {
  "kernelspec": {
   "display_name": "Python 3",
   "language": "python",
   "name": "python3"
  },
  "language_info": {
   "codemirror_mode": {
    "name": "ipython",
    "version": 3
   },
   "file_extension": ".py",
   "mimetype": "text/x-python",
   "name": "python",
   "nbconvert_exporter": "python",
   "pygments_lexer": "ipython3",
   "version": "3.8.10"
  },
  "toc-autonumbering": true
 },
 "nbformat": 4,
 "nbformat_minor": 4
}
