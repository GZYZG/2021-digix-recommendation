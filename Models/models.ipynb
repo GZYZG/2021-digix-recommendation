{
 "cells": [
  {
   "cell_type": "code",
   "execution_count": 2,
   "metadata": {},
   "outputs": [
    {
     "data": {
      "text/html": [
       "<style type='text/css'>\n",
       ".datatable table.frame { margin-bottom: 0; }\n",
       ".datatable table.frame thead { border-bottom: none; }\n",
       ".datatable table.frame tr.coltypes td {  color: #FFFFFF;  line-height: 6px;  padding: 0 0.5em;}\n",
       ".datatable .bool    { background: #DDDD99; }\n",
       ".datatable .object  { background: #565656; }\n",
       ".datatable .int     { background: #5D9E5D; }\n",
       ".datatable .float   { background: #4040CC; }\n",
       ".datatable .str     { background: #CC4040; }\n",
       ".datatable .time    { background: #40CC40; }\n",
       ".datatable .row_index {  background: var(--jp-border-color3);  border-right: 1px solid var(--jp-border-color0);  color: var(--jp-ui-font-color3);  font-size: 9px;}\n",
       ".datatable .frame tbody td { text-align: left; }\n",
       ".datatable .frame tr.coltypes .row_index {  background: var(--jp-border-color0);}\n",
       ".datatable th:nth-child(2) { padding-left: 12px; }\n",
       ".datatable .hellipsis {  color: var(--jp-cell-editor-border-color);}\n",
       ".datatable .vellipsis {  background: var(--jp-layout-color0);  color: var(--jp-cell-editor-border-color);}\n",
       ".datatable .na {  color: var(--jp-cell-editor-border-color);  font-size: 80%;}\n",
       ".datatable .sp {  opacity: 0.25;}\n",
       ".datatable .footer { font-size: 9px; }\n",
       ".datatable .frame_dimensions {  background: var(--jp-border-color3);  border-top: 1px solid var(--jp-border-color0);  color: var(--jp-ui-font-color3);  display: inline-block;  opacity: 0.6;  padding: 1px 10px 1px 5px;}\n",
       "</style>\n"
      ],
      "text/plain": [
       "<IPython.core.display.HTML object>"
      ]
     },
     "metadata": {},
     "output_type": "display_data"
    }
   ],
   "source": [
    "import numpy as np\n",
    "from sklearn import metrics\n",
    "import os\n",
    "from sklearn.model_selection import train_test_split\n",
    "from sklearn import metrics\n",
    "from time import time\n",
    "import pandas as pd\n",
    "import xgboost as xgb\n",
    "from collections import Counter\n",
    "from imblearn.over_sampling import SMOTE\n",
    "from imblearn.under_sampling import NearMiss, TomekLinks\n",
    "import datatable as dt\n",
    "import warnings\n",
    "import json\n",
    "import pickle\n",
    "\n",
    "from tools import *"
   ]
  },
  {
   "cell_type": "markdown",
   "metadata": {},
   "source": [
    "# 给定预测标签，计算AUC\n",
    "使用OVR的策略计算每个类别的AUC\n",
    "过程：\n",
    "- 选择类别i作为正类，其他类别作为负类\n",
    "- 将真实标签中不等于i的标记为0，等于i的标记为1\n",
    "- 将预测标签中不等于i的标记为0，等于ide标记为1\n",
    "- 计算混淆矩阵\n",
    "- 计算(fpr, tpr)\n",
    "- 计算AUC"
   ]
  },
  {
   "cell_type": "markdown",
   "metadata": {},
   "source": [
    "# 加载数据\n",
    "训练数据加载过程：\n",
    "1. 分别加载处理好的用户特征和视频特征，以及整合的用户历史行为数据；\n",
    "2. 从用户历史行为数据中筛掉在视频特征中没出现过的video_id；\n",
    "3. 将行为数据中的user_id、video_id替换为对应用户/视频的特征\n",
    "4. 根据不同的任务划分为`watch_label`、`is_share`的数据集\n",
    "\n",
    "推断时，类似于上述过程拼接数据。"
   ]
  },
  {
   "cell_type": "markdown",
   "metadata": {},
   "source": [
    "## 读取数据"
   ]
  },
  {
   "cell_type": "code",
   "execution_count": 3,
   "metadata": {},
   "outputs": [],
   "source": [
    "base_dir = \"../2021_3_data\"\n",
    "test_data_dir  = os.path.join(base_dir, \"testdata\")\n",
    "train_data_dir = os.path.join(base_dir, \"traindata\")"
   ]
  },
  {
   "cell_type": "markdown",
   "metadata": {},
   "source": [
    "### 基础特征与附加特征合并"
   ]
  },
  {
   "cell_type": "code",
   "execution_count": 4,
   "metadata": {},
   "outputs": [],
   "source": [
    "video_status = dt.fread(os.path.join(train_data_dir, \"video_features_data/video_status.csv\"))\n",
    "user_status = dt.fread(os.path.join(train_data_dir, \"user_features_data/user_status.csv\"))"
   ]
  },
  {
   "cell_type": "code",
   "execution_count": 282,
   "metadata": {},
   "outputs": [],
   "source": [
    "tab_user = dt.fread(os.path.join(train_data_dir, \"user_features_data/user_features.jay\"))\n",
    "tab_video = dt.fread(os.path.join(train_data_dir, \"video_features_data/video_features.jay\"))"
   ]
  },
  {
   "cell_type": "code",
   "execution_count": 283,
   "metadata": {},
   "outputs": [],
   "source": [
    "video_status.key = 'video_id'\n",
    "video_ws = tab_video[:, :, join(video_status)]"
   ]
  },
  {
   "cell_type": "code",
   "execution_count": 286,
   "metadata": {},
   "outputs": [],
   "source": [
    "user_status.key = 'user_id'\n",
    "user_ws = tab_user[:, :, join(user_status)]"
   ]
  },
  {
   "cell_type": "code",
   "execution_count": 288,
   "metadata": {},
   "outputs": [],
   "source": [
    "video_ws.to_jay(os.path.join(train_data_dir, \"video_features_data/video_features_with_status.jay\"))"
   ]
  },
  {
   "cell_type": "code",
   "execution_count": 289,
   "metadata": {},
   "outputs": [],
   "source": [
    "user_ws.to_jay(os.path.join(train_data_dir, \"user_features_data/user_features_with_status.jay\"))"
   ]
  },
  {
   "cell_type": "code",
   "execution_count": 287,
   "metadata": {
    "collapsed": true,
    "jupyter": {
     "outputs_hidden": true
    },
    "tags": []
   },
   "outputs": [
    {
     "data": {
      "text/html": [
       "<div class='datatable'>\n",
       "  <table class='frame'>\n",
       "  <thead>\n",
       "    <tr class='colnames'><td class='row_index'></td><th>user_id</th><th>age_0</th><th>age_1</th><th>age_2</th><th>age_3</th><th>age_4</th><th>age_5</th><th>age_6</th><th>age_7</th><th>gender_0</th><th class='vellipsis'>&hellip;</th><th>average_watch_label</th><th>sum_watch_times</th><th>sum_comment_times</th><th>sum_collect_times</th><th>sum_share_times</th></tr>\n",
       "    <tr class='coltypes'><td class='row_index'></td><td class='float' title='float64'>&#x25AA;&#x25AA;&#x25AA;&#x25AA;&#x25AA;&#x25AA;&#x25AA;&#x25AA;</td><td class='float' title='float64'>&#x25AA;&#x25AA;&#x25AA;&#x25AA;&#x25AA;&#x25AA;&#x25AA;&#x25AA;</td><td class='float' title='float64'>&#x25AA;&#x25AA;&#x25AA;&#x25AA;&#x25AA;&#x25AA;&#x25AA;&#x25AA;</td><td class='float' title='float64'>&#x25AA;&#x25AA;&#x25AA;&#x25AA;&#x25AA;&#x25AA;&#x25AA;&#x25AA;</td><td class='float' title='float64'>&#x25AA;&#x25AA;&#x25AA;&#x25AA;&#x25AA;&#x25AA;&#x25AA;&#x25AA;</td><td class='float' title='float64'>&#x25AA;&#x25AA;&#x25AA;&#x25AA;&#x25AA;&#x25AA;&#x25AA;&#x25AA;</td><td class='float' title='float64'>&#x25AA;&#x25AA;&#x25AA;&#x25AA;&#x25AA;&#x25AA;&#x25AA;&#x25AA;</td><td class='float' title='float64'>&#x25AA;&#x25AA;&#x25AA;&#x25AA;&#x25AA;&#x25AA;&#x25AA;&#x25AA;</td><td class='float' title='float64'>&#x25AA;&#x25AA;&#x25AA;&#x25AA;&#x25AA;&#x25AA;&#x25AA;&#x25AA;</td><td class='float' title='float64'>&#x25AA;&#x25AA;&#x25AA;&#x25AA;&#x25AA;&#x25AA;&#x25AA;&#x25AA;</td><td></td><td class='float' title='float64'>&#x25AA;&#x25AA;&#x25AA;&#x25AA;&#x25AA;&#x25AA;&#x25AA;&#x25AA;</td><td class='float' title='float64'>&#x25AA;&#x25AA;&#x25AA;&#x25AA;&#x25AA;&#x25AA;&#x25AA;&#x25AA;</td><td class='float' title='float64'>&#x25AA;&#x25AA;&#x25AA;&#x25AA;&#x25AA;&#x25AA;&#x25AA;&#x25AA;</td><td class='float' title='float64'>&#x25AA;&#x25AA;&#x25AA;&#x25AA;&#x25AA;&#x25AA;&#x25AA;&#x25AA;</td><td class='float' title='float64'>&#x25AA;&#x25AA;&#x25AA;&#x25AA;&#x25AA;&#x25AA;&#x25AA;&#x25AA;</td></tr>\n",
       "  </thead>\n",
       "  <tbody>\n",
       "    <tr><td class='row_index'>0</td><td>1.757e+06</td><td>0</td><td>0</td><td>0</td><td>1</td><td>0</td><td>0</td><td>0</td><td>0</td><td>0</td><td class=vellipsis>&hellip;</td><td>0</td><td>0</td><td>0</td><td>0</td><td>0</td></tr>\n",
       "    <tr><td class='row_index'>1</td><td>17938</td><td>1</td><td>0</td><td>0</td><td>0</td><td>0</td><td>0</td><td>0</td><td>0</td><td>1</td><td class=vellipsis>&hellip;</td><td>0.0967742</td><td>3</td><td>0</td><td>0</td><td>0</td></tr>\n",
       "    <tr><td class='row_index'>2</td><td>4.26352e+06</td><td>0</td><td>1</td><td>0</td><td>0</td><td>0</td><td>0</td><td>0</td><td>0</td><td>1</td><td class=vellipsis>&hellip;</td><td>0.204545</td><td>2</td><td>0</td><td>0</td><td>0</td></tr>\n",
       "    <tr><td class='row_index'>3</td><td>1.4116e+06</td><td>0</td><td>0</td><td>0</td><td>1</td><td>0</td><td>0</td><td>0</td><td>0</td><td>1</td><td class=vellipsis>&hellip;</td><td>0</td><td>0</td><td>0</td><td>0</td><td>0</td></tr>\n",
       "    <tr><td class='row_index'>4</td><td>3.99224e+06</td><td>0</td><td>0</td><td>1</td><td>0</td><td>0</td><td>0</td><td>0</td><td>0</td><td>1</td><td class=vellipsis>&hellip;</td><td>0</td><td>0</td><td>0</td><td>0</td><td>0</td></tr>\n",
       "    <tr><td class='row_index'>5</td><td>4.0116e+06</td><td>0</td><td>0</td><td>1</td><td>0</td><td>0</td><td>0</td><td>0</td><td>0</td><td>1</td><td class=vellipsis>&hellip;</td><td>0</td><td>0</td><td>0</td><td>0</td><td>0</td></tr>\n",
       "    <tr><td class='row_index'>6</td><td>4.78556e+06</td><td>0</td><td>0</td><td>0</td><td>0</td><td>0</td><td>1</td><td>0</td><td>0</td><td>0</td><td class=vellipsis>&hellip;</td><td>0</td><td>0</td><td>0</td><td>0</td><td>0</td></tr>\n",
       "    <tr><td class='row_index'>7</td><td>5.11036e+06</td><td>1</td><td>0</td><td>0</td><td>0</td><td>0</td><td>0</td><td>0</td><td>0</td><td>1</td><td class=vellipsis>&hellip;</td><td>0</td><td>0</td><td>0</td><td>0</td><td>0</td></tr>\n",
       "    <tr><td class='row_index'>8</td><td>1.3212e+06</td><td>0</td><td>0</td><td>0</td><td>0</td><td>0</td><td>1</td><td>0</td><td>0</td><td>0</td><td class=vellipsis>&hellip;</td><td>0</td><td>0</td><td>0</td><td>0</td><td>0</td></tr>\n",
       "    <tr><td class='row_index'>9</td><td>3.20698e+06</td><td>1</td><td>0</td><td>0</td><td>0</td><td>0</td><td>0</td><td>0</td><td>0</td><td>0</td><td class=vellipsis>&hellip;</td><td>0</td><td>0</td><td>0</td><td>0</td><td>0</td></tr>\n",
       "    <tr><td class='row_index'>10</td><td>5.18172e+06</td><td>0</td><td>1</td><td>0</td><td>0</td><td>0</td><td>0</td><td>0</td><td>0</td><td>0</td><td class=vellipsis>&hellip;</td><td>0</td><td>1</td><td>0</td><td>0</td><td>0</td></tr>\n",
       "    <tr><td class='row_index'>11</td><td>1.878e+06</td><td>0</td><td>0</td><td>0</td><td>0</td><td>0</td><td>1</td><td>0</td><td>0</td><td>0</td><td class=vellipsis>&hellip;</td><td>0</td><td>1</td><td>0</td><td>0</td><td>0</td></tr>\n",
       "    <tr><td class='row_index'>12</td><td>3.04464e+06</td><td>0</td><td>1</td><td>0</td><td>0</td><td>0</td><td>0</td><td>0</td><td>0</td><td>0</td><td class=vellipsis>&hellip;</td><td>0</td><td>1</td><td>0</td><td>0</td><td>0</td></tr>\n",
       "    <tr><td class='row_index'>13</td><td>108273</td><td>0</td><td>1</td><td>0</td><td>0</td><td>0</td><td>0</td><td>0</td><td>0</td><td>0</td><td class=vellipsis>&hellip;</td><td>0</td><td>0</td><td>0</td><td>0</td><td>0</td></tr>\n",
       "    <tr><td class='row_index'>14</td><td>5.64838e+06</td><td>0</td><td>0</td><td>0</td><td>1</td><td>0</td><td>0</td><td>0</td><td>0</td><td>0</td><td class=vellipsis>&hellip;</td><td>0</td><td>0</td><td>0</td><td>0</td><td>0</td></tr>\n",
       "    <tr><td class='row_index'>&#x22EE;</td><td class='hellipsis'>&#x22EE;</td><td class='hellipsis'>&#x22EE;</td><td class='hellipsis'>&#x22EE;</td><td class='hellipsis'>&#x22EE;</td><td class='hellipsis'>&#x22EE;</td><td class='hellipsis'>&#x22EE;</td><td class='hellipsis'>&#x22EE;</td><td class='hellipsis'>&#x22EE;</td><td class='hellipsis'>&#x22EE;</td><td class='hellipsis'>&#x22EE;</td><td class='hellipsis'>&#x22F1;</td><td class='hellipsis'>&#x22EE;</td><td class='hellipsis'>&#x22EE;</td><td class='hellipsis'>&#x22EE;</td><td class='hellipsis'>&#x22EE;</td><td class='hellipsis'>&#x22EE;</td></tr>\n",
       "    <tr><td class='row_index'>5,910,795</td><td>3.22343e+06</td><td>0</td><td>0</td><td>0</td><td>0</td><td>1</td><td>0</td><td>0</td><td>0</td><td>1</td><td class=vellipsis>&hellip;</td><td>0</td><td>0</td><td>0</td><td>0</td><td>0</td></tr>\n",
       "    <tr><td class='row_index'>5,910,796</td><td>4.70783e+06</td><td>0</td><td>0</td><td>0</td><td>0</td><td>1</td><td>0</td><td>0</td><td>0</td><td>1</td><td class=vellipsis>&hellip;</td><td>0.142857</td><td>3</td><td>0</td><td>0</td><td>0</td></tr>\n",
       "    <tr><td class='row_index'>5,910,797</td><td>5.90765e+06</td><td>1</td><td>0</td><td>0</td><td>0</td><td>0</td><td>0</td><td>0</td><td>0</td><td>1</td><td class=vellipsis>&hellip;</td><td>0</td><td>2</td><td>0</td><td>0</td><td>0</td></tr>\n",
       "    <tr><td class='row_index'>5,910,798</td><td>3.63322e+06</td><td>0</td><td>0</td><td>0</td><td>1</td><td>0</td><td>0</td><td>0</td><td>0</td><td>1</td><td class=vellipsis>&hellip;</td><td>0</td><td>0</td><td>0</td><td>0</td><td>0</td></tr>\n",
       "    <tr><td class='row_index'>5,910,799</td><td>782537</td><td>0</td><td>0</td><td>0</td><td>1</td><td>0</td><td>0</td><td>0</td><td>0</td><td>1</td><td class=vellipsis>&hellip;</td><td>0</td><td>0</td><td>0</td><td>0</td><td>0</td></tr>\n",
       "  </tbody>\n",
       "  </table>\n",
       "  <div class='footer'>\n",
       "    <div class='frame_dimensions'>5,910,800 rows &times; 36 columns</div>\n",
       "  </div>\n",
       "</div>\n"
      ],
      "text/plain": [
       "<Frame#7f315506be10 5910800x36>"
      ]
     },
     "execution_count": 287,
     "metadata": {},
     "output_type": "execute_result"
    }
   ],
   "source": [
    "user_ws"
   ]
  },
  {
   "cell_type": "markdown",
   "metadata": {},
   "source": [
    "### 通过 .npz 读取数据"
   ]
  },
  {
   "cell_type": "markdown",
   "metadata": {},
   "source": [
    "#### 单表读取后合并"
   ]
  },
  {
   "cell_type": "code",
   "execution_count": 20,
   "metadata": {
    "tags": []
   },
   "outputs": [
    {
     "name": "stdout",
     "output_type": "stream",
     "text": [
      "CPU times: user 3.6 s, sys: 2.4 s, total: 6 s\n",
      "Wall time: 12.1 s\n"
     ]
    }
   ],
   "source": [
    "%%time\n",
    "# 单独读取每个文件再进行合并\n",
    "user_df = read_npz_to_df(os.path.join(train_data_dir, \"user_features_data/user_features.npz\"), data_name='features', column_name='columns')\n",
    "video_df = read_npz_to_df(os.path.join(train_data_dir, \"video_features_data/video_features.npz\"), data_name='features')\n",
    "action_df = read_npz_to_df(os.path.join(train_data_dir, \"all_actions.npz\"), data_name='data')"
   ]
  },
  {
   "cell_type": "code",
   "execution_count": 797,
   "metadata": {},
   "outputs": [],
   "source": [
    "# 因为将字符串保存到 .npz时会使dtype为object，重新读回DataFrame时各个列的数据类型均为 object，所以先转换类型\n",
    "dtypes = dict(zip(video_df.columns, [np.float32] * video_df.shape[1]))\n",
    "dtypes.update({'video_name': np.str})\n",
    "video_df = video_df.astype(dtypes)"
   ]
  },
  {
   "cell_type": "code",
   "execution_count": 802,
   "metadata": {},
   "outputs": [
    {
     "name": "stdout",
     "output_type": "stream",
     "text": [
      "CPU times: user 1min 29s, sys: 5.88 s, total: 1min 35s\n",
      "Wall time: 40.1 s\n"
     ]
    },
    {
     "data": {
      "text/plain": [
       "(7353024, 76)"
      ]
     },
     "execution_count": 802,
     "metadata": {},
     "output_type": "execute_result"
    }
   ],
   "source": [
    "%%time\n",
    "# 合并各个表\n",
    "df_train = merge_user_video_action(user_df, video_df, action_df)\n",
    "df_train.shape"
   ]
  },
  {
   "cell_type": "code",
   "execution_count": 805,
   "metadata": {},
   "outputs": [],
   "source": [
    "np.savez(os.path.join(train_data_dir, \"train.npz\"), data=df_train.to_pandas().values, columns=df_train.to_pandas().columns.tolist())"
   ]
  },
  {
   "cell_type": "code",
   "execution_count": 777,
   "metadata": {},
   "outputs": [
    {
     "name": "stdout",
     "output_type": "stream",
     "text": [
      "CPU times: user 626 ms, sys: 0 ns, total: 626 ms\n",
      "Wall time: 721 ms\n"
     ]
    }
   ],
   "source": [
    "%%time\n",
    "test_df = load_table(os.path.join(test_data_dir, \"test.csv\"), ftype=\"csv\")"
   ]
  },
  {
   "cell_type": "code",
   "execution_count": 779,
   "metadata": {},
   "outputs": [
    {
     "name": "stdout",
     "output_type": "stream",
     "text": [
      "CPU times: user 3min 8s, sys: 12.8 s, total: 3min 20s\n",
      "Wall time: 51.2 s\n"
     ]
    },
    {
     "data": {
      "text/plain": [
       "(2822180, 73)"
      ]
     },
     "execution_count": 779,
     "metadata": {},
     "output_type": "execute_result"
    }
   ],
   "source": [
    "%%time\n",
    "df_test = merge_user_video_action(user_df, video_df, test_df)\n",
    "df_test.shape"
   ]
  },
  {
   "cell_type": "markdown",
   "metadata": {},
   "source": [
    "#### 读取合并好的数据"
   ]
  },
  {
   "cell_type": "code",
   "execution_count": 806,
   "metadata": {},
   "outputs": [
    {
     "name": "stdout",
     "output_type": "stream",
     "text": [
      "CPU times: user 3min 2s, sys: 38.4 s, total: 3min 40s\n",
      "Wall time: 3min 41s\n"
     ]
    },
    {
     "data": {
      "text/plain": [
       "(7353024, 76)"
      ]
     },
     "execution_count": 806,
     "metadata": {},
     "output_type": "execute_result"
    }
   ],
   "source": [
    "%%time\n",
    "# 直接读取保存好的合并后的训练数据\n",
    "path = os.path.join(train_data_dir, \"train.npz\")\n",
    "df_train = read_npz_to_df(path, data_name='data')\n",
    "df_train.shape"
   ]
  },
  {
   "cell_type": "code",
   "execution_count": 810,
   "metadata": {},
   "outputs": [
    {
     "name": "stdout",
     "output_type": "stream",
     "text": [
      "CPU times: user 1min 37s, sys: 36.9 s, total: 2min 14s\n",
      "Wall time: 5min 49s\n"
     ]
    },
    {
     "data": {
      "text/plain": [
       "(2822180, 73)"
      ]
     },
     "execution_count": 810,
     "metadata": {},
     "output_type": "execute_result"
    }
   ],
   "source": [
    "%%time\n",
    "# 直接读取保存好的合并后的测试数据\n",
    "path = os.path.join(test_data_dir, \"test.npz\")\n",
    "df_test = read_npz_to_df(path, data_name='data')\n",
    "df_test.shape"
   ]
  },
  {
   "cell_type": "markdown",
   "metadata": {},
   "source": [
    "### 通过 .jay 文件读取"
   ]
  },
  {
   "cell_type": "markdown",
   "metadata": {},
   "source": [
    "#### 单表读取后合并"
   ]
  },
  {
   "cell_type": "code",
   "execution_count": 4,
   "metadata": {},
   "outputs": [],
   "source": [
    "with_status = False\n",
    "if with_status:\n",
    "    user_features_name = \"user_features_with_status\"\n",
    "    video_features_name = \"video_features_with_status\"\n",
    "else:\n",
    "    user_features_name = \"user_features\"\n",
    "    video_features_name = \"video_features\"\n",
    "    \n",
    "p_user = os.path.join(train_data_dir, f\"user_features_data/{user_features_name}.jay\")\n",
    "p_video = os.path.join(train_data_dir, f\"video_features_data/{video_features_name}.jay\")"
   ]
  },
  {
   "cell_type": "code",
   "execution_count": 5,
   "metadata": {},
   "outputs": [
    {
     "name": "stdout",
     "output_type": "stream",
     "text": [
      "CPU times: user 30.6 s, sys: 3.19 s, total: 33.8 s\n",
      "Wall time: 5.98 s\n"
     ]
    },
    {
     "data": {
      "text/plain": [
       "(7353024, 133)"
      ]
     },
     "execution_count": 5,
     "metadata": {},
     "output_type": "execute_result"
    }
   ],
   "source": [
    "%%time\n",
    "## 使用datatable 加载训练数据\n",
    "p_act = os.path.join(train_data_dir, \"all_actions_with_status.jay\")\n",
    "\n",
    "df_train, others = load_train_test_data(None, pre_merged=False, return_others=True,\n",
    "                           **{\"p_user\": p_user, \"p_video\": p_video, \"p_action\": p_act})\n",
    "user_df = others['user']\n",
    "video_df = others['video']\n",
    "action_df = others['action']\n",
    "df_train.shape"
   ]
  },
  {
   "cell_type": "raw",
   "metadata": {},
   "source": [
    "action_date = dt.fread(os.path.join(train_data_dir, f\"all_actions_with_ptd.jay\"))\n",
    "video_status = dt.fread(os.path.join(train_data_dir, f\"video_features_data/video_137days_status.csv\"))\n",
    "user_status = dt.fread(os.path.join(train_data_dir, f\"user_features_data/user_137days_status.csv\"))\n",
    "video_status.key = ('video_id', 'pt_d')\n",
    "user_status.key = ('user_id', 'pt_d')\n",
    "video_status"
   ]
  },
  {
   "cell_type": "code",
   "execution_count": null,
   "metadata": {},
   "outputs": [],
   "source": [
    "tt = df_train.to_pandas()\n",
    "np.savez(os.path.join(train_data_dir, \"train\"), data=tt.values, columns=tt.columns.tolist())"
   ]
  },
  {
   "cell_type": "code",
   "execution_count": 6,
   "metadata": {},
   "outputs": [
    {
     "name": "stdout",
     "output_type": "stream",
     "text": [
      "CPU times: user 21 s, sys: 1.73 s, total: 22.7 s\n",
      "Wall time: 1.21 s\n"
     ]
    },
    {
     "data": {
      "text/plain": [
       "(2822180, 130)"
      ]
     },
     "execution_count": 6,
     "metadata": {},
     "output_type": "execute_result"
    }
   ],
   "source": [
    "%%time\n",
    "# p_user = os.path.join(train_data_dir, \"user_features_data/user_features.jay\")\n",
    "# p_video = os.path.join(train_data_dir, \"video_features_data/video_features.jay\")\n",
    "p_act = os.path.join(test_data_dir, \"test_with_status.jay\")\n",
    "\n",
    "#path = os.path.join(test_data_dir, \"test.jay\")\n",
    "kwargs = {\"p_user\": p_user, \"p_video\": p_video, \"p_action\": p_act}\n",
    "\n",
    "df_test, others = load_train_test_data(None, pre_merged=False, return_others=True, **kwargs)\n",
    "test_df = others['action']\n",
    "df_test.shape"
   ]
  },
  {
   "cell_type": "raw",
   "metadata": {},
   "source": [
    "test_df = dt.fread(os.path.join(test_data_dir, \"test.csv\"))\n",
    "video_status = dt.fread(os.path.join(train_data_dir, f\"video_features_data/video_137days_status.csv\"))\n",
    "user_status = dt.fread(os.path.join(train_data_dir, f\"user_features_data/user_137days_status.csv\"))\n",
    "video_status.key = ('video_id', 'pt_d')\n",
    "user_status.key = ('user_id', 'pt_d')\n",
    "test_df['pt_d'] = 20210503\n",
    "test_df = test_df[:, :, dt.join(video_status)]\n",
    "test_df = test_df[:, :, dt.join(user_status)]\n",
    "test_df"
   ]
  },
  {
   "cell_type": "raw",
   "metadata": {},
   "source": [
    "del test_df['pt_d']\n",
    "test_df.to_jay(os.path.join(test_data_dir, \"test_with_status.jay\"))"
   ]
  },
  {
   "cell_type": "code",
   "execution_count": 7,
   "metadata": {},
   "outputs": [],
   "source": [
    "action_df = action_df.to_pandas()\n",
    "user_df = user_df.to_pandas()\n",
    "video_df = video_df.to_pandas()"
   ]
  },
  {
   "cell_type": "code",
   "execution_count": 8,
   "metadata": {},
   "outputs": [],
   "source": [
    "test_df = test_df.to_pandas()"
   ]
  },
  {
   "cell_type": "markdown",
   "metadata": {},
   "source": [
    "#### 读取合并好后的数据"
   ]
  },
  {
   "cell_type": "code",
   "execution_count": 14,
   "metadata": {
    "tags": []
   },
   "outputs": [],
   "source": [
    "df_test.to_jay(os.path.join(test_data_dir, \"test_with_status.jay\"))"
   ]
  },
  {
   "cell_type": "code",
   "execution_count": 15,
   "metadata": {},
   "outputs": [],
   "source": [
    "df_train.to_jay(os.path.join(train_data_dir, \"train_with_status.jay\"))"
   ]
  },
  {
   "cell_type": "code",
   "execution_count": 468,
   "metadata": {},
   "outputs": [
    {
     "name": "stdout",
     "output_type": "stream",
     "text": [
      "CPU times: user 0 ns, sys: 177 ms, total: 177 ms\n",
      "Wall time: 184 ms\n"
     ]
    },
    {
     "data": {
      "text/plain": [
       "(7353024, 76)"
      ]
     },
     "execution_count": 468,
     "metadata": {},
     "output_type": "execute_result"
    }
   ],
   "source": [
    "%%time\n",
    "# 直接读取保存好的合并后的训练数据\n",
    "path = os.path.join(train_data_dir, \"train.jay\")\n",
    "df_train = load_train_test_data(path, pre_merged=True)\n",
    "df_train.shape"
   ]
  },
  {
   "cell_type": "code",
   "execution_count": 454,
   "metadata": {},
   "outputs": [
    {
     "name": "stdout",
     "output_type": "stream",
     "text": [
      "CPU times: user 649 µs, sys: 46 µs, total: 695 µs\n",
      "Wall time: 684 µs\n"
     ]
    },
    {
     "data": {
      "text/plain": [
       "(2822180, 72)"
      ]
     },
     "execution_count": 454,
     "metadata": {},
     "output_type": "execute_result"
    }
   ],
   "source": [
    "%%time\n",
    "# 直接读取保存好的合并后的测试数据\n",
    "path = os.path.join(test_data_dir, \"test.jay\")\n",
    "df_test = load_train_test_data(path, pre_merged=True)\n",
    "df_test.shape"
   ]
  },
  {
   "cell_type": "markdown",
   "metadata": {},
   "source": [
    "## 处理训练数据\n",
    "可在此做一些预处理：\n",
    "- 从用户历史行为数据中筛掉在视频特征中没出现过的video_id\n",
    "- 删除多余的列\n",
    "- 调整列的顺序\n",
    "- 改变列的数据类型\n"
   ]
  },
  {
   "cell_type": "code",
   "execution_count": 9,
   "metadata": {},
   "outputs": [
    {
     "name": "stdout",
     "output_type": "stream",
     "text": [
      "CPU times: user 26.6 s, sys: 3.74 s, total: 30.4 s\n",
      "Wall time: 7.52 s\n"
     ]
    }
   ],
   "source": [
    "%%time\n",
    "if isinstance(df_train, dt.Frame):\n",
    "    df_train = df_train.to_pandas()\n",
    "if isinstance(df_test, dt.Frame):\n",
    "    df_test = df_test.to_pandas()"
   ]
  },
  {
   "cell_type": "code",
   "execution_count": 10,
   "metadata": {
    "tags": []
   },
   "outputs": [
    {
     "name": "stdout",
     "output_type": "stream",
     "text": [
      "<class 'pandas.core.frame.DataFrame'>\n",
      "RangeIndex: 7353024 entries, 0 to 7353023\n",
      "Columns: 133 entries, user_id to da_4\n",
      "dtypes: float32(40), float64(63), int32(20), int64(9), object(1)\n",
      "memory usage: 5.6+ GB\n"
     ]
    }
   ],
   "source": [
    "df_train.info()"
   ]
  },
  {
   "cell_type": "code",
   "execution_count": 11,
   "metadata": {},
   "outputs": [],
   "source": [
    "# 删除 video_name、is_watch 列\n",
    "df_train.drop(['video_name', 'is_watch'], axis=1, inplace=True)"
   ]
  },
  {
   "cell_type": "code",
   "execution_count": 91,
   "metadata": {},
   "outputs": [],
   "source": [
    "if 'action_df' not in dir():\n",
    "    action_df = load_table(os.path.join(train_data_dir, \"all_actions.jay\")).to_pandas()\n",
    "if 'video_df' not in dir():\n",
    "    video_df = load_table(os.path.join(train_data_dir, \"video_features_data/video_features.jay\")).to_pandas()"
   ]
  },
  {
   "cell_type": "raw",
   "metadata": {},
   "source": [
    "# 从用户历史行为数据中筛掉在视频特征中没出现过的video_id\n",
    "idx1 = pd.Index(action_df['video_id'].unique())\n",
    "idx2 = pd.Index(video_df['video_id'])\n",
    "not_exists = idx1.difference(idx2)\n",
    "not_exists"
   ]
  },
  {
   "cell_type": "raw",
   "metadata": {},
   "source": [
    "%%time\n",
    "# 将训练数据中未出现的视频剔除\n",
    "n = 0\n",
    "for vid in not_exists:\n",
    "    tn = (df_train['video_id'] == vid).sum()\n",
    "    df_train['video_id'].replace(vid, np.nan, inplace=True)\n",
    "    n += tn\n",
    "\n",
    "if n > 0:\n",
    "    df_train.dropna(axis=0, inplace=True)\n",
    "    df_train.reset_index(drop=True, inplace=True)\n",
    "print(n)"
   ]
  },
  {
   "cell_type": "code",
   "execution_count": 12,
   "metadata": {},
   "outputs": [],
   "source": [
    "# 删除 video_id、user_id列\n",
    "df_train.drop(['user_id', 'video_id'], axis=1, inplace=True)"
   ]
  },
  {
   "cell_type": "code",
   "execution_count": 13,
   "metadata": {},
   "outputs": [
    {
     "data": {
      "text/plain": [
       "(7353024, 129)"
      ]
     },
     "execution_count": 13,
     "metadata": {},
     "output_type": "execute_result"
    }
   ],
   "source": [
    "dataset = df_train\n",
    "dataset.shape"
   ]
  },
  {
   "cell_type": "code",
   "execution_count": 14,
   "metadata": {},
   "outputs": [
    {
     "data": {
      "text/plain": [
       "((7353024,), (7353024,), (7353024, 127))"
      ]
     },
     "execution_count": 14,
     "metadata": {},
     "output_type": "execute_result"
    }
   ],
   "source": [
    "# 准备数据\n",
    "watch_label = dataset.pop('watch_label').astype(np.uint8)\n",
    "is_share = dataset.pop('is_share').astype(np.uint8)\n",
    "watch_label.shape, is_share.shape, dataset.shape"
   ]
  },
  {
   "cell_type": "markdown",
   "metadata": {},
   "source": [
    "## 处理测试数据"
   ]
  },
  {
   "cell_type": "code",
   "execution_count": 15,
   "metadata": {},
   "outputs": [],
   "source": [
    "if 'test_df' not in dir():\n",
    "    test_df = pd.read_csv(os.path.join(test_data_dir, \"test.csv\"))"
   ]
  },
  {
   "cell_type": "code",
   "execution_count": 17,
   "metadata": {
    "collapsed": true,
    "jupyter": {
     "outputs_hidden": true
    },
    "tags": []
   },
   "outputs": [
    {
     "name": "stdout",
     "output_type": "stream",
     "text": [
      "<class 'pandas.core.frame.DataFrame'>\n",
      "RangeIndex: 2822180 entries, 0 to 2822179\n",
      "Data columns (total 59 columns):\n",
      " #   Column                 Dtype  \n",
      "---  ------                 -----  \n",
      " 0   user_id                int32  \n",
      " 1   video_id               int32  \n",
      " 2   v_avg_watch_label_1    float64\n",
      " 3   v_sum_watch_times_1    float64\n",
      " 4   v_sum_watch_overs_1    float64\n",
      " 5   v_sum_comment_times_1  float64\n",
      " 6   v_sum_collect_times_1  float64\n",
      " 7   v_sum_share_times_1    float64\n",
      " 8   v_sum_quit_times_1     float64\n",
      " 9   v_sum_skip_times_1     float64\n",
      " 10  v_sum_watch_days_1     float64\n",
      " 11  v_avg_watch_label_3    float64\n",
      " 12  v_sum_watch_times_3    float64\n",
      " 13  v_sum_watch_overs_3    float64\n",
      " 14  v_sum_comment_times_3  float64\n",
      " 15  v_sum_collect_times_3  float64\n",
      " 16  v_sum_share_times_3    float64\n",
      " 17  v_sum_quit_times_3     float64\n",
      " 18  v_sum_skip_times_3     float64\n",
      " 19  v_sum_watch_days_3     float64\n",
      " 20  v_avg_watch_label_7    float64\n",
      " 21  v_sum_watch_times_7    float64\n",
      " 22  v_sum_watch_overs_7    float64\n",
      " 23  v_sum_comment_times_7  float64\n",
      " 24  v_sum_collect_times_7  float64\n",
      " 25  v_sum_share_times_7    float64\n",
      " 26  v_sum_quit_times_7     float64\n",
      " 27  v_sum_skip_times_7     float64\n",
      " 28  v_sum_watch_days_7     float64\n",
      " 29  u_avg_watch_label_1    float64\n",
      " 30  u_sum_watch_times_1    float64\n",
      " 31  u_sum_watch_overs_1    float64\n",
      " 32  u_sum_quit_times_1     float64\n",
      " 33  u_sum_skip_times_1     object \n",
      " 34  u_sum_comment_times_1  float64\n",
      " 35  u_sum_collect_times_1  float64\n",
      " 36  u_sum_share_times_1    float64\n",
      " 37  u_sum_watch_time_1     float64\n",
      " 38  u_sum_watch_days_1     object \n",
      " 39  u_avg_watch_label_3    float64\n",
      " 40  u_sum_watch_times_3    float64\n",
      " 41  u_sum_watch_overs_3    float64\n",
      " 42  u_sum_quit_times_3     float64\n",
      " 43  u_sum_skip_times_3     object \n",
      " 44  u_sum_comment_times_3  float64\n",
      " 45  u_sum_collect_times_3  float64\n",
      " 46  u_sum_share_times_3    float64\n",
      " 47  u_sum_watch_time_3     float64\n",
      " 48  u_sum_watch_days_3     float64\n",
      " 49  u_avg_watch_label_7    float64\n",
      " 50  u_sum_watch_times_7    float64\n",
      " 51  u_sum_watch_overs_7    float64\n",
      " 52  u_sum_quit_times_7     float64\n",
      " 53  u_sum_skip_times_7     object \n",
      " 54  u_sum_comment_times_7  float64\n",
      " 55  u_sum_collect_times_7  float64\n",
      " 56  u_sum_share_times_7    float64\n",
      " 57  u_sum_watch_time_7     float64\n",
      " 58  u_sum_watch_days_7     float64\n",
      "dtypes: float64(53), int32(2), object(4)\n",
      "memory usage: 1.2+ GB\n"
     ]
    }
   ],
   "source": [
    "test_df.info()"
   ]
  },
  {
   "cell_type": "code",
   "execution_count": 18,
   "metadata": {
    "tags": []
   },
   "outputs": [
    {
     "name": "stdout",
     "output_type": "stream",
     "text": [
      "<class 'pandas.core.frame.DataFrame'>\n",
      "RangeIndex: 2822180 entries, 0 to 2822179\n",
      "Columns: 130 entries, user_id to da_4\n",
      "dtypes: float32(40), float64(83), int32(2), object(5)\n",
      "memory usage: 2.3+ GB\n"
     ]
    }
   ],
   "source": [
    "df_test.info()"
   ]
  },
  {
   "cell_type": "code",
   "execution_count": 16,
   "metadata": {},
   "outputs": [],
   "source": [
    "# 删除 video_name 列\n",
    "if 'video_name' in df_test.columns:\n",
    "    df_test.drop('video_name', axis=1, inplace=True)"
   ]
  },
  {
   "cell_type": "raw",
   "metadata": {},
   "source": [
    "# 测试数据集中存在video_id没有在视频特征中出现\n",
    "idx1 = pd.Index(test_df['video_id'].unique())\n",
    "idx2 = pd.Index(video_df['video_id'].unique())\n",
    "non_exists = idx1.difference(idx2)\n",
    "non_exists"
   ]
  },
  {
   "cell_type": "raw",
   "metadata": {},
   "source": [
    "%%time\n",
    "t0 = time()\n",
    "n = 0\n",
    "for vid in not_exists:\n",
    "    tn = (test_df['video_id'] == vid).sum()\n",
    "#     df_test = action_df[action_df['video_id'] != vid]\n",
    "    n += tn\n",
    "\n",
    "print(f\"在视频特征中不存在的video_id在测试数据集中出现的次数 = {n}\\t\\t(cost {time() - t0:.3f}s)\")"
   ]
  },
  {
   "cell_type": "code",
   "execution_count": 17,
   "metadata": {},
   "outputs": [],
   "source": [
    "# 删除 video_id、user_id 列\n",
    "df_test.drop(['user_id', 'video_id'], axis=1, inplace=True)"
   ]
  },
  {
   "cell_type": "code",
   "execution_count": 18,
   "metadata": {},
   "outputs": [
    {
     "data": {
      "text/plain": [
       "(2822180, 127)"
      ]
     },
     "execution_count": 18,
     "metadata": {},
     "output_type": "execute_result"
    }
   ],
   "source": [
    "inference_dataset = df_test\n",
    "inference_dataset.shape"
   ]
  },
  {
   "cell_type": "markdown",
   "metadata": {},
   "source": [
    "# watch_label 预测"
   ]
  },
  {
   "cell_type": "markdown",
   "metadata": {},
   "source": [
    "## 处理数据不均衡问题"
   ]
  },
  {
   "cell_type": "code",
   "execution_count": 19,
   "metadata": {},
   "outputs": [
    {
     "name": "stdout",
     "output_type": "stream",
     "text": [
      "[(0, 5176743), (1, 557421), (2, 314107), (3, 219188), (4, 172404), (5, 143001), (6, 125092), (7, 117749), (8, 138798), (9, 388521)]\n",
      "[[0.         0.70402912]\n",
      " [1.         0.0758084 ]\n",
      " [2.         0.04271807]\n",
      " [3.         0.02980923]\n",
      " [4.         0.02344668]\n",
      " [5.         0.01944792]\n",
      " [6.         0.01701232]\n",
      " [7.         0.01601368]\n",
      " [8.         0.01887632]\n",
      " [9.         0.05283826]]\n"
     ]
    }
   ],
   "source": [
    "items = list(Counter(watch_label).items())\n",
    "items.sort(key=lambda x: x[0])\n",
    "print(items)\n",
    "\n",
    "dist = np.array(items, dtype=np.float)\n",
    "dist[:, 1] = dist[:, 1] / watch_label.shape[0]\n",
    "print(dist)"
   ]
  },
  {
   "cell_type": "code",
   "execution_count": 20,
   "metadata": {},
   "outputs": [],
   "source": [
    "under_ss = np.array(items)\n",
    "under_ss_thresh = under_ss[9, 1]  # 设置每个类别样本数目的上限\n",
    "under_ss[:, 1] = np.clip(under_ss[:, 1], a_min=None, a_max=under_ss_thresh)\n",
    "\n",
    "over_ss = under_ss.copy()\n",
    "over_ss_thresh = under_ss[2, 1]  # 设置每个类别样本数据的下限\n",
    "over_ss[:, 1] = np.clip(over_ss[:, 1], a_min=over_ss_thresh, a_max=None)\n",
    "\n",
    "under_ss = dict(under_ss)\n",
    "over_ss = dict(over_ss)"
   ]
  },
  {
   "cell_type": "code",
   "execution_count": 21,
   "metadata": {
    "tags": []
   },
   "outputs": [
    {
     "data": {
      "text/plain": [
       "({0: 388521,\n",
       "  1: 388521,\n",
       "  2: 314107,\n",
       "  3: 219188,\n",
       "  4: 172404,\n",
       "  5: 143001,\n",
       "  6: 125092,\n",
       "  7: 117749,\n",
       "  8: 138798,\n",
       "  9: 388521},\n",
       " {0: 388521,\n",
       "  1: 388521,\n",
       "  2: 314107,\n",
       "  3: 314107,\n",
       "  4: 314107,\n",
       "  5: 314107,\n",
       "  6: 314107,\n",
       "  7: 314107,\n",
       "  8: 314107,\n",
       "  9: 388521})"
      ]
     },
     "execution_count": 21,
     "metadata": {},
     "output_type": "execute_result"
    }
   ],
   "source": [
    "under_ss, over_ss"
   ]
  },
  {
   "cell_type": "code",
   "execution_count": 22,
   "metadata": {},
   "outputs": [
    {
     "name": "stdout",
     "output_type": "stream",
     "text": [
      "Counter({0: 4788222})\n",
      "Counter({1: 168900})\n"
     ]
    },
    {
     "data": {
      "text/plain": [
       "Int64Index([      1,       3,       6,       8,       9,      11,      12,\n",
       "                 14,      15,      16,\n",
       "            ...\n",
       "            7353008, 7353010, 7353014, 7353016, 7353017, 7353018, 7353019,\n",
       "            7353020, 7353022, 7353023],\n",
       "           dtype='int64', length=4957122)"
      ]
     },
     "execution_count": 22,
     "metadata": {},
     "output_type": "execute_result"
    }
   ],
   "source": [
    "del_idxs = pd.Index([], dtype=int)\n",
    "for l, n in items:\n",
    "    if n > under_ss_thresh:\n",
    "        t_idxs = watch_label == l\n",
    "        t_idxs = t_idxs.replace(False, np.nan).dropna().index  # 保留watch_label=l的行索引\n",
    "        t_left_idxs = np.random.choice(t_idxs, under_ss_thresh, replace=False)  # 选择一部分保留，注意replace参数，为True时会重复采样\n",
    "        t_del_idxs = t_idxs.difference(t_left_idxs)\n",
    "        print(Counter(watch_label[t_del_idxs]))\n",
    "                \n",
    "        del_idxs = del_idxs.union(t_del_idxs)\n",
    "del_idxs"
   ]
  },
  {
   "cell_type": "code",
   "execution_count": 23,
   "metadata": {},
   "outputs": [
    {
     "data": {
      "text/plain": [
       "Counter({2: 314107,\n",
       "         0: 5176743,\n",
       "         5: 143001,\n",
       "         4: 172404,\n",
       "         1: 557421,\n",
       "         9: 388521,\n",
       "         3: 219188,\n",
       "         8: 138798,\n",
       "         7: 117749,\n",
       "         6: 125092})"
      ]
     },
     "execution_count": 23,
     "metadata": {},
     "output_type": "execute_result"
    }
   ],
   "source": [
    "Counter(watch_label)"
   ]
  },
  {
   "cell_type": "code",
   "execution_count": 24,
   "metadata": {},
   "outputs": [
    {
     "data": {
      "text/plain": [
       "((2395902, 127), (2395902,))"
      ]
     },
     "execution_count": 24,
     "metadata": {},
     "output_type": "execute_result"
    }
   ],
   "source": [
    "resampled_data = np.delete(dataset.values, del_idxs, axis=0)\n",
    "resampled_wl = np.delete(watch_label.values, del_idxs, axis=0)\n",
    "resampled_data.shape, resampled_wl.shape"
   ]
  },
  {
   "cell_type": "code",
   "execution_count": 64,
   "metadata": {},
   "outputs": [
    {
     "data": {
      "text/plain": [
       "Counter({2: 314107,\n",
       "         5: 143001,\n",
       "         4: 172404,\n",
       "         0: 388521,\n",
       "         9: 388521,\n",
       "         3: 219188,\n",
       "         1: 388521,\n",
       "         8: 138798,\n",
       "         7: 117749,\n",
       "         6: 125092})"
      ]
     },
     "execution_count": 64,
     "metadata": {},
     "output_type": "execute_result"
    }
   ],
   "source": [
    "Counter(resampled_wl)"
   ]
  },
  {
   "cell_type": "code",
   "execution_count": 22,
   "metadata": {},
   "outputs": [],
   "source": [
    "# 速度太慢，难以忍受！\n",
    "nm  = TomekLinks()\n",
    "smt = SMOTE(sampling_strategy=over_ss)"
   ]
  },
  {
   "cell_type": "code",
   "execution_count": 1,
   "metadata": {},
   "outputs": [
    {
     "ename": "NameError",
     "evalue": "name 'nm' is not defined",
     "output_type": "error",
     "traceback": [
      "\u001b[0;31m---------------------------------------------------------------------------\u001b[0m",
      "\u001b[0;31mNameError\u001b[0m                                 Traceback (most recent call last)",
      "\u001b[0;32m<timed exec>\u001b[0m in \u001b[0;36m<module>\u001b[0;34m\u001b[0m\n",
      "\u001b[0;31mNameError\u001b[0m: name 'nm' is not defined"
     ]
    }
   ],
   "source": [
    "%%time\n",
    "X_r, y_r = nm.fit_resample(dataset, watch_label)"
   ]
  },
  {
   "cell_type": "code",
   "execution_count": 1,
   "metadata": {},
   "outputs": [
    {
     "ename": "NameError",
     "evalue": "name 'smt' is not defined",
     "output_type": "error",
     "traceback": [
      "\u001b[0;31m---------------------------------------------------------------------------\u001b[0m",
      "\u001b[0;31mNameError\u001b[0m                                 Traceback (most recent call last)",
      "\u001b[0;32m<timed exec>\u001b[0m in \u001b[0;36m<module>\u001b[0;34m\u001b[0m\n",
      "\u001b[0;31mNameError\u001b[0m: name 'smt' is not defined"
     ]
    }
   ],
   "source": [
    "%%time\n",
    "X_r, y_r = smt.fit_resample(resampled_data, resampled_wl)"
   ]
  },
  {
   "cell_type": "code",
   "execution_count": 25,
   "metadata": {},
   "outputs": [
    {
     "data": {
      "text/plain": [
       "((2395902, 127), (2395902,))"
      ]
     },
     "execution_count": 25,
     "metadata": {},
     "output_type": "execute_result"
    }
   ],
   "source": [
    "# 将采样后的数据重装回 DataFrame\n",
    "data = pd.DataFrame(resampled_data, columns=dataset.columns)\n",
    "watch_label_res = pd.Series(resampled_wl)\n",
    "data.shape, watch_label_res.shape"
   ]
  },
  {
   "cell_type": "code",
   "execution_count": 105,
   "metadata": {},
   "outputs": [
    {
     "data": {
      "text/plain": [
       "((2395901,), (1,))"
      ]
     },
     "execution_count": 105,
     "metadata": {},
     "output_type": "execute_result"
    }
   ],
   "source": [
    "test_rate = 0.0000001\n",
    "train_idx, test_idx = train_test_split(data.index, test_size=test_rate, random_state=0)\n",
    "train_idx.shape, test_idx.shape"
   ]
  },
  {
   "cell_type": "markdown",
   "metadata": {},
   "source": [
    "## XGBoost"
   ]
  },
  {
   "cell_type": "markdown",
   "metadata": {},
   "source": [
    "### 训练模型"
   ]
  },
  {
   "cell_type": "code",
   "execution_count": 106,
   "metadata": {},
   "outputs": [],
   "source": [
    "X_train = data.iloc[train_idx]\n",
    "X_test  = data.iloc[test_idx]"
   ]
  },
  {
   "cell_type": "code",
   "execution_count": 107,
   "metadata": {},
   "outputs": [],
   "source": [
    "y_train = watch_label_res.iloc[train_idx]\n",
    "y_test  = watch_label_res.iloc[test_idx]"
   ]
  },
  {
   "cell_type": "code",
   "execution_count": 108,
   "metadata": {},
   "outputs": [
    {
     "data": {
      "text/plain": [
       "((2395901, 127), (2395901,), (1, 127), (1,))"
      ]
     },
     "execution_count": 108,
     "metadata": {},
     "output_type": "execute_result"
    }
   ],
   "source": [
    "X_train.shape, y_train.shape, X_test.shape, y_test.shape"
   ]
  },
  {
   "cell_type": "code",
   "execution_count": 109,
   "metadata": {},
   "outputs": [
    {
     "name": "stdout",
     "output_type": "stream",
     "text": [
      "Data preparing finished ...\t\t(1.980s)\n"
     ]
    }
   ],
   "source": [
    "t0 = time()\n",
    "xg_train = xgb.DMatrix(X_train.values, label=y_train.values, enable_categorical=True)\n",
    "xg_test = xgb.DMatrix(X_test.values, label=y_test.values, enable_categorical=True)\n",
    "print(f\"Data preparing finished ...\\t\\t({time()-t0:.3f}s)\")"
   ]
  },
  {
   "cell_type": "code",
   "execution_count": 110,
   "metadata": {},
   "outputs": [],
   "source": [
    "# setup parameters for xgboost\n",
    "param = {\n",
    "    'objective': 'multi:softmax',\n",
    "    'eta': 0.1,\n",
    "    'nthread': 8,\n",
    "    'num_class': 10,\n",
    "    'gpu_id': 0,\n",
    "    'tree_method': 'gpu_hist',\n",
    "    'eval_metric': ['mlogloss', 'auc', 'merror'],\n",
    "    'max_depth': 9,\n",
    "    'min_child_weight': 9,\n",
    "    'gamma': 0.2,\n",
    "    'subsample': 0.9,\n",
    "    'colsample_bytree': 0.6,\n",
    "    'reg_alpha': 0\n",
    "}\n",
    "# use softmax multi-class classification\n",
    "# param['objective'] = 'multi:softmax'\n",
    "# scale weight of positive examples\n",
    "# param['eta'] = 0.1\n",
    "# param['max_depth'] = 11\n",
    "# param['min_child_weight'] = 7\n",
    "# param['nthread'] = 8\n",
    "# param['num_class'] = 10\n",
    "# param['gamma'] = .4\n",
    "# param['gpu_id'] = 0\n",
    "# param['tree_method'] = 'gpu_hist'\n",
    "# param['eval_metric'] = ['mlogloss', 'auc', 'merror']\n",
    "\n",
    "# param['scale_pos_weight'] = 2\n",
    "watchlist = [(xg_train, 'train'), (xg_test, 'test')]"
   ]
  },
  {
   "cell_type": "code",
   "execution_count": 111,
   "metadata": {
    "tags": []
   },
   "outputs": [
    {
     "name": "stdout",
     "output_type": "stream",
     "text": [
      "[20:59:35] WARNING: ../src/metric/auc.cc:307: Dataset contains only positive or negative samples.\n",
      "[0]\ttrain-mlogloss:2.27357\ttrain-auc:0.63062\ttrain-merror:0.74074\ttest-mlogloss:2.25902\ttest-auc:nan\ttest-merror:0.00000\n",
      "[20:59:36] WARNING: ../src/metric/auc.cc:307: Dataset contains only positive or negative samples.\n",
      "[1]\ttrain-mlogloss:2.24988\ttrain-auc:0.63734\ttrain-merror:0.73786\ttest-mlogloss:2.20716\ttest-auc:nan\ttest-merror:0.00000\n",
      "[20:59:37] WARNING: ../src/metric/auc.cc:307: Dataset contains only positive or negative samples.\n",
      "[2]\ttrain-mlogloss:2.22981\ttrain-auc:0.64124\ttrain-merror:0.73674\ttest-mlogloss:2.16851\ttest-auc:nan\ttest-merror:0.00000\n",
      "[20:59:38] WARNING: ../src/metric/auc.cc:307: Dataset contains only positive or negative samples.\n",
      "[3]\ttrain-mlogloss:2.21263\ttrain-auc:0.64353\ttrain-merror:0.73575\ttest-mlogloss:2.13566\ttest-auc:nan\ttest-merror:0.00000\n",
      "[20:59:39] WARNING: ../src/metric/auc.cc:307: Dataset contains only positive or negative samples.\n",
      "[4]\ttrain-mlogloss:2.19821\ttrain-auc:0.64530\ttrain-merror:0.73511\ttest-mlogloss:2.10107\ttest-auc:nan\ttest-merror:0.00000\n",
      "[20:59:40] WARNING: ../src/metric/auc.cc:307: Dataset contains only positive or negative samples.\n",
      "[5]\ttrain-mlogloss:2.18466\ttrain-auc:0.64659\ttrain-merror:0.73452\ttest-mlogloss:2.07526\ttest-auc:nan\ttest-merror:0.00000\n",
      "[20:59:42] WARNING: ../src/metric/auc.cc:307: Dataset contains only positive or negative samples.\n",
      "[6]\ttrain-mlogloss:2.17264\ttrain-auc:0.64781\ttrain-merror:0.73382\ttest-mlogloss:2.02429\ttest-auc:nan\ttest-merror:0.00000\n",
      "[20:59:43] WARNING: ../src/metric/auc.cc:307: Dataset contains only positive or negative samples.\n",
      "[7]\ttrain-mlogloss:2.16214\ttrain-auc:0.64860\ttrain-merror:0.73365\ttest-mlogloss:2.01264\ttest-auc:nan\ttest-merror:0.00000\n",
      "[20:59:44] WARNING: ../src/metric/auc.cc:307: Dataset contains only positive or negative samples.\n",
      "[8]\ttrain-mlogloss:2.15259\ttrain-auc:0.64946\ttrain-merror:0.73309\ttest-mlogloss:1.98978\ttest-auc:nan\ttest-merror:0.00000\n",
      "[20:59:45] WARNING: ../src/metric/auc.cc:307: Dataset contains only positive or negative samples.\n",
      "[9]\ttrain-mlogloss:2.14399\ttrain-auc:0.65020\ttrain-merror:0.73268\ttest-mlogloss:1.98219\ttest-auc:nan\ttest-merror:0.00000\n",
      "[20:59:46] WARNING: ../src/metric/auc.cc:307: Dataset contains only positive or negative samples.\n",
      "[10]\ttrain-mlogloss:2.13638\ttrain-auc:0.65084\ttrain-merror:0.73228\ttest-mlogloss:1.96037\ttest-auc:nan\ttest-merror:0.00000\n",
      "[20:59:47] WARNING: ../src/metric/auc.cc:307: Dataset contains only positive or negative samples.\n",
      "[11]\ttrain-mlogloss:2.12957\ttrain-auc:0.65152\ttrain-merror:0.73193\ttest-mlogloss:1.91771\ttest-auc:nan\ttest-merror:0.00000\n",
      "[20:59:48] WARNING: ../src/metric/auc.cc:307: Dataset contains only positive or negative samples.\n",
      "[12]\ttrain-mlogloss:2.12341\ttrain-auc:0.65218\ttrain-merror:0.73158\ttest-mlogloss:1.88934\ttest-auc:nan\ttest-merror:0.00000\n",
      "[20:59:50] WARNING: ../src/metric/auc.cc:307: Dataset contains only positive or negative samples.\n",
      "[13]\ttrain-mlogloss:2.11769\ttrain-auc:0.65277\ttrain-merror:0.73129\ttest-mlogloss:1.88051\ttest-auc:nan\ttest-merror:0.00000\n",
      "[20:59:51] WARNING: ../src/metric/auc.cc:307: Dataset contains only positive or negative samples.\n",
      "[14]\ttrain-mlogloss:2.11248\ttrain-auc:0.65338\ttrain-merror:0.73094\ttest-mlogloss:1.87689\ttest-auc:nan\ttest-merror:0.00000\n",
      "[20:59:52] WARNING: ../src/metric/auc.cc:307: Dataset contains only positive or negative samples.\n",
      "[15]\ttrain-mlogloss:2.10777\ttrain-auc:0.65392\ttrain-merror:0.73063\ttest-mlogloss:1.85004\ttest-auc:nan\ttest-merror:0.00000\n",
      "[20:59:53] WARNING: ../src/metric/auc.cc:307: Dataset contains only positive or negative samples.\n",
      "[16]\ttrain-mlogloss:2.10357\ttrain-auc:0.65446\ttrain-merror:0.73037\ttest-mlogloss:1.84195\ttest-auc:nan\ttest-merror:0.00000\n",
      "[20:59:54] WARNING: ../src/metric/auc.cc:307: Dataset contains only positive or negative samples.\n",
      "[17]\ttrain-mlogloss:2.09960\ttrain-auc:0.65496\ttrain-merror:0.73011\ttest-mlogloss:1.82020\ttest-auc:nan\ttest-merror:0.00000\n",
      "[20:59:55] WARNING: ../src/metric/auc.cc:307: Dataset contains only positive or negative samples.\n",
      "[18]\ttrain-mlogloss:2.09607\ttrain-auc:0.65544\ttrain-merror:0.72982\ttest-mlogloss:1.80967\ttest-auc:nan\ttest-merror:0.00000\n",
      "[20:59:56] WARNING: ../src/metric/auc.cc:307: Dataset contains only positive or negative samples.\n",
      "[19]\ttrain-mlogloss:2.09288\ttrain-auc:0.65595\ttrain-merror:0.72954\ttest-mlogloss:1.79181\ttest-auc:nan\ttest-merror:0.00000\n",
      "[20:59:57] WARNING: ../src/metric/auc.cc:307: Dataset contains only positive or negative samples.\n",
      "[20]\ttrain-mlogloss:2.08988\ttrain-auc:0.65646\ttrain-merror:0.72933\ttest-mlogloss:1.77731\ttest-auc:nan\ttest-merror:0.00000\n",
      "[20:59:59] WARNING: ../src/metric/auc.cc:307: Dataset contains only positive or negative samples.\n",
      "[21]\ttrain-mlogloss:2.08711\ttrain-auc:0.65701\ttrain-merror:0.72893\ttest-mlogloss:1.77201\ttest-auc:nan\ttest-merror:0.00000\n",
      "[21:00:00] WARNING: ../src/metric/auc.cc:307: Dataset contains only positive or negative samples.\n",
      "[22]\ttrain-mlogloss:2.08454\ttrain-auc:0.65752\ttrain-merror:0.72876\ttest-mlogloss:1.75913\ttest-auc:nan\ttest-merror:0.00000\n",
      "[21:00:01] WARNING: ../src/metric/auc.cc:307: Dataset contains only positive or negative samples.\n",
      "[23]\ttrain-mlogloss:2.08211\ttrain-auc:0.65800\ttrain-merror:0.72861\ttest-mlogloss:1.76045\ttest-auc:nan\ttest-merror:0.00000\n",
      "[21:00:02] WARNING: ../src/metric/auc.cc:307: Dataset contains only positive or negative samples.\n",
      "[24]\ttrain-mlogloss:2.07985\ttrain-auc:0.65853\ttrain-merror:0.72833\ttest-mlogloss:1.75119\ttest-auc:nan\ttest-merror:0.00000\n",
      "[21:00:03] WARNING: ../src/metric/auc.cc:307: Dataset contains only positive or negative samples.\n",
      "[25]\ttrain-mlogloss:2.07782\ttrain-auc:0.65899\ttrain-merror:0.72807\ttest-mlogloss:1.73306\ttest-auc:nan\ttest-merror:0.00000\n",
      "[21:00:04] WARNING: ../src/metric/auc.cc:307: Dataset contains only positive or negative samples.\n",
      "[26]\ttrain-mlogloss:2.07583\ttrain-auc:0.65952\ttrain-merror:0.72778\ttest-mlogloss:1.71804\ttest-auc:nan\ttest-merror:0.00000\n",
      "[21:00:05] WARNING: ../src/metric/auc.cc:307: Dataset contains only positive or negative samples.\n",
      "[27]\ttrain-mlogloss:2.07398\ttrain-auc:0.65997\ttrain-merror:0.72749\ttest-mlogloss:1.71503\ttest-auc:nan\ttest-merror:0.00000\n",
      "[21:00:06] WARNING: ../src/metric/auc.cc:307: Dataset contains only positive or negative samples.\n",
      "[28]\ttrain-mlogloss:2.07224\ttrain-auc:0.66049\ttrain-merror:0.72725\ttest-mlogloss:1.70407\ttest-auc:nan\ttest-merror:0.00000\n",
      "[21:00:07] WARNING: ../src/metric/auc.cc:307: Dataset contains only positive or negative samples.\n",
      "[29]\ttrain-mlogloss:2.07061\ttrain-auc:0.66100\ttrain-merror:0.72697\ttest-mlogloss:1.69692\ttest-auc:nan\ttest-merror:0.00000\n",
      "[21:00:09] WARNING: ../src/metric/auc.cc:307: Dataset contains only positive or negative samples.\n",
      "[30]\ttrain-mlogloss:2.06911\ttrain-auc:0.66141\ttrain-merror:0.72669\ttest-mlogloss:1.68937\ttest-auc:nan\ttest-merror:0.00000\n",
      "[21:00:10] WARNING: ../src/metric/auc.cc:307: Dataset contains only positive or negative samples.\n",
      "[31]\ttrain-mlogloss:2.06770\ttrain-auc:0.66185\ttrain-merror:0.72640\ttest-mlogloss:1.67525\ttest-auc:nan\ttest-merror:0.00000\n",
      "[21:00:11] WARNING: ../src/metric/auc.cc:307: Dataset contains only positive or negative samples.\n",
      "[32]\ttrain-mlogloss:2.06629\ttrain-auc:0.66235\ttrain-merror:0.72614\ttest-mlogloss:1.66574\ttest-auc:nan\ttest-merror:0.00000\n",
      "[21:00:12] WARNING: ../src/metric/auc.cc:307: Dataset contains only positive or negative samples.\n",
      "[33]\ttrain-mlogloss:2.06502\ttrain-auc:0.66280\ttrain-merror:0.72593\ttest-mlogloss:1.66567\ttest-auc:nan\ttest-merror:0.00000\n",
      "[21:00:13] WARNING: ../src/metric/auc.cc:307: Dataset contains only positive or negative samples.\n",
      "[34]\ttrain-mlogloss:2.06378\ttrain-auc:0.66328\ttrain-merror:0.72558\ttest-mlogloss:1.64282\ttest-auc:nan\ttest-merror:0.00000\n",
      "[21:00:14] WARNING: ../src/metric/auc.cc:307: Dataset contains only positive or negative samples.\n",
      "[35]\ttrain-mlogloss:2.06258\ttrain-auc:0.66376\ttrain-merror:0.72530\ttest-mlogloss:1.65430\ttest-auc:nan\ttest-merror:0.00000\n",
      "[21:00:15] WARNING: ../src/metric/auc.cc:307: Dataset contains only positive or negative samples.\n",
      "[36]\ttrain-mlogloss:2.06147\ttrain-auc:0.66419\ttrain-merror:0.72506\ttest-mlogloss:1.65000\ttest-auc:nan\ttest-merror:0.00000\n",
      "[21:00:16] WARNING: ../src/metric/auc.cc:307: Dataset contains only positive or negative samples.\n",
      "[37]\ttrain-mlogloss:2.06036\ttrain-auc:0.66467\ttrain-merror:0.72473\ttest-mlogloss:1.66924\ttest-auc:nan\ttest-merror:0.00000\n",
      "[21:00:17] WARNING: ../src/metric/auc.cc:307: Dataset contains only positive or negative samples.\n",
      "[38]\ttrain-mlogloss:2.05928\ttrain-auc:0.66511\ttrain-merror:0.72448\ttest-mlogloss:1.66417\ttest-auc:nan\ttest-merror:0.00000\n",
      "[21:00:18] WARNING: ../src/metric/auc.cc:307: Dataset contains only positive or negative samples.\n",
      "[39]\ttrain-mlogloss:2.05829\ttrain-auc:0.66553\ttrain-merror:0.72421\ttest-mlogloss:1.66343\ttest-auc:nan\ttest-merror:0.00000\n",
      "[21:00:19] WARNING: ../src/metric/auc.cc:307: Dataset contains only positive or negative samples.\n",
      "[40]\ttrain-mlogloss:2.05732\ttrain-auc:0.66595\ttrain-merror:0.72398\ttest-mlogloss:1.65583\ttest-auc:nan\ttest-merror:0.00000\n",
      "[21:00:20] WARNING: ../src/metric/auc.cc:307: Dataset contains only positive or negative samples.\n",
      "[41]\ttrain-mlogloss:2.05641\ttrain-auc:0.66633\ttrain-merror:0.72380\ttest-mlogloss:1.65813\ttest-auc:nan\ttest-merror:0.00000\n",
      "[21:00:21] WARNING: ../src/metric/auc.cc:307: Dataset contains only positive or negative samples.\n",
      "[42]\ttrain-mlogloss:2.05553\ttrain-auc:0.66673\ttrain-merror:0.72354\ttest-mlogloss:1.68064\ttest-auc:nan\ttest-merror:0.00000\n",
      "[21:00:22] WARNING: ../src/metric/auc.cc:307: Dataset contains only positive or negative samples.\n",
      "[43]\ttrain-mlogloss:2.05471\ttrain-auc:0.66710\ttrain-merror:0.72339\ttest-mlogloss:1.67802\ttest-auc:nan\ttest-merror:0.00000\n",
      "[21:00:23] WARNING: ../src/metric/auc.cc:307: Dataset contains only positive or negative samples.\n",
      "[44]\ttrain-mlogloss:2.05389\ttrain-auc:0.66748\ttrain-merror:0.72321\ttest-mlogloss:1.67511\ttest-auc:nan\ttest-merror:0.00000\n",
      "[21:00:24] WARNING: ../src/metric/auc.cc:307: Dataset contains only positive or negative samples.\n",
      "[45]\ttrain-mlogloss:2.05307\ttrain-auc:0.66789\ttrain-merror:0.72298\ttest-mlogloss:1.67599\ttest-auc:nan\ttest-merror:0.00000\n",
      "[21:00:25] WARNING: ../src/metric/auc.cc:307: Dataset contains only positive or negative samples.\n",
      "[46]\ttrain-mlogloss:2.05231\ttrain-auc:0.66823\ttrain-merror:0.72281\ttest-mlogloss:1.67033\ttest-auc:nan\ttest-merror:0.00000\n",
      "[21:00:26] WARNING: ../src/metric/auc.cc:307: Dataset contains only positive or negative samples.\n",
      "[47]\ttrain-mlogloss:2.05162\ttrain-auc:0.66857\ttrain-merror:0.72257\ttest-mlogloss:1.67731\ttest-auc:nan\ttest-merror:0.00000\n",
      "[21:00:27] WARNING: ../src/metric/auc.cc:307: Dataset contains only positive or negative samples.\n",
      "[48]\ttrain-mlogloss:2.05091\ttrain-auc:0.66893\ttrain-merror:0.72232\ttest-mlogloss:1.67917\ttest-auc:nan\ttest-merror:0.00000\n",
      "[21:00:28] WARNING: ../src/metric/auc.cc:307: Dataset contains only positive or negative samples.\n",
      "[49]\ttrain-mlogloss:2.05017\ttrain-auc:0.66932\ttrain-merror:0.72216\ttest-mlogloss:1.68354\ttest-auc:nan\ttest-merror:0.00000\n",
      "[21:00:29] WARNING: ../src/metric/auc.cc:307: Dataset contains only positive or negative samples.\n",
      "[50]\ttrain-mlogloss:2.04944\ttrain-auc:0.66973\ttrain-merror:0.72197\ttest-mlogloss:1.68304\ttest-auc:nan\ttest-merror:0.00000\n",
      "[21:00:30] WARNING: ../src/metric/auc.cc:307: Dataset contains only positive or negative samples.\n",
      "[51]\ttrain-mlogloss:2.04874\ttrain-auc:0.67010\ttrain-merror:0.72175\ttest-mlogloss:1.67931\ttest-auc:nan\ttest-merror:0.00000\n",
      "[21:00:31] WARNING: ../src/metric/auc.cc:307: Dataset contains only positive or negative samples.\n",
      "[52]\ttrain-mlogloss:2.04802\ttrain-auc:0.67050\ttrain-merror:0.72149\ttest-mlogloss:1.68441\ttest-auc:nan\ttest-merror:0.00000\n",
      "[21:00:32] WARNING: ../src/metric/auc.cc:307: Dataset contains only positive or negative samples.\n",
      "[53]\ttrain-mlogloss:2.04731\ttrain-auc:0.67091\ttrain-merror:0.72127\ttest-mlogloss:1.68142\ttest-auc:nan\ttest-merror:0.00000\n",
      "[21:00:33] WARNING: ../src/metric/auc.cc:307: Dataset contains only positive or negative samples.\n",
      "[54]\ttrain-mlogloss:2.04666\ttrain-auc:0.67127\ttrain-merror:0.72104\ttest-mlogloss:1.68339\ttest-auc:nan\ttest-merror:0.00000\n",
      "[21:00:34] WARNING: ../src/metric/auc.cc:307: Dataset contains only positive or negative samples.\n",
      "[55]\ttrain-mlogloss:2.04602\ttrain-auc:0.67166\ttrain-merror:0.72081\ttest-mlogloss:1.68938\ttest-auc:nan\ttest-merror:0.00000\n",
      "[21:00:35] WARNING: ../src/metric/auc.cc:307: Dataset contains only positive or negative samples.\n",
      "[56]\ttrain-mlogloss:2.04538\ttrain-auc:0.67203\ttrain-merror:0.72060\ttest-mlogloss:1.68214\ttest-auc:nan\ttest-merror:0.00000\n",
      "[21:00:36] WARNING: ../src/metric/auc.cc:307: Dataset contains only positive or negative samples.\n",
      "[57]\ttrain-mlogloss:2.04478\ttrain-auc:0.67240\ttrain-merror:0.72044\ttest-mlogloss:1.66943\ttest-auc:nan\ttest-merror:0.00000\n",
      "[21:00:37] WARNING: ../src/metric/auc.cc:307: Dataset contains only positive or negative samples.\n",
      "[58]\ttrain-mlogloss:2.04419\ttrain-auc:0.67272\ttrain-merror:0.72022\ttest-mlogloss:1.67500\ttest-auc:nan\ttest-merror:0.00000\n",
      "[21:00:38] WARNING: ../src/metric/auc.cc:307: Dataset contains only positive or negative samples.\n",
      "[59]\ttrain-mlogloss:2.04355\ttrain-auc:0.67312\ttrain-merror:0.72001\ttest-mlogloss:1.66608\ttest-auc:nan\ttest-merror:0.00000\n",
      "[21:00:39] WARNING: ../src/metric/auc.cc:307: Dataset contains only positive or negative samples.\n",
      "[60]\ttrain-mlogloss:2.04291\ttrain-auc:0.67353\ttrain-merror:0.71979\ttest-mlogloss:1.66054\ttest-auc:nan\ttest-merror:0.00000\n",
      "[21:00:40] WARNING: ../src/metric/auc.cc:307: Dataset contains only positive or negative samples.\n",
      "[61]\ttrain-mlogloss:2.04237\ttrain-auc:0.67387\ttrain-merror:0.71960\ttest-mlogloss:1.65592\ttest-auc:nan\ttest-merror:0.00000\n",
      "[21:00:41] WARNING: ../src/metric/auc.cc:307: Dataset contains only positive or negative samples.\n",
      "[62]\ttrain-mlogloss:2.04186\ttrain-auc:0.67418\ttrain-merror:0.71944\ttest-mlogloss:1.65630\ttest-auc:nan\ttest-merror:0.00000\n",
      "[21:00:42] WARNING: ../src/metric/auc.cc:307: Dataset contains only positive or negative samples.\n",
      "[63]\ttrain-mlogloss:2.04135\ttrain-auc:0.67447\ttrain-merror:0.71929\ttest-mlogloss:1.65265\ttest-auc:nan\ttest-merror:0.00000\n",
      "[21:00:43] WARNING: ../src/metric/auc.cc:307: Dataset contains only positive or negative samples.\n",
      "[64]\ttrain-mlogloss:2.04082\ttrain-auc:0.67480\ttrain-merror:0.71913\ttest-mlogloss:1.65192\ttest-auc:nan\ttest-merror:0.00000\n",
      "[21:00:44] WARNING: ../src/metric/auc.cc:307: Dataset contains only positive or negative samples.\n",
      "[65]\ttrain-mlogloss:2.04026\ttrain-auc:0.67512\ttrain-merror:0.71893\ttest-mlogloss:1.65958\ttest-auc:nan\ttest-merror:0.00000\n",
      "[21:00:45] WARNING: ../src/metric/auc.cc:307: Dataset contains only positive or negative samples.\n",
      "[66]\ttrain-mlogloss:2.03972\ttrain-auc:0.67544\ttrain-merror:0.71877\ttest-mlogloss:1.66241\ttest-auc:nan\ttest-merror:0.00000\n",
      "[21:00:46] WARNING: ../src/metric/auc.cc:307: Dataset contains only positive or negative samples.\n",
      "[67]\ttrain-mlogloss:2.03922\ttrain-auc:0.67575\ttrain-merror:0.71855\ttest-mlogloss:1.66710\ttest-auc:nan\ttest-merror:0.00000\n",
      "[21:00:47] WARNING: ../src/metric/auc.cc:307: Dataset contains only positive or negative samples.\n",
      "[68]\ttrain-mlogloss:2.03867\ttrain-auc:0.67609\ttrain-merror:0.71835\ttest-mlogloss:1.67323\ttest-auc:nan\ttest-merror:0.00000\n",
      "[21:00:48] WARNING: ../src/metric/auc.cc:307: Dataset contains only positive or negative samples.\n",
      "[69]\ttrain-mlogloss:2.03811\ttrain-auc:0.67648\ttrain-merror:0.71821\ttest-mlogloss:1.67068\ttest-auc:nan\ttest-merror:0.00000\n",
      "[21:00:49] WARNING: ../src/metric/auc.cc:307: Dataset contains only positive or negative samples.\n",
      "[70]\ttrain-mlogloss:2.03758\ttrain-auc:0.67680\ttrain-merror:0.71796\ttest-mlogloss:1.66430\ttest-auc:nan\ttest-merror:0.00000\n",
      "[21:00:50] WARNING: ../src/metric/auc.cc:307: Dataset contains only positive or negative samples.\n",
      "[71]\ttrain-mlogloss:2.03710\ttrain-auc:0.67711\ttrain-merror:0.71777\ttest-mlogloss:1.66650\ttest-auc:nan\ttest-merror:0.00000\n",
      "[21:00:51] WARNING: ../src/metric/auc.cc:307: Dataset contains only positive or negative samples.\n",
      "[72]\ttrain-mlogloss:2.03658\ttrain-auc:0.67744\ttrain-merror:0.71759\ttest-mlogloss:1.66540\ttest-auc:nan\ttest-merror:0.00000\n",
      "[21:00:52] WARNING: ../src/metric/auc.cc:307: Dataset contains only positive or negative samples.\n",
      "[73]\ttrain-mlogloss:2.03610\ttrain-auc:0.67775\ttrain-merror:0.71744\ttest-mlogloss:1.65490\ttest-auc:nan\ttest-merror:0.00000\n",
      "[21:00:53] WARNING: ../src/metric/auc.cc:307: Dataset contains only positive or negative samples.\n",
      "[74]\ttrain-mlogloss:2.03561\ttrain-auc:0.67806\ttrain-merror:0.71726\ttest-mlogloss:1.65595\ttest-auc:nan\ttest-merror:0.00000\n",
      "[21:00:53] WARNING: ../src/metric/auc.cc:307: Dataset contains only positive or negative samples.\n",
      "[75]\ttrain-mlogloss:2.03509\ttrain-auc:0.67840\ttrain-merror:0.71706\ttest-mlogloss:1.65732\ttest-auc:nan\ttest-merror:0.00000\n",
      "[21:00:54] WARNING: ../src/metric/auc.cc:307: Dataset contains only positive or negative samples.\n",
      "[76]\ttrain-mlogloss:2.03462\ttrain-auc:0.67870\ttrain-merror:0.71691\ttest-mlogloss:1.65863\ttest-auc:nan\ttest-merror:0.00000\n",
      "[21:00:55] WARNING: ../src/metric/auc.cc:307: Dataset contains only positive or negative samples.\n",
      "[77]\ttrain-mlogloss:2.03414\ttrain-auc:0.67899\ttrain-merror:0.71669\ttest-mlogloss:1.66255\ttest-auc:nan\ttest-merror:0.00000\n",
      "[21:00:56] WARNING: ../src/metric/auc.cc:307: Dataset contains only positive or negative samples.\n",
      "[78]\ttrain-mlogloss:2.03365\ttrain-auc:0.67931\ttrain-merror:0.71649\ttest-mlogloss:1.66013\ttest-auc:nan\ttest-merror:0.00000\n",
      "[21:00:57] WARNING: ../src/metric/auc.cc:307: Dataset contains only positive or negative samples.\n",
      "[79]\ttrain-mlogloss:2.03323\ttrain-auc:0.67958\ttrain-merror:0.71633\ttest-mlogloss:1.65986\ttest-auc:nan\ttest-merror:0.00000\n",
      "[21:00:58] WARNING: ../src/metric/auc.cc:307: Dataset contains only positive or negative samples.\n",
      "[80]\ttrain-mlogloss:2.03275\ttrain-auc:0.67988\ttrain-merror:0.71617\ttest-mlogloss:1.66509\ttest-auc:nan\ttest-merror:0.00000\n",
      "[21:00:59] WARNING: ../src/metric/auc.cc:307: Dataset contains only positive or negative samples.\n",
      "[81]\ttrain-mlogloss:2.03232\ttrain-auc:0.68015\ttrain-merror:0.71601\ttest-mlogloss:1.66076\ttest-auc:nan\ttest-merror:0.00000\n",
      "[21:01:00] WARNING: ../src/metric/auc.cc:307: Dataset contains only positive or negative samples.\n",
      "[82]\ttrain-mlogloss:2.03185\ttrain-auc:0.68047\ttrain-merror:0.71582\ttest-mlogloss:1.64620\ttest-auc:nan\ttest-merror:0.00000\n",
      "[21:01:01] WARNING: ../src/metric/auc.cc:307: Dataset contains only positive or negative samples.\n",
      "[83]\ttrain-mlogloss:2.03142\ttrain-auc:0.68074\ttrain-merror:0.71562\ttest-mlogloss:1.65234\ttest-auc:nan\ttest-merror:0.00000\n",
      "[21:01:02] WARNING: ../src/metric/auc.cc:307: Dataset contains only positive or negative samples.\n",
      "[84]\ttrain-mlogloss:2.03089\ttrain-auc:0.68109\ttrain-merror:0.71543\ttest-mlogloss:1.65242\ttest-auc:nan\ttest-merror:0.00000\n",
      "[21:01:03] WARNING: ../src/metric/auc.cc:307: Dataset contains only positive or negative samples.\n",
      "[85]\ttrain-mlogloss:2.03048\ttrain-auc:0.68135\ttrain-merror:0.71527\ttest-mlogloss:1.66758\ttest-auc:nan\ttest-merror:0.00000\n",
      "[21:01:04] WARNING: ../src/metric/auc.cc:307: Dataset contains only positive or negative samples.\n",
      "[86]\ttrain-mlogloss:2.03005\ttrain-auc:0.68163\ttrain-merror:0.71507\ttest-mlogloss:1.66748\ttest-auc:nan\ttest-merror:0.00000\n",
      "[21:01:04] WARNING: ../src/metric/auc.cc:307: Dataset contains only positive or negative samples.\n",
      "[87]\ttrain-mlogloss:2.02963\ttrain-auc:0.68190\ttrain-merror:0.71494\ttest-mlogloss:1.66229\ttest-auc:nan\ttest-merror:0.00000\n",
      "[21:01:05] WARNING: ../src/metric/auc.cc:307: Dataset contains only positive or negative samples.\n",
      "[88]\ttrain-mlogloss:2.02916\ttrain-auc:0.68222\ttrain-merror:0.71474\ttest-mlogloss:1.66822\ttest-auc:nan\ttest-merror:0.00000\n",
      "[21:01:06] WARNING: ../src/metric/auc.cc:307: Dataset contains only positive or negative samples.\n",
      "[89]\ttrain-mlogloss:2.02871\ttrain-auc:0.68250\ttrain-merror:0.71456\ttest-mlogloss:1.66895\ttest-auc:nan\ttest-merror:0.00000\n",
      "[21:01:07] WARNING: ../src/metric/auc.cc:307: Dataset contains only positive or negative samples.\n",
      "[90]\ttrain-mlogloss:2.02835\ttrain-auc:0.68273\ttrain-merror:0.71439\ttest-mlogloss:1.67109\ttest-auc:nan\ttest-merror:0.00000\n",
      "[21:01:08] WARNING: ../src/metric/auc.cc:307: Dataset contains only positive or negative samples.\n",
      "[91]\ttrain-mlogloss:2.02793\ttrain-auc:0.68300\ttrain-merror:0.71423\ttest-mlogloss:1.67535\ttest-auc:nan\ttest-merror:0.00000\n",
      "[21:01:09] WARNING: ../src/metric/auc.cc:307: Dataset contains only positive or negative samples.\n",
      "[92]\ttrain-mlogloss:2.02750\ttrain-auc:0.68328\ttrain-merror:0.71407\ttest-mlogloss:1.66697\ttest-auc:nan\ttest-merror:0.00000\n",
      "[21:01:10] WARNING: ../src/metric/auc.cc:307: Dataset contains only positive or negative samples.\n",
      "[93]\ttrain-mlogloss:2.02713\ttrain-auc:0.68351\ttrain-merror:0.71394\ttest-mlogloss:1.66514\ttest-auc:nan\ttest-merror:0.00000\n",
      "[21:01:10] WARNING: ../src/metric/auc.cc:307: Dataset contains only positive or negative samples.\n",
      "[94]\ttrain-mlogloss:2.02673\ttrain-auc:0.68378\ttrain-merror:0.71378\ttest-mlogloss:1.66109\ttest-auc:nan\ttest-merror:0.00000\n",
      "[21:01:11] WARNING: ../src/metric/auc.cc:307: Dataset contains only positive or negative samples.\n",
      "[95]\ttrain-mlogloss:2.02633\ttrain-auc:0.68403\ttrain-merror:0.71361\ttest-mlogloss:1.66719\ttest-auc:nan\ttest-merror:0.00000\n",
      "[21:01:12] WARNING: ../src/metric/auc.cc:307: Dataset contains only positive or negative samples.\n",
      "[96]\ttrain-mlogloss:2.02593\ttrain-auc:0.68428\ttrain-merror:0.71347\ttest-mlogloss:1.67930\ttest-auc:nan\ttest-merror:0.00000\n",
      "[21:01:13] WARNING: ../src/metric/auc.cc:307: Dataset contains only positive or negative samples.\n",
      "[97]\ttrain-mlogloss:2.02554\ttrain-auc:0.68453\ttrain-merror:0.71332\ttest-mlogloss:1.67834\ttest-auc:nan\ttest-merror:0.00000\n",
      "[21:01:14] WARNING: ../src/metric/auc.cc:307: Dataset contains only positive or negative samples.\n",
      "[98]\ttrain-mlogloss:2.02520\ttrain-auc:0.68476\ttrain-merror:0.71317\ttest-mlogloss:1.67382\ttest-auc:nan\ttest-merror:0.00000\n",
      "[21:01:15] WARNING: ../src/metric/auc.cc:307: Dataset contains only positive or negative samples.\n",
      "[99]\ttrain-mlogloss:2.02482\ttrain-auc:0.68500\ttrain-merror:0.71300\ttest-mlogloss:1.66315\ttest-auc:nan\ttest-merror:0.00000\n",
      "[21:01:16] WARNING: ../src/metric/auc.cc:307: Dataset contains only positive or negative samples.\n",
      "[100]\ttrain-mlogloss:2.02442\ttrain-auc:0.68525\ttrain-merror:0.71287\ttest-mlogloss:1.66265\ttest-auc:nan\ttest-merror:0.00000\n",
      "[21:01:17] WARNING: ../src/metric/auc.cc:307: Dataset contains only positive or negative samples.\n",
      "[101]\ttrain-mlogloss:2.02400\ttrain-auc:0.68553\ttrain-merror:0.71269\ttest-mlogloss:1.65629\ttest-auc:nan\ttest-merror:0.00000\n",
      "[21:01:17] WARNING: ../src/metric/auc.cc:307: Dataset contains only positive or negative samples.\n",
      "[102]\ttrain-mlogloss:2.02360\ttrain-auc:0.68578\ttrain-merror:0.71252\ttest-mlogloss:1.63808\ttest-auc:nan\ttest-merror:0.00000\n",
      "[21:01:18] WARNING: ../src/metric/auc.cc:307: Dataset contains only positive or negative samples.\n",
      "[103]\ttrain-mlogloss:2.02321\ttrain-auc:0.68603\ttrain-merror:0.71237\ttest-mlogloss:1.63862\ttest-auc:nan\ttest-merror:0.00000\n",
      "[21:01:19] WARNING: ../src/metric/auc.cc:307: Dataset contains only positive or negative samples.\n",
      "[104]\ttrain-mlogloss:2.02280\ttrain-auc:0.68629\ttrain-merror:0.71217\ttest-mlogloss:1.63679\ttest-auc:nan\ttest-merror:0.00000\n",
      "[21:01:20] WARNING: ../src/metric/auc.cc:307: Dataset contains only positive or negative samples.\n",
      "[105]\ttrain-mlogloss:2.02240\ttrain-auc:0.68655\ttrain-merror:0.71198\ttest-mlogloss:1.63368\ttest-auc:nan\ttest-merror:0.00000\n",
      "[21:01:21] WARNING: ../src/metric/auc.cc:307: Dataset contains only positive or negative samples.\n",
      "[106]\ttrain-mlogloss:2.02199\ttrain-auc:0.68681\ttrain-merror:0.71188\ttest-mlogloss:1.64137\ttest-auc:nan\ttest-merror:0.00000\n",
      "[21:01:22] WARNING: ../src/metric/auc.cc:307: Dataset contains only positive or negative samples.\n",
      "[107]\ttrain-mlogloss:2.02157\ttrain-auc:0.68707\ttrain-merror:0.71167\ttest-mlogloss:1.63748\ttest-auc:nan\ttest-merror:0.00000\n",
      "[21:01:23] WARNING: ../src/metric/auc.cc:307: Dataset contains only positive or negative samples.\n",
      "[108]\ttrain-mlogloss:2.02122\ttrain-auc:0.68730\ttrain-merror:0.71154\ttest-mlogloss:1.61052\ttest-auc:nan\ttest-merror:0.00000\n",
      "[21:01:24] WARNING: ../src/metric/auc.cc:307: Dataset contains only positive or negative samples.\n",
      "[109]\ttrain-mlogloss:2.02081\ttrain-auc:0.68758\ttrain-merror:0.71139\ttest-mlogloss:1.61353\ttest-auc:nan\ttest-merror:0.00000\n",
      "[21:01:24] WARNING: ../src/metric/auc.cc:307: Dataset contains only positive or negative samples.\n",
      "[110]\ttrain-mlogloss:2.02047\ttrain-auc:0.68778\ttrain-merror:0.71123\ttest-mlogloss:1.61393\ttest-auc:nan\ttest-merror:0.00000\n",
      "[21:01:25] WARNING: ../src/metric/auc.cc:307: Dataset contains only positive or negative samples.\n",
      "[111]\ttrain-mlogloss:2.02013\ttrain-auc:0.68800\ttrain-merror:0.71112\ttest-mlogloss:1.61565\ttest-auc:nan\ttest-merror:0.00000\n",
      "[21:01:26] WARNING: ../src/metric/auc.cc:307: Dataset contains only positive or negative samples.\n",
      "[112]\ttrain-mlogloss:2.01977\ttrain-auc:0.68821\ttrain-merror:0.71095\ttest-mlogloss:1.61489\ttest-auc:nan\ttest-merror:0.00000\n",
      "[21:01:27] WARNING: ../src/metric/auc.cc:307: Dataset contains only positive or negative samples.\n",
      "[113]\ttrain-mlogloss:2.01946\ttrain-auc:0.68841\ttrain-merror:0.71083\ttest-mlogloss:1.61463\ttest-auc:nan\ttest-merror:0.00000\n",
      "[21:01:28] WARNING: ../src/metric/auc.cc:307: Dataset contains only positive or negative samples.\n",
      "[114]\ttrain-mlogloss:2.01909\ttrain-auc:0.68866\ttrain-merror:0.71071\ttest-mlogloss:1.60958\ttest-auc:nan\ttest-merror:0.00000\n",
      "[21:01:29] WARNING: ../src/metric/auc.cc:307: Dataset contains only positive or negative samples.\n",
      "[115]\ttrain-mlogloss:2.01877\ttrain-auc:0.68884\ttrain-merror:0.71057\ttest-mlogloss:1.60906\ttest-auc:nan\ttest-merror:0.00000\n",
      "[21:01:29] WARNING: ../src/metric/auc.cc:307: Dataset contains only positive or negative samples.\n",
      "[116]\ttrain-mlogloss:2.01841\ttrain-auc:0.68906\ttrain-merror:0.71044\ttest-mlogloss:1.61798\ttest-auc:nan\ttest-merror:0.00000\n",
      "[21:01:30] WARNING: ../src/metric/auc.cc:307: Dataset contains only positive or negative samples.\n",
      "[117]\ttrain-mlogloss:2.01796\ttrain-auc:0.68935\ttrain-merror:0.71020\ttest-mlogloss:1.62294\ttest-auc:nan\ttest-merror:0.00000\n",
      "[21:01:31] WARNING: ../src/metric/auc.cc:307: Dataset contains only positive or negative samples.\n",
      "[118]\ttrain-mlogloss:2.01751\ttrain-auc:0.68963\ttrain-merror:0.71003\ttest-mlogloss:1.63433\ttest-auc:nan\ttest-merror:0.00000\n",
      "[21:01:32] WARNING: ../src/metric/auc.cc:307: Dataset contains only positive or negative samples.\n",
      "[119]\ttrain-mlogloss:2.01717\ttrain-auc:0.68984\ttrain-merror:0.70993\ttest-mlogloss:1.60901\ttest-auc:nan\ttest-merror:0.00000\n",
      "[21:01:33] WARNING: ../src/metric/auc.cc:307: Dataset contains only positive or negative samples.\n",
      "[120]\ttrain-mlogloss:2.01683\ttrain-auc:0.69005\ttrain-merror:0.70976\ttest-mlogloss:1.60918\ttest-auc:nan\ttest-merror:0.00000\n",
      "[21:01:34] WARNING: ../src/metric/auc.cc:307: Dataset contains only positive or negative samples.\n",
      "[121]\ttrain-mlogloss:2.01648\ttrain-auc:0.69027\ttrain-merror:0.70961\ttest-mlogloss:1.60751\ttest-auc:nan\ttest-merror:0.00000\n",
      "[21:01:34] WARNING: ../src/metric/auc.cc:307: Dataset contains only positive or negative samples.\n",
      "[122]\ttrain-mlogloss:2.01614\ttrain-auc:0.69048\ttrain-merror:0.70948\ttest-mlogloss:1.60407\ttest-auc:nan\ttest-merror:0.00000\n",
      "[21:01:35] WARNING: ../src/metric/auc.cc:307: Dataset contains only positive or negative samples.\n",
      "[123]\ttrain-mlogloss:2.01579\ttrain-auc:0.69071\ttrain-merror:0.70934\ttest-mlogloss:1.60210\ttest-auc:nan\ttest-merror:0.00000\n",
      "[21:01:36] WARNING: ../src/metric/auc.cc:307: Dataset contains only positive or negative samples.\n",
      "[124]\ttrain-mlogloss:2.01544\ttrain-auc:0.69096\ttrain-merror:0.70915\ttest-mlogloss:1.59802\ttest-auc:nan\ttest-merror:0.00000\n",
      "[21:01:37] WARNING: ../src/metric/auc.cc:307: Dataset contains only positive or negative samples.\n",
      "[125]\ttrain-mlogloss:2.01511\ttrain-auc:0.69117\ttrain-merror:0.70903\ttest-mlogloss:1.59896\ttest-auc:nan\ttest-merror:0.00000\n",
      "[21:01:38] WARNING: ../src/metric/auc.cc:307: Dataset contains only positive or negative samples.\n",
      "[126]\ttrain-mlogloss:2.01477\ttrain-auc:0.69138\ttrain-merror:0.70888\ttest-mlogloss:1.59209\ttest-auc:nan\ttest-merror:0.00000\n",
      "[21:01:39] WARNING: ../src/metric/auc.cc:307: Dataset contains only positive or negative samples.\n",
      "[127]\ttrain-mlogloss:2.01441\ttrain-auc:0.69161\ttrain-merror:0.70874\ttest-mlogloss:1.59343\ttest-auc:nan\ttest-merror:0.00000\n",
      "[21:01:40] WARNING: ../src/metric/auc.cc:307: Dataset contains only positive or negative samples.\n",
      "[128]\ttrain-mlogloss:2.01405\ttrain-auc:0.69185\ttrain-merror:0.70860\ttest-mlogloss:1.59444\ttest-auc:nan\ttest-merror:0.00000\n",
      "[21:01:40] WARNING: ../src/metric/auc.cc:307: Dataset contains only positive or negative samples.\n",
      "[129]\ttrain-mlogloss:2.01368\ttrain-auc:0.69210\ttrain-merror:0.70844\ttest-mlogloss:1.59291\ttest-auc:nan\ttest-merror:0.00000\n",
      "[21:01:41] WARNING: ../src/metric/auc.cc:307: Dataset contains only positive or negative samples.\n",
      "[130]\ttrain-mlogloss:2.01332\ttrain-auc:0.69233\ttrain-merror:0.70831\ttest-mlogloss:1.59325\ttest-auc:nan\ttest-merror:0.00000\n",
      "[21:01:42] WARNING: ../src/metric/auc.cc:307: Dataset contains only positive or negative samples.\n",
      "[131]\ttrain-mlogloss:2.01300\ttrain-auc:0.69255\ttrain-merror:0.70818\ttest-mlogloss:1.59386\ttest-auc:nan\ttest-merror:0.00000\n",
      "[21:01:43] WARNING: ../src/metric/auc.cc:307: Dataset contains only positive or negative samples.\n",
      "[132]\ttrain-mlogloss:2.01268\ttrain-auc:0.69275\ttrain-merror:0.70804\ttest-mlogloss:1.59482\ttest-auc:nan\ttest-merror:0.00000\n",
      "[21:01:44] WARNING: ../src/metric/auc.cc:307: Dataset contains only positive or negative samples.\n",
      "[133]\ttrain-mlogloss:2.01236\ttrain-auc:0.69295\ttrain-merror:0.70788\ttest-mlogloss:1.59697\ttest-auc:nan\ttest-merror:0.00000\n",
      "[21:01:45] WARNING: ../src/metric/auc.cc:307: Dataset contains only positive or negative samples.\n",
      "[134]\ttrain-mlogloss:2.01207\ttrain-auc:0.69312\ttrain-merror:0.70779\ttest-mlogloss:1.59919\ttest-auc:nan\ttest-merror:0.00000\n",
      "[21:01:45] WARNING: ../src/metric/auc.cc:307: Dataset contains only positive or negative samples.\n",
      "[135]\ttrain-mlogloss:2.01176\ttrain-auc:0.69332\ttrain-merror:0.70764\ttest-mlogloss:1.52993\ttest-auc:nan\ttest-merror:0.00000\n",
      "[21:01:46] WARNING: ../src/metric/auc.cc:307: Dataset contains only positive or negative samples.\n",
      "[136]\ttrain-mlogloss:2.01149\ttrain-auc:0.69347\ttrain-merror:0.70755\ttest-mlogloss:1.54306\ttest-auc:nan\ttest-merror:0.00000\n",
      "[21:01:47] WARNING: ../src/metric/auc.cc:307: Dataset contains only positive or negative samples.\n",
      "[137]\ttrain-mlogloss:2.01117\ttrain-auc:0.69369\ttrain-merror:0.70739\ttest-mlogloss:1.54029\ttest-auc:nan\ttest-merror:0.00000\n",
      "[21:01:48] WARNING: ../src/metric/auc.cc:307: Dataset contains only positive or negative samples.\n",
      "[138]\ttrain-mlogloss:2.01087\ttrain-auc:0.69388\ttrain-merror:0.70725\ttest-mlogloss:1.54350\ttest-auc:nan\ttest-merror:0.00000\n",
      "[21:01:49] WARNING: ../src/metric/auc.cc:307: Dataset contains only positive or negative samples.\n",
      "[139]\ttrain-mlogloss:2.01050\ttrain-auc:0.69410\ttrain-merror:0.70708\ttest-mlogloss:1.54257\ttest-auc:nan\ttest-merror:0.00000\n",
      "[21:01:49] WARNING: ../src/metric/auc.cc:307: Dataset contains only positive or negative samples.\n",
      "[140]\ttrain-mlogloss:2.01017\ttrain-auc:0.69431\ttrain-merror:0.70693\ttest-mlogloss:1.54017\ttest-auc:nan\ttest-merror:0.00000\n",
      "[21:01:50] WARNING: ../src/metric/auc.cc:307: Dataset contains only positive or negative samples.\n",
      "[141]\ttrain-mlogloss:2.00983\ttrain-auc:0.69454\ttrain-merror:0.70677\ttest-mlogloss:1.53925\ttest-auc:nan\ttest-merror:0.00000\n",
      "[21:01:51] WARNING: ../src/metric/auc.cc:307: Dataset contains only positive or negative samples.\n",
      "[142]\ttrain-mlogloss:2.00944\ttrain-auc:0.69479\ttrain-merror:0.70661\ttest-mlogloss:1.53338\ttest-auc:nan\ttest-merror:0.00000\n",
      "[21:01:52] WARNING: ../src/metric/auc.cc:307: Dataset contains only positive or negative samples.\n",
      "[143]\ttrain-mlogloss:2.00913\ttrain-auc:0.69497\ttrain-merror:0.70646\ttest-mlogloss:1.54434\ttest-auc:nan\ttest-merror:0.00000\n",
      "[21:01:53] WARNING: ../src/metric/auc.cc:307: Dataset contains only positive or negative samples.\n",
      "[144]\ttrain-mlogloss:2.00879\ttrain-auc:0.69518\ttrain-merror:0.70634\ttest-mlogloss:1.54479\ttest-auc:nan\ttest-merror:0.00000\n",
      "[21:01:54] WARNING: ../src/metric/auc.cc:307: Dataset contains only positive or negative samples.\n",
      "[145]\ttrain-mlogloss:2.00848\ttrain-auc:0.69537\ttrain-merror:0.70622\ttest-mlogloss:1.54751\ttest-auc:nan\ttest-merror:0.00000\n",
      "[21:01:54] WARNING: ../src/metric/auc.cc:307: Dataset contains only positive or negative samples.\n",
      "[146]\ttrain-mlogloss:2.00822\ttrain-auc:0.69554\ttrain-merror:0.70610\ttest-mlogloss:1.54265\ttest-auc:nan\ttest-merror:0.00000\n",
      "[21:01:55] WARNING: ../src/metric/auc.cc:307: Dataset contains only positive or negative samples.\n",
      "[147]\ttrain-mlogloss:2.00793\ttrain-auc:0.69574\ttrain-merror:0.70598\ttest-mlogloss:1.54458\ttest-auc:nan\ttest-merror:0.00000\n",
      "[21:01:56] WARNING: ../src/metric/auc.cc:307: Dataset contains only positive or negative samples.\n",
      "[148]\ttrain-mlogloss:2.00761\ttrain-auc:0.69595\ttrain-merror:0.70586\ttest-mlogloss:1.54805\ttest-auc:nan\ttest-merror:0.00000\n",
      "[21:01:57] WARNING: ../src/metric/auc.cc:307: Dataset contains only positive or negative samples.\n",
      "[149]\ttrain-mlogloss:2.00724\ttrain-auc:0.69619\ttrain-merror:0.70573\ttest-mlogloss:1.54943\ttest-auc:nan\ttest-merror:0.00000\n",
      "[21:01:58] WARNING: ../src/metric/auc.cc:307: Dataset contains only positive or negative samples.\n",
      "[150]\ttrain-mlogloss:2.00694\ttrain-auc:0.69638\ttrain-merror:0.70563\ttest-mlogloss:1.54813\ttest-auc:nan\ttest-merror:0.00000\n",
      "[21:01:58] WARNING: ../src/metric/auc.cc:307: Dataset contains only positive or negative samples.\n",
      "[151]\ttrain-mlogloss:2.00665\ttrain-auc:0.69656\ttrain-merror:0.70552\ttest-mlogloss:1.54776\ttest-auc:nan\ttest-merror:0.00000\n",
      "[21:01:59] WARNING: ../src/metric/auc.cc:307: Dataset contains only positive or negative samples.\n",
      "[152]\ttrain-mlogloss:2.00633\ttrain-auc:0.69676\ttrain-merror:0.70535\ttest-mlogloss:1.55049\ttest-auc:nan\ttest-merror:0.00000\n",
      "[21:02:00] WARNING: ../src/metric/auc.cc:307: Dataset contains only positive or negative samples.\n",
      "[153]\ttrain-mlogloss:2.00602\ttrain-auc:0.69696\ttrain-merror:0.70519\ttest-mlogloss:1.54997\ttest-auc:nan\ttest-merror:0.00000\n",
      "[21:02:01] WARNING: ../src/metric/auc.cc:307: Dataset contains only positive or negative samples.\n",
      "[154]\ttrain-mlogloss:2.00570\ttrain-auc:0.69715\ttrain-merror:0.70503\ttest-mlogloss:1.54930\ttest-auc:nan\ttest-merror:0.00000\n",
      "[21:02:02] WARNING: ../src/metric/auc.cc:307: Dataset contains only positive or negative samples.\n",
      "[155]\ttrain-mlogloss:2.00542\ttrain-auc:0.69732\ttrain-merror:0.70494\ttest-mlogloss:1.55080\ttest-auc:nan\ttest-merror:0.00000\n",
      "[21:02:02] WARNING: ../src/metric/auc.cc:307: Dataset contains only positive or negative samples.\n",
      "[156]\ttrain-mlogloss:2.00512\ttrain-auc:0.69750\ttrain-merror:0.70483\ttest-mlogloss:1.54407\ttest-auc:nan\ttest-merror:0.00000\n",
      "[21:02:03] WARNING: ../src/metric/auc.cc:307: Dataset contains only positive or negative samples.\n",
      "[157]\ttrain-mlogloss:2.00480\ttrain-auc:0.69769\ttrain-merror:0.70470\ttest-mlogloss:1.54217\ttest-auc:nan\ttest-merror:0.00000\n",
      "[21:02:04] WARNING: ../src/metric/auc.cc:307: Dataset contains only positive or negative samples.\n",
      "[158]\ttrain-mlogloss:2.00454\ttrain-auc:0.69785\ttrain-merror:0.70461\ttest-mlogloss:1.54405\ttest-auc:nan\ttest-merror:0.00000\n",
      "[21:02:05] WARNING: ../src/metric/auc.cc:307: Dataset contains only positive or negative samples.\n",
      "[159]\ttrain-mlogloss:2.00423\ttrain-auc:0.69803\ttrain-merror:0.70453\ttest-mlogloss:1.53724\ttest-auc:nan\ttest-merror:0.00000\n",
      "[21:02:06] WARNING: ../src/metric/auc.cc:307: Dataset contains only positive or negative samples.\n",
      "[160]\ttrain-mlogloss:2.00394\ttrain-auc:0.69822\ttrain-merror:0.70437\ttest-mlogloss:1.53768\ttest-auc:nan\ttest-merror:0.00000\n",
      "[21:02:06] WARNING: ../src/metric/auc.cc:307: Dataset contains only positive or negative samples.\n",
      "[161]\ttrain-mlogloss:2.00365\ttrain-auc:0.69840\ttrain-merror:0.70427\ttest-mlogloss:1.53750\ttest-auc:nan\ttest-merror:0.00000\n",
      "[21:02:07] WARNING: ../src/metric/auc.cc:307: Dataset contains only positive or negative samples.\n",
      "[162]\ttrain-mlogloss:2.00334\ttrain-auc:0.69860\ttrain-merror:0.70413\ttest-mlogloss:1.48875\ttest-auc:nan\ttest-merror:0.00000\n",
      "[21:02:08] WARNING: ../src/metric/auc.cc:307: Dataset contains only positive or negative samples.\n",
      "[163]\ttrain-mlogloss:2.00302\ttrain-auc:0.69880\ttrain-merror:0.70403\ttest-mlogloss:1.48748\ttest-auc:nan\ttest-merror:0.00000\n",
      "[21:02:09] WARNING: ../src/metric/auc.cc:307: Dataset contains only positive or negative samples.\n",
      "[164]\ttrain-mlogloss:2.00270\ttrain-auc:0.69899\ttrain-merror:0.70389\ttest-mlogloss:1.48385\ttest-auc:nan\ttest-merror:0.00000\n",
      "[21:02:10] WARNING: ../src/metric/auc.cc:307: Dataset contains only positive or negative samples.\n",
      "[165]\ttrain-mlogloss:2.00235\ttrain-auc:0.69920\ttrain-merror:0.70374\ttest-mlogloss:1.48337\ttest-auc:nan\ttest-merror:0.00000\n",
      "[21:02:11] WARNING: ../src/metric/auc.cc:307: Dataset contains only positive or negative samples.\n",
      "[166]\ttrain-mlogloss:2.00206\ttrain-auc:0.69937\ttrain-merror:0.70366\ttest-mlogloss:1.48018\ttest-auc:nan\ttest-merror:0.00000\n",
      "[21:02:11] WARNING: ../src/metric/auc.cc:307: Dataset contains only positive or negative samples.\n",
      "[167]\ttrain-mlogloss:2.00179\ttrain-auc:0.69954\ttrain-merror:0.70353\ttest-mlogloss:1.48022\ttest-auc:nan\ttest-merror:0.00000\n",
      "[21:02:12] WARNING: ../src/metric/auc.cc:307: Dataset contains only positive or negative samples.\n",
      "[168]\ttrain-mlogloss:2.00153\ttrain-auc:0.69969\ttrain-merror:0.70341\ttest-mlogloss:1.48304\ttest-auc:nan\ttest-merror:0.00000\n",
      "[21:02:13] WARNING: ../src/metric/auc.cc:307: Dataset contains only positive or negative samples.\n",
      "[169]\ttrain-mlogloss:2.00127\ttrain-auc:0.69986\ttrain-merror:0.70328\ttest-mlogloss:1.48264\ttest-auc:nan\ttest-merror:0.00000\n",
      "[21:02:14] WARNING: ../src/metric/auc.cc:307: Dataset contains only positive or negative samples.\n",
      "[170]\ttrain-mlogloss:2.00100\ttrain-auc:0.70003\ttrain-merror:0.70317\ttest-mlogloss:1.48654\ttest-auc:nan\ttest-merror:0.00000\n",
      "[21:02:15] WARNING: ../src/metric/auc.cc:307: Dataset contains only positive or negative samples.\n",
      "[171]\ttrain-mlogloss:2.00074\ttrain-auc:0.70019\ttrain-merror:0.70307\ttest-mlogloss:1.50088\ttest-auc:nan\ttest-merror:0.00000\n",
      "[21:02:15] WARNING: ../src/metric/auc.cc:307: Dataset contains only positive or negative samples.\n",
      "[172]\ttrain-mlogloss:2.00047\ttrain-auc:0.70034\ttrain-merror:0.70298\ttest-mlogloss:1.49960\ttest-auc:nan\ttest-merror:0.00000\n",
      "[21:02:16] WARNING: ../src/metric/auc.cc:307: Dataset contains only positive or negative samples.\n",
      "[173]\ttrain-mlogloss:2.00015\ttrain-auc:0.70053\ttrain-merror:0.70282\ttest-mlogloss:1.49904\ttest-auc:nan\ttest-merror:0.00000\n",
      "[21:02:17] WARNING: ../src/metric/auc.cc:307: Dataset contains only positive or negative samples.\n",
      "[174]\ttrain-mlogloss:1.99990\ttrain-auc:0.70069\ttrain-merror:0.70268\ttest-mlogloss:1.49894\ttest-auc:nan\ttest-merror:0.00000\n",
      "[21:02:18] WARNING: ../src/metric/auc.cc:307: Dataset contains only positive or negative samples.\n",
      "[175]\ttrain-mlogloss:1.99959\ttrain-auc:0.70088\ttrain-merror:0.70257\ttest-mlogloss:1.49795\ttest-auc:nan\ttest-merror:0.00000\n",
      "[21:02:19] WARNING: ../src/metric/auc.cc:307: Dataset contains only positive or negative samples.\n",
      "[176]\ttrain-mlogloss:1.99928\ttrain-auc:0.70108\ttrain-merror:0.70244\ttest-mlogloss:1.49890\ttest-auc:nan\ttest-merror:0.00000\n",
      "[21:02:19] WARNING: ../src/metric/auc.cc:307: Dataset contains only positive or negative samples.\n",
      "[177]\ttrain-mlogloss:1.99898\ttrain-auc:0.70126\ttrain-merror:0.70233\ttest-mlogloss:1.50177\ttest-auc:nan\ttest-merror:0.00000\n",
      "[21:02:20] WARNING: ../src/metric/auc.cc:307: Dataset contains only positive or negative samples.\n",
      "[178]\ttrain-mlogloss:1.99866\ttrain-auc:0.70146\ttrain-merror:0.70219\ttest-mlogloss:1.50218\ttest-auc:nan\ttest-merror:0.00000\n",
      "[21:02:21] WARNING: ../src/metric/auc.cc:307: Dataset contains only positive or negative samples.\n",
      "[179]\ttrain-mlogloss:1.99830\ttrain-auc:0.70167\ttrain-merror:0.70202\ttest-mlogloss:1.50117\ttest-auc:nan\ttest-merror:0.00000\n",
      "[21:02:22] WARNING: ../src/metric/auc.cc:307: Dataset contains only positive or negative samples.\n",
      "[180]\ttrain-mlogloss:1.99805\ttrain-auc:0.70183\ttrain-merror:0.70187\ttest-mlogloss:1.50109\ttest-auc:nan\ttest-merror:0.00000\n",
      "[21:02:23] WARNING: ../src/metric/auc.cc:307: Dataset contains only positive or negative samples.\n",
      "[181]\ttrain-mlogloss:1.99778\ttrain-auc:0.70198\ttrain-merror:0.70180\ttest-mlogloss:1.50126\ttest-auc:nan\ttest-merror:0.00000\n",
      "[21:02:23] WARNING: ../src/metric/auc.cc:307: Dataset contains only positive or negative samples.\n",
      "[182]\ttrain-mlogloss:1.99751\ttrain-auc:0.70214\ttrain-merror:0.70174\ttest-mlogloss:1.50698\ttest-auc:nan\ttest-merror:0.00000\n",
      "[21:02:24] WARNING: ../src/metric/auc.cc:307: Dataset contains only positive or negative samples.\n",
      "[183]\ttrain-mlogloss:1.99727\ttrain-auc:0.70229\ttrain-merror:0.70163\ttest-mlogloss:1.50089\ttest-auc:nan\ttest-merror:0.00000\n",
      "[21:02:25] WARNING: ../src/metric/auc.cc:307: Dataset contains only positive or negative samples.\n",
      "[184]\ttrain-mlogloss:1.99698\ttrain-auc:0.70247\ttrain-merror:0.70149\ttest-mlogloss:1.50269\ttest-auc:nan\ttest-merror:0.00000\n",
      "[21:02:26] WARNING: ../src/metric/auc.cc:307: Dataset contains only positive or negative samples.\n",
      "[185]\ttrain-mlogloss:1.99668\ttrain-auc:0.70266\ttrain-merror:0.70132\ttest-mlogloss:1.50558\ttest-auc:nan\ttest-merror:0.00000\n",
      "[21:02:27] WARNING: ../src/metric/auc.cc:307: Dataset contains only positive or negative samples.\n",
      "[186]\ttrain-mlogloss:1.99639\ttrain-auc:0.70284\ttrain-merror:0.70122\ttest-mlogloss:1.50352\ttest-auc:nan\ttest-merror:0.00000\n",
      "[21:02:27] WARNING: ../src/metric/auc.cc:307: Dataset contains only positive or negative samples.\n",
      "[187]\ttrain-mlogloss:1.99609\ttrain-auc:0.70302\ttrain-merror:0.70109\ttest-mlogloss:1.50396\ttest-auc:nan\ttest-merror:0.00000\n",
      "[21:02:28] WARNING: ../src/metric/auc.cc:307: Dataset contains only positive or negative samples.\n",
      "[188]\ttrain-mlogloss:1.99582\ttrain-auc:0.70318\ttrain-merror:0.70095\ttest-mlogloss:1.50649\ttest-auc:nan\ttest-merror:0.00000\n",
      "[21:02:29] WARNING: ../src/metric/auc.cc:307: Dataset contains only positive or negative samples.\n",
      "[189]\ttrain-mlogloss:1.99558\ttrain-auc:0.70331\ttrain-merror:0.70086\ttest-mlogloss:1.50715\ttest-auc:nan\ttest-merror:0.00000\n",
      "[21:02:30] WARNING: ../src/metric/auc.cc:307: Dataset contains only positive or negative samples.\n",
      "[190]\ttrain-mlogloss:1.99536\ttrain-auc:0.70344\ttrain-merror:0.70079\ttest-mlogloss:1.50725\ttest-auc:nan\ttest-merror:0.00000\n",
      "[21:02:30] WARNING: ../src/metric/auc.cc:307: Dataset contains only positive or negative samples.\n",
      "[191]\ttrain-mlogloss:1.99508\ttrain-auc:0.70360\ttrain-merror:0.70067\ttest-mlogloss:1.52409\ttest-auc:nan\ttest-merror:0.00000\n",
      "[21:02:31] WARNING: ../src/metric/auc.cc:307: Dataset contains only positive or negative samples.\n",
      "[192]\ttrain-mlogloss:1.99476\ttrain-auc:0.70380\ttrain-merror:0.70051\ttest-mlogloss:1.52865\ttest-auc:nan\ttest-merror:0.00000\n",
      "[21:02:32] WARNING: ../src/metric/auc.cc:307: Dataset contains only positive or negative samples.\n",
      "[193]\ttrain-mlogloss:1.99447\ttrain-auc:0.70397\ttrain-merror:0.70041\ttest-mlogloss:1.51949\ttest-auc:nan\ttest-merror:0.00000\n",
      "[21:02:33] WARNING: ../src/metric/auc.cc:307: Dataset contains only positive or negative samples.\n",
      "[194]\ttrain-mlogloss:1.99416\ttrain-auc:0.70416\ttrain-merror:0.70029\ttest-mlogloss:1.52317\ttest-auc:nan\ttest-merror:0.00000\n",
      "[21:02:34] WARNING: ../src/metric/auc.cc:307: Dataset contains only positive or negative samples.\n",
      "[195]\ttrain-mlogloss:1.99388\ttrain-auc:0.70435\ttrain-merror:0.70016\ttest-mlogloss:1.52412\ttest-auc:nan\ttest-merror:0.00000\n",
      "[21:02:34] WARNING: ../src/metric/auc.cc:307: Dataset contains only positive or negative samples.\n",
      "[196]\ttrain-mlogloss:1.99362\ttrain-auc:0.70451\ttrain-merror:0.70008\ttest-mlogloss:1.52249\ttest-auc:nan\ttest-merror:0.00000\n",
      "[21:02:35] WARNING: ../src/metric/auc.cc:307: Dataset contains only positive or negative samples.\n",
      "[197]\ttrain-mlogloss:1.99336\ttrain-auc:0.70466\ttrain-merror:0.69992\ttest-mlogloss:1.51908\ttest-auc:nan\ttest-merror:0.00000\n",
      "[21:02:36] WARNING: ../src/metric/auc.cc:307: Dataset contains only positive or negative samples.\n",
      "[198]\ttrain-mlogloss:1.99305\ttrain-auc:0.70484\ttrain-merror:0.69977\ttest-mlogloss:1.51772\ttest-auc:nan\ttest-merror:0.00000\n",
      "[21:02:37] WARNING: ../src/metric/auc.cc:307: Dataset contains only positive or negative samples.\n",
      "[199]\ttrain-mlogloss:1.99275\ttrain-auc:0.70503\ttrain-merror:0.69964\ttest-mlogloss:1.51822\ttest-auc:nan\ttest-merror:0.00000\n",
      "200-rounds Training finished ...\t\t(188.664s)\n"
     ]
    }
   ],
   "source": [
    "num_round = 200\n",
    "t0 = time()\n",
    "eval_result = {}\n",
    "def decay_eta(nth):\n",
    "    etas = [.1, .05, .03, .01]\n",
    "    return etas[(nth // 60) % len(etas)]\n",
    "\n",
    "wl_bst_sm = xgb.train(param, xg_train, num_round, watchlist, evals_result=eval_result)\n",
    "print(f\"{num_round}-rounds Training finished ...\\t\\t({time()-t0:.3f}s)\")"
   ]
  },
  {
   "cell_type": "code",
   "execution_count": 46,
   "metadata": {
    "collapsed": true,
    "jupyter": {
     "outputs_hidden": true
    },
    "tags": []
   },
   "outputs": [
    {
     "data": {
      "text/plain": [
       "{'train': OrderedDict([('mlogloss',\n",
       "               [2.273391,\n",
       "                2.249271,\n",
       "                2.228938,\n",
       "                2.211438,\n",
       "                2.196323,\n",
       "                2.183143,\n",
       "                2.171514,\n",
       "                2.16128,\n",
       "                2.15201,\n",
       "                2.14378,\n",
       "                2.136391,\n",
       "                2.129838,\n",
       "                2.12384,\n",
       "                2.118412,\n",
       "                2.113522,\n",
       "                2.109029,\n",
       "                2.105014,\n",
       "                2.101309,\n",
       "                2.0979,\n",
       "                2.094819,\n",
       "                2.092041,\n",
       "                2.089248,\n",
       "                2.086848,\n",
       "                2.084486,\n",
       "                2.082175,\n",
       "                2.080239,\n",
       "                2.078318,\n",
       "                2.076628,\n",
       "                2.074873,\n",
       "                2.073293,\n",
       "                2.071798,\n",
       "                2.070462,\n",
       "                2.069056,\n",
       "                2.067713,\n",
       "                2.066565,\n",
       "                2.065228,\n",
       "                2.064006,\n",
       "                2.062921,\n",
       "                2.061723,\n",
       "                2.060604,\n",
       "                2.059523,\n",
       "                2.058563,\n",
       "                2.057618,\n",
       "                2.056739,\n",
       "                2.055834,\n",
       "                2.055038,\n",
       "                2.054273,\n",
       "                2.053414,\n",
       "                2.052641,\n",
       "                2.051878,\n",
       "                2.051152,\n",
       "                2.050514,\n",
       "                2.049806,\n",
       "                2.049126,\n",
       "                2.04851,\n",
       "                2.047696,\n",
       "                2.047043,\n",
       "                2.046361,\n",
       "                2.045739,\n",
       "                2.045126,\n",
       "                2.044484,\n",
       "                2.043822,\n",
       "                2.043189,\n",
       "                2.042589,\n",
       "                2.041953,\n",
       "                2.041371,\n",
       "                2.040852,\n",
       "                2.040214,\n",
       "                2.039633,\n",
       "                2.039045,\n",
       "                2.038459,\n",
       "                2.037893,\n",
       "                2.037293,\n",
       "                2.03677,\n",
       "                2.036205,\n",
       "                2.035654,\n",
       "                2.035119,\n",
       "                2.034608,\n",
       "                2.034042,\n",
       "                2.033438,\n",
       "                2.033002,\n",
       "                2.032466,\n",
       "                2.031891,\n",
       "                2.031407,\n",
       "                2.030922,\n",
       "                2.030501,\n",
       "                2.029937,\n",
       "                2.029474,\n",
       "                2.028983,\n",
       "                2.028555,\n",
       "                2.028012,\n",
       "                2.027574,\n",
       "                2.027126,\n",
       "                2.026658,\n",
       "                2.026212,\n",
       "                2.025816,\n",
       "                2.025496,\n",
       "                2.025096,\n",
       "                2.024753,\n",
       "                2.024403,\n",
       "                2.024139,\n",
       "                2.023821,\n",
       "                2.023507,\n",
       "                2.023234,\n",
       "                2.022821,\n",
       "                2.022518,\n",
       "                2.022208,\n",
       "                2.022001,\n",
       "                2.021776,\n",
       "                2.021562,\n",
       "                2.021295,\n",
       "                2.021012,\n",
       "                2.020731,\n",
       "                2.020529,\n",
       "                2.020328,\n",
       "                2.020141,\n",
       "                2.01988,\n",
       "                2.019671,\n",
       "                2.01945,\n",
       "                2.019143,\n",
       "                2.018958,\n",
       "                2.018705,\n",
       "                2.018505,\n",
       "                2.018282,\n",
       "                2.018093,\n",
       "                2.017933,\n",
       "                2.017817,\n",
       "                2.017704,\n",
       "                2.017591,\n",
       "                2.017471,\n",
       "                2.017397,\n",
       "                2.017253,\n",
       "                2.017146,\n",
       "                2.017033,\n",
       "                2.016887,\n",
       "                2.016766,\n",
       "                2.016657,\n",
       "                2.01646,\n",
       "                2.016353,\n",
       "                2.016211,\n",
       "                2.016126,\n",
       "                2.016019,\n",
       "                2.015876,\n",
       "                2.015805,\n",
       "                2.015669,\n",
       "                2.015573,\n",
       "                2.015421,\n",
       "                2.015299,\n",
       "                2.015163,\n",
       "                2.015013,\n",
       "                2.014934,\n",
       "                2.014853,\n",
       "                2.014726,\n",
       "                2.014677,\n",
       "                2.014621,\n",
       "                2.014551,\n",
       "                2.014474,\n",
       "                2.014271,\n",
       "                2.01423,\n",
       "                2.014152,\n",
       "                2.014093,\n",
       "                2.014045,\n",
       "                2.013975,\n",
       "                2.013928,\n",
       "                2.013889,\n",
       "                2.013806,\n",
       "                2.013786,\n",
       "                2.013756,\n",
       "                2.013702,\n",
       "                2.013679,\n",
       "                2.013618,\n",
       "                2.013508,\n",
       "                2.013389,\n",
       "                2.013267,\n",
       "                2.01323,\n",
       "                2.013192,\n",
       "                2.01314,\n",
       "                2.013098,\n",
       "                2.01299,\n",
       "                2.012877,\n",
       "                2.012784,\n",
       "                2.012739,\n",
       "                2.012705,\n",
       "                2.012635,\n",
       "                2.012612,\n",
       "                2.012561,\n",
       "                2.012506,\n",
       "                2.012436,\n",
       "                2.012393,\n",
       "                2.012362,\n",
       "                2.012309,\n",
       "                2.012259,\n",
       "                2.012213,\n",
       "                2.012111,\n",
       "                2.012066,\n",
       "                2.011981,\n",
       "                2.011952,\n",
       "                2.011911,\n",
       "                2.011884,\n",
       "                2.011832]),\n",
       "              ('auc',\n",
       "               [0.609166,\n",
       "                0.613574,\n",
       "                0.615673,\n",
       "                0.617684,\n",
       "                0.618899,\n",
       "                0.620377,\n",
       "                0.621478,\n",
       "                0.62236,\n",
       "                0.623596,\n",
       "                0.624718,\n",
       "                0.625693,\n",
       "                0.626546,\n",
       "                0.627477,\n",
       "                0.628391,\n",
       "                0.629221,\n",
       "                0.630098,\n",
       "                0.630813,\n",
       "                0.631575,\n",
       "                0.632343,\n",
       "                0.633113,\n",
       "                0.633773,\n",
       "                0.634675,\n",
       "                0.635358,\n",
       "                0.636146,\n",
       "                0.637049,\n",
       "                0.637714,\n",
       "                0.638476,\n",
       "                0.63913,\n",
       "                0.639907,\n",
       "                0.64057,\n",
       "                0.641302,\n",
       "                0.641907,\n",
       "                0.642584,\n",
       "                0.643294,\n",
       "                0.64389,\n",
       "                0.644677,\n",
       "                0.645397,\n",
       "                0.646051,\n",
       "                0.646797,\n",
       "                0.64751,\n",
       "                0.648158,\n",
       "                0.648724,\n",
       "                0.649365,\n",
       "                0.649896,\n",
       "                0.650452,\n",
       "                0.650985,\n",
       "                0.651553,\n",
       "                0.652133,\n",
       "                0.652763,\n",
       "                0.653332,\n",
       "                0.653814,\n",
       "                0.654313,\n",
       "                0.654877,\n",
       "                0.655356,\n",
       "                0.655828,\n",
       "                0.656415,\n",
       "                0.656954,\n",
       "                0.65745,\n",
       "                0.657979,\n",
       "                0.658472,\n",
       "                0.658947,\n",
       "                0.659518,\n",
       "                0.660011,\n",
       "                0.66048,\n",
       "                0.661035,\n",
       "                0.661515,\n",
       "                0.661939,\n",
       "                0.66243,\n",
       "                0.662903,\n",
       "                0.663358,\n",
       "                0.663827,\n",
       "                0.664305,\n",
       "                0.664799,\n",
       "                0.665215,\n",
       "                0.665669,\n",
       "                0.66609,\n",
       "                0.666529,\n",
       "                0.666907,\n",
       "                0.66736,\n",
       "                0.667831,\n",
       "                0.668144,\n",
       "                0.668582,\n",
       "                0.669065,\n",
       "                0.66944,\n",
       "                0.669814,\n",
       "                0.67014,\n",
       "                0.670602,\n",
       "                0.670932,\n",
       "                0.671322,\n",
       "                0.671626,\n",
       "                0.672037,\n",
       "                0.672368,\n",
       "                0.672707,\n",
       "                0.673066,\n",
       "                0.673372,\n",
       "                0.673655,\n",
       "                0.673886,\n",
       "                0.674167,\n",
       "                0.674412,\n",
       "                0.67468,\n",
       "                0.674849,\n",
       "                0.675083,\n",
       "                0.675328,\n",
       "                0.675503,\n",
       "                0.675813,\n",
       "                0.676021,\n",
       "                0.676225,\n",
       "                0.67635,\n",
       "                0.676503,\n",
       "                0.676644,\n",
       "                0.676819,\n",
       "                0.677004,\n",
       "                0.677191,\n",
       "                0.677305,\n",
       "                0.677427,\n",
       "                0.677553,\n",
       "                0.677731,\n",
       "                0.677853,\n",
       "                0.678005,\n",
       "                0.67821,\n",
       "                0.678332,\n",
       "                0.678514,\n",
       "                0.678642,\n",
       "                0.678797,\n",
       "                0.678916,\n",
       "                0.67901,\n",
       "                0.679068,\n",
       "                0.679116,\n",
       "                0.679174,\n",
       "                0.679233,\n",
       "                0.679268,\n",
       "                0.679347,\n",
       "                0.679393,\n",
       "                0.679453,\n",
       "                0.679532,\n",
       "                0.679592,\n",
       "                0.679641,\n",
       "                0.679756,\n",
       "                0.679805,\n",
       "                0.679884,\n",
       "                0.67992,\n",
       "                0.679976,\n",
       "                0.680058,\n",
       "                0.680091,\n",
       "                0.680166,\n",
       "                0.680201,\n",
       "                0.680297,\n",
       "                0.680364,\n",
       "                0.680429,\n",
       "                0.680511,\n",
       "                0.680554,\n",
       "                0.680594,\n",
       "                0.68066,\n",
       "                0.680675,\n",
       "                0.680696,\n",
       "                0.680724,\n",
       "                0.680755,\n",
       "                0.680916,\n",
       "                0.68093,\n",
       "                0.680963,\n",
       "                0.680986,\n",
       "                0.681005,\n",
       "                0.681047,\n",
       "                0.681063,\n",
       "                0.681076,\n",
       "                0.681109,\n",
       "                0.681114,\n",
       "                0.681125,\n",
       "                0.681142,\n",
       "                0.681148,\n",
       "                0.681176,\n",
       "                0.681243,\n",
       "                0.681297,\n",
       "                0.68136,\n",
       "                0.681373,\n",
       "                0.681389,\n",
       "                0.681404,\n",
       "                0.681419,\n",
       "                0.681469,\n",
       "                0.681542,\n",
       "                0.681581,\n",
       "                0.681599,\n",
       "                0.681611,\n",
       "                0.681642,\n",
       "                0.681648,\n",
       "                0.681666,\n",
       "                0.681681,\n",
       "                0.681711,\n",
       "                0.681724,\n",
       "                0.681731,\n",
       "                0.681748,\n",
       "                0.681768,\n",
       "                0.681781,\n",
       "                0.681825,\n",
       "                0.681841,\n",
       "                0.681887,\n",
       "                0.681898,\n",
       "                0.681912,\n",
       "                0.681922,\n",
       "                0.681937]),\n",
       "              ('merror',\n",
       "               [0.736567,\n",
       "                0.734123,\n",
       "                0.733287,\n",
       "                0.732624,\n",
       "                0.732093,\n",
       "                0.731596,\n",
       "                0.731194,\n",
       "                0.730924,\n",
       "                0.730526,\n",
       "                0.730136,\n",
       "                0.729627,\n",
       "                0.729457,\n",
       "                0.729307,\n",
       "                0.729097,\n",
       "                0.72865,\n",
       "                0.728462,\n",
       "                0.728281,\n",
       "                0.728087,\n",
       "                0.727865,\n",
       "                0.72766,\n",
       "                0.727516,\n",
       "                0.727328,\n",
       "                0.727033,\n",
       "                0.72682,\n",
       "                0.726528,\n",
       "                0.726331,\n",
       "                0.726146,\n",
       "                0.725933,\n",
       "                0.725733,\n",
       "                0.725498,\n",
       "                0.725218,\n",
       "                0.725064,\n",
       "                0.724871,\n",
       "                0.724663,\n",
       "                0.724455,\n",
       "                0.724101,\n",
       "                0.723866,\n",
       "                0.723614,\n",
       "                0.723313,\n",
       "                0.723139,\n",
       "                0.722898,\n",
       "                0.722674,\n",
       "                0.72244,\n",
       "                0.722268,\n",
       "                0.722085,\n",
       "                0.721878,\n",
       "                0.721729,\n",
       "                0.721451,\n",
       "                0.721261,\n",
       "                0.721111,\n",
       "                0.720938,\n",
       "                0.720817,\n",
       "                0.72056,\n",
       "                0.72037,\n",
       "                0.720195,\n",
       "                0.719901,\n",
       "                0.719704,\n",
       "                0.719465,\n",
       "                0.719327,\n",
       "                0.719086,\n",
       "                0.71886,\n",
       "                0.718676,\n",
       "                0.718485,\n",
       "                0.718345,\n",
       "                0.718081,\n",
       "                0.717925,\n",
       "                0.717798,\n",
       "                0.717584,\n",
       "                0.717402,\n",
       "                0.717194,\n",
       "                0.716954,\n",
       "                0.716775,\n",
       "                0.716569,\n",
       "                0.71638,\n",
       "                0.716216,\n",
       "                0.716011,\n",
       "                0.715823,\n",
       "                0.715645,\n",
       "                0.715486,\n",
       "                0.715216,\n",
       "                0.71509,\n",
       "                0.714905,\n",
       "                0.714731,\n",
       "                0.714552,\n",
       "                0.714427,\n",
       "                0.714291,\n",
       "                0.714078,\n",
       "                0.71394,\n",
       "                0.71374,\n",
       "                0.713625,\n",
       "                0.713416,\n",
       "                0.71326,\n",
       "                0.713118,\n",
       "                0.71294,\n",
       "                0.712771,\n",
       "                0.712584,\n",
       "                0.712466,\n",
       "                0.712347,\n",
       "                0.712194,\n",
       "                0.712007,\n",
       "                0.711866,\n",
       "                0.711762,\n",
       "                0.711646,\n",
       "                0.711515,\n",
       "                0.711271,\n",
       "                0.71117,\n",
       "                0.711008,\n",
       "                0.710895,\n",
       "                0.710786,\n",
       "                0.710699,\n",
       "                0.710572,\n",
       "                0.710429,\n",
       "                0.710301,\n",
       "                0.710233,\n",
       "                0.710098,\n",
       "                0.709965,\n",
       "                0.709799,\n",
       "                0.709727,\n",
       "                0.709592,\n",
       "                0.709422,\n",
       "                0.709292,\n",
       "                0.709139,\n",
       "                0.708986,\n",
       "                0.708837,\n",
       "                0.708743,\n",
       "                0.70863,\n",
       "                0.708564,\n",
       "                0.708518,\n",
       "                0.708465,\n",
       "                0.708408,\n",
       "                0.708354,\n",
       "                0.708295,\n",
       "                0.708238,\n",
       "                0.708167,\n",
       "                0.708065,\n",
       "                0.708008,\n",
       "                0.70796,\n",
       "                0.707828,\n",
       "                0.707759,\n",
       "                0.707672,\n",
       "                0.707609,\n",
       "                0.707545,\n",
       "                0.707455,\n",
       "                0.707402,\n",
       "                0.707346,\n",
       "                0.707296,\n",
       "                0.707199,\n",
       "                0.707134,\n",
       "                0.707047,\n",
       "                0.706961,\n",
       "                0.706909,\n",
       "                0.706842,\n",
       "                0.706767,\n",
       "                0.706737,\n",
       "                0.706718,\n",
       "                0.706687,\n",
       "                0.706645,\n",
       "                0.70648,\n",
       "                0.706468,\n",
       "                0.706433,\n",
       "                0.706415,\n",
       "                0.706409,\n",
       "                0.706365,\n",
       "                0.706351,\n",
       "                0.706338,\n",
       "                0.706305,\n",
       "                0.706298,\n",
       "                0.706279,\n",
       "                0.706264,\n",
       "                0.706252,\n",
       "                0.706232,\n",
       "                0.706168,\n",
       "                0.706121,\n",
       "                0.706088,\n",
       "                0.70608,\n",
       "                0.706062,\n",
       "                0.706038,\n",
       "                0.70602,\n",
       "                0.705938,\n",
       "                0.705859,\n",
       "                0.705835,\n",
       "                0.705819,\n",
       "                0.705809,\n",
       "                0.705772,\n",
       "                0.705756,\n",
       "                0.705754,\n",
       "                0.705724,\n",
       "                0.705688,\n",
       "                0.705675,\n",
       "                0.705644,\n",
       "                0.705621,\n",
       "                0.705604,\n",
       "                0.705576,\n",
       "                0.705528,\n",
       "                0.705507,\n",
       "                0.705469,\n",
       "                0.705457,\n",
       "                0.705441,\n",
       "                0.705429,\n",
       "                0.705403])]),\n",
       " 'test': OrderedDict([('mlogloss',\n",
       "               [2.273966,\n",
       "                2.250428,\n",
       "                2.230677,\n",
       "                2.213754,\n",
       "                2.199225,\n",
       "                2.186585,\n",
       "                2.175527,\n",
       "                2.165833,\n",
       "                2.157122,\n",
       "                2.149473,\n",
       "                2.142651,\n",
       "                2.136662,\n",
       "                2.131266,\n",
       "                2.126448,\n",
       "                2.122146,\n",
       "                2.118271,\n",
       "                2.114859,\n",
       "                2.111758,\n",
       "                2.108978,\n",
       "                2.106493,\n",
       "                2.104311,\n",
       "                2.102141,\n",
       "                2.100348,\n",
       "                2.098594,\n",
       "                2.096948,\n",
       "                2.095634,\n",
       "                2.094353,\n",
       "                2.093259,\n",
       "                2.092155,\n",
       "                2.091199,\n",
       "                2.090338,\n",
       "                2.089609,\n",
       "                2.088794,\n",
       "                2.088084,\n",
       "                2.087566,\n",
       "                2.086879,\n",
       "                2.086292,\n",
       "                2.085867,\n",
       "                2.085336,\n",
       "                2.08488,\n",
       "                2.084435,\n",
       "                2.084051,\n",
       "                2.083765,\n",
       "                2.083475,\n",
       "                2.083183,\n",
       "                2.083005,\n",
       "                2.08284,\n",
       "                2.082611,\n",
       "                2.082492,\n",
       "                2.082344,\n",
       "                2.082157,\n",
       "                2.08208,\n",
       "                2.082,\n",
       "                2.081881,\n",
       "                2.081804,\n",
       "                2.081594,\n",
       "                2.081518,\n",
       "                2.081397,\n",
       "                2.081355,\n",
       "                2.081302,\n",
       "                2.081173,\n",
       "                2.081138,\n",
       "                2.081072,\n",
       "                2.08103,\n",
       "                2.080996,\n",
       "                2.080967,\n",
       "                2.080953,\n",
       "                2.080883,\n",
       "                2.08084,\n",
       "                2.080801,\n",
       "                2.080752,\n",
       "                2.080732,\n",
       "                2.080695,\n",
       "                2.080673,\n",
       "                2.080658,\n",
       "                2.080602,\n",
       "                2.080593,\n",
       "                2.080565,\n",
       "                2.080539,\n",
       "                2.080512,\n",
       "                2.080488,\n",
       "                2.080473,\n",
       "                2.080469,\n",
       "                2.08046,\n",
       "                2.080437,\n",
       "                2.080427,\n",
       "                2.080432,\n",
       "                2.080418,\n",
       "                2.080394,\n",
       "                2.080377,\n",
       "                2.080375,\n",
       "                2.080362,\n",
       "                2.080354,\n",
       "                2.080343,\n",
       "                2.080349,\n",
       "                2.08034,\n",
       "                2.080347,\n",
       "                2.080342,\n",
       "                2.080329,\n",
       "                2.080311,\n",
       "                2.080294,\n",
       "                2.080276,\n",
       "                2.080289,\n",
       "                2.080271,\n",
       "                2.08027,\n",
       "                2.080249,\n",
       "                2.080216,\n",
       "                2.080196,\n",
       "                2.080184,\n",
       "                2.080182,\n",
       "                2.080157,\n",
       "                2.080133,\n",
       "                2.08011,\n",
       "                2.080096,\n",
       "                2.08008,\n",
       "                2.080082,\n",
       "                2.080074,\n",
       "                2.080047,\n",
       "                2.080029,\n",
       "                2.080013,\n",
       "                2.079996,\n",
       "                2.079986,\n",
       "                2.079977,\n",
       "                2.079978,\n",
       "                2.079966,\n",
       "                2.079957,\n",
       "                2.07994,\n",
       "                2.079918,\n",
       "                2.079911,\n",
       "                2.07991,\n",
       "                2.079897,\n",
       "                2.079887,\n",
       "                2.07987,\n",
       "                2.079848,\n",
       "                2.079819,\n",
       "                2.079782,\n",
       "                2.079779,\n",
       "                2.079745,\n",
       "                2.07973,\n",
       "                2.079714,\n",
       "                2.07969,\n",
       "                2.079686,\n",
       "                2.079694,\n",
       "                2.079683,\n",
       "                2.079683,\n",
       "                2.079665,\n",
       "                2.079645,\n",
       "                2.079633,\n",
       "                2.079602,\n",
       "                2.079573,\n",
       "                2.079575,\n",
       "                2.079566,\n",
       "                2.079545,\n",
       "                2.079539,\n",
       "                2.079537,\n",
       "                2.079527,\n",
       "                2.07952,\n",
       "                2.079513,\n",
       "                2.079507,\n",
       "                2.079505,\n",
       "                2.0795,\n",
       "                2.079493,\n",
       "                2.079496,\n",
       "                2.079484,\n",
       "                2.079475,\n",
       "                2.07947,\n",
       "                2.079468,\n",
       "                2.079465,\n",
       "                2.079451,\n",
       "                2.07945,\n",
       "                2.079444,\n",
       "                2.079444,\n",
       "                2.079428,\n",
       "                2.079413,\n",
       "                2.079404,\n",
       "                2.079399,\n",
       "                2.079379,\n",
       "                2.079372,\n",
       "                2.079349,\n",
       "                2.079342,\n",
       "                2.079335,\n",
       "                2.079337,\n",
       "                2.079336,\n",
       "                2.079337,\n",
       "                2.079331,\n",
       "                2.079327,\n",
       "                2.079313,\n",
       "                2.079311,\n",
       "                2.079301,\n",
       "                2.079287,\n",
       "                2.079275,\n",
       "                2.079274,\n",
       "                2.079258,\n",
       "                2.079248,\n",
       "                2.079233,\n",
       "                2.07923,\n",
       "                2.07923,\n",
       "                2.079229,\n",
       "                2.079225,\n",
       "                2.079212]),\n",
       "              ('auc',\n",
       "               [0.598253,\n",
       "                0.601141,\n",
       "                0.602342,\n",
       "                0.603543,\n",
       "                0.604139,\n",
       "                0.60494,\n",
       "                0.605443,\n",
       "                0.605851,\n",
       "                0.606437,\n",
       "                0.606949,\n",
       "                0.607375,\n",
       "                0.607739,\n",
       "                0.608041,\n",
       "                0.608347,\n",
       "                0.60867,\n",
       "                0.608922,\n",
       "                0.609089,\n",
       "                0.60928,\n",
       "                0.609503,\n",
       "                0.609693,\n",
       "                0.60982,\n",
       "                0.61015,\n",
       "                0.610302,\n",
       "                0.610542,\n",
       "                0.610849,\n",
       "                0.61098,\n",
       "                0.611182,\n",
       "                0.611318,\n",
       "                0.611519,\n",
       "                0.61164,\n",
       "                0.611776,\n",
       "                0.611853,\n",
       "                0.612054,\n",
       "                0.61219,\n",
       "                0.612242,\n",
       "                0.612456,\n",
       "                0.61262,\n",
       "                0.612678,\n",
       "                0.612842,\n",
       "                0.612986,\n",
       "                0.613119,\n",
       "                0.61323,\n",
       "                0.613288,\n",
       "                0.613347,\n",
       "                0.613418,\n",
       "                0.613423,\n",
       "                0.613461,\n",
       "                0.613496,\n",
       "                0.61352,\n",
       "                0.61354,\n",
       "                0.6136,\n",
       "                0.613591,\n",
       "                0.613589,\n",
       "                0.613613,\n",
       "                0.613626,\n",
       "                0.61372,\n",
       "                0.613748,\n",
       "                0.613798,\n",
       "                0.613788,\n",
       "                0.6138,\n",
       "                0.613858,\n",
       "                0.613856,\n",
       "                0.613858,\n",
       "                0.613861,\n",
       "                0.613865,\n",
       "                0.613865,\n",
       "                0.613868,\n",
       "                0.613893,\n",
       "                0.613916,\n",
       "                0.613913,\n",
       "                0.613942,\n",
       "                0.613944,\n",
       "                0.613963,\n",
       "                0.613981,\n",
       "                0.61398,\n",
       "                0.614018,\n",
       "                0.614012,\n",
       "                0.61403,\n",
       "                0.614051,\n",
       "                0.614065,\n",
       "                0.614085,\n",
       "                0.614102,\n",
       "                0.614087,\n",
       "                0.614089,\n",
       "                0.614105,\n",
       "                0.614113,\n",
       "                0.6141,\n",
       "                0.61411,\n",
       "                0.614128,\n",
       "                0.614128,\n",
       "                0.614123,\n",
       "                0.614124,\n",
       "                0.614132,\n",
       "                0.61414,\n",
       "                0.614134,\n",
       "                0.614134,\n",
       "                0.614128,\n",
       "                0.614134,\n",
       "                0.614138,\n",
       "                0.614145,\n",
       "                0.614153,\n",
       "                0.614162,\n",
       "                0.61415,\n",
       "                0.614162,\n",
       "                0.614155,\n",
       "                0.614178,\n",
       "                0.614195,\n",
       "                0.614212,\n",
       "                0.614221,\n",
       "                0.614221,\n",
       "                0.614237,\n",
       "                0.614244,\n",
       "                0.61426,\n",
       "                0.61427,\n",
       "                0.614282,\n",
       "                0.614284,\n",
       "                0.61429,\n",
       "                0.614312,\n",
       "                0.614321,\n",
       "                0.614324,\n",
       "                0.614341,\n",
       "                0.614347,\n",
       "                0.614351,\n",
       "                0.61435,\n",
       "                0.614353,\n",
       "                0.614354,\n",
       "                0.614365,\n",
       "                0.61438,\n",
       "                0.614384,\n",
       "                0.614381,\n",
       "                0.614389,\n",
       "                0.614395,\n",
       "                0.614405,\n",
       "                0.61442,\n",
       "                0.614442,\n",
       "                0.61446,\n",
       "                0.614462,\n",
       "                0.614475,\n",
       "                0.614485,\n",
       "                0.614492,\n",
       "                0.614502,\n",
       "                0.614504,\n",
       "                0.614497,\n",
       "                0.614501,\n",
       "                0.614498,\n",
       "                0.614504,\n",
       "                0.614515,\n",
       "                0.614524,\n",
       "                0.614536,\n",
       "                0.614551,\n",
       "                0.61455,\n",
       "                0.614554,\n",
       "                0.614567,\n",
       "                0.614571,\n",
       "                0.614571,\n",
       "                0.614577,\n",
       "                0.61458,\n",
       "                0.614577,\n",
       "                0.61458,\n",
       "                0.61458,\n",
       "                0.614584,\n",
       "                0.614586,\n",
       "                0.614584,\n",
       "                0.61459,\n",
       "                0.614594,\n",
       "                0.614598,\n",
       "                0.6146,\n",
       "                0.614601,\n",
       "                0.614609,\n",
       "                0.61461,\n",
       "                0.614611,\n",
       "                0.614604,\n",
       "                0.614612,\n",
       "                0.614622,\n",
       "                0.614628,\n",
       "                0.61463,\n",
       "                0.61464,\n",
       "                0.614643,\n",
       "                0.614659,\n",
       "                0.614665,\n",
       "                0.614668,\n",
       "                0.614668,\n",
       "                0.614669,\n",
       "                0.614669,\n",
       "                0.614672,\n",
       "                0.614676,\n",
       "                0.614683,\n",
       "                0.614684,\n",
       "                0.614688,\n",
       "                0.614696,\n",
       "                0.614702,\n",
       "                0.614704,\n",
       "                0.614712,\n",
       "                0.614716,\n",
       "                0.614726,\n",
       "                0.614729,\n",
       "                0.61473,\n",
       "                0.61473,\n",
       "                0.614731,\n",
       "                0.614737]),\n",
       "              ('merror',\n",
       "               [0.73782,\n",
       "                0.736012,\n",
       "                0.734923,\n",
       "                0.734415,\n",
       "                0.734394,\n",
       "                0.733806,\n",
       "                0.733643,\n",
       "                0.733631,\n",
       "                0.73342,\n",
       "                0.732988,\n",
       "                0.732547,\n",
       "                0.732556,\n",
       "                0.732391,\n",
       "                0.732311,\n",
       "                0.732046,\n",
       "                0.73203,\n",
       "                0.731683,\n",
       "                0.731566,\n",
       "                0.731479,\n",
       "                0.731341,\n",
       "                0.73133,\n",
       "                0.731284,\n",
       "                0.731188,\n",
       "                0.731063,\n",
       "                0.730976,\n",
       "                0.730907,\n",
       "                0.730913,\n",
       "                0.730882,\n",
       "                0.730976,\n",
       "                0.730836,\n",
       "                0.730779,\n",
       "                0.730742,\n",
       "                0.730683,\n",
       "                0.730523,\n",
       "                0.730479,\n",
       "                0.730354,\n",
       "                0.730351,\n",
       "                0.730258,\n",
       "                0.730009,\n",
       "                0.729901,\n",
       "                0.729949,\n",
       "                0.729951,\n",
       "                0.729876,\n",
       "                0.729736,\n",
       "                0.729702,\n",
       "                0.72969,\n",
       "                0.729656,\n",
       "                0.729569,\n",
       "                0.729602,\n",
       "                0.729469,\n",
       "                0.7294,\n",
       "                0.729448,\n",
       "                0.729412,\n",
       "                0.729385,\n",
       "                0.729333,\n",
       "                0.729258,\n",
       "                0.729235,\n",
       "                0.729224,\n",
       "                0.729268,\n",
       "                0.729203,\n",
       "                0.729218,\n",
       "                0.72917,\n",
       "                0.729254,\n",
       "                0.729312,\n",
       "                0.729208,\n",
       "                0.729199,\n",
       "                0.729228,\n",
       "                0.729258,\n",
       "                0.72926,\n",
       "                0.72926,\n",
       "                0.729176,\n",
       "                0.729158,\n",
       "                0.729145,\n",
       "                0.729137,\n",
       "                0.729116,\n",
       "                0.729064,\n",
       "                0.729074,\n",
       "                0.728995,\n",
       "                0.728963,\n",
       "                0.728934,\n",
       "                0.728982,\n",
       "                0.728997,\n",
       "                0.729076,\n",
       "                0.729028,\n",
       "                0.729053,\n",
       "                0.729068,\n",
       "                0.729001,\n",
       "                0.729036,\n",
       "                0.728955,\n",
       "                0.72892,\n",
       "                0.728886,\n",
       "                0.72892,\n",
       "                0.728799,\n",
       "                0.728817,\n",
       "                0.728861,\n",
       "                0.728884,\n",
       "                0.728847,\n",
       "                0.728849,\n",
       "                0.728865,\n",
       "                0.728867,\n",
       "                0.728805,\n",
       "                0.728799,\n",
       "                0.728834,\n",
       "                0.72879,\n",
       "                0.728803,\n",
       "                0.728744,\n",
       "                0.728688,\n",
       "                0.728663,\n",
       "                0.728609,\n",
       "                0.72864,\n",
       "                0.728581,\n",
       "                0.728598,\n",
       "                0.728586,\n",
       "                0.72855,\n",
       "                0.728525,\n",
       "                0.728571,\n",
       "                0.728538,\n",
       "                0.728569,\n",
       "                0.728561,\n",
       "                0.728542,\n",
       "                0.728563,\n",
       "                0.728604,\n",
       "                0.728617,\n",
       "                0.728682,\n",
       "                0.728667,\n",
       "                0.728623,\n",
       "                0.728665,\n",
       "                0.728632,\n",
       "                0.728638,\n",
       "                0.728625,\n",
       "                0.728669,\n",
       "                0.728565,\n",
       "                0.728506,\n",
       "                0.728554,\n",
       "                0.728504,\n",
       "                0.728462,\n",
       "                0.728475,\n",
       "                0.72846,\n",
       "                0.72841,\n",
       "                0.728364,\n",
       "                0.728392,\n",
       "                0.728348,\n",
       "                0.728398,\n",
       "                0.728406,\n",
       "                0.7284,\n",
       "                0.728389,\n",
       "                0.728379,\n",
       "                0.728398,\n",
       "                0.728362,\n",
       "                0.728312,\n",
       "                0.728314,\n",
       "                0.728258,\n",
       "                0.72827,\n",
       "                0.72825,\n",
       "                0.728233,\n",
       "                0.728225,\n",
       "                0.728222,\n",
       "                0.728225,\n",
       "                0.728212,\n",
       "                0.728254,\n",
       "                0.728247,\n",
       "                0.728237,\n",
       "                0.72825,\n",
       "                0.728252,\n",
       "                0.728258,\n",
       "                0.728306,\n",
       "                0.728293,\n",
       "                0.728279,\n",
       "                0.728268,\n",
       "                0.728266,\n",
       "                0.728277,\n",
       "                0.728266,\n",
       "                0.728235,\n",
       "                0.72826,\n",
       "                0.728245,\n",
       "                0.728235,\n",
       "                0.72822,\n",
       "                0.728212,\n",
       "                0.728179,\n",
       "                0.728131,\n",
       "                0.728166,\n",
       "                0.728193,\n",
       "                0.728218,\n",
       "                0.728222,\n",
       "                0.728206,\n",
       "                0.728197,\n",
       "                0.728195,\n",
       "                0.728195,\n",
       "                0.728195,\n",
       "                0.728183,\n",
       "                0.728183,\n",
       "                0.728197,\n",
       "                0.728202,\n",
       "                0.728214,\n",
       "                0.728229,\n",
       "                0.728227,\n",
       "                0.728225,\n",
       "                0.728239,\n",
       "                0.728229,\n",
       "                0.728218])])}"
      ]
     },
     "execution_count": 46,
     "metadata": {},
     "output_type": "execute_result"
    }
   ],
   "source": [
    "eval_result"
   ]
  },
  {
   "cell_type": "code",
   "execution_count": 112,
   "metadata": {},
   "outputs": [
    {
     "name": "stdout",
     "output_type": "stream",
     "text": [
      "Test error using softmax = 0.0\n"
     ]
    }
   ],
   "source": [
    "# get prediction\n",
    "pred = wl_bst_sm.predict(xg_test)\n",
    "# pred = pred.astype(np.uint8)\n",
    "error_rate = np.sum(pred != y_test) / y_test.shape[0]\n",
    "print('Test error using softmax = {}'.format(error_rate))"
   ]
  },
  {
   "cell_type": "code",
   "execution_count": 113,
   "metadata": {},
   "outputs": [
    {
     "name": "stdout",
     "output_type": "stream",
     "text": [
      "[21:05:31] WARNING: ../src/metric/auc.cc:307: Dataset contains only positive or negative samples.\n"
     ]
    },
    {
     "data": {
      "text/plain": [
       "'[0]\\teval-mlogloss:1.518223\\teval-auc:nan\\teval-merror:0.000000'"
      ]
     },
     "execution_count": 113,
     "metadata": {},
     "output_type": "execute_result"
    }
   ],
   "source": [
    "eval_s = wl_bst_sm.eval(xg_test)\n",
    "# eval_dict = eval_str_2_dict(eval_s)\n",
    "eval_s"
   ]
  },
  {
   "cell_type": "code",
   "execution_count": 114,
   "metadata": {},
   "outputs": [
    {
     "data": {
      "text/plain": [
       "(array([0. , 0.5, 0. , 0. , 0. , 0. , 0. , 0. , 0. , 0. ]), 0.05)"
      ]
     },
     "execution_count": 114,
     "metadata": {},
     "output_type": "execute_result"
    }
   ],
   "source": [
    "weights = np.arange(0, 1, 0.1)\n",
    "aucs = auc(y_test.astype(np.uint8), pred.astype(np.uint8), np.arange(param['num_class']))\n",
    "# aucs[aucs == 0.5] = 0\n",
    "w_auc = (aucs * weights).sum()\n",
    "aucs, w_auc"
   ]
  },
  {
   "cell_type": "code",
   "execution_count": 115,
   "metadata": {},
   "outputs": [],
   "source": [
    "report = metrics.classification_report(list(y_test), list(pred))"
   ]
  },
  {
   "cell_type": "code",
   "execution_count": 116,
   "metadata": {},
   "outputs": [
    {
     "name": "stdout",
     "output_type": "stream",
     "text": [
      "              precision    recall  f1-score   support\n",
      "\n",
      "           1       1.00      1.00      1.00         1\n",
      "\n",
      "    accuracy                           1.00         1\n",
      "   macro avg       1.00      1.00      1.00         1\n",
      "weighted avg       1.00      1.00      1.00         1\n",
      "\n"
     ]
    }
   ],
   "source": [
    "print(report)"
   ]
  },
  {
   "cell_type": "markdown",
   "metadata": {},
   "source": [
    "### 调参"
   ]
  },
  {
   "cell_type": "code",
   "execution_count": 15,
   "metadata": {},
   "outputs": [],
   "source": [
    "from xgboost import XGBClassifier\n",
    "from sklearn import svm, datasets\n",
    "from sklearn.model_selection import GridSearchCV\n",
    "from sklearn.model_selection import ParameterGrid\n",
    "from collections.abc import Iterable\n",
    "from sklearn.model_selection import StratifiedKFold"
   ]
  },
  {
   "cell_type": "code",
   "execution_count": 16,
   "metadata": {
    "tags": []
   },
   "outputs": [],
   "source": [
    "base_param = {  # 基本参数，不需要调参\n",
    "    'objective': 'multi:softmax',\n",
    "    'eta': 0.1,\n",
    "    'nthread': 8,\n",
    "    'num_class': 10,\n",
    "    'gpu_id': 0,\n",
    "    'tree_method': 'gpu_hist',\n",
    "    'eval_metric': ['mlogloss', 'auc', 'merror']\n",
    "} \n",
    "# 需要调参的参数\n",
    "ps1 = {  \n",
    "    'max_depth': list(range(5, 14, 2)),\n",
    "    'min_child_weight': list(range(1, 10, 2)),\n",
    "}\n",
    "\n",
    "ps2 = {\n",
    "    'gamma': [0.1, 0.2, 0.3, 0.4, 0.5, 0.6]\n",
    "}\n",
    "\n",
    "ps3 = {\n",
    "    'subsample':  [i/10.0 for i in range(6,11,1)], \n",
    "    'colsample_bytree':  [i/10.0 for i in range(6,11,1)] \n",
    "}\n",
    "\n",
    "ps4 = {'reg_alpha': [0, 0.1, 0.2, 0.5, 1, 1.5, 2, 4]}"
   ]
  },
  {
   "cell_type": "code",
   "execution_count": 529,
   "metadata": {},
   "outputs": [
    {
     "name": "stdout",
     "output_type": "stream",
     "text": [
      "Data preparing finished ...\t\t(5.092s)\n"
     ]
    }
   ],
   "source": [
    "t0 = time()\n",
    "xg_train = xgb.DMatrix(X_train.values, label=y_train.values, enable_categorical=True)\n",
    "xg_test = xgb.DMatrix(X_test.values, label=y_test.values, enable_categorical=True)\n",
    "print(f\"Data preparing finished ...\\t\\t({time()-t0:.3f}s)\")"
   ]
  },
  {
   "cell_type": "code",
   "execution_count": 70,
   "metadata": {},
   "outputs": [],
   "source": [
    "def myproduct(*iterables):\n",
    "    n = len(iterables)\n",
    "#     print(iterables)\n",
    "    if n == 0:\n",
    "        return None \n",
    "    \n",
    "    ret = []\n",
    "    ret.extend([[e] for e in iterables[0].copy()])\n",
    "    if n == 1:\n",
    "        return ret\n",
    "\n",
    "    # 将需要调参的参数进行组合，即笛卡尔乘积。类似于sklearn中的 ParameterGrid\n",
    "    for k in range(1, n):\n",
    "        v = iterables[k].copy()\n",
    "        l = len(ret)\n",
    "        ret = [ret[i%l].copy() for i in range(len(v) * len(ret))]\n",
    "        for i, e in enumerate(ret):\n",
    "            e.append(v[i // l])\n",
    "    return ret\n",
    "\n",
    "def compose_param_grid(grid, base):\n",
    "    items = list(grid.items())\n",
    "    iterables = [item[1] for item in items]\n",
    "    keys = [item[0] for item in items]\n",
    "\n",
    "    ret = myproduct(*iterables)\n",
    "    com_ps = [dict(zip(keys, e)) for e in ret]\n",
    "\n",
    "\n",
    "    all_params = [base.copy() for _ in range(len(com_ps))] \n",
    "    for i in range(len(com_ps)):\n",
    "        all_params[i].update(com_ps[i])\n",
    "        \n",
    "    return all_params"
   ]
  },
  {
   "cell_type": "code",
   "execution_count": 26,
   "metadata": {
    "collapsed": true,
    "jupyter": {
     "outputs_hidden": true
    },
    "tags": []
   },
   "outputs": [
    {
     "name": "stdout",
     "output_type": "stream",
     "text": [
      "开始搜索：colsample_bytree=[0.6, 0.7, 0.8, 0.9, 1.0], subsample=[0.6, 0.7, 0.8, 0.9, 1.0]\n",
      "待搜索的参数组合数量：25\n",
      "1 / 25: 200-rounds Training finished param={'objective': 'multi:softmax', 'eta': 0.1, 'nthread': 8, 'num_class': 10, 'gpu_id': 0, 'tree_method': 'gpu_hist', 'eval_metric': ['mlogloss', 'auc', 'merror'], 'max_depth': 9, 'min_child_weight': 9, 'gamma': 0.2, 'subsample': 0.6, 'colsample_bytree': 0.6} ...\t\t(820.946s)\n",
      "2 / 25: 200-rounds Training finished param={'objective': 'multi:softmax', 'eta': 0.1, 'nthread': 8, 'num_class': 10, 'gpu_id': 0, 'tree_method': 'gpu_hist', 'eval_metric': ['mlogloss', 'auc', 'merror'], 'max_depth': 9, 'min_child_weight': 9, 'gamma': 0.2, 'subsample': 0.7, 'colsample_bytree': 0.6} ...\t\t(816.416s)\n",
      "3 / 25: 200-rounds Training finished param={'objective': 'multi:softmax', 'eta': 0.1, 'nthread': 8, 'num_class': 10, 'gpu_id': 0, 'tree_method': 'gpu_hist', 'eval_metric': ['mlogloss', 'auc', 'merror'], 'max_depth': 9, 'min_child_weight': 9, 'gamma': 0.2, 'subsample': 0.8, 'colsample_bytree': 0.6} ...\t\t(828.957s)\n",
      "4 / 25: 200-rounds Training finished param={'objective': 'multi:softmax', 'eta': 0.1, 'nthread': 8, 'num_class': 10, 'gpu_id': 0, 'tree_method': 'gpu_hist', 'eval_metric': ['mlogloss', 'auc', 'merror'], 'max_depth': 9, 'min_child_weight': 9, 'gamma': 0.2, 'subsample': 0.9, 'colsample_bytree': 0.6} ...\t\t(838.505s)\n",
      "5 / 25: 200-rounds Training finished param={'objective': 'multi:softmax', 'eta': 0.1, 'nthread': 8, 'num_class': 10, 'gpu_id': 0, 'tree_method': 'gpu_hist', 'eval_metric': ['mlogloss', 'auc', 'merror'], 'max_depth': 9, 'min_child_weight': 9, 'gamma': 0.2, 'subsample': 1.0, 'colsample_bytree': 0.6} ...\t\t(823.276s)\n",
      "6 / 25: 200-rounds Training finished param={'objective': 'multi:softmax', 'eta': 0.1, 'nthread': 8, 'num_class': 10, 'gpu_id': 0, 'tree_method': 'gpu_hist', 'eval_metric': ['mlogloss', 'auc', 'merror'], 'max_depth': 9, 'min_child_weight': 9, 'gamma': 0.2, 'subsample': 0.6, 'colsample_bytree': 0.7} ...\t\t(828.692s)\n",
      "7 / 25: 200-rounds Training finished param={'objective': 'multi:softmax', 'eta': 0.1, 'nthread': 8, 'num_class': 10, 'gpu_id': 0, 'tree_method': 'gpu_hist', 'eval_metric': ['mlogloss', 'auc', 'merror'], 'max_depth': 9, 'min_child_weight': 9, 'gamma': 0.2, 'subsample': 0.7, 'colsample_bytree': 0.7} ...\t\t(848.865s)\n",
      "8 / 25: 200-rounds Training finished param={'objective': 'multi:softmax', 'eta': 0.1, 'nthread': 8, 'num_class': 10, 'gpu_id': 0, 'tree_method': 'gpu_hist', 'eval_metric': ['mlogloss', 'auc', 'merror'], 'max_depth': 9, 'min_child_weight': 9, 'gamma': 0.2, 'subsample': 0.8, 'colsample_bytree': 0.7} ...\t\t(854.009s)\n",
      "9 / 25: 200-rounds Training finished param={'objective': 'multi:softmax', 'eta': 0.1, 'nthread': 8, 'num_class': 10, 'gpu_id': 0, 'tree_method': 'gpu_hist', 'eval_metric': ['mlogloss', 'auc', 'merror'], 'max_depth': 9, 'min_child_weight': 9, 'gamma': 0.2, 'subsample': 0.9, 'colsample_bytree': 0.7} ...\t\t(863.061s)\n",
      "10 / 25: 200-rounds Training finished param={'objective': 'multi:softmax', 'eta': 0.1, 'nthread': 8, 'num_class': 10, 'gpu_id': 0, 'tree_method': 'gpu_hist', 'eval_metric': ['mlogloss', 'auc', 'merror'], 'max_depth': 9, 'min_child_weight': 9, 'gamma': 0.2, 'subsample': 1.0, 'colsample_bytree': 0.7} ...\t\t(854.728s)\n",
      "11 / 25: 200-rounds Training finished param={'objective': 'multi:softmax', 'eta': 0.1, 'nthread': 8, 'num_class': 10, 'gpu_id': 0, 'tree_method': 'gpu_hist', 'eval_metric': ['mlogloss', 'auc', 'merror'], 'max_depth': 9, 'min_child_weight': 9, 'gamma': 0.2, 'subsample': 0.6, 'colsample_bytree': 0.8} ...\t\t(833.519s)\n",
      "12 / 25: 200-rounds Training finished param={'objective': 'multi:softmax', 'eta': 0.1, 'nthread': 8, 'num_class': 10, 'gpu_id': 0, 'tree_method': 'gpu_hist', 'eval_metric': ['mlogloss', 'auc', 'merror'], 'max_depth': 9, 'min_child_weight': 9, 'gamma': 0.2, 'subsample': 0.7, 'colsample_bytree': 0.8} ...\t\t(836.241s)\n",
      "13 / 25: 200-rounds Training finished param={'objective': 'multi:softmax', 'eta': 0.1, 'nthread': 8, 'num_class': 10, 'gpu_id': 0, 'tree_method': 'gpu_hist', 'eval_metric': ['mlogloss', 'auc', 'merror'], 'max_depth': 9, 'min_child_weight': 9, 'gamma': 0.2, 'subsample': 0.8, 'colsample_bytree': 0.8} ...\t\t(852.569s)\n",
      "14 / 25: 200-rounds Training finished param={'objective': 'multi:softmax', 'eta': 0.1, 'nthread': 8, 'num_class': 10, 'gpu_id': 0, 'tree_method': 'gpu_hist', 'eval_metric': ['mlogloss', 'auc', 'merror'], 'max_depth': 9, 'min_child_weight': 9, 'gamma': 0.2, 'subsample': 0.9, 'colsample_bytree': 0.8} ...\t\t(867.649s)\n",
      "15 / 25: 200-rounds Training finished param={'objective': 'multi:softmax', 'eta': 0.1, 'nthread': 8, 'num_class': 10, 'gpu_id': 0, 'tree_method': 'gpu_hist', 'eval_metric': ['mlogloss', 'auc', 'merror'], 'max_depth': 9, 'min_child_weight': 9, 'gamma': 0.2, 'subsample': 1.0, 'colsample_bytree': 0.8} ...\t\t(837.901s)\n",
      "16 / 25: 200-rounds Training finished param={'objective': 'multi:softmax', 'eta': 0.1, 'nthread': 8, 'num_class': 10, 'gpu_id': 0, 'tree_method': 'gpu_hist', 'eval_metric': ['mlogloss', 'auc', 'merror'], 'max_depth': 9, 'min_child_weight': 9, 'gamma': 0.2, 'subsample': 0.6, 'colsample_bytree': 0.9} ...\t\t(827.339s)\n",
      "17 / 25: 200-rounds Training finished param={'objective': 'multi:softmax', 'eta': 0.1, 'nthread': 8, 'num_class': 10, 'gpu_id': 0, 'tree_method': 'gpu_hist', 'eval_metric': ['mlogloss', 'auc', 'merror'], 'max_depth': 9, 'min_child_weight': 9, 'gamma': 0.2, 'subsample': 0.7, 'colsample_bytree': 0.9} ...\t\t(829.429s)\n",
      "18 / 25: 200-rounds Training finished param={'objective': 'multi:softmax', 'eta': 0.1, 'nthread': 8, 'num_class': 10, 'gpu_id': 0, 'tree_method': 'gpu_hist', 'eval_metric': ['mlogloss', 'auc', 'merror'], 'max_depth': 9, 'min_child_weight': 9, 'gamma': 0.2, 'subsample': 0.8, 'colsample_bytree': 0.9} ...\t\t(854.584s)\n",
      "19 / 25: 200-rounds Training finished param={'objective': 'multi:softmax', 'eta': 0.1, 'nthread': 8, 'num_class': 10, 'gpu_id': 0, 'tree_method': 'gpu_hist', 'eval_metric': ['mlogloss', 'auc', 'merror'], 'max_depth': 9, 'min_child_weight': 9, 'gamma': 0.2, 'subsample': 0.9, 'colsample_bytree': 0.9} ...\t\t(865.975s)\n",
      "20 / 25: 200-rounds Training finished param={'objective': 'multi:softmax', 'eta': 0.1, 'nthread': 8, 'num_class': 10, 'gpu_id': 0, 'tree_method': 'gpu_hist', 'eval_metric': ['mlogloss', 'auc', 'merror'], 'max_depth': 9, 'min_child_weight': 9, 'gamma': 0.2, 'subsample': 1.0, 'colsample_bytree': 0.9} ...\t\t(830.648s)\n",
      "21 / 25: 200-rounds Training finished param={'objective': 'multi:softmax', 'eta': 0.1, 'nthread': 8, 'num_class': 10, 'gpu_id': 0, 'tree_method': 'gpu_hist', 'eval_metric': ['mlogloss', 'auc', 'merror'], 'max_depth': 9, 'min_child_weight': 9, 'gamma': 0.2, 'subsample': 0.6, 'colsample_bytree': 1.0} ...\t\t(846.784s)\n",
      "22 / 25: 200-rounds Training finished param={'objective': 'multi:softmax', 'eta': 0.1, 'nthread': 8, 'num_class': 10, 'gpu_id': 0, 'tree_method': 'gpu_hist', 'eval_metric': ['mlogloss', 'auc', 'merror'], 'max_depth': 9, 'min_child_weight': 9, 'gamma': 0.2, 'subsample': 0.7, 'colsample_bytree': 1.0} ...\t\t(852.846s)\n",
      "23 / 25: 200-rounds Training finished param={'objective': 'multi:softmax', 'eta': 0.1, 'nthread': 8, 'num_class': 10, 'gpu_id': 0, 'tree_method': 'gpu_hist', 'eval_metric': ['mlogloss', 'auc', 'merror'], 'max_depth': 9, 'min_child_weight': 9, 'gamma': 0.2, 'subsample': 0.8, 'colsample_bytree': 1.0} ...\t\t(850.433s)\n",
      "24 / 25: 200-rounds Training finished param={'objective': 'multi:softmax', 'eta': 0.1, 'nthread': 8, 'num_class': 10, 'gpu_id': 0, 'tree_method': 'gpu_hist', 'eval_metric': ['mlogloss', 'auc', 'merror'], 'max_depth': 9, 'min_child_weight': 9, 'gamma': 0.2, 'subsample': 0.9, 'colsample_bytree': 1.0} ...\t\t(865.453s)\n",
      "25 / 25: 200-rounds Training finished param={'objective': 'multi:softmax', 'eta': 0.1, 'nthread': 8, 'num_class': 10, 'gpu_id': 0, 'tree_method': 'gpu_hist', 'eval_metric': ['mlogloss', 'auc', 'merror'], 'max_depth': 9, 'min_child_weight': 9, 'gamma': 0.2, 'subsample': 1.0, 'colsample_bytree': 1.0} ...\t\t(833.121s)\n",
      "colsample_bytree=0.6, eta=0.1, eval_metric=['mlogloss', 'auc', 'merror'], gamma=0.2, gpu_id=0, max_depth=9, min_child_weight=9, nthread=8, num_class=10, objective=multi:softmax, subsample=0.9, tree_method=gpu_hist\n",
      "colsample_bytree=1.0, eta=0.1, eval_metric=['mlogloss', 'auc', 'merror'], gamma=0.2, gpu_id=0, max_depth=9, min_child_weight=9, nthread=8, num_class=10, objective=multi:softmax, subsample=0.6, tree_method=gpu_hist\n",
      "colsample_bytree=1.0, eta=0.1, eval_metric=['mlogloss', 'auc', 'merror'], gamma=0.2, gpu_id=0, max_depth=9, min_child_weight=9, nthread=8, num_class=10, objective=multi:softmax, subsample=0.9, tree_method=gpu_hist\n",
      "开始搜索：reg_alpha=[0, 0.1, 0.2, 0.5, 1, 1.5, 2, 4]\n",
      "待搜索的参数组合数量：8\n",
      "1 / 8: 200-rounds Training finished param={'objective': 'multi:softmax', 'eta': 0.1, 'nthread': 8, 'num_class': 10, 'gpu_id': 0, 'tree_method': 'gpu_hist', 'eval_metric': ['mlogloss', 'auc', 'merror'], 'max_depth': 9, 'min_child_weight': 9, 'gamma': 0.2, 'subsample': 0.9, 'colsample_bytree': 0.6, 'reg_alpha': 0} ...\t\t(864.738s)\n",
      "2 / 8: 200-rounds Training finished param={'objective': 'multi:softmax', 'eta': 0.1, 'nthread': 8, 'num_class': 10, 'gpu_id': 0, 'tree_method': 'gpu_hist', 'eval_metric': ['mlogloss', 'auc', 'merror'], 'max_depth': 9, 'min_child_weight': 9, 'gamma': 0.2, 'subsample': 0.9, 'colsample_bytree': 0.6, 'reg_alpha': 0.1} ...\t\t(871.016s)\n",
      "3 / 8: 200-rounds Training finished param={'objective': 'multi:softmax', 'eta': 0.1, 'nthread': 8, 'num_class': 10, 'gpu_id': 0, 'tree_method': 'gpu_hist', 'eval_metric': ['mlogloss', 'auc', 'merror'], 'max_depth': 9, 'min_child_weight': 9, 'gamma': 0.2, 'subsample': 0.9, 'colsample_bytree': 0.6, 'reg_alpha': 0.2} ...\t\t(854.900s)\n",
      "4 / 8: 200-rounds Training finished param={'objective': 'multi:softmax', 'eta': 0.1, 'nthread': 8, 'num_class': 10, 'gpu_id': 0, 'tree_method': 'gpu_hist', 'eval_metric': ['mlogloss', 'auc', 'merror'], 'max_depth': 9, 'min_child_weight': 9, 'gamma': 0.2, 'subsample': 0.9, 'colsample_bytree': 0.6, 'reg_alpha': 0.5} ...\t\t(846.531s)\n",
      "5 / 8: 200-rounds Training finished param={'objective': 'multi:softmax', 'eta': 0.1, 'nthread': 8, 'num_class': 10, 'gpu_id': 0, 'tree_method': 'gpu_hist', 'eval_metric': ['mlogloss', 'auc', 'merror'], 'max_depth': 9, 'min_child_weight': 9, 'gamma': 0.2, 'subsample': 0.9, 'colsample_bytree': 0.6, 'reg_alpha': 1} ...\t\t(857.497s)\n",
      "6 / 8: 200-rounds Training finished param={'objective': 'multi:softmax', 'eta': 0.1, 'nthread': 8, 'num_class': 10, 'gpu_id': 0, 'tree_method': 'gpu_hist', 'eval_metric': ['mlogloss', 'auc', 'merror'], 'max_depth': 9, 'min_child_weight': 9, 'gamma': 0.2, 'subsample': 0.9, 'colsample_bytree': 0.6, 'reg_alpha': 1.5} ...\t\t(874.460s)\n",
      "7 / 8: 200-rounds Training finished param={'objective': 'multi:softmax', 'eta': 0.1, 'nthread': 8, 'num_class': 10, 'gpu_id': 0, 'tree_method': 'gpu_hist', 'eval_metric': ['mlogloss', 'auc', 'merror'], 'max_depth': 9, 'min_child_weight': 9, 'gamma': 0.2, 'subsample': 0.9, 'colsample_bytree': 0.6, 'reg_alpha': 2} ...\t\t(875.624s)\n",
      "8 / 8: 200-rounds Training finished param={'objective': 'multi:softmax', 'eta': 0.1, 'nthread': 8, 'num_class': 10, 'gpu_id': 0, 'tree_method': 'gpu_hist', 'eval_metric': ['mlogloss', 'auc', 'merror'], 'max_depth': 9, 'min_child_weight': 9, 'gamma': 0.2, 'subsample': 0.9, 'colsample_bytree': 0.6, 'reg_alpha': 4} ...\t\t(902.339s)\n",
      "colsample_bytree=0.6, eta=0.1, eval_metric=['mlogloss', 'auc', 'merror'], gamma=0.2, gpu_id=0, max_depth=9, min_child_weight=9, nthread=8, num_class=10, objective=multi:softmax, reg_alpha=0, subsample=0.9, tree_method=gpu_hist\n",
      "colsample_bytree=0.6, eta=0.1, eval_metric=['mlogloss', 'auc', 'merror'], gamma=0.2, gpu_id=0, max_depth=9, min_child_weight=9, nthread=8, num_class=10, objective=multi:softmax, reg_alpha=1, subsample=0.9, tree_method=gpu_hist\n",
      "colsample_bytree=0.6, eta=0.1, eval_metric=['mlogloss', 'auc', 'merror'], gamma=0.2, gpu_id=0, max_depth=9, min_child_weight=9, nthread=8, num_class=10, objective=multi:softmax, reg_alpha=4, subsample=0.9, tree_method=gpu_hist\n",
      "找到的最棒的参数是：\n",
      "colsample_bytree=0.6, eta=0.1, eval_metric=['mlogloss', 'auc', 'merror'], gamma=0.2, gpu_id=0, max_depth=9, min_child_weight=9, nthread=8, num_class=10, objective=multi:softmax, reg_alpha=0, subsample=0.9, tree_method=gpu_hist\n"
     ]
    }
   ],
   "source": [
    "base = base_param.copy()\n",
    "base.update({'max_depth': 9, 'min_child_weight': 9})\n",
    "base.update({'gamma': .2})\n",
    "grids = [ps3, ps4]\n",
    "\n",
    "rets = []\n",
    "for grid in grids:\n",
    "    params = compose_param_grid(grid, base)\n",
    "    print(f\"开始搜索：{dict_2_str(grid)}\\n待搜索的参数组合数量：{len(params)}\")\n",
    "    ret = gridsearch_cv_xgb(data.values, watch_label_res.values, params, n_round=200, verbose_eval=False, n_class=10)\n",
    "    arr = np.array([[-e['eval-merror'] for e in ret], \n",
    "                    [-e['eval-mlogloss'] for e in ret],\n",
    "                    [e['eval-auc'] for e in ret], \n",
    "                    [e['w_auc'] for e in ret]], dtype=np.float32)\n",
    "    opt_idxs = list(set(arr.argmax(axis=1)))\n",
    "    for i in opt_idxs:\n",
    "        print(dict_2_str(ret[i]['param']))\n",
    "    opt_idx = opt_idxs[0]\n",
    "    opt_param = ret[opt_idx]['param']\n",
    "    base.update(opt_param)\n",
    "    rets.append(ret)\n",
    "    \n",
    "    ks = list(grid.keys())\n",
    "    ks = '-'.join(ks)\n",
    "    with open(f\"./logs/{ks}-watch_label-{int(time())}.pkl\", \"wb\") as f:\n",
    "        pickle.dump(ret, f)\n",
    "    with open(f\"./logs/{ks}-watch_label-{int(time())}.md\", \"w\") as f:\n",
    "        lines = []\n",
    "        for e in ret:\n",
    "            line = metric_2_str(e)\n",
    "            lines.append(line)\n",
    "            lines.append('\\n')\n",
    "        f.write(\"\\n\".join(lines))\n",
    "\n",
    "print(f\"找到的最棒的参数是：\\n{dict_2_str(base)}\")"
   ]
  },
  {
   "cell_type": "code",
   "execution_count": 43,
   "metadata": {},
   "outputs": [
    {
     "data": {
      "text/plain": [
       "{'objective': 'multi:softmax',\n",
       " 'eta': 0.1,\n",
       " 'nthread': 8,\n",
       " 'num_class': 10,\n",
       " 'gpu_id': 0,\n",
       " 'tree_method': 'gpu_hist',\n",
       " 'eval_metric': ['mlogloss', 'auc', 'merror'],\n",
       " 'max_depth': 9,\n",
       " 'min_child_weight': 9,\n",
       " 'gamma': 0.2,\n",
       " 'subsample': 0.9,\n",
       " 'colsample_bytree': 0.6,\n",
       " 'reg_alpha': 0}"
      ]
     },
     "execution_count": 43,
     "metadata": {},
     "output_type": "execute_result"
    }
   ],
   "source": [
    "base"
   ]
  },
  {
   "cell_type": "code",
   "execution_count": null,
   "metadata": {},
   "outputs": [],
   "source": [
    "gridsearch_results = gridsearch_xgb(all_params, xg_train, xg_test)"
   ]
  },
  {
   "cell_type": "code",
   "execution_count": null,
   "metadata": {},
   "outputs": [],
   "source": [
    "gs_cv_results_sh = gridsearch_cv_xgb(data.values, watch_label_res.values, all_params, n_round=200, verbose_eval=False, n_class=10)"
   ]
  },
  {
   "cell_type": "code",
   "execution_count": 584,
   "metadata": {},
   "outputs": [
    {
     "ename": "ValueError",
     "evalue": "最小误差与最大AUC对应的模型不一致 : [93 19]",
     "output_type": "error",
     "traceback": [
      "\u001b[0;31m---------------------------------------------------------------------------\u001b[0m",
      "\u001b[0;31mValueError\u001b[0m                                Traceback (most recent call last)",
      "\u001b[0;32m<ipython-input-584-646c9ffaa26f>\u001b[0m in \u001b[0;36m<module>\u001b[0;34m\u001b[0m\n\u001b[1;32m      2\u001b[0m \u001b[0mopt_idxs\u001b[0m \u001b[0;34m=\u001b[0m \u001b[0marr\u001b[0m\u001b[0;34m.\u001b[0m\u001b[0margmax\u001b[0m\u001b[0;34m(\u001b[0m\u001b[0maxis\u001b[0m\u001b[0;34m=\u001b[0m\u001b[0;36m1\u001b[0m\u001b[0;34m)\u001b[0m\u001b[0;34m\u001b[0m\u001b[0;34m\u001b[0m\u001b[0m\n\u001b[1;32m      3\u001b[0m \u001b[0;32mif\u001b[0m \u001b[0mopt_idxs\u001b[0m\u001b[0;34m[\u001b[0m\u001b[0;36m0\u001b[0m\u001b[0;34m]\u001b[0m \u001b[0;34m!=\u001b[0m \u001b[0mopt_idxs\u001b[0m\u001b[0;34m[\u001b[0m\u001b[0;36m1\u001b[0m\u001b[0;34m]\u001b[0m\u001b[0;34m:\u001b[0m\u001b[0;34m\u001b[0m\u001b[0;34m\u001b[0m\u001b[0m\n\u001b[0;32m----> 4\u001b[0;31m     \u001b[0;32mraise\u001b[0m \u001b[0mValueError\u001b[0m\u001b[0;34m(\u001b[0m\u001b[0;34mf\"最小误差与最大AUC对应的模型不一致 : {opt_idxs}\"\u001b[0m\u001b[0;34m)\u001b[0m\u001b[0;34m\u001b[0m\u001b[0;34m\u001b[0m\u001b[0m\n\u001b[0m\u001b[1;32m      5\u001b[0m \u001b[0;32melse\u001b[0m\u001b[0;34m:\u001b[0m\u001b[0;34m\u001b[0m\u001b[0;34m\u001b[0m\u001b[0m\n\u001b[1;32m      6\u001b[0m     \u001b[0mopt_idx\u001b[0m \u001b[0;34m=\u001b[0m \u001b[0mopt_idxs\u001b[0m\u001b[0;34m[\u001b[0m\u001b[0;36m0\u001b[0m\u001b[0;34m]\u001b[0m\u001b[0;34m\u001b[0m\u001b[0;34m\u001b[0m\u001b[0m\n",
      "\u001b[0;31mValueError\u001b[0m: 最小误差与最大AUC对应的模型不一致 : [93 19]"
     ]
    }
   ],
   "source": [
    "arr = np.array([[-e['test_error'] for e in gridsearch_results], [e['w_auc'] for e in gridsearch_results]], dtype=np.float32)\n",
    "opt_idxs = arr.argmax(axis=1)\n",
    "if opt_idxs[0] != opt_idxs[1]:\n",
    "     warnings.warn(f\"最小误差与最大AUC对应的模型不一致 : {opt_idxs}。选择误差最小的模型 : {opt_idxs[0]}\")\n",
    "\n",
    "opt_idx = opt_idxs[0]"
   ]
  },
  {
   "cell_type": "code",
   "execution_count": 583,
   "metadata": {
    "collapsed": true,
    "jupyter": {
     "outputs_hidden": true
    },
    "tags": []
   },
   "outputs": [
    {
     "data": {
      "text/plain": [
       "({'test_error': 0.7289070620796754,\n",
       "  'aucs': array([0.57555597, 0.58567653, 0.50347593, 0.50017473, 0.50017414,\n",
       "         0.5000983 , 0.50292636, 0.50040085, 0.50878295, 0.60767447]),\n",
       "  'w_auc': 2.365403849959146,\n",
       "  'report': '              precision    recall  f1-score   support\\n\\n           0       0.33      0.19      0.24     43749\\n           1       0.29      0.68      0.41    111616\\n           2       0.23      0.01      0.03     62829\\n           3       0.13      0.00      0.00     43872\\n           4       0.15      0.00      0.00     34228\\n           5       0.18      0.00      0.00     28926\\n           6       0.33      0.01      0.01     25061\\n           7       0.16      0.00      0.00     23400\\n           8       0.31      0.02      0.04     27750\\n           9       0.24      0.56      0.34     77663\\n\\n    accuracy                           0.27    479094\\n   macro avg       0.23      0.15      0.11    479094\\nweighted avg       0.24      0.27      0.18    479094\\n',\n",
       "  'model': <xgboost.core.Booster at 0x7f35ba8b00d0>},\n",
       " {'test_error': 0.73068750600091,\n",
       "  'aucs': array([0.57882633, 0.58668642, 0.50378179, 0.50067885, 0.50046282,\n",
       "         0.50010955, 0.50312644, 0.50043677, 0.50916784, 0.60848382]),\n",
       "  'w_auc': 2.367019878746503,\n",
       "  'report': '              precision    recall  f1-score   support\\n\\n           0       0.32      0.20      0.25     43749\\n           1       0.29      0.66      0.40    111616\\n           2       0.18      0.03      0.04     62829\\n           3       0.12      0.01      0.01     43872\\n           4       0.12      0.00      0.00     34228\\n           5       0.08      0.00      0.00     28926\\n           6       0.25      0.01      0.01     25061\\n           7       0.11      0.00      0.00     23400\\n           8       0.27      0.02      0.04     27750\\n           9       0.24      0.57      0.34     77663\\n\\n    accuracy                           0.27    479094\\n   macro avg       0.20      0.15      0.11    479094\\nweighted avg       0.22      0.27      0.18    479094\\n',\n",
       "  'model': <xgboost.core.Booster at 0x7f3584f94e50>})"
      ]
     },
     "execution_count": 583,
     "metadata": {},
     "output_type": "execute_result"
    }
   ],
   "source": [
    "gridsearch_results[93]"
   ]
  },
  {
   "cell_type": "code",
   "execution_count": 588,
   "metadata": {},
   "outputs": [
    {
     "name": "stdout",
     "output_type": "stream",
     "text": [
      "              precision    recall  f1-score   support\n",
      "\n",
      "           0       0.33      0.19      0.24     43749\n",
      "           1       0.29      0.68      0.41    111616\n",
      "           2       0.23      0.01      0.03     62829\n",
      "           3       0.13      0.00      0.00     43872\n",
      "           4       0.15      0.00      0.00     34228\n",
      "           5       0.18      0.00      0.00     28926\n",
      "           6       0.33      0.01      0.01     25061\n",
      "           7       0.16      0.00      0.00     23400\n",
      "           8       0.31      0.02      0.04     27750\n",
      "           9       0.24      0.56      0.34     77663\n",
      "\n",
      "    accuracy                           0.27    479094\n",
      "   macro avg       0.23      0.15      0.11    479094\n",
      "weighted avg       0.24      0.27      0.18    479094\n",
      "\n"
     ]
    }
   ],
   "source": [
    "opt_idx = opt_idxs[0]\n",
    "opt_param = all_params[opt_idx]\n",
    "print(gridsearch_results[opt_idx]['report'])"
   ]
  },
  {
   "cell_type": "code",
   "execution_count": 557,
   "metadata": {},
   "outputs": [
    {
     "data": {
      "text/plain": [
       "(479094,)"
      ]
     },
     "execution_count": 557,
     "metadata": {},
     "output_type": "execute_result"
    }
   ],
   "source": [
    "y_test.shape"
   ]
  },
  {
   "cell_type": "code",
   "execution_count": null,
   "metadata": {},
   "outputs": [],
   "source": [
    "gridsearch_cv_xgb(data.values, watch_label_res, all_params)"
   ]
  },
  {
   "cell_type": "code",
   "execution_count": 496,
   "metadata": {},
   "outputs": [],
   "source": [
    "param = {}\n",
    "# use softmax multi-class classification\n",
    "param['objective'] = 'multi:softmax'\n",
    "# scale weight of positive examples\n",
    "param['eta'] = 0.1\n",
    "param['max_depth'] = 8\n",
    "param['nthread'] = 8\n",
    "param['num_class'] = 10\n",
    "# param['gpu_id'] = 0\n",
    "# param['tree_method'] = 'gpu_hist'"
   ]
  },
  {
   "cell_type": "code",
   "execution_count": null,
   "metadata": {},
   "outputs": [],
   "source": [
    "%%time\n",
    "cv_res= xgb.cv(param, cv_data, num_boost_round=200,early_stopping_rounds=30,nfold=3, metrics='auc',show_stdv=True)\n",
    "print(cv_res)"
   ]
  },
  {
   "cell_type": "markdown",
   "metadata": {},
   "source": [
    "## Stacking"
   ]
  },
  {
   "cell_type": "code",
   "execution_count": 151,
   "metadata": {},
   "outputs": [],
   "source": [
    "from sklearn import model_selection\n",
    "from sklearn.linear_model import LogisticRegression\n",
    "from sklearn.neighbors import KNeighborsClassifier\n",
    "from sklearn.naive_bayes import GaussianNB \n",
    "from mlxtend.classifier import StackingClassifier\n",
    "from sklearn.ensemble import (RandomForestClassifier, AdaBoostClassifier, \n",
    "                              GradientBoostingClassifier, ExtraTreesClassifier)\n",
    "from xgboost import XGBClassifier\n",
    "from sklearn.svm import SVC"
   ]
  },
  {
   "cell_type": "code",
   "execution_count": 160,
   "metadata": {},
   "outputs": [],
   "source": [
    "# 第一层模型参数\n",
    "first_layer_params = {\n",
    "    RandomForestClassifier : {\n",
    "        'n_jobs': -1,\n",
    "        'n_estimators': 300,\n",
    "         'warm_start': True, \n",
    "         #'max_features': 0.2,\n",
    "        'max_depth': 8,\n",
    "        'min_samples_leaf': 2,\n",
    "        'max_features' : 'sqrt',\n",
    "        'verbose': 0\n",
    "    },\n",
    "    ExtraTreesClassifier : {\n",
    "        'n_jobs': -1,\n",
    "        'n_estimators':300,\n",
    "        #'max_features': 0.5,\n",
    "        'max_depth': 8,\n",
    "        'min_samples_leaf': 2,\n",
    "        'verbose': 0\n",
    "    },\n",
    "    AdaBoostClassifier : {\n",
    "        'n_estimators': 300,\n",
    "        'learning_rate' : 0.75\n",
    "    },\n",
    "    GradientBoostingClassifier : {\n",
    "        'n_estimators': 300,\n",
    "         #'max_features': 0.2,\n",
    "        'max_depth': 5,\n",
    "        'min_samples_leaf': 2,\n",
    "        'verbose': 0\n",
    "    },\n",
    "    SVC : {\n",
    "        'kernel' : 'rbf',\n",
    "        'C' : 0.025,\n",
    "        'probability': True\n",
    "    } \n",
    "}\n",
    "\n",
    "\n",
    "second_layer_params = {\n",
    "    XGBClassifier : {\n",
    "        'objective': 'multi:softmax',\n",
    "        'eta': 0.1,\n",
    "        'nthread': 8,\n",
    "        'num_class': 10,\n",
    "        'gpu_id': 0,\n",
    "        'tree_method': 'gpu_hist',\n",
    "        'eval_metric': ['mlogloss', 'auc', 'merror'],\n",
    "        'max_depth': 9,\n",
    "        'min_child_weight': 9,\n",
    "        'gamma': 0.2,\n",
    "        'subsample': 0.9,\n",
    "        'colsample_bytree': 0.6,\n",
    "        'reg_alpha': 0,\n",
    "        'n_estimators': 200,\n",
    "    }\n",
    "}"
   ]
  },
  {
   "cell_type": "code",
   "execution_count": null,
   "metadata": {},
   "outputs": [],
   "source": [
    "%%time\n",
    "clf = SVC(**first_layer_params[SVC])\n",
    "clf.fit(X_train, y_train)"
   ]
  },
  {
   "cell_type": "code",
   "execution_count": 159,
   "metadata": {},
   "outputs": [
    {
     "data": {
      "text/plain": [
       "array([0], dtype=uint8)"
      ]
     },
     "execution_count": 159,
     "metadata": {},
     "output_type": "execute_result"
    }
   ],
   "source": [
    "clf.predict(X_test)"
   ]
  },
  {
   "cell_type": "code",
   "execution_count": 157,
   "metadata": {},
   "outputs": [
    {
     "data": {
      "text/plain": [
       "array([[0.10100084, 0.10091538, 0.10042646, 0.09997695, 0.09962477,\n",
       "        0.09947018, 0.09939709, 0.09926751, 0.09943457, 0.10048625]])"
      ]
     },
     "execution_count": 157,
     "metadata": {},
     "output_type": "execute_result"
    }
   ],
   "source": [
    "clf.predict_proba(X_test)"
   ]
  },
  {
   "cell_type": "markdown",
   "metadata": {},
   "source": [
    "# is_share 预测"
   ]
  },
  {
   "cell_type": "markdown",
   "metadata": {},
   "source": [
    "## XGBoost"
   ]
  },
  {
   "cell_type": "markdown",
   "metadata": {},
   "source": [
    "### 处理数据不均衡问题"
   ]
  },
  {
   "cell_type": "code",
   "execution_count": 117,
   "metadata": {},
   "outputs": [
    {
     "name": "stdout",
     "output_type": "stream",
     "text": [
      "[(0, 7338705), (1, 14319)]\n",
      "[[0.         0.99805264]\n",
      " [1.         0.00194736]]\n"
     ]
    }
   ],
   "source": [
    "items = list(Counter(is_share).items())\n",
    "items.sort(key=lambda x: x[0])\n",
    "print(items)\n",
    "\n",
    "dist = np.array(items, dtype=np.float)\n",
    "dist[:, 1] = dist[:, 1] / is_share.shape[0]\n",
    "print(dist)"
   ]
  },
  {
   "cell_type": "code",
   "execution_count": 118,
   "metadata": {},
   "outputs": [],
   "source": [
    "under_ss = np.array(items)\n",
    "under_ss_thresh = under_ss[1, 1]\n",
    "under_ss[:, 1] = np.clip(under_ss[:, 1], a_min=None, a_max=under_ss_thresh)\n",
    "\n",
    "over_ss = under_ss.copy()\n",
    "over_ss_thresh = under_ss[1, 1]\n",
    "over_ss[:, 1] = np.clip(over_ss[:, 1], a_min=over_ss_thresh, a_max=None)\n",
    "\n",
    "under_ss = dict(under_ss)\n",
    "over_ss = dict(over_ss)"
   ]
  },
  {
   "cell_type": "code",
   "execution_count": 119,
   "metadata": {},
   "outputs": [
    {
     "data": {
      "text/plain": [
       "({0: 14319, 1: 14319}, {0: 14319, 1: 14319})"
      ]
     },
     "execution_count": 119,
     "metadata": {},
     "output_type": "execute_result"
    }
   ],
   "source": [
    "under_ss, over_ss"
   ]
  },
  {
   "cell_type": "code",
   "execution_count": 120,
   "metadata": {},
   "outputs": [
    {
     "data": {
      "text/plain": [
       "(7338705,)"
      ]
     },
     "execution_count": 120,
     "metadata": {},
     "output_type": "execute_result"
    }
   ],
   "source": [
    "idxs = is_share == 0\n",
    "idxs = idxs.replace(False, np.nan).dropna().index  # 保留watch_label=0的行索引\n",
    "idxs.shape"
   ]
  },
  {
   "cell_type": "code",
   "execution_count": 121,
   "metadata": {},
   "outputs": [
    {
     "data": {
      "text/plain": [
       "((7324386,), (14319,))"
      ]
     },
     "execution_count": 121,
     "metadata": {},
     "output_type": "execute_result"
    }
   ],
   "source": [
    "left_idxs = np.random.choice(idxs, under_ss_thresh, replace=False)  # 选择一部分保留\n",
    "del_idxs = idxs.difference(left_idxs)\n",
    "del_idxs.shape, left_idxs.shape"
   ]
  },
  {
   "cell_type": "code",
   "execution_count": 122,
   "metadata": {},
   "outputs": [
    {
     "data": {
      "text/plain": [
       "((28638, 127), (28638,))"
      ]
     },
     "execution_count": 122,
     "metadata": {},
     "output_type": "execute_result"
    }
   ],
   "source": [
    "resampled_data = np.delete(dataset.values, del_idxs, axis=0)\n",
    "resampled_sh = np.delete(is_share.values, del_idxs, axis=0)\n",
    "resampled_data.shape, resampled_sh.shape"
   ]
  },
  {
   "cell_type": "code",
   "execution_count": 123,
   "metadata": {},
   "outputs": [
    {
     "data": {
      "text/plain": [
       "((28638, 127), (28638,))"
      ]
     },
     "execution_count": 123,
     "metadata": {},
     "output_type": "execute_result"
    }
   ],
   "source": [
    "# 将采样后的数据重装会DataFrame\n",
    "data_sh = pd.DataFrame(resampled_data, columns=dataset.columns)\n",
    "is_share_res = pd.Series(resampled_sh)\n",
    "data_sh.shape, is_share_res.shape"
   ]
  },
  {
   "cell_type": "code",
   "execution_count": 125,
   "metadata": {},
   "outputs": [
    {
     "data": {
      "text/plain": [
       "((28637,), (1,))"
      ]
     },
     "execution_count": 125,
     "metadata": {},
     "output_type": "execute_result"
    }
   ],
   "source": [
    "test_rate = .00001\n",
    "train_idx, test_idx = train_test_split(data_sh.index, test_size=test_rate, random_state=1)\n",
    "train_idx.shape, test_idx.shape"
   ]
  },
  {
   "cell_type": "markdown",
   "metadata": {},
   "source": [
    "### 训练模型"
   ]
  },
  {
   "cell_type": "code",
   "execution_count": 126,
   "metadata": {},
   "outputs": [],
   "source": [
    "X_train_sh = data_sh.iloc[train_idx]\n",
    "X_test_sh  = data_sh.iloc[test_idx]"
   ]
  },
  {
   "cell_type": "code",
   "execution_count": 127,
   "metadata": {},
   "outputs": [],
   "source": [
    "y_train_sh = is_share_res.iloc[train_idx]\n",
    "y_test_sh  = is_share_res.iloc[test_idx]"
   ]
  },
  {
   "cell_type": "code",
   "execution_count": 128,
   "metadata": {},
   "outputs": [
    {
     "name": "stdout",
     "output_type": "stream",
     "text": [
      "Data preparing finished ...\t\t(0.022s)\n"
     ]
    }
   ],
   "source": [
    "t0 = time()\n",
    "xg_train_sh = xgb.DMatrix(X_train_sh.values, label=y_train_sh.values, enable_categorical=True)\n",
    "xg_test_sh = xgb.DMatrix(X_test_sh.values, label=y_test_sh.values, enable_categorical=True)\n",
    "print(f\"Data preparing finished ...\\t\\t({time()-t0:.3f}s)\")"
   ]
  },
  {
   "cell_type": "code",
   "execution_count": 129,
   "metadata": {},
   "outputs": [],
   "source": [
    "# setup parameters for xgboost\n",
    "param_sh = {\n",
    "    'objective': 'binary:hinge',\n",
    "    'eta': 0.1,\n",
    "    'nthread': 8,\n",
    "    'gpu_id': 0,\n",
    "    'tree_method': 'gpu_hist',\n",
    "    'eval_metric': ['logloss', 'auc', 'error'],\n",
    "    'max_depth': 5,\n",
    "    'min_child_weight': 1,\n",
    "    'gamma': 0.1,\n",
    "    'subsample': 0.6,\n",
    "    'colsample_bytree': 0.6,\n",
    "    'reg_alpha': 0\n",
    "}\n",
    "\n",
    "# use softmax multi-class classification\n",
    "# param_sh['objective'] = 'binary:hinge'\n",
    "# scale weight of positive examples\n",
    "# param_sh['eta'] = 0.1\n",
    "# param_sh['max_depth'] = 6\n",
    "# param_sh['nthread'] = 4\n",
    "# param_sh['gpu_id'] = 0\n",
    "# param_sh['tree_method'] = 'gpu_hist'\n",
    "# param_sh['min_child_weight'] = 7\n",
    "\n",
    "\n",
    "watchlist = [(xg_train_sh, 'train'), (xg_test_sh, 'test')]"
   ]
  },
  {
   "cell_type": "code",
   "execution_count": 130,
   "metadata": {
    "tags": []
   },
   "outputs": [
    {
     "name": "stdout",
     "output_type": "stream",
     "text": [
      "[21:07:22] WARNING: ../src/metric/auc.cc:307: Dataset contains only positive or negative samples.\n",
      "[0]\ttrain-logloss:18.42132\ttrain-auc:0.50000\ttrain-error:0.50002\ttest-logloss:0.00000\ttest-auc:nan\ttest-error:0.00000\n",
      "[21:07:22] WARNING: ../src/metric/auc.cc:307: Dataset contains only positive or negative samples.\n",
      "[1]\ttrain-logloss:18.42132\ttrain-auc:0.50000\ttrain-error:0.50002\ttest-logloss:0.00000\ttest-auc:nan\ttest-error:0.00000\n",
      "[21:07:22] WARNING: ../src/metric/auc.cc:307: Dataset contains only positive or negative samples.\n",
      "[2]\ttrain-logloss:18.42132\ttrain-auc:0.50000\ttrain-error:0.50002\ttest-logloss:0.00000\ttest-auc:nan\ttest-error:0.00000\n",
      "[21:07:22] WARNING: ../src/metric/auc.cc:307: Dataset contains only positive or negative samples.\n",
      "[3]\ttrain-logloss:18.42132\ttrain-auc:0.50000\ttrain-error:0.50002\ttest-logloss:0.00000\ttest-auc:nan\ttest-error:0.00000\n",
      "[21:07:22] WARNING: ../src/metric/auc.cc:307: Dataset contains only positive or negative samples.\n",
      "[4]\ttrain-logloss:18.42132\ttrain-auc:0.50000\ttrain-error:0.50002\ttest-logloss:0.00000\ttest-auc:nan\ttest-error:0.00000\n",
      "[21:07:22] WARNING: ../src/metric/auc.cc:307: Dataset contains only positive or negative samples.\n",
      "[5]\ttrain-logloss:18.42132\ttrain-auc:0.50000\ttrain-error:0.50002\ttest-logloss:0.00000\ttest-auc:nan\ttest-error:0.00000\n",
      "[21:07:22] WARNING: ../src/metric/auc.cc:307: Dataset contains only positive or negative samples.\n",
      "[6]\ttrain-logloss:18.00707\ttrain-auc:0.51124\ttrain-error:0.48877\ttest-logloss:0.00000\ttest-auc:nan\ttest-error:0.00000\n",
      "[21:07:22] WARNING: ../src/metric/auc.cc:307: Dataset contains only positive or negative samples.\n",
      "[7]\ttrain-logloss:17.47575\ttrain-auc:0.52567\ttrain-error:0.47435\ttest-logloss:0.00000\ttest-auc:nan\ttest-error:0.00000\n",
      "[21:07:22] WARNING: ../src/metric/auc.cc:307: Dataset contains only positive or negative samples.\n",
      "[8]\ttrain-logloss:16.71543\ttrain-auc:0.54630\ttrain-error:0.45371\ttest-logloss:0.00000\ttest-auc:nan\ttest-error:0.00000\n",
      "[21:07:22] WARNING: ../src/metric/auc.cc:307: Dataset contains only positive or negative samples.\n",
      "[9]\ttrain-logloss:16.13779\ttrain-auc:0.56198\ttrain-error:0.43804\ttest-logloss:0.00000\ttest-auc:nan\ttest-error:0.00000\n",
      "[21:07:22] WARNING: ../src/metric/auc.cc:307: Dataset contains only positive or negative samples.\n",
      "[10]\ttrain-logloss:15.62577\ttrain-auc:0.57588\ttrain-error:0.42414\ttest-logloss:0.00000\ttest-auc:nan\ttest-error:0.00000\n",
      "[21:07:22] WARNING: ../src/metric/auc.cc:307: Dataset contains only positive or negative samples.\n",
      "[11]\ttrain-logloss:15.30929\ttrain-auc:0.58447\ttrain-error:0.41555\ttest-logloss:0.00000\ttest-auc:nan\ttest-error:0.00000\n",
      "[21:07:22] WARNING: ../src/metric/auc.cc:307: Dataset contains only positive or negative samples.\n",
      "[12]\ttrain-logloss:15.10731\ttrain-auc:0.58995\ttrain-error:0.41006\ttest-logloss:0.00000\ttest-auc:nan\ttest-error:0.00000\n",
      "[21:07:22] WARNING: ../src/metric/auc.cc:307: Dataset contains only positive or negative samples.\n",
      "[13]\ttrain-logloss:15.00954\ttrain-auc:0.59260\ttrain-error:0.40741\ttest-logloss:0.00000\ttest-auc:nan\ttest-error:0.00000\n",
      "[21:07:22] WARNING: ../src/metric/auc.cc:307: Dataset contains only positive or negative samples.\n",
      "[14]\ttrain-logloss:14.92077\ttrain-auc:0.59501\ttrain-error:0.40500\ttest-logloss:0.00000\ttest-auc:nan\ttest-error:0.00000\n",
      "[21:07:22] WARNING: ../src/metric/auc.cc:307: Dataset contains only positive or negative samples.\n",
      "[15]\ttrain-logloss:14.79469\ttrain-auc:0.59843\ttrain-error:0.40158\ttest-logloss:0.00000\ttest-auc:nan\ttest-error:0.00000\n",
      "[21:07:22] WARNING: ../src/metric/auc.cc:307: Dataset contains only positive or negative samples.\n",
      "[16]\ttrain-logloss:14.69949\ttrain-auc:0.60102\ttrain-error:0.39899\ttest-logloss:0.00000\ttest-auc:nan\ttest-error:0.00000\n",
      "[21:07:22] WARNING: ../src/metric/auc.cc:307: Dataset contains only positive or negative samples.\n",
      "[17]\ttrain-logloss:14.63002\ttrain-auc:0.60290\ttrain-error:0.39711\ttest-logloss:0.00000\ttest-auc:nan\ttest-error:0.00000\n",
      "[21:07:22] WARNING: ../src/metric/auc.cc:307: Dataset contains only positive or negative samples.\n",
      "[18]\ttrain-logloss:14.56055\ttrain-auc:0.60479\ttrain-error:0.39522\ttest-logloss:0.00000\ttest-auc:nan\ttest-error:0.00000\n",
      "[21:07:22] WARNING: ../src/metric/auc.cc:307: Dataset contains only positive or negative samples.\n",
      "[19]\ttrain-logloss:14.51167\ttrain-auc:0.60611\ttrain-error:0.39390\ttest-logloss:0.00000\ttest-auc:nan\ttest-error:0.00000\n",
      "[21:07:22] WARNING: ../src/metric/auc.cc:307: Dataset contains only positive or negative samples.\n",
      "[20]\ttrain-logloss:14.49623\ttrain-auc:0.60653\ttrain-error:0.39348\ttest-logloss:0.00000\ttest-auc:nan\ttest-error:0.00000\n",
      "[21:07:22] WARNING: ../src/metric/auc.cc:307: Dataset contains only positive or negative samples.\n",
      "[21]\ttrain-logloss:14.45635\ttrain-auc:0.60762\ttrain-error:0.39239\ttest-logloss:0.00000\ttest-auc:nan\ttest-error:0.00000\n",
      "[21:07:22] WARNING: ../src/metric/auc.cc:307: Dataset contains only positive or negative samples.\n",
      "[22]\ttrain-logloss:14.42933\ttrain-auc:0.60835\ttrain-error:0.39166\ttest-logloss:0.00000\ttest-auc:nan\ttest-error:0.00000\n",
      "[21:07:22] WARNING: ../src/metric/auc.cc:307: Dataset contains only positive or negative samples.\n",
      "[23]\ttrain-logloss:14.37916\ttrain-auc:0.60971\ttrain-error:0.39030\ttest-logloss:0.00000\ttest-auc:nan\ttest-error:0.00000\n",
      "[21:07:22] WARNING: ../src/metric/auc.cc:307: Dataset contains only positive or negative samples.\n",
      "[24]\ttrain-logloss:14.34828\ttrain-auc:0.61055\ttrain-error:0.38946\ttest-logloss:0.00000\ttest-auc:nan\ttest-error:0.00000\n",
      "[21:07:22] WARNING: ../src/metric/auc.cc:307: Dataset contains only positive or negative samples.\n",
      "[25]\ttrain-logloss:14.27624\ttrain-auc:0.61250\ttrain-error:0.38751\ttest-logloss:0.00000\ttest-auc:nan\ttest-error:0.00000\n",
      "[21:07:22] WARNING: ../src/metric/auc.cc:307: Dataset contains only positive or negative samples.\n",
      "[26]\ttrain-logloss:14.23378\ttrain-auc:0.61366\ttrain-error:0.38635\ttest-logloss:0.00000\ttest-auc:nan\ttest-error:0.00000\n",
      "[21:07:22] WARNING: ../src/metric/auc.cc:307: Dataset contains only positive or negative samples.\n",
      "[27]\ttrain-logloss:14.20548\ttrain-auc:0.61442\ttrain-error:0.38559\ttest-logloss:0.00000\ttest-auc:nan\ttest-error:0.00000\n",
      "[21:07:22] WARNING: ../src/metric/auc.cc:307: Dataset contains only positive or negative samples.\n",
      "[28]\ttrain-logloss:14.19905\ttrain-auc:0.61460\ttrain-error:0.38541\ttest-logloss:0.00000\ttest-auc:nan\ttest-error:0.00000\n",
      "[21:07:22] WARNING: ../src/metric/auc.cc:307: Dataset contains only positive or negative samples.\n",
      "[29]\ttrain-logloss:14.16303\ttrain-auc:0.61558\ttrain-error:0.38443\ttest-logloss:0.00000\ttest-auc:nan\ttest-error:0.00000\n",
      "[21:07:22] WARNING: ../src/metric/auc.cc:307: Dataset contains only positive or negative samples.\n",
      "[30]\ttrain-logloss:14.11928\ttrain-auc:0.61676\ttrain-error:0.38325\ttest-logloss:0.00000\ttest-auc:nan\ttest-error:0.00000\n",
      "[21:07:22] WARNING: ../src/metric/auc.cc:307: Dataset contains only positive or negative samples.\n",
      "[31]\ttrain-logloss:14.11543\ttrain-auc:0.61687\ttrain-error:0.38314\ttest-logloss:0.00000\ttest-auc:nan\ttest-error:0.00000\n",
      "[21:07:22] WARNING: ../src/metric/auc.cc:307: Dataset contains only positive or negative samples.\n",
      "[32]\ttrain-logloss:14.10256\ttrain-auc:0.61722\ttrain-error:0.38279\ttest-logloss:0.00000\ttest-auc:nan\ttest-error:0.00000\n",
      "[21:07:22] WARNING: ../src/metric/auc.cc:307: Dataset contains only positive or negative samples.\n",
      "[33]\ttrain-logloss:14.08326\ttrain-auc:0.61774\ttrain-error:0.38227\ttest-logloss:0.00000\ttest-auc:nan\ttest-error:0.00000\n",
      "[21:07:22] WARNING: ../src/metric/auc.cc:307: Dataset contains only positive or negative samples.\n",
      "[34]\ttrain-logloss:14.06911\ttrain-auc:0.61813\ttrain-error:0.38188\ttest-logloss:0.00000\ttest-auc:nan\ttest-error:0.00000\n",
      "[21:07:22] WARNING: ../src/metric/auc.cc:307: Dataset contains only positive or negative samples.\n",
      "[35]\ttrain-logloss:14.03438\ttrain-auc:0.61907\ttrain-error:0.38094\ttest-logloss:0.00000\ttest-auc:nan\ttest-error:0.00000\n",
      "[21:07:22] WARNING: ../src/metric/auc.cc:307: Dataset contains only positive or negative samples.\n",
      "[36]\ttrain-logloss:13.99449\ttrain-auc:0.62015\ttrain-error:0.37986\ttest-logloss:0.00000\ttest-auc:nan\ttest-error:0.00000\n",
      "[21:07:22] WARNING: ../src/metric/auc.cc:307: Dataset contains only positive or negative samples.\n",
      "[37]\ttrain-logloss:13.95719\ttrain-auc:0.62116\ttrain-error:0.37885\ttest-logloss:0.00000\ttest-auc:nan\ttest-error:0.00000\n",
      "[21:07:22] WARNING: ../src/metric/auc.cc:307: Dataset contains only positive or negative samples.\n",
      "[38]\ttrain-logloss:13.94689\ttrain-auc:0.62144\ttrain-error:0.37857\ttest-logloss:0.00000\ttest-auc:nan\ttest-error:0.00000\n",
      "[21:07:22] WARNING: ../src/metric/auc.cc:307: Dataset contains only positive or negative samples.\n",
      "[39]\ttrain-logloss:13.90959\ttrain-auc:0.62245\ttrain-error:0.37755\ttest-logloss:0.00000\ttest-auc:nan\ttest-error:0.00000\n",
      "[21:07:22] WARNING: ../src/metric/auc.cc:307: Dataset contains only positive or negative samples.\n",
      "[40]\ttrain-logloss:13.88386\ttrain-auc:0.62315\ttrain-error:0.37685\ttest-logloss:0.00000\ttest-auc:nan\ttest-error:0.00000\n",
      "[21:07:22] WARNING: ../src/metric/auc.cc:307: Dataset contains only positive or negative samples.\n",
      "[41]\ttrain-logloss:13.88257\ttrain-auc:0.62319\ttrain-error:0.37682\ttest-logloss:0.00000\ttest-auc:nan\ttest-error:0.00000\n",
      "[21:07:22] WARNING: ../src/metric/auc.cc:307: Dataset contains only positive or negative samples.\n",
      "[42]\ttrain-logloss:13.84526\ttrain-auc:0.62420\ttrain-error:0.37581\ttest-logloss:0.00000\ttest-auc:nan\ttest-error:0.00000\n",
      "[21:07:22] WARNING: ../src/metric/auc.cc:307: Dataset contains only positive or negative samples.\n",
      "[43]\ttrain-logloss:13.82725\ttrain-auc:0.62469\ttrain-error:0.37532\ttest-logloss:0.00000\ttest-auc:nan\ttest-error:0.00000\n",
      "[21:07:22] WARNING: ../src/metric/auc.cc:307: Dataset contains only positive or negative samples.\n",
      "[44]\ttrain-logloss:13.79380\ttrain-auc:0.62560\ttrain-error:0.37441\ttest-logloss:0.00000\ttest-auc:nan\ttest-error:0.00000\n",
      "[21:07:22] WARNING: ../src/metric/auc.cc:307: Dataset contains only positive or negative samples.\n",
      "[45]\ttrain-logloss:13.75392\ttrain-auc:0.62668\ttrain-error:0.37333\ttest-logloss:0.00000\ttest-auc:nan\ttest-error:0.00000\n",
      "[21:07:22] WARNING: ../src/metric/auc.cc:307: Dataset contains only positive or negative samples.\n",
      "[46]\ttrain-logloss:13.69217\ttrain-auc:0.62836\ttrain-error:0.37165\ttest-logloss:0.00000\ttest-auc:nan\ttest-error:0.00000\n",
      "[21:07:22] WARNING: ../src/metric/auc.cc:307: Dataset contains only positive or negative samples.\n",
      "[47]\ttrain-logloss:13.63556\ttrain-auc:0.62989\ttrain-error:0.37012\ttest-logloss:0.00000\ttest-auc:nan\ttest-error:0.00000\n",
      "[21:07:22] WARNING: ../src/metric/auc.cc:307: Dataset contains only positive or negative samples.\n",
      "[48]\ttrain-logloss:13.58925\ttrain-auc:0.63115\ttrain-error:0.36886\ttest-logloss:0.00000\ttest-auc:nan\ttest-error:0.00000\n",
      "[21:07:22] WARNING: ../src/metric/auc.cc:307: Dataset contains only positive or negative samples.\n",
      "[49]\ttrain-logloss:13.56352\ttrain-auc:0.63185\ttrain-error:0.36816\ttest-logloss:0.00000\ttest-auc:nan\ttest-error:0.00000\n",
      "[21:07:22] WARNING: ../src/metric/auc.cc:307: Dataset contains only positive or negative samples.\n",
      "[50]\ttrain-logloss:13.53136\ttrain-auc:0.63272\ttrain-error:0.36729\ttest-logloss:0.00000\ttest-auc:nan\ttest-error:0.00000\n",
      "[21:07:22] WARNING: ../src/metric/auc.cc:307: Dataset contains only positive or negative samples.\n",
      "[51]\ttrain-logloss:13.51463\ttrain-auc:0.63318\ttrain-error:0.36683\ttest-logloss:0.00000\ttest-auc:nan\ttest-error:0.00000\n",
      "[21:07:22] WARNING: ../src/metric/auc.cc:307: Dataset contains only positive or negative samples.\n",
      "[52]\ttrain-logloss:13.49662\ttrain-auc:0.63366\ttrain-error:0.36634\ttest-logloss:0.00000\ttest-auc:nan\ttest-error:0.00000\n",
      "[21:07:22] WARNING: ../src/metric/auc.cc:307: Dataset contains only positive or negative samples.\n",
      "[53]\ttrain-logloss:13.47346\ttrain-auc:0.63429\ttrain-error:0.36572\ttest-logloss:0.00000\ttest-auc:nan\ttest-error:0.00000\n",
      "[21:07:22] WARNING: ../src/metric/auc.cc:307: Dataset contains only positive or negative samples.\n",
      "[54]\ttrain-logloss:13.43230\ttrain-auc:0.63541\ttrain-error:0.36460\ttest-logloss:0.00000\ttest-auc:nan\ttest-error:0.00000\n",
      "[21:07:22] WARNING: ../src/metric/auc.cc:307: Dataset contains only positive or negative samples.\n",
      "[55]\ttrain-logloss:13.40528\ttrain-auc:0.63614\ttrain-error:0.36386\ttest-logloss:0.00000\ttest-auc:nan\ttest-error:0.00000\n",
      "[21:07:22] WARNING: ../src/metric/auc.cc:307: Dataset contains only positive or negative samples.\n",
      "[56]\ttrain-logloss:13.37826\ttrain-auc:0.63688\ttrain-error:0.36313\ttest-logloss:0.00000\ttest-auc:nan\ttest-error:0.00000\n",
      "[21:07:22] WARNING: ../src/metric/auc.cc:307: Dataset contains only positive or negative samples.\n",
      "[57]\ttrain-logloss:13.36025\ttrain-auc:0.63736\ttrain-error:0.36264\ttest-logloss:0.00000\ttest-auc:nan\ttest-error:0.00000\n",
      "[21:07:22] WARNING: ../src/metric/auc.cc:307: Dataset contains only positive or negative samples.\n",
      "[58]\ttrain-logloss:13.32552\ttrain-auc:0.63831\ttrain-error:0.36170\ttest-logloss:0.00000\ttest-auc:nan\ttest-error:0.00000\n",
      "[21:07:22] WARNING: ../src/metric/auc.cc:307: Dataset contains only positive or negative samples.\n",
      "[59]\ttrain-logloss:13.29464\ttrain-auc:0.63915\ttrain-error:0.36086\ttest-logloss:0.00000\ttest-auc:nan\ttest-error:0.00000\n",
      "[21:07:22] WARNING: ../src/metric/auc.cc:307: Dataset contains only positive or negative samples.\n",
      "[60]\ttrain-logloss:13.26376\ttrain-auc:0.63998\ttrain-error:0.36002\ttest-logloss:0.00000\ttest-auc:nan\ttest-error:0.00000\n",
      "[21:07:22] WARNING: ../src/metric/auc.cc:307: Dataset contains only positive or negative samples.\n",
      "[61]\ttrain-logloss:13.23675\ttrain-auc:0.64072\ttrain-error:0.35929\ttest-logloss:0.00000\ttest-auc:nan\ttest-error:0.00000\n",
      "[21:07:22] WARNING: ../src/metric/auc.cc:307: Dataset contains only positive or negative samples.\n",
      "[62]\ttrain-logloss:13.19687\ttrain-auc:0.64180\ttrain-error:0.35821\ttest-logloss:0.00000\ttest-auc:nan\ttest-error:0.00000\n",
      "[21:07:22] WARNING: ../src/metric/auc.cc:307: Dataset contains only positive or negative samples.\n",
      "[63]\ttrain-logloss:13.18658\ttrain-auc:0.64208\ttrain-error:0.35793\ttest-logloss:0.00000\ttest-auc:nan\ttest-error:0.00000\n",
      "[21:07:22] WARNING: ../src/metric/auc.cc:307: Dataset contains only positive or negative samples.\n",
      "[64]\ttrain-logloss:13.13254\ttrain-auc:0.64355\ttrain-error:0.35646\ttest-logloss:0.00000\ttest-auc:nan\ttest-error:0.00000\n",
      "[21:07:22] WARNING: ../src/metric/auc.cc:307: Dataset contains only positive or negative samples.\n",
      "[65]\ttrain-logloss:13.11582\ttrain-auc:0.64400\ttrain-error:0.35601\ttest-logloss:0.00000\ttest-auc:nan\ttest-error:0.00000\n",
      "[21:07:22] WARNING: ../src/metric/auc.cc:307: Dataset contains only positive or negative samples.\n",
      "[66]\ttrain-logloss:13.09909\ttrain-auc:0.64445\ttrain-error:0.35555\ttest-logloss:0.00000\ttest-auc:nan\ttest-error:0.00000\n",
      "[21:07:22] WARNING: ../src/metric/auc.cc:307: Dataset contains only positive or negative samples.\n",
      "[67]\ttrain-logloss:13.08752\ttrain-auc:0.64477\ttrain-error:0.35524\ttest-logloss:0.00000\ttest-auc:nan\ttest-error:0.00000\n",
      "[21:07:22] WARNING: ../src/metric/auc.cc:307: Dataset contains only positive or negative samples.\n",
      "[68]\ttrain-logloss:13.03606\ttrain-auc:0.64616\ttrain-error:0.35384\ttest-logloss:0.00000\ttest-auc:nan\ttest-error:0.00000\n",
      "[21:07:22] WARNING: ../src/metric/auc.cc:307: Dataset contains only positive or negative samples.\n",
      "[69]\ttrain-logloss:13.00518\ttrain-auc:0.64700\ttrain-error:0.35301\ttest-logloss:0.00000\ttest-auc:nan\ttest-error:0.00000\n",
      "[21:07:22] WARNING: ../src/metric/auc.cc:307: Dataset contains only positive or negative samples.\n",
      "[70]\ttrain-logloss:12.96530\ttrain-auc:0.64808\ttrain-error:0.35192\ttest-logloss:0.00000\ttest-auc:nan\ttest-error:0.00000\n",
      "[21:07:22] WARNING: ../src/metric/auc.cc:307: Dataset contains only positive or negative samples.\n",
      "[71]\ttrain-logloss:12.90612\ttrain-auc:0.64969\ttrain-error:0.35032\ttest-logloss:0.00000\ttest-auc:nan\ttest-error:0.00000\n",
      "[21:07:22] WARNING: ../src/metric/auc.cc:307: Dataset contains only positive or negative samples.\n",
      "[72]\ttrain-logloss:12.88039\ttrain-auc:0.65039\ttrain-error:0.34962\ttest-logloss:0.00000\ttest-auc:nan\ttest-error:0.00000\n",
      "[21:07:22] WARNING: ../src/metric/auc.cc:307: Dataset contains only positive or negative samples.\n",
      "[73]\ttrain-logloss:12.86753\ttrain-auc:0.65074\ttrain-error:0.34927\ttest-logloss:0.00000\ttest-auc:nan\ttest-error:0.00000\n",
      "[21:07:22] WARNING: ../src/metric/auc.cc:307: Dataset contains only positive or negative samples.\n",
      "[74]\ttrain-logloss:12.83793\ttrain-auc:0.65154\ttrain-error:0.34847\ttest-logloss:0.00000\ttest-auc:nan\ttest-error:0.00000\n",
      "[21:07:22] WARNING: ../src/metric/auc.cc:307: Dataset contains only positive or negative samples.\n",
      "[75]\ttrain-logloss:12.80577\ttrain-auc:0.65241\ttrain-error:0.34759\ttest-logloss:0.00000\ttest-auc:nan\ttest-error:0.00000\n",
      "[21:07:22] WARNING: ../src/metric/auc.cc:307: Dataset contains only positive or negative samples.\n",
      "[76]\ttrain-logloss:12.78648\ttrain-auc:0.65294\ttrain-error:0.34707\ttest-logloss:0.00000\ttest-auc:nan\ttest-error:0.00000\n",
      "[21:07:22] WARNING: ../src/metric/auc.cc:307: Dataset contains only positive or negative samples.\n",
      "[77]\ttrain-logloss:12.75946\ttrain-auc:0.65367\ttrain-error:0.34634\ttest-logloss:0.00000\ttest-auc:nan\ttest-error:0.00000\n",
      "[21:07:22] WARNING: ../src/metric/auc.cc:307: Dataset contains only positive or negative samples.\n",
      "[78]\ttrain-logloss:12.71958\ttrain-auc:0.65475\ttrain-error:0.34525\ttest-logloss:0.00000\ttest-auc:nan\ttest-error:0.00000\n",
      "[21:07:22] WARNING: ../src/metric/auc.cc:307: Dataset contains only positive or negative samples.\n",
      "[79]\ttrain-logloss:12.67841\ttrain-auc:0.65587\ttrain-error:0.34414\ttest-logloss:0.00000\ttest-auc:nan\ttest-error:0.00000\n",
      "[21:07:22] WARNING: ../src/metric/auc.cc:307: Dataset contains only positive or negative samples.\n",
      "[80]\ttrain-logloss:12.65911\ttrain-auc:0.65639\ttrain-error:0.34361\ttest-logloss:0.00000\ttest-auc:nan\ttest-error:0.00000\n",
      "[21:07:22] WARNING: ../src/metric/auc.cc:307: Dataset contains only positive or negative samples.\n",
      "[81]\ttrain-logloss:12.64110\ttrain-auc:0.65688\ttrain-error:0.34312\ttest-logloss:0.00000\ttest-auc:nan\ttest-error:0.00000\n",
      "[21:07:22] WARNING: ../src/metric/auc.cc:307: Dataset contains only positive or negative samples.\n",
      "[82]\ttrain-logloss:12.61280\ttrain-auc:0.65765\ttrain-error:0.34235\ttest-logloss:0.00000\ttest-auc:nan\ttest-error:0.00000\n",
      "[21:07:22] WARNING: ../src/metric/auc.cc:307: Dataset contains only positive or negative samples.\n",
      "[83]\ttrain-logloss:12.59607\ttrain-auc:0.65811\ttrain-error:0.34190\ttest-logloss:0.00000\ttest-auc:nan\ttest-error:0.00000\n",
      "[21:07:22] WARNING: ../src/metric/auc.cc:307: Dataset contains only positive or negative samples.\n",
      "[84]\ttrain-logloss:12.57034\ttrain-auc:0.65880\ttrain-error:0.34120\ttest-logloss:0.00000\ttest-auc:nan\ttest-error:0.00000\n",
      "[21:07:22] WARNING: ../src/metric/auc.cc:307: Dataset contains only positive or negative samples.\n",
      "[85]\ttrain-logloss:12.55876\ttrain-auc:0.65912\ttrain-error:0.34089\ttest-logloss:0.00000\ttest-auc:nan\ttest-error:0.00000\n",
      "[21:07:22] WARNING: ../src/metric/auc.cc:307: Dataset contains only positive or negative samples.\n",
      "[86]\ttrain-logloss:12.53818\ttrain-auc:0.65968\ttrain-error:0.34033\ttest-logloss:0.00000\ttest-auc:nan\ttest-error:0.00000\n",
      "[21:07:22] WARNING: ../src/metric/auc.cc:307: Dataset contains only positive or negative samples.\n",
      "[87]\ttrain-logloss:12.49058\ttrain-auc:0.66097\ttrain-error:0.33904\ttest-logloss:0.00000\ttest-auc:nan\ttest-error:0.00000\n",
      "[21:07:22] WARNING: ../src/metric/auc.cc:307: Dataset contains only positive or negative samples.\n",
      "[88]\ttrain-logloss:12.49830\ttrain-auc:0.66076\ttrain-error:0.33925\ttest-logloss:0.00000\ttest-auc:nan\ttest-error:0.00000\n",
      "[21:07:22] WARNING: ../src/metric/auc.cc:307: Dataset contains only positive or negative samples.\n",
      "[89]\ttrain-logloss:12.44813\ttrain-auc:0.66212\ttrain-error:0.33788\ttest-logloss:0.00000\ttest-auc:nan\ttest-error:0.00000\n",
      "[21:07:22] WARNING: ../src/metric/auc.cc:307: Dataset contains only positive or negative samples.\n",
      "[90]\ttrain-logloss:12.43269\ttrain-auc:0.66254\ttrain-error:0.33747\ttest-logloss:0.00000\ttest-auc:nan\ttest-error:0.00000\n",
      "[21:07:22] WARNING: ../src/metric/auc.cc:307: Dataset contains only positive or negative samples.\n",
      "[91]\ttrain-logloss:12.40825\ttrain-auc:0.66320\ttrain-error:0.33680\ttest-logloss:0.00000\ttest-auc:nan\ttest-error:0.00000\n",
      "[21:07:22] WARNING: ../src/metric/auc.cc:307: Dataset contains only positive or negative samples.\n",
      "[92]\ttrain-logloss:12.38251\ttrain-auc:0.66390\ttrain-error:0.33610\ttest-logloss:0.00000\ttest-auc:nan\ttest-error:0.00000\n",
      "[21:07:22] WARNING: ../src/metric/auc.cc:307: Dataset contains only positive or negative samples.\n",
      "[93]\ttrain-logloss:12.38509\ttrain-auc:0.66383\ttrain-error:0.33617\ttest-logloss:0.00000\ttest-auc:nan\ttest-error:0.00000\n",
      "[21:07:22] WARNING: ../src/metric/auc.cc:307: Dataset contains only positive or negative samples.\n",
      "[94]\ttrain-logloss:12.35936\ttrain-auc:0.66453\ttrain-error:0.33548\ttest-logloss:0.00000\ttest-auc:nan\ttest-error:0.00000\n",
      "[21:07:22] WARNING: ../src/metric/auc.cc:307: Dataset contains only positive or negative samples.\n",
      "[95]\ttrain-logloss:12.33492\ttrain-auc:0.66519\ttrain-error:0.33481\ttest-logloss:0.00000\ttest-auc:nan\ttest-error:0.00000\n",
      "[21:07:22] WARNING: ../src/metric/auc.cc:307: Dataset contains only positive or negative samples.\n",
      "[96]\ttrain-logloss:12.32591\ttrain-auc:0.66544\ttrain-error:0.33457\ttest-logloss:0.00000\ttest-auc:nan\ttest-error:0.00000\n",
      "[21:07:22] WARNING: ../src/metric/auc.cc:307: Dataset contains only positive or negative samples.\n",
      "[97]\ttrain-logloss:12.33234\ttrain-auc:0.66526\ttrain-error:0.33474\ttest-logloss:0.00000\ttest-auc:nan\ttest-error:0.00000\n",
      "[21:07:22] WARNING: ../src/metric/auc.cc:307: Dataset contains only positive or negative samples.\n",
      "[98]\ttrain-logloss:12.31305\ttrain-auc:0.66579\ttrain-error:0.33422\ttest-logloss:0.00000\ttest-auc:nan\ttest-error:0.00000\n",
      "[21:07:22] WARNING: ../src/metric/auc.cc:307: Dataset contains only positive or negative samples.\n",
      "[99]\ttrain-logloss:12.30018\ttrain-auc:0.66614\ttrain-error:0.33387\ttest-logloss:0.00000\ttest-auc:nan\ttest-error:0.00000\n",
      "[21:07:22] WARNING: ../src/metric/auc.cc:307: Dataset contains only positive or negative samples.\n",
      "[100]\ttrain-logloss:12.26802\ttrain-auc:0.66701\ttrain-error:0.33300\ttest-logloss:0.00000\ttest-auc:nan\ttest-error:0.00000\n",
      "[21:07:22] WARNING: ../src/metric/auc.cc:307: Dataset contains only positive or negative samples.\n",
      "[101]\ttrain-logloss:12.26030\ttrain-auc:0.66722\ttrain-error:0.33279\ttest-logloss:0.00000\ttest-auc:nan\ttest-error:0.00000\n",
      "[21:07:22] WARNING: ../src/metric/auc.cc:307: Dataset contains only positive or negative samples.\n",
      "[102]\ttrain-logloss:12.24486\ttrain-auc:0.66764\ttrain-error:0.33237\ttest-logloss:0.00000\ttest-auc:nan\ttest-error:0.00000\n",
      "[21:07:22] WARNING: ../src/metric/auc.cc:307: Dataset contains only positive or negative samples.\n",
      "[103]\ttrain-logloss:12.23200\ttrain-auc:0.66799\ttrain-error:0.33202\ttest-logloss:0.00000\ttest-auc:nan\ttest-error:0.00000\n",
      "[21:07:22] WARNING: ../src/metric/auc.cc:307: Dataset contains only positive or negative samples.\n",
      "[104]\ttrain-logloss:12.24100\ttrain-auc:0.66774\ttrain-error:0.33226\ttest-logloss:0.00000\ttest-auc:nan\ttest-error:0.00000\n",
      "[21:07:22] WARNING: ../src/metric/auc.cc:307: Dataset contains only positive or negative samples.\n",
      "[105]\ttrain-logloss:12.23328\ttrain-auc:0.66795\ttrain-error:0.33205\ttest-logloss:0.00000\ttest-auc:nan\ttest-error:0.00000\n",
      "[21:07:22] WARNING: ../src/metric/auc.cc:307: Dataset contains only positive or negative samples.\n",
      "[106]\ttrain-logloss:12.22042\ttrain-auc:0.66830\ttrain-error:0.33170\ttest-logloss:0.00000\ttest-auc:nan\ttest-error:0.00000\n",
      "[21:07:22] WARNING: ../src/metric/auc.cc:307: Dataset contains only positive or negative samples.\n",
      "[107]\ttrain-logloss:12.19211\ttrain-auc:0.66907\ttrain-error:0.33094\ttest-logloss:0.00000\ttest-auc:nan\ttest-error:0.00000\n",
      "[21:07:22] WARNING: ../src/metric/auc.cc:307: Dataset contains only positive or negative samples.\n",
      "[108]\ttrain-logloss:12.18054\ttrain-auc:0.66938\ttrain-error:0.33062\ttest-logloss:0.00000\ttest-auc:nan\ttest-error:0.00000\n",
      "[21:07:22] WARNING: ../src/metric/auc.cc:307: Dataset contains only positive or negative samples.\n",
      "[109]\ttrain-logloss:12.16381\ttrain-auc:0.66984\ttrain-error:0.33017\ttest-logloss:0.00000\ttest-auc:nan\ttest-error:0.00000\n",
      "[21:07:22] WARNING: ../src/metric/auc.cc:307: Dataset contains only positive or negative samples.\n",
      "[110]\ttrain-logloss:12.13422\ttrain-auc:0.67064\ttrain-error:0.32936\ttest-logloss:0.00000\ttest-auc:nan\ttest-error:0.00000\n",
      "[21:07:22] WARNING: ../src/metric/auc.cc:307: Dataset contains only positive or negative samples.\n",
      "[111]\ttrain-logloss:12.12007\ttrain-auc:0.67102\ttrain-error:0.32898\ttest-logloss:0.00000\ttest-auc:nan\ttest-error:0.00000\n",
      "[21:07:22] WARNING: ../src/metric/auc.cc:307: Dataset contains only positive or negative samples.\n",
      "[112]\ttrain-logloss:12.10978\ttrain-auc:0.67130\ttrain-error:0.32870\ttest-logloss:0.00000\ttest-auc:nan\ttest-error:0.00000\n",
      "[21:07:22] WARNING: ../src/metric/auc.cc:307: Dataset contains only positive or negative samples.\n",
      "[113]\ttrain-logloss:12.08276\ttrain-auc:0.67204\ttrain-error:0.32797\ttest-logloss:0.00000\ttest-auc:nan\ttest-error:0.00000\n",
      "[21:07:22] WARNING: ../src/metric/auc.cc:307: Dataset contains only positive or negative samples.\n",
      "[114]\ttrain-logloss:12.06990\ttrain-auc:0.67239\ttrain-error:0.32762\ttest-logloss:0.00000\ttest-auc:nan\ttest-error:0.00000\n",
      "[21:07:22] WARNING: ../src/metric/auc.cc:307: Dataset contains only positive or negative samples.\n",
      "[115]\ttrain-logloss:12.04674\ttrain-auc:0.67301\ttrain-error:0.32699\ttest-logloss:0.00000\ttest-auc:nan\ttest-error:0.00000\n",
      "[21:07:22] WARNING: ../src/metric/auc.cc:307: Dataset contains only positive or negative samples.\n",
      "[116]\ttrain-logloss:12.03773\ttrain-auc:0.67326\ttrain-error:0.32675\ttest-logloss:0.00000\ttest-auc:nan\ttest-error:0.00000\n",
      "[21:07:22] WARNING: ../src/metric/auc.cc:307: Dataset contains only positive or negative samples.\n",
      "[117]\ttrain-logloss:12.02358\ttrain-auc:0.67364\ttrain-error:0.32636\ttest-logloss:0.00000\ttest-auc:nan\ttest-error:0.00000\n",
      "[21:07:22] WARNING: ../src/metric/auc.cc:307: Dataset contains only positive or negative samples.\n",
      "[118]\ttrain-logloss:12.01458\ttrain-auc:0.67389\ttrain-error:0.32612\ttest-logloss:0.00000\ttest-auc:nan\ttest-error:0.00000\n",
      "[21:07:22] WARNING: ../src/metric/auc.cc:307: Dataset contains only positive or negative samples.\n",
      "[119]\ttrain-logloss:12.03130\ttrain-auc:0.67343\ttrain-error:0.32657\ttest-logloss:0.00000\ttest-auc:nan\ttest-error:0.00000\n",
      "[21:07:22] WARNING: ../src/metric/auc.cc:307: Dataset contains only positive or negative samples.\n",
      "[120]\ttrain-logloss:12.03259\ttrain-auc:0.67340\ttrain-error:0.32660\ttest-logloss:0.00000\ttest-auc:nan\ttest-error:0.00000\n",
      "[21:07:22] WARNING: ../src/metric/auc.cc:307: Dataset contains only positive or negative samples.\n",
      "[121]\ttrain-logloss:12.02487\ttrain-auc:0.67361\ttrain-error:0.32640\ttest-logloss:0.00000\ttest-auc:nan\ttest-error:0.00000\n",
      "[21:07:22] WARNING: ../src/metric/auc.cc:307: Dataset contains only positive or negative samples.\n",
      "[122]\ttrain-logloss:12.00557\ttrain-auc:0.67413\ttrain-error:0.32587\ttest-logloss:0.00000\ttest-auc:nan\ttest-error:0.00000\n",
      "[21:07:22] WARNING: ../src/metric/auc.cc:307: Dataset contains only positive or negative samples.\n",
      "[123]\ttrain-logloss:12.00943\ttrain-auc:0.67403\ttrain-error:0.32598\ttest-logloss:0.00000\ttest-auc:nan\ttest-error:0.00000\n",
      "[21:07:22] WARNING: ../src/metric/auc.cc:307: Dataset contains only positive or negative samples.\n",
      "[124]\ttrain-logloss:11.99142\ttrain-auc:0.67452\ttrain-error:0.32549\ttest-logloss:0.00000\ttest-auc:nan\ttest-error:0.00000\n",
      "[21:07:22] WARNING: ../src/metric/auc.cc:307: Dataset contains only positive or negative samples.\n",
      "[125]\ttrain-logloss:11.98241\ttrain-auc:0.67476\ttrain-error:0.32524\ttest-logloss:0.00000\ttest-auc:nan\ttest-error:0.00000\n",
      "[21:07:22] WARNING: ../src/metric/auc.cc:307: Dataset contains only positive or negative samples.\n",
      "[126]\ttrain-logloss:11.96955\ttrain-auc:0.67511\ttrain-error:0.32489\ttest-logloss:0.00000\ttest-auc:nan\ttest-error:0.00000\n",
      "[21:07:22] WARNING: ../src/metric/auc.cc:307: Dataset contains only positive or negative samples.\n",
      "[127]\ttrain-logloss:11.95926\ttrain-auc:0.67539\ttrain-error:0.32461\ttest-logloss:0.00000\ttest-auc:nan\ttest-error:0.00000\n",
      "[21:07:22] WARNING: ../src/metric/auc.cc:307: Dataset contains only positive or negative samples.\n",
      "[128]\ttrain-logloss:11.94125\ttrain-auc:0.67588\ttrain-error:0.32413\ttest-logloss:0.00000\ttest-auc:nan\ttest-error:0.00000\n",
      "[21:07:22] WARNING: ../src/metric/auc.cc:307: Dataset contains only positive or negative samples.\n",
      "[129]\ttrain-logloss:11.94125\ttrain-auc:0.67588\ttrain-error:0.32413\ttest-logloss:0.00000\ttest-auc:nan\ttest-error:0.00000\n",
      "[21:07:22] WARNING: ../src/metric/auc.cc:307: Dataset contains only positive or negative samples.\n",
      "[130]\ttrain-logloss:11.92324\ttrain-auc:0.67637\ttrain-error:0.32364\ttest-logloss:0.00000\ttest-auc:nan\ttest-error:0.00000\n",
      "[21:07:22] WARNING: ../src/metric/auc.cc:307: Dataset contains only positive or negative samples.\n",
      "[131]\ttrain-logloss:11.88850\ttrain-auc:0.67731\ttrain-error:0.32269\ttest-logloss:0.00000\ttest-auc:nan\ttest-error:0.00000\n",
      "[21:07:22] WARNING: ../src/metric/auc.cc:307: Dataset contains only positive or negative samples.\n",
      "[132]\ttrain-logloss:11.88722\ttrain-auc:0.67734\ttrain-error:0.32266\ttest-logloss:0.00000\ttest-auc:nan\ttest-error:0.00000\n",
      "[21:07:22] WARNING: ../src/metric/auc.cc:307: Dataset contains only positive or negative samples.\n",
      "[133]\ttrain-logloss:11.88464\ttrain-auc:0.67741\ttrain-error:0.32259\ttest-logloss:0.00000\ttest-auc:nan\ttest-error:0.00000\n",
      "[21:07:22] WARNING: ../src/metric/auc.cc:307: Dataset contains only positive or negative samples.\n",
      "[134]\ttrain-logloss:11.88207\ttrain-auc:0.67748\ttrain-error:0.32252\ttest-logloss:0.00000\ttest-auc:nan\ttest-error:0.00000\n",
      "[21:07:22] WARNING: ../src/metric/auc.cc:307: Dataset contains only positive or negative samples.\n",
      "[135]\ttrain-logloss:11.88078\ttrain-auc:0.67752\ttrain-error:0.32249\ttest-logloss:0.00000\ttest-auc:nan\ttest-error:0.00000\n",
      "[21:07:22] WARNING: ../src/metric/auc.cc:307: Dataset contains only positive or negative samples.\n",
      "[136]\ttrain-logloss:11.84862\ttrain-auc:0.67839\ttrain-error:0.32161\ttest-logloss:0.00000\ttest-auc:nan\ttest-error:0.00000\n",
      "[21:07:22] WARNING: ../src/metric/auc.cc:307: Dataset contains only positive or negative samples.\n",
      "[137]\ttrain-logloss:11.84991\ttrain-auc:0.67836\ttrain-error:0.32165\ttest-logloss:0.00000\ttest-auc:nan\ttest-error:0.00000\n",
      "[21:07:22] WARNING: ../src/metric/auc.cc:307: Dataset contains only positive or negative samples.\n",
      "[138]\ttrain-logloss:11.83962\ttrain-auc:0.67864\ttrain-error:0.32137\ttest-logloss:0.00000\ttest-auc:nan\ttest-error:0.00000\n",
      "[21:07:22] WARNING: ../src/metric/auc.cc:307: Dataset contains only positive or negative samples.\n",
      "[139]\ttrain-logloss:11.83318\ttrain-auc:0.67881\ttrain-error:0.32119\ttest-logloss:0.00000\ttest-auc:nan\ttest-error:0.00000\n",
      "[21:07:22] WARNING: ../src/metric/auc.cc:307: Dataset contains only positive or negative samples.\n",
      "[140]\ttrain-logloss:11.81389\ttrain-auc:0.67933\ttrain-error:0.32067\ttest-logloss:0.00000\ttest-auc:nan\ttest-error:0.00000\n",
      "[21:07:22] WARNING: ../src/metric/auc.cc:307: Dataset contains only positive or negative samples.\n",
      "[141]\ttrain-logloss:11.79973\ttrain-auc:0.67972\ttrain-error:0.32028\ttest-logloss:0.00000\ttest-auc:nan\ttest-error:0.00000\n",
      "[21:07:22] WARNING: ../src/metric/auc.cc:307: Dataset contains only positive or negative samples.\n",
      "[142]\ttrain-logloss:11.78816\ttrain-auc:0.68003\ttrain-error:0.31997\ttest-logloss:0.00000\ttest-auc:nan\ttest-error:0.00000\n",
      "[21:07:22] WARNING: ../src/metric/auc.cc:307: Dataset contains only positive or negative samples.\n",
      "[143]\ttrain-logloss:11.77272\ttrain-auc:0.68045\ttrain-error:0.31955\ttest-logloss:0.00000\ttest-auc:nan\ttest-error:0.00000\n",
      "[21:07:22] WARNING: ../src/metric/auc.cc:307: Dataset contains only positive or negative samples.\n",
      "[144]\ttrain-logloss:11.77529\ttrain-auc:0.68038\ttrain-error:0.31962\ttest-logloss:0.00000\ttest-auc:nan\ttest-error:0.00000\n",
      "[21:07:22] WARNING: ../src/metric/auc.cc:307: Dataset contains only positive or negative samples.\n",
      "[145]\ttrain-logloss:11.76757\ttrain-auc:0.68059\ttrain-error:0.31941\ttest-logloss:0.00000\ttest-auc:nan\ttest-error:0.00000\n",
      "[21:07:22] WARNING: ../src/metric/auc.cc:307: Dataset contains only positive or negative samples.\n",
      "[146]\ttrain-logloss:11.76757\ttrain-auc:0.68059\ttrain-error:0.31941\ttest-logloss:0.00000\ttest-auc:nan\ttest-error:0.00000\n",
      "[21:07:22] WARNING: ../src/metric/auc.cc:307: Dataset contains only positive or negative samples.\n",
      "[147]\ttrain-logloss:11.75342\ttrain-auc:0.68097\ttrain-error:0.31903\ttest-logloss:0.00000\ttest-auc:nan\ttest-error:0.00000\n",
      "[21:07:22] WARNING: ../src/metric/auc.cc:307: Dataset contains only positive or negative samples.\n",
      "[148]\ttrain-logloss:11.75342\ttrain-auc:0.68097\ttrain-error:0.31903\ttest-logloss:0.00000\ttest-auc:nan\ttest-error:0.00000\n",
      "[21:07:22] WARNING: ../src/metric/auc.cc:307: Dataset contains only positive or negative samples.\n",
      "[149]\ttrain-logloss:11.73669\ttrain-auc:0.68143\ttrain-error:0.31857\ttest-logloss:0.00000\ttest-auc:nan\ttest-error:0.00000\n",
      "150-rounds Training finished ...\t\t(0.789s)\n"
     ]
    }
   ],
   "source": [
    "num_round = 150\n",
    "t0 = time()\n",
    "sh_bst_sm = xgb.train(param_sh, xg_train_sh, num_round, watchlist)\n",
    "print(f\"{num_round}-rounds Training finished ...\\t\\t({time()-t0:.3f}s)\")"
   ]
  },
  {
   "cell_type": "code",
   "execution_count": 131,
   "metadata": {},
   "outputs": [
    {
     "name": "stdout",
     "output_type": "stream",
     "text": [
      "Test error using softmax = 0.0\n"
     ]
    }
   ],
   "source": [
    "# get prediction\n",
    "pred_sh = sh_bst_sm.predict(xg_test_sh)\n",
    "error_rate = np.sum(pred_sh != y_test_sh) / y_test_sh.shape[0]\n",
    "print('Test error using softmax = {}'.format(error_rate))"
   ]
  },
  {
   "cell_type": "code",
   "execution_count": 132,
   "metadata": {},
   "outputs": [
    {
     "data": {
      "text/plain": [
       "(Counter({1.0: 1}), Counter({1: 1}))"
      ]
     },
     "execution_count": 132,
     "metadata": {},
     "output_type": "execute_result"
    }
   ],
   "source": [
    "Counter(pred_sh), Counter(y_test_sh)"
   ]
  },
  {
   "cell_type": "code",
   "execution_count": 133,
   "metadata": {},
   "outputs": [
    {
     "name": "stdout",
     "output_type": "stream",
     "text": [
      "              precision    recall  f1-score   support\n",
      "\n",
      "           1       1.00      1.00      1.00         1\n",
      "\n",
      "    accuracy                           1.00         1\n",
      "   macro avg       1.00      1.00      1.00         1\n",
      "weighted avg       1.00      1.00      1.00         1\n",
      "\n"
     ]
    }
   ],
   "source": [
    "report_sh = metrics.classification_report(list(y_test_sh), list(pred_sh))\n",
    "print(report_sh)"
   ]
  },
  {
   "cell_type": "code",
   "execution_count": 134,
   "metadata": {},
   "outputs": [
    {
     "data": {
      "text/plain": [
       "array([0. , 0.5])"
      ]
     },
     "execution_count": 134,
     "metadata": {},
     "output_type": "execute_result"
    }
   ],
   "source": [
    "aucs_sh = auc(y_test_sh.astype(np.uint8), pred_sh.astype(np.uint8), [0, 1])\n",
    "aucs_sh"
   ]
  },
  {
   "cell_type": "markdown",
   "metadata": {},
   "source": [
    "### 调参"
   ]
  },
  {
   "cell_type": "code",
   "execution_count": 39,
   "metadata": {
    "tags": []
   },
   "outputs": [],
   "source": [
    "base_param_sh = {  # 基本参数，不需要调参\n",
    "    'objective': 'binary:hinge',\n",
    "    'eta': 0.1,\n",
    "    'nthread': 8,\n",
    "#     'num_class': 10,\n",
    "    'gpu_id': 0,\n",
    "    'tree_method': 'gpu_hist',\n",
    "    'eval_metric': ['logloss', 'auc', 'error']\n",
    "} \n",
    "# 需要调参的参数\n",
    "ps1 = {  \n",
    "    'max_depth': list(range(5, 10, 1)),\n",
    "    'min_child_weight': list(range(1, 10, 2)),\n",
    "}\n",
    "\n",
    "ps2 = {\n",
    "    'gamma': [0.1, 0.2, 0.3, 0.4, 0.5, 0.6]\n",
    "}\n",
    "\n",
    "ps3 = {\n",
    "    'subsample':  [i/10.0 for i in range(6,11,1)], \n",
    "    'colsample_bytree':  [i/10.0 for i in range(6,11,1)] \n",
    "}\n",
    "\n",
    "ps4 = {'reg_alpha': [0, 0.1, 0.2, 0.5, 1, 1.5, 2, 4]}\n",
    "\n",
    "\n",
    "# com_ps_sh = list(ParameterGrid(ps_sh))\n",
    "\n",
    "\n",
    "# all_params_sh = [base_param_sh.copy() for _ in range(len(com_ps_sh))] \n",
    "# for i in range(len(com_ps_sh)):\n",
    "#     all_params_sh[i].update(com_ps_sh[i])\n",
    "\n",
    "# # print(com_ps_sh)\n",
    "# print(all_params_sh.__len__())"
   ]
  },
  {
   "cell_type": "code",
   "execution_count": 550,
   "metadata": {},
   "outputs": [
    {
     "name": "stdout",
     "output_type": "stream",
     "text": [
      "Data preparing finished ...\t\t(24.924s)\n"
     ]
    }
   ],
   "source": [
    "t0 = time()\n",
    "xg_train_sh = xgb.DMatrix(X_train_sh.values, label=y_train_sh.values, enable_categorical=True)\n",
    "xg_test_sh = xgb.DMatrix(X_test_sh.values, label=y_test_sh.values, enable_categorical=True)\n",
    "print(f\"Data preparing finished ...\\t\\t({time()-t0:.3f}s)\")"
   ]
  },
  {
   "cell_type": "code",
   "execution_count": 41,
   "metadata": {
    "collapsed": true,
    "jupyter": {
     "outputs_hidden": true
    },
    "tags": []
   },
   "outputs": [
    {
     "name": "stdout",
     "output_type": "stream",
     "text": [
      "开始搜索：max_depth=[5, 6, 7, 8, 9], min_child_weight=[1, 3, 5, 7, 9]\n",
      "待搜索的参数组合数量：25\n",
      "1 / 25: 150-rounds Training finished param={'objective': 'binary:hinge', 'eta': 0.1, 'nthread': 8, 'gpu_id': 0, 'tree_method': 'gpu_hist', 'eval_metric': ['logloss', 'auc', 'error'], 'max_depth': 5, 'min_child_weight': 1} ...\t\t(3.035s)\n",
      "2 / 25: 150-rounds Training finished param={'objective': 'binary:hinge', 'eta': 0.1, 'nthread': 8, 'gpu_id': 0, 'tree_method': 'gpu_hist', 'eval_metric': ['logloss', 'auc', 'error'], 'max_depth': 6, 'min_child_weight': 1} ...\t\t(4.271s)\n",
      "3 / 25: 150-rounds Training finished param={'objective': 'binary:hinge', 'eta': 0.1, 'nthread': 8, 'gpu_id': 0, 'tree_method': 'gpu_hist', 'eval_metric': ['logloss', 'auc', 'error'], 'max_depth': 7, 'min_child_weight': 1} ...\t\t(6.333s)\n",
      "4 / 25: 150-rounds Training finished param={'objective': 'binary:hinge', 'eta': 0.1, 'nthread': 8, 'gpu_id': 0, 'tree_method': 'gpu_hist', 'eval_metric': ['logloss', 'auc', 'error'], 'max_depth': 8, 'min_child_weight': 1} ...\t\t(9.294s)\n",
      "5 / 25: 150-rounds Training finished param={'objective': 'binary:hinge', 'eta': 0.1, 'nthread': 8, 'gpu_id': 0, 'tree_method': 'gpu_hist', 'eval_metric': ['logloss', 'auc', 'error'], 'max_depth': 9, 'min_child_weight': 1} ...\t\t(12.788s)\n",
      "6 / 25: 150-rounds Training finished param={'objective': 'binary:hinge', 'eta': 0.1, 'nthread': 8, 'gpu_id': 0, 'tree_method': 'gpu_hist', 'eval_metric': ['logloss', 'auc', 'error'], 'max_depth': 5, 'min_child_weight': 3} ...\t\t(2.993s)\n",
      "7 / 25: 150-rounds Training finished param={'objective': 'binary:hinge', 'eta': 0.1, 'nthread': 8, 'gpu_id': 0, 'tree_method': 'gpu_hist', 'eval_metric': ['logloss', 'auc', 'error'], 'max_depth': 6, 'min_child_weight': 3} ...\t\t(4.183s)\n",
      "8 / 25: 150-rounds Training finished param={'objective': 'binary:hinge', 'eta': 0.1, 'nthread': 8, 'gpu_id': 0, 'tree_method': 'gpu_hist', 'eval_metric': ['logloss', 'auc', 'error'], 'max_depth': 7, 'min_child_weight': 3} ...\t\t(6.127s)\n",
      "9 / 25: 150-rounds Training finished param={'objective': 'binary:hinge', 'eta': 0.1, 'nthread': 8, 'gpu_id': 0, 'tree_method': 'gpu_hist', 'eval_metric': ['logloss', 'auc', 'error'], 'max_depth': 8, 'min_child_weight': 3} ...\t\t(9.131s)\n",
      "10 / 25: 150-rounds Training finished param={'objective': 'binary:hinge', 'eta': 0.1, 'nthread': 8, 'gpu_id': 0, 'tree_method': 'gpu_hist', 'eval_metric': ['logloss', 'auc', 'error'], 'max_depth': 9, 'min_child_weight': 3} ...\t\t(12.637s)\n",
      "11 / 25: 150-rounds Training finished param={'objective': 'binary:hinge', 'eta': 0.1, 'nthread': 8, 'gpu_id': 0, 'tree_method': 'gpu_hist', 'eval_metric': ['logloss', 'auc', 'error'], 'max_depth': 5, 'min_child_weight': 5} ...\t\t(2.996s)\n",
      "12 / 25: 150-rounds Training finished param={'objective': 'binary:hinge', 'eta': 0.1, 'nthread': 8, 'gpu_id': 0, 'tree_method': 'gpu_hist', 'eval_metric': ['logloss', 'auc', 'error'], 'max_depth': 6, 'min_child_weight': 5} ...\t\t(4.244s)\n",
      "13 / 25: 150-rounds Training finished param={'objective': 'binary:hinge', 'eta': 0.1, 'nthread': 8, 'gpu_id': 0, 'tree_method': 'gpu_hist', 'eval_metric': ['logloss', 'auc', 'error'], 'max_depth': 7, 'min_child_weight': 5} ...\t\t(6.028s)\n",
      "14 / 25: 150-rounds Training finished param={'objective': 'binary:hinge', 'eta': 0.1, 'nthread': 8, 'gpu_id': 0, 'tree_method': 'gpu_hist', 'eval_metric': ['logloss', 'auc', 'error'], 'max_depth': 8, 'min_child_weight': 5} ...\t\t(8.756s)\n",
      "15 / 25: 150-rounds Training finished param={'objective': 'binary:hinge', 'eta': 0.1, 'nthread': 8, 'gpu_id': 0, 'tree_method': 'gpu_hist', 'eval_metric': ['logloss', 'auc', 'error'], 'max_depth': 9, 'min_child_weight': 5} ...\t\t(12.128s)\n",
      "16 / 25: 150-rounds Training finished param={'objective': 'binary:hinge', 'eta': 0.1, 'nthread': 8, 'gpu_id': 0, 'tree_method': 'gpu_hist', 'eval_metric': ['logloss', 'auc', 'error'], 'max_depth': 5, 'min_child_weight': 7} ...\t\t(2.959s)\n",
      "17 / 25: 150-rounds Training finished param={'objective': 'binary:hinge', 'eta': 0.1, 'nthread': 8, 'gpu_id': 0, 'tree_method': 'gpu_hist', 'eval_metric': ['logloss', 'auc', 'error'], 'max_depth': 6, 'min_child_weight': 7} ...\t\t(4.105s)\n",
      "18 / 25: 150-rounds Training finished param={'objective': 'binary:hinge', 'eta': 0.1, 'nthread': 8, 'gpu_id': 0, 'tree_method': 'gpu_hist', 'eval_metric': ['logloss', 'auc', 'error'], 'max_depth': 7, 'min_child_weight': 7} ...\t\t(5.897s)\n",
      "19 / 25: 150-rounds Training finished param={'objective': 'binary:hinge', 'eta': 0.1, 'nthread': 8, 'gpu_id': 0, 'tree_method': 'gpu_hist', 'eval_metric': ['logloss', 'auc', 'error'], 'max_depth': 8, 'min_child_weight': 7} ...\t\t(8.433s)\n",
      "20 / 25: 150-rounds Training finished param={'objective': 'binary:hinge', 'eta': 0.1, 'nthread': 8, 'gpu_id': 0, 'tree_method': 'gpu_hist', 'eval_metric': ['logloss', 'auc', 'error'], 'max_depth': 9, 'min_child_weight': 7} ...\t\t(11.471s)\n",
      "21 / 25: 150-rounds Training finished param={'objective': 'binary:hinge', 'eta': 0.1, 'nthread': 8, 'gpu_id': 0, 'tree_method': 'gpu_hist', 'eval_metric': ['logloss', 'auc', 'error'], 'max_depth': 5, 'min_child_weight': 9} ...\t\t(2.935s)\n",
      "22 / 25: 150-rounds Training finished param={'objective': 'binary:hinge', 'eta': 0.1, 'nthread': 8, 'gpu_id': 0, 'tree_method': 'gpu_hist', 'eval_metric': ['logloss', 'auc', 'error'], 'max_depth': 6, 'min_child_weight': 9} ...\t\t(4.050s)\n",
      "23 / 25: 150-rounds Training finished param={'objective': 'binary:hinge', 'eta': 0.1, 'nthread': 8, 'gpu_id': 0, 'tree_method': 'gpu_hist', 'eval_metric': ['logloss', 'auc', 'error'], 'max_depth': 7, 'min_child_weight': 9} ...\t\t(5.802s)\n",
      "24 / 25: 150-rounds Training finished param={'objective': 'binary:hinge', 'eta': 0.1, 'nthread': 8, 'gpu_id': 0, 'tree_method': 'gpu_hist', 'eval_metric': ['logloss', 'auc', 'error'], 'max_depth': 8, 'min_child_weight': 9} ...\t\t(8.152s)\n",
      "25 / 25: 150-rounds Training finished param={'objective': 'binary:hinge', 'eta': 0.1, 'nthread': 8, 'gpu_id': 0, 'tree_method': 'gpu_hist', 'eval_metric': ['logloss', 'auc', 'error'], 'max_depth': 9, 'min_child_weight': 9} ...\t\t(11.286s)\n",
      "eta=0.1, eval_metric=['logloss', 'auc', 'error'], gpu_id=0, max_depth=5, min_child_weight=1, nthread=8, objective=binary:hinge, tree_method=gpu_hist\n",
      "eta=0.1, eval_metric=['logloss', 'auc', 'error'], gpu_id=0, max_depth=7, min_child_weight=9, nthread=8, objective=binary:hinge, tree_method=gpu_hist\n",
      "开始搜索：gamma=[0.1, 0.2, 0.3, 0.4, 0.5, 0.6]\n",
      "待搜索的参数组合数量：6\n",
      "1 / 6: 150-rounds Training finished param={'objective': 'binary:hinge', 'eta': 0.1, 'nthread': 8, 'gpu_id': 0, 'tree_method': 'gpu_hist', 'eval_metric': ['logloss', 'auc', 'error'], 'max_depth': 5, 'min_child_weight': 1, 'gamma': 0.1} ...\t\t(3.033s)\n",
      "2 / 6: 150-rounds Training finished param={'objective': 'binary:hinge', 'eta': 0.1, 'nthread': 8, 'gpu_id': 0, 'tree_method': 'gpu_hist', 'eval_metric': ['logloss', 'auc', 'error'], 'max_depth': 5, 'min_child_weight': 1, 'gamma': 0.2} ...\t\t(3.015s)\n",
      "3 / 6: 150-rounds Training finished param={'objective': 'binary:hinge', 'eta': 0.1, 'nthread': 8, 'gpu_id': 0, 'tree_method': 'gpu_hist', 'eval_metric': ['logloss', 'auc', 'error'], 'max_depth': 5, 'min_child_weight': 1, 'gamma': 0.3} ...\t\t(3.015s)\n",
      "4 / 6: 150-rounds Training finished param={'objective': 'binary:hinge', 'eta': 0.1, 'nthread': 8, 'gpu_id': 0, 'tree_method': 'gpu_hist', 'eval_metric': ['logloss', 'auc', 'error'], 'max_depth': 5, 'min_child_weight': 1, 'gamma': 0.4} ...\t\t(3.057s)\n",
      "5 / 6: 150-rounds Training finished param={'objective': 'binary:hinge', 'eta': 0.1, 'nthread': 8, 'gpu_id': 0, 'tree_method': 'gpu_hist', 'eval_metric': ['logloss', 'auc', 'error'], 'max_depth': 5, 'min_child_weight': 1, 'gamma': 0.5} ...\t\t(3.028s)\n",
      "6 / 6: 150-rounds Training finished param={'objective': 'binary:hinge', 'eta': 0.1, 'nthread': 8, 'gpu_id': 0, 'tree_method': 'gpu_hist', 'eval_metric': ['logloss', 'auc', 'error'], 'max_depth': 5, 'min_child_weight': 1, 'gamma': 0.6} ...\t\t(3.047s)\n",
      "eta=0.1, eval_metric=['logloss', 'auc', 'error'], gamma=0.1, gpu_id=0, max_depth=5, min_child_weight=1, nthread=8, objective=binary:hinge, tree_method=gpu_hist\n",
      "eta=0.1, eval_metric=['logloss', 'auc', 'error'], gamma=0.3, gpu_id=0, max_depth=5, min_child_weight=1, nthread=8, objective=binary:hinge, tree_method=gpu_hist\n",
      "开始搜索：colsample_bytree=[0.6, 0.7, 0.8, 0.9, 1.0], subsample=[0.6, 0.7, 0.8, 0.9, 1.0]\n",
      "待搜索的参数组合数量：25\n",
      "1 / 25: 150-rounds Training finished param={'objective': 'binary:hinge', 'eta': 0.1, 'nthread': 8, 'gpu_id': 0, 'tree_method': 'gpu_hist', 'eval_metric': ['logloss', 'auc', 'error'], 'max_depth': 5, 'min_child_weight': 1, 'gamma': 0.1, 'subsample': 0.6, 'colsample_bytree': 0.6} ...\t\t(2.884s)\n",
      "2 / 25: 150-rounds Training finished param={'objective': 'binary:hinge', 'eta': 0.1, 'nthread': 8, 'gpu_id': 0, 'tree_method': 'gpu_hist', 'eval_metric': ['logloss', 'auc', 'error'], 'max_depth': 5, 'min_child_weight': 1, 'gamma': 0.1, 'subsample': 0.7, 'colsample_bytree': 0.6} ...\t\t(2.922s)\n",
      "3 / 25: 150-rounds Training finished param={'objective': 'binary:hinge', 'eta': 0.1, 'nthread': 8, 'gpu_id': 0, 'tree_method': 'gpu_hist', 'eval_metric': ['logloss', 'auc', 'error'], 'max_depth': 5, 'min_child_weight': 1, 'gamma': 0.1, 'subsample': 0.8, 'colsample_bytree': 0.6} ...\t\t(2.947s)\n",
      "4 / 25: 150-rounds Training finished param={'objective': 'binary:hinge', 'eta': 0.1, 'nthread': 8, 'gpu_id': 0, 'tree_method': 'gpu_hist', 'eval_metric': ['logloss', 'auc', 'error'], 'max_depth': 5, 'min_child_weight': 1, 'gamma': 0.1, 'subsample': 0.9, 'colsample_bytree': 0.6} ...\t\t(2.897s)\n",
      "5 / 25: 150-rounds Training finished param={'objective': 'binary:hinge', 'eta': 0.1, 'nthread': 8, 'gpu_id': 0, 'tree_method': 'gpu_hist', 'eval_metric': ['logloss', 'auc', 'error'], 'max_depth': 5, 'min_child_weight': 1, 'gamma': 0.1, 'subsample': 1.0, 'colsample_bytree': 0.6} ...\t\t(2.930s)\n",
      "6 / 25: 150-rounds Training finished param={'objective': 'binary:hinge', 'eta': 0.1, 'nthread': 8, 'gpu_id': 0, 'tree_method': 'gpu_hist', 'eval_metric': ['logloss', 'auc', 'error'], 'max_depth': 5, 'min_child_weight': 1, 'gamma': 0.1, 'subsample': 0.6, 'colsample_bytree': 0.7} ...\t\t(2.918s)\n",
      "7 / 25: 150-rounds Training finished param={'objective': 'binary:hinge', 'eta': 0.1, 'nthread': 8, 'gpu_id': 0, 'tree_method': 'gpu_hist', 'eval_metric': ['logloss', 'auc', 'error'], 'max_depth': 5, 'min_child_weight': 1, 'gamma': 0.1, 'subsample': 0.7, 'colsample_bytree': 0.7} ...\t\t(2.911s)\n",
      "8 / 25: 150-rounds Training finished param={'objective': 'binary:hinge', 'eta': 0.1, 'nthread': 8, 'gpu_id': 0, 'tree_method': 'gpu_hist', 'eval_metric': ['logloss', 'auc', 'error'], 'max_depth': 5, 'min_child_weight': 1, 'gamma': 0.1, 'subsample': 0.8, 'colsample_bytree': 0.7} ...\t\t(2.913s)\n",
      "9 / 25: 150-rounds Training finished param={'objective': 'binary:hinge', 'eta': 0.1, 'nthread': 8, 'gpu_id': 0, 'tree_method': 'gpu_hist', 'eval_metric': ['logloss', 'auc', 'error'], 'max_depth': 5, 'min_child_weight': 1, 'gamma': 0.1, 'subsample': 0.9, 'colsample_bytree': 0.7} ...\t\t(2.894s)\n",
      "10 / 25: 150-rounds Training finished param={'objective': 'binary:hinge', 'eta': 0.1, 'nthread': 8, 'gpu_id': 0, 'tree_method': 'gpu_hist', 'eval_metric': ['logloss', 'auc', 'error'], 'max_depth': 5, 'min_child_weight': 1, 'gamma': 0.1, 'subsample': 1.0, 'colsample_bytree': 0.7} ...\t\t(2.918s)\n",
      "11 / 25: 150-rounds Training finished param={'objective': 'binary:hinge', 'eta': 0.1, 'nthread': 8, 'gpu_id': 0, 'tree_method': 'gpu_hist', 'eval_metric': ['logloss', 'auc', 'error'], 'max_depth': 5, 'min_child_weight': 1, 'gamma': 0.1, 'subsample': 0.6, 'colsample_bytree': 0.8} ...\t\t(2.878s)\n",
      "12 / 25: 150-rounds Training finished param={'objective': 'binary:hinge', 'eta': 0.1, 'nthread': 8, 'gpu_id': 0, 'tree_method': 'gpu_hist', 'eval_metric': ['logloss', 'auc', 'error'], 'max_depth': 5, 'min_child_weight': 1, 'gamma': 0.1, 'subsample': 0.7, 'colsample_bytree': 0.8} ...\t\t(2.942s)\n",
      "13 / 25: 150-rounds Training finished param={'objective': 'binary:hinge', 'eta': 0.1, 'nthread': 8, 'gpu_id': 0, 'tree_method': 'gpu_hist', 'eval_metric': ['logloss', 'auc', 'error'], 'max_depth': 5, 'min_child_weight': 1, 'gamma': 0.1, 'subsample': 0.8, 'colsample_bytree': 0.8} ...\t\t(2.914s)\n",
      "14 / 25: 150-rounds Training finished param={'objective': 'binary:hinge', 'eta': 0.1, 'nthread': 8, 'gpu_id': 0, 'tree_method': 'gpu_hist', 'eval_metric': ['logloss', 'auc', 'error'], 'max_depth': 5, 'min_child_weight': 1, 'gamma': 0.1, 'subsample': 0.9, 'colsample_bytree': 0.8} ...\t\t(2.922s)\n",
      "15 / 25: 150-rounds Training finished param={'objective': 'binary:hinge', 'eta': 0.1, 'nthread': 8, 'gpu_id': 0, 'tree_method': 'gpu_hist', 'eval_metric': ['logloss', 'auc', 'error'], 'max_depth': 5, 'min_child_weight': 1, 'gamma': 0.1, 'subsample': 1.0, 'colsample_bytree': 0.8} ...\t\t(2.936s)\n",
      "16 / 25: 150-rounds Training finished param={'objective': 'binary:hinge', 'eta': 0.1, 'nthread': 8, 'gpu_id': 0, 'tree_method': 'gpu_hist', 'eval_metric': ['logloss', 'auc', 'error'], 'max_depth': 5, 'min_child_weight': 1, 'gamma': 0.1, 'subsample': 0.6, 'colsample_bytree': 0.9} ...\t\t(2.921s)\n",
      "17 / 25: 150-rounds Training finished param={'objective': 'binary:hinge', 'eta': 0.1, 'nthread': 8, 'gpu_id': 0, 'tree_method': 'gpu_hist', 'eval_metric': ['logloss', 'auc', 'error'], 'max_depth': 5, 'min_child_weight': 1, 'gamma': 0.1, 'subsample': 0.7, 'colsample_bytree': 0.9} ...\t\t(2.938s)\n",
      "18 / 25: 150-rounds Training finished param={'objective': 'binary:hinge', 'eta': 0.1, 'nthread': 8, 'gpu_id': 0, 'tree_method': 'gpu_hist', 'eval_metric': ['logloss', 'auc', 'error'], 'max_depth': 5, 'min_child_weight': 1, 'gamma': 0.1, 'subsample': 0.8, 'colsample_bytree': 0.9} ...\t\t(2.965s)\n",
      "19 / 25: 150-rounds Training finished param={'objective': 'binary:hinge', 'eta': 0.1, 'nthread': 8, 'gpu_id': 0, 'tree_method': 'gpu_hist', 'eval_metric': ['logloss', 'auc', 'error'], 'max_depth': 5, 'min_child_weight': 1, 'gamma': 0.1, 'subsample': 0.9, 'colsample_bytree': 0.9} ...\t\t(3.075s)\n",
      "20 / 25: 150-rounds Training finished param={'objective': 'binary:hinge', 'eta': 0.1, 'nthread': 8, 'gpu_id': 0, 'tree_method': 'gpu_hist', 'eval_metric': ['logloss', 'auc', 'error'], 'max_depth': 5, 'min_child_weight': 1, 'gamma': 0.1, 'subsample': 1.0, 'colsample_bytree': 0.9} ...\t\t(2.903s)\n",
      "21 / 25: 150-rounds Training finished param={'objective': 'binary:hinge', 'eta': 0.1, 'nthread': 8, 'gpu_id': 0, 'tree_method': 'gpu_hist', 'eval_metric': ['logloss', 'auc', 'error'], 'max_depth': 5, 'min_child_weight': 1, 'gamma': 0.1, 'subsample': 0.6, 'colsample_bytree': 1.0} ...\t\t(2.902s)\n",
      "22 / 25: 150-rounds Training finished param={'objective': 'binary:hinge', 'eta': 0.1, 'nthread': 8, 'gpu_id': 0, 'tree_method': 'gpu_hist', 'eval_metric': ['logloss', 'auc', 'error'], 'max_depth': 5, 'min_child_weight': 1, 'gamma': 0.1, 'subsample': 0.7, 'colsample_bytree': 1.0} ...\t\t(2.910s)\n",
      "23 / 25: 150-rounds Training finished param={'objective': 'binary:hinge', 'eta': 0.1, 'nthread': 8, 'gpu_id': 0, 'tree_method': 'gpu_hist', 'eval_metric': ['logloss', 'auc', 'error'], 'max_depth': 5, 'min_child_weight': 1, 'gamma': 0.1, 'subsample': 0.8, 'colsample_bytree': 1.0} ...\t\t(2.951s)\n",
      "24 / 25: 150-rounds Training finished param={'objective': 'binary:hinge', 'eta': 0.1, 'nthread': 8, 'gpu_id': 0, 'tree_method': 'gpu_hist', 'eval_metric': ['logloss', 'auc', 'error'], 'max_depth': 5, 'min_child_weight': 1, 'gamma': 0.1, 'subsample': 0.9, 'colsample_bytree': 1.0} ...\t\t(2.914s)\n",
      "25 / 25: 150-rounds Training finished param={'objective': 'binary:hinge', 'eta': 0.1, 'nthread': 8, 'gpu_id': 0, 'tree_method': 'gpu_hist', 'eval_metric': ['logloss', 'auc', 'error'], 'max_depth': 5, 'min_child_weight': 1, 'gamma': 0.1, 'subsample': 1.0, 'colsample_bytree': 1.0} ...\t\t(2.935s)\n",
      "colsample_bytree=0.6, eta=0.1, eval_metric=['logloss', 'auc', 'error'], gamma=0.1, gpu_id=0, max_depth=5, min_child_weight=1, nthread=8, objective=binary:hinge, subsample=0.6, tree_method=gpu_hist\n",
      "colsample_bytree=0.6, eta=0.1, eval_metric=['logloss', 'auc', 'error'], gamma=0.1, gpu_id=0, max_depth=5, min_child_weight=1, nthread=8, objective=binary:hinge, subsample=0.8, tree_method=gpu_hist\n",
      "开始搜索：reg_alpha=[0, 0.1, 0.2, 0.5, 1, 1.5, 2, 4]\n",
      "待搜索的参数组合数量：8\n",
      "1 / 8: 150-rounds Training finished param={'objective': 'binary:hinge', 'eta': 0.1, 'nthread': 8, 'gpu_id': 0, 'tree_method': 'gpu_hist', 'eval_metric': ['logloss', 'auc', 'error'], 'max_depth': 5, 'min_child_weight': 1, 'gamma': 0.1, 'subsample': 0.6, 'colsample_bytree': 0.6, 'reg_alpha': 0} ...\t\t(2.778s)\n",
      "2 / 8: 150-rounds Training finished param={'objective': 'binary:hinge', 'eta': 0.1, 'nthread': 8, 'gpu_id': 0, 'tree_method': 'gpu_hist', 'eval_metric': ['logloss', 'auc', 'error'], 'max_depth': 5, 'min_child_weight': 1, 'gamma': 0.1, 'subsample': 0.6, 'colsample_bytree': 0.6, 'reg_alpha': 0.1} ...\t\t(2.773s)\n",
      "3 / 8: 150-rounds Training finished param={'objective': 'binary:hinge', 'eta': 0.1, 'nthread': 8, 'gpu_id': 0, 'tree_method': 'gpu_hist', 'eval_metric': ['logloss', 'auc', 'error'], 'max_depth': 5, 'min_child_weight': 1, 'gamma': 0.1, 'subsample': 0.6, 'colsample_bytree': 0.6, 'reg_alpha': 0.2} ...\t\t(2.782s)\n",
      "4 / 8: 150-rounds Training finished param={'objective': 'binary:hinge', 'eta': 0.1, 'nthread': 8, 'gpu_id': 0, 'tree_method': 'gpu_hist', 'eval_metric': ['logloss', 'auc', 'error'], 'max_depth': 5, 'min_child_weight': 1, 'gamma': 0.1, 'subsample': 0.6, 'colsample_bytree': 0.6, 'reg_alpha': 0.5} ...\t\t(2.783s)\n",
      "5 / 8: 150-rounds Training finished param={'objective': 'binary:hinge', 'eta': 0.1, 'nthread': 8, 'gpu_id': 0, 'tree_method': 'gpu_hist', 'eval_metric': ['logloss', 'auc', 'error'], 'max_depth': 5, 'min_child_weight': 1, 'gamma': 0.1, 'subsample': 0.6, 'colsample_bytree': 0.6, 'reg_alpha': 1} ...\t\t(2.803s)\n",
      "6 / 8: 150-rounds Training finished param={'objective': 'binary:hinge', 'eta': 0.1, 'nthread': 8, 'gpu_id': 0, 'tree_method': 'gpu_hist', 'eval_metric': ['logloss', 'auc', 'error'], 'max_depth': 5, 'min_child_weight': 1, 'gamma': 0.1, 'subsample': 0.6, 'colsample_bytree': 0.6, 'reg_alpha': 1.5} ...\t\t(2.803s)\n",
      "7 / 8: 150-rounds Training finished param={'objective': 'binary:hinge', 'eta': 0.1, 'nthread': 8, 'gpu_id': 0, 'tree_method': 'gpu_hist', 'eval_metric': ['logloss', 'auc', 'error'], 'max_depth': 5, 'min_child_weight': 1, 'gamma': 0.1, 'subsample': 0.6, 'colsample_bytree': 0.6, 'reg_alpha': 2} ...\t\t(2.817s)\n",
      "8 / 8: 150-rounds Training finished param={'objective': 'binary:hinge', 'eta': 0.1, 'nthread': 8, 'gpu_id': 0, 'tree_method': 'gpu_hist', 'eval_metric': ['logloss', 'auc', 'error'], 'max_depth': 5, 'min_child_weight': 1, 'gamma': 0.1, 'subsample': 0.6, 'colsample_bytree': 0.6, 'reg_alpha': 4} ...\t\t(2.815s)\n",
      "colsample_bytree=0.6, eta=0.1, eval_metric=['logloss', 'auc', 'error'], gamma=0.1, gpu_id=0, max_depth=5, min_child_weight=1, nthread=8, objective=binary:hinge, reg_alpha=0, subsample=0.6, tree_method=gpu_hist\n",
      "colsample_bytree=0.6, eta=0.1, eval_metric=['logloss', 'auc', 'error'], gamma=0.1, gpu_id=0, max_depth=5, min_child_weight=1, nthread=8, objective=binary:hinge, reg_alpha=0.5, subsample=0.6, tree_method=gpu_hist\n",
      "找到的最棒的参数是：\n",
      "colsample_bytree=0.6, eta=0.1, eval_metric=['logloss', 'auc', 'error'], gamma=0.1, gpu_id=0, max_depth=5, min_child_weight=1, nthread=8, objective=binary:hinge, reg_alpha=0, subsample=0.6, tree_method=gpu_hist\n"
     ]
    }
   ],
   "source": [
    "base_sh = base_param_sh.copy()\n",
    "grids_sh = [ps1, ps2, ps3, ps4]\n",
    "\n",
    "rets_sh = []\n",
    "for grid in grids_sh:\n",
    "    params = compose_param_grid(grid, base_sh)\n",
    "    print(f\"开始搜索：{dict_2_str(grid)}\\n待搜索的参数组合数量：{len(params)}\")\n",
    "    ret = gridsearch_cv_xgb(data_sh.values, is_share_res.values, params, n_round=150, verbose_eval=False, n_class=2)\n",
    "    arr = np.array([[-e['eval-error'] for e in ret], \n",
    "                    [-e['eval-logloss'] for e in ret],\n",
    "                    [e['eval-auc'] for e in ret], \n",
    "                    [e['w_auc'] for e in ret]], dtype=np.float32)\n",
    "    opt_idxs = list(set(arr.argmax(axis=1)))\n",
    "    for i in opt_idxs:\n",
    "        print(dict_2_str(ret[i]['param']))\n",
    "    opt_idx = opt_idxs[0]\n",
    "    opt_param = ret[opt_idx]['param']\n",
    "    base_sh.update(opt_param)\n",
    "    rets_sh.append(ret)\n",
    "    \n",
    "    ks = list(grid.keys())\n",
    "    ks = '-'.join(ks)\n",
    "    with open(f\"./logs/{ks}-is_share-{int(time())}.pkl\", \"wb\") as f:\n",
    "        pickle.dump(ret, f)\n",
    "    with open(f\"./logs/{ks}-is_share-{int(time())}.md\", \"w\") as f:\n",
    "        lines = []\n",
    "        for e in ret:\n",
    "            line = metric_2_str(e)\n",
    "            lines.append(line)\n",
    "            lines.append('\\n')\n",
    "        f.write(\"\\n\".join(lines))\n",
    "\n",
    "print(f\"找到的最棒的参数是：\\n{dict_2_str(base_sh)}\")"
   ]
  },
  {
   "cell_type": "code",
   "execution_count": 42,
   "metadata": {},
   "outputs": [
    {
     "data": {
      "text/plain": [
       "{'objective': 'binary:hinge',\n",
       " 'eta': 0.1,\n",
       " 'nthread': 8,\n",
       " 'gpu_id': 0,\n",
       " 'tree_method': 'gpu_hist',\n",
       " 'eval_metric': ['logloss', 'auc', 'error'],\n",
       " 'max_depth': 5,\n",
       " 'min_child_weight': 1,\n",
       " 'gamma': 0.1,\n",
       " 'subsample': 0.6,\n",
       " 'colsample_bytree': 0.6,\n",
       " 'reg_alpha': 0}"
      ]
     },
     "execution_count": 42,
     "metadata": {},
     "output_type": "execute_result"
    }
   ],
   "source": [
    "base_sh"
   ]
  },
  {
   "cell_type": "code",
   "execution_count": null,
   "metadata": {},
   "outputs": [],
   "source": [
    "gridsearch_results_sh = gridsearch_xgb(all_params_sh, xg_train_sh, xg_test_sh, num_round=150, n_class=2, verbose_eval=False)"
   ]
  },
  {
   "cell_type": "code",
   "execution_count": null,
   "metadata": {},
   "outputs": [],
   "source": [
    "gs_cv_results_sh = gridsearch_cv_xgb(data_sh.values, is_share_res.values, all_params_sh, n_round=150, verbose_eval=False, n_class=2)"
   ]
  },
  {
   "cell_type": "code",
   "execution_count": 753,
   "metadata": {},
   "outputs": [],
   "source": [
    "with open('greadsearch-cv-is_share.md', 'w') as f:\n",
    "    for ret in performance:\n",
    "        f.write(f\"# {', '.join([f'{k}={v}' for k, v in ret[0].items()])}\\n\")\n",
    "        for k, v in ret[1].items():\n",
    "            is_break = '\\n' if '\\n' in str(df) else ''\n",
    "            f.write(f\"- {k} :{is_break} {v}\\n\\n\")\n",
    "        f.write(f\"{'-'*50}\\n\\n\\n\")"
   ]
  },
  {
   "cell_type": "code",
   "execution_count": 765,
   "metadata": {},
   "outputs": [
    {
     "data": {
      "text/plain": [
       "48"
      ]
     },
     "execution_count": 765,
     "metadata": {},
     "output_type": "execute_result"
    }
   ],
   "source": [
    "mean_test_error = np.array([e[1]['mean_test_error'] for e in performance])\n",
    "mean_test_error.argmin()"
   ]
  },
  {
   "cell_type": "code",
   "execution_count": 617,
   "metadata": {},
   "outputs": [
    {
     "data": {
      "text/plain": [
       "{'objective': 'binary:hinge',\n",
       " 'eta': 0.1,\n",
       " 'nthread': 8,\n",
       " 'gpu_id': 0,\n",
       " 'tree_method': 'gpu_hist',\n",
       " 'gamma': 0.3,\n",
       " 'max_depth': 11,\n",
       " 'min_child_weight': 9}"
      ]
     },
     "execution_count": 617,
     "metadata": {},
     "output_type": "execute_result"
    }
   ],
   "source": [
    "arr = np.array([[-e['test_error'] for e in gridsearch_results_sh], [e['aucs'][1] for e in gridsearch_results_sh]], dtype=np.float32)\n",
    "opt_idxs_sh = arr.argmax(axis=1)\n",
    "if opt_idxs_sh[0] != opt_idxs_sh[1]:\n",
    "    warnings.warn(f\"最小误差与最大AUC对应的模型不一致 : {opt_idxs_sh}。选择误差最小的模型 : {opt_idxs_sh[0]}\")\n",
    "\n",
    "opt_idx_sh = opt_idxs_sh[0]\n",
    "all_params_sh[opt_idx_sh]"
   ]
  },
  {
   "cell_type": "code",
   "execution_count": 603,
   "metadata": {},
   "outputs": [
    {
     "data": {
      "text/plain": [
       "146"
      ]
     },
     "execution_count": 603,
     "metadata": {},
     "output_type": "execute_result"
    }
   ],
   "source": [
    "opt_idx_sh = opt_idxs_sh[0]\n",
    "opt_idx_sh"
   ]
  },
  {
   "cell_type": "code",
   "execution_count": 619,
   "metadata": {},
   "outputs": [
    {
     "name": "stdout",
     "output_type": "stream",
     "text": [
      "              precision    recall  f1-score   support\n",
      "\n",
      "         0.0       0.54      0.44      0.49      3053\n",
      "         1.0       0.50      0.60      0.54      2835\n",
      "\n",
      "    accuracy                           0.52      5888\n",
      "   macro avg       0.52      0.52      0.51      5888\n",
      "weighted avg       0.52      0.52      0.51      5888\n",
      "\n"
     ]
    }
   ],
   "source": [
    "print(gridsearch_results_sh[opt_idx_sh]['report'])"
   ]
  },
  {
   "cell_type": "code",
   "execution_count": 620,
   "metadata": {},
   "outputs": [
    {
     "data": {
      "text/html": [
       "<div>\n",
       "<style scoped>\n",
       "    .dataframe tbody tr th:only-of-type {\n",
       "        vertical-align: middle;\n",
       "    }\n",
       "\n",
       "    .dataframe tbody tr th {\n",
       "        vertical-align: top;\n",
       "    }\n",
       "\n",
       "    .dataframe thead th {\n",
       "        text-align: right;\n",
       "    }\n",
       "</style>\n",
       "<table border=\"1\" class=\"dataframe\">\n",
       "  <thead>\n",
       "    <tr style=\"text-align: right;\">\n",
       "      <th></th>\n",
       "      <th>test_error</th>\n",
       "      <th>aucs</th>\n",
       "      <th>w_auc</th>\n",
       "      <th>report</th>\n",
       "      <th>model</th>\n",
       "    </tr>\n",
       "  </thead>\n",
       "  <tbody>\n",
       "    <tr>\n",
       "      <th>0</th>\n",
       "      <td>0.503057</td>\n",
       "      <td>[0.50379590202715, 0.50379590202715]</td>\n",
       "      <td>None</td>\n",
       "      <td>precision    recall  f1-score   ...</td>\n",
       "      <td>&lt;xgboost.core.Booster object at 0x7f35ba907130&gt;</td>\n",
       "    </tr>\n",
       "    <tr>\n",
       "      <th>1</th>\n",
       "      <td>0.496943</td>\n",
       "      <td>[0.508734635779073, 0.508734635779073]</td>\n",
       "      <td>None</td>\n",
       "      <td>precision    recall  f1-score   ...</td>\n",
       "      <td>&lt;xgboost.core.Booster object at 0x7f32e4009580&gt;</td>\n",
       "    </tr>\n",
       "    <tr>\n",
       "      <th>2</th>\n",
       "      <td>0.501189</td>\n",
       "      <td>[0.5048543919272165, 0.5048543919272165]</td>\n",
       "      <td>None</td>\n",
       "      <td>precision    recall  f1-score   ...</td>\n",
       "      <td>&lt;xgboost.core.Booster object at 0x7f3583f4f4f0&gt;</td>\n",
       "    </tr>\n",
       "    <tr>\n",
       "      <th>3</th>\n",
       "      <td>0.502717</td>\n",
       "      <td>[0.502360357955947, 0.502360357955947]</td>\n",
       "      <td>None</td>\n",
       "      <td>precision    recall  f1-score   ...</td>\n",
       "      <td>&lt;xgboost.core.Booster object at 0x7f3574279550&gt;</td>\n",
       "    </tr>\n",
       "    <tr>\n",
       "      <th>4</th>\n",
       "      <td>0.499321</td>\n",
       "      <td>[0.5061017844072763, 0.5061017844072763]</td>\n",
       "      <td>None</td>\n",
       "      <td>precision    recall  f1-score   ...</td>\n",
       "      <td>&lt;xgboost.core.Booster object at 0x7f32e4082730&gt;</td>\n",
       "    </tr>\n",
       "    <tr>\n",
       "      <th>...</th>\n",
       "      <td>...</td>\n",
       "      <td>...</td>\n",
       "      <td>...</td>\n",
       "      <td>...</td>\n",
       "      <td>...</td>\n",
       "    </tr>\n",
       "    <tr>\n",
       "      <th>115</th>\n",
       "      <td>0.498132</td>\n",
       "      <td>[0.5057747576472328, 0.5057747576472328]</td>\n",
       "      <td>None</td>\n",
       "      <td>precision    recall  f1-score   ...</td>\n",
       "      <td>&lt;xgboost.core.Booster object at 0x7f32468a4640&gt;</td>\n",
       "    </tr>\n",
       "    <tr>\n",
       "      <th>116</th>\n",
       "      <td>0.497962</td>\n",
       "      <td>[0.5046665869463117, 0.5046665869463118]</td>\n",
       "      <td>None</td>\n",
       "      <td>precision    recall  f1-score   ...</td>\n",
       "      <td>&lt;xgboost.core.Booster object at 0x7f32468a4850&gt;</td>\n",
       "    </tr>\n",
       "    <tr>\n",
       "      <th>117</th>\n",
       "      <td>0.499490</td>\n",
       "      <td>[0.5026636996830249, 0.5026636996830249]</td>\n",
       "      <td>None</td>\n",
       "      <td>precision    recall  f1-score   ...</td>\n",
       "      <td>&lt;xgboost.core.Booster object at 0x7f32468a46a0&gt;</td>\n",
       "    </tr>\n",
       "    <tr>\n",
       "      <th>118</th>\n",
       "      <td>0.491678</td>\n",
       "      <td>[0.5107513874519006, 0.5107513874519005]</td>\n",
       "      <td>None</td>\n",
       "      <td>precision    recall  f1-score   ...</td>\n",
       "      <td>&lt;xgboost.core.Booster object at 0x7f32468a4670&gt;</td>\n",
       "    </tr>\n",
       "    <tr>\n",
       "      <th>119</th>\n",
       "      <td>0.499151</td>\n",
       "      <td>[0.5034068320344114, 0.5034068320344114]</td>\n",
       "      <td>None</td>\n",
       "      <td>precision    recall  f1-score   ...</td>\n",
       "      <td>&lt;xgboost.core.Booster object at 0x7f32468a4820&gt;</td>\n",
       "    </tr>\n",
       "  </tbody>\n",
       "</table>\n",
       "<p>120 rows × 5 columns</p>\n",
       "</div>"
      ],
      "text/plain": [
       "     test_error                                      aucs w_auc  \\\n",
       "0      0.503057      [0.50379590202715, 0.50379590202715]  None   \n",
       "1      0.496943    [0.508734635779073, 0.508734635779073]  None   \n",
       "2      0.501189  [0.5048543919272165, 0.5048543919272165]  None   \n",
       "3      0.502717    [0.502360357955947, 0.502360357955947]  None   \n",
       "4      0.499321  [0.5061017844072763, 0.5061017844072763]  None   \n",
       "..          ...                                       ...   ...   \n",
       "115    0.498132  [0.5057747576472328, 0.5057747576472328]  None   \n",
       "116    0.497962  [0.5046665869463117, 0.5046665869463118]  None   \n",
       "117    0.499490  [0.5026636996830249, 0.5026636996830249]  None   \n",
       "118    0.491678  [0.5107513874519006, 0.5107513874519005]  None   \n",
       "119    0.499151  [0.5034068320344114, 0.5034068320344114]  None   \n",
       "\n",
       "                                                report  \\\n",
       "0                  precision    recall  f1-score   ...   \n",
       "1                  precision    recall  f1-score   ...   \n",
       "2                  precision    recall  f1-score   ...   \n",
       "3                  precision    recall  f1-score   ...   \n",
       "4                  precision    recall  f1-score   ...   \n",
       "..                                                 ...   \n",
       "115                precision    recall  f1-score   ...   \n",
       "116                precision    recall  f1-score   ...   \n",
       "117                precision    recall  f1-score   ...   \n",
       "118                precision    recall  f1-score   ...   \n",
       "119                precision    recall  f1-score   ...   \n",
       "\n",
       "                                               model  \n",
       "0    <xgboost.core.Booster object at 0x7f35ba907130>  \n",
       "1    <xgboost.core.Booster object at 0x7f32e4009580>  \n",
       "2    <xgboost.core.Booster object at 0x7f3583f4f4f0>  \n",
       "3    <xgboost.core.Booster object at 0x7f3574279550>  \n",
       "4    <xgboost.core.Booster object at 0x7f32e4082730>  \n",
       "..                                               ...  \n",
       "115  <xgboost.core.Booster object at 0x7f32468a4640>  \n",
       "116  <xgboost.core.Booster object at 0x7f32468a4850>  \n",
       "117  <xgboost.core.Booster object at 0x7f32468a46a0>  \n",
       "118  <xgboost.core.Booster object at 0x7f32468a4670>  \n",
       "119  <xgboost.core.Booster object at 0x7f32468a4820>  \n",
       "\n",
       "[120 rows x 5 columns]"
      ]
     },
     "execution_count": 620,
     "metadata": {},
     "output_type": "execute_result"
    }
   ],
   "source": [
    "pd.DataFrame(gridsearch_results_sh)"
   ]
  },
  {
   "cell_type": "markdown",
   "metadata": {},
   "source": [
    "## LR"
   ]
  },
  {
   "cell_type": "code",
   "execution_count": 113,
   "metadata": {},
   "outputs": [],
   "source": [
    "from sklearn.linear_model import LogisticRegression"
   ]
  },
  {
   "cell_type": "code",
   "execution_count": 114,
   "metadata": {},
   "outputs": [
    {
     "name": "stderr",
     "output_type": "stream",
     "text": [
      "/home/gzy/.local/lib/python3.8/site-packages/sklearn/linear_model/_logistic.py:763: ConvergenceWarning: lbfgs failed to converge (status=1):\n",
      "STOP: TOTAL NO. of ITERATIONS REACHED LIMIT.\n",
      "\n",
      "Increase the number of iterations (max_iter) or scale the data as shown in:\n",
      "    https://scikit-learn.org/stable/modules/preprocessing.html\n",
      "Please also refer to the documentation for alternative solver options:\n",
      "    https://scikit-learn.org/stable/modules/linear_model.html#logistic-regression\n",
      "  n_iter_i = _check_optimize_result(\n"
     ]
    },
    {
     "data": {
      "text/plain": [
       "0.5633729050279329"
      ]
     },
     "execution_count": 114,
     "metadata": {},
     "output_type": "execute_result"
    }
   ],
   "source": [
    "clf = LogisticRegression(random_state=0)\n",
    "clf.fit(X_train_sh, y_train_sh)\n",
    "clf.score(X_test_sh, y_test_sh)"
   ]
  },
  {
   "cell_type": "markdown",
   "metadata": {},
   "source": [
    "# 预测"
   ]
  },
  {
   "cell_type": "code",
   "execution_count": 135,
   "metadata": {},
   "outputs": [],
   "source": [
    "test = inference_dataset\n",
    "test = xgb.DMatrix(test.values, enable_categorical=True)"
   ]
  },
  {
   "cell_type": "code",
   "execution_count": 136,
   "metadata": {},
   "outputs": [
    {
     "data": {
      "text/plain": [
       "((2822180, 127), 127)"
      ]
     },
     "execution_count": 136,
     "metadata": {},
     "output_type": "execute_result"
    }
   ],
   "source": [
    "inference_dataset.shape, test.num_col()"
   ]
  },
  {
   "cell_type": "code",
   "execution_count": 137,
   "metadata": {},
   "outputs": [],
   "source": [
    "bst_wl = wl_bst_sm  # gridsearch_results[opt_idx]['model']  \n",
    "bst_sh = sh_bst_sm  # gridsearch_results_sh[opt_idx_sh]['model']  "
   ]
  },
  {
   "cell_type": "code",
   "execution_count": 138,
   "metadata": {},
   "outputs": [
    {
     "data": {
      "text/plain": [
       "(Counter({1.0: 598944,\n",
       "          0.0: 989813,\n",
       "          9.0: 980061,\n",
       "          2.0: 210515,\n",
       "          3.0: 16847,\n",
       "          6.0: 3875,\n",
       "          5.0: 4085,\n",
       "          8.0: 11972,\n",
       "          4.0: 5079,\n",
       "          7.0: 989}),\n",
       " Counter({1.0: 1082398, 0.0: 1739782}))"
      ]
     },
     "execution_count": 138,
     "metadata": {},
     "output_type": "execute_result"
    }
   ],
   "source": [
    "wl = bst_wl.predict(test)\n",
    "sh = bst_sh.predict(test)\n",
    "Counter(wl), Counter(Counter(sh))"
   ]
  },
  {
   "cell_type": "code",
   "execution_count": 139,
   "metadata": {},
   "outputs": [
    {
     "data": {
      "text/plain": [
       "(2822180, 61)"
      ]
     },
     "execution_count": 139,
     "metadata": {},
     "output_type": "execute_result"
    }
   ],
   "source": [
    "test_df['watch_label'] = wl.astype(np.uint8)\n",
    "test_df['is_share'] = sh.astype(np.uint8)\n",
    "test_df.shape"
   ]
  },
  {
   "cell_type": "code",
   "execution_count": 140,
   "metadata": {},
   "outputs": [
    {
     "data": {
      "text/html": [
       "<div>\n",
       "<style scoped>\n",
       "    .dataframe tbody tr th:only-of-type {\n",
       "        vertical-align: middle;\n",
       "    }\n",
       "\n",
       "    .dataframe tbody tr th {\n",
       "        vertical-align: top;\n",
       "    }\n",
       "\n",
       "    .dataframe thead th {\n",
       "        text-align: right;\n",
       "    }\n",
       "</style>\n",
       "<table border=\"1\" class=\"dataframe\">\n",
       "  <thead>\n",
       "    <tr style=\"text-align: right;\">\n",
       "      <th></th>\n",
       "      <th>user_id</th>\n",
       "      <th>video_id</th>\n",
       "      <th>watch_label</th>\n",
       "      <th>is_share</th>\n",
       "    </tr>\n",
       "  </thead>\n",
       "  <tbody>\n",
       "    <tr>\n",
       "      <th>0</th>\n",
       "      <td>1688013</td>\n",
       "      <td>32645</td>\n",
       "      <td>1</td>\n",
       "      <td>1</td>\n",
       "    </tr>\n",
       "    <tr>\n",
       "      <th>1</th>\n",
       "      <td>4502598</td>\n",
       "      <td>41270</td>\n",
       "      <td>0</td>\n",
       "      <td>1</td>\n",
       "    </tr>\n",
       "    <tr>\n",
       "      <th>2</th>\n",
       "      <td>5585629</td>\n",
       "      <td>16345</td>\n",
       "      <td>9</td>\n",
       "      <td>0</td>\n",
       "    </tr>\n",
       "    <tr>\n",
       "      <th>3</th>\n",
       "      <td>1635520</td>\n",
       "      <td>28149</td>\n",
       "      <td>1</td>\n",
       "      <td>1</td>\n",
       "    </tr>\n",
       "    <tr>\n",
       "      <th>4</th>\n",
       "      <td>4160191</td>\n",
       "      <td>40554</td>\n",
       "      <td>0</td>\n",
       "      <td>1</td>\n",
       "    </tr>\n",
       "    <tr>\n",
       "      <th>...</th>\n",
       "      <td>...</td>\n",
       "      <td>...</td>\n",
       "      <td>...</td>\n",
       "      <td>...</td>\n",
       "    </tr>\n",
       "    <tr>\n",
       "      <th>2822175</th>\n",
       "      <td>5019057</td>\n",
       "      <td>18766</td>\n",
       "      <td>1</td>\n",
       "      <td>0</td>\n",
       "    </tr>\n",
       "    <tr>\n",
       "      <th>2822176</th>\n",
       "      <td>5019057</td>\n",
       "      <td>12968</td>\n",
       "      <td>0</td>\n",
       "      <td>1</td>\n",
       "    </tr>\n",
       "    <tr>\n",
       "      <th>2822177</th>\n",
       "      <td>4255762</td>\n",
       "      <td>21794</td>\n",
       "      <td>2</td>\n",
       "      <td>0</td>\n",
       "    </tr>\n",
       "    <tr>\n",
       "      <th>2822178</th>\n",
       "      <td>171497</td>\n",
       "      <td>21578</td>\n",
       "      <td>2</td>\n",
       "      <td>0</td>\n",
       "    </tr>\n",
       "    <tr>\n",
       "      <th>2822179</th>\n",
       "      <td>5642580</td>\n",
       "      <td>28914</td>\n",
       "      <td>9</td>\n",
       "      <td>0</td>\n",
       "    </tr>\n",
       "  </tbody>\n",
       "</table>\n",
       "<p>2822180 rows × 4 columns</p>\n",
       "</div>"
      ],
      "text/plain": [
       "         user_id  video_id  watch_label  is_share\n",
       "0        1688013     32645            1         1\n",
       "1        4502598     41270            0         1\n",
       "2        5585629     16345            9         0\n",
       "3        1635520     28149            1         1\n",
       "4        4160191     40554            0         1\n",
       "...          ...       ...          ...       ...\n",
       "2822175  5019057     18766            1         0\n",
       "2822176  5019057     12968            0         1\n",
       "2822177  4255762     21794            2         0\n",
       "2822178   171497     21578            2         0\n",
       "2822179  5642580     28914            9         0\n",
       "\n",
       "[2822180 rows x 4 columns]"
      ]
     },
     "execution_count": 140,
     "metadata": {},
     "output_type": "execute_result"
    }
   ],
   "source": [
    "submission = pd.DataFrame(test_df[['user_id', 'video_id', 'watch_label', 'is_share']])\n",
    "submission"
   ]
  },
  {
   "cell_type": "code",
   "execution_count": 141,
   "metadata": {},
   "outputs": [
    {
     "name": "stdout",
     "output_type": "stream",
     "text": [
      "new submission saved to ../submission-1629551361.csv\n"
     ]
    }
   ],
   "source": [
    "fn = f'../submission-{int(time())}.csv'\n",
    "submission.to_csv(fn, index=False, sep=\",\")\n",
    "print(f\"new submission saved to {fn}\")"
   ]
  },
  {
   "cell_type": "code",
   "execution_count": 593,
   "metadata": {},
   "outputs": [
    {
     "data": {
      "text/plain": [
       "(2822180, 4)"
      ]
     },
     "execution_count": 593,
     "metadata": {},
     "output_type": "execute_result"
    }
   ],
   "source": [
    "tdf = pd.read_csv('../submission-1625404864.csv')\n",
    "tdf.shape"
   ]
  },
  {
   "cell_type": "code",
   "execution_count": 663,
   "metadata": {},
   "outputs": [],
   "source": [
    "widx = test_df['watch_label'] != tdf['watch_label']\n",
    "sidx = test_df['is_share'] != tdf['is_share']"
   ]
  },
  {
   "cell_type": "code",
   "execution_count": 664,
   "metadata": {},
   "outputs": [
    {
     "data": {
      "text/plain": [
       "(913388, 0)"
      ]
     },
     "execution_count": 664,
     "metadata": {},
     "output_type": "execute_result"
    }
   ],
   "source": [
    "widx.sum(), sidx.sum()"
   ]
  },
  {
   "cell_type": "markdown",
   "metadata": {},
   "source": [
    "# 保存模型"
   ]
  },
  {
   "cell_type": "code",
   "execution_count": 147,
   "metadata": {},
   "outputs": [],
   "source": [
    "version = 17\n",
    "wl_model_name = f'wl_model_v{version}'\n",
    "sh_model_name = f'sh_model_v{version}'\n",
    "bst_wl.save_model(wl_model_name)\n",
    "bst_sh.save_model(sh_model_name)"
   ]
  },
  {
   "cell_type": "code",
   "execution_count": 143,
   "metadata": {},
   "outputs": [],
   "source": [
    "def write_log(log_name, info, log_path=\"./\"):\n",
    "    import datetime\n",
    "    with open(os.path.join(log_path, log_name), 'w') as log:\n",
    "        log.write(f\"# {datetime.datetime.now().__str__()}\\n\")\n",
    "        if info.get('comment', False):\n",
    "            log.write(f\"\\n## Comment: \\n\")\n",
    "            log.write(f\"{info['comment']}\\n\")\n",
    "            \n",
    "        log.write(f\"\\n## model name: {info['model_name']}\\n\")\n",
    "        log.write(f\"- model save path : {info['model_save_path']}\\n\")\n",
    "        \n",
    "        log.write(f\"\\n## Data setup\\n\")\n",
    "        log.write(f\"- dataset.shape : {dataset.shape}\\n\")\n",
    "        log.write(f\"- dataset.columns : {dataset.columns}\\n\")\n",
    "        log.write(f\"- is resample : {info['is_resample']}\\n\")\n",
    "        log.write(f\"- Traing_Data.shape (watch_label)  : {X_train.shape}\\n\")\n",
    "        log.write(f\"- Testing_Data.shape (watch_label) : {X_test.shape}\\n\")\n",
    "        log.write(f\"- Traing_Data.shape (is_share)  : {X_train_sh.shape}\\n\")\n",
    "        log.write(f\"- Testing_Data.shape (is_share) : {X_test_sh.shape}\\n\")\n",
    "        if info.get('is_resample', False):\n",
    "            log.write(f\"- Resampled class distribution (watch_label): \\n{Counter(resampled_wl)}\\n\")\n",
    "            log.write(f\"- Resampled class distribution (is_share): \\n{Counter(resampled_sh)}\\n\")\n",
    "            \n",
    "        log.write(f\"\\n## Model Params\\n\")\n",
    "        log.write(f\"- model params (watch_label) : \\n{info['param_wl']}\\n\")\n",
    "        log.write(f\"- model params (is_share) : \\n{info['param_sh']}\\n\")\n",
    "        \n",
    "        log.write(f\"\\n## Model's Performance\\n\")\n",
    "        log.write(f\"- Aucs (watch_label) : {info['aucs']}\\n\")\n",
    "        log.write(f\"- Weighted Aucs (watch_label) : {info['w_auc']}\\n\")\n",
    "        log.write(f\"- Aucs (is_share) : {info['aucs_sh']}\\n\")\n",
    "        \n",
    "        log.write(f\"- Classification Report (watch_label) : \\n\\n{info['report']}\\n\")\n",
    "        log.write(f\"- Classification Report (is_share) : \\n\\n{info['report_sh']}\\n\")\n",
    "        \n",
    "        log.flush()\n",
    "        \n",
    "    pass"
   ]
  },
  {
   "cell_type": "code",
   "execution_count": 144,
   "metadata": {},
   "outputs": [],
   "source": [
    "param_wl = param  # all_params[opt_idx]\n",
    "param_sh = param_sh  # all_params[opt_idx_sh]\n",
    "\n",
    "aucs = aucs  # gridsearch_results[opt_idx]['aucs']\n",
    "w_auc = w_auc  # gridsearch_results[opt_idx]['w_auc']\n",
    "aucs_sh = aucs_sh  # gridsearch_results_sh[opt_idx]['aucs']\n",
    "\n",
    "report = report  # gridsearch_results[opt_idx]['report']\n",
    "report_sh = report_sh  # gridsearch_results_sh[opt_idx]['report']"
   ]
  },
  {
   "cell_type": "code",
   "execution_count": 148,
   "metadata": {},
   "outputs": [],
   "source": [
    "log_name = f\"log_v{version}.md\"\n",
    "info = {'is_resample': True, 'model_name': [wl_model_name, sh_model_name], 'model_save_path': os.getcwd(),\n",
    "        'comment': \"特征：基础特征+用户和视频的统计量特征。\\n数据集划分：watch_label的测试集为1.0，is_share的测试集为1.0。\\n此次生成的提交是：submission-1629551361.csv。官方测评得分：xxx😐\",\n",
    "        'param_wl': param_wl, 'param_sh': param_sh, 'aucs': aucs, 'w_auc': w_auc, 'aucs_sh': aucs_sh, \n",
    "        'report': report, 'report_sh': report_sh}\n",
    "write_log(log_name, info, log_path=\"./logs\")"
   ]
  },
  {
   "cell_type": "markdown",
   "metadata": {},
   "source": [
    "# 服务器间同步文件"
   ]
  },
  {
   "cell_type": "markdown",
   "metadata": {},
   "source": [
    "## 推向Digix服务器"
   ]
  },
  {
   "cell_type": "code",
   "execution_count": 87,
   "metadata": {},
   "outputs": [
    {
     "name": "stdout",
     "output_type": "stream",
     "text": [
      "ssh: connect to host 49.123.120.71 port 22: No route to host\n",
      "lost connection\n"
     ]
    }
   ],
   "source": [
    "!scp ./models.ipynb digix@49.123.120.71:/home/digix/digix/Models/models.ipynb "
   ]
  },
  {
   "cell_type": "code",
   "execution_count": null,
   "metadata": {},
   "outputs": [
    {
     "name": "stdout",
     "output_type": "stream",
     "text": [
      "digix@49.123.120.71's password: "
     ]
    }
   ],
   "source": [
    "!scp ./ensemble.ipynb digix@49.123.120.71:/home/digix/digix/Models/ensemble_from_gzy.ipynb "
   ]
  },
  {
   "cell_type": "code",
   "execution_count": 599,
   "metadata": {},
   "outputs": [
    {
     "name": "stdout",
     "output_type": "stream",
     "text": [
      "ssh: connect to host 49.123.120.71 port 22: No route to host\n",
      "lost connection\n"
     ]
    }
   ],
   "source": [
    "!scp ./log_*.md digix@49.123.120.71:/home/digix/digix/Models/"
   ]
  },
  {
   "cell_type": "code",
   "execution_count": 472,
   "metadata": {},
   "outputs": [
    {
     "name": "stdout",
     "output_type": "stream",
     "text": [
      "explore-data.ipynb                            100%  306KB  10.6MB/s   00:00    \n"
     ]
    }
   ],
   "source": [
    "!scp ../explore-data.ipynb digix@49.123.120.71:/home/digix/digix/explore-data.ipynb "
   ]
  },
  {
   "cell_type": "code",
   "execution_count": 650,
   "metadata": {},
   "outputs": [
    {
     "name": "stdout",
     "output_type": "stream",
     "text": [
      "video_features.jay                            100% 9035KB  11.1MB/s   00:00    \n"
     ]
    }
   ],
   "source": [
    "!scp ../2021_3_data/traindata/video_features_data/video_features.jay digix@49.123.120.71:/home/digix/digix/dataset/new_video_features.jay"
   ]
  },
  {
   "cell_type": "markdown",
   "metadata": {},
   "source": [
    "## 从Digix服务器拉数据"
   ]
  },
  {
   "cell_type": "code",
   "execution_count": 1,
   "metadata": {},
   "outputs": [
    {
     "name": "stdout",
     "output_type": "stream",
     "text": [
      "digix@49.123.120.71's password: \n"
     ]
    }
   ],
   "source": [
    "!scp  digix@49.123.120.71:/home/digix/digix/Models/LightGBM.ipynb ./LightGBM.ipynb"
   ]
  },
  {
   "cell_type": "code",
   "execution_count": 2,
   "metadata": {},
   "outputs": [
    {
     "name": "stdout",
     "output_type": "stream",
     "text": [
      "scp: /home/digix/digix/Models/feature_engineering.ipynb: No such file or directory\n"
     ]
    }
   ],
   "source": [
    "!scp  digix@49.123.120.71:/home/digix/digix/Models/feature_engineering.ipynb ./feature_engineering.ipynb"
   ]
  },
  {
   "cell_type": "code",
   "execution_count": 3,
   "metadata": {},
   "outputs": [
    {
     "name": "stdout",
     "output_type": "stream",
     "text": [
      "utils.py                                      100% 3860     2.6MB/s   00:00    \n",
      "data_analysis.ipynb                           100% 6566KB  11.2MB/s   00:00    \n",
      "__init__.py                                   100%    0     0.0KB/s   00:00    \n",
      "__init__.cpython-36.pyc                       100%  139   128.3KB/s   00:00    \n",
      "utils.cpython-36.pyc                          100% 4120     2.6MB/s   00:00    \n",
      "video_data.ipynb                              100%   55KB   1.7MB/s   00:00    \n",
      "user_data-checkpoint.ipynb                    100%  202KB  10.1MB/s   00:00    \n",
      "data_analysis-checkpoint.ipynb                100% 6554KB  11.0MB/s   00:00    \n",
      "utils-checkpoint.py                           100% 3860     2.4MB/s   00:00    \n",
      "video_data-checkpoint.ipynb                   100%   17KB   1.4MB/s   00:00    \n",
      "user_data.ipynb                               100%  202KB  10.3MB/s   00:00    \n"
     ]
    }
   ],
   "source": [
    "!scp -r digix@49.123.120.71:/home/digix/digix/Models/Feature_Engineering/  ./"
   ]
  },
  {
   "cell_type": "code",
   "execution_count": 168,
   "metadata": {},
   "outputs": [
    {
     "name": "stdout",
     "output_type": "stream",
     "text": [
      "video_status.csv                              100% 2008KB   9.1MB/s   00:00    \n",
      "user_status.csv                               100%  138MB   9.3MB/s   00:14    \n"
     ]
    }
   ],
   "source": [
    "!scp -r digix@49.123.120.71:/home/digix/digix/dataset/traindata/video_features_data/video_status.csv ../2021_3_data/traindata/video_features_data/"
   ]
  },
  {
   "cell_type": "code",
   "execution_count": 279,
   "metadata": {},
   "outputs": [
    {
     "name": "stdout",
     "output_type": "stream",
     "text": [
      "user_status.csv                               100%  168MB  11.2MB/s   00:14    \n"
     ]
    }
   ],
   "source": [
    "!scp -r digix@49.123.120.71:/home/digix/digix/dataset/traindata/user_features_data/user_status.csv ../2021_3_data/traindata/user_features_data/"
   ]
  },
  {
   "cell_type": "code",
   "execution_count": null,
   "metadata": {},
   "outputs": [],
   "source": []
  }
 ],
 "metadata": {
  "kernelspec": {
   "display_name": "Python 3 (ipykernel)",
   "language": "python",
   "name": "python3"
  },
  "language_info": {
   "codemirror_mode": {
    "name": "ipython",
    "version": 3
   },
   "file_extension": ".py",
   "mimetype": "text/x-python",
   "name": "python",
   "nbconvert_exporter": "python",
   "pygments_lexer": "ipython3",
   "version": "3.8.0"
  },
  "toc-autonumbering": true
 },
 "nbformat": 4,
 "nbformat_minor": 4
}
