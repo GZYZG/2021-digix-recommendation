{
 "cells": [
  {
   "cell_type": "code",
   "execution_count": 6,
   "id": "handy-gossip",
   "metadata": {},
   "outputs": [],
   "source": [
    "from sklearn.metrics import accuracy_score\n",
    "from sklearn.model_selection import train_test_split\n",
    "from sklearn.preprocessing import OneHotEncoder\n",
    "from lightgbm import LGBMClassifier\n",
    "import joblib\n",
    "import numpy as np\n",
    "import pandas as pd"
   ]
  },
  {
   "cell_type": "markdown",
   "id": "electrical-accent",
   "metadata": {},
   "source": [
    "# 数据加载"
   ]
  },
  {
   "cell_type": "code",
   "execution_count": 7,
   "id": "religious-taste",
   "metadata": {},
   "outputs": [],
   "source": [
    "data = pd.read_csv(\"../dataset/traindata/user_video_14day_action_train_data.csv\")"
   ]
  },
  {
   "cell_type": "code",
   "execution_count": 8,
   "id": "concrete-robertson",
   "metadata": {},
   "outputs": [
    {
     "data": {
      "text/plain": [
       "0          0\n",
       "1          0\n",
       "2          3\n",
       "3          9\n",
       "4          0\n",
       "          ..\n",
       "7308013    0\n",
       "7308014    2\n",
       "7308015    1\n",
       "7308016    0\n",
       "7308017    0\n",
       "Name: watch_label, Length: 7308018, dtype: int64"
      ]
     },
     "execution_count": 8,
     "metadata": {},
     "output_type": "execute_result"
    }
   ],
   "source": [
    "watch_label = data['watch_label']\n",
    "watch_label"
   ]
  },
  {
   "cell_type": "code",
   "execution_count": 9,
   "id": "useful-render",
   "metadata": {},
   "outputs": [
    {
     "data": {
      "text/plain": [
       "0          0\n",
       "1          0\n",
       "2          0\n",
       "3          0\n",
       "4          0\n",
       "          ..\n",
       "7308013    0\n",
       "7308014    0\n",
       "7308015    0\n",
       "7308016    0\n",
       "7308017    0\n",
       "Name: is_share, Length: 7308018, dtype: int64"
      ]
     },
     "execution_count": 9,
     "metadata": {},
     "output_type": "execute_result"
    }
   ],
   "source": [
    "share_label = data['is_share']\n",
    "share_label"
   ]
  },
  {
   "cell_type": "code",
   "execution_count": 10,
   "id": "embedded-solution",
   "metadata": {},
   "outputs": [],
   "source": [
    "data.drop(['is_share', 'watch_label'], axis=1, inplace=True)"
   ]
  },
  {
   "cell_type": "code",
   "execution_count": 11,
   "id": "united-phoenix",
   "metadata": {},
   "outputs": [
    {
     "data": {
      "text/html": [
       "<div>\n",
       "<style scoped>\n",
       "    .dataframe tbody tr th:only-of-type {\n",
       "        vertical-align: middle;\n",
       "    }\n",
       "\n",
       "    .dataframe tbody tr th {\n",
       "        vertical-align: top;\n",
       "    }\n",
       "\n",
       "    .dataframe thead th {\n",
       "        text-align: right;\n",
       "    }\n",
       "</style>\n",
       "<table border=\"1\" class=\"dataframe\">\n",
       "  <thead>\n",
       "    <tr style=\"text-align: right;\">\n",
       "      <th></th>\n",
       "      <th>user_id</th>\n",
       "      <th>age_0</th>\n",
       "      <th>age_1</th>\n",
       "      <th>age_2</th>\n",
       "      <th>age_3</th>\n",
       "      <th>age_4</th>\n",
       "      <th>age_5</th>\n",
       "      <th>age_6</th>\n",
       "      <th>age_7</th>\n",
       "      <th>gender_0</th>\n",
       "      <th>...</th>\n",
       "      <th>class_5</th>\n",
       "      <th>class_6</th>\n",
       "      <th>class_7</th>\n",
       "      <th>class_8</th>\n",
       "      <th>class_9</th>\n",
       "      <th>da_0</th>\n",
       "      <th>da_1</th>\n",
       "      <th>da_2</th>\n",
       "      <th>da_3</th>\n",
       "      <th>da_4</th>\n",
       "    </tr>\n",
       "  </thead>\n",
       "  <tbody>\n",
       "    <tr>\n",
       "      <th>0</th>\n",
       "      <td>17938.0</td>\n",
       "      <td>1.0</td>\n",
       "      <td>0.0</td>\n",
       "      <td>0.0</td>\n",
       "      <td>0.0</td>\n",
       "      <td>0.0</td>\n",
       "      <td>0.0</td>\n",
       "      <td>0.0</td>\n",
       "      <td>0.0</td>\n",
       "      <td>1.0</td>\n",
       "      <td>...</td>\n",
       "      <td>0.041772</td>\n",
       "      <td>0.349582</td>\n",
       "      <td>0.041779</td>\n",
       "      <td>0.041780</td>\n",
       "      <td>0.041772</td>\n",
       "      <td>0.324848</td>\n",
       "      <td>0.083544</td>\n",
       "      <td>0.083544</td>\n",
       "      <td>0.083544</td>\n",
       "      <td>0.424519</td>\n",
       "    </tr>\n",
       "    <tr>\n",
       "      <th>1</th>\n",
       "      <td>17938.0</td>\n",
       "      <td>1.0</td>\n",
       "      <td>0.0</td>\n",
       "      <td>0.0</td>\n",
       "      <td>0.0</td>\n",
       "      <td>0.0</td>\n",
       "      <td>0.0</td>\n",
       "      <td>0.0</td>\n",
       "      <td>0.0</td>\n",
       "      <td>1.0</td>\n",
       "      <td>...</td>\n",
       "      <td>0.050000</td>\n",
       "      <td>0.050000</td>\n",
       "      <td>0.050000</td>\n",
       "      <td>0.050000</td>\n",
       "      <td>0.050000</td>\n",
       "      <td>0.100000</td>\n",
       "      <td>0.100000</td>\n",
       "      <td>0.600000</td>\n",
       "      <td>0.100000</td>\n",
       "      <td>0.100000</td>\n",
       "    </tr>\n",
       "    <tr>\n",
       "      <th>2</th>\n",
       "      <td>17938.0</td>\n",
       "      <td>1.0</td>\n",
       "      <td>0.0</td>\n",
       "      <td>0.0</td>\n",
       "      <td>0.0</td>\n",
       "      <td>0.0</td>\n",
       "      <td>0.0</td>\n",
       "      <td>0.0</td>\n",
       "      <td>0.0</td>\n",
       "      <td>1.0</td>\n",
       "      <td>...</td>\n",
       "      <td>0.035480</td>\n",
       "      <td>0.035478</td>\n",
       "      <td>0.035479</td>\n",
       "      <td>0.035482</td>\n",
       "      <td>0.035480</td>\n",
       "      <td>0.432491</td>\n",
       "      <td>0.075271</td>\n",
       "      <td>0.073186</td>\n",
       "      <td>0.071487</td>\n",
       "      <td>0.347565</td>\n",
       "    </tr>\n",
       "    <tr>\n",
       "      <th>3</th>\n",
       "      <td>4263520.0</td>\n",
       "      <td>0.0</td>\n",
       "      <td>1.0</td>\n",
       "      <td>0.0</td>\n",
       "      <td>0.0</td>\n",
       "      <td>0.0</td>\n",
       "      <td>0.0</td>\n",
       "      <td>0.0</td>\n",
       "      <td>0.0</td>\n",
       "      <td>1.0</td>\n",
       "      <td>...</td>\n",
       "      <td>0.037601</td>\n",
       "      <td>0.037601</td>\n",
       "      <td>0.037601</td>\n",
       "      <td>0.037601</td>\n",
       "      <td>0.037601</td>\n",
       "      <td>0.075201</td>\n",
       "      <td>0.075202</td>\n",
       "      <td>0.699193</td>\n",
       "      <td>0.075201</td>\n",
       "      <td>0.075202</td>\n",
       "    </tr>\n",
       "    <tr>\n",
       "      <th>4</th>\n",
       "      <td>5181723.0</td>\n",
       "      <td>0.0</td>\n",
       "      <td>1.0</td>\n",
       "      <td>0.0</td>\n",
       "      <td>0.0</td>\n",
       "      <td>0.0</td>\n",
       "      <td>0.0</td>\n",
       "      <td>0.0</td>\n",
       "      <td>0.0</td>\n",
       "      <td>0.0</td>\n",
       "      <td>...</td>\n",
       "      <td>0.034261</td>\n",
       "      <td>0.034301</td>\n",
       "      <td>0.034266</td>\n",
       "      <td>0.034261</td>\n",
       "      <td>0.034261</td>\n",
       "      <td>0.504280</td>\n",
       "      <td>0.072258</td>\n",
       "      <td>0.070551</td>\n",
       "      <td>0.069007</td>\n",
       "      <td>0.283903</td>\n",
       "    </tr>\n",
       "  </tbody>\n",
       "</table>\n",
       "<p>5 rows × 72 columns</p>\n",
       "</div>"
      ],
      "text/plain": [
       "     user_id  age_0  age_1  age_2  age_3  age_4  age_5  age_6  age_7  \\\n",
       "0    17938.0    1.0    0.0    0.0    0.0    0.0    0.0    0.0    0.0   \n",
       "1    17938.0    1.0    0.0    0.0    0.0    0.0    0.0    0.0    0.0   \n",
       "2    17938.0    1.0    0.0    0.0    0.0    0.0    0.0    0.0    0.0   \n",
       "3  4263520.0    0.0    1.0    0.0    0.0    0.0    0.0    0.0    0.0   \n",
       "4  5181723.0    0.0    1.0    0.0    0.0    0.0    0.0    0.0    0.0   \n",
       "\n",
       "   gender_0  ...   class_5   class_6   class_7   class_8   class_9      da_0  \\\n",
       "0       1.0  ...  0.041772  0.349582  0.041779  0.041780  0.041772  0.324848   \n",
       "1       1.0  ...  0.050000  0.050000  0.050000  0.050000  0.050000  0.100000   \n",
       "2       1.0  ...  0.035480  0.035478  0.035479  0.035482  0.035480  0.432491   \n",
       "3       1.0  ...  0.037601  0.037601  0.037601  0.037601  0.037601  0.075201   \n",
       "4       0.0  ...  0.034261  0.034301  0.034266  0.034261  0.034261  0.504280   \n",
       "\n",
       "       da_1      da_2      da_3      da_4  \n",
       "0  0.083544  0.083544  0.083544  0.424519  \n",
       "1  0.100000  0.600000  0.100000  0.100000  \n",
       "2  0.075271  0.073186  0.071487  0.347565  \n",
       "3  0.075202  0.699193  0.075201  0.075202  \n",
       "4  0.072258  0.070551  0.069007  0.283903  \n",
       "\n",
       "[5 rows x 72 columns]"
      ]
     },
     "execution_count": 11,
     "metadata": {},
     "output_type": "execute_result"
    }
   ],
   "source": [
    "data.head()"
   ]
  },
  {
   "cell_type": "markdown",
   "id": "stone-creativity",
   "metadata": {},
   "source": [
    "# watch_label预测"
   ]
  },
  {
   "cell_type": "code",
   "execution_count": 12,
   "id": "happy-google",
   "metadata": {},
   "outputs": [],
   "source": [
    "# 划分训练数据和测试数据\n",
    "X_train, X_test, y_train, y_test = train_test_split(data, watch_label, test_size=0.2, random_state=0)"
   ]
  },
  {
   "cell_type": "code",
   "execution_count": null,
   "id": "possible-spider",
   "metadata": {},
   "outputs": [],
   "source": [
    "gbm = LGBMClassifier(\n",
    "    num_leaves=31, \n",
    "    learning_rate=0.05, \n",
    "    n_estimators=160,\n",
    "    objective='multiclass',\n",
    "    num_class=4,\n",
    "    silent=False\n",
    ")\n"
   ]
  },
  {
   "cell_type": "code",
   "execution_count": null,
   "id": "lesser-christmas",
   "metadata": {},
   "outputs": [],
   "source": [
    "# 模型训练\n",
    "gbm = LGBMClassifier(num_leaves=31, learning_rate=0.05, n_estimators=20)\n",
    "gbm.fit(X_train, y_train, eval_set=[(X_test, y_test)], early_stopping_rounds=5)"
   ]
  },
  {
   "cell_type": "code",
   "execution_count": null,
   "id": "intermediate-spending",
   "metadata": {},
   "outputs": [],
   "source": [
    "\n",
    "# 模型存储\n",
    "joblib.dump(gbm, 'loan_model.pkl')\n",
    "# 模型加载\n",
    "gbm = joblib.load('loan_model.pkl')\n",
    "\n",
    "# 模型预测\n",
    "y_pred = gbm.predict(X_test, num_iteration=gbm.best_iteration_)\n",
    "\n",
    "# 模型评估\n",
    "print('The accuracy of prediction is:', accuracy_score(y_test, y_pred))\n",
    "\n",
    "# 特征重要度\n",
    "print('Feature importances:', list(gbm.feature_importances_))"
   ]
  }
 ],
 "metadata": {
  "kernelspec": {
   "display_name": "Python 3",
   "language": "python",
   "name": "python3"
  },
  "language_info": {
   "codemirror_mode": {
    "name": "ipython",
    "version": 3
   },
   "file_extension": ".py",
   "mimetype": "text/x-python",
   "name": "python",
   "nbconvert_exporter": "python",
   "pygments_lexer": "ipython3",
   "version": "3.8.5"
  }
 },
 "nbformat": 4,
 "nbformat_minor": 5
}
