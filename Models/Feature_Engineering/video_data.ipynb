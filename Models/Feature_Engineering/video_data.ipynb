{
 "cells": [
  {
   "cell_type": "code",
   "execution_count": 1,
   "id": "violent-badge",
   "metadata": {},
   "outputs": [
    {
     "data": {
      "text/html": [
       "<style type='text/css'>\n",
       ".datatable table.frame { margin-bottom: 0; }\n",
       ".datatable table.frame thead { border-bottom: none; }\n",
       ".datatable table.frame tr.coltypes td {  color: #FFFFFF;  line-height: 6px;  padding: 0 0.5em;}\n",
       ".datatable .bool    { background: #DDDD99; }\n",
       ".datatable .object  { background: #565656; }\n",
       ".datatable .int     { background: #5D9E5D; }\n",
       ".datatable .float   { background: #4040CC; }\n",
       ".datatable .str     { background: #CC4040; }\n",
       ".datatable .row_index {  background: var(--jp-border-color3);  border-right: 1px solid var(--jp-border-color0);  color: var(--jp-ui-font-color3);  font-size: 9px;}\n",
       ".datatable .frame tr.coltypes .row_index {  background: var(--jp-border-color0);}\n",
       ".datatable th:nth-child(2) { padding-left: 12px; }\n",
       ".datatable .hellipsis {  color: var(--jp-cell-editor-border-color);}\n",
       ".datatable .vellipsis {  background: var(--jp-layout-color0);  color: var(--jp-cell-editor-border-color);}\n",
       ".datatable .na {  color: var(--jp-cell-editor-border-color);  font-size: 80%;}\n",
       ".datatable .footer { font-size: 9px; }\n",
       ".datatable .frame_dimensions {  background: var(--jp-border-color3);  border-top: 1px solid var(--jp-border-color0);  color: var(--jp-ui-font-color3);  display: inline-block;  opacity: 0.6;  padding: 1px 10px 1px 5px;}\n",
       "</style>\n"
      ],
      "text/plain": [
       "<IPython.core.display.HTML object>"
      ]
     },
     "metadata": {},
     "output_type": "display_data"
    },
    {
     "name": "stderr",
     "output_type": "stream",
     "text": [
      "/home/anaconda/envs/digix/lib/python3.6/site-packages/gensim/similarities/__init__.py:15: UserWarning: The gensim.similarities.levenshtein submodule is disabled, because the optional Levenshtein package <https://pypi.org/project/python-Levenshtein/> is unavailable. Install Levenhstein (e.g. `pip install python-Levenshtein`) to suppress this warning.\n",
      "  warnings.warn(msg)\n"
     ]
    }
   ],
   "source": [
    "from utils import *"
   ]
  },
  {
   "cell_type": "code",
   "execution_count": 2,
   "id": "computational-nickel",
   "metadata": {},
   "outputs": [],
   "source": [
    "# 模型加载\n",
    "model = Doc2Vec.load('../ckp/doc2vec.model')\n",
    "stopwords = [line.strip() for line in open('../../baidu_stopwords.txt',encoding='UTF-8').readlines()]\n",
    "\n",
    "def cut_sentence(sentence):\n",
    "    sentence = re.sub(r'[\\s，。？?！“”‘’…：；:（）《》、—.．*~～＿－-]','',sentence)\n",
    "    words = jieba.cut(sentence)\n",
    "    w_list = []\n",
    "    for w in words:\n",
    "        if w not in stopwords:\n",
    "            w_list.append(w)\n",
    "    return w_list\n",
    "\n",
    "def para_doc2vec(words):\n",
    "    return model.infer_vector(words)"
   ]
  },
  {
   "cell_type": "markdown",
   "id": "hispanic-portugal",
   "metadata": {},
   "source": [
    "# 视频特征"
   ]
  },
  {
   "cell_type": "code",
   "execution_count": 3,
   "id": "urban-stick",
   "metadata": {},
   "outputs": [],
   "source": [
    "video_df = load_video()"
   ]
  },
  {
   "cell_type": "markdown",
   "id": "transsexual-ecology",
   "metadata": {},
   "source": [
    "## 视频特征编码"
   ]
  },
  {
   "cell_type": "markdown",
   "id": "romantic-static",
   "metadata": {},
   "source": [
    "### video_name"
   ]
  },
  {
   "cell_type": "code",
   "execution_count": 4,
   "id": "neural-insertion",
   "metadata": {},
   "outputs": [
    {
     "name": "stderr",
     "output_type": "stream",
     "text": [
      "Building prefix dict from the default dictionary ...\n",
      "Loading model from cache /tmp/jieba.cache\n",
      "Loading model cost 0.426 seconds.\n",
      "Prefix dict has been built successfully.\n"
     ]
    },
    {
     "name": "stdout",
     "output_type": "stream",
     "text": [
      "<class 'pandas.core.frame.DataFrame'>\n",
      "RangeIndex: 50355 entries, 0 to 50354\n",
      "Data columns (total 32 columns):\n",
      " #   Column  Non-Null Count  Dtype  \n",
      "---  ------  --------------  -----  \n",
      " 0   0       50355 non-null  float64\n",
      " 1   1       50355 non-null  float64\n",
      " 2   2       50355 non-null  float64\n",
      " 3   3       50355 non-null  float64\n",
      " 4   4       50355 non-null  float64\n",
      " 5   5       50355 non-null  float64\n",
      " 6   6       50355 non-null  float64\n",
      " 7   7       50355 non-null  float64\n",
      " 8   8       50355 non-null  float64\n",
      " 9   9       50355 non-null  float64\n",
      " 10  10      50355 non-null  float64\n",
      " 11  11      50355 non-null  float64\n",
      " 12  12      50355 non-null  float64\n",
      " 13  13      50355 non-null  float64\n",
      " 14  14      50355 non-null  float64\n",
      " 15  15      50355 non-null  float64\n",
      " 16  16      50355 non-null  float64\n",
      " 17  17      50355 non-null  float64\n",
      " 18  18      50355 non-null  float64\n",
      " 19  19      50355 non-null  float64\n",
      " 20  20      50355 non-null  float64\n",
      " 21  21      50355 non-null  float64\n",
      " 22  22      50355 non-null  float64\n",
      " 23  23      50355 non-null  float64\n",
      " 24  24      50355 non-null  float64\n",
      " 25  25      50355 non-null  float64\n",
      " 26  26      50355 non-null  float64\n",
      " 27  27      50355 non-null  float64\n",
      " 28  28      50355 non-null  float64\n",
      " 29  29      50355 non-null  float64\n",
      " 30  30      50355 non-null  float64\n",
      " 31  31      50355 non-null  float64\n",
      "dtypes: float64(32)\n",
      "memory usage: 12.3 MB\n"
     ]
    }
   ],
   "source": [
    "v_names = video_df['video_name']\n",
    "sentences_encodes = []\n",
    "for line in v_names:\n",
    "    words_list = cut_sentence(line)\n",
    "    sen_encode = para_doc2vec(words_list)\n",
    "    sentences_encodes.append(sen_encode)\n",
    "video_names = pd.DataFrame(sentences_encodes)\n",
    "video_names.info()"
   ]
  },
  {
   "cell_type": "code",
   "execution_count": 5,
   "id": "exterior-australian",
   "metadata": {},
   "outputs": [
    {
     "name": "stdout",
     "output_type": "stream",
     "text": [
      "拼接成功\n"
     ]
    }
   ],
   "source": [
    "video_df = concatDf(video_df, video_names, 'video_name')"
   ]
  },
  {
   "cell_type": "code",
   "execution_count": 6,
   "id": "thermal-angola",
   "metadata": {},
   "outputs": [
    {
     "data": {
      "text/html": [
       "<div>\n",
       "<style scoped>\n",
       "    .dataframe tbody tr th:only-of-type {\n",
       "        vertical-align: middle;\n",
       "    }\n",
       "\n",
       "    .dataframe tbody tr th {\n",
       "        vertical-align: top;\n",
       "    }\n",
       "\n",
       "    .dataframe thead th {\n",
       "        text-align: right;\n",
       "    }\n",
       "</style>\n",
       "<table border=\"1\" class=\"dataframe\">\n",
       "  <thead>\n",
       "    <tr style=\"text-align: right;\">\n",
       "      <th></th>\n",
       "      <th>video_id</th>\n",
       "      <th>video_tags</th>\n",
       "      <th>video_description</th>\n",
       "      <th>video_release_date</th>\n",
       "      <th>video_director_list</th>\n",
       "      <th>video_actor_list</th>\n",
       "      <th>video_score</th>\n",
       "      <th>video_second_class</th>\n",
       "      <th>video_duration</th>\n",
       "      <th>video_name_0</th>\n",
       "      <th>...</th>\n",
       "      <th>video_name_22</th>\n",
       "      <th>video_name_23</th>\n",
       "      <th>video_name_24</th>\n",
       "      <th>video_name_25</th>\n",
       "      <th>video_name_26</th>\n",
       "      <th>video_name_27</th>\n",
       "      <th>video_name_28</th>\n",
       "      <th>video_name_29</th>\n",
       "      <th>video_name_30</th>\n",
       "      <th>video_name_31</th>\n",
       "    </tr>\n",
       "  </thead>\n",
       "  <tbody>\n",
       "    <tr>\n",
       "      <th>0</th>\n",
       "      <td>3460</td>\n",
       "      <td>院线电影,家庭关系,命运</td>\n",
       "      <td>中年失意的儿子田力行（古天乐饰）在生活上遇到了重重危机：母亲病逝,工作不顺,妻子要求离婚。正...</td>\n",
       "      <td>2017-04-27</td>\n",
       "      <td>司徒慧焯</td>\n",
       "      <td>吴镇宇,古天乐,春夏,蔡洁</td>\n",
       "      <td>7.4</td>\n",
       "      <td>剧情,喜剧,奇幻</td>\n",
       "      <td>5913</td>\n",
       "      <td>0.043062</td>\n",
       "      <td>...</td>\n",
       "      <td>0.026531</td>\n",
       "      <td>-0.039590</td>\n",
       "      <td>0.016052</td>\n",
       "      <td>0.061739</td>\n",
       "      <td>-0.013442</td>\n",
       "      <td>-0.018221</td>\n",
       "      <td>-0.128394</td>\n",
       "      <td>-0.099944</td>\n",
       "      <td>-0.000227</td>\n",
       "      <td>-0.046929</td>\n",
       "    </tr>\n",
       "    <tr>\n",
       "      <th>1</th>\n",
       "      <td>14553</td>\n",
       "      <td>古装喜剧,剧情片,喜剧片,内地电影,欢乐喜剧,爱情纠纷</td>\n",
       "      <td>故事始于西门庆为西门药业的“伟哥”产品寻找代言人，西门庆初见潘金莲，一时惊为天人，为成功抱得...</td>\n",
       "      <td>2015-12-30</td>\n",
       "      <td>杨珊珊,李亚玲</td>\n",
       "      <td>陈南飞,程隆妮,王闯,贾海涛,闫薇儿</td>\n",
       "      <td>5.6</td>\n",
       "      <td>喜剧</td>\n",
       "      <td>6217</td>\n",
       "      <td>0.041421</td>\n",
       "      <td>...</td>\n",
       "      <td>0.022769</td>\n",
       "      <td>-0.008588</td>\n",
       "      <td>-0.014664</td>\n",
       "      <td>0.075853</td>\n",
       "      <td>-0.019490</td>\n",
       "      <td>-0.018492</td>\n",
       "      <td>-0.035816</td>\n",
       "      <td>-0.064760</td>\n",
       "      <td>0.036593</td>\n",
       "      <td>-0.050374</td>\n",
       "    </tr>\n",
       "    <tr>\n",
       "      <th>2</th>\n",
       "      <td>1214</td>\n",
       "      <td>男女关系,家庭关系,命运,院线电影</td>\n",
       "      <td>香世仁（钟镇涛 饰）是家财万贯的香港富豪，在满足了一切物质上的要求后，他将生活的重心放在了儿...</td>\n",
       "      <td>2002-03-07</td>\n",
       "      <td>邱礼涛,杨漪珊</td>\n",
       "      <td>张家辉,卢巧音,钟镇涛,叶童,李蕙敏,张坚庭,袁洁莹,黄佩霞,齐芷瑶,刘以达,叶伟信,邹凯光...</td>\n",
       "      <td>6.8</td>\n",
       "      <td>都市,喜剧,爱情,家庭</td>\n",
       "      <td>5963</td>\n",
       "      <td>0.127346</td>\n",
       "      <td>...</td>\n",
       "      <td>0.008498</td>\n",
       "      <td>0.010186</td>\n",
       "      <td>0.018149</td>\n",
       "      <td>0.084999</td>\n",
       "      <td>-0.046210</td>\n",
       "      <td>-0.052868</td>\n",
       "      <td>-0.097804</td>\n",
       "      <td>-0.103179</td>\n",
       "      <td>0.058598</td>\n",
       "      <td>-0.011098</td>\n",
       "    </tr>\n",
       "    <tr>\n",
       "      <th>3</th>\n",
       "      <td>30639</td>\n",
       "      <td>短片,动画片</td>\n",
       "      <td>低音大提琴演奏家史密斯科夫正要去参加某贵族的沙龙，途中他被河边的美丽景色所吸引，驻足观看。兴...</td>\n",
       "      <td>1949-01-01</td>\n",
       "      <td>伊里·特恩卡,契诃夫</td>\n",
       "      <td></td>\n",
       "      <td>NaN</td>\n",
       "      <td>动画,爱情</td>\n",
       "      <td>17371</td>\n",
       "      <td>0.062892</td>\n",
       "      <td>...</td>\n",
       "      <td>-0.041415</td>\n",
       "      <td>0.030906</td>\n",
       "      <td>0.066158</td>\n",
       "      <td>0.020402</td>\n",
       "      <td>-0.001215</td>\n",
       "      <td>-0.024880</td>\n",
       "      <td>-0.102883</td>\n",
       "      <td>0.029738</td>\n",
       "      <td>-0.040433</td>\n",
       "      <td>-0.040626</td>\n",
       "    </tr>\n",
       "    <tr>\n",
       "      <th>4</th>\n",
       "      <td>38522</td>\n",
       "      <td>喜剧片,人物传记,浪漫爱情</td>\n",
       "      <td>罗伯特．Z．伦纳德导演的这部影片以百老汇最大的歌舞团——齐格菲歌舞团的创办人佛罗伦斯．齐格菲...</td>\n",
       "      <td>1936-04-08</td>\n",
       "      <td>罗伯特·Z·伦纳德,William Anthony McGuire</td>\n",
       "      <td>威廉·鲍威尔,玛娜·洛伊,路易丝·赖纳,弗兰克·摩根,范妮·布莱斯,弗吉尼亚·布鲁斯,雷吉纳...</td>\n",
       "      <td>7.7</td>\n",
       "      <td>剧情,歌舞,喜剧</td>\n",
       "      <td>10608</td>\n",
       "      <td>0.071006</td>\n",
       "      <td>...</td>\n",
       "      <td>-0.027159</td>\n",
       "      <td>-0.027172</td>\n",
       "      <td>0.031251</td>\n",
       "      <td>0.107349</td>\n",
       "      <td>-0.005234</td>\n",
       "      <td>-0.037712</td>\n",
       "      <td>-0.082833</td>\n",
       "      <td>-0.050449</td>\n",
       "      <td>-0.014269</td>\n",
       "      <td>-0.085271</td>\n",
       "    </tr>\n",
       "  </tbody>\n",
       "</table>\n",
       "<p>5 rows × 41 columns</p>\n",
       "</div>"
      ],
      "text/plain": [
       "   video_id                   video_tags  \\\n",
       "0      3460                 院线电影,家庭关系,命运   \n",
       "1     14553  古装喜剧,剧情片,喜剧片,内地电影,欢乐喜剧,爱情纠纷   \n",
       "2      1214            男女关系,家庭关系,命运,院线电影   \n",
       "3     30639                       短片,动画片   \n",
       "4     38522                喜剧片,人物传记,浪漫爱情   \n",
       "\n",
       "                                   video_description video_release_date  \\\n",
       "0  中年失意的儿子田力行（古天乐饰）在生活上遇到了重重危机：母亲病逝,工作不顺,妻子要求离婚。正...         2017-04-27   \n",
       "1  故事始于西门庆为西门药业的“伟哥”产品寻找代言人，西门庆初见潘金莲，一时惊为天人，为成功抱得...         2015-12-30   \n",
       "2  香世仁（钟镇涛 饰）是家财万贯的香港富豪，在满足了一切物质上的要求后，他将生活的重心放在了儿...         2002-03-07   \n",
       "3  低音大提琴演奏家史密斯科夫正要去参加某贵族的沙龙，途中他被河边的美丽景色所吸引，驻足观看。兴...         1949-01-01   \n",
       "4  罗伯特．Z．伦纳德导演的这部影片以百老汇最大的歌舞团——齐格菲歌舞团的创办人佛罗伦斯．齐格菲...         1936-04-08   \n",
       "\n",
       "                 video_director_list  \\\n",
       "0                               司徒慧焯   \n",
       "1                            杨珊珊,李亚玲   \n",
       "2                            邱礼涛,杨漪珊   \n",
       "3                         伊里·特恩卡,契诃夫   \n",
       "4  罗伯特·Z·伦纳德,William Anthony McGuire   \n",
       "\n",
       "                                    video_actor_list  video_score  \\\n",
       "0                                      吴镇宇,古天乐,春夏,蔡洁          7.4   \n",
       "1                                 陈南飞,程隆妮,王闯,贾海涛,闫薇儿          5.6   \n",
       "2  张家辉,卢巧音,钟镇涛,叶童,李蕙敏,张坚庭,袁洁莹,黄佩霞,齐芷瑶,刘以达,叶伟信,邹凯光...          6.8   \n",
       "3                                                             NaN   \n",
       "4  威廉·鲍威尔,玛娜·洛伊,路易丝·赖纳,弗兰克·摩根,范妮·布莱斯,弗吉尼亚·布鲁斯,雷吉纳...          7.7   \n",
       "\n",
       "  video_second_class  video_duration  video_name_0  ...  video_name_22  \\\n",
       "0           剧情,喜剧,奇幻            5913      0.043062  ...       0.026531   \n",
       "1                 喜剧            6217      0.041421  ...       0.022769   \n",
       "2        都市,喜剧,爱情,家庭            5963      0.127346  ...       0.008498   \n",
       "3              动画,爱情           17371      0.062892  ...      -0.041415   \n",
       "4           剧情,歌舞,喜剧           10608      0.071006  ...      -0.027159   \n",
       "\n",
       "   video_name_23  video_name_24  video_name_25  video_name_26  video_name_27  \\\n",
       "0      -0.039590       0.016052       0.061739      -0.013442      -0.018221   \n",
       "1      -0.008588      -0.014664       0.075853      -0.019490      -0.018492   \n",
       "2       0.010186       0.018149       0.084999      -0.046210      -0.052868   \n",
       "3       0.030906       0.066158       0.020402      -0.001215      -0.024880   \n",
       "4      -0.027172       0.031251       0.107349      -0.005234      -0.037712   \n",
       "\n",
       "   video_name_28  video_name_29  video_name_30  video_name_31  \n",
       "0      -0.128394      -0.099944      -0.000227      -0.046929  \n",
       "1      -0.035816      -0.064760       0.036593      -0.050374  \n",
       "2      -0.097804      -0.103179       0.058598      -0.011098  \n",
       "3      -0.102883       0.029738      -0.040433      -0.040626  \n",
       "4      -0.082833      -0.050449      -0.014269      -0.085271  \n",
       "\n",
       "[5 rows x 41 columns]"
      ]
     },
     "execution_count": 6,
     "metadata": {},
     "output_type": "execute_result"
    }
   ],
   "source": [
    "video_df.head()"
   ]
  },
  {
   "cell_type": "markdown",
   "id": "vital-temple",
   "metadata": {},
   "source": [
    "### video_tags"
   ]
  },
  {
   "cell_type": "markdown",
   "id": "wrong-freight",
   "metadata": {},
   "source": [
    "> video_tags: 先分词，然后生成multi-hot向量，然后降为10维。"
   ]
  },
  {
   "cell_type": "code",
   "execution_count": 7,
   "id": "arabic-agreement",
   "metadata": {},
   "outputs": [],
   "source": [
    "m_h_encode = getMultiHotLabel(video_df, 'video_tags')"
   ]
  },
  {
   "cell_type": "code",
   "execution_count": 8,
   "id": "hispanic-interpretation",
   "metadata": {},
   "outputs": [],
   "source": [
    "tags_lda = getLDAencode(m_h_encode, 16)"
   ]
  },
  {
   "cell_type": "code",
   "execution_count": 9,
   "id": "annoying-offer",
   "metadata": {},
   "outputs": [
    {
     "name": "stdout",
     "output_type": "stream",
     "text": [
      "拼接成功\n"
     ]
    }
   ],
   "source": [
    "video_df = concatDf(video_df, tags_lda, 'video_tags')"
   ]
  },
  {
   "cell_type": "markdown",
   "id": "textile-uruguay",
   "metadata": {},
   "source": [
    "### video_description  \n",
    ">  将视频描述转换为向量"
   ]
  },
  {
   "cell_type": "markdown",
   "id": "appreciated-printing",
   "metadata": {},
   "source": [
    "> 训练doc2vec模型，采用豆瓣电影数据集。https://github.com/csuldw/AntSpider"
   ]
  },
  {
   "cell_type": "markdown",
   "id": "heated-lending",
   "metadata": {},
   "source": [
    "m_storylines = pd.read_csv(\"../../dataset/traindata/video_features_data/movie_storylines.csv\")"
   ]
  },
  {
   "cell_type": "markdown",
   "id": "turned-nirvana",
   "metadata": {
    "tags": []
   },
   "source": [
    "# 引入日志配置\n",
    "logging.basicConfig(format='%(asctime)s : %(levelname)s : %(message)s', level=logging.INFO)\n",
    "\n",
    "# 加载数据\n",
    "documents = []\n",
    "# 使用count当做每个句子的“标签”，标签和每个句子是一一对应的\n",
    "count = 0\n",
    "\n",
    "# 采用百度停用词\n",
    "stopwords = [line.strip() for line in open('../../baidu_stopwords.txt',encoding='UTF-8').readlines()]\n",
    "\n",
    "description = m_storylines[\"STORYLINE\"]\n",
    "\n",
    "for line in description:\n",
    "    line = re.sub(r'[\\s，。？?！“”‘’…：；:（）《》、—.．*~～＿－-]','',line)\n",
    "    words = jieba.cut(line)\n",
    "    w_list = []\n",
    "    for w in words:\n",
    "        if w not in stopwords:\n",
    "            w_list.append(w)\n",
    "            \n",
    "    documents.append(gensim.models.doc2vec.TaggedDocument(w_list, [str(count)]))\n",
    "    \n",
    "    count += 1\n",
    "    if count % 10000 == 0:\n",
    "        logging.info('{} has loaded...'.format(count))\n",
    "    w_list = []\n",
    "\n",
    "# 模型训练\n",
    "model = Doc2Vec(documents, vector_size=32, dm=1, window=8, min_count=5, workers=4)\n",
    "# 保存模型\n",
    "model.save('../ckp/doc2vec.model')"
   ]
  },
  {
   "cell_type": "markdown",
   "id": "fixed-karaoke",
   "metadata": {},
   "source": [
    "- 对视频描述进行转换"
   ]
  },
  {
   "cell_type": "code",
   "execution_count": 10,
   "id": "absent-noise",
   "metadata": {
    "tags": []
   },
   "outputs": [
    {
     "name": "stdout",
     "output_type": "stream",
     "text": [
      "<class 'pandas.core.frame.DataFrame'>\n",
      "RangeIndex: 50355 entries, 0 to 50354\n",
      "Data columns (total 32 columns):\n",
      " #   Column  Non-Null Count  Dtype  \n",
      "---  ------  --------------  -----  \n",
      " 0   0       50355 non-null  float64\n",
      " 1   1       50355 non-null  float64\n",
      " 2   2       50355 non-null  float64\n",
      " 3   3       50355 non-null  float64\n",
      " 4   4       50355 non-null  float64\n",
      " 5   5       50355 non-null  float64\n",
      " 6   6       50355 non-null  float64\n",
      " 7   7       50355 non-null  float64\n",
      " 8   8       50355 non-null  float64\n",
      " 9   9       50355 non-null  float64\n",
      " 10  10      50355 non-null  float64\n",
      " 11  11      50355 non-null  float64\n",
      " 12  12      50355 non-null  float64\n",
      " 13  13      50355 non-null  float64\n",
      " 14  14      50355 non-null  float64\n",
      " 15  15      50355 non-null  float64\n",
      " 16  16      50355 non-null  float64\n",
      " 17  17      50355 non-null  float64\n",
      " 18  18      50355 non-null  float64\n",
      " 19  19      50355 non-null  float64\n",
      " 20  20      50355 non-null  float64\n",
      " 21  21      50355 non-null  float64\n",
      " 22  22      50355 non-null  float64\n",
      " 23  23      50355 non-null  float64\n",
      " 24  24      50355 non-null  float64\n",
      " 25  25      50355 non-null  float64\n",
      " 26  26      50355 non-null  float64\n",
      " 27  27      50355 non-null  float64\n",
      " 28  28      50355 non-null  float64\n",
      " 29  29      50355 non-null  float64\n",
      " 30  30      50355 non-null  float64\n",
      " 31  31      50355 non-null  float64\n",
      "dtypes: float64(32)\n",
      "memory usage: 12.3 MB\n"
     ]
    }
   ],
   "source": [
    "v_des = video_df['video_description']\n",
    "sen_encodes = []\n",
    "for line in v_des:\n",
    "    words_list = cut_sentence(line)\n",
    "    sen_encode = para_doc2vec(words_list)\n",
    "    sen_encodes.append(sen_encode)\n",
    "video_descriptions = pd.DataFrame(sen_encodes)\n",
    "video_descriptions.info()"
   ]
  },
  {
   "cell_type": "code",
   "execution_count": 11,
   "id": "ancient-holiday",
   "metadata": {},
   "outputs": [
    {
     "name": "stdout",
     "output_type": "stream",
     "text": [
      "拼接成功\n"
     ]
    }
   ],
   "source": [
    "video_df = concatDf(video_df, video_descriptions, 'video_description')"
   ]
  },
  {
   "cell_type": "code",
   "execution_count": 12,
   "id": "initial-antigua",
   "metadata": {},
   "outputs": [
    {
     "name": "stdout",
     "output_type": "stream",
     "text": [
      "<class 'pandas.core.frame.DataFrame'>\n",
      "RangeIndex: 50355 entries, 0 to 50354\n",
      "Data columns (total 87 columns):\n",
      " #   Column                Non-Null Count  Dtype  \n",
      "---  ------                --------------  -----  \n",
      " 0   video_id              50355 non-null  int32  \n",
      " 1   video_release_date    50355 non-null  object \n",
      " 2   video_director_list   50355 non-null  object \n",
      " 3   video_actor_list      50355 non-null  object \n",
      " 4   video_score           46994 non-null  float64\n",
      " 5   video_second_class    50355 non-null  object \n",
      " 6   video_duration        50355 non-null  int32  \n",
      " 7   video_name_0          50355 non-null  float64\n",
      " 8   video_name_1          50355 non-null  float64\n",
      " 9   video_name_2          50355 non-null  float64\n",
      " 10  video_name_3          50355 non-null  float64\n",
      " 11  video_name_4          50355 non-null  float64\n",
      " 12  video_name_5          50355 non-null  float64\n",
      " 13  video_name_6          50355 non-null  float64\n",
      " 14  video_name_7          50355 non-null  float64\n",
      " 15  video_name_8          50355 non-null  float64\n",
      " 16  video_name_9          50355 non-null  float64\n",
      " 17  video_name_10         50355 non-null  float64\n",
      " 18  video_name_11         50355 non-null  float64\n",
      " 19  video_name_12         50355 non-null  float64\n",
      " 20  video_name_13         50355 non-null  float64\n",
      " 21  video_name_14         50355 non-null  float64\n",
      " 22  video_name_15         50355 non-null  float64\n",
      " 23  video_name_16         50355 non-null  float64\n",
      " 24  video_name_17         50355 non-null  float64\n",
      " 25  video_name_18         50355 non-null  float64\n",
      " 26  video_name_19         50355 non-null  float64\n",
      " 27  video_name_20         50355 non-null  float64\n",
      " 28  video_name_21         50355 non-null  float64\n",
      " 29  video_name_22         50355 non-null  float64\n",
      " 30  video_name_23         50355 non-null  float64\n",
      " 31  video_name_24         50355 non-null  float64\n",
      " 32  video_name_25         50355 non-null  float64\n",
      " 33  video_name_26         50355 non-null  float64\n",
      " 34  video_name_27         50355 non-null  float64\n",
      " 35  video_name_28         50355 non-null  float64\n",
      " 36  video_name_29         50355 non-null  float64\n",
      " 37  video_name_30         50355 non-null  float64\n",
      " 38  video_name_31         50355 non-null  float64\n",
      " 39  video_tags_0          50355 non-null  float64\n",
      " 40  video_tags_1          50355 non-null  float64\n",
      " 41  video_tags_2          50355 non-null  float64\n",
      " 42  video_tags_3          50355 non-null  float64\n",
      " 43  video_tags_4          50355 non-null  float64\n",
      " 44  video_tags_5          50355 non-null  float64\n",
      " 45  video_tags_6          50355 non-null  float64\n",
      " 46  video_tags_7          50355 non-null  float64\n",
      " 47  video_tags_8          50355 non-null  float64\n",
      " 48  video_tags_9          50355 non-null  float64\n",
      " 49  video_tags_10         50355 non-null  float64\n",
      " 50  video_tags_11         50355 non-null  float64\n",
      " 51  video_tags_12         50355 non-null  float64\n",
      " 52  video_tags_13         50355 non-null  float64\n",
      " 53  video_tags_14         50355 non-null  float64\n",
      " 54  video_tags_15         50355 non-null  float64\n",
      " 55  video_description_0   50355 non-null  float64\n",
      " 56  video_description_1   50355 non-null  float64\n",
      " 57  video_description_2   50355 non-null  float64\n",
      " 58  video_description_3   50355 non-null  float64\n",
      " 59  video_description_4   50355 non-null  float64\n",
      " 60  video_description_5   50355 non-null  float64\n",
      " 61  video_description_6   50355 non-null  float64\n",
      " 62  video_description_7   50355 non-null  float64\n",
      " 63  video_description_8   50355 non-null  float64\n",
      " 64  video_description_9   50355 non-null  float64\n",
      " 65  video_description_10  50355 non-null  float64\n",
      " 66  video_description_11  50355 non-null  float64\n",
      " 67  video_description_12  50355 non-null  float64\n",
      " 68  video_description_13  50355 non-null  float64\n",
      " 69  video_description_14  50355 non-null  float64\n",
      " 70  video_description_15  50355 non-null  float64\n",
      " 71  video_description_16  50355 non-null  float64\n",
      " 72  video_description_17  50355 non-null  float64\n",
      " 73  video_description_18  50355 non-null  float64\n",
      " 74  video_description_19  50355 non-null  float64\n",
      " 75  video_description_20  50355 non-null  float64\n",
      " 76  video_description_21  50355 non-null  float64\n",
      " 77  video_description_22  50355 non-null  float64\n",
      " 78  video_description_23  50355 non-null  float64\n",
      " 79  video_description_24  50355 non-null  float64\n",
      " 80  video_description_25  50355 non-null  float64\n",
      " 81  video_description_26  50355 non-null  float64\n",
      " 82  video_description_27  50355 non-null  float64\n",
      " 83  video_description_28  50355 non-null  float64\n",
      " 84  video_description_29  50355 non-null  float64\n",
      " 85  video_description_30  50355 non-null  float64\n",
      " 86  video_description_31  50355 non-null  float64\n",
      "dtypes: float64(81), int32(2), object(4)\n",
      "memory usage: 33.0+ MB\n"
     ]
    }
   ],
   "source": [
    "video_df.info()"
   ]
  },
  {
   "cell_type": "markdown",
   "id": "apart-breath",
   "metadata": {},
   "source": [
    "### video_release_date\n",
    "> 将年份划分为年月即可"
   ]
  },
  {
   "cell_type": "code",
   "execution_count": 13,
   "id": "sitting-justice",
   "metadata": {},
   "outputs": [],
   "source": [
    "video_release_date = video_df['video_release_date']"
   ]
  },
  {
   "cell_type": "code",
   "execution_count": 14,
   "id": "buried-annex",
   "metadata": {},
   "outputs": [
    {
     "data": {
      "text/plain": [
       "0    2017-04-27\n",
       "1    2015-12-30\n",
       "2    2002-03-07\n",
       "Name: video_release_date, dtype: object"
      ]
     },
     "execution_count": 14,
     "metadata": {},
     "output_type": "execute_result"
    }
   ],
   "source": [
    "video_release_date.head(3)"
   ]
  },
  {
   "cell_type": "code",
   "execution_count": 15,
   "id": "downtown-charge",
   "metadata": {},
   "outputs": [],
   "source": [
    "video_df['video_release_date'] = pd.to_datetime(video_df['video_release_date'])\n",
    "video_df['video_release_year'] = video_df['video_release_date'].dt.year\n",
    "video_df['video_release_month'] = video_df['video_release_date'].dt.month\n",
    "video_df['video_release_day'] = video_df['video_release_date'].dt.day\n",
    "video_df.drop('video_release_date', axis=1, inplace=True)  # 删除原来的视频发布日期特征"
   ]
  },
  {
   "cell_type": "markdown",
   "id": "finite-promotion",
   "metadata": {},
   "source": [
    "> 暂时不填充，缺失值"
   ]
  },
  {
   "cell_type": "markdown",
   "id": "changing-walnut",
   "metadata": {},
   "source": [
    "### video_director_list\n",
    "> multi-hot, LDA降维"
   ]
  },
  {
   "cell_type": "code",
   "execution_count": 16,
   "id": "continental-brazilian",
   "metadata": {},
   "outputs": [],
   "source": [
    "m_l_diretor = getMultiHotLabel(video_df, 'video_director_list')"
   ]
  },
  {
   "cell_type": "code",
   "execution_count": 17,
   "id": "waiting-flesh",
   "metadata": {},
   "outputs": [],
   "source": [
    "new_director_list = getLDAencode(m_l_diretor)"
   ]
  },
  {
   "cell_type": "code",
   "execution_count": 18,
   "id": "express-causing",
   "metadata": {},
   "outputs": [
    {
     "name": "stdout",
     "output_type": "stream",
     "text": [
      "拼接成功\n"
     ]
    }
   ],
   "source": [
    "video_df = concatDf(video_df, new_director_list, 'video_director_list')"
   ]
  },
  {
   "cell_type": "code",
   "execution_count": 19,
   "id": "pediatric-marine",
   "metadata": {},
   "outputs": [
    {
     "name": "stdout",
     "output_type": "stream",
     "text": [
      "<class 'pandas.core.frame.DataFrame'>\n",
      "RangeIndex: 50355 entries, 0 to 50354\n",
      "Columns: 104 entries, video_id to video_director_list_15\n",
      "dtypes: float64(100), int32(2), object(2)\n",
      "memory usage: 39.6+ MB\n"
     ]
    }
   ],
   "source": [
    "video_df.info()"
   ]
  },
  {
   "cell_type": "markdown",
   "id": "approximate-zimbabwe",
   "metadata": {},
   "source": [
    "### video_actor_list\n",
    "> 同上，multi-hot，然后LDA降维"
   ]
  },
  {
   "cell_type": "code",
   "execution_count": 20,
   "id": "arctic-publicity",
   "metadata": {},
   "outputs": [],
   "source": [
    "m_h_actor = getMultiHotLabel(video_df, 'video_actor_list')"
   ]
  },
  {
   "cell_type": "code",
   "execution_count": 21,
   "id": "popular-killer",
   "metadata": {},
   "outputs": [],
   "source": [
    "new_actor_df = getLDAencode(m_h_actor)"
   ]
  },
  {
   "cell_type": "code",
   "execution_count": 22,
   "id": "lined-manufacturer",
   "metadata": {},
   "outputs": [
    {
     "name": "stdout",
     "output_type": "stream",
     "text": [
      "拼接成功\n"
     ]
    }
   ],
   "source": [
    "video_df = concatDf(video_df, new_actor_df, 'video_actor_list')"
   ]
  },
  {
   "cell_type": "code",
   "execution_count": 23,
   "id": "stone-fetish",
   "metadata": {},
   "outputs": [
    {
     "name": "stdout",
     "output_type": "stream",
     "text": [
      "<class 'pandas.core.frame.DataFrame'>\n",
      "RangeIndex: 50355 entries, 0 to 50354\n",
      "Columns: 119 entries, video_id to video_actor_list_15\n",
      "dtypes: float64(116), int32(2), object(1)\n",
      "memory usage: 45.3+ MB\n"
     ]
    }
   ],
   "source": [
    "video_df.info()"
   ]
  },
  {
   "cell_type": "code",
   "execution_count": 24,
   "id": "yellow-dining",
   "metadata": {},
   "outputs": [
    {
     "data": {
      "text/html": [
       "<div>\n",
       "<style scoped>\n",
       "    .dataframe tbody tr th:only-of-type {\n",
       "        vertical-align: middle;\n",
       "    }\n",
       "\n",
       "    .dataframe tbody tr th {\n",
       "        vertical-align: top;\n",
       "    }\n",
       "\n",
       "    .dataframe thead th {\n",
       "        text-align: right;\n",
       "    }\n",
       "</style>\n",
       "<table border=\"1\" class=\"dataframe\">\n",
       "  <thead>\n",
       "    <tr style=\"text-align: right;\">\n",
       "      <th></th>\n",
       "      <th>video_id</th>\n",
       "      <th>video_score</th>\n",
       "      <th>video_second_class</th>\n",
       "      <th>video_duration</th>\n",
       "      <th>video_name_0</th>\n",
       "      <th>video_name_1</th>\n",
       "      <th>video_name_2</th>\n",
       "      <th>video_name_3</th>\n",
       "      <th>video_name_4</th>\n",
       "      <th>video_name_5</th>\n",
       "      <th>...</th>\n",
       "      <th>video_actor_list_6</th>\n",
       "      <th>video_actor_list_7</th>\n",
       "      <th>video_actor_list_8</th>\n",
       "      <th>video_actor_list_9</th>\n",
       "      <th>video_actor_list_10</th>\n",
       "      <th>video_actor_list_11</th>\n",
       "      <th>video_actor_list_12</th>\n",
       "      <th>video_actor_list_13</th>\n",
       "      <th>video_actor_list_14</th>\n",
       "      <th>video_actor_list_15</th>\n",
       "    </tr>\n",
       "  </thead>\n",
       "  <tbody>\n",
       "    <tr>\n",
       "      <th>0</th>\n",
       "      <td>3460</td>\n",
       "      <td>7.4</td>\n",
       "      <td>剧情,喜剧,奇幻</td>\n",
       "      <td>5913</td>\n",
       "      <td>0.043062</td>\n",
       "      <td>-0.073790</td>\n",
       "      <td>0.111853</td>\n",
       "      <td>-0.029774</td>\n",
       "      <td>0.024150</td>\n",
       "      <td>-0.035227</td>\n",
       "      <td>...</td>\n",
       "      <td>0.012500</td>\n",
       "      <td>0.012500</td>\n",
       "      <td>0.012500</td>\n",
       "      <td>0.012500</td>\n",
       "      <td>0.012500</td>\n",
       "      <td>0.012500</td>\n",
       "      <td>0.012500</td>\n",
       "      <td>0.012500</td>\n",
       "      <td>0.012500</td>\n",
       "      <td>0.012500</td>\n",
       "    </tr>\n",
       "    <tr>\n",
       "      <th>1</th>\n",
       "      <td>14553</td>\n",
       "      <td>5.6</td>\n",
       "      <td>喜剧</td>\n",
       "      <td>6217</td>\n",
       "      <td>0.041421</td>\n",
       "      <td>-0.012366</td>\n",
       "      <td>0.102273</td>\n",
       "      <td>-0.083679</td>\n",
       "      <td>-0.017905</td>\n",
       "      <td>-0.002874</td>\n",
       "      <td>...</td>\n",
       "      <td>0.010417</td>\n",
       "      <td>0.010417</td>\n",
       "      <td>0.843750</td>\n",
       "      <td>0.010417</td>\n",
       "      <td>0.010417</td>\n",
       "      <td>0.010417</td>\n",
       "      <td>0.010417</td>\n",
       "      <td>0.010417</td>\n",
       "      <td>0.010417</td>\n",
       "      <td>0.010417</td>\n",
       "    </tr>\n",
       "    <tr>\n",
       "      <th>2</th>\n",
       "      <td>1214</td>\n",
       "      <td>6.8</td>\n",
       "      <td>都市,喜剧,爱情,家庭</td>\n",
       "      <td>5963</td>\n",
       "      <td>0.127346</td>\n",
       "      <td>-0.132490</td>\n",
       "      <td>0.105639</td>\n",
       "      <td>0.009054</td>\n",
       "      <td>0.097110</td>\n",
       "      <td>-0.035699</td>\n",
       "      <td>...</td>\n",
       "      <td>0.003906</td>\n",
       "      <td>0.003906</td>\n",
       "      <td>0.003906</td>\n",
       "      <td>0.003906</td>\n",
       "      <td>0.003906</td>\n",
       "      <td>0.003906</td>\n",
       "      <td>0.003906</td>\n",
       "      <td>0.003906</td>\n",
       "      <td>0.003906</td>\n",
       "      <td>0.003906</td>\n",
       "    </tr>\n",
       "    <tr>\n",
       "      <th>3</th>\n",
       "      <td>30639</td>\n",
       "      <td>NaN</td>\n",
       "      <td>动画,爱情</td>\n",
       "      <td>17371</td>\n",
       "      <td>0.062892</td>\n",
       "      <td>-0.053055</td>\n",
       "      <td>0.049159</td>\n",
       "      <td>-0.029343</td>\n",
       "      <td>0.010458</td>\n",
       "      <td>-0.009849</td>\n",
       "      <td>...</td>\n",
       "      <td>0.031250</td>\n",
       "      <td>0.031250</td>\n",
       "      <td>0.031250</td>\n",
       "      <td>0.031250</td>\n",
       "      <td>0.531250</td>\n",
       "      <td>0.031250</td>\n",
       "      <td>0.031250</td>\n",
       "      <td>0.031250</td>\n",
       "      <td>0.031250</td>\n",
       "      <td>0.031250</td>\n",
       "    </tr>\n",
       "    <tr>\n",
       "      <th>4</th>\n",
       "      <td>38522</td>\n",
       "      <td>7.7</td>\n",
       "      <td>剧情,歌舞,喜剧</td>\n",
       "      <td>10608</td>\n",
       "      <td>0.071006</td>\n",
       "      <td>-0.093382</td>\n",
       "      <td>0.105073</td>\n",
       "      <td>-0.030376</td>\n",
       "      <td>0.051780</td>\n",
       "      <td>0.004910</td>\n",
       "      <td>...</td>\n",
       "      <td>0.006944</td>\n",
       "      <td>0.006944</td>\n",
       "      <td>0.006944</td>\n",
       "      <td>0.006944</td>\n",
       "      <td>0.006944</td>\n",
       "      <td>0.006944</td>\n",
       "      <td>0.006944</td>\n",
       "      <td>0.006944</td>\n",
       "      <td>0.006944</td>\n",
       "      <td>0.895833</td>\n",
       "    </tr>\n",
       "  </tbody>\n",
       "</table>\n",
       "<p>5 rows × 119 columns</p>\n",
       "</div>"
      ],
      "text/plain": [
       "   video_id  video_score video_second_class  video_duration  video_name_0  \\\n",
       "0      3460          7.4           剧情,喜剧,奇幻            5913      0.043062   \n",
       "1     14553          5.6                 喜剧            6217      0.041421   \n",
       "2      1214          6.8        都市,喜剧,爱情,家庭            5963      0.127346   \n",
       "3     30639          NaN              动画,爱情           17371      0.062892   \n",
       "4     38522          7.7           剧情,歌舞,喜剧           10608      0.071006   \n",
       "\n",
       "   video_name_1  video_name_2  video_name_3  video_name_4  video_name_5  ...  \\\n",
       "0     -0.073790      0.111853     -0.029774      0.024150     -0.035227  ...   \n",
       "1     -0.012366      0.102273     -0.083679     -0.017905     -0.002874  ...   \n",
       "2     -0.132490      0.105639      0.009054      0.097110     -0.035699  ...   \n",
       "3     -0.053055      0.049159     -0.029343      0.010458     -0.009849  ...   \n",
       "4     -0.093382      0.105073     -0.030376      0.051780      0.004910  ...   \n",
       "\n",
       "   video_actor_list_6  video_actor_list_7  video_actor_list_8  \\\n",
       "0            0.012500            0.012500            0.012500   \n",
       "1            0.010417            0.010417            0.843750   \n",
       "2            0.003906            0.003906            0.003906   \n",
       "3            0.031250            0.031250            0.031250   \n",
       "4            0.006944            0.006944            0.006944   \n",
       "\n",
       "   video_actor_list_9  video_actor_list_10  video_actor_list_11  \\\n",
       "0            0.012500             0.012500             0.012500   \n",
       "1            0.010417             0.010417             0.010417   \n",
       "2            0.003906             0.003906             0.003906   \n",
       "3            0.031250             0.531250             0.031250   \n",
       "4            0.006944             0.006944             0.006944   \n",
       "\n",
       "   video_actor_list_12  video_actor_list_13  video_actor_list_14  \\\n",
       "0             0.012500             0.012500             0.012500   \n",
       "1             0.010417             0.010417             0.010417   \n",
       "2             0.003906             0.003906             0.003906   \n",
       "3             0.031250             0.031250             0.031250   \n",
       "4             0.006944             0.006944             0.006944   \n",
       "\n",
       "   video_actor_list_15  \n",
       "0             0.012500  \n",
       "1             0.010417  \n",
       "2             0.003906  \n",
       "3             0.031250  \n",
       "4             0.895833  \n",
       "\n",
       "[5 rows x 119 columns]"
      ]
     },
     "execution_count": 24,
     "metadata": {},
     "output_type": "execute_result"
    }
   ],
   "source": [
    "video_df.head(5)"
   ]
  },
  {
   "cell_type": "markdown",
   "id": "printable-adjustment",
   "metadata": {},
   "source": [
    "### score\n",
    "> 数值特征，无需改变"
   ]
  },
  {
   "cell_type": "markdown",
   "id": "revised-generic",
   "metadata": {},
   "source": [
    "### video_second_class\n",
    ">multi-hot, LDA"
   ]
  },
  {
   "cell_type": "code",
   "execution_count": 25,
   "id": "valuable-deposit",
   "metadata": {},
   "outputs": [],
   "source": [
    "m_hot = getMultiHotLabel(video_df, 'video_second_class')"
   ]
  },
  {
   "cell_type": "code",
   "execution_count": 26,
   "id": "removable-clearing",
   "metadata": {},
   "outputs": [],
   "source": [
    "lda_encode = getLDAencode(m_hot)"
   ]
  },
  {
   "cell_type": "code",
   "execution_count": 27,
   "id": "norman-receiver",
   "metadata": {},
   "outputs": [
    {
     "name": "stdout",
     "output_type": "stream",
     "text": [
      "拼接成功\n"
     ]
    }
   ],
   "source": [
    "video_df = concatDf(video_df, lda_encode, 'video_second_class')"
   ]
  },
  {
   "cell_type": "code",
   "execution_count": 28,
   "id": "caring-overview",
   "metadata": {},
   "outputs": [
    {
     "data": {
      "text/html": [
       "<div>\n",
       "<style scoped>\n",
       "    .dataframe tbody tr th:only-of-type {\n",
       "        vertical-align: middle;\n",
       "    }\n",
       "\n",
       "    .dataframe tbody tr th {\n",
       "        vertical-align: top;\n",
       "    }\n",
       "\n",
       "    .dataframe thead th {\n",
       "        text-align: right;\n",
       "    }\n",
       "</style>\n",
       "<table border=\"1\" class=\"dataframe\">\n",
       "  <thead>\n",
       "    <tr style=\"text-align: right;\">\n",
       "      <th></th>\n",
       "      <th>video_id</th>\n",
       "      <th>video_score</th>\n",
       "      <th>video_duration</th>\n",
       "      <th>video_name_0</th>\n",
       "      <th>video_name_1</th>\n",
       "      <th>video_name_2</th>\n",
       "      <th>video_name_3</th>\n",
       "      <th>video_name_4</th>\n",
       "      <th>video_name_5</th>\n",
       "      <th>video_name_6</th>\n",
       "      <th>...</th>\n",
       "      <th>video_second_class_6</th>\n",
       "      <th>video_second_class_7</th>\n",
       "      <th>video_second_class_8</th>\n",
       "      <th>video_second_class_9</th>\n",
       "      <th>video_second_class_10</th>\n",
       "      <th>video_second_class_11</th>\n",
       "      <th>video_second_class_12</th>\n",
       "      <th>video_second_class_13</th>\n",
       "      <th>video_second_class_14</th>\n",
       "      <th>video_second_class_15</th>\n",
       "    </tr>\n",
       "  </thead>\n",
       "  <tbody>\n",
       "    <tr>\n",
       "      <th>0</th>\n",
       "      <td>3460</td>\n",
       "      <td>7.4</td>\n",
       "      <td>5913</td>\n",
       "      <td>0.043062</td>\n",
       "      <td>-0.073790</td>\n",
       "      <td>0.111853</td>\n",
       "      <td>-0.029774</td>\n",
       "      <td>0.024150</td>\n",
       "      <td>-0.035227</td>\n",
       "      <td>0.032603</td>\n",
       "      <td>...</td>\n",
       "      <td>0.015625</td>\n",
       "      <td>0.015625</td>\n",
       "      <td>0.015625</td>\n",
       "      <td>0.015625</td>\n",
       "      <td>0.015625</td>\n",
       "      <td>0.015625</td>\n",
       "      <td>0.015625</td>\n",
       "      <td>0.265625</td>\n",
       "      <td>0.265625</td>\n",
       "      <td>0.015625</td>\n",
       "    </tr>\n",
       "    <tr>\n",
       "      <th>1</th>\n",
       "      <td>14553</td>\n",
       "      <td>5.6</td>\n",
       "      <td>6217</td>\n",
       "      <td>0.041421</td>\n",
       "      <td>-0.012366</td>\n",
       "      <td>0.102273</td>\n",
       "      <td>-0.083679</td>\n",
       "      <td>-0.017905</td>\n",
       "      <td>-0.002874</td>\n",
       "      <td>0.029637</td>\n",
       "      <td>...</td>\n",
       "      <td>0.031250</td>\n",
       "      <td>0.031250</td>\n",
       "      <td>0.031250</td>\n",
       "      <td>0.031250</td>\n",
       "      <td>0.031250</td>\n",
       "      <td>0.031250</td>\n",
       "      <td>0.031250</td>\n",
       "      <td>0.031250</td>\n",
       "      <td>0.531250</td>\n",
       "      <td>0.031250</td>\n",
       "    </tr>\n",
       "    <tr>\n",
       "      <th>2</th>\n",
       "      <td>1214</td>\n",
       "      <td>6.8</td>\n",
       "      <td>5963</td>\n",
       "      <td>0.127346</td>\n",
       "      <td>-0.132490</td>\n",
       "      <td>0.105639</td>\n",
       "      <td>0.009054</td>\n",
       "      <td>0.097110</td>\n",
       "      <td>-0.035699</td>\n",
       "      <td>0.022208</td>\n",
       "      <td>...</td>\n",
       "      <td>0.012500</td>\n",
       "      <td>0.012500</td>\n",
       "      <td>0.012500</td>\n",
       "      <td>0.012500</td>\n",
       "      <td>0.012500</td>\n",
       "      <td>0.012500</td>\n",
       "      <td>0.012500</td>\n",
       "      <td>0.212500</td>\n",
       "      <td>0.012500</td>\n",
       "      <td>0.012500</td>\n",
       "    </tr>\n",
       "    <tr>\n",
       "      <th>3</th>\n",
       "      <td>30639</td>\n",
       "      <td>NaN</td>\n",
       "      <td>17371</td>\n",
       "      <td>0.062892</td>\n",
       "      <td>-0.053055</td>\n",
       "      <td>0.049159</td>\n",
       "      <td>-0.029343</td>\n",
       "      <td>0.010458</td>\n",
       "      <td>-0.009849</td>\n",
       "      <td>-0.001803</td>\n",
       "      <td>...</td>\n",
       "      <td>0.020833</td>\n",
       "      <td>0.020833</td>\n",
       "      <td>0.020833</td>\n",
       "      <td>0.020833</td>\n",
       "      <td>0.020833</td>\n",
       "      <td>0.020833</td>\n",
       "      <td>0.020833</td>\n",
       "      <td>0.020833</td>\n",
       "      <td>0.020833</td>\n",
       "      <td>0.020833</td>\n",
       "    </tr>\n",
       "    <tr>\n",
       "      <th>4</th>\n",
       "      <td>38522</td>\n",
       "      <td>7.7</td>\n",
       "      <td>10608</td>\n",
       "      <td>0.071006</td>\n",
       "      <td>-0.093382</td>\n",
       "      <td>0.105073</td>\n",
       "      <td>-0.030376</td>\n",
       "      <td>0.051780</td>\n",
       "      <td>0.004910</td>\n",
       "      <td>0.018744</td>\n",
       "      <td>...</td>\n",
       "      <td>0.015625</td>\n",
       "      <td>0.015625</td>\n",
       "      <td>0.015625</td>\n",
       "      <td>0.515625</td>\n",
       "      <td>0.015625</td>\n",
       "      <td>0.015625</td>\n",
       "      <td>0.015625</td>\n",
       "      <td>0.015625</td>\n",
       "      <td>0.265625</td>\n",
       "      <td>0.015625</td>\n",
       "    </tr>\n",
       "  </tbody>\n",
       "</table>\n",
       "<p>5 rows × 134 columns</p>\n",
       "</div>"
      ],
      "text/plain": [
       "   video_id  video_score  video_duration  video_name_0  video_name_1  \\\n",
       "0      3460          7.4            5913      0.043062     -0.073790   \n",
       "1     14553          5.6            6217      0.041421     -0.012366   \n",
       "2      1214          6.8            5963      0.127346     -0.132490   \n",
       "3     30639          NaN           17371      0.062892     -0.053055   \n",
       "4     38522          7.7           10608      0.071006     -0.093382   \n",
       "\n",
       "   video_name_2  video_name_3  video_name_4  video_name_5  video_name_6  ...  \\\n",
       "0      0.111853     -0.029774      0.024150     -0.035227      0.032603  ...   \n",
       "1      0.102273     -0.083679     -0.017905     -0.002874      0.029637  ...   \n",
       "2      0.105639      0.009054      0.097110     -0.035699      0.022208  ...   \n",
       "3      0.049159     -0.029343      0.010458     -0.009849     -0.001803  ...   \n",
       "4      0.105073     -0.030376      0.051780      0.004910      0.018744  ...   \n",
       "\n",
       "   video_second_class_6  video_second_class_7  video_second_class_8  \\\n",
       "0              0.015625              0.015625              0.015625   \n",
       "1              0.031250              0.031250              0.031250   \n",
       "2              0.012500              0.012500              0.012500   \n",
       "3              0.020833              0.020833              0.020833   \n",
       "4              0.015625              0.015625              0.015625   \n",
       "\n",
       "   video_second_class_9  video_second_class_10  video_second_class_11  \\\n",
       "0              0.015625               0.015625               0.015625   \n",
       "1              0.031250               0.031250               0.031250   \n",
       "2              0.012500               0.012500               0.012500   \n",
       "3              0.020833               0.020833               0.020833   \n",
       "4              0.515625               0.015625               0.015625   \n",
       "\n",
       "   video_second_class_12  video_second_class_13  video_second_class_14  \\\n",
       "0               0.015625               0.265625               0.265625   \n",
       "1               0.031250               0.031250               0.531250   \n",
       "2               0.012500               0.212500               0.012500   \n",
       "3               0.020833               0.020833               0.020833   \n",
       "4               0.015625               0.015625               0.265625   \n",
       "\n",
       "   video_second_class_15  \n",
       "0               0.015625  \n",
       "1               0.031250  \n",
       "2               0.012500  \n",
       "3               0.020833  \n",
       "4               0.015625  \n",
       "\n",
       "[5 rows x 134 columns]"
      ]
     },
     "execution_count": 28,
     "metadata": {},
     "output_type": "execute_result"
    }
   ],
   "source": [
    "video_df.head(5)"
   ]
  },
  {
   "cell_type": "markdown",
   "id": "interpreted-patch",
   "metadata": {},
   "source": [
    "### video_duration\n",
    ">数值类型，不处理"
   ]
  },
  {
   "cell_type": "markdown",
   "id": "becoming-front",
   "metadata": {},
   "source": [
    "### 保存特征改变结果"
   ]
  },
  {
   "cell_type": "code",
   "execution_count": 29,
   "id": "subjective-modem",
   "metadata": {},
   "outputs": [
    {
     "name": "stdout",
     "output_type": "stream",
     "text": [
      "<class 'pandas.core.frame.DataFrame'>\n",
      "RangeIndex: 50355 entries, 0 to 50354\n",
      "Columns: 134 entries, video_id to video_second_class_15\n",
      "dtypes: float64(132), int32(2)\n",
      "memory usage: 51.1 MB\n"
     ]
    }
   ],
   "source": [
    "video_df.info()"
   ]
  },
  {
   "cell_type": "code",
   "execution_count": 31,
   "id": "sacred-affair",
   "metadata": {},
   "outputs": [
    {
     "name": "stdout",
     "output_type": "stream",
     "text": [
      "保存成功\n",
      "保存路径为： ../../dataset/traindata/video_features_data/video_data_v3.csv\n"
     ]
    }
   ],
   "source": [
    "save_video_temp_data(video_df, 'video_data_v3')"
   ]
  },
  {
   "cell_type": "code",
   "execution_count": null,
   "id": "constitutional-ordering",
   "metadata": {},
   "outputs": [],
   "source": []
  }
 ],
 "metadata": {
  "kernelspec": {
   "display_name": "Python 3",
   "language": "python",
   "name": "python3"
  },
  "language_info": {
   "codemirror_mode": {
    "name": "ipython",
    "version": 3
   },
   "file_extension": ".py",
   "mimetype": "text/x-python",
   "name": "python",
   "nbconvert_exporter": "python",
   "pygments_lexer": "ipython3",
   "version": "3.8.10"
  },
  "toc-autonumbering": true
 },
 "nbformat": 4,
 "nbformat_minor": 5
}
