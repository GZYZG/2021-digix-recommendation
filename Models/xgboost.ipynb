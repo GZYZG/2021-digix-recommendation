{
 "cells": [
  {
   "cell_type": "code",
   "execution_count": null,
   "id": "civil-measurement",
   "metadata": {},
   "outputs": [],
   "source": [
    "import xgboost as xgb\n",
    "from xgboost import plot_importance, plot_tree\n",
    "from matplotlib import pyplot as plt\n",
    "from sklearn.model_selection import train_test_split\n",
    "import pandas as pd\n",
    "\n",
    "\n",
    "# modin\n",
    "# import os\n",
    "# os.environ[\"MODIN_ENGINE\"] = \"ray\"  # Modin will use Ray\n",
    "# os.environ[\"MODIN_ENGINE\"] = \"dask\"  # Modin will use Dask\n",
    "# import modin.pandas as pd"
   ]
  },
  {
   "cell_type": "markdown",
   "id": "unlikely-battle",
   "metadata": {},
   "source": [
    "# 数据加载"
   ]
  },
  {
   "cell_type": "code",
   "execution_count": null,
   "id": "special-think",
   "metadata": {},
   "outputs": [],
   "source": [
    "data = pd.read_csv(\"../dataset/traindata/user_video_14day_action_train_data.csv\")"
   ]
  },
  {
   "cell_type": "code",
   "execution_count": null,
   "id": "responsible-civilian",
   "metadata": {},
   "outputs": [],
   "source": [
    "data.shape"
   ]
  },
  {
   "cell_type": "code",
   "execution_count": null,
   "id": "outstanding-gallery",
   "metadata": {},
   "outputs": [],
   "source": [
    "watch_label = data['watch_label']\n",
    "watch_label"
   ]
  },
  {
   "cell_type": "code",
   "execution_count": null,
   "id": "upset-spread",
   "metadata": {},
   "outputs": [],
   "source": [
    "share_label = data['is_share']\n",
    "share_label"
   ]
  },
  {
   "cell_type": "code",
   "execution_count": null,
   "id": "quiet-working",
   "metadata": {},
   "outputs": [],
   "source": [
    "data.drop(['is_share', 'watch_label'], axis=1, inplace=True)"
   ]
  },
  {
   "cell_type": "code",
   "execution_count": null,
   "id": "preceding-reynolds",
   "metadata": {},
   "outputs": [],
   "source": [
    "data.head()"
   ]
  },
  {
   "cell_type": "markdown",
   "id": "pacific-maria",
   "metadata": {},
   "source": [
    "# scikit-learn 实现XGBoost"
   ]
  },
  {
   "cell_type": "markdown",
   "id": "illegal-norway",
   "metadata": {},
   "source": [
    "## watch_labe 预测"
   ]
  },
  {
   "cell_type": "markdown",
   "id": "necessary-church",
   "metadata": {},
   "source": [
    "### 模型训练"
   ]
  },
  {
   "cell_type": "code",
   "execution_count": null,
   "id": "smart-certification",
   "metadata": {},
   "outputs": [],
   "source": [
    "X_train, X_test, y_train, y_test = train_test_split(data, watch_label, test_size=0.2, random_state=0)"
   ]
  },
  {
   "cell_type": "code",
   "execution_count": null,
   "id": "orange-circuit",
   "metadata": {},
   "outputs": [],
   "source": [
    "X_train.shape[0] == y_train.shape[0]"
   ]
  },
  {
   "cell_type": "code",
   "execution_count": null,
   "id": "documented-baker",
   "metadata": {},
   "outputs": [],
   "source": [
    "model = xgb.XGBClassifier(max_depth=7, num_class=10, learning_rate=0.1, n_estimators=160, silent=False,  objective='multi:softmax')"
   ]
  },
  {
   "cell_type": "code",
   "execution_count": null,
   "id": "capital-exhaust",
   "metadata": {},
   "outputs": [],
   "source": [
    "model.fit(X_train, y_train.values, eval_set=[(X_test, y_test)],  early_stopping_rounds=20)"
   ]
  },
  {
   "cell_type": "markdown",
   "id": "unusual-oriental",
   "metadata": {},
   "source": [
    "### 模型保存"
   ]
  },
  {
   "cell_type": "code",
   "execution_count": null,
   "id": "greater-command",
   "metadata": {},
   "outputs": [],
   "source": [
    "#保存\n",
    "# from sklearn.externals import joblib\n",
    "import joblib\n",
    "filename = 'watch_xgb_v1.pkl'\n",
    "joblib.dump(model, filename)\n",
    "# joblib.dump(model, './ckp/watch_xgb_v1.pkl')\n",
    "\n",
    "#读取\n",
    "# model = joblib.load('my_xgbregressor.pkl')"
   ]
  },
  {
   "cell_type": "code",
   "execution_count": null,
   "id": "matched-farming",
   "metadata": {},
   "outputs": [],
   "source": [
    "ans = model.predict(X_test)"
   ]
  },
  {
   "cell_type": "code",
   "execution_count": null,
   "id": "agricultural-motorcycle",
   "metadata": {},
   "outputs": [],
   "source": [
    "y_test = y_test.values"
   ]
  },
  {
   "cell_type": "markdown",
   "id": "blond-upset",
   "metadata": {},
   "source": [
    "### 计算准确率"
   ]
  },
  {
   "cell_type": "code",
   "execution_count": null,
   "id": "lovely-slovakia",
   "metadata": {},
   "outputs": [],
   "source": [
    "# 计算准确率\n",
    "cnt1 = 0\n",
    "cnt2 = 0\n",
    "for i in range(len(y_test)):\n",
    "    if ans[i] == y_test[i]:\n",
    "        cnt1 += 1\n",
    "    else:\n",
    "        cnt2 += 1"
   ]
  },
  {
   "cell_type": "code",
   "execution_count": null,
   "id": "broad-young",
   "metadata": {},
   "outputs": [],
   "source": [
    "print(\"Accuracy: %.2f %% \" % (100 * cnt1 / (cnt1 + cnt2)))"
   ]
  },
  {
   "cell_type": "markdown",
   "id": "wired-billion",
   "metadata": {},
   "source": [
    "### 显示特征重要性"
   ]
  },
  {
   "cell_type": "code",
   "execution_count": null,
   "id": "small-rover",
   "metadata": {},
   "outputs": [],
   "source": [
    "fig,ax = plt.subplots(figsize=(15,15))\n",
    "plot_importance(model,\n",
    "                height=0.5,\n",
    "                ax=ax,\n",
    "                max_num_features=64)\n",
    "# plt.savefig('fea_importance.png')\n",
    "plt.show()"
   ]
  },
  {
   "cell_type": "markdown",
   "id": "arctic-wilson",
   "metadata": {},
   "source": [
    "### 预测test数据集 "
   ]
  },
  {
   "cell_type": "code",
   "execution_count": 43,
   "id": "hollywood-profile",
   "metadata": {},
   "outputs": [],
   "source": [
    "# load test data\n",
    "test_data = pd.read_csv(\"../dataset/testdata/user_video_test.csv\")"
   ]
  },
  {
   "cell_type": "code",
   "execution_count": null,
   "id": "spare-distribution",
   "metadata": {},
   "outputs": [],
   "source": [
    "test_data.shape"
   ]
  },
  {
   "cell_type": "code",
   "execution_count": null,
   "id": "early-croatia",
   "metadata": {},
   "outputs": [],
   "source": [
    "test_ans = model.predict(test_data)"
   ]
  },
  {
   "cell_type": "code",
   "execution_count": null,
   "id": "turned-month",
   "metadata": {},
   "outputs": [],
   "source": [
    "test_ans_df = pd.DataFrame(test_ans)"
   ]
  },
  {
   "cell_type": "code",
   "execution_count": null,
   "id": "peripheral-integration",
   "metadata": {},
   "outputs": [],
   "source": [
    "test_ans_df.describe()"
   ]
  },
  {
   "cell_type": "code",
   "execution_count": null,
   "id": "grave-platform",
   "metadata": {},
   "outputs": [],
   "source": [
    "test_ans_df.info()"
   ]
  },
  {
   "cell_type": "code",
   "execution_count": null,
   "id": "official-constant",
   "metadata": {},
   "outputs": [],
   "source": [
    "test_ans_df.to_csv(\"../dataset/testdata/watch_label_result.csv\", index=None)"
   ]
  },
  {
   "cell_type": "markdown",
   "id": "purple-occasion",
   "metadata": {},
   "source": [
    "## share_label 预测"
   ]
  },
  {
   "cell_type": "code",
   "execution_count": null,
   "id": "invisible-california",
   "metadata": {},
   "outputs": [],
   "source": [
    "X_train, X_test, y_train, y_test = train_test_split(data, share_label, test_size=0.2, random_state=666)"
   ]
  },
  {
   "cell_type": "code",
   "execution_count": null,
   "id": "direct-graphic",
   "metadata": {},
   "outputs": [],
   "source": [
    "del model"
   ]
  },
  {
   "cell_type": "markdown",
   "id": "suffering-dialogue",
   "metadata": {},
   "source": [
    "### 模型训练"
   ]
  },
  {
   "cell_type": "code",
   "execution_count": null,
   "id": "arranged-processor",
   "metadata": {},
   "outputs": [],
   "source": [
    "model = xgb.XGBClassifier(max_depth=7, \n",
    "                          objective='binary:logistic', \n",
    "                          learning_rate=0.1, \n",
    "                          n_estimators=160, \n",
    "                          silent=False)"
   ]
  },
  {
   "cell_type": "code",
   "execution_count": null,
   "id": "proper-gothic",
   "metadata": {},
   "outputs": [],
   "source": [
    "    model.fit(X_train, y_train.values, eval_set=[(X_test, y_test)],  early_stopping_rounds=10, verbose=True, eval_metric='auc')"
   ]
  },
  {
   "cell_type": "code",
   "execution_count": null,
   "id": "hungry-measurement",
   "metadata": {},
   "outputs": [],
   "source": [
    "results = model.evals_result()\n",
    "results"
   ]
  },
  {
   "cell_type": "code",
   "execution_count": null,
   "id": "russian-directory",
   "metadata": {},
   "outputs": [],
   "source": [
    "from matplotlib import pyplot\n",
    "# retrieve performance metrics\n",
    "results = model.evals_result()\n",
    "# epochs = len(results['validation_0']['ac'])\n",
    "x_axis = range(0, 147)\n",
    "# plot log loss\n",
    "fig, ax = pyplot.subplots()\n",
    "ax.plot(x_axis, results['validation_0']['auc'], label='Train')\n",
    "ax.plot(x_axis, results['validation_1']['auc'], label='Test')\n",
    "ax.legend()\n",
    "pyplot.ylabel('AUC')\n",
    "pyplot.title('XGBoost AUC')\n",
    "pyplot.show()\n",
    "# plot classification error\n",
    "fig, ax = pyplot.subplots()\n",
    "ax.plot(x_axis, results['validation_0']['error'], label='Train')\n",
    "ax.plot(x_axis, results['validation_1']['error'], label='Test')\n",
    "ax.legend()\n",
    "pyplot.ylabel('Classification ACC')\n",
    "pyplot.title('XGBoost Classification ACC')\n",
    "pyplot.show()"
   ]
  },
  {
   "cell_type": "code",
   "execution_count": null,
   "id": "filled-elder",
   "metadata": {},
   "outputs": [],
   "source": [
    "model.fit?"
   ]
  },
  {
   "cell_type": "markdown",
   "id": "experienced-round",
   "metadata": {},
   "source": [
    "### 模型保存"
   ]
  },
  {
   "cell_type": "code",
   "execution_count": null,
   "id": "prime-douglas",
   "metadata": {},
   "outputs": [],
   "source": [
    "#保存\n",
    "import joblib\n",
    "filename = 'share_xgb_v1.pkl'\n",
    "joblib.dump(model, filename)"
   ]
  },
  {
   "cell_type": "markdown",
   "id": "generous-reward",
   "metadata": {},
   "source": [
    "### 预测test数据集"
   ]
  },
  {
   "cell_type": "code",
   "execution_count": 44,
   "id": "central-sullivan",
   "metadata": {},
   "outputs": [],
   "source": [
    "# load test data\n",
    "test_data = pd.read_csv(\"../dataset/testdata/user_video_test.csv\")"
   ]
  },
  {
   "cell_type": "code",
   "execution_count": 45,
   "id": "based-uzbekistan",
   "metadata": {},
   "outputs": [],
   "source": [
    "predictions = model.predict(test_data)"
   ]
  },
  {
   "cell_type": "code",
   "execution_count": 46,
   "id": "accompanied-burke",
   "metadata": {},
   "outputs": [],
   "source": [
    "test_share_ans_df = pd.DataFrame(predictions)"
   ]
  },
  {
   "cell_type": "code",
   "execution_count": 47,
   "id": "industrial-central",
   "metadata": {},
   "outputs": [
    {
     "data": {
      "text/html": [
       "<div>\n",
       "<style scoped>\n",
       "    .dataframe tbody tr th:only-of-type {\n",
       "        vertical-align: middle;\n",
       "    }\n",
       "\n",
       "    .dataframe tbody tr th {\n",
       "        vertical-align: top;\n",
       "    }\n",
       "\n",
       "    .dataframe thead th {\n",
       "        text-align: right;\n",
       "    }\n",
       "</style>\n",
       "<table border=\"1\" class=\"dataframe\">\n",
       "  <thead>\n",
       "    <tr style=\"text-align: right;\">\n",
       "      <th></th>\n",
       "      <th>0</th>\n",
       "    </tr>\n",
       "  </thead>\n",
       "  <tbody>\n",
       "    <tr>\n",
       "      <th>count</th>\n",
       "      <td>2.822180e+06</td>\n",
       "    </tr>\n",
       "    <tr>\n",
       "      <th>mean</th>\n",
       "      <td>3.543360e-07</td>\n",
       "    </tr>\n",
       "    <tr>\n",
       "      <th>std</th>\n",
       "      <td>5.952613e-04</td>\n",
       "    </tr>\n",
       "    <tr>\n",
       "      <th>min</th>\n",
       "      <td>0.000000e+00</td>\n",
       "    </tr>\n",
       "    <tr>\n",
       "      <th>25%</th>\n",
       "      <td>0.000000e+00</td>\n",
       "    </tr>\n",
       "    <tr>\n",
       "      <th>50%</th>\n",
       "      <td>0.000000e+00</td>\n",
       "    </tr>\n",
       "    <tr>\n",
       "      <th>75%</th>\n",
       "      <td>0.000000e+00</td>\n",
       "    </tr>\n",
       "    <tr>\n",
       "      <th>max</th>\n",
       "      <td>1.000000e+00</td>\n",
       "    </tr>\n",
       "  </tbody>\n",
       "</table>\n",
       "</div>"
      ],
      "text/plain": [
       "                  0\n",
       "count  2.822180e+06\n",
       "mean   3.543360e-07\n",
       "std    5.952613e-04\n",
       "min    0.000000e+00\n",
       "25%    0.000000e+00\n",
       "50%    0.000000e+00\n",
       "75%    0.000000e+00\n",
       "max    1.000000e+00"
      ]
     },
     "execution_count": 47,
     "metadata": {},
     "output_type": "execute_result"
    }
   ],
   "source": [
    "test_share_ans_df.describe()"
   ]
  },
  {
   "cell_type": "code",
   "execution_count": 48,
   "id": "crazy-fourth",
   "metadata": {},
   "outputs": [],
   "source": [
    "test_share_ans_df.to_csv(\"../dataset/testdata/share_label_result.csv\", index=None)"
   ]
  },
  {
   "cell_type": "code",
   "execution_count": null,
   "id": "worldwide-alert",
   "metadata": {},
   "outputs": [],
   "source": [
    "from sklearn.metrics import accuracy_score\n",
    "# 对测试集进行预测\n",
    "predictions = model.predict(X_test)\n",
    "y_test = y_test.values\n",
    "accuracy = accuracy_score(y_test, predictions)\n",
    "print(\"Accuracy: %.2f \" % (accuracy))"
   ]
  },
  {
   "cell_type": "code",
   "execution_count": null,
   "id": "interpreted-thursday",
   "metadata": {},
   "outputs": [],
   "source": [
    "fig,ax = plt.subplots(figsize=(15,15))\n",
    "plot_importance(model,\n",
    "                height=0.5,\n",
    "                ax=ax,\n",
    "                max_num_features=64)\n",
    "plt.savefig('share_fea_importance.png')\n",
    "plt.show()"
   ]
  },
  {
   "cell_type": "code",
   "execution_count": null,
   "id": "celtic-rubber",
   "metadata": {},
   "outputs": [],
   "source": [
    "fig,ax = plt.subplots(figsize=(15,15))\n",
    "plot_tree(model, ax=ax)\n",
    "plt.show()"
   ]
  },
  {
   "cell_type": "code",
   "execution_count": null,
   "id": "unexpected-native",
   "metadata": {},
   "outputs": [],
   "source": []
  }
 ],
 "metadata": {
  "kernelspec": {
   "display_name": "Python 3",
   "language": "python",
   "name": "python3"
  },
  "language_info": {
   "codemirror_mode": {
    "name": "ipython",
    "version": 3
   },
   "file_extension": ".py",
   "mimetype": "text/x-python",
   "name": "python",
   "nbconvert_exporter": "python",
   "pygments_lexer": "ipython3",
   "version": "3.8.5"
  }
 },
 "nbformat": 4,
 "nbformat_minor": 5
}
