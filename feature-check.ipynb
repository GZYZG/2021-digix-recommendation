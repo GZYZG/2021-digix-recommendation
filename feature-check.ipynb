{
 "cells": [
  {
   "cell_type": "code",
   "execution_count": 102,
   "metadata": {},
   "outputs": [],
   "source": [
    "%matplotlib notebook\n",
    "%config InlineBackend.print_figure_kwargs = {'bbox_inches':None}\n",
    "from sklearn.feature_extraction import DictVectorizer  # 可转换成multi-hot\n",
    "import os\n",
    "import datatable as dt\n",
    "import pandas as pd\n",
    "import numpy as np\n",
    "# 利用tf、idf学习文本特征，再用LDA模型学习低维表示\n",
    "from sklearn.feature_extraction.text import CountVectorizer, TfidfVectorizer\n",
    "from sklearn.decomposition import LatentDirichletAllocation as LDA, PCA, NMF, FastICA, KernelPCA\n",
    "from sklearn.manifold import TSNE\n",
    "import matplotlib.pyplot as plt\n",
    "from sklearn.cluster import KMeans\n",
    "from sklearn.model_selection import ParameterGrid"
   ]
  },
  {
   "cell_type": "markdown",
   "metadata": {},
   "source": [
    "# 向量化与降维"
   ]
  },
  {
   "cell_type": "code",
   "execution_count": 87,
   "metadata": {},
   "outputs": [],
   "source": [
    "def vectorizer_doc(corpus, method='tfidf', max_df=.95, min_df=8, n_features=1000):\n",
    "    if method == 'tfidf':\n",
    "        vectorizer = TfidfVectorizer(max_df=max_df, min_df=min_df, max_features=n_features)\n",
    "    elif method == 'tf':\n",
    "        vectorizer = CountVectorizer(max_df=max_df, min_df=min_df, max_features=n_features)\n",
    "    \n",
    "    feat = vectorizer.fit_transform(corpus)\n",
    "    \n",
    "    return feat\n",
    "\n",
    "\n",
    "\n",
    "def reduction(data, n_components=10, method='LDA', random_state=0, **kwargs):\n",
    "    if method == 'LDA':\n",
    "        reducer = LDA(n_components=n_components, max_iter=5, learning_method='online', learning_offset=50., random_state=random_state)\n",
    "    elif method == 'PCA':\n",
    "        reducer = PCA(n_components=n_components, random_state=random_state)\n",
    "    elif method == 'KPCA':\n",
    "        kernel = kwargs.get('kernel', 'rbf')\n",
    "        gamma = kwargs.get('gamma', None)\n",
    "        reducer = KernelPCA(n_components=n_components, kernel=kernel, gamma=gamma, random_state=random_state)\n",
    "    elif method == 'NMF':\n",
    "        init = kwargs.get('init', 'random')\n",
    "        reducer = NMF(n_components=n_components, init=init, random_state=random_state)\n",
    "    elif method == 'ICA':\n",
    "        reducer = FastICA(n_components=n_components, random_state=random_state)\n",
    "    elif method == 'TSNE':\n",
    "        reducer = TSNE(n_components=n_components)\n",
    "    else:\n",
    "        raise ValueError(f\"Not Suportted Method : {method}\")\n",
    "        \n",
    "    return reducer.fit_transform(data)"
   ]
  },
  {
   "cell_type": "code",
   "execution_count": 5,
   "metadata": {},
   "outputs": [
    {
     "name": "stdout",
     "output_type": "stream",
     "text": [
      "['history_behavior_data', 'user_features_data', 'video_features_data'] \n",
      " ['test.csv']\n"
     ]
    }
   ],
   "source": [
    "base_dir = \"./2021_3_data\"\n",
    "test_data_dir  = os.path.join(base_dir, \"testdata\")\n",
    "train_data_dir = os.path.join(base_dir, \"traindata\")\n",
    "\n",
    "train_dirs = os.listdir(train_data_dir)\n",
    "test_dirs  = os.listdir(test_data_dir)\n",
    "print(train_dirs,'\\n', test_dirs)"
   ]
  },
  {
   "cell_type": "code",
   "execution_count": 11,
   "metadata": {},
   "outputs": [],
   "source": [
    "video_df = pd.read_csv(os.path.join(train_data_dir, 'video_features_data/video_features_data.csv'), delimiter='\\t')"
   ]
  },
  {
   "cell_type": "code",
   "execution_count": 24,
   "metadata": {},
   "outputs": [],
   "source": [
    "video_df['video_tags'] = video_df['video_tags'].astype(str)"
   ]
  },
  {
   "cell_type": "code",
   "execution_count": 71,
   "metadata": {},
   "outputs": [],
   "source": [
    "desc_corpus = video_df['video_tags'].apply(lambda x: ' '.join(x.split(',')))"
   ]
  },
  {
   "cell_type": "code",
   "execution_count": 143,
   "metadata": {},
   "outputs": [],
   "source": [
    "vec_params = {'method': ['tf', 'tfidf'], 'n_features': list(range(500, 1500, 200)), 'random_state': [0]}\n",
    "red_params = {'method': ['PCA', 'LDA', 'KPCA', 'NMF', 'ICA', 'TSNE'], 'n_components': list(range(5, 20, 2)), 'random_state': [0, 1, 2, 3]}\n",
    "\n",
    "all_vec_params = list(ParameterGrid(vec_params))\n",
    "all_red_params = list(ParameterGrid(red_params))"
   ]
  },
  {
   "cell_type": "code",
   "execution_count": 144,
   "metadata": {},
   "outputs": [
    {
     "data": {
      "text/plain": [
       "[{'method': 'tf', 'n_features': 500, 'random_state': 0},\n",
       " {'method': 'tf', 'n_features': 700, 'random_state': 0},\n",
       " {'method': 'tf', 'n_features': 900, 'random_state': 0},\n",
       " {'method': 'tf', 'n_features': 1100, 'random_state': 0},\n",
       " {'method': 'tf', 'n_features': 1300, 'random_state': 0},\n",
       " {'method': 'tfidf', 'n_features': 500, 'random_state': 0},\n",
       " {'method': 'tfidf', 'n_features': 700, 'random_state': 0},\n",
       " {'method': 'tfidf', 'n_features': 900, 'random_state': 0},\n",
       " {'method': 'tfidf', 'n_features': 1100, 'random_state': 0},\n",
       " {'method': 'tfidf', 'n_features': 1300, 'random_state': 0}]"
      ]
     },
     "execution_count": 144,
     "metadata": {},
     "output_type": "execute_result"
    }
   ],
   "source": [
    "all_vec_params#.__len__(), all_red_params.__len__()"
   ]
  },
  {
   "cell_type": "code",
   "execution_count": null,
   "metadata": {
    "tags": []
   },
   "outputs": [
    {
     "name": "stdout",
     "output_type": "stream",
     "text": [
      "\t TSNEed\n",
      "\tmethod=tf, n_features=1100, random_state=0\tmethod=PCA, n_components=9, random_state=1 processed ...\n",
      "\t start {'method': 'PCA', 'n_components': 9, 'random_state': 2}\n",
      "\t reduced\n",
      "\t TSNEed\n",
      "\tmethod=tf, n_features=1100, random_state=0\tmethod=PCA, n_components=9, random_state=2 processed ...\n",
      "\t start {'method': 'PCA', 'n_components': 9, 'random_state': 3}\n",
      "\t reduced\n",
      "\t TSNEed\n",
      "\tmethod=tf, n_features=1100, random_state=0\tmethod=PCA, n_components=9, random_state=3 processed ...\n",
      "\t start {'method': 'PCA', 'n_components': 11, 'random_state': 0}\n",
      "\t reduced\n",
      "\t TSNEed\n",
      "\tmethod=tf, n_features=1100, random_state=0\tmethod=PCA, n_components=11, random_state=0 processed ...\n",
      "\t start {'method': 'PCA', 'n_components': 11, 'random_state': 1}\n",
      "\t reduced\n"
     ]
    }
   ],
   "source": [
    "%%time\n",
    "cs = ['b', 'g', 'r', 'c', 'm', 'y', 'k', 'w', '#1f77b4', '#ff7f0e', '#2ca02c', '#d62728', '#9467bd', '#8c564b', \n",
    "      '#e377c2', '#7f7f7f', '#bcbd22', '#17becf', 'crimson', 'darkviolet', 'goldenrod']\n",
    "ms = ['3', 'P', 'x', '^', '+', 'o', 'v', 's', 'd', '>', 'D', '<', '*', 'X', 1, 2, 3, 4, 5, 6, 7]\n",
    "# c_mapping = dict(zip(list(range(n_clusters)), cs[:n_clusters])) \n",
    "# m_mapping = dict(zip(list(range(n_clusters)), ms[:n_clusters]))  \n",
    "i = 0\n",
    "for vp in all_vec_params:\n",
    "    print(f\"start {vp}\")\n",
    "    veced = vectorizer_doc(desc_corpus, method=vp['method'], n_features=vp['n_features']).toarray()\n",
    "    print(f\"\\t veced\")\n",
    "    for rp in all_red_params:\n",
    "        i += 1\n",
    "        if i <= 129 or rp['method'] in ('KPCA', 'TSNE'):\n",
    "            continue\n",
    "            \n",
    "        vps = ', '.join([f'{k}={v}' for k, v in vp.items()])\n",
    "        rps = ', '.join([f'{k}={v}' for k, v in rp.items()])\n",
    "        if os.path.exists(f\"VP[{vps}]-RP[{rps}].png\"):\n",
    "            continue\n",
    "        print(f\"\\t start {rp}\")\n",
    "        reded = reduction(veced, n_components=rp['n_components'], method=rp['method'], random_state=rp['random_state'])\n",
    "        print(f\"\\t reduced\")\n",
    "        rreded = reduction(r_vdoc, n_components=2, method='TSNE')\n",
    "        print(f\"\\t TSNEed\")\n",
    "        n_clusters = rp['n_components']\n",
    "        cluster = KMeans(n_clusters=n_clusters, random_state=0)\n",
    "        cluster.fit(reded)\n",
    "        labels = cluster.labels_\n",
    "        \n",
    "        fig = plt.Figure(figsize=(12, 12))\n",
    "        ax = fig.subplots()\n",
    "        \n",
    "        c_mapping = dict(zip(list(range(n_clusters)), cs[:n_clusters])) \n",
    "        m_mapping = dict(zip(list(range(n_clusters)), ms[:n_clusters])) \n",
    "        \n",
    "        colors = list(map(lambda x: c_mapping[x], labels))\n",
    "        markers = list(map(lambda x: m_mapping[x], labels))\n",
    "        for l in range(n_clusters):\n",
    "            ax.scatter(x=rreded[labels==l, 0], y=rreded[labels==l, 1], c=c_mapping[l], marker=m_mapping[l], s=2)\n",
    "#         ax.scatter(x=rreded[:, 0], y=rreded[:, 1], c=colors, marker=markers, s=2)\n",
    "        \n",
    "        \n",
    "        ax.set_title(f'VP[{vps}] RP[{rps}]')\n",
    "        \n",
    "        fig.savefig(f\"VP[{vps}]-RP[{rps}].png\", dpi=400)\n",
    "        print(f'\\t{vps}\\t{rps} processed ...')\n",
    "#         fig"
   ]
  },
  {
   "cell_type": "code",
   "execution_count": null,
   "metadata": {},
   "outputs": [],
   "source": [
    "c_mapping[18]"
   ]
  },
  {
   "cell_type": "code",
   "execution_count": 33,
   "metadata": {},
   "outputs": [],
   "source": [
    "v_doc = vectorizer_doc(desc_corpus, method='tf', n_features=100).toarray()"
   ]
  },
  {
   "cell_type": "code",
   "execution_count": 125,
   "metadata": {},
   "outputs": [],
   "source": [
    "r_vdoc = reduction(v_doc, n_components=10, method='PCA', random_state=0)"
   ]
  },
  {
   "cell_type": "code",
   "execution_count": null,
   "metadata": {},
   "outputs": [],
   "source": [
    "r_rvdoc = reduction(r_vdoc, n_components=2, method='TSNE')"
   ]
  },
  {
   "cell_type": "code",
   "execution_count": 54,
   "metadata": {},
   "outputs": [
    {
     "data": {
      "text/plain": [
       "KMeans(n_clusters=5, random_state=0)"
      ]
     },
     "execution_count": 54,
     "metadata": {},
     "output_type": "execute_result"
    }
   ],
   "source": [
    "n_clusters = 5\n",
    "cluster = KMeans(n_clusters=n_clusters, random_state=0)\n",
    "cluster.fit(r_vdoc)"
   ]
  },
  {
   "cell_type": "code",
   "execution_count": 55,
   "metadata": {},
   "outputs": [],
   "source": [
    "labels = cluster.labels_"
   ]
  },
  {
   "cell_type": "code",
   "execution_count": null,
   "metadata": {},
   "outputs": [],
   "source": [
    "fig = plt.Figure(figsize=(12, 12))\n",
    "ax = fig.subplots()\n",
    "cs = ['b', 'g', 'r', 'c', 'm', 'y', 'k', 'w']\n",
    "mapping = dict(zip(list(range(n_clusters)), cs[:n_clusters])) \n",
    "colors = list(map(lambda x: mapping[x], labels))\n",
    "ax.scatter(x=r_rvdoc[:, 0], y=r_rvdoc[:, 1], c=colors, marker='P', s=2)\n",
    "\n",
    "fig"
   ]
  },
  {
   "cell_type": "code",
   "execution_count": 64,
   "metadata": {},
   "outputs": [],
   "source": []
  },
  {
   "cell_type": "markdown",
   "metadata": {},
   "source": [
    "# 特征选择"
   ]
  },
  {
   "cell_type": "code",
   "execution_count": null,
   "metadata": {},
   "outputs": [],
   "source": []
  }
 ],
 "metadata": {
  "kernelspec": {
   "display_name": "Python 3",
   "language": "python",
   "name": "python3"
  },
  "language_info": {
   "codemirror_mode": {
    "name": "ipython",
    "version": 3
   },
   "file_extension": ".py",
   "mimetype": "text/x-python",
   "name": "python",
   "nbconvert_exporter": "python",
   "pygments_lexer": "ipython3",
   "version": "3.7.9"
  }
 },
 "nbformat": 4,
 "nbformat_minor": 4
}
