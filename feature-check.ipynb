{
 "cells": [
  {
   "cell_type": "code",
   "execution_count": 22,
   "metadata": {},
   "outputs": [],
   "source": [
    "%matplotlib notebook\n",
    "%config InlineBackend.print_figure_kwargs = {'bbox_inches':None}\n",
    "from sklearn.feature_extraction import DictVectorizer  # 可转换成multi-hot\n",
    "import os\n",
    "import datatable as dt\n",
    "import pandas as pd\n",
    "import numpy as np\n",
    "# 利用tf、idf学习文本特征，再用LDA模型学习低维表示\n",
    "from sklearn.feature_extraction.text import CountVectorizer, TfidfVectorizer\n",
    "from sklearn.decomposition import LatentDirichletAllocation as LDA, PCA, NMF, FastICA, KernelPCA\n",
    "from sklearn.manifold import TSNE\n",
    "import matplotlib.pyplot as plt\n",
    "from sklearn.cluster import KMeans\n",
    "from sklearn.model_selection import ParameterGrid\n",
    "from sklearn.metrics import davies_bouldin_score, calinski_harabasz_score, silhouette_score"
   ]
  },
  {
   "cell_type": "markdown",
   "metadata": {},
   "source": [
    "# 向量化与降维"
   ]
  },
  {
   "cell_type": "code",
   "execution_count": 2,
   "metadata": {},
   "outputs": [],
   "source": [
    "def vectorizer_doc(corpus, method='tfidf', max_df=.95, min_df=8, n_features=1000):\n",
    "    if method == 'tfidf':\n",
    "        vectorizer = TfidfVectorizer(max_df=max_df, min_df=min_df, max_features=n_features)\n",
    "    elif method == 'tf':\n",
    "        vectorizer = CountVectorizer(max_df=max_df, min_df=min_df, max_features=n_features)\n",
    "    \n",
    "    feat = vectorizer.fit_transform(corpus)\n",
    "    \n",
    "    return feat\n",
    "\n",
    "\n",
    "\n",
    "def reduction(data, n_components=10, method='LDA', random_state=0, **kwargs):\n",
    "    if method == 'LDA':\n",
    "        reducer = LDA(n_components=n_components, max_iter=5, learning_method='online', learning_offset=50., random_state=random_state)\n",
    "    elif method == 'PCA':\n",
    "        reducer = PCA(n_components=n_components, random_state=random_state)\n",
    "    elif method == 'KPCA':\n",
    "        kernel = kwargs.get('kernel', 'rbf')\n",
    "        gamma = kwargs.get('gamma', None)\n",
    "        reducer = KernelPCA(n_components=n_components, kernel=kernel, gamma=gamma, random_state=random_state)\n",
    "    elif method == 'NMF':\n",
    "        init = kwargs.get('init', 'random')\n",
    "        reducer = NMF(n_components=n_components, init=init, random_state=random_state)\n",
    "    elif method == 'ICA':\n",
    "        reducer = FastICA(n_components=n_components, random_state=random_state)\n",
    "    elif method == 'TSNE':\n",
    "        reducer = TSNE(n_components=n_components)\n",
    "    else:\n",
    "        raise ValueError(f\"Not Suportted Method : {method}\")\n",
    "        \n",
    "    return reducer.fit_transform(data)"
   ]
  },
  {
   "cell_type": "code",
   "execution_count": 3,
   "metadata": {},
   "outputs": [
    {
     "name": "stdout",
     "output_type": "stream",
     "text": [
      "['train.jay', 'all_actions.npz', 'train.npz', 'all_actions.jay', 'user_features_data', 'history_behavior_data', 'video_features_data'] \n",
      " ['test.npz', 'test.jay', 'test.csv', '.ipynb_checkpoints']\n"
     ]
    }
   ],
   "source": [
    "base_dir = \"./2021_3_data\"\n",
    "test_data_dir  = os.path.join(base_dir, \"testdata\")\n",
    "train_data_dir = os.path.join(base_dir, \"traindata\")\n",
    "\n",
    "train_dirs = os.listdir(train_data_dir)\n",
    "test_dirs  = os.listdir(test_data_dir)\n",
    "print(train_dirs,'\\n', test_dirs)"
   ]
  },
  {
   "cell_type": "code",
   "execution_count": 5,
   "metadata": {},
   "outputs": [],
   "source": [
    "video_df = pd.read_csv(os.path.join(train_data_dir, 'video_features_data/video_features_data.csv'))"
   ]
  },
  {
   "cell_type": "code",
   "execution_count": 6,
   "metadata": {},
   "outputs": [],
   "source": [
    "video_df['video_tags'] = video_df['video_tags'].astype(str)"
   ]
  },
  {
   "cell_type": "code",
   "execution_count": 7,
   "metadata": {},
   "outputs": [],
   "source": [
    "desc_corpus = video_df['video_tags'].apply(lambda x: ' '.join(x.split(',')))"
   ]
  },
  {
   "cell_type": "code",
   "execution_count": 32,
   "metadata": {},
   "outputs": [],
   "source": [
    "vec_params = {'method': ['tfidf', 'tf'], 'n_features': list(range(500, 1500, 200)), 'random_state': [0]}\n",
    "red_params = {'method': ['PCA', 'LDA', 'KPCA', 'NMF', 'ICA', 'TSNE'], 'n_components': list(range(5, 20, 2)), 'random_state': [0, 10, 20]}\n",
    "\n",
    "all_vec_params = list(ParameterGrid(vec_params))\n",
    "all_red_params = list(ParameterGrid(red_params))"
   ]
  },
  {
   "cell_type": "code",
   "execution_count": 33,
   "metadata": {},
   "outputs": [
    {
     "data": {
      "text/plain": [
       "(10, 144)"
      ]
     },
     "execution_count": 33,
     "metadata": {},
     "output_type": "execute_result"
    }
   ],
   "source": [
    "all_vec_params.__len__(), all_red_params.__len__()"
   ]
  },
  {
   "cell_type": "code",
   "execution_count": 34,
   "metadata": {},
   "outputs": [],
   "source": [
    "def cosine_silhouette_score(X, y):\n",
    "    return silhouette_score(X, y, metric='cosine')"
   ]
  },
  {
   "cell_type": "code",
   "execution_count": 36,
   "metadata": {},
   "outputs": [
    {
     "data": {
      "text/plain": [
       "['davies_bouldin_score', 'calinski_harabasz_score', 'cosine_silhouette_score']"
      ]
     },
     "execution_count": 36,
     "metadata": {},
     "output_type": "execute_result"
    }
   ],
   "source": [
    "cluster_metrics = [davies_bouldin_score, calinski_harabasz_score, cosine_silhouette_score]\n",
    "[e.__name__ for e in cluster_metrics]"
   ]
  },
  {
   "cell_type": "code",
   "execution_count": null,
   "metadata": {
    "tags": []
   },
   "outputs": [],
   "source": [
    "%%time\n",
    "cs = ['b', 'g', 'r', 'c', 'm', 'y', 'k', 'w', '#1f77b4', '#ff7f0e', '#2ca02c', '#d62728', '#9467bd', '#8c564b', \n",
    "      '#e377c2', '#7f7f7f', '#bcbd22', '#17becf', 'crimson', 'darkviolet', 'goldenrod']\n",
    "ms = ['3', 'P', 'x', '^', '+', 'o', 'v', 's', 'd', '>', 'D', '<', '*', 'X', 1, 2, 3, 4, 5, 6, 7]\n",
    "# c_mapping = dict(zip(list(range(n_clusters)), cs[:n_clusters])) \n",
    "# m_mapping = dict(zip(list(range(n_clusters)), ms[:n_clusters]))  \n",
    "i = 0\n",
    "results = []\n",
    "cluster_metrics = [davies_bouldin_score, calinski_harabasz_score, cosine_silhouette_score]\n",
    "metric_names = ['dbs', 'chs', 'css']\n",
    "for vp in all_vec_params:\n",
    "    print(f\"start {vp}\")\n",
    "    veced = vectorizer_doc(desc_corpus, method=vp['method'], n_features=vp['n_features']).toarray()\n",
    "    print(f\"\\t veced\")\n",
    "    for rp in all_red_params:\n",
    "        if rp['method'] in ('KPCA', 'TSNE'):\n",
    "            continue\n",
    "            \n",
    "        vps = ', '.join([f'{k}={v}' for k, v in vp.items()])\n",
    "        rps = ', '.join([f'{k}={v}' for k, v in rp.items()])\n",
    "        if os.path.exists(f\"VP[{vps}]-RP[{rps}].png\"):\n",
    "            print(f\"\\t skip VP[{vps}]-RP[{rps}]\")\n",
    "            continue\n",
    "        print(f\"\\t start {rp}\")\n",
    "        reded = reduction(veced, n_components=rp['n_components'], method=rp['method'], random_state=rp['random_state'])\n",
    "        print(f\"\\t reduced\")\n",
    "        \n",
    "        n_clusters = rp['n_components']\n",
    "        cluster = KMeans(n_clusters=n_clusters, random_state=0)\n",
    "        cluster.fit(reded)\n",
    "        labels = cluster.labels_\n",
    "             \n",
    "        tmp = list(map(lambda x: x(reded, labels), cluster_metrics))\n",
    "        tmp.append(cluster.inertia_)\n",
    "        results.append((vp, rp, tmp))\n",
    "        \n",
    "        rreded = reduction(reded, n_components=2, method='TSNE')\n",
    "        print(f\"\\t TSNEed\")\n",
    "                       \n",
    "        fig = plt.Figure(figsize=(12, 12))\n",
    "        ax = fig.subplots()\n",
    "        \n",
    "        c_mapping = dict(zip(list(range(n_clusters)), cs[:n_clusters])) \n",
    "        m_mapping = dict(zip(list(range(n_clusters)), ms[:n_clusters])) \n",
    "        \n",
    "        colors = list(map(lambda x: c_mapping[x], labels))\n",
    "        markers = list(map(lambda x: m_mapping[x], labels))\n",
    "        for l in range(n_clusters):\n",
    "            ax.scatter(x=rreded[labels==l, 0], y=rreded[labels==l, 1], c=c_mapping[l], marker=m_mapping[l], s=2, alpha=0.8)\n",
    "        \n",
    "        ax.set_title(f'VP[{vps}] RP[{rps}]')\n",
    "        xl = [f\"{metric_names[i]}={tmp[i]:.3f}\" for i in range(len(metric_names))]\n",
    "        x_label = f\"{', '.join(xl)}\"\n",
    "        ax.set_xlabel(x_label)\n",
    "        \n",
    "        fig.savefig(f\"check-desc/VP[{vps}]-RP[{rps}].png\", dpi=600)\n",
    "        print(f'\\t{vps}\\t{rps}\\t{x_label} processed ...')\n",
    "#         fig"
   ]
  },
  {
   "cell_type": "code",
   "execution_count": null,
   "metadata": {},
   "outputs": [],
   "source": [
    "c_mapping[18]"
   ]
  },
  {
   "cell_type": "code",
   "execution_count": 64,
   "metadata": {},
   "outputs": [],
   "source": []
  },
  {
   "cell_type": "markdown",
   "metadata": {},
   "source": [
    "# 特征选择"
   ]
  },
  {
   "cell_type": "code",
   "execution_count": null,
   "metadata": {},
   "outputs": [],
   "source": []
  }
 ],
 "metadata": {
  "kernelspec": {
   "display_name": "Python 3",
   "language": "python",
   "name": "python3"
  },
  "language_info": {
   "codemirror_mode": {
    "name": "ipython",
    "version": 3
   },
   "file_extension": ".py",
   "mimetype": "text/x-python",
   "name": "python",
   "nbconvert_exporter": "python",
   "pygments_lexer": "ipython3",
   "version": "3.8.10"
  }
 },
 "nbformat": 4,
 "nbformat_minor": 4
}
