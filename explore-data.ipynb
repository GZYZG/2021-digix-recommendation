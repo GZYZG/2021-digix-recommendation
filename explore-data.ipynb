{
 "cells": [
  {
   "cell_type": "markdown",
   "metadata": {},
   "source": [
    "# 探索数据\n",
    "\n",
    "- 用户特征\n",
    "- 视频特征\n",
    "- 交互数据\n",
    "\n",
    "基本探索思路：\n",
    "1. 加载数据，检查能否正常加载数据\n",
    "2. 查看数据基本信息，如有哪些数据列(`df.columns`)，数据的形状(`df.shape`)，数据列的类型(`df.dtypes`或`df.info()`)，数据的基本统计信息(`df.describe()`)\n",
    "3. 处理null值，填补null值或者丢弃null值所在的行\n",
    "4. 删除重复数据\n",
    "5. 检查各个列(属性)的分布，可以通过画图来分析"
   ]
  },
  {
   "cell_type": "code",
   "execution_count": 1,
   "metadata": {},
   "outputs": [],
   "source": [
    "import pandas as pd\n",
    "import matplotlib.pyplot as plt\n",
    "import numpy as np\n",
    "import os\n",
    "from collections import Counter\n",
    "\n",
    "pd.set_option('display.float_format', lambda x: f\"{x:.3f}\")"
   ]
  },
  {
   "cell_type": "code",
   "execution_count": 2,
   "metadata": {},
   "outputs": [],
   "source": [
    "base_dir = \"./2021_3_data\"\n",
    "test_data_dir  = os.path.join(base_dir, \"testdata\")\n",
    "train_data_dir = os.path.join(base_dir, \"traindata\")"
   ]
  },
  {
   "cell_type": "code",
   "execution_count": 3,
   "metadata": {},
   "outputs": [
    {
     "name": "stdout",
     "output_type": "stream",
     "text": [
      "['history_behavior_data', 'user_features_data', 'video_features_data'] \n",
      " ['test.csv']\n"
     ]
    }
   ],
   "source": [
    "train_dirs = os.listdir(train_data_dir)\n",
    "test_dirs  = os.listdir(test_data_dir)\n",
    "print(train_dirs,'\\n', test_dirs)"
   ]
  },
  {
   "cell_type": "markdown",
   "metadata": {},
   "source": [
    "## 用户特征"
   ]
  },
  {
   "cell_type": "code",
   "execution_count": 4,
   "metadata": {},
   "outputs": [],
   "source": [
    "# 加载数据\n",
    "user_data = pd.read_csv(os.path.join(train_data_dir, \"user_features_data/user_features_data.csv\"), delimiter=\"\\t\")"
   ]
  },
  {
   "cell_type": "code",
   "execution_count": 5,
   "metadata": {},
   "outputs": [
    {
     "name": "stdout",
     "output_type": "stream",
     "text": [
      "['user_id', 'age', 'gender', 'country', 'province', 'city', 'city_level', 'device_name']\n",
      "(5910800, 8)\n"
     ]
    },
    {
     "data": {
      "text/html": [
       "<div>\n",
       "<style scoped>\n",
       "    .dataframe tbody tr th:only-of-type {\n",
       "        vertical-align: middle;\n",
       "    }\n",
       "\n",
       "    .dataframe tbody tr th {\n",
       "        vertical-align: top;\n",
       "    }\n",
       "\n",
       "    .dataframe thead th {\n",
       "        text-align: right;\n",
       "    }\n",
       "</style>\n",
       "<table border=\"1\" class=\"dataframe\">\n",
       "  <thead>\n",
       "    <tr style=\"text-align: right;\">\n",
       "      <th></th>\n",
       "      <th>user_id</th>\n",
       "      <th>age</th>\n",
       "      <th>gender</th>\n",
       "      <th>country</th>\n",
       "      <th>province</th>\n",
       "      <th>city</th>\n",
       "      <th>city_level</th>\n",
       "      <th>device_name</th>\n",
       "    </tr>\n",
       "  </thead>\n",
       "  <tbody>\n",
       "    <tr>\n",
       "      <th>0</th>\n",
       "      <td>1757005</td>\n",
       "      <td>3</td>\n",
       "      <td>1</td>\n",
       "      <td>0</td>\n",
       "      <td>9</td>\n",
       "      <td>6</td>\n",
       "      <td>3</td>\n",
       "      <td>327</td>\n",
       "    </tr>\n",
       "    <tr>\n",
       "      <th>1</th>\n",
       "      <td>17938</td>\n",
       "      <td>0</td>\n",
       "      <td>0</td>\n",
       "      <td>0</td>\n",
       "      <td>4</td>\n",
       "      <td>22</td>\n",
       "      <td>3</td>\n",
       "      <td>327</td>\n",
       "    </tr>\n",
       "    <tr>\n",
       "      <th>2</th>\n",
       "      <td>4263520</td>\n",
       "      <td>1</td>\n",
       "      <td>0</td>\n",
       "      <td>0</td>\n",
       "      <td>19</td>\n",
       "      <td>1</td>\n",
       "      <td>5</td>\n",
       "      <td>327</td>\n",
       "    </tr>\n",
       "    <tr>\n",
       "      <th>3</th>\n",
       "      <td>1411600</td>\n",
       "      <td>3</td>\n",
       "      <td>0</td>\n",
       "      <td>0</td>\n",
       "      <td>5</td>\n",
       "      <td>138</td>\n",
       "      <td>1</td>\n",
       "      <td>327</td>\n",
       "    </tr>\n",
       "    <tr>\n",
       "      <th>4</th>\n",
       "      <td>3992242</td>\n",
       "      <td>2</td>\n",
       "      <td>0</td>\n",
       "      <td>0</td>\n",
       "      <td>0</td>\n",
       "      <td>142</td>\n",
       "      <td>0</td>\n",
       "      <td>327</td>\n",
       "    </tr>\n",
       "  </tbody>\n",
       "</table>\n",
       "</div>"
      ],
      "text/plain": [
       "   user_id  age  gender  country  province  city  city_level  device_name\n",
       "0  1757005    3       1        0         9     6           3          327\n",
       "1    17938    0       0        0         4    22           3          327\n",
       "2  4263520    1       0        0        19     1           5          327\n",
       "3  1411600    3       0        0         5   138           1          327\n",
       "4  3992242    2       0        0         0   142           0          327"
      ]
     },
     "execution_count": 5,
     "metadata": {},
     "output_type": "execute_result"
    }
   ],
   "source": [
    "# 查看数据基本信息\n",
    "print(user_data.columns.tolist())\n",
    "print(user_data.shape)\n",
    "user_data.head(5)"
   ]
  },
  {
   "cell_type": "code",
   "execution_count": 6,
   "metadata": {},
   "outputs": [
    {
     "name": "stdout",
     "output_type": "stream",
     "text": [
      "<class 'pandas.core.frame.DataFrame'>\n",
      "RangeIndex: 5910800 entries, 0 to 5910799\n",
      "Data columns (total 8 columns):\n",
      " #   Column       Dtype\n",
      "---  ------       -----\n",
      " 0   user_id      int64\n",
      " 1   age          int64\n",
      " 2   gender       int64\n",
      " 3   country      int64\n",
      " 4   province     int64\n",
      " 5   city         int64\n",
      " 6   city_level   int64\n",
      " 7   device_name  int64\n",
      "dtypes: int64(8)\n",
      "memory usage: 360.8 MB\n"
     ]
    },
    {
     "data": {
      "text/html": [
       "<div>\n",
       "<style scoped>\n",
       "    .dataframe tbody tr th:only-of-type {\n",
       "        vertical-align: middle;\n",
       "    }\n",
       "\n",
       "    .dataframe tbody tr th {\n",
       "        vertical-align: top;\n",
       "    }\n",
       "\n",
       "    .dataframe thead th {\n",
       "        text-align: right;\n",
       "    }\n",
       "</style>\n",
       "<table border=\"1\" class=\"dataframe\">\n",
       "  <thead>\n",
       "    <tr style=\"text-align: right;\">\n",
       "      <th></th>\n",
       "      <th>user_id</th>\n",
       "      <th>age</th>\n",
       "      <th>gender</th>\n",
       "      <th>country</th>\n",
       "      <th>province</th>\n",
       "      <th>city</th>\n",
       "      <th>city_level</th>\n",
       "      <th>device_name</th>\n",
       "    </tr>\n",
       "  </thead>\n",
       "  <tbody>\n",
       "    <tr>\n",
       "      <th>count</th>\n",
       "      <td>5910800.000</td>\n",
       "      <td>5910800.000</td>\n",
       "      <td>5910800.000</td>\n",
       "      <td>5910800.000</td>\n",
       "      <td>5910800.000</td>\n",
       "      <td>5910800.000</td>\n",
       "      <td>5910800.000</td>\n",
       "      <td>5910800.000</td>\n",
       "    </tr>\n",
       "    <tr>\n",
       "      <th>mean</th>\n",
       "      <td>2955399.500</td>\n",
       "      <td>1.886</td>\n",
       "      <td>0.285</td>\n",
       "      <td>0.001</td>\n",
       "      <td>9.176</td>\n",
       "      <td>86.034</td>\n",
       "      <td>2.057</td>\n",
       "      <td>72.104</td>\n",
       "    </tr>\n",
       "    <tr>\n",
       "      <th>std</th>\n",
       "      <td>1706301.130</td>\n",
       "      <td>1.564</td>\n",
       "      <td>0.478</td>\n",
       "      <td>0.030</td>\n",
       "      <td>7.878</td>\n",
       "      <td>81.779</td>\n",
       "      <td>1.662</td>\n",
       "      <td>79.275</td>\n",
       "    </tr>\n",
       "    <tr>\n",
       "      <th>min</th>\n",
       "      <td>0.000</td>\n",
       "      <td>0.000</td>\n",
       "      <td>0.000</td>\n",
       "      <td>0.000</td>\n",
       "      <td>0.000</td>\n",
       "      <td>0.000</td>\n",
       "      <td>0.000</td>\n",
       "      <td>0.000</td>\n",
       "    </tr>\n",
       "    <tr>\n",
       "      <th>25%</th>\n",
       "      <td>1477699.750</td>\n",
       "      <td>0.000</td>\n",
       "      <td>0.000</td>\n",
       "      <td>0.000</td>\n",
       "      <td>2.000</td>\n",
       "      <td>17.000</td>\n",
       "      <td>1.000</td>\n",
       "      <td>17.000</td>\n",
       "    </tr>\n",
       "    <tr>\n",
       "      <th>50%</th>\n",
       "      <td>2955399.500</td>\n",
       "      <td>2.000</td>\n",
       "      <td>0.000</td>\n",
       "      <td>0.000</td>\n",
       "      <td>7.000</td>\n",
       "      <td>59.000</td>\n",
       "      <td>2.000</td>\n",
       "      <td>46.000</td>\n",
       "    </tr>\n",
       "    <tr>\n",
       "      <th>75%</th>\n",
       "      <td>4433099.250</td>\n",
       "      <td>3.000</td>\n",
       "      <td>1.000</td>\n",
       "      <td>0.000</td>\n",
       "      <td>15.000</td>\n",
       "      <td>137.000</td>\n",
       "      <td>3.000</td>\n",
       "      <td>102.000</td>\n",
       "    </tr>\n",
       "    <tr>\n",
       "      <th>max</th>\n",
       "      <td>5910799.000</td>\n",
       "      <td>7.000</td>\n",
       "      <td>3.000</td>\n",
       "      <td>2.000</td>\n",
       "      <td>32.000</td>\n",
       "      <td>338.000</td>\n",
       "      <td>7.000</td>\n",
       "      <td>1825.000</td>\n",
       "    </tr>\n",
       "  </tbody>\n",
       "</table>\n",
       "</div>"
      ],
      "text/plain": [
       "          user_id         age      gender     country    province        city  \\\n",
       "count 5910800.000 5910800.000 5910800.000 5910800.000 5910800.000 5910800.000   \n",
       "mean  2955399.500       1.886       0.285       0.001       9.176      86.034   \n",
       "std   1706301.130       1.564       0.478       0.030       7.878      81.779   \n",
       "min         0.000       0.000       0.000       0.000       0.000       0.000   \n",
       "25%   1477699.750       0.000       0.000       0.000       2.000      17.000   \n",
       "50%   2955399.500       2.000       0.000       0.000       7.000      59.000   \n",
       "75%   4433099.250       3.000       1.000       0.000      15.000     137.000   \n",
       "max   5910799.000       7.000       3.000       2.000      32.000     338.000   \n",
       "\n",
       "       city_level  device_name  \n",
       "count 5910800.000  5910800.000  \n",
       "mean        2.057       72.104  \n",
       "std         1.662       79.275  \n",
       "min         0.000        0.000  \n",
       "25%         1.000       17.000  \n",
       "50%         2.000       46.000  \n",
       "75%         3.000      102.000  \n",
       "max         7.000     1825.000  "
      ]
     },
     "execution_count": 6,
     "metadata": {},
     "output_type": "execute_result"
    }
   ],
   "source": [
    "user_data.info()\n",
    "user_data.describe()"
   ]
  },
  {
   "cell_type": "code",
   "execution_count": 8,
   "metadata": {},
   "outputs": [],
   "source": [
    "col_null = user_data.apply(lambda x: sum(x.isnull()), axis=0)\n",
    "# row_null = user_data.apply(lambda x: sum(x.isnull()), axis=1)"
   ]
  },
  {
   "cell_type": "code",
   "execution_count": 9,
   "metadata": {},
   "outputs": [
    {
     "name": "stdout",
     "output_type": "stream",
     "text": [
      "各列中存在null值的数量：\n",
      "user_id        0\n",
      "age            0\n",
      "gender         0\n",
      "country        0\n",
      "province       0\n",
      "city           0\n",
      "city_level     0\n",
      "device_name    0\n",
      "dtype: int64\n",
      "存在null值的行数：0\n"
     ]
    }
   ],
   "source": [
    "print(f\"各列中存在null值的数量：\\n{col_null}\")\n",
    "print(f\"存在null值的行数：{sum(row_null != 0)}\")"
   ]
  },
  {
   "cell_type": "code",
   "execution_count": 10,
   "metadata": {},
   "outputs": [],
   "source": [
    "# 丢弃重复的行\n",
    "user_data.drop_duplicates(inplace=True)"
   ]
  },
  {
   "cell_type": "code",
   "execution_count": 99,
   "metadata": {},
   "outputs": [
    {
     "data": {
      "image/png": "[encoded data removed]",
      "text/plain": [
       "<Figure size 1296x1440 with 7 Axes>"
      ]
     },
     "metadata": {
      "needs_background": "light"
     },
     "output_type": "display_data"
    }
   ],
   "source": [
    "# 分析各个特征的分布\n",
    "cols = user_data.columns.tolist()[1:]  # 去掉id列\n",
    "fid, axes = plt.subplots(len(cols), 1, figsize=(18,20))\n",
    "\n",
    "for idx, col in enumerate(cols):\n",
    "    bins = len(user_data[col].unique())\n",
    "    n, *_ = axes[idx].hist(user_data[col], bins=bins, align='right', density=True, log=True)\n",
    "    axes[idx].set_xlabel(col)\n",
    "    axes[idx].set_ylabel(\"#num\")\n",
    "#     print(f\"{col} : {Counter(user_data[col])}, {[e/sum(n) for e in n]}\")\n",
    "\n",
    "plt.tight_layout()\n",
    "plt.show()"
   ]
  },
  {
   "cell_type": "markdown",
   "metadata": {},
   "source": [
    "## 视频特征"
   ]
  },
  {
   "cell_type": "code",
   "execution_count": 12,
   "metadata": {},
   "outputs": [],
   "source": [
    "video_data = pd.read_csv(os.path.join(train_data_dir, \"video_features_data/video_features_data.csv\"), delimiter=\"\\t\")"
   ]
  },
  {
   "cell_type": "code",
   "execution_count": 13,
   "metadata": {},
   "outputs": [
    {
     "name": "stdout",
     "output_type": "stream",
     "text": [
      "(49731, 10)\n",
      "['video_id', 'video_name', 'video_tags', 'video_description', 'video_release_date', 'video_director_list', 'video_actor_list', 'video_score', 'video_second_class', 'video_duration']\n"
     ]
    },
    {
     "data": {
      "text/html": [
       "<div>\n",
       "<style scoped>\n",
       "    .dataframe tbody tr th:only-of-type {\n",
       "        vertical-align: middle;\n",
       "    }\n",
       "\n",
       "    .dataframe tbody tr th {\n",
       "        vertical-align: top;\n",
       "    }\n",
       "\n",
       "    .dataframe thead th {\n",
       "        text-align: right;\n",
       "    }\n",
       "</style>\n",
       "<table border=\"1\" class=\"dataframe\">\n",
       "  <thead>\n",
       "    <tr style=\"text-align: right;\">\n",
       "      <th></th>\n",
       "      <th>video_id</th>\n",
       "      <th>video_name</th>\n",
       "      <th>video_tags</th>\n",
       "      <th>video_description</th>\n",
       "      <th>video_release_date</th>\n",
       "      <th>video_director_list</th>\n",
       "      <th>video_actor_list</th>\n",
       "      <th>video_score</th>\n",
       "      <th>video_second_class</th>\n",
       "      <th>video_duration</th>\n",
       "    </tr>\n",
       "  </thead>\n",
       "  <tbody>\n",
       "    <tr>\n",
       "      <th>0</th>\n",
       "      <td>3460</td>\n",
       "      <td>脱皮爸爸</td>\n",
       "      <td>院线电影,家庭关系,命运</td>\n",
       "      <td>中年失意的儿子田力行（古天乐饰）在生活上遇到了重重危机：母亲病逝,工作不顺,妻子要求离婚。正...</td>\n",
       "      <td>2017-04-27</td>\n",
       "      <td>司徒慧焯</td>\n",
       "      <td>吴镇宇,古天乐,春夏,蔡洁</td>\n",
       "      <td>7.400</td>\n",
       "      <td>剧情,喜剧,奇幻</td>\n",
       "      <td>5913</td>\n",
       "    </tr>\n",
       "    <tr>\n",
       "      <th>1</th>\n",
       "      <td>14553</td>\n",
       "      <td>喜气洋洋小金莲</td>\n",
       "      <td>古装喜剧,剧情片,喜剧片,内地电影,欢乐喜剧,爱情纠纷</td>\n",
       "      <td>故事始于西门庆为西门药业的“伟哥”产品寻找代言人，西门庆初见潘金莲，一时惊为天人，为成功抱得...</td>\n",
       "      <td>2015-12-30</td>\n",
       "      <td>杨珊珊,李亚玲</td>\n",
       "      <td>陈南飞,程隆妮,王闯,贾海涛,闫薇儿</td>\n",
       "      <td>5.600</td>\n",
       "      <td>喜剧</td>\n",
       "      <td>6217</td>\n",
       "    </tr>\n",
       "    <tr>\n",
       "      <th>2</th>\n",
       "      <td>1214</td>\n",
       "      <td>风流家族</td>\n",
       "      <td>男女关系,家庭关系,命运,院线电影</td>\n",
       "      <td>香世仁（钟镇涛 饰）是家财万贯的香港富豪，在满足了一切物质上的要求后，他将生活的重心放在了儿...</td>\n",
       "      <td>2002-03-07</td>\n",
       "      <td>邱礼涛,杨漪珊</td>\n",
       "      <td>张家辉,卢巧音,钟镇涛,叶童,李蕙敏,张坚庭,袁洁莹,黄佩霞,齐芷瑶,刘以达,叶伟信,邹凯光...</td>\n",
       "      <td>6.800</td>\n",
       "      <td>都市,喜剧,爱情,家庭</td>\n",
       "      <td>5963</td>\n",
       "    </tr>\n",
       "    <tr>\n",
       "      <th>3</th>\n",
       "      <td>30639</td>\n",
       "      <td>大提琴的故事</td>\n",
       "      <td>短片,动画片</td>\n",
       "      <td>低音大提琴演奏家史密斯科夫正要去参加某贵族的沙龙，途中他被河边的美丽景色所吸引，驻足观看。兴...</td>\n",
       "      <td>1949-01-01</td>\n",
       "      <td>伊里·特恩卡,契诃夫</td>\n",
       "      <td>NaN</td>\n",
       "      <td>nan</td>\n",
       "      <td>动画,爱情</td>\n",
       "      <td>17371</td>\n",
       "    </tr>\n",
       "    <tr>\n",
       "      <th>4</th>\n",
       "      <td>38522</td>\n",
       "      <td>歌舞大王齐格飞</td>\n",
       "      <td>喜剧片,人物传记,浪漫爱情</td>\n",
       "      <td>罗伯特．Z．伦纳德导演的这部影片以百老汇最大的歌舞团——齐格菲歌舞团的创办人佛罗伦斯．齐格菲...</td>\n",
       "      <td>1936-04-08</td>\n",
       "      <td>罗伯特·Z·伦纳德,William Anthony McGuire</td>\n",
       "      <td>威廉·鲍威尔,玛娜·洛伊,路易丝·赖纳,弗兰克·摩根,范妮·布莱斯,弗吉尼亚·布鲁斯,雷吉纳...</td>\n",
       "      <td>7.700</td>\n",
       "      <td>剧情,歌舞,喜剧</td>\n",
       "      <td>10608</td>\n",
       "    </tr>\n",
       "  </tbody>\n",
       "</table>\n",
       "</div>"
      ],
      "text/plain": [
       "   video_id video_name                   video_tags  \\\n",
       "0      3460       脱皮爸爸                 院线电影,家庭关系,命运   \n",
       "1     14553    喜气洋洋小金莲  古装喜剧,剧情片,喜剧片,内地电影,欢乐喜剧,爱情纠纷   \n",
       "2      1214       风流家族            男女关系,家庭关系,命运,院线电影   \n",
       "3     30639     大提琴的故事                       短片,动画片   \n",
       "4     38522    歌舞大王齐格飞                喜剧片,人物传记,浪漫爱情   \n",
       "\n",
       "                                   video_description video_release_date  \\\n",
       "0  中年失意的儿子田力行（古天乐饰）在生活上遇到了重重危机：母亲病逝,工作不顺,妻子要求离婚。正...         2017-04-27   \n",
       "1  故事始于西门庆为西门药业的“伟哥”产品寻找代言人，西门庆初见潘金莲，一时惊为天人，为成功抱得...         2015-12-30   \n",
       "2  香世仁（钟镇涛 饰）是家财万贯的香港富豪，在满足了一切物质上的要求后，他将生活的重心放在了儿...         2002-03-07   \n",
       "3  低音大提琴演奏家史密斯科夫正要去参加某贵族的沙龙，途中他被河边的美丽景色所吸引，驻足观看。兴...         1949-01-01   \n",
       "4  罗伯特．Z．伦纳德导演的这部影片以百老汇最大的歌舞团——齐格菲歌舞团的创办人佛罗伦斯．齐格菲...         1936-04-08   \n",
       "\n",
       "                 video_director_list  \\\n",
       "0                               司徒慧焯   \n",
       "1                            杨珊珊,李亚玲   \n",
       "2                            邱礼涛,杨漪珊   \n",
       "3                         伊里·特恩卡,契诃夫   \n",
       "4  罗伯特·Z·伦纳德,William Anthony McGuire   \n",
       "\n",
       "                                    video_actor_list  video_score  \\\n",
       "0                                      吴镇宇,古天乐,春夏,蔡洁        7.400   \n",
       "1                                 陈南飞,程隆妮,王闯,贾海涛,闫薇儿        5.600   \n",
       "2  张家辉,卢巧音,钟镇涛,叶童,李蕙敏,张坚庭,袁洁莹,黄佩霞,齐芷瑶,刘以达,叶伟信,邹凯光...        6.800   \n",
       "3                                                NaN          nan   \n",
       "4  威廉·鲍威尔,玛娜·洛伊,路易丝·赖纳,弗兰克·摩根,范妮·布莱斯,弗吉尼亚·布鲁斯,雷吉纳...        7.700   \n",
       "\n",
       "  video_second_class  video_duration  \n",
       "0           剧情,喜剧,奇幻            5913  \n",
       "1                 喜剧            6217  \n",
       "2        都市,喜剧,爱情,家庭            5963  \n",
       "3              动画,爱情           17371  \n",
       "4           剧情,歌舞,喜剧           10608  "
      ]
     },
     "execution_count": 13,
     "metadata": {},
     "output_type": "execute_result"
    }
   ],
   "source": [
    "print(video_data.shape)\n",
    "print(video_data.columns.tolist())\n",
    "video_data.head(5)"
   ]
  },
  {
   "cell_type": "code",
   "execution_count": 18,
   "metadata": {},
   "outputs": [
    {
     "name": "stdout",
     "output_type": "stream",
     "text": [
      "<class 'pandas.core.frame.DataFrame'>\n",
      "RangeIndex: 49731 entries, 0 to 49730\n",
      "Data columns (total 10 columns):\n",
      " #   Column               Non-Null Count  Dtype  \n",
      "---  ------               --------------  -----  \n",
      " 0   video_id             49731 non-null  int64  \n",
      " 1   video_name           49722 non-null  object \n",
      " 2   video_tags           41831 non-null  object \n",
      " 3   video_description    49536 non-null  object \n",
      " 4   video_release_date   49061 non-null  object \n",
      " 5   video_director_list  38728 non-null  object \n",
      " 6   video_actor_list     39543 non-null  object \n",
      " 7   video_score          46417 non-null  float64\n",
      " 8   video_second_class   43821 non-null  object \n",
      " 9   video_duration       49731 non-null  int64  \n",
      "dtypes: float64(1), int64(2), object(7)\n",
      "memory usage: 3.8+ MB\n"
     ]
    },
    {
     "data": {
      "text/html": [
       "<div>\n",
       "<style scoped>\n",
       "    .dataframe tbody tr th:only-of-type {\n",
       "        vertical-align: middle;\n",
       "    }\n",
       "\n",
       "    .dataframe tbody tr th {\n",
       "        vertical-align: top;\n",
       "    }\n",
       "\n",
       "    .dataframe thead th {\n",
       "        text-align: right;\n",
       "    }\n",
       "</style>\n",
       "<table border=\"1\" class=\"dataframe\">\n",
       "  <thead>\n",
       "    <tr style=\"text-align: right;\">\n",
       "      <th></th>\n",
       "      <th>video_id</th>\n",
       "      <th>video_score</th>\n",
       "      <th>video_duration</th>\n",
       "    </tr>\n",
       "  </thead>\n",
       "  <tbody>\n",
       "    <tr>\n",
       "      <th>count</th>\n",
       "      <td>49731.000</td>\n",
       "      <td>46417.000</td>\n",
       "      <td>49731.000</td>\n",
       "    </tr>\n",
       "    <tr>\n",
       "      <th>mean</th>\n",
       "      <td>25170.854</td>\n",
       "      <td>7.361</td>\n",
       "      <td>3675.074</td>\n",
       "    </tr>\n",
       "    <tr>\n",
       "      <th>std</th>\n",
       "      <td>14540.777</td>\n",
       "      <td>0.819</td>\n",
       "      <td>2862.818</td>\n",
       "    </tr>\n",
       "    <tr>\n",
       "      <th>min</th>\n",
       "      <td>0.000</td>\n",
       "      <td>5.000</td>\n",
       "      <td>0.000</td>\n",
       "    </tr>\n",
       "    <tr>\n",
       "      <th>25%</th>\n",
       "      <td>12579.500</td>\n",
       "      <td>7.000</td>\n",
       "      <td>148.000</td>\n",
       "    </tr>\n",
       "    <tr>\n",
       "      <th>50%</th>\n",
       "      <td>25161.000</td>\n",
       "      <td>7.400</td>\n",
       "      <td>5029.000</td>\n",
       "    </tr>\n",
       "    <tr>\n",
       "      <th>75%</th>\n",
       "      <td>37766.500</td>\n",
       "      <td>7.900</td>\n",
       "      <td>5817.000</td>\n",
       "    </tr>\n",
       "    <tr>\n",
       "      <th>max</th>\n",
       "      <td>50354.000</td>\n",
       "      <td>9.800</td>\n",
       "      <td>23536.000</td>\n",
       "    </tr>\n",
       "  </tbody>\n",
       "</table>\n",
       "</div>"
      ],
      "text/plain": [
       "       video_id  video_score  video_duration\n",
       "count 49731.000    46417.000       49731.000\n",
       "mean  25170.854        7.361        3675.074\n",
       "std   14540.777        0.819        2862.818\n",
       "min       0.000        5.000           0.000\n",
       "25%   12579.500        7.000         148.000\n",
       "50%   25161.000        7.400        5029.000\n",
       "75%   37766.500        7.900        5817.000\n",
       "max   50354.000        9.800       23536.000"
      ]
     },
     "execution_count": 18,
     "metadata": {},
     "output_type": "execute_result"
    }
   ],
   "source": [
    "video_data.info()\n",
    "video_data.describe()"
   ]
  },
  {
   "cell_type": "markdown",
   "metadata": {},
   "source": [
    "# 交互数据"
   ]
  },
  {
   "cell_type": "code",
   "execution_count": 15,
   "metadata": {
    "jupyter": {
     "source_hidden": true
    },
    "tags": []
   },
   "outputs": [
    {
     "name": "stdout",
     "output_type": "stream",
     "text": [
      "{'20210419': 'part-00000-236b99d5-456a-42b2-bd8d-3cbd61d21cc6-c000.csv', '20210420': 'part-00000-aad75aa4-b60b-4f5b-8def-c4d60f391fae-c000.csv', '20210421': 'part-00000-c15f29da-6b1e-48c0-b7d0-2cd560998c3f-c000.csv', '20210422': 'part-00000-3d97d0f8-2572-45e6-bb60-f367c97e7870-c000.csv', '20210423': 'part-00000-9809d73a-a55f-4ac2-a59b-9b83cbc5028e-c000.csv', '20210424': 'part-00000-225e55dc-4504-4c14-b289-322312355b2b-c000.csv', '20210425': 'part-00000-9d23862b-6bbf-48c6-a598-572df1359737-c000.csv', '20210426': 'part-00000-0d315342-3ba7-4727-b4a2-123a1a004786-c000.csv', '20210427': 'part-00000-9132ab46-51c3-4cc3-97de-e7ad5312b852-c000.csv', '20210428': 'part-00000-fc8c8ca1-e655-4a45-b179-c8d9e2dd804c-c000.csv', '20210429': 'part-00000-c5dbd994-54d7-4734-adea-0f22d75b23d3-c000.csv', '20210430': 'part-00000-2da4c3a0-2fcc-422d-8b7c-48940da315ad-c000.csv', '20210501': 'part-00000-56b6f0ff-57b8-41ac-96ec-c20e3306297e-c000.csv', '20210502': 'part-00000-d412c602-2f4a-4649-a81f-e56435dd49fd-c000.csv'}\n"
     ]
    }
   ],
   "source": [
    "action_dirs = os.listdir(os.path.join(train_data_dir, \"history_behavior_data\"))\n",
    "action_files = {e: os.listdir(os.path.join(train_data_dir, f\"history_behavior_data/{e}\"))[0] for e in action_dirs}\n",
    "print(action_files)"
   ]
  },
  {
   "cell_type": "code",
   "execution_count": 128,
   "metadata": {},
   "outputs": [
    {
     "name": "stderr",
     "output_type": "stream",
     "text": [
      "d:\\codeprograms\\python37\\lib\\site-packages\\IPython\\core\\interactiveshell.py:3147: DtypeWarning: Columns (6) have mixed types.Specify dtype option on import or set low_memory=False.\n",
      "  interactivity=interactivity, compiler=compiler, result=result)\n"
     ]
    }
   ],
   "source": [
    "i = action_dirs[1]\n",
    "action_data = pd.read_csv(os.path.join(train_data_dir, f\"history_behavior_data/{i}/{action_files[i]}\"), delimiter=\"\\t\")"
   ]
  },
  {
   "cell_type": "code",
   "execution_count": 138,
   "metadata": {},
   "outputs": [
    {
     "name": "stdout",
     "output_type": "stream",
     "text": [
      "(5511348, 7)\n",
      "['user_id', 'video_id', 'is_watch', 'is_share', 'is_collect', 'is_comment', 'watch_label']\n"
     ]
    },
    {
     "data": {
      "text/html": [
       "<div>\n",
       "<style scoped>\n",
       "    .dataframe tbody tr th:only-of-type {\n",
       "        vertical-align: middle;\n",
       "    }\n",
       "\n",
       "    .dataframe tbody tr th {\n",
       "        vertical-align: top;\n",
       "    }\n",
       "\n",
       "    .dataframe thead th {\n",
       "        text-align: right;\n",
       "    }\n",
       "</style>\n",
       "<table border=\"1\" class=\"dataframe\">\n",
       "  <thead>\n",
       "    <tr style=\"text-align: right;\">\n",
       "      <th></th>\n",
       "      <th>user_id</th>\n",
       "      <th>video_id</th>\n",
       "      <th>is_watch</th>\n",
       "      <th>is_share</th>\n",
       "      <th>is_collect</th>\n",
       "      <th>is_comment</th>\n",
       "      <th>watch_label</th>\n",
       "    </tr>\n",
       "  </thead>\n",
       "  <tbody>\n",
       "    <tr>\n",
       "      <th>0</th>\n",
       "      <td>2543081</td>\n",
       "      <td>5035</td>\n",
       "      <td>0</td>\n",
       "      <td>0</td>\n",
       "      <td>0</td>\n",
       "      <td>0</td>\n",
       "      <td>0</td>\n",
       "    </tr>\n",
       "    <tr>\n",
       "      <th>1</th>\n",
       "      <td>2543081</td>\n",
       "      <td>9527</td>\n",
       "      <td>0</td>\n",
       "      <td>0</td>\n",
       "      <td>0</td>\n",
       "      <td>0</td>\n",
       "      <td>0</td>\n",
       "    </tr>\n",
       "    <tr>\n",
       "      <th>2</th>\n",
       "      <td>2543081</td>\n",
       "      <td>3717</td>\n",
       "      <td>0</td>\n",
       "      <td>0</td>\n",
       "      <td>0</td>\n",
       "      <td>0</td>\n",
       "      <td>0</td>\n",
       "    </tr>\n",
       "    <tr>\n",
       "      <th>3</th>\n",
       "      <td>2543081</td>\n",
       "      <td>37417</td>\n",
       "      <td>0</td>\n",
       "      <td>0</td>\n",
       "      <td>0</td>\n",
       "      <td>0</td>\n",
       "      <td>0</td>\n",
       "    </tr>\n",
       "    <tr>\n",
       "      <th>4</th>\n",
       "      <td>2543081</td>\n",
       "      <td>28368</td>\n",
       "      <td>0</td>\n",
       "      <td>0</td>\n",
       "      <td>0</td>\n",
       "      <td>0</td>\n",
       "      <td>0</td>\n",
       "    </tr>\n",
       "  </tbody>\n",
       "</table>\n",
       "</div>"
      ],
      "text/plain": [
       "   user_id  video_id  is_watch  is_share  is_collect  is_comment  watch_label\n",
       "0  2543081      5035         0         0           0           0            0\n",
       "1  2543081      9527         0         0           0           0            0\n",
       "2  2543081      3717         0         0           0           0            0\n",
       "3  2543081     37417         0         0           0           0            0\n",
       "4  2543081     28368         0         0           0           0            0"
      ]
     },
     "execution_count": 138,
     "metadata": {},
     "output_type": "execute_result"
    }
   ],
   "source": [
    "print(action_data.shape)\n",
    "print(action_data.columns.tolist())\n",
    "action_data.head(5)"
   ]
  },
  {
   "cell_type": "code",
   "execution_count": 130,
   "metadata": {},
   "outputs": [
    {
     "name": "stdout",
     "output_type": "stream",
     "text": [
      "<class 'pandas.core.frame.DataFrame'>\n",
      "RangeIndex: 5511348 entries, 0 to 5511347\n",
      "Data columns (total 9 columns):\n",
      " #   Column            Dtype \n",
      "---  ------            ----- \n",
      " 0   user_id           int64 \n",
      " 1   video_id          int64 \n",
      " 2   is_watch          int64 \n",
      " 3   is_share          int64 \n",
      " 4   is_collect        int64 \n",
      " 5   is_comment        int64 \n",
      " 6   watch_start_time  object\n",
      " 7   watch_label       int64 \n",
      " 8   pt_d              int64 \n",
      "dtypes: int64(8), object(1)\n",
      "memory usage: 378.4+ MB\n"
     ]
    }
   ],
   "source": [
    "action_data.info()\n",
    "# action_data.describe()"
   ]
  },
  {
   "cell_type": "code",
   "execution_count": 131,
   "metadata": {},
   "outputs": [],
   "source": [
    "# 按照 (user_id, video_id)进行分组。绝大部分用户基本只看了一个视频\n",
    "d = action_data.duplicated(['user_id', 'video_id'])"
   ]
  },
  {
   "cell_type": "code",
   "execution_count": 132,
   "metadata": {
    "tags": []
   },
   "outputs": [
    {
     "name": "stdout",
     "output_type": "stream",
     "text": [
      "重复的(user_id, video_id)数量 : 25 (4.536095343643697e-06)\n"
     ]
    }
   ],
   "source": [
    "d = d[d]\n",
    "print(f\"重复的(user_id, video_id)数量 : {d.shape[0]} ({d.shape[0]/action_data.shape[0]})\")"
   ]
  },
  {
   "cell_type": "code",
   "execution_count": 133,
   "metadata": {},
   "outputs": [],
   "source": [
    "col_null = action_data.apply(lambda x: sum(x.isnull()), axis=0)"
   ]
  },
  {
   "cell_type": "code",
   "execution_count": 134,
   "metadata": {},
   "outputs": [
    {
     "data": {
      "text/plain": [
       "user_id            0.000\n",
       "video_id           0.000\n",
       "is_watch           0.000\n",
       "is_share           0.000\n",
       "is_collect         0.000\n",
       "is_comment         0.000\n",
       "watch_start_time   0.907\n",
       "watch_label        0.000\n",
       "pt_d               0.000\n",
       "dtype: float64"
      ]
     },
     "execution_count": 134,
     "metadata": {},
     "output_type": "execute_result"
    }
   ],
   "source": [
    "col_null / action_data.shape[0] # 可见，watch_start_time大部分都为NaN"
   ]
  },
  {
   "cell_type": "code",
   "execution_count": 135,
   "metadata": {},
   "outputs": [],
   "source": [
    "# 删除列\n",
    "action_data.drop('watch_start_time', inplace=True, axis=1)\n",
    "action_data.drop('pt_d', inplace=True, axis=1)"
   ]
  },
  {
   "cell_type": "code",
   "execution_count": 136,
   "metadata": {},
   "outputs": [
    {
     "name": "stdout",
     "output_type": "stream",
     "text": [
      "is_watch : Counter({0: 5000945, 1: 510403}), [0.907, 0.093]\n",
      "is_share : Counter({0: 5510400, 1: 948}), [1.0, 0.0]\n",
      "is_collect : Counter({0: 5505237, 1: 6111}), [0.999, 0.001]\n",
      "is_comment : Counter({0: 5510385, 1: 963}), [1.0, 0.0]\n",
      "watch_label : Counter({0: 5363875, 1: 36171, 9: 28097, 2: 20349, 3: 14991, 4: 11810, 5: 9820, 8: 9375, 6: 8793, 7: 8067}), [0.973, 0.007, 0.004, 0.003, 0.002, 0.002, 0.002, 0.001, 0.002, 0.005]\n"
     ]
    },
    {
     "data": {
      "image/png": "[encoded data removed]",
      "text/plain": [
       "<Figure size 864x1296 with 5 Axes>"
      ]
     },
     "metadata": {
      "needs_background": "light"
     },
     "output_type": "display_data"
    }
   ],
   "source": [
    "# 分析各个特征的分布\n",
    "cols = action_data.columns.tolist()[2:]  # 去掉id列\n",
    "# cols.remove('watch_start_time')\n",
    "# cols.remove('pt_d')\n",
    "fid, axes = plt.subplots(len(cols), 1, figsize=(12,18))\n",
    "\n",
    "\n",
    "\n",
    "for idx, col in enumerate(cols):\n",
    "    bins = len(action_data[col].unique())\n",
    "    n, *_ = axes[idx].hist(action_data[col], bins=bins, align='mid', density=True, alpha=0.8, log=True)\n",
    "    axes[idx].set_xlabel(col)\n",
    "    axes[idx].set_ylabel(\"#users\")\n",
    "    print(f\"{col} : {Counter(action_data[col])}, {[round(e/sum(n), 3) for e in n]}\")\n",
    "\n",
    "plt.tight_layout()\n",
    "plt.show()"
   ]
  },
  {
   "cell_type": "code",
   "execution_count": null,
   "metadata": {},
   "outputs": [],
   "source": []
  },
  {
   "cell_type": "markdown",
   "metadata": {},
   "source": [
    "# 测试数据"
   ]
  },
  {
   "cell_type": "code",
   "execution_count": 20,
   "metadata": {},
   "outputs": [],
   "source": [
    "test_data = pd.read_csv(os.path.join(test_data_dir, \"test.csv\"))"
   ]
  },
  {
   "cell_type": "code",
   "execution_count": 21,
   "metadata": {},
   "outputs": [
    {
     "name": "stdout",
     "output_type": "stream",
     "text": [
      "(2822180, 2)\n",
      "['user_id', 'video_id']\n"
     ]
    },
    {
     "data": {
      "text/html": [
       "<div>\n",
       "<style scoped>\n",
       "    .dataframe tbody tr th:only-of-type {\n",
       "        vertical-align: middle;\n",
       "    }\n",
       "\n",
       "    .dataframe tbody tr th {\n",
       "        vertical-align: top;\n",
       "    }\n",
       "\n",
       "    .dataframe thead th {\n",
       "        text-align: right;\n",
       "    }\n",
       "</style>\n",
       "<table border=\"1\" class=\"dataframe\">\n",
       "  <thead>\n",
       "    <tr style=\"text-align: right;\">\n",
       "      <th></th>\n",
       "      <th>user_id</th>\n",
       "      <th>video_id</th>\n",
       "    </tr>\n",
       "  </thead>\n",
       "  <tbody>\n",
       "    <tr>\n",
       "      <th>0</th>\n",
       "      <td>1688013</td>\n",
       "      <td>32645</td>\n",
       "    </tr>\n",
       "    <tr>\n",
       "      <th>1</th>\n",
       "      <td>4502598</td>\n",
       "      <td>41270</td>\n",
       "    </tr>\n",
       "    <tr>\n",
       "      <th>2</th>\n",
       "      <td>5585629</td>\n",
       "      <td>16345</td>\n",
       "    </tr>\n",
       "    <tr>\n",
       "      <th>3</th>\n",
       "      <td>1635520</td>\n",
       "      <td>28149</td>\n",
       "    </tr>\n",
       "    <tr>\n",
       "      <th>4</th>\n",
       "      <td>4160191</td>\n",
       "      <td>40554</td>\n",
       "    </tr>\n",
       "  </tbody>\n",
       "</table>\n",
       "</div>"
      ],
      "text/plain": [
       "   user_id  video_id\n",
       "0  1688013     32645\n",
       "1  4502598     41270\n",
       "2  5585629     16345\n",
       "3  1635520     28149\n",
       "4  4160191     40554"
      ]
     },
     "execution_count": 21,
     "metadata": {},
     "output_type": "execute_result"
    }
   ],
   "source": [
    "print(test_data.shape)\n",
    "print(test_data.columns.tolist())\n",
    "test_data.head(5)"
   ]
  },
  {
   "cell_type": "code",
   "execution_count": 23,
   "metadata": {},
   "outputs": [
    {
     "name": "stdout",
     "output_type": "stream",
     "text": [
      "unique users  : 492174\n",
      "unique videos : 23686\n"
     ]
    }
   ],
   "source": [
    "print(f\"unique users  : {len(test_data['user_id'].unique())}\")\n",
    "print(f\"unique videos : {len(test_data['video_id'].unique())}\")"
   ]
  },
  {
   "cell_type": "code",
   "execution_count": 137,
   "metadata": {},
   "outputs": [
    {
     "data": {
      "text/html": [
       "<div>\n",
       "<style scoped>\n",
       "    .dataframe tbody tr th:only-of-type {\n",
       "        vertical-align: middle;\n",
       "    }\n",
       "\n",
       "    .dataframe tbody tr th {\n",
       "        vertical-align: top;\n",
       "    }\n",
       "\n",
       "    .dataframe thead th {\n",
       "        text-align: right;\n",
       "    }\n",
       "</style>\n",
       "<table border=\"1\" class=\"dataframe\">\n",
       "  <thead>\n",
       "    <tr style=\"text-align: right;\">\n",
       "      <th></th>\n",
       "      <th>user_id</th>\n",
       "      <th>video_id</th>\n",
       "      <th>is_watch</th>\n",
       "      <th>is_share</th>\n",
       "      <th>is_collect</th>\n",
       "      <th>is_comment</th>\n",
       "      <th>watch_label</th>\n",
       "    </tr>\n",
       "  </thead>\n",
       "  <tbody>\n",
       "    <tr>\n",
       "      <th>0</th>\n",
       "      <td>4206081</td>\n",
       "      <td>12968</td>\n",
       "      <td>0</td>\n",
       "      <td>0</td>\n",
       "      <td>0</td>\n",
       "      <td>0</td>\n",
       "      <td>0</td>\n",
       "    </tr>\n",
       "    <tr>\n",
       "      <th>1</th>\n",
       "      <td>2828977</td>\n",
       "      <td>1759</td>\n",
       "      <td>0</td>\n",
       "      <td>0</td>\n",
       "      <td>0</td>\n",
       "      <td>0</td>\n",
       "      <td>0</td>\n",
       "    </tr>\n",
       "    <tr>\n",
       "      <th>2</th>\n",
       "      <td>3861990</td>\n",
       "      <td>23410</td>\n",
       "      <td>0</td>\n",
       "      <td>0</td>\n",
       "      <td>0</td>\n",
       "      <td>0</td>\n",
       "      <td>0</td>\n",
       "    </tr>\n",
       "    <tr>\n",
       "      <th>3</th>\n",
       "      <td>1093230</td>\n",
       "      <td>29453</td>\n",
       "      <td>0</td>\n",
       "      <td>0</td>\n",
       "      <td>0</td>\n",
       "      <td>0</td>\n",
       "      <td>0</td>\n",
       "    </tr>\n",
       "    <tr>\n",
       "      <th>4</th>\n",
       "      <td>1093230</td>\n",
       "      <td>28413</td>\n",
       "      <td>0</td>\n",
       "      <td>0</td>\n",
       "      <td>0</td>\n",
       "      <td>0</td>\n",
       "      <td>0</td>\n",
       "    </tr>\n",
       "    <tr>\n",
       "      <th>...</th>\n",
       "      <td>...</td>\n",
       "      <td>...</td>\n",
       "      <td>...</td>\n",
       "      <td>...</td>\n",
       "      <td>...</td>\n",
       "      <td>...</td>\n",
       "      <td>...</td>\n",
       "    </tr>\n",
       "    <tr>\n",
       "      <th>26767</th>\n",
       "      <td>3944251</td>\n",
       "      <td>50299</td>\n",
       "      <td>1</td>\n",
       "      <td>0</td>\n",
       "      <td>1</td>\n",
       "      <td>1</td>\n",
       "      <td>0</td>\n",
       "    </tr>\n",
       "    <tr>\n",
       "      <th>26768</th>\n",
       "      <td>5614611</td>\n",
       "      <td>47507</td>\n",
       "      <td>1</td>\n",
       "      <td>0</td>\n",
       "      <td>0</td>\n",
       "      <td>0</td>\n",
       "      <td>0</td>\n",
       "    </tr>\n",
       "    <tr>\n",
       "      <th>26769</th>\n",
       "      <td>5614611</td>\n",
       "      <td>15888</td>\n",
       "      <td>1</td>\n",
       "      <td>0</td>\n",
       "      <td>0</td>\n",
       "      <td>0</td>\n",
       "      <td>7</td>\n",
       "    </tr>\n",
       "    <tr>\n",
       "      <th>26770</th>\n",
       "      <td>3218613</td>\n",
       "      <td>5601</td>\n",
       "      <td>1</td>\n",
       "      <td>0</td>\n",
       "      <td>0</td>\n",
       "      <td>0</td>\n",
       "      <td>7</td>\n",
       "    </tr>\n",
       "    <tr>\n",
       "      <th>26771</th>\n",
       "      <td>1795783</td>\n",
       "      <td>12968</td>\n",
       "      <td>1</td>\n",
       "      <td>0</td>\n",
       "      <td>0</td>\n",
       "      <td>0</td>\n",
       "      <td>0</td>\n",
       "    </tr>\n",
       "  </tbody>\n",
       "</table>\n",
       "<p>26772 rows × 7 columns</p>\n",
       "</div>"
      ],
      "text/plain": [
       "       user_id  video_id  is_watch  is_share  is_collect  is_comment  \\\n",
       "0      4206081     12968         0         0           0           0   \n",
       "1      2828977      1759         0         0           0           0   \n",
       "2      3861990     23410         0         0           0           0   \n",
       "3      1093230     29453         0         0           0           0   \n",
       "4      1093230     28413         0         0           0           0   \n",
       "...        ...       ...       ...       ...         ...         ...   \n",
       "26767  3944251     50299         1         0           1           1   \n",
       "26768  5614611     47507         1         0           0           0   \n",
       "26769  5614611     15888         1         0           0           0   \n",
       "26770  3218613      5601         1         0           0           0   \n",
       "26771  1795783     12968         1         0           0           0   \n",
       "\n",
       "       watch_label  \n",
       "0                0  \n",
       "1                0  \n",
       "2                0  \n",
       "3                0  \n",
       "4                0  \n",
       "...            ...  \n",
       "26767            0  \n",
       "26768            0  \n",
       "26769            7  \n",
       "26770            7  \n",
       "26771            0  \n",
       "\n",
       "[26772 rows x 7 columns]"
      ]
     },
     "execution_count": 137,
     "metadata": {},
     "output_type": "execute_result"
    }
   ],
   "source": [
    "# 检查测试数据中的(user_id, video_id)是否出现在历史行为数据中\n",
    "pd.merge(action_data, test_data, on=['user_id', 'video_id'], how='inner')"
   ]
  },
  {
   "cell_type": "code",
   "execution_count": 34,
   "metadata": {},
   "outputs": [
    {
     "data": {
      "text/html": [
       "<div>\n",
       "<style scoped>\n",
       "    .dataframe tbody tr th:only-of-type {\n",
       "        vertical-align: middle;\n",
       "    }\n",
       "\n",
       "    .dataframe tbody tr th {\n",
       "        vertical-align: top;\n",
       "    }\n",
       "\n",
       "    .dataframe thead th {\n",
       "        text-align: right;\n",
       "    }\n",
       "</style>\n",
       "<table border=\"1\" class=\"dataframe\">\n",
       "  <thead>\n",
       "    <tr style=\"text-align: right;\">\n",
       "      <th></th>\n",
       "      <th>user_id</th>\n",
       "      <th>video_id</th>\n",
       "      <th>is_watch</th>\n",
       "      <th>is_share</th>\n",
       "      <th>is_collect</th>\n",
       "      <th>is_comment</th>\n",
       "      <th>watch_start_time</th>\n",
       "      <th>watch_label</th>\n",
       "      <th>pt_d</th>\n",
       "    </tr>\n",
       "  </thead>\n",
       "  <tbody>\n",
       "    <tr>\n",
       "      <th>5582603</th>\n",
       "      <td>1869184</td>\n",
       "      <td>12968</td>\n",
       "      <td>1</td>\n",
       "      <td>0</td>\n",
       "      <td>0</td>\n",
       "      <td>0</td>\n",
       "      <td>2021-04-19</td>\n",
       "      <td>0</td>\n",
       "      <td>20210419</td>\n",
       "    </tr>\n",
       "  </tbody>\n",
       "</table>\n",
       "</div>"
      ],
      "text/plain": [
       "         user_id  video_id  is_watch  is_share  is_collect  is_comment  \\\n",
       "5582603  1869184     12968         1         0           0           0   \n",
       "\n",
       "        watch_start_time  watch_label      pt_d  \n",
       "5582603       2021-04-19            0  20210419  "
      ]
     },
     "execution_count": 34,
     "metadata": {},
     "output_type": "execute_result"
    }
   ],
   "source": [
    "action_data[(action_data['user_id'] == 1869184) & (action_data['video_id'] == 12968)]"
   ]
  },
  {
   "cell_type": "code",
   "execution_count": 35,
   "metadata": {},
   "outputs": [
    {
     "data": {
      "text/html": [
       "<div>\n",
       "<style scoped>\n",
       "    .dataframe tbody tr th:only-of-type {\n",
       "        vertical-align: middle;\n",
       "    }\n",
       "\n",
       "    .dataframe tbody tr th {\n",
       "        vertical-align: top;\n",
       "    }\n",
       "\n",
       "    .dataframe thead th {\n",
       "        text-align: right;\n",
       "    }\n",
       "</style>\n",
       "<table border=\"1\" class=\"dataframe\">\n",
       "  <thead>\n",
       "    <tr style=\"text-align: right;\">\n",
       "      <th></th>\n",
       "      <th>user_id</th>\n",
       "      <th>video_id</th>\n",
       "    </tr>\n",
       "  </thead>\n",
       "  <tbody>\n",
       "    <tr>\n",
       "      <th>951388</th>\n",
       "      <td>1869184</td>\n",
       "      <td>12968</td>\n",
       "    </tr>\n",
       "  </tbody>\n",
       "</table>\n",
       "</div>"
      ],
      "text/plain": [
       "        user_id  video_id\n",
       "951388  1869184     12968"
      ]
     },
     "execution_count": 35,
     "metadata": {},
     "output_type": "execute_result"
    }
   ],
   "source": [
    "test_data[(test_data['user_id'] == 1869184) & (test_data['video_id'] == 12968)]"
   ]
  },
  {
   "cell_type": "code",
   "execution_count": null,
   "metadata": {},
   "outputs": [],
   "source": []
  }
 ],
 "metadata": {
  "kernelspec": {
   "display_name": "Python 3",
   "language": "python",
   "name": "python3"
  },
  "language_info": {
   "codemirror_mode": {
    "name": "ipython",
    "version": 3
   },
   "file_extension": ".py",
   "mimetype": "text/x-python",
   "name": "python",
   "nbconvert_exporter": "python",
   "pygments_lexer": "ipython3",
   "version": "3.7.9"
  }
 },
 "nbformat": 4,
 "nbformat_minor": 4
}
