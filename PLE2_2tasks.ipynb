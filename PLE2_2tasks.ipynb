{
 "cells": [
  {
   "cell_type": "code",
   "execution_count": 1,
   "id": "34d8ad7a-2fb6-45cd-995a-737ac677c50c",
   "metadata": {},
   "outputs": [
    {
     "data": {
      "text/html": [
       "<style type='text/css'>\n",
       ".datatable table.frame { margin-bottom: 0; }\n",
       ".datatable table.frame thead { border-bottom: none; }\n",
       ".datatable table.frame tr.coltypes td {  color: #FFFFFF;  line-height: 6px;  padding: 0 0.5em;}\n",
       ".datatable .bool    { background: #DDDD99; }\n",
       ".datatable .object  { background: #565656; }\n",
       ".datatable .int     { background: #5D9E5D; }\n",
       ".datatable .float   { background: #4040CC; }\n",
       ".datatable .str     { background: #CC4040; }\n",
       ".datatable .row_index {  background: var(--jp-border-color3);  border-right: 1px solid var(--jp-border-color0);  color: var(--jp-ui-font-color3);  font-size: 9px;}\n",
       ".datatable .frame tr.coltypes .row_index {  background: var(--jp-border-color0);}\n",
       ".datatable th:nth-child(2) { padding-left: 12px; }\n",
       ".datatable .hellipsis {  color: var(--jp-cell-editor-border-color);}\n",
       ".datatable .vellipsis {  background: var(--jp-layout-color0);  color: var(--jp-cell-editor-border-color);}\n",
       ".datatable .na {  color: var(--jp-cell-editor-border-color);  font-size: 80%;}\n",
       ".datatable .footer { font-size: 9px; }\n",
       ".datatable .frame_dimensions {  background: var(--jp-border-color3);  border-top: 1px solid var(--jp-border-color0);  color: var(--jp-ui-font-color3);  display: inline-block;  opacity: 0.6;  padding: 1px 10px 1px 5px;}\n",
       "</style>\n"
      ],
      "text/plain": [
       "<IPython.core.display.HTML object>"
      ]
     },
     "metadata": {},
     "output_type": "display_data"
    }
   ],
   "source": [
    "from data_process import *\n",
    "from PLE2 import PLE2\n",
    "import logging,sys"
   ]
  },
  {
   "cell_type": "code",
   "execution_count": 2,
   "id": "ff37c82b-00dd-4c25-bf02-e7fb7ea3b3fb",
   "metadata": {},
   "outputs": [],
   "source": [
    "BATCH_SIZE = 4096\n",
    "device = 'cuda:0' if torch.cuda.is_available() else 'cpu'\n",
    "out_f = './train.txt'\n",
    "logging.basicConfig(filename= out_f , level=logging.INFO, filemode='a',\n",
    "                        format='[%(asctime)s.%(msecs)03d] %(message)s', datefmt='%H:%M:%S')\n",
    "logging.getLogger().addHandler(logging.StreamHandler(sys.stdout))"
   ]
  },
  {
   "cell_type": "code",
   "execution_count": 3,
   "id": "3e0a4ffc-5ef4-4c42-a14a-d6f5c5fbdba6",
   "metadata": {},
   "outputs": [
    {
     "name": "stdout",
     "output_type": "stream",
     "text": [
      "-- Mem. usage decreased to 1928.41 Mb (65.5% reduction),time spend:0.45 min\n"
     ]
    }
   ],
   "source": [
    "# 加载数据\n",
    "dataset, watch_label, share_label = load_train_datas()"
   ]
  },
  {
   "cell_type": "code",
   "execution_count": 4,
   "id": "3135c2a0-9388-4a0b-b8f0-30d99fcf00bd",
   "metadata": {},
   "outputs": [],
   "source": [
    "# 将分类label 变为回归label\n",
    "watch_label_ratio = watch_label / 10"
   ]
  },
  {
   "cell_type": "code",
   "execution_count": 5,
   "id": "3c2a74e8-ab54-45e8-9fc5-b85d8c93ae75",
   "metadata": {},
   "outputs": [],
   "source": [
    "# 划分数据集，得到训练集和验证集\n",
    "train_data, train_label, validation_data, validation_label = split_dataset(dataset, watch_label_ratio, share_label)"
   ]
  },
  {
   "cell_type": "code",
   "execution_count": 6,
   "id": "a015ee64-8b4b-4e86-ad54-93742377ac43",
   "metadata": {},
   "outputs": [],
   "source": [
    "# 归一化数据\n",
    "train_data_QT = QuantileTransformer(output_distribution='uniform').fit_transform(train_data)\n",
    "validation_data_QT = QuantileTransformer(output_distribution='uniform').fit_transform(validation_data)\n",
    "\n",
    "# 拼接两个label\n",
    "train_label_tmp = np.column_stack([train_label[0],train_label[1]])\n",
    "validation_label_tmp = np.column_stack([validation_label[0], validation_label[1]])"
   ]
  },
  {
   "cell_type": "code",
   "execution_count": 70,
   "id": "8d9bb279-8a8b-4a67-91c2-ecc77e02138f",
   "metadata": {
    "tags": []
   },
   "outputs": [],
   "source": [
    "# 训练\n",
    "def train_model(model, batch_size, lr=3e-4, n_epochs=50, patience=15):\n",
    "    # 封装数据为dataloader\n",
    "    train_loader = DataLoader(dataset=getTensorDataset(train_data_QT, train_label_tmp), batch_size=batch_size)\n",
    "    val_loader = DataLoader(dataset=getTensorDataset(validation_data_QT, validation_label_tmp), batch_size=batch_size)    \n",
    "\n",
    "    # Defines loss function and optimizer\n",
    "    loss_wh_fn = nn.MSELoss(reduction='mean')\n",
    "    loss_sh_fn = nn.BCELoss(reduction='mean')\n",
    "    early_stopping = EarlyStopping(patience, verbose=True)\n",
    "    optimizer = optim.Adam(model.parameters(), lr=lr)\n",
    "\n",
    "    losses = []\n",
    "    val_losses = []\n",
    "#     watch_auc = []\n",
    "#     share_auc = []\n",
    "#     sum_auc = []\n",
    "\n",
    "    # model init\n",
    "    def init_weights(m):\n",
    "        if type(m) in [nn.Linear]:\n",
    "            nn.init.normal_(m.weight, std =0.01)\n",
    "    model.apply(init_weights)\n",
    "    \n",
    "    devices = [0, 1]\n",
    "    model = nn.DataParallel(model, device_ids=devices)\n",
    "\n",
    "    # Training loop\n",
    "    for epoch in range(n_epochs):\n",
    "        model.train()\n",
    "\n",
    "        # Uses loader to fetch one mini-batch for training\n",
    "        epoch_loss = []\n",
    "        c = 0\n",
    "        print(\"\\nEpoch: {}/{}\".format(epoch, n_epochs)) \n",
    "        for x_batch, y_batch in train_loader:\n",
    "\n",
    "            # NOW, sends the mini-batch data to the device\n",
    "            # so it matches location of the MODEL\n",
    "            x_batch = x_batch.to(devices[0])\n",
    "            y_batch = y_batch.to(devices[0])\n",
    "            \n",
    "#             print(y_batch)\n",
    "#             print(y_batch.shape)\n",
    "            \n",
    "            # One stpe of training\n",
    "            yhat = model(x_batch.float())\n",
    "#             print(len(yhat))\n",
    "#             print(yhat[0].shape)\n",
    "#             break\n",
    "            \n",
    "\n",
    "            # compute Loss\n",
    "            wh_loss = loss_wh_fn(yhat[0].squeeze(1).float(), y_batch[:, 0].float())\n",
    "            sh_loss = loss_sh_fn(yhat[1].squeeze(1).float(), y_batch[:, 1].float())        \n",
    "            loss = wh_loss + sh_loss\n",
    "\n",
    "            optimizer.zero_grad()\n",
    "            loss.backward()\n",
    "            optimizer.step()\n",
    "\n",
    "            epoch_loss.append(loss.item())\n",
    "            c += 1\n",
    "            if c % 10 == 0:     \n",
    "                mesg = f'[Batch: {c}]' + \\\n",
    "                         f'train_loss: {np.mean(loss.item()):.5f} '\n",
    "                logging.info(mesg)\n",
    "        losses.append(np.mean(epoch_loss))\n",
    "\n",
    "        # After finishing training steps for all mini-batches,\n",
    "        # it is time for evaluation!\n",
    "\n",
    "        # We tell PyTorch to NOT use autograd...\n",
    "        with torch.no_grad():\n",
    "            # Uses loader to fetch one mini-batch for validation\n",
    "            epoch_loss = []\n",
    "            epoch_watch_auc = []\n",
    "            epoch_share_auc = []\n",
    "            epoch_sum_auc = []\n",
    "            for x_val, y_val in val_loader:\n",
    "                # Again, sends data to same device as model\n",
    "                x_val = x_val.to(devices[0])\n",
    "                y_val = y_val.to(devices[0])\n",
    "\n",
    "                model.eval()\n",
    "                # Makes predictions\n",
    "                yhat = model(x_val.float()) # len=11, 一组batch的预测值\n",
    "\n",
    "                # Computes validation loss\n",
    "                wh_loss = loss_wh_fn(yhat[0].squeeze(1).float(), y_val[:, 0].float())\n",
    "                sh_loss = loss_sh_fn(yhat[1].squeeze(1).float(), y_val[:, 1].float())        \n",
    "                loss = wh_loss + sh_loss\n",
    "\n",
    "                epoch_loss.append(loss.item())\n",
    "\n",
    "        val_losses.append(np.mean(epoch_loss))\n",
    "\n",
    "        epoch_len = len(str(n_epochs))\n",
    "        mesg = f'[{epoch:>{epoch_len}}/{n_epochs:>{epoch_len}}] ' + \\\n",
    "                         f'train_loss: {losses[-1]:.5f} ' + \\\n",
    "                         f'valid_loss: {val_losses[-1]:.5f}'\n",
    "        logging.info(mesg)\n",
    "\n",
    "        # ************* Early Stopping ****************\n",
    "        # early_stopping needs the validation loss to check if it has decresed, \n",
    "        # and if it has, it will make a checkpoint of the current model\n",
    "        early_stopping(val_losses[-1], model)\n",
    "        if early_stopping.early_stop:\n",
    "            print(\"Early stopping\")\n",
    "            break\n",
    "\n",
    "    # print(model.state_dict())\n",
    "    print(\"loss: \", np.mean(losses))\n",
    "    print(\"val_loss: \", np.mean(val_losses))\n",
    "    \n",
    "    return losses, val_losses"
   ]
  },
  {
   "cell_type": "code",
   "execution_count": 71,
   "id": "259ead92-d80b-4226-9e8b-e2dcf7a747ac",
   "metadata": {},
   "outputs": [],
   "source": [
    "# 定义模型\n",
    "device = torch.device('cuda:0' if torch.cuda.is_available() else 'cpu')\n",
    "model = PLE2(num_feature=128, num_experts=16, num_tasks=2, units=256, towers_hidden=32, selectors=2)\n",
    "model = model.to(device)"
   ]
  },
  {
   "cell_type": "code",
   "execution_count": 72,
   "id": "78d528de-46cc-402c-ac3a-225c3a3c7bd2",
   "metadata": {
    "collapsed": true,
    "jupyter": {
     "outputs_hidden": true
    },
    "tags": []
   },
   "outputs": [
    {
     "name": "stdout",
     "output_type": "stream",
     "text": [
      "\n",
      "Epoch: 0/50\n",
      "[Batch: 10]train_loss: 0.91773 \n",
      "[Batch: 20]train_loss: 0.91363 \n",
      "[Batch: 30]train_loss: 0.90477 \n",
      "[Batch: 40]train_loss: 0.88065 \n",
      "[Batch: 50]train_loss: 0.82393 \n",
      "[Batch: 60]train_loss: 0.70198 \n",
      "[Batch: 70]train_loss: 0.47363 \n",
      "[Batch: 80]train_loss: 0.26671 \n",
      "[Batch: 90]train_loss: 0.25635 \n",
      "[Batch: 100]train_loss: 0.16114 \n",
      "[Batch: 110]train_loss: 0.08882 \n",
      "[Batch: 120]train_loss: 0.08961 \n",
      "[Batch: 130]train_loss: 0.08208 \n",
      "[Batch: 140]train_loss: 0.09473 \n",
      "[Batch: 150]train_loss: 0.09187 \n",
      "[Batch: 160]train_loss: 0.08589 \n",
      "[Batch: 170]train_loss: 0.08370 \n",
      "[Batch: 180]train_loss: 0.08452 \n",
      "[Batch: 190]train_loss: 0.08529 \n",
      "[Batch: 200]train_loss: 0.08417 \n",
      "[Batch: 210]train_loss: 0.08784 \n",
      "[Batch: 220]train_loss: 0.08804 \n",
      "[Batch: 230]train_loss: 0.08738 \n",
      "[Batch: 240]train_loss: 0.08243 \n",
      "[Batch: 250]train_loss: 0.08496 \n",
      "[Batch: 260]train_loss: 0.07753 \n",
      "[Batch: 270]train_loss: 0.08648 \n",
      "[Batch: 280]train_loss: 0.08017 \n",
      "[Batch: 290]train_loss: 0.09270 \n",
      "[Batch: 300]train_loss: 0.08926 \n",
      "[Batch: 310]train_loss: 0.08678 \n",
      "[ 0/50] train_loss: 0.27306 valid_loss: 0.08174\n",
      "Validation loss decreased (inf --> 0.081745).  Saving model ...\n",
      "\n",
      "Epoch: 1/50\n",
      "[Batch: 10]train_loss: 0.08082 \n",
      "[Batch: 20]train_loss: 0.09115 \n",
      "[Batch: 30]train_loss: 0.08544 \n",
      "[Batch: 40]train_loss: 0.08544 \n",
      "[Batch: 50]train_loss: 0.08552 \n",
      "[Batch: 60]train_loss: 0.08706 \n",
      "[Batch: 70]train_loss: 0.08309 \n",
      "[Batch: 80]train_loss: 0.08761 \n",
      "[Batch: 90]train_loss: 0.09658 \n",
      "[Batch: 100]train_loss: 0.09193 \n",
      "[Batch: 110]train_loss: 0.08258 \n",
      "[Batch: 120]train_loss: 0.08636 \n",
      "[Batch: 130]train_loss: 0.07682 \n",
      "[Batch: 140]train_loss: 0.09208 \n",
      "[Batch: 150]train_loss: 0.09082 \n",
      "[Batch: 160]train_loss: 0.08485 \n",
      "[Batch: 170]train_loss: 0.08314 \n",
      "[Batch: 180]train_loss: 0.08435 \n",
      "[Batch: 190]train_loss: 0.08508 \n",
      "[Batch: 200]train_loss: 0.08454 \n",
      "[Batch: 210]train_loss: 0.08857 \n",
      "[Batch: 220]train_loss: 0.08720 \n",
      "[Batch: 230]train_loss: 0.08690 \n",
      "[Batch: 240]train_loss: 0.08161 \n",
      "[Batch: 250]train_loss: 0.08311 \n",
      "[Batch: 260]train_loss: 0.07800 \n",
      "[Batch: 270]train_loss: 0.08626 \n",
      "[Batch: 280]train_loss: 0.08016 \n",
      "[Batch: 290]train_loss: 0.09245 \n",
      "[Batch: 300]train_loss: 0.08637 \n",
      "[Batch: 310]train_loss: 0.08731 \n",
      "[ 1/50] train_loss: 0.08600 valid_loss: 0.08167\n",
      "Validation loss decreased (0.081745 --> 0.081671).  Saving model ...\n",
      "\n",
      "Epoch: 2/50\n",
      "[Batch: 10]train_loss: 0.07964 \n",
      "[Batch: 20]train_loss: 0.09024 \n",
      "[Batch: 30]train_loss: 0.08480 \n",
      "[Batch: 40]train_loss: 0.08487 \n",
      "[Batch: 50]train_loss: 0.08517 \n",
      "[Batch: 60]train_loss: 0.08666 \n",
      "[Batch: 70]train_loss: 0.08288 \n",
      "[Batch: 80]train_loss: 0.08788 \n",
      "[Batch: 90]train_loss: 0.09372 \n",
      "[Batch: 100]train_loss: 0.09020 \n",
      "[Batch: 110]train_loss: 0.08103 \n",
      "[Batch: 120]train_loss: 0.08377 \n",
      "[Batch: 130]train_loss: 0.07588 \n",
      "[Batch: 140]train_loss: 0.09056 \n",
      "[Batch: 150]train_loss: 0.09037 \n",
      "[Batch: 160]train_loss: 0.08511 \n",
      "[Batch: 170]train_loss: 0.08363 \n",
      "[Batch: 180]train_loss: 0.08248 \n",
      "[Batch: 190]train_loss: 0.08417 \n",
      "[Batch: 200]train_loss: 0.08384 \n",
      "[Batch: 210]train_loss: 0.08701 \n",
      "[Batch: 220]train_loss: 0.08730 \n",
      "[Batch: 230]train_loss: 0.08702 \n",
      "[Batch: 240]train_loss: 0.08056 \n",
      "[Batch: 250]train_loss: 0.08217 \n",
      "[Batch: 260]train_loss: 0.07753 \n",
      "[Batch: 270]train_loss: 0.08651 \n",
      "[Batch: 280]train_loss: 0.08157 \n",
      "[Batch: 290]train_loss: 0.09179 \n",
      "[Batch: 300]train_loss: 0.08636 \n",
      "[Batch: 310]train_loss: 0.08619 \n",
      "[ 2/50] train_loss: 0.08554 valid_loss: 0.08162\n",
      "Validation loss decreased (0.081671 --> 0.081617).  Saving model ...\n",
      "\n",
      "Epoch: 3/50\n",
      "[Batch: 10]train_loss: 0.08076 \n",
      "[Batch: 20]train_loss: 0.08926 \n",
      "[Batch: 30]train_loss: 0.08553 \n",
      "[Batch: 40]train_loss: 0.08442 \n",
      "[Batch: 50]train_loss: 0.08503 \n",
      "[Batch: 60]train_loss: 0.08642 \n",
      "[Batch: 70]train_loss: 0.08310 \n",
      "[Batch: 80]train_loss: 0.08790 \n",
      "[Batch: 90]train_loss: 0.09223 \n",
      "[Batch: 100]train_loss: 0.08989 \n",
      "[Batch: 110]train_loss: 0.07984 \n",
      "[Batch: 120]train_loss: 0.08297 \n",
      "[Batch: 130]train_loss: 0.07602 \n",
      "[Batch: 140]train_loss: 0.09055 \n",
      "[Batch: 150]train_loss: 0.09056 \n",
      "[Batch: 160]train_loss: 0.08461 \n",
      "[Batch: 170]train_loss: 0.08246 \n",
      "[Batch: 180]train_loss: 0.08322 \n",
      "[Batch: 190]train_loss: 0.08548 \n",
      "[Batch: 200]train_loss: 0.08400 \n",
      "[Batch: 210]train_loss: 0.08775 \n",
      "[Batch: 220]train_loss: 0.08754 \n",
      "[Batch: 230]train_loss: 0.08745 \n",
      "[Batch: 240]train_loss: 0.08074 \n",
      "[Batch: 250]train_loss: 0.08265 \n",
      "[Batch: 260]train_loss: 0.07808 \n",
      "[Batch: 270]train_loss: 0.08495 \n",
      "[Batch: 280]train_loss: 0.08080 \n",
      "[Batch: 290]train_loss: 0.09150 \n",
      "[Batch: 300]train_loss: 0.08626 \n",
      "[Batch: 310]train_loss: 0.08578 \n",
      "[ 3/50] train_loss: 0.08525 valid_loss: 0.08158\n",
      "Validation loss decreased (0.081617 --> 0.081579).  Saving model ...\n",
      "\n",
      "Epoch: 4/50\n",
      "[Batch: 10]train_loss: 0.07966 \n",
      "[Batch: 20]train_loss: 0.08925 \n",
      "[Batch: 30]train_loss: 0.08574 \n",
      "[Batch: 40]train_loss: 0.08589 \n",
      "[Batch: 50]train_loss: 0.08540 \n",
      "[Batch: 60]train_loss: 0.08533 \n",
      "[Batch: 70]train_loss: 0.08351 \n",
      "[Batch: 80]train_loss: 0.08789 \n",
      "[Batch: 90]train_loss: 0.09021 \n",
      "[Batch: 100]train_loss: 0.08943 \n",
      "[Batch: 110]train_loss: 0.07916 \n",
      "[Batch: 120]train_loss: 0.08330 \n",
      "[Batch: 130]train_loss: 0.07746 \n",
      "[Batch: 140]train_loss: 0.08964 \n",
      "[Batch: 150]train_loss: 0.08923 \n",
      "[Batch: 160]train_loss: 0.08434 \n",
      "[Batch: 170]train_loss: 0.08200 \n",
      "[Batch: 180]train_loss: 0.08416 \n",
      "[Batch: 190]train_loss: 0.08539 \n",
      "[Batch: 200]train_loss: 0.08441 \n",
      "[Batch: 210]train_loss: 0.08805 \n",
      "[Batch: 220]train_loss: 0.08697 \n",
      "[Batch: 230]train_loss: 0.08638 \n",
      "[Batch: 240]train_loss: 0.08051 \n",
      "[Batch: 250]train_loss: 0.08228 \n",
      "[Batch: 260]train_loss: 0.07740 \n",
      "[Batch: 270]train_loss: 0.08551 \n",
      "[Batch: 280]train_loss: 0.08011 \n",
      "[Batch: 290]train_loss: 0.09210 \n",
      "[Batch: 300]train_loss: 0.08740 \n",
      "[Batch: 310]train_loss: 0.08626 \n",
      "[ 4/50] train_loss: 0.08511 valid_loss: 0.08154\n",
      "Validation loss decreased (0.081579 --> 0.081543).  Saving model ...\n",
      "\n",
      "Epoch: 5/50\n",
      "[Batch: 10]train_loss: 0.08108 \n"
     ]
    },
    {
     "ename": "KeyboardInterrupt",
     "evalue": "",
     "output_type": "error",
     "traceback": [
      "\u001b[0;31m---------------------------------------------------------------------------\u001b[0m",
      "\u001b[0;31mKeyboardInterrupt\u001b[0m                         Traceback (most recent call last)",
      "\u001b[0;32m<ipython-input-72-290074b14906>\u001b[0m in \u001b[0;36m<module>\u001b[0;34m\u001b[0m\n\u001b[1;32m      4\u001b[0m \u001b[0mpatience\u001b[0m \u001b[0;34m=\u001b[0m \u001b[0;36m10\u001b[0m\u001b[0;34m\u001b[0m\u001b[0;34m\u001b[0m\u001b[0m\n\u001b[1;32m      5\u001b[0m \u001b[0mBATCH_SIZE\u001b[0m \u001b[0;34m=\u001b[0m \u001b[0;36m10000\u001b[0m \u001b[0;34m*\u001b[0m \u001b[0;36m2\u001b[0m\u001b[0;34m\u001b[0m\u001b[0;34m\u001b[0m\u001b[0m\n\u001b[0;32m----> 6\u001b[0;31m \u001b[0mlosses\u001b[0m\u001b[0;34m,\u001b[0m \u001b[0mval_losses\u001b[0m \u001b[0;34m=\u001b[0m \u001b[0mtrain_model\u001b[0m\u001b[0;34m(\u001b[0m\u001b[0mmodel\u001b[0m\u001b[0;34m,\u001b[0m \u001b[0mbatch_size\u001b[0m\u001b[0;34m=\u001b[0m\u001b[0mBATCH_SIZE\u001b[0m\u001b[0;34m,\u001b[0m \u001b[0mlr\u001b[0m\u001b[0;34m=\u001b[0m\u001b[0mlr\u001b[0m\u001b[0;34m,\u001b[0m \u001b[0mpatience\u001b[0m\u001b[0;34m=\u001b[0m\u001b[0mpatience\u001b[0m\u001b[0;34m)\u001b[0m\u001b[0;34m\u001b[0m\u001b[0;34m\u001b[0m\u001b[0m\n\u001b[0m",
      "\u001b[0;32m<ipython-input-70-52a9c71f5ecb>\u001b[0m in \u001b[0;36mtrain_model\u001b[0;34m(model, batch_size, lr, n_epochs, patience)\u001b[0m\n\u001b[1;32m     45\u001b[0m \u001b[0;34m\u001b[0m\u001b[0m\n\u001b[1;32m     46\u001b[0m             \u001b[0;31m# One stpe of training\u001b[0m\u001b[0;34m\u001b[0m\u001b[0;34m\u001b[0m\u001b[0;34m\u001b[0m\u001b[0m\n\u001b[0;32m---> 47\u001b[0;31m             \u001b[0myhat\u001b[0m \u001b[0;34m=\u001b[0m \u001b[0mmodel\u001b[0m\u001b[0;34m(\u001b[0m\u001b[0mx_batch\u001b[0m\u001b[0;34m.\u001b[0m\u001b[0mfloat\u001b[0m\u001b[0;34m(\u001b[0m\u001b[0;34m)\u001b[0m\u001b[0;34m)\u001b[0m\u001b[0;34m\u001b[0m\u001b[0;34m\u001b[0m\u001b[0m\n\u001b[0m\u001b[1;32m     48\u001b[0m \u001b[0;31m#             print(len(yhat))\u001b[0m\u001b[0;34m\u001b[0m\u001b[0;34m\u001b[0m\u001b[0;34m\u001b[0m\u001b[0m\n\u001b[1;32m     49\u001b[0m \u001b[0;31m#             print(yhat[0].shape)\u001b[0m\u001b[0;34m\u001b[0m\u001b[0;34m\u001b[0m\u001b[0;34m\u001b[0m\u001b[0m\n",
      "\u001b[0;32m/home/anaconda/envs/digix/lib/python3.6/site-packages/torch/nn/modules/module.py\u001b[0m in \u001b[0;36m_call_impl\u001b[0;34m(self, *input, **kwargs)\u001b[0m\n\u001b[1;32m   1049\u001b[0m         if not (self._backward_hooks or self._forward_hooks or self._forward_pre_hooks or _global_backward_hooks\n\u001b[1;32m   1050\u001b[0m                 or _global_forward_hooks or _global_forward_pre_hooks):\n\u001b[0;32m-> 1051\u001b[0;31m             \u001b[0;32mreturn\u001b[0m \u001b[0mforward_call\u001b[0m\u001b[0;34m(\u001b[0m\u001b[0;34m*\u001b[0m\u001b[0minput\u001b[0m\u001b[0;34m,\u001b[0m \u001b[0;34m**\u001b[0m\u001b[0mkwargs\u001b[0m\u001b[0;34m)\u001b[0m\u001b[0;34m\u001b[0m\u001b[0;34m\u001b[0m\u001b[0m\n\u001b[0m\u001b[1;32m   1052\u001b[0m         \u001b[0;31m# Do not call functions when jit is used\u001b[0m\u001b[0;34m\u001b[0m\u001b[0;34m\u001b[0m\u001b[0;34m\u001b[0m\u001b[0m\n\u001b[1;32m   1053\u001b[0m         \u001b[0mfull_backward_hooks\u001b[0m\u001b[0;34m,\u001b[0m \u001b[0mnon_full_backward_hooks\u001b[0m \u001b[0;34m=\u001b[0m \u001b[0;34m[\u001b[0m\u001b[0;34m]\u001b[0m\u001b[0;34m,\u001b[0m \u001b[0;34m[\u001b[0m\u001b[0;34m]\u001b[0m\u001b[0;34m\u001b[0m\u001b[0;34m\u001b[0m\u001b[0m\n",
      "\u001b[0;32m/home/anaconda/envs/digix/lib/python3.6/site-packages/torch/nn/parallel/data_parallel.py\u001b[0m in \u001b[0;36mforward\u001b[0;34m(self, *inputs, **kwargs)\u001b[0m\n\u001b[1;32m    150\u001b[0m                 \u001b[0;32mreturn\u001b[0m \u001b[0mself\u001b[0m\u001b[0;34m.\u001b[0m\u001b[0mmodule\u001b[0m\u001b[0;34m(\u001b[0m\u001b[0;34m*\u001b[0m\u001b[0minputs\u001b[0m\u001b[0;34m,\u001b[0m \u001b[0;34m**\u001b[0m\u001b[0mkwargs\u001b[0m\u001b[0;34m)\u001b[0m\u001b[0;34m\u001b[0m\u001b[0;34m\u001b[0m\u001b[0m\n\u001b[1;32m    151\u001b[0m \u001b[0;34m\u001b[0m\u001b[0m\n\u001b[0;32m--> 152\u001b[0;31m             \u001b[0;32mfor\u001b[0m \u001b[0mt\u001b[0m \u001b[0;32min\u001b[0m \u001b[0mchain\u001b[0m\u001b[0;34m(\u001b[0m\u001b[0mself\u001b[0m\u001b[0;34m.\u001b[0m\u001b[0mmodule\u001b[0m\u001b[0;34m.\u001b[0m\u001b[0mparameters\u001b[0m\u001b[0;34m(\u001b[0m\u001b[0;34m)\u001b[0m\u001b[0;34m,\u001b[0m \u001b[0mself\u001b[0m\u001b[0;34m.\u001b[0m\u001b[0mmodule\u001b[0m\u001b[0;34m.\u001b[0m\u001b[0mbuffers\u001b[0m\u001b[0;34m(\u001b[0m\u001b[0;34m)\u001b[0m\u001b[0;34m)\u001b[0m\u001b[0;34m:\u001b[0m\u001b[0;34m\u001b[0m\u001b[0;34m\u001b[0m\u001b[0m\n\u001b[0m\u001b[1;32m    153\u001b[0m                 \u001b[0;32mif\u001b[0m \u001b[0mt\u001b[0m\u001b[0;34m.\u001b[0m\u001b[0mdevice\u001b[0m \u001b[0;34m!=\u001b[0m \u001b[0mself\u001b[0m\u001b[0;34m.\u001b[0m\u001b[0msrc_device_obj\u001b[0m\u001b[0;34m:\u001b[0m\u001b[0;34m\u001b[0m\u001b[0;34m\u001b[0m\u001b[0m\n\u001b[1;32m    154\u001b[0m                     raise RuntimeError(\"module must have its parameters and buffers \"\n",
      "\u001b[0;32m/home/anaconda/envs/digix/lib/python3.6/site-packages/torch/nn/modules/module.py\u001b[0m in \u001b[0;36mbuffers\u001b[0;34m(self, recurse)\u001b[0m\n\u001b[1;32m   1490\u001b[0m \u001b[0;34m\u001b[0m\u001b[0m\n\u001b[1;32m   1491\u001b[0m         \"\"\"\n\u001b[0;32m-> 1492\u001b[0;31m         \u001b[0;32mfor\u001b[0m \u001b[0m_\u001b[0m\u001b[0;34m,\u001b[0m \u001b[0mbuf\u001b[0m \u001b[0;32min\u001b[0m \u001b[0mself\u001b[0m\u001b[0;34m.\u001b[0m\u001b[0mnamed_buffers\u001b[0m\u001b[0;34m(\u001b[0m\u001b[0mrecurse\u001b[0m\u001b[0;34m=\u001b[0m\u001b[0mrecurse\u001b[0m\u001b[0;34m)\u001b[0m\u001b[0;34m:\u001b[0m\u001b[0;34m\u001b[0m\u001b[0;34m\u001b[0m\u001b[0m\n\u001b[0m\u001b[1;32m   1493\u001b[0m             \u001b[0;32myield\u001b[0m \u001b[0mbuf\u001b[0m\u001b[0;34m\u001b[0m\u001b[0;34m\u001b[0m\u001b[0m\n\u001b[1;32m   1494\u001b[0m \u001b[0;34m\u001b[0m\u001b[0m\n",
      "\u001b[0;32m/home/anaconda/envs/digix/lib/python3.6/site-packages/torch/nn/modules/module.py\u001b[0m in \u001b[0;36mnamed_buffers\u001b[0;34m(self, prefix, recurse)\u001b[0m\n\u001b[1;32m   1516\u001b[0m             \u001b[0;32mlambda\u001b[0m \u001b[0mmodule\u001b[0m\u001b[0;34m:\u001b[0m \u001b[0mmodule\u001b[0m\u001b[0;34m.\u001b[0m\u001b[0m_buffers\u001b[0m\u001b[0;34m.\u001b[0m\u001b[0mitems\u001b[0m\u001b[0;34m(\u001b[0m\u001b[0;34m)\u001b[0m\u001b[0;34m,\u001b[0m\u001b[0;34m\u001b[0m\u001b[0;34m\u001b[0m\u001b[0m\n\u001b[1;32m   1517\u001b[0m             prefix=prefix, recurse=recurse)\n\u001b[0;32m-> 1518\u001b[0;31m         \u001b[0;32mfor\u001b[0m \u001b[0melem\u001b[0m \u001b[0;32min\u001b[0m \u001b[0mgen\u001b[0m\u001b[0;34m:\u001b[0m\u001b[0;34m\u001b[0m\u001b[0;34m\u001b[0m\u001b[0m\n\u001b[0m\u001b[1;32m   1519\u001b[0m             \u001b[0;32myield\u001b[0m \u001b[0melem\u001b[0m\u001b[0;34m\u001b[0m\u001b[0;34m\u001b[0m\u001b[0m\n\u001b[1;32m   1520\u001b[0m \u001b[0;34m\u001b[0m\u001b[0m\n",
      "\u001b[0;32m/home/anaconda/envs/digix/lib/python3.6/site-packages/torch/nn/modules/module.py\u001b[0m in \u001b[0;36m_named_members\u001b[0;34m(self, get_members_fn, prefix, recurse)\u001b[0m\n\u001b[1;32m   1412\u001b[0m         \u001b[0mmemo\u001b[0m \u001b[0;34m=\u001b[0m \u001b[0mset\u001b[0m\u001b[0;34m(\u001b[0m\u001b[0;34m)\u001b[0m\u001b[0;34m\u001b[0m\u001b[0;34m\u001b[0m\u001b[0m\n\u001b[1;32m   1413\u001b[0m         \u001b[0mmodules\u001b[0m \u001b[0;34m=\u001b[0m \u001b[0mself\u001b[0m\u001b[0;34m.\u001b[0m\u001b[0mnamed_modules\u001b[0m\u001b[0;34m(\u001b[0m\u001b[0mprefix\u001b[0m\u001b[0;34m=\u001b[0m\u001b[0mprefix\u001b[0m\u001b[0;34m)\u001b[0m \u001b[0;32mif\u001b[0m \u001b[0mrecurse\u001b[0m \u001b[0;32melse\u001b[0m \u001b[0;34m[\u001b[0m\u001b[0;34m(\u001b[0m\u001b[0mprefix\u001b[0m\u001b[0;34m,\u001b[0m \u001b[0mself\u001b[0m\u001b[0;34m)\u001b[0m\u001b[0;34m]\u001b[0m\u001b[0;34m\u001b[0m\u001b[0;34m\u001b[0m\u001b[0m\n\u001b[0;32m-> 1414\u001b[0;31m         \u001b[0;32mfor\u001b[0m \u001b[0mmodule_prefix\u001b[0m\u001b[0;34m,\u001b[0m \u001b[0mmodule\u001b[0m \u001b[0;32min\u001b[0m \u001b[0mmodules\u001b[0m\u001b[0;34m:\u001b[0m\u001b[0;34m\u001b[0m\u001b[0;34m\u001b[0m\u001b[0m\n\u001b[0m\u001b[1;32m   1415\u001b[0m             \u001b[0mmembers\u001b[0m \u001b[0;34m=\u001b[0m \u001b[0mget_members_fn\u001b[0m\u001b[0;34m(\u001b[0m\u001b[0mmodule\u001b[0m\u001b[0;34m)\u001b[0m\u001b[0;34m\u001b[0m\u001b[0;34m\u001b[0m\u001b[0m\n\u001b[1;32m   1416\u001b[0m             \u001b[0;32mfor\u001b[0m \u001b[0mk\u001b[0m\u001b[0;34m,\u001b[0m \u001b[0mv\u001b[0m \u001b[0;32min\u001b[0m \u001b[0mmembers\u001b[0m\u001b[0;34m:\u001b[0m\u001b[0;34m\u001b[0m\u001b[0;34m\u001b[0m\u001b[0m\n",
      "\u001b[0;32m/home/anaconda/envs/digix/lib/python3.6/site-packages/torch/nn/modules/module.py\u001b[0m in \u001b[0;36mnamed_modules\u001b[0;34m(self, memo, prefix, remove_duplicate)\u001b[0m\n\u001b[1;32m   1617\u001b[0m                     \u001b[0;32mcontinue\u001b[0m\u001b[0;34m\u001b[0m\u001b[0;34m\u001b[0m\u001b[0m\n\u001b[1;32m   1618\u001b[0m                 \u001b[0msubmodule_prefix\u001b[0m \u001b[0;34m=\u001b[0m \u001b[0mprefix\u001b[0m \u001b[0;34m+\u001b[0m \u001b[0;34m(\u001b[0m\u001b[0;34m'.'\u001b[0m \u001b[0;32mif\u001b[0m \u001b[0mprefix\u001b[0m \u001b[0;32melse\u001b[0m \u001b[0;34m''\u001b[0m\u001b[0;34m)\u001b[0m \u001b[0;34m+\u001b[0m \u001b[0mname\u001b[0m\u001b[0;34m\u001b[0m\u001b[0;34m\u001b[0m\u001b[0m\n\u001b[0;32m-> 1619\u001b[0;31m                 \u001b[0;32mfor\u001b[0m \u001b[0mm\u001b[0m \u001b[0;32min\u001b[0m \u001b[0mmodule\u001b[0m\u001b[0;34m.\u001b[0m\u001b[0mnamed_modules\u001b[0m\u001b[0;34m(\u001b[0m\u001b[0mmemo\u001b[0m\u001b[0;34m,\u001b[0m \u001b[0msubmodule_prefix\u001b[0m\u001b[0;34m,\u001b[0m \u001b[0mremove_duplicate\u001b[0m\u001b[0;34m)\u001b[0m\u001b[0;34m:\u001b[0m\u001b[0;34m\u001b[0m\u001b[0;34m\u001b[0m\u001b[0m\n\u001b[0m\u001b[1;32m   1620\u001b[0m                     \u001b[0;32myield\u001b[0m \u001b[0mm\u001b[0m\u001b[0;34m\u001b[0m\u001b[0;34m\u001b[0m\u001b[0m\n\u001b[1;32m   1621\u001b[0m \u001b[0;34m\u001b[0m\u001b[0m\n",
      "\u001b[0;32m/home/anaconda/envs/digix/lib/python3.6/site-packages/torch/nn/modules/module.py\u001b[0m in \u001b[0;36mnamed_modules\u001b[0;34m(self, memo, prefix, remove_duplicate)\u001b[0m\n\u001b[1;32m   1617\u001b[0m                     \u001b[0;32mcontinue\u001b[0m\u001b[0;34m\u001b[0m\u001b[0;34m\u001b[0m\u001b[0m\n\u001b[1;32m   1618\u001b[0m                 \u001b[0msubmodule_prefix\u001b[0m \u001b[0;34m=\u001b[0m \u001b[0mprefix\u001b[0m \u001b[0;34m+\u001b[0m \u001b[0;34m(\u001b[0m\u001b[0;34m'.'\u001b[0m \u001b[0;32mif\u001b[0m \u001b[0mprefix\u001b[0m \u001b[0;32melse\u001b[0m \u001b[0;34m''\u001b[0m\u001b[0;34m)\u001b[0m \u001b[0;34m+\u001b[0m \u001b[0mname\u001b[0m\u001b[0;34m\u001b[0m\u001b[0;34m\u001b[0m\u001b[0m\n\u001b[0;32m-> 1619\u001b[0;31m                 \u001b[0;32mfor\u001b[0m \u001b[0mm\u001b[0m \u001b[0;32min\u001b[0m \u001b[0mmodule\u001b[0m\u001b[0;34m.\u001b[0m\u001b[0mnamed_modules\u001b[0m\u001b[0;34m(\u001b[0m\u001b[0mmemo\u001b[0m\u001b[0;34m,\u001b[0m \u001b[0msubmodule_prefix\u001b[0m\u001b[0;34m,\u001b[0m \u001b[0mremove_duplicate\u001b[0m\u001b[0;34m)\u001b[0m\u001b[0;34m:\u001b[0m\u001b[0;34m\u001b[0m\u001b[0;34m\u001b[0m\u001b[0m\n\u001b[0m\u001b[1;32m   1620\u001b[0m                     \u001b[0;32myield\u001b[0m \u001b[0mm\u001b[0m\u001b[0;34m\u001b[0m\u001b[0;34m\u001b[0m\u001b[0m\n\u001b[1;32m   1621\u001b[0m \u001b[0;34m\u001b[0m\u001b[0m\n",
      "\u001b[0;32m/home/anaconda/envs/digix/lib/python3.6/site-packages/torch/nn/modules/module.py\u001b[0m in \u001b[0;36mnamed_modules\u001b[0;34m(self, memo, prefix, remove_duplicate)\u001b[0m\n\u001b[1;32m   1617\u001b[0m                     \u001b[0;32mcontinue\u001b[0m\u001b[0;34m\u001b[0m\u001b[0;34m\u001b[0m\u001b[0m\n\u001b[1;32m   1618\u001b[0m                 \u001b[0msubmodule_prefix\u001b[0m \u001b[0;34m=\u001b[0m \u001b[0mprefix\u001b[0m \u001b[0;34m+\u001b[0m \u001b[0;34m(\u001b[0m\u001b[0;34m'.'\u001b[0m \u001b[0;32mif\u001b[0m \u001b[0mprefix\u001b[0m \u001b[0;32melse\u001b[0m \u001b[0;34m''\u001b[0m\u001b[0;34m)\u001b[0m \u001b[0;34m+\u001b[0m \u001b[0mname\u001b[0m\u001b[0;34m\u001b[0m\u001b[0;34m\u001b[0m\u001b[0m\n\u001b[0;32m-> 1619\u001b[0;31m                 \u001b[0;32mfor\u001b[0m \u001b[0mm\u001b[0m \u001b[0;32min\u001b[0m \u001b[0mmodule\u001b[0m\u001b[0;34m.\u001b[0m\u001b[0mnamed_modules\u001b[0m\u001b[0;34m(\u001b[0m\u001b[0mmemo\u001b[0m\u001b[0;34m,\u001b[0m \u001b[0msubmodule_prefix\u001b[0m\u001b[0;34m,\u001b[0m \u001b[0mremove_duplicate\u001b[0m\u001b[0;34m)\u001b[0m\u001b[0;34m:\u001b[0m\u001b[0;34m\u001b[0m\u001b[0;34m\u001b[0m\u001b[0m\n\u001b[0m\u001b[1;32m   1620\u001b[0m                     \u001b[0;32myield\u001b[0m \u001b[0mm\u001b[0m\u001b[0;34m\u001b[0m\u001b[0;34m\u001b[0m\u001b[0m\n\u001b[1;32m   1621\u001b[0m \u001b[0;34m\u001b[0m\u001b[0m\n",
      "\u001b[0;32m/home/anaconda/envs/digix/lib/python3.6/site-packages/torch/nn/modules/module.py\u001b[0m in \u001b[0;36mnamed_modules\u001b[0;34m(self, memo, prefix, remove_duplicate)\u001b[0m\n\u001b[1;32m   1617\u001b[0m                     \u001b[0;32mcontinue\u001b[0m\u001b[0;34m\u001b[0m\u001b[0;34m\u001b[0m\u001b[0m\n\u001b[1;32m   1618\u001b[0m                 \u001b[0msubmodule_prefix\u001b[0m \u001b[0;34m=\u001b[0m \u001b[0mprefix\u001b[0m \u001b[0;34m+\u001b[0m \u001b[0;34m(\u001b[0m\u001b[0;34m'.'\u001b[0m \u001b[0;32mif\u001b[0m \u001b[0mprefix\u001b[0m \u001b[0;32melse\u001b[0m \u001b[0;34m''\u001b[0m\u001b[0;34m)\u001b[0m \u001b[0;34m+\u001b[0m \u001b[0mname\u001b[0m\u001b[0;34m\u001b[0m\u001b[0;34m\u001b[0m\u001b[0m\n\u001b[0;32m-> 1619\u001b[0;31m                 \u001b[0;32mfor\u001b[0m \u001b[0mm\u001b[0m \u001b[0;32min\u001b[0m \u001b[0mmodule\u001b[0m\u001b[0;34m.\u001b[0m\u001b[0mnamed_modules\u001b[0m\u001b[0;34m(\u001b[0m\u001b[0mmemo\u001b[0m\u001b[0;34m,\u001b[0m \u001b[0msubmodule_prefix\u001b[0m\u001b[0;34m,\u001b[0m \u001b[0mremove_duplicate\u001b[0m\u001b[0;34m)\u001b[0m\u001b[0;34m:\u001b[0m\u001b[0;34m\u001b[0m\u001b[0;34m\u001b[0m\u001b[0m\n\u001b[0m\u001b[1;32m   1620\u001b[0m                     \u001b[0;32myield\u001b[0m \u001b[0mm\u001b[0m\u001b[0;34m\u001b[0m\u001b[0;34m\u001b[0m\u001b[0m\n\u001b[1;32m   1621\u001b[0m \u001b[0;34m\u001b[0m\u001b[0m\n",
      "\u001b[0;31mKeyboardInterrupt\u001b[0m: "
     ]
    }
   ],
   "source": [
    "# Sets hyper-parameters\n",
    "lr = 1e-4 * 1.5\n",
    "n_epochs = 50\n",
    "patience = 10\n",
    "BATCH_SIZE = 4096 * 2\n",
    "losses, val_losses = train_model(model, batch_size=BATCH_SIZE, lr=lr, patience=patience)"
   ]
  },
  {
   "cell_type": "code",
   "execution_count": 52,
   "id": "c4a8d235-cc47-457f-bb5a-3a3dcedf23eb",
   "metadata": {},
   "outputs": [
    {
     "data": {
      "image/png": "[encoded data removed]",
      "text/plain": [
       "<Figure size 432x288 with 1 Axes>"
      ]
     },
     "metadata": {
      "needs_background": "light"
     },
     "output_type": "display_data"
    }
   ],
   "source": [
    "epochs = range(1, len(losses)+1)\n",
    "plt.plot(epochs, losses, 'g', label='Training loss')\n",
    "plt.plot(epochs, val_losses, 'b', label='validation loss')\n",
    "plt.title('Training and Validation loss')\n",
    "plt.xlabel('Epochs')\n",
    "plt.ylabel('Loss')\n",
    "plt.legend()\n",
    "plt.show()"
   ]
  },
  {
   "cell_type": "code",
   "execution_count": 53,
   "id": "28f4c6e0-5d34-48d6-a333-2ba2ebe53597",
   "metadata": {},
   "outputs": [
    {
     "name": "stdout",
     "output_type": "stream",
     "text": [
      "-- Mem. usage decreased to 820.89 Mb (65.7% reduction),time spend:0.20 min\n"
     ]
    }
   ],
   "source": [
    "test_data = load_test_datas()"
   ]
  },
  {
   "cell_type": "code",
   "execution_count": 54,
   "id": "6238329a-a940-4fd4-872a-49942d1d6fda",
   "metadata": {},
   "outputs": [],
   "source": [
    "# 将测试数据组织为 DaTaloader\n",
    "test_loader = DataLoader(dataset=torch.utils.data.TensorDataset(torch.tensor(test_data.astype(float).to_numpy())), batch_size=4096*2)"
   ]
  },
  {
   "cell_type": "code",
   "execution_count": 55,
   "id": "f2aea087-54f8-449d-b334-d0cdfa55441f",
   "metadata": {},
   "outputs": [],
   "source": [
    "def predict():\n",
    "    # 预测\n",
    "    watch_pred = []\n",
    "    share_pred = []\n",
    "    with torch.no_grad():\n",
    "        # Uses loader to fetch one mini-batch for testing\n",
    "        for x_test in test_loader:\n",
    "            # Again, sends data to same device as model\n",
    "            x_test = x_test[0]\n",
    "            x_test = x_test.to(device)\n",
    "\n",
    "            model.eval()\n",
    "            # Makes predictions\n",
    "            yhat = model(x_test.float())\n",
    "#             print(yhat)\n",
    "# #             print(yhat[0].shape)\n",
    "#             break\n",
    "#             print(yhat)\n",
    "            yhat_watch = yhat[0]\n",
    "#             print(yhat_watch.shape)\n",
    "            yhat_share = yhat[1]\n",
    "#             print(yhat_share.shape)\n",
    "            \n",
    "            \n",
    "            # save\n",
    "            watch_pred.append(yhat_watch)\n",
    "            share_pred.append(yhat_share)\n",
    "    return watch_pred, share_pred"
   ]
  },
  {
   "cell_type": "code",
   "execution_count": 56,
   "id": "f7cc4d72-57b9-4737-aa49-e523bf7b72f6",
   "metadata": {
    "tags": []
   },
   "outputs": [],
   "source": [
    "wh_pred, sh_pred = predict()"
   ]
  },
  {
   "cell_type": "code",
   "execution_count": 57,
   "id": "7bd44fb6-c625-4795-9b71-b7caa91b3f4e",
   "metadata": {
    "tags": []
   },
   "outputs": [],
   "source": [
    "wh_preds = torch.cat(wh_pred, axis = 0)"
   ]
  },
  {
   "cell_type": "code",
   "execution_count": 58,
   "id": "2665a29c-9e20-4b78-9e52-87c27d1c14eb",
   "metadata": {},
   "outputs": [
    {
     "data": {
      "text/plain": [
       "torch.Size([2822180, 1])"
      ]
     },
     "execution_count": 58,
     "metadata": {},
     "output_type": "execute_result"
    }
   ],
   "source": [
    "wh_preds.shape"
   ]
  },
  {
   "cell_type": "code",
   "execution_count": 59,
   "id": "479a3e6d-d08f-4ee8-9a6a-e3b39fba32d3",
   "metadata": {},
   "outputs": [],
   "source": [
    "res = np.rint(wh_preds.squeeze(1).cpu().numpy() * 10)"
   ]
  },
  {
   "cell_type": "code",
   "execution_count": 60,
   "id": "e6f03530-b241-4396-88a3-b1e6da600f73",
   "metadata": {
    "tags": []
   },
   "outputs": [
    {
     "data": {
      "text/plain": [
       "Counter({0.0: 2710859, 3.0: 86139, 2.0: 9027, 1.0: 16155})"
      ]
     },
     "execution_count": 60,
     "metadata": {},
     "output_type": "execute_result"
    }
   ],
   "source": [
    "Counter(res)"
   ]
  },
  {
   "cell_type": "code",
   "execution_count": 56,
   "id": "e2e90f8c-dffd-4622-94d5-b311f641f353",
   "metadata": {},
   "outputs": [],
   "source": [
    "sh_preds = torch.cat(sh_pred, axis = 0)"
   ]
  },
  {
   "cell_type": "code",
   "execution_count": 57,
   "id": "25a1860e-966b-4959-b6a5-e4170562f436",
   "metadata": {},
   "outputs": [
    {
     "data": {
      "text/plain": [
       "torch.Size([2822180, 1])"
      ]
     },
     "execution_count": 57,
     "metadata": {},
     "output_type": "execute_result"
    }
   ],
   "source": [
    "sh_preds.shape"
   ]
  },
  {
   "cell_type": "code",
   "execution_count": 58,
   "id": "76ed830c-c6a4-4f9b-97bd-1af7df0d900e",
   "metadata": {},
   "outputs": [],
   "source": [
    "sh_preds = sh_preds.cpu().squeeze(1).numpy()"
   ]
  },
  {
   "cell_type": "code",
   "execution_count": 60,
   "id": "dd12f4cb-c4b3-430f-854b-3ce6c883e402",
   "metadata": {},
   "outputs": [
    {
     "data": {
      "text/plain": [
       "Counter({0.0: 2822180})"
      ]
     },
     "execution_count": 60,
     "metadata": {},
     "output_type": "execute_result"
    }
   ],
   "source": [
    "Counter(np.rint(sh_preds))"
   ]
  }
 ],
 "metadata": {
  "kernelspec": {
   "display_name": "Python 3",
   "language": "python",
   "name": "python3"
  },
  "language_info": {
   "codemirror_mode": {
    "name": "ipython",
    "version": 3
   },
   "file_extension": ".py",
   "mimetype": "text/x-python",
   "name": "python",
   "nbconvert_exporter": "python",
   "pygments_lexer": "ipython3",
   "version": "3.6.10"
  }
 },
 "nbformat": 4,
 "nbformat_minor": 5
}
