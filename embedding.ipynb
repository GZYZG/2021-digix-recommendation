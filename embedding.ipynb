{
 "cells": [
  {
   "cell_type": "code",
   "execution_count": 84,
   "metadata": {},
   "outputs": [],
   "source": [
    "import os\n",
    "from time import time\n",
    "import datatable as dt\n",
    "from datatable import f, join, by\n",
    "import pandas as pd\n",
    "import numpy as np\n",
    "import matplotlib.pyplot as plt\n",
    "from datatable import f, by\n",
    "from sklearn.feature_selection import VarianceThreshold, SelectKBest"
   ]
  },
  {
   "cell_type": "code",
   "execution_count": 3,
   "metadata": {},
   "outputs": [
    {
     "name": "stdout",
     "output_type": "stream",
     "text": [
      "['train.jay', 'all_actions.npz', 'train.npz', 'all_actions.jay', 'user_features_data', 'history_behavior_data', 'video_features_data'] \n",
      " ['test.npz', 'test.jay', 'test.csv', '.ipynb_checkpoints']\n"
     ]
    }
   ],
   "source": [
    "base_dir = \"./2021_3_data\"\n",
    "test_data_dir  = os.path.join(base_dir, \"testdata\")\n",
    "train_data_dir = os.path.join(base_dir, \"traindata\")\n",
    "\n",
    "train_dirs = os.listdir(train_data_dir)\n",
    "test_dirs  = os.listdir(test_data_dir)\n",
    "\n",
    "action_dirs = os.listdir(os.path.join(train_data_dir, \"history_behavior_data\"))\n",
    "action_files = {e: os.listdir(os.path.join(train_data_dir, f\"history_behavior_data/{e}\"))[0] for e in action_dirs}\n",
    "print(train_dirs,'\\n', test_dirs)"
   ]
  },
  {
   "cell_type": "code",
   "execution_count": 4,
   "metadata": {},
   "outputs": [],
   "source": [
    "user_df = dt.fread(os.path.join(train_data_dir, \"user_features_data/user_features_data.csv\"), sep='\\t')"
   ]
  },
  {
   "cell_type": "markdown",
   "metadata": {},
   "source": [
    "# random walk\n",
    "- 通过用户的观看记录的随机游走，生成视频的嵌入\n",
    "- 通过视频被用户观看的记录的随机游走，生成用户的嵌入\n",
    "\n",
    "需要考虑以下问题：\n",
    "1. 随机游走序列的时间跨度是十四天还是时间窗口的形式\n",
    "2. 随机游走序列能否覆盖所有用户或所有视频\n",
    "3. "
   ]
  },
  {
   "cell_type": "code",
   "execution_count": 5,
   "metadata": {},
   "outputs": [
    {
     "name": "stdout",
     "output_type": "stream",
     "text": [
      "all history data read ...\n",
      "CPU times: user 2min 13s, sys: 12.3 s, total: 2min 25s\n",
      "Wall time: 28.3 s\n"
     ]
    }
   ],
   "source": [
    "%%time\n",
    "all_df = None  # pd.DataFrame([], columns=['user_id', 'video', 'watch_labe', 'is_share'])\n",
    "\n",
    "for i, d in enumerate(action_dirs):\n",
    "    df = dt.fread(os.path.join(train_data_dir, f\"history_behavior_data/{d}/{action_files[d]}\"), sep=\"\\t\", )\n",
    "#                      columns=['user_id', 'video_id', 'is_watch', 'is_sollect', 'is_comment', 'is_share', 'watch_label', 'pt_d'])\n",
    "    del df[:, 'watch_start_time']\n",
    "    if all_df is None:\n",
    "        all_df = df\n",
    "    else:\n",
    "        all_df.rbind(df, bynames=True)\n",
    "print(f\"all history data read ...\")"
   ]
  },
  {
   "cell_type": "code",
   "execution_count": 6,
   "metadata": {},
   "outputs": [
    {
     "data": {
      "text/plain": [
       "(80276856, 8)"
      ]
     },
     "execution_count": 6,
     "metadata": {},
     "output_type": "execute_result"
    }
   ],
   "source": [
    "all_df.shape"
   ]
  },
  {
   "cell_type": "code",
   "execution_count": 30,
   "metadata": {},
   "outputs": [
    {
     "data": {
      "text/plain": [
       "((3953209, 1), (34218, 1))"
      ]
     },
     "execution_count": 30,
     "metadata": {},
     "output_type": "execute_result"
    }
   ],
   "source": [
    "dt.unique(all_df['user_id']).shape, dt.unique(all_df['video_id']).shape"
   ]
  },
  {
   "cell_type": "code",
   "execution_count": 54,
   "metadata": {},
   "outputs": [
    {
     "data": {
      "text/html": [
       "<div class='datatable'>\n",
       "  <table class='frame'>\n",
       "  <thead>\n",
       "    <tr class='colnames'><td class='row_index'></td><th>count</th></tr>\n",
       "    <tr class='coltypes'><td class='row_index'></td><td class='float' title='float64'>&#x25AA;&#x25AA;&#x25AA;&#x25AA;&#x25AA;&#x25AA;&#x25AA;&#x25AA;</td></tr>\n",
       "  </thead>\n",
       "  <tbody>\n",
       "    <tr><td class='row_index'>0</td><td>20.3068</td></tr>\n",
       "  </tbody>\n",
       "  </table>\n",
       "  <div class='footer'>\n",
       "    <div class='frame_dimensions'>1 row &times; 1 column</div>\n",
       "  </div>\n",
       "</div>\n"
      ],
      "text/plain": [
       "<Frame#1f481c4bbd0 1x1>"
      ]
     },
     "execution_count": 54,
     "metadata": {},
     "output_type": "execute_result"
    }
   ],
   "source": [
    "# 并不是所有的用户都有行为数据，3953209用户有行为数据，每个用户平均有20.03068个视频记录\n",
    "all_df[:, dt.count(), by(\"user_id\")][:, dt.mean(f.count)]"
   ]
  },
  {
   "cell_type": "code",
   "execution_count": 57,
   "metadata": {},
   "outputs": [
    {
     "data": {
      "text/html": [
       "<div class='datatable'>\n",
       "  <table class='frame'>\n",
       "  <thead>\n",
       "    <tr class='colnames'><td class='row_index'></td><th>count</th><th>count.0</th></tr>\n",
       "    <tr class='coltypes'><td class='row_index'></td><td class='int' title='int64'>&#x25AA;&#x25AA;&#x25AA;&#x25AA;&#x25AA;&#x25AA;&#x25AA;&#x25AA;</td><td class='int' title='int64'>&#x25AA;&#x25AA;&#x25AA;&#x25AA;&#x25AA;&#x25AA;&#x25AA;&#x25AA;</td></tr>\n",
       "  </thead>\n",
       "  <tbody>\n",
       "    <tr><td class='row_index'>0</td><td>1</td><td>76</td></tr>\n",
       "  </tbody>\n",
       "  </table>\n",
       "  <div class='footer'>\n",
       "    <div class='frame_dimensions'>1 row &times; 2 columns</div>\n",
       "  </div>\n",
       "</div>\n"
      ],
      "text/plain": [
       "<Frame#1f484f906f0 1x2>"
      ]
     },
     "execution_count": 57,
     "metadata": {},
     "output_type": "execute_result"
    }
   ],
   "source": [
    "# 视频记录次数最少的用户只有 1 次，最多的有 76 次\n",
    "all_df[:, dt.count(), by(\"user_id\")][:,dt.max(f.count), dt.min(f.count)]"
   ]
  },
  {
   "cell_type": "code",
   "execution_count": 61,
   "metadata": {},
   "outputs": [
    {
     "data": {
      "text/html": [
       "<div class='datatable'>\n",
       "  <table class='frame'>\n",
       "  <thead>\n",
       "    <tr class='colnames'><td class='row_index'></td><th>count</th><th>count.0</th></tr>\n",
       "    <tr class='coltypes'><td class='row_index'></td><td class='int' title='int64'>&#x25AA;&#x25AA;&#x25AA;&#x25AA;&#x25AA;&#x25AA;&#x25AA;&#x25AA;</td><td class='int' title='int64'>&#x25AA;&#x25AA;&#x25AA;&#x25AA;&#x25AA;&#x25AA;&#x25AA;&#x25AA;</td></tr>\n",
       "  </thead>\n",
       "  <tbody>\n",
       "    <tr><td class='row_index'>0</td><td>1932565</td><td>963</td></tr>\n",
       "  </tbody>\n",
       "  </table>\n",
       "  <div class='footer'>\n",
       "    <div class='frame_dimensions'>1 row &times; 2 columns</div>\n",
       "  </div>\n",
       "</div>\n"
      ],
      "text/plain": [
       "<Frame#1f484f90d50 1x2>"
      ]
     },
     "execution_count": 61,
     "metadata": {},
     "output_type": "execute_result"
    }
   ],
   "source": [
    "# 出现的视频总数 34218，其中还包括没有在视频特征中出现的视频，每个视频平均出现的次数是 2346.04，最多出现了1932565次，最少出现了 963 次\n",
    "all_df[:, dt.count(), by(\"video_id\")][:, dt.min(f.count), dt.max(f.count)]"
   ]
  },
  {
   "cell_type": "markdown",
   "metadata": {},
   "source": [
    "# 用户上下文\n",
    "为每个用户每天生成一个上下文向量。\n",
    "对于用户$u$，其第$t$天的上下文向量$c_{u, t}$由$u$的$t-w, t-1$范围内的交互行为产生，$w$是时间窗口大小。\n",
    "\n",
    "**不能简单的使用视频的特征作为视频的表征。基础特征里有一些特征不适合进行算术运算，有些特征进行算术运算后就失去了原本的含义**\n",
    "目前方法：\n",
    "- 选择一部分列作为视频的表征，基于方差选择\n",
    "- 选择大部分列作为视频特征再进行降维作为视频表征\n",
    "- 深度学习"
   ]
  },
  {
   "cell_type": "code",
   "execution_count": 129,
   "metadata": {},
   "outputs": [],
   "source": [
    "# 每个strategy将一个行为向量转化为一个未归一化的参数\n",
    "# 每个行为向量是一个向量\n",
    "def mean_strategy(action):\n",
    "    assert len(action) > 0\n",
    "    return sum(action) / len(action)\n",
    "\n",
    "\n",
    "def weight_strategy(action, weight=None):\n",
    "    assert len(action) > 0\n",
    "    if weight is None:\n",
    "        weight = np.array([1/len(action)] * len(action))\n",
    "    \n",
    "    assert len(weight) == len(action)\n",
    "    act = np.array(action)\n",
    "    w = act * weight\n",
    "    \n",
    "    return sum(w)\n",
    "    \n",
    "\n",
    "def cal_context(actions, embeds, strategy, **kwargs):\n",
    "    \"\"\"\n",
    "    根据交互行为，生成上下文向量\n",
    "    \"\"\"\n",
    "    context = None\n",
    "    w = list(map(lambda x: strategy(x, **kwargs), actions))\n",
    "    z = sum(w)\n",
    "    \n",
    "    embs = np.array(embeds)\n",
    "    w = np.array(w)\n",
    "    w = w.reshape((len(w), 1))\n",
    "    w_embs = np.multiply(embs, w).sum(axis=0)\n",
    "    w_embs = w_embs / z\n",
    "    \n",
    "    return w_embs"
   ]
  },
  {
   "cell_type": "code",
   "execution_count": 131,
   "metadata": {},
   "outputs": [
    {
     "name": "stdout",
     "output_type": "stream",
     "text": [
      "[[0.6]\n",
      " [0.6]]\n"
     ]
    },
    {
     "data": {
      "text/plain": [
       "array([1. , 2. , 2. , 2.5])"
      ]
     },
     "execution_count": 131,
     "metadata": {},
     "output_type": "execute_result"
    }
   ],
   "source": [
    "actions = [[0, 1, 0, 1], [0, 1, 0, 1]]\n",
    "embeds = [[1,2,3,4], [1, 2,1, 1]]\n",
    "kwargs = {'weight': [0.1, 0.2, 0.3, 0.4]}\n",
    "cal_context(actions, embeds, weight_strategy, **kwargs)"
   ]
  },
  {
   "cell_type": "code",
   "execution_count": 4,
   "metadata": {},
   "outputs": [
    {
     "data": {
      "text/plain": [
       "{'20210502': 'part-00000-d412c602-2f4a-4649-a81f-e56435dd49fd-c000.csv',\n",
       " '20210423': 'part-00000-9809d73a-a55f-4ac2-a59b-9b83cbc5028e-c000.csv',\n",
       " '20210424': 'part-00000-225e55dc-4504-4c14-b289-322312355b2b-c000.csv',\n",
       " '20210421': 'part-00000-c15f29da-6b1e-48c0-b7d0-2cd560998c3f-c000.csv',\n",
       " '20210430': 'part-00000-2da4c3a0-2fcc-422d-8b7c-48940da315ad-c000.csv',\n",
       " '20210427': 'part-00000-9132ab46-51c3-4cc3-97de-e7ad5312b852-c000.csv',\n",
       " '20210419': 'part-00000-236b99d5-456a-42b2-bd8d-3cbd61d21cc6-c000.csv',\n",
       " '20210428': 'part-00000-fc8c8ca1-e655-4a45-b179-c8d9e2dd804c-c000.csv',\n",
       " '20210429': 'part-00000-c5dbd994-54d7-4734-adea-0f22d75b23d3-c000.csv',\n",
       " '20210422': 'part-00000-3d97d0f8-2572-45e6-bb60-f367c97e7870-c000.csv',\n",
       " '20210425': 'part-00000-9d23862b-6bbf-48c6-a598-572df1359737-c000.csv',\n",
       " '20210501': 'part-00000-56b6f0ff-57b8-41ac-96ec-c20e3306297e-c000.csv',\n",
       " '20210426': 'part-00000-0d315342-3ba7-4727-b4a2-123a1a004786-c000.csv',\n",
       " '20210420': 'part-00000-aad75aa4-b60b-4f5b-8def-c4d60f391fae-c000.csv'}"
      ]
     },
     "execution_count": 4,
     "metadata": {},
     "output_type": "execute_result"
    }
   ],
   "source": [
    "action_files"
   ]
  },
  {
   "cell_type": "code",
   "execution_count": 31,
   "metadata": {},
   "outputs": [],
   "source": [
    "i = action_dirs[0]\n",
    "tab1 = dt.fread(os.path.join(train_data_dir, f\"history_behavior_data/{i}/{action_files[i]}\"), sep=\"\\t\")"
   ]
  },
  {
   "cell_type": "code",
   "execution_count": 32,
   "metadata": {},
   "outputs": [],
   "source": [
    "del tab1[:, 'watch_start_time']"
   ]
  },
  {
   "cell_type": "code",
   "execution_count": 33,
   "metadata": {},
   "outputs": [],
   "source": [
    "af1 = tab1.to_pandas()"
   ]
  },
  {
   "cell_type": "code",
   "execution_count": 28,
   "metadata": {},
   "outputs": [],
   "source": [
    "g = af1.groupby('user_id')"
   ]
  },
  {
   "cell_type": "code",
   "execution_count": 112,
   "metadata": {},
   "outputs": [
    {
     "name": "stdout",
     "output_type": "stream",
     "text": [
      "CPU times: user 3.26 ms, sys: 8.04 ms, total: 11.3 ms\n",
      "Wall time: 132 ms\n"
     ]
    },
    {
     "data": {
      "text/html": [
       "<div>\n",
       "<style scoped>\n",
       "    .dataframe tbody tr th:only-of-type {\n",
       "        vertical-align: middle;\n",
       "    }\n",
       "\n",
       "    .dataframe tbody tr th {\n",
       "        vertical-align: top;\n",
       "    }\n",
       "\n",
       "    .dataframe thead th {\n",
       "        text-align: right;\n",
       "    }\n",
       "</style>\n",
       "<table border=\"1\" class=\"dataframe\">\n",
       "  <thead>\n",
       "    <tr style=\"text-align: right;\">\n",
       "      <th></th>\n",
       "      <th>user_id</th>\n",
       "      <th>video_id</th>\n",
       "      <th>is_watch</th>\n",
       "      <th>is_share</th>\n",
       "      <th>is_collect</th>\n",
       "      <th>is_comment</th>\n",
       "      <th>watch_label</th>\n",
       "      <th>pt_d</th>\n",
       "    </tr>\n",
       "  </thead>\n",
       "  <tbody>\n",
       "    <tr>\n",
       "      <th>336550</th>\n",
       "      <td>15</td>\n",
       "      <td>32248</td>\n",
       "      <td>False</td>\n",
       "      <td>False</td>\n",
       "      <td>False</td>\n",
       "      <td>False</td>\n",
       "      <td>0</td>\n",
       "      <td>20210502</td>\n",
       "    </tr>\n",
       "    <tr>\n",
       "      <th>336551</th>\n",
       "      <td>15</td>\n",
       "      <td>50299</td>\n",
       "      <td>False</td>\n",
       "      <td>False</td>\n",
       "      <td>False</td>\n",
       "      <td>False</td>\n",
       "      <td>0</td>\n",
       "      <td>20210502</td>\n",
       "    </tr>\n",
       "    <tr>\n",
       "      <th>336552</th>\n",
       "      <td>15</td>\n",
       "      <td>2259</td>\n",
       "      <td>False</td>\n",
       "      <td>False</td>\n",
       "      <td>False</td>\n",
       "      <td>False</td>\n",
       "      <td>0</td>\n",
       "      <td>20210502</td>\n",
       "    </tr>\n",
       "    <tr>\n",
       "      <th>336553</th>\n",
       "      <td>15</td>\n",
       "      <td>8918</td>\n",
       "      <td>False</td>\n",
       "      <td>False</td>\n",
       "      <td>False</td>\n",
       "      <td>False</td>\n",
       "      <td>0</td>\n",
       "      <td>20210502</td>\n",
       "    </tr>\n",
       "    <tr>\n",
       "      <th>336554</th>\n",
       "      <td>15</td>\n",
       "      <td>14984</td>\n",
       "      <td>False</td>\n",
       "      <td>False</td>\n",
       "      <td>False</td>\n",
       "      <td>False</td>\n",
       "      <td>0</td>\n",
       "      <td>20210502</td>\n",
       "    </tr>\n",
       "    <tr>\n",
       "      <th>336555</th>\n",
       "      <td>15</td>\n",
       "      <td>46900</td>\n",
       "      <td>False</td>\n",
       "      <td>False</td>\n",
       "      <td>False</td>\n",
       "      <td>False</td>\n",
       "      <td>0</td>\n",
       "      <td>20210502</td>\n",
       "    </tr>\n",
       "    <tr>\n",
       "      <th>336556</th>\n",
       "      <td>15</td>\n",
       "      <td>39245</td>\n",
       "      <td>False</td>\n",
       "      <td>False</td>\n",
       "      <td>False</td>\n",
       "      <td>False</td>\n",
       "      <td>0</td>\n",
       "      <td>20210502</td>\n",
       "    </tr>\n",
       "  </tbody>\n",
       "</table>\n",
       "</div>"
      ],
      "text/plain": [
       "        user_id  video_id  is_watch  is_share  is_collect  is_comment  \\\n",
       "336550       15     32248     False     False       False       False   \n",
       "336551       15     50299     False     False       False       False   \n",
       "336552       15      2259     False     False       False       False   \n",
       "336553       15      8918     False     False       False       False   \n",
       "336554       15     14984     False     False       False       False   \n",
       "336555       15     46900     False     False       False       False   \n",
       "336556       15     39245     False     False       False       False   \n",
       "\n",
       "        watch_label      pt_d  \n",
       "336550            0  20210502  \n",
       "336551            0  20210502  \n",
       "336552            0  20210502  \n",
       "336553            0  20210502  \n",
       "336554            0  20210502  \n",
       "336555            0  20210502  \n",
       "336556            0  20210502  "
      ]
     },
     "execution_count": 112,
     "metadata": {},
     "output_type": "execute_result"
    }
   ],
   "source": [
    "%%time\n",
    "gp = g.get_group(15)\n",
    "gp"
   ]
  },
  {
   "cell_type": "code",
   "execution_count": 111,
   "metadata": {},
   "outputs": [
    {
     "data": {
      "text/html": [
       "<div>\n",
       "<style scoped>\n",
       "    .dataframe tbody tr th:only-of-type {\n",
       "        vertical-align: middle;\n",
       "    }\n",
       "\n",
       "    .dataframe tbody tr th {\n",
       "        vertical-align: top;\n",
       "    }\n",
       "\n",
       "    .dataframe thead th {\n",
       "        text-align: right;\n",
       "    }\n",
       "</style>\n",
       "<table border=\"1\" class=\"dataframe\">\n",
       "  <thead>\n",
       "    <tr style=\"text-align: right;\">\n",
       "      <th></th>\n",
       "      <th>video_id</th>\n",
       "      <th>is_watch</th>\n",
       "      <th>is_share</th>\n",
       "      <th>is_collect</th>\n",
       "      <th>is_comment</th>\n",
       "      <th>watch_label</th>\n",
       "    </tr>\n",
       "  </thead>\n",
       "  <tbody>\n",
       "    <tr>\n",
       "      <th>336550</th>\n",
       "      <td>32248</td>\n",
       "      <td>False</td>\n",
       "      <td>False</td>\n",
       "      <td>False</td>\n",
       "      <td>False</td>\n",
       "      <td>0</td>\n",
       "    </tr>\n",
       "    <tr>\n",
       "      <th>336551</th>\n",
       "      <td>50299</td>\n",
       "      <td>False</td>\n",
       "      <td>False</td>\n",
       "      <td>False</td>\n",
       "      <td>False</td>\n",
       "      <td>0</td>\n",
       "    </tr>\n",
       "    <tr>\n",
       "      <th>336552</th>\n",
       "      <td>2259</td>\n",
       "      <td>False</td>\n",
       "      <td>False</td>\n",
       "      <td>False</td>\n",
       "      <td>False</td>\n",
       "      <td>0</td>\n",
       "    </tr>\n",
       "    <tr>\n",
       "      <th>336553</th>\n",
       "      <td>8918</td>\n",
       "      <td>False</td>\n",
       "      <td>False</td>\n",
       "      <td>False</td>\n",
       "      <td>False</td>\n",
       "      <td>0</td>\n",
       "    </tr>\n",
       "    <tr>\n",
       "      <th>336554</th>\n",
       "      <td>14984</td>\n",
       "      <td>False</td>\n",
       "      <td>False</td>\n",
       "      <td>False</td>\n",
       "      <td>False</td>\n",
       "      <td>0</td>\n",
       "    </tr>\n",
       "    <tr>\n",
       "      <th>336555</th>\n",
       "      <td>46900</td>\n",
       "      <td>False</td>\n",
       "      <td>False</td>\n",
       "      <td>False</td>\n",
       "      <td>False</td>\n",
       "      <td>0</td>\n",
       "    </tr>\n",
       "    <tr>\n",
       "      <th>336556</th>\n",
       "      <td>39245</td>\n",
       "      <td>False</td>\n",
       "      <td>False</td>\n",
       "      <td>False</td>\n",
       "      <td>False</td>\n",
       "      <td>0</td>\n",
       "    </tr>\n",
       "  </tbody>\n",
       "</table>\n",
       "</div>"
      ],
      "text/plain": [
       "        video_id  is_watch  is_share  is_collect  is_comment  watch_label\n",
       "336550     32248     False     False       False       False            0\n",
       "336551     50299     False     False       False       False            0\n",
       "336552      2259     False     False       False       False            0\n",
       "336553      8918     False     False       False       False            0\n",
       "336554     14984     False     False       False       False            0\n",
       "336555     46900     False     False       False       False            0\n",
       "336556     39245     False     False       False       False            0"
      ]
     },
     "execution_count": 111,
     "metadata": {},
     "output_type": "execute_result"
    }
   ],
   "source": [
    "gp.loc[:, ['video_id', 'is_watch', 'is_share', 'is_collect', 'is_comment', 'watch_label']]"
   ]
  },
  {
   "cell_type": "code",
   "execution_count": 56,
   "metadata": {},
   "outputs": [
    {
     "name": "stdout",
     "output_type": "stream",
     "text": [
      "CPU times: user 536 ms, sys: 136 ms, total: 672 ms\n",
      "Wall time: 134 ms\n"
     ]
    },
    {
     "data": {
      "text/html": [
       "<div class='datatable'>\n",
       "  <table class='frame'>\n",
       "  <thead>\n",
       "    <tr class='colnames'><td class='row_index'></td><th>user_id</th><th>video_id</th><th>is_watch</th><th>is_share</th><th>is_collect</th><th>is_comment</th><th>watch_label</th><th>pt_d</th></tr>\n",
       "    <tr class='coltypes'><td class='row_index'></td><td class='int' title='int32'>&#x25AA;&#x25AA;&#x25AA;&#x25AA;</td><td class='int' title='int32'>&#x25AA;&#x25AA;&#x25AA;&#x25AA;</td><td class='bool' title='bool8'>&#x25AA;</td><td class='bool' title='bool8'>&#x25AA;</td><td class='bool' title='bool8'>&#x25AA;</td><td class='bool' title='bool8'>&#x25AA;</td><td class='int' title='int32'>&#x25AA;&#x25AA;&#x25AA;&#x25AA;</td><td class='int' title='int32'>&#x25AA;&#x25AA;&#x25AA;&#x25AA;</td></tr>\n",
       "  </thead>\n",
       "  <tbody>\n",
       "    <tr><td class='row_index'>0</td><td>15</td><td>32248</td><td>0</td><td>0</td><td>0</td><td>0</td><td>0</td><td>20210502</td></tr>\n",
       "    <tr><td class='row_index'>1</td><td>15</td><td>50299</td><td>0</td><td>0</td><td>0</td><td>0</td><td>0</td><td>20210502</td></tr>\n",
       "    <tr><td class='row_index'>2</td><td>15</td><td>2259</td><td>0</td><td>0</td><td>0</td><td>0</td><td>0</td><td>20210502</td></tr>\n",
       "    <tr><td class='row_index'>3</td><td>15</td><td>8918</td><td>0</td><td>0</td><td>0</td><td>0</td><td>0</td><td>20210502</td></tr>\n",
       "    <tr><td class='row_index'>4</td><td>15</td><td>14984</td><td>0</td><td>0</td><td>0</td><td>0</td><td>0</td><td>20210502</td></tr>\n",
       "    <tr><td class='row_index'>5</td><td>15</td><td>46900</td><td>0</td><td>0</td><td>0</td><td>0</td><td>0</td><td>20210502</td></tr>\n",
       "    <tr><td class='row_index'>6</td><td>15</td><td>39245</td><td>0</td><td>0</td><td>0</td><td>0</td><td>0</td><td>20210502</td></tr>\n",
       "  </tbody>\n",
       "  </table>\n",
       "  <div class='footer'>\n",
       "    <div class='frame_dimensions'>7 rows &times; 8 columns</div>\n",
       "  </div>\n",
       "</div>\n"
      ],
      "text/plain": [
       "<Frame#7fa9dd192900 7x8>"
      ]
     },
     "execution_count": 56,
     "metadata": {},
     "output_type": "execute_result"
    }
   ],
   "source": [
    "%%time\n",
    "tab1[f.user_id==15, :]"
   ]
  },
  {
   "cell_type": "code",
   "execution_count": 53,
   "metadata": {
    "collapsed": true,
    "jupyter": {
     "outputs_hidden": true
    },
    "tags": []
   },
   "outputs": [
    {
     "data": {
      "text/html": [
       "<div class='datatable'>\n",
       "  <table class='frame'>\n",
       "  <thead>\n",
       "    <tr class='colnames'><td class='row_index'></td><th>user_id</th></tr>\n",
       "    <tr class='coltypes'><td class='row_index'></td><td class='int' title='int32'>&#x25AA;&#x25AA;&#x25AA;&#x25AA;</td></tr>\n",
       "  </thead>\n",
       "  <tbody>\n",
       "    <tr><td class='row_index'>0</td><td>2</td></tr>\n",
       "    <tr><td class='row_index'>1</td><td>15</td></tr>\n",
       "    <tr><td class='row_index'>2</td><td>19</td></tr>\n",
       "    <tr><td class='row_index'>3</td><td>38</td></tr>\n",
       "    <tr><td class='row_index'>4</td><td>43</td></tr>\n",
       "    <tr><td class='row_index'>5</td><td>44</td></tr>\n",
       "    <tr><td class='row_index'>6</td><td>45</td></tr>\n",
       "    <tr><td class='row_index'>7</td><td>51</td></tr>\n",
       "    <tr><td class='row_index'>8</td><td>63</td></tr>\n",
       "    <tr><td class='row_index'>9</td><td>73</td></tr>\n",
       "    <tr><td class='row_index'>10</td><td>97</td></tr>\n",
       "    <tr><td class='row_index'>11</td><td>105</td></tr>\n",
       "    <tr><td class='row_index'>12</td><td>107</td></tr>\n",
       "    <tr><td class='row_index'>13</td><td>114</td></tr>\n",
       "    <tr><td class='row_index'>14</td><td>115</td></tr>\n",
       "    <tr><td class='row_index'>&#x22EE;</td><td class='hellipsis'>&#x22EE;</td></tr>\n",
       "    <tr><td class='row_index'>664,589</td><td>5910767</td></tr>\n",
       "    <tr><td class='row_index'>664,590</td><td>5910778</td></tr>\n",
       "    <tr><td class='row_index'>664,591</td><td>5910789</td></tr>\n",
       "    <tr><td class='row_index'>664,592</td><td>5910794</td></tr>\n",
       "    <tr><td class='row_index'>664,593</td><td>5910797</td></tr>\n",
       "  </tbody>\n",
       "  </table>\n",
       "  <div class='footer'>\n",
       "    <div class='frame_dimensions'>664,594 rows &times; 1 column</div>\n",
       "  </div>\n",
       "</div>\n"
      ],
      "text/plain": [
       "<Frame#7fa9d3f9da50 664594x1>"
      ]
     },
     "execution_count": 53,
     "metadata": {},
     "output_type": "execute_result"
    }
   ],
   "source": [
    "dt.unique(tab1[:, f.user_id])"
   ]
  },
  {
   "cell_type": "code",
   "execution_count": 55,
   "metadata": {},
   "outputs": [
    {
     "data": {
      "text/plain": [
       "(664594,)"
      ]
     },
     "execution_count": 55,
     "metadata": {},
     "output_type": "execute_result"
    }
   ],
   "source": [
    "af1['user_id'].unique().shape"
   ]
  },
  {
   "cell_type": "code",
   "execution_count": 60,
   "metadata": {},
   "outputs": [],
   "source": [
    "video = dt.fread(os.path.join(train_data_dir, \"video_features_data/video_features.jay\"))"
   ]
  },
  {
   "cell_type": "code",
   "execution_count": 87,
   "metadata": {},
   "outputs": [
    {
     "data": {
      "text/html": [
       "<div class='datatable'>\n",
       "  <table class='frame'>\n",
       "  <thead>\n",
       "    <tr class='colnames'><td class='row_index'></td><th>video_duration</th></tr>\n",
       "    <tr class='coltypes'><td class='row_index'></td><td class='float' title='float32'>&#x25AA;&#x25AA;&#x25AA;&#x25AA;</td></tr>\n",
       "  </thead>\n",
       "  <tbody>\n",
       "    <tr><td class='row_index'>0</td><td>23536</td></tr>\n",
       "  </tbody>\n",
       "  </table>\n",
       "  <div class='footer'>\n",
       "    <div class='frame_dimensions'>1 row &times; 1 column</div>\n",
       "  </div>\n",
       "</div>\n"
      ],
      "text/plain": [
       "<Frame#7fa87d102390 1x1>"
      ]
     },
     "execution_count": 87,
     "metadata": {},
     "output_type": "execute_result"
    }
   ],
   "source": [
    "video[:, dt.max(f.video_duration)]"
   ]
  },
  {
   "cell_type": "code",
   "execution_count": 88,
   "metadata": {},
   "outputs": [],
   "source": [
    "exclude_cols = ['video_id', 'video_name', 'video_release_year', 'video_release_month', 'video_release_day', 'video_duration']\n",
    "stds = list(video.sd().to_pandas().to_dict(orient='records')[0].items())"
   ]
  },
  {
   "cell_type": "code",
   "execution_count": 94,
   "metadata": {},
   "outputs": [],
   "source": [
    "stds = list(filter(lambda x: x[0] not in exclude_cols, stds))\n",
    "varis = list(map(lambda x: (x[0], x[1]**2), stds))"
   ]
  },
  {
   "cell_type": "code",
   "execution_count": 104,
   "metadata": {},
   "outputs": [
    {
     "data": {
      "text/plain": [
       "['desc_0',\n",
       " 'desc_3',\n",
       " 'desc_4',\n",
       " 'desc_8',\n",
       " 'desc_9',\n",
       " 'tags_0',\n",
       " 'tags_3',\n",
       " 'tags_4',\n",
       " 'tags_6',\n",
       " 'tags_8',\n",
       " 'class_0',\n",
       " 'class_2',\n",
       " 'class_5',\n",
       " 'class_8',\n",
       " 'da_0',\n",
       " 'da_1',\n",
       " 'da_2',\n",
       " 'da_3',\n",
       " 'da_4']"
      ]
     },
     "execution_count": 104,
     "metadata": {},
     "output_type": "execute_result"
    }
   ],
   "source": [
    "threshold = 0.015\n",
    "emb_cols = list(filter(lambda x: x[1] > threshold, varis))\n",
    "emb_cols = [e[0] for e in emb_cols]\n",
    "emb_cols"
   ]
  },
  {
   "cell_type": "code",
   "execution_count": null,
   "metadata": {},
   "outputs": [],
   "source": []
  }
 ],
 "metadata": {
  "kernelspec": {
   "display_name": "Python 3",
   "language": "python",
   "name": "python3"
  },
  "language_info": {
   "codemirror_mode": {
    "name": "ipython",
    "version": 3
   },
   "file_extension": ".py",
   "mimetype": "text/x-python",
   "name": "python",
   "nbconvert_exporter": "python",
   "pygments_lexer": "ipython3",
   "version": "3.8.10"
  }
 },
 "nbformat": 4,
 "nbformat_minor": 4
}
