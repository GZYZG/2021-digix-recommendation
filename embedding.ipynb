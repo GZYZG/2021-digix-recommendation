{
 "cells": [
  {
   "cell_type": "code",
   "execution_count": 3,
   "metadata": {},
   "outputs": [
    {
     "data": {
      "text/html": [
       "<style type='text/css'>\n",
       ".datatable table.frame { margin-bottom: 0; }\n",
       ".datatable table.frame thead { border-bottom: none; }\n",
       ".datatable table.frame tr.coltypes td {  color: #FFFFFF;  line-height: 6px;  padding: 0 0.5em;}\n",
       ".datatable .bool    { background: #DDDD99; }\n",
       ".datatable .object  { background: #565656; }\n",
       ".datatable .int     { background: #5D9E5D; }\n",
       ".datatable .float   { background: #4040CC; }\n",
       ".datatable .str     { background: #CC4040; }\n",
       ".datatable .time    { background: #40CC40; }\n",
       ".datatable .row_index {  background: var(--jp-border-color3);  border-right: 1px solid var(--jp-border-color0);  color: var(--jp-ui-font-color3);  font-size: 9px;}\n",
       ".datatable .frame tbody td { text-align: left; }\n",
       ".datatable .frame tr.coltypes .row_index {  background: var(--jp-border-color0);}\n",
       ".datatable th:nth-child(2) { padding-left: 12px; }\n",
       ".datatable .hellipsis {  color: var(--jp-cell-editor-border-color);}\n",
       ".datatable .vellipsis {  background: var(--jp-layout-color0);  color: var(--jp-cell-editor-border-color);}\n",
       ".datatable .na {  color: var(--jp-cell-editor-border-color);  font-size: 80%;}\n",
       ".datatable .sp {  opacity: 0.25;}\n",
       ".datatable .footer { font-size: 9px; }\n",
       ".datatable .frame_dimensions {  background: var(--jp-border-color3);  border-top: 1px solid var(--jp-border-color0);  color: var(--jp-ui-font-color3);  display: inline-block;  opacity: 0.6;  padding: 1px 10px 1px 5px;}\n",
       "</style>\n"
      ],
      "text/plain": [
       "<IPython.core.display.HTML object>"
      ]
     },
     "metadata": {},
     "output_type": "display_data"
    }
   ],
   "source": [
    "import os\n",
    "from time import time\n",
    "import datatable as dt\n",
    "from datatable import f, join, by\n",
    "import pandas as pd\n",
    "import numpy as np\n",
    "import matplotlib.pyplot as plt\n",
    "from datatable import f, by\n",
    "from sklearn.feature_selection import VarianceThreshold, SelectKBest"
   ]
  },
  {
   "cell_type": "code",
   "execution_count": 3,
   "metadata": {},
   "outputs": [
    {
     "name": "stdout",
     "output_type": "stream",
     "text": [
      "['train.jay', 'all_actions.npz', 'train.npz', 'all_actions.jay', 'user_features_data', 'history_behavior_data', 'video_features_data'] \n",
      " ['test.npz', 'test.jay', 'test.csv', '.ipynb_checkpoints']\n"
     ]
    }
   ],
   "source": [
    "base_dir = \"./2021_3_data\"\n",
    "test_data_dir  = os.path.join(base_dir, \"testdata\")\n",
    "train_data_dir = os.path.join(base_dir, \"traindata\")\n",
    "\n",
    "train_dirs = os.listdir(train_data_dir)\n",
    "test_dirs  = os.listdir(test_data_dir)\n",
    "\n",
    "action_dirs = os.listdir(os.path.join(train_data_dir, \"history_behavior_data\"))\n",
    "action_files = {e: os.listdir(os.path.join(train_data_dir, f\"history_behavior_data/{e}\"))[0] for e in action_dirs}\n",
    "print(train_dirs,'\\n', test_dirs)"
   ]
  },
  {
   "cell_type": "code",
   "execution_count": 4,
   "metadata": {},
   "outputs": [],
   "source": [
    "user_df = dt.fread(os.path.join(train_data_dir, \"user_features_data/user_features_data.csv\"), sep='\\t')"
   ]
  },
  {
   "cell_type": "markdown",
   "metadata": {},
   "source": [
    "# random walk\n",
    "- 通过用户的观看记录的随机游走，生成视频的嵌入\n",
    "- 通过视频被用户观看的记录的随机游走，生成用户的嵌入\n",
    "\n",
    "需要考虑以下问题：\n",
    "1. 随机游走序列的时间跨度是十四天还是时间窗口的形式\n",
    "2. 随机游走序列能否覆盖所有用户或所有视频\n",
    "3. "
   ]
  },
  {
   "cell_type": "code",
   "execution_count": 5,
   "metadata": {},
   "outputs": [
    {
     "name": "stdout",
     "output_type": "stream",
     "text": [
      "all history data read ...\n",
      "CPU times: user 2min 13s, sys: 12.3 s, total: 2min 25s\n",
      "Wall time: 28.3 s\n"
     ]
    }
   ],
   "source": [
    "%%time\n",
    "all_df = None  # pd.DataFrame([], columns=['user_id', 'video', 'watch_labe', 'is_share'])\n",
    "\n",
    "for i, d in enumerate(action_dirs):\n",
    "    df = dt.fread(os.path.join(train_data_dir, f\"history_behavior_data/{d}/{action_files[d]}\"), sep=\"\\t\", )\n",
    "#                      columns=['user_id', 'video_id', 'is_watch', 'is_sollect', 'is_comment', 'is_share', 'watch_label', 'pt_d'])\n",
    "    del df[:, 'watch_start_time']\n",
    "    if all_df is None:\n",
    "        all_df = df\n",
    "    else:\n",
    "        all_df.rbind(df, bynames=True)\n",
    "print(f\"all history data read ...\")"
   ]
  },
  {
   "cell_type": "code",
   "execution_count": 6,
   "metadata": {},
   "outputs": [
    {
     "data": {
      "text/plain": [
       "(80276856, 8)"
      ]
     },
     "execution_count": 6,
     "metadata": {},
     "output_type": "execute_result"
    }
   ],
   "source": [
    "all_df.shape"
   ]
  },
  {
   "cell_type": "code",
   "execution_count": 30,
   "metadata": {},
   "outputs": [
    {
     "data": {
      "text/plain": [
       "((3953209, 1), (34218, 1))"
      ]
     },
     "execution_count": 30,
     "metadata": {},
     "output_type": "execute_result"
    }
   ],
   "source": [
    "dt.unique(all_df['user_id']).shape, dt.unique(all_df['video_id']).shape"
   ]
  },
  {
   "cell_type": "code",
   "execution_count": 54,
   "metadata": {},
   "outputs": [
    {
     "data": {
      "text/html": [
       "<div class='datatable'>\n",
       "  <table class='frame'>\n",
       "  <thead>\n",
       "    <tr class='colnames'><td class='row_index'></td><th>count</th></tr>\n",
       "    <tr class='coltypes'><td class='row_index'></td><td class='float' title='float64'>&#x25AA;&#x25AA;&#x25AA;&#x25AA;&#x25AA;&#x25AA;&#x25AA;&#x25AA;</td></tr>\n",
       "  </thead>\n",
       "  <tbody>\n",
       "    <tr><td class='row_index'>0</td><td>20.3068</td></tr>\n",
       "  </tbody>\n",
       "  </table>\n",
       "  <div class='footer'>\n",
       "    <div class='frame_dimensions'>1 row &times; 1 column</div>\n",
       "  </div>\n",
       "</div>\n"
      ],
      "text/plain": [
       "<Frame#1f481c4bbd0 1x1>"
      ]
     },
     "execution_count": 54,
     "metadata": {},
     "output_type": "execute_result"
    }
   ],
   "source": [
    "# 并不是所有的用户都有行为数据，3953209用户有行为数据，每个用户平均有20.03068个视频记录\n",
    "all_df[:, dt.count(), by(\"user_id\")][:, dt.mean(f.count)]"
   ]
  },
  {
   "cell_type": "code",
   "execution_count": 57,
   "metadata": {},
   "outputs": [
    {
     "data": {
      "text/html": [
       "<div class='datatable'>\n",
       "  <table class='frame'>\n",
       "  <thead>\n",
       "    <tr class='colnames'><td class='row_index'></td><th>count</th><th>count.0</th></tr>\n",
       "    <tr class='coltypes'><td class='row_index'></td><td class='int' title='int64'>&#x25AA;&#x25AA;&#x25AA;&#x25AA;&#x25AA;&#x25AA;&#x25AA;&#x25AA;</td><td class='int' title='int64'>&#x25AA;&#x25AA;&#x25AA;&#x25AA;&#x25AA;&#x25AA;&#x25AA;&#x25AA;</td></tr>\n",
       "  </thead>\n",
       "  <tbody>\n",
       "    <tr><td class='row_index'>0</td><td>1</td><td>76</td></tr>\n",
       "  </tbody>\n",
       "  </table>\n",
       "  <div class='footer'>\n",
       "    <div class='frame_dimensions'>1 row &times; 2 columns</div>\n",
       "  </div>\n",
       "</div>\n"
      ],
      "text/plain": [
       "<Frame#1f484f906f0 1x2>"
      ]
     },
     "execution_count": 57,
     "metadata": {},
     "output_type": "execute_result"
    }
   ],
   "source": [
    "# 视频记录次数最少的用户只有 1 次，最多的有 76 次\n",
    "all_df[:, dt.count(), by(\"user_id\")][:,dt.max(f.count), dt.min(f.count)]"
   ]
  },
  {
   "cell_type": "code",
   "execution_count": 61,
   "metadata": {},
   "outputs": [
    {
     "data": {
      "text/html": [
       "<div class='datatable'>\n",
       "  <table class='frame'>\n",
       "  <thead>\n",
       "    <tr class='colnames'><td class='row_index'></td><th>count</th><th>count.0</th></tr>\n",
       "    <tr class='coltypes'><td class='row_index'></td><td class='int' title='int64'>&#x25AA;&#x25AA;&#x25AA;&#x25AA;&#x25AA;&#x25AA;&#x25AA;&#x25AA;</td><td class='int' title='int64'>&#x25AA;&#x25AA;&#x25AA;&#x25AA;&#x25AA;&#x25AA;&#x25AA;&#x25AA;</td></tr>\n",
       "  </thead>\n",
       "  <tbody>\n",
       "    <tr><td class='row_index'>0</td><td>1932565</td><td>963</td></tr>\n",
       "  </tbody>\n",
       "  </table>\n",
       "  <div class='footer'>\n",
       "    <div class='frame_dimensions'>1 row &times; 2 columns</div>\n",
       "  </div>\n",
       "</div>\n"
      ],
      "text/plain": [
       "<Frame#1f484f90d50 1x2>"
      ]
     },
     "execution_count": 61,
     "metadata": {},
     "output_type": "execute_result"
    }
   ],
   "source": [
    "# 出现的视频总数 34218，其中还包括没有在视频特征中出现的视频，每个视频平均出现的次数是 2346.04，最多出现了1932565次，最少出现了 963 次\n",
    "all_df[:, dt.count(), by(\"video_id\")][:, dt.min(f.count), dt.max(f.count)]"
   ]
  },
  {
   "cell_type": "markdown",
   "metadata": {},
   "source": [
    "# 用户上下文\n",
    "为每个用户每天生成一个上下文向量。\n",
    "对于用户$u$，其第$t$天的上下文向量$c_{u, t}$由$u$的$t-w, t-1$范围内的交互行为产生，$w$是时间窗口大小。\n",
    "\n",
    "**不能简单的使用视频的特征作为视频的表征。基础特征里有一些特征不适合进行算术运算，有些特征进行算术运算后就失去了原本的含义**\n",
    "目前方法：\n",
    "- 选择一部分列作为视频的表征，基于方差选择\n",
    "- 选择大部分列作为视频特征再进行降维作为视频表征\n",
    "- 深度学习"
   ]
  },
  {
   "cell_type": "code",
   "execution_count": 174,
   "metadata": {},
   "outputs": [],
   "source": [
    "# 每个strategy将一个行为向量转化为一个未归一化的参数\n",
    "# 每个行为向量是一个向量\n",
    "def mean_strategy(action):\n",
    "    assert len(action) > 0\n",
    "    return sum(action) / len(action)\n",
    "\n",
    "\n",
    "def weight_strategy(action, weight=None):\n",
    "    assert len(action) > 0\n",
    "    if weight is None:\n",
    "        weight = np.array([1/len(action)] * len(action))\n",
    "    \n",
    "    assert len(weight) == len(action)\n",
    "    act = np.array(action)\n",
    "    w = act * weight\n",
    "    \n",
    "    return sum(w)\n",
    "    \n",
    "\n",
    "def cal_context(actions, embeds, strategy, **kwargs):\n",
    "    \"\"\"\n",
    "    根据交互行为，生成上下文向量\n",
    "    \"\"\"\n",
    "    context = None\n",
    "    w = list(map(lambda x: strategy(x, **kwargs), actions))\n",
    "    z = sum(w)\n",
    "    \n",
    "    embs = np.array(embeds)\n",
    "    w = np.array(w)\n",
    "    w = w.reshape((len(w), 1))\n",
    "    w_embs = np.multiply(embs, w).sum(axis=0)\n",
    "    if z != 0:\n",
    "        w_embs = w_embs / z\n",
    "    \n",
    "    return w_embs\n",
    "\n",
    "behaviors = ['is_watch', 'is_share', 'is_collect', 'is_comment', 'watch_label']\n",
    "# emb_cols = ['desc_0', 'desc_3', 'desc_4', 'desc_8', 'desc_9', 'tags_0', 'tags_3', 'tags_4', 'tags_6', 'tags_8', \n",
    "#             'class_0', 'class_2', 'class_5', 'class_8', 'da_0', 'da_1', 'da_2', 'da_3', 'da_4']\n",
    "behavior_weights = [0.05, 0.3, 0.3, 0.2, .15]\n",
    "def apply_one_user_one_day(df, video_features, emb_cols=None, strategy=mean_strategy):\n",
    "    actions = df[behaviors].astype(np.uint8).values\n",
    "    vids = df['video_id']\n",
    "    \n",
    "    assert video_features.key and video_features.key[0] == 'video_id'\n",
    "    if emb_cols is None:\n",
    "        emb_cols = video_features.names\n",
    "    embs = video_features[vids, emb_cols]\n",
    "#     print(actions)\n",
    "    context = cal_context(actions, embs, weight_strategy, weight=behavior_weights)\n",
    "#     print(context)\n",
    "    return context\n",
    "\n",
    "\n",
    "def select_emb_cols_by_variance(video_features, threshold=0.015):\n",
    "    exclude_cols = ['video_id', 'video_name', 'video_release_year', 'video_release_month', 'video_release_day', 'video_duration']\n",
    "    stds = list(video_features.sd().to_pandas().to_dict(orient='records')[0].items())\n",
    "    \n",
    "    stds = list(filter(lambda x: x[0] not in exclude_cols, stds))\n",
    "    varis = list(map(lambda x: (x[0], x[1]**2), stds))\n",
    "\n",
    "    emb_cols = list(filter(lambda x: x[1] > threshold, varis))\n",
    "    emb_cols = [e[0] for e in emb_cols]\n",
    "    return emb_cols"
   ]
  },
  {
   "cell_type": "code",
   "execution_count": 131,
   "metadata": {},
   "outputs": [
    {
     "name": "stdout",
     "output_type": "stream",
     "text": [
      "[[0.6]\n",
      " [0.6]]\n"
     ]
    },
    {
     "data": {
      "text/plain": [
       "array([1. , 2. , 2. , 2.5])"
      ]
     },
     "execution_count": 131,
     "metadata": {},
     "output_type": "execute_result"
    }
   ],
   "source": [
    "actions = [[0, 1, 0, 1], [0, 1, 0, 1]]\n",
    "embeds = [[1,2,3,4], [1, 2,1, 1]]\n",
    "kwargs = {'weight': [0.1, 0.2, 0.3, 0.4]}\n",
    "cal_context(actions, embeds, weight_strategy, **kwargs)"
   ]
  },
  {
   "cell_type": "code",
   "execution_count": 4,
   "metadata": {
    "collapsed": true,
    "jupyter": {
     "outputs_hidden": true
    },
    "tags": []
   },
   "outputs": [
    {
     "data": {
      "text/plain": [
       "{'20210502': 'part-00000-d412c602-2f4a-4649-a81f-e56435dd49fd-c000.csv',\n",
       " '20210423': 'part-00000-9809d73a-a55f-4ac2-a59b-9b83cbc5028e-c000.csv',\n",
       " '20210424': 'part-00000-225e55dc-4504-4c14-b289-322312355b2b-c000.csv',\n",
       " '20210421': 'part-00000-c15f29da-6b1e-48c0-b7d0-2cd560998c3f-c000.csv',\n",
       " '20210430': 'part-00000-2da4c3a0-2fcc-422d-8b7c-48940da315ad-c000.csv',\n",
       " '20210427': 'part-00000-9132ab46-51c3-4cc3-97de-e7ad5312b852-c000.csv',\n",
       " '20210419': 'part-00000-236b99d5-456a-42b2-bd8d-3cbd61d21cc6-c000.csv',\n",
       " '20210428': 'part-00000-fc8c8ca1-e655-4a45-b179-c8d9e2dd804c-c000.csv',\n",
       " '20210429': 'part-00000-c5dbd994-54d7-4734-adea-0f22d75b23d3-c000.csv',\n",
       " '20210422': 'part-00000-3d97d0f8-2572-45e6-bb60-f367c97e7870-c000.csv',\n",
       " '20210425': 'part-00000-9d23862b-6bbf-48c6-a598-572df1359737-c000.csv',\n",
       " '20210501': 'part-00000-56b6f0ff-57b8-41ac-96ec-c20e3306297e-c000.csv',\n",
       " '20210426': 'part-00000-0d315342-3ba7-4727-b4a2-123a1a004786-c000.csv',\n",
       " '20210420': 'part-00000-aad75aa4-b60b-4f5b-8def-c4d60f391fae-c000.csv'}"
      ]
     },
     "execution_count": 4,
     "metadata": {},
     "output_type": "execute_result"
    }
   ],
   "source": [
    "action_files"
   ]
  },
  {
   "cell_type": "code",
   "execution_count": 31,
   "metadata": {},
   "outputs": [],
   "source": [
    "i = action_dirs[0]\n",
    "tab1 = dt.fread(os.path.join(train_data_dir, f\"history_behavior_data/{i}/{action_files[i]}\"), sep=\"\\t\")"
   ]
  },
  {
   "cell_type": "code",
   "execution_count": 32,
   "metadata": {},
   "outputs": [],
   "source": [
    "del tab1[:, 'watch_start_time']"
   ]
  },
  {
   "cell_type": "code",
   "execution_count": 33,
   "metadata": {},
   "outputs": [],
   "source": [
    "af1 = tab1.to_pandas()"
   ]
  },
  {
   "cell_type": "code",
   "execution_count": 28,
   "metadata": {},
   "outputs": [],
   "source": [
    "g = af1.groupby('user_id')"
   ]
  },
  {
   "cell_type": "code",
   "execution_count": 60,
   "metadata": {},
   "outputs": [],
   "source": [
    "video = dt.fread(os.path.join(train_data_dir, \"video_features_data/video_features.jay\"))"
   ]
  },
  {
   "cell_type": "code",
   "execution_count": 144,
   "metadata": {},
   "outputs": [],
   "source": [
    "video.key = 'video_id'"
   ]
  },
  {
   "cell_type": "code",
   "execution_count": 175,
   "metadata": {
    "collapsed": true,
    "jupyter": {
     "outputs_hidden": true
    },
    "tags": []
   },
   "outputs": [
    {
     "data": {
      "text/plain": [
       "['desc_0',\n",
       " 'desc_3',\n",
       " 'desc_4',\n",
       " 'desc_8',\n",
       " 'desc_9',\n",
       " 'tags_0',\n",
       " 'tags_3',\n",
       " 'tags_4',\n",
       " 'tags_6',\n",
       " 'tags_8',\n",
       " 'class_0',\n",
       " 'class_2',\n",
       " 'class_5',\n",
       " 'class_8',\n",
       " 'da_0',\n",
       " 'da_1',\n",
       " 'da_2',\n",
       " 'da_3',\n",
       " 'da_4']"
      ]
     },
     "execution_count": 175,
     "metadata": {},
     "output_type": "execute_result"
    }
   ],
   "source": [
    "emb_cols = select_emb_cols_by_variance(video, threshold=0.015)\n",
    "emb_cols"
   ]
  },
  {
   "cell_type": "code",
   "execution_count": 176,
   "metadata": {
    "tags": []
   },
   "outputs": [
    {
     "name": "stdout",
     "output_type": "stream",
     "text": [
      "CPU times: user 1d 20h 16min 35s, sys: 3min 39s, total: 1d 20h 20min 15s\n",
      "Wall time: 1h 58min 19s\n"
     ]
    }
   ],
   "source": [
    "%%time\n",
    "context1 = g.apply(lambda x: apply_one_user_one_day(x, video, emb_cols=emb_cols))"
   ]
  },
  {
   "cell_type": "code",
   "execution_count": 246,
   "metadata": {},
   "outputs": [
    {
     "data": {
      "text/plain": [
       "(664594, 19)"
      ]
     },
     "execution_count": 246,
     "metadata": {},
     "output_type": "execute_result"
    }
   ],
   "source": [
    "np.array(context1.values.tolist()).shape"
   ]
  },
  {
   "cell_type": "code",
   "execution_count": 205,
   "metadata": {},
   "outputs": [],
   "source": [
    "uids = context1.index\n",
    "contexts = context1.values\n",
    "contexts = np.array(contexts.tolist())"
   ]
  },
  {
   "cell_type": "code",
   "execution_count": 214,
   "metadata": {
    "tags": []
   },
   "outputs": [
    {
     "data": {
      "text/html": [
       "<div>\n",
       "<style scoped>\n",
       "    .dataframe tbody tr th:only-of-type {\n",
       "        vertical-align: middle;\n",
       "    }\n",
       "\n",
       "    .dataframe tbody tr th {\n",
       "        vertical-align: top;\n",
       "    }\n",
       "\n",
       "    .dataframe thead th {\n",
       "        text-align: right;\n",
       "    }\n",
       "</style>\n",
       "<table border=\"1\" class=\"dataframe\">\n",
       "  <thead>\n",
       "    <tr style=\"text-align: right;\">\n",
       "      <th></th>\n",
       "      <th>desc_0</th>\n",
       "      <th>desc_3</th>\n",
       "      <th>desc_4</th>\n",
       "      <th>desc_8</th>\n",
       "      <th>desc_9</th>\n",
       "      <th>tags_0</th>\n",
       "      <th>tags_3</th>\n",
       "      <th>tags_4</th>\n",
       "      <th>tags_6</th>\n",
       "      <th>tags_8</th>\n",
       "      <th>class_0</th>\n",
       "      <th>class_2</th>\n",
       "      <th>class_5</th>\n",
       "      <th>class_8</th>\n",
       "      <th>da_0</th>\n",
       "      <th>da_1</th>\n",
       "      <th>da_2</th>\n",
       "      <th>da_3</th>\n",
       "      <th>da_4</th>\n",
       "      <th>user_id</th>\n",
       "    </tr>\n",
       "  </thead>\n",
       "  <tbody>\n",
       "    <tr>\n",
       "      <th>0</th>\n",
       "      <td>0.029417</td>\n",
       "      <td>0.029415</td>\n",
       "      <td>0.029416</td>\n",
       "      <td>0.029418</td>\n",
       "      <td>0.735253</td>\n",
       "      <td>0.100000</td>\n",
       "      <td>0.100000</td>\n",
       "      <td>0.100000</td>\n",
       "      <td>0.100000</td>\n",
       "      <td>0.100000</td>\n",
       "      <td>0.315723</td>\n",
       "      <td>0.041771</td>\n",
       "      <td>0.041771</td>\n",
       "      <td>0.041778</td>\n",
       "      <td>0.324958</td>\n",
       "      <td>0.083541</td>\n",
       "      <td>0.083541</td>\n",
       "      <td>0.083541</td>\n",
       "      <td>0.424418</td>\n",
       "      <td>2</td>\n",
       "    </tr>\n",
       "    <tr>\n",
       "      <th>1</th>\n",
       "      <td>0.000000</td>\n",
       "      <td>0.000000</td>\n",
       "      <td>0.000000</td>\n",
       "      <td>0.000000</td>\n",
       "      <td>0.000000</td>\n",
       "      <td>0.000000</td>\n",
       "      <td>0.000000</td>\n",
       "      <td>0.000000</td>\n",
       "      <td>0.000000</td>\n",
       "      <td>0.000000</td>\n",
       "      <td>0.000000</td>\n",
       "      <td>0.000000</td>\n",
       "      <td>0.000000</td>\n",
       "      <td>0.000000</td>\n",
       "      <td>0.000000</td>\n",
       "      <td>0.000000</td>\n",
       "      <td>0.000000</td>\n",
       "      <td>0.000000</td>\n",
       "      <td>0.000000</td>\n",
       "      <td>15</td>\n",
       "    </tr>\n",
       "    <tr>\n",
       "      <th>2</th>\n",
       "      <td>0.000000</td>\n",
       "      <td>0.000000</td>\n",
       "      <td>0.000000</td>\n",
       "      <td>0.000000</td>\n",
       "      <td>0.000000</td>\n",
       "      <td>0.000000</td>\n",
       "      <td>0.000000</td>\n",
       "      <td>0.000000</td>\n",
       "      <td>0.000000</td>\n",
       "      <td>0.000000</td>\n",
       "      <td>0.000000</td>\n",
       "      <td>0.000000</td>\n",
       "      <td>0.000000</td>\n",
       "      <td>0.000000</td>\n",
       "      <td>0.000000</td>\n",
       "      <td>0.000000</td>\n",
       "      <td>0.000000</td>\n",
       "      <td>0.000000</td>\n",
       "      <td>0.000000</td>\n",
       "      <td>19</td>\n",
       "    </tr>\n",
       "    <tr>\n",
       "      <th>3</th>\n",
       "      <td>0.000000</td>\n",
       "      <td>0.000000</td>\n",
       "      <td>0.000000</td>\n",
       "      <td>0.000000</td>\n",
       "      <td>0.000000</td>\n",
       "      <td>0.000000</td>\n",
       "      <td>0.000000</td>\n",
       "      <td>0.000000</td>\n",
       "      <td>0.000000</td>\n",
       "      <td>0.000000</td>\n",
       "      <td>0.000000</td>\n",
       "      <td>0.000000</td>\n",
       "      <td>0.000000</td>\n",
       "      <td>0.000000</td>\n",
       "      <td>0.000000</td>\n",
       "      <td>0.000000</td>\n",
       "      <td>0.000000</td>\n",
       "      <td>0.000000</td>\n",
       "      <td>0.000000</td>\n",
       "      <td>38</td>\n",
       "    </tr>\n",
       "    <tr>\n",
       "      <th>4</th>\n",
       "      <td>0.000000</td>\n",
       "      <td>0.000000</td>\n",
       "      <td>0.000000</td>\n",
       "      <td>0.000000</td>\n",
       "      <td>0.000000</td>\n",
       "      <td>0.000000</td>\n",
       "      <td>0.000000</td>\n",
       "      <td>0.000000</td>\n",
       "      <td>0.000000</td>\n",
       "      <td>0.000000</td>\n",
       "      <td>0.000000</td>\n",
       "      <td>0.000000</td>\n",
       "      <td>0.000000</td>\n",
       "      <td>0.000000</td>\n",
       "      <td>0.000000</td>\n",
       "      <td>0.000000</td>\n",
       "      <td>0.000000</td>\n",
       "      <td>0.000000</td>\n",
       "      <td>0.000000</td>\n",
       "      <td>43</td>\n",
       "    </tr>\n",
       "    <tr>\n",
       "      <th>...</th>\n",
       "      <td>...</td>\n",
       "      <td>...</td>\n",
       "      <td>...</td>\n",
       "      <td>...</td>\n",
       "      <td>...</td>\n",
       "      <td>...</td>\n",
       "      <td>...</td>\n",
       "      <td>...</td>\n",
       "      <td>...</td>\n",
       "      <td>...</td>\n",
       "      <td>...</td>\n",
       "      <td>...</td>\n",
       "      <td>...</td>\n",
       "      <td>...</td>\n",
       "      <td>...</td>\n",
       "      <td>...</td>\n",
       "      <td>...</td>\n",
       "      <td>...</td>\n",
       "      <td>...</td>\n",
       "      <td>...</td>\n",
       "    </tr>\n",
       "    <tr>\n",
       "      <th>664589</th>\n",
       "      <td>0.796570</td>\n",
       "      <td>0.016869</td>\n",
       "      <td>0.016871</td>\n",
       "      <td>0.068302</td>\n",
       "      <td>0.016957</td>\n",
       "      <td>0.037248</td>\n",
       "      <td>0.189083</td>\n",
       "      <td>0.037245</td>\n",
       "      <td>0.239687</td>\n",
       "      <td>0.037245</td>\n",
       "      <td>0.037486</td>\n",
       "      <td>0.037501</td>\n",
       "      <td>0.304189</td>\n",
       "      <td>0.395917</td>\n",
       "      <td>0.075851</td>\n",
       "      <td>0.075966</td>\n",
       "      <td>0.388781</td>\n",
       "      <td>0.383735</td>\n",
       "      <td>0.075666</td>\n",
       "      <td>5910767</td>\n",
       "    </tr>\n",
       "    <tr>\n",
       "      <th>664590</th>\n",
       "      <td>0.796570</td>\n",
       "      <td>0.016869</td>\n",
       "      <td>0.016871</td>\n",
       "      <td>0.068302</td>\n",
       "      <td>0.016957</td>\n",
       "      <td>0.037248</td>\n",
       "      <td>0.189083</td>\n",
       "      <td>0.037245</td>\n",
       "      <td>0.239687</td>\n",
       "      <td>0.037245</td>\n",
       "      <td>0.037486</td>\n",
       "      <td>0.037501</td>\n",
       "      <td>0.304189</td>\n",
       "      <td>0.395917</td>\n",
       "      <td>0.075851</td>\n",
       "      <td>0.075966</td>\n",
       "      <td>0.388781</td>\n",
       "      <td>0.383735</td>\n",
       "      <td>0.075666</td>\n",
       "      <td>5910778</td>\n",
       "    </tr>\n",
       "    <tr>\n",
       "      <th>664591</th>\n",
       "      <td>0.000000</td>\n",
       "      <td>0.000000</td>\n",
       "      <td>0.000000</td>\n",
       "      <td>0.000000</td>\n",
       "      <td>0.000000</td>\n",
       "      <td>0.000000</td>\n",
       "      <td>0.000000</td>\n",
       "      <td>0.000000</td>\n",
       "      <td>0.000000</td>\n",
       "      <td>0.000000</td>\n",
       "      <td>0.000000</td>\n",
       "      <td>0.000000</td>\n",
       "      <td>0.000000</td>\n",
       "      <td>0.000000</td>\n",
       "      <td>0.000000</td>\n",
       "      <td>0.000000</td>\n",
       "      <td>0.000000</td>\n",
       "      <td>0.000000</td>\n",
       "      <td>0.000000</td>\n",
       "      <td>5910789</td>\n",
       "    </tr>\n",
       "    <tr>\n",
       "      <th>664592</th>\n",
       "      <td>0.000000</td>\n",
       "      <td>0.000000</td>\n",
       "      <td>0.000000</td>\n",
       "      <td>0.000000</td>\n",
       "      <td>0.000000</td>\n",
       "      <td>0.000000</td>\n",
       "      <td>0.000000</td>\n",
       "      <td>0.000000</td>\n",
       "      <td>0.000000</td>\n",
       "      <td>0.000000</td>\n",
       "      <td>0.000000</td>\n",
       "      <td>0.000000</td>\n",
       "      <td>0.000000</td>\n",
       "      <td>0.000000</td>\n",
       "      <td>0.000000</td>\n",
       "      <td>0.000000</td>\n",
       "      <td>0.000000</td>\n",
       "      <td>0.000000</td>\n",
       "      <td>0.000000</td>\n",
       "      <td>5910794</td>\n",
       "    </tr>\n",
       "    <tr>\n",
       "      <th>664593</th>\n",
       "      <td>0.029045</td>\n",
       "      <td>0.029036</td>\n",
       "      <td>0.428919</td>\n",
       "      <td>0.338745</td>\n",
       "      <td>0.029043</td>\n",
       "      <td>0.033664</td>\n",
       "      <td>0.033664</td>\n",
       "      <td>0.340357</td>\n",
       "      <td>0.033664</td>\n",
       "      <td>0.390328</td>\n",
       "      <td>0.050004</td>\n",
       "      <td>0.549971</td>\n",
       "      <td>0.050005</td>\n",
       "      <td>0.050004</td>\n",
       "      <td>0.100892</td>\n",
       "      <td>0.100906</td>\n",
       "      <td>0.597238</td>\n",
       "      <td>0.100963</td>\n",
       "      <td>0.100001</td>\n",
       "      <td>5910797</td>\n",
       "    </tr>\n",
       "  </tbody>\n",
       "</table>\n",
       "<p>664594 rows × 20 columns</p>\n",
       "</div>"
      ],
      "text/plain": [
       "          desc_0    desc_3    desc_4    desc_8    desc_9    tags_0    tags_3  \\\n",
       "0       0.029417  0.029415  0.029416  0.029418  0.735253  0.100000  0.100000   \n",
       "1       0.000000  0.000000  0.000000  0.000000  0.000000  0.000000  0.000000   \n",
       "2       0.000000  0.000000  0.000000  0.000000  0.000000  0.000000  0.000000   \n",
       "3       0.000000  0.000000  0.000000  0.000000  0.000000  0.000000  0.000000   \n",
       "4       0.000000  0.000000  0.000000  0.000000  0.000000  0.000000  0.000000   \n",
       "...          ...       ...       ...       ...       ...       ...       ...   \n",
       "664589  0.796570  0.016869  0.016871  0.068302  0.016957  0.037248  0.189083   \n",
       "664590  0.796570  0.016869  0.016871  0.068302  0.016957  0.037248  0.189083   \n",
       "664591  0.000000  0.000000  0.000000  0.000000  0.000000  0.000000  0.000000   \n",
       "664592  0.000000  0.000000  0.000000  0.000000  0.000000  0.000000  0.000000   \n",
       "664593  0.029045  0.029036  0.428919  0.338745  0.029043  0.033664  0.033664   \n",
       "\n",
       "          tags_4    tags_6    tags_8   class_0   class_2   class_5   class_8  \\\n",
       "0       0.100000  0.100000  0.100000  0.315723  0.041771  0.041771  0.041778   \n",
       "1       0.000000  0.000000  0.000000  0.000000  0.000000  0.000000  0.000000   \n",
       "2       0.000000  0.000000  0.000000  0.000000  0.000000  0.000000  0.000000   \n",
       "3       0.000000  0.000000  0.000000  0.000000  0.000000  0.000000  0.000000   \n",
       "4       0.000000  0.000000  0.000000  0.000000  0.000000  0.000000  0.000000   \n",
       "...          ...       ...       ...       ...       ...       ...       ...   \n",
       "664589  0.037245  0.239687  0.037245  0.037486  0.037501  0.304189  0.395917   \n",
       "664590  0.037245  0.239687  0.037245  0.037486  0.037501  0.304189  0.395917   \n",
       "664591  0.000000  0.000000  0.000000  0.000000  0.000000  0.000000  0.000000   \n",
       "664592  0.000000  0.000000  0.000000  0.000000  0.000000  0.000000  0.000000   \n",
       "664593  0.340357  0.033664  0.390328  0.050004  0.549971  0.050005  0.050004   \n",
       "\n",
       "            da_0      da_1      da_2      da_3      da_4  user_id  \n",
       "0       0.324958  0.083541  0.083541  0.083541  0.424418        2  \n",
       "1       0.000000  0.000000  0.000000  0.000000  0.000000       15  \n",
       "2       0.000000  0.000000  0.000000  0.000000  0.000000       19  \n",
       "3       0.000000  0.000000  0.000000  0.000000  0.000000       38  \n",
       "4       0.000000  0.000000  0.000000  0.000000  0.000000       43  \n",
       "...          ...       ...       ...       ...       ...      ...  \n",
       "664589  0.075851  0.075966  0.388781  0.383735  0.075666  5910767  \n",
       "664590  0.075851  0.075966  0.388781  0.383735  0.075666  5910778  \n",
       "664591  0.000000  0.000000  0.000000  0.000000  0.000000  5910789  \n",
       "664592  0.000000  0.000000  0.000000  0.000000  0.000000  5910794  \n",
       "664593  0.100892  0.100906  0.597238  0.100963  0.100001  5910797  \n",
       "\n",
       "[664594 rows x 20 columns]"
      ]
     },
     "execution_count": 214,
     "metadata": {},
     "output_type": "execute_result"
    }
   ],
   "source": [
    "df = pd.DataFrame(contexts, columns=emb_cols)\n",
    "df['user_id'] = uids\n",
    "df"
   ]
  },
  {
   "cell_type": "code",
   "execution_count": 216,
   "metadata": {},
   "outputs": [
    {
     "data": {
      "text/plain": [
       "['20210502',\n",
       " '20210423',\n",
       " '20210424',\n",
       " '20210421',\n",
       " '20210430',\n",
       " '20210427',\n",
       " '20210419',\n",
       " '20210428',\n",
       " '20210429',\n",
       " '20210422',\n",
       " '20210425',\n",
       " '20210501',\n",
       " '20210426',\n",
       " '20210420']"
      ]
     },
     "execution_count": 216,
     "metadata": {},
     "output_type": "execute_result"
    },
    {
     "name": "stdout",
     "output_type": "stream",
     "text": [
      "The history saving thread hit an unexpected error (OperationalError('database is locked')).History will not be written to the database.\n"
     ]
    }
   ],
   "source": [
    "action_dirs"
   ]
  },
  {
   "cell_type": "code",
   "execution_count": 247,
   "metadata": {},
   "outputs": [
    {
     "name": "stdout",
     "output_type": "stream",
     "text": [
      "20210423/part-00000-9809d73a-a55f-4ac2-a59b-9b83cbc5028e-c000.csv processed...\t\t(9990.520050764084)\n",
      "20210424/part-00000-225e55dc-4504-4c14-b289-322312355b2b-c000.csv processed...\t\t(6234.936888933182)\n",
      "20210421/part-00000-c15f29da-6b1e-48c0-b7d0-2cd560998c3f-c000.csv processed...\t\t(1962.8847260475159)\n",
      "20210430/part-00000-2da4c3a0-2fcc-422d-8b7c-48940da315ad-c000.csv processed...\t\t(1743.763418674469)\n",
      "20210427/part-00000-9132ab46-51c3-4cc3-97de-e7ad5312b852-c000.csv processed...\t\t(1212.925900220871)\n",
      "20210419/part-00000-236b99d5-456a-42b2-bd8d-3cbd61d21cc6-c000.csv processed...\t\t(1260.5789487361908)\n",
      "20210428/part-00000-fc8c8ca1-e655-4a45-b179-c8d9e2dd804c-c000.csv processed...\t\t(2153.1079547405243)\n",
      "20210429/part-00000-c5dbd994-54d7-4734-adea-0f22d75b23d3-c000.csv processed...\t\t(4843.6583869457245)\n",
      "20210422/part-00000-3d97d0f8-2572-45e6-bb60-f367c97e7870-c000.csv processed...\t\t(4087.833338737488)\n",
      "20210425/part-00000-9d23862b-6bbf-48c6-a598-572df1359737-c000.csv processed...\t\t(6606.477695465088)\n",
      "20210501/part-00000-56b6f0ff-57b8-41ac-96ec-c20e3306297e-c000.csv processed...\t\t(6883.380467176437)\n",
      "20210426/part-00000-0d315342-3ba7-4727-b4a2-123a1a004786-c000.csv processed...\t\t(5880.851266622543)\n",
      "20210420/part-00000-aad75aa4-b60b-4f5b-8def-c4d60f391fae-c000.csv processed...\t\t(5657.571493864059)\n",
      "CPU times: user 20d 15h 36min 45s, sys: 44min 41s, total: 20d 16h 21min 26s\n",
      "Wall time: 16h 15min 18s\n"
     ]
    }
   ],
   "source": [
    "%%time\n",
    "for d in action_dirs[1:]:\n",
    "    t0 = time()\n",
    "    f = action_files[d]\n",
    "    tab = dt.fread(os.path.join(train_data_dir, f\"history_behavior_data/{d}/{f}\"), sep=\"\\t\")\n",
    "    df = tab.to_pandas()\n",
    "    g = df.groupby('user_id')\n",
    "    context = g.apply(lambda x: apply_one_user_one_day(x, video, emb_cols=emb_cols))\n",
    "    uids = context.index.tolist()\n",
    "    data = context.values\n",
    "    data = np.array(data.tolist())\n",
    "    df = pd.DataFrame(data, columns=emb_cols)\n",
    "    df['user_id'] = uids\n",
    "    tab = dt.Frame(df)\n",
    "    tab.to_jay(os.path.join(train_data_dir, f\"user_context/{d}.jay\"))\n",
    "    print(f\"{d}/{f} processed...\\t\\t({time() - t0})\")\n",
    "    t0 = time()"
   ]
  },
  {
   "cell_type": "code",
   "execution_count": 238,
   "metadata": {},
   "outputs": [
    {
     "data": {
      "text/plain": [
       "(664594, 19)"
      ]
     },
     "execution_count": 238,
     "metadata": {},
     "output_type": "execute_result"
    }
   ],
   "source": [
    "context.shape"
   ]
  },
  {
   "cell_type": "code",
   "execution_count": 236,
   "metadata": {},
   "outputs": [
    {
     "data": {
      "text/html": [
       "<div>\n",
       "<style scoped>\n",
       "    .dataframe tbody tr th:only-of-type {\n",
       "        vertical-align: middle;\n",
       "    }\n",
       "\n",
       "    .dataframe tbody tr th {\n",
       "        vertical-align: top;\n",
       "    }\n",
       "\n",
       "    .dataframe thead th {\n",
       "        text-align: right;\n",
       "    }\n",
       "</style>\n",
       "<table border=\"1\" class=\"dataframe\">\n",
       "  <thead>\n",
       "    <tr style=\"text-align: right;\">\n",
       "      <th></th>\n",
       "      <th>user_id</th>\n",
       "      <th>video_id</th>\n",
       "      <th>is_watch</th>\n",
       "      <th>is_share</th>\n",
       "      <th>is_collect</th>\n",
       "      <th>is_comment</th>\n",
       "      <th>watch_start_time</th>\n",
       "      <th>watch_label</th>\n",
       "      <th>pt_d</th>\n",
       "    </tr>\n",
       "  </thead>\n",
       "  <tbody>\n",
       "    <tr>\n",
       "      <th>0</th>\n",
       "      <td>3382908</td>\n",
       "      <td>44786</td>\n",
       "      <td>False</td>\n",
       "      <td>False</td>\n",
       "      <td>False</td>\n",
       "      <td>False</td>\n",
       "      <td>NaN</td>\n",
       "      <td>0</td>\n",
       "      <td>20210423</td>\n",
       "    </tr>\n",
       "    <tr>\n",
       "      <th>1</th>\n",
       "      <td>3382908</td>\n",
       "      <td>16813</td>\n",
       "      <td>False</td>\n",
       "      <td>False</td>\n",
       "      <td>False</td>\n",
       "      <td>False</td>\n",
       "      <td>NaN</td>\n",
       "      <td>0</td>\n",
       "      <td>20210423</td>\n",
       "    </tr>\n",
       "    <tr>\n",
       "      <th>2</th>\n",
       "      <td>5155013</td>\n",
       "      <td>36965</td>\n",
       "      <td>False</td>\n",
       "      <td>False</td>\n",
       "      <td>False</td>\n",
       "      <td>False</td>\n",
       "      <td>NaN</td>\n",
       "      <td>0</td>\n",
       "      <td>20210423</td>\n",
       "    </tr>\n",
       "    <tr>\n",
       "      <th>3</th>\n",
       "      <td>5155013</td>\n",
       "      <td>12968</td>\n",
       "      <td>False</td>\n",
       "      <td>False</td>\n",
       "      <td>False</td>\n",
       "      <td>False</td>\n",
       "      <td>NaN</td>\n",
       "      <td>0</td>\n",
       "      <td>20210423</td>\n",
       "    </tr>\n",
       "    <tr>\n",
       "      <th>4</th>\n",
       "      <td>5155013</td>\n",
       "      <td>9742</td>\n",
       "      <td>False</td>\n",
       "      <td>False</td>\n",
       "      <td>False</td>\n",
       "      <td>False</td>\n",
       "      <td>NaN</td>\n",
       "      <td>0</td>\n",
       "      <td>20210423</td>\n",
       "    </tr>\n",
       "    <tr>\n",
       "      <th>...</th>\n",
       "      <td>...</td>\n",
       "      <td>...</td>\n",
       "      <td>...</td>\n",
       "      <td>...</td>\n",
       "      <td>...</td>\n",
       "      <td>...</td>\n",
       "      <td>...</td>\n",
       "      <td>...</td>\n",
       "      <td>...</td>\n",
       "    </tr>\n",
       "    <tr>\n",
       "      <th>5900280</th>\n",
       "      <td>1197208</td>\n",
       "      <td>10806</td>\n",
       "      <td>True</td>\n",
       "      <td>False</td>\n",
       "      <td>False</td>\n",
       "      <td>False</td>\n",
       "      <td>2021-04-23</td>\n",
       "      <td>0</td>\n",
       "      <td>20210423</td>\n",
       "    </tr>\n",
       "    <tr>\n",
       "      <th>5900281</th>\n",
       "      <td>1197208</td>\n",
       "      <td>31020</td>\n",
       "      <td>True</td>\n",
       "      <td>False</td>\n",
       "      <td>False</td>\n",
       "      <td>False</td>\n",
       "      <td>2021-04-23</td>\n",
       "      <td>0</td>\n",
       "      <td>20210423</td>\n",
       "    </tr>\n",
       "    <tr>\n",
       "      <th>5900282</th>\n",
       "      <td>1197208</td>\n",
       "      <td>11319</td>\n",
       "      <td>True</td>\n",
       "      <td>False</td>\n",
       "      <td>False</td>\n",
       "      <td>False</td>\n",
       "      <td>2021-04-23</td>\n",
       "      <td>3</td>\n",
       "      <td>20210423</td>\n",
       "    </tr>\n",
       "    <tr>\n",
       "      <th>5900283</th>\n",
       "      <td>1197208</td>\n",
       "      <td>6343</td>\n",
       "      <td>True</td>\n",
       "      <td>False</td>\n",
       "      <td>False</td>\n",
       "      <td>False</td>\n",
       "      <td>2021-04-23</td>\n",
       "      <td>0</td>\n",
       "      <td>20210423</td>\n",
       "    </tr>\n",
       "    <tr>\n",
       "      <th>5900284</th>\n",
       "      <td>1197208</td>\n",
       "      <td>31351</td>\n",
       "      <td>True</td>\n",
       "      <td>False</td>\n",
       "      <td>False</td>\n",
       "      <td>False</td>\n",
       "      <td>2021-04-23</td>\n",
       "      <td>0</td>\n",
       "      <td>20210423</td>\n",
       "    </tr>\n",
       "  </tbody>\n",
       "</table>\n",
       "<p>5900285 rows × 9 columns</p>\n",
       "</div>"
      ],
      "text/plain": [
       "         user_id  video_id  is_watch  is_share  is_collect  is_comment  \\\n",
       "0        3382908     44786     False     False       False       False   \n",
       "1        3382908     16813     False     False       False       False   \n",
       "2        5155013     36965     False     False       False       False   \n",
       "3        5155013     12968     False     False       False       False   \n",
       "4        5155013      9742     False     False       False       False   \n",
       "...          ...       ...       ...       ...         ...         ...   \n",
       "5900280  1197208     10806      True     False       False       False   \n",
       "5900281  1197208     31020      True     False       False       False   \n",
       "5900282  1197208     11319      True     False       False       False   \n",
       "5900283  1197208      6343      True     False       False       False   \n",
       "5900284  1197208     31351      True     False       False       False   \n",
       "\n",
       "        watch_start_time  watch_label      pt_d  \n",
       "0                    NaN            0  20210423  \n",
       "1                    NaN            0  20210423  \n",
       "2                    NaN            0  20210423  \n",
       "3                    NaN            0  20210423  \n",
       "4                    NaN            0  20210423  \n",
       "...                  ...          ...       ...  \n",
       "5900280       2021-04-23            0  20210423  \n",
       "5900281       2021-04-23            0  20210423  \n",
       "5900282       2021-04-23            3  20210423  \n",
       "5900283       2021-04-23            0  20210423  \n",
       "5900284       2021-04-23            0  20210423  \n",
       "\n",
       "[5900285 rows x 9 columns]"
      ]
     },
     "execution_count": 236,
     "metadata": {},
     "output_type": "execute_result"
    }
   ],
   "source": [
    "tdf"
   ]
  },
  {
   "cell_type": "code",
   "execution_count": 248,
   "metadata": {},
   "outputs": [
    {
     "data": {
      "text/html": [
       "<div class='datatable'>\n",
       "  <table class='frame'>\n",
       "  <thead>\n",
       "    <tr class='colnames'><td class='row_index'></td><th>user_id</th><th>video_id</th><th>is_watch</th><th>is_share</th><th>watch_label</th><th>pt_d</th></tr>\n",
       "    <tr class='coltypes'><td class='row_index'></td><td class='int' title='int64'>&#x25AA;&#x25AA;&#x25AA;&#x25AA;&#x25AA;&#x25AA;&#x25AA;&#x25AA;</td><td class='int' title='int64'>&#x25AA;&#x25AA;&#x25AA;&#x25AA;&#x25AA;&#x25AA;&#x25AA;&#x25AA;</td><td class='int' title='int64'>&#x25AA;&#x25AA;&#x25AA;&#x25AA;&#x25AA;&#x25AA;&#x25AA;&#x25AA;</td><td class='int' title='int64'>&#x25AA;&#x25AA;&#x25AA;&#x25AA;&#x25AA;&#x25AA;&#x25AA;&#x25AA;</td><td class='int' title='int64'>&#x25AA;&#x25AA;&#x25AA;&#x25AA;&#x25AA;&#x25AA;&#x25AA;&#x25AA;</td><td class='int' title='int64'>&#x25AA;&#x25AA;&#x25AA;&#x25AA;&#x25AA;&#x25AA;&#x25AA;&#x25AA;</td></tr>\n",
       "  </thead>\n",
       "  <tbody>\n",
       "    <tr><td class='row_index'>0</td><td>4239342</td><td>28149</td><td>1</td><td>0</td><td>2</td><td>20210502</td></tr>\n",
       "    <tr><td class='row_index'>1</td><td>3577036</td><td>115</td><td>1</td><td>0</td><td>0</td><td>20210502</td></tr>\n",
       "    <tr><td class='row_index'>2</td><td>5527504</td><td>3636</td><td>1</td><td>0</td><td>5</td><td>20210502</td></tr>\n",
       "    <tr><td class='row_index'>3</td><td>1117889</td><td>12968</td><td>1</td><td>0</td><td>0</td><td>20210502</td></tr>\n",
       "    <tr><td class='row_index'>4</td><td>1117889</td><td>860</td><td>1</td><td>0</td><td>4</td><td>20210502</td></tr>\n",
       "    <tr><td class='row_index'>5</td><td>1117889</td><td>39046</td><td>1</td><td>0</td><td>1</td><td>20210502</td></tr>\n",
       "    <tr><td class='row_index'>6</td><td>1117889</td><td>6693</td><td>1</td><td>0</td><td>0</td><td>20210502</td></tr>\n",
       "    <tr><td class='row_index'>7</td><td>3463198</td><td>30796</td><td>1</td><td>0</td><td>5</td><td>20210502</td></tr>\n",
       "    <tr><td class='row_index'>8</td><td>3463198</td><td>13511</td><td>1</td><td>0</td><td>0</td><td>20210502</td></tr>\n",
       "    <tr><td class='row_index'>9</td><td>807748</td><td>28149</td><td>1</td><td>0</td><td>0</td><td>20210502</td></tr>\n",
       "    <tr><td class='row_index'>10</td><td>1754365</td><td>23874</td><td>1</td><td>0</td><td>1</td><td>20210502</td></tr>\n",
       "    <tr><td class='row_index'>11</td><td>2494369</td><td>44723</td><td>1</td><td>0</td><td>0</td><td>20210502</td></tr>\n",
       "    <tr><td class='row_index'>12</td><td>4248954</td><td>46495</td><td>1</td><td>0</td><td>0</td><td>20210502</td></tr>\n",
       "    <tr><td class='row_index'>13</td><td>5904239</td><td>28149</td><td>1</td><td>0</td><td>0</td><td>20210502</td></tr>\n",
       "    <tr><td class='row_index'>14</td><td>4203862</td><td>26875</td><td>1</td><td>0</td><td>0</td><td>20210502</td></tr>\n",
       "    <tr><td class='row_index'>&#x22EE;</td><td class='hellipsis'>&#x22EE;</td><td class='hellipsis'>&#x22EE;</td><td class='hellipsis'>&#x22EE;</td><td class='hellipsis'>&#x22EE;</td><td class='hellipsis'>&#x22EE;</td><td class='hellipsis'>&#x22EE;</td></tr>\n",
       "    <tr><td class='row_index'>7,353,019</td><td>1073806</td><td>39040</td><td>1</td><td>0</td><td>0</td><td>20210420</td></tr>\n",
       "    <tr><td class='row_index'>7,353,020</td><td>1073806</td><td>30641</td><td>1</td><td>0</td><td>0</td><td>20210420</td></tr>\n",
       "    <tr><td class='row_index'>7,353,021</td><td>1073806</td><td>29794</td><td>1</td><td>0</td><td>8</td><td>20210420</td></tr>\n",
       "    <tr><td class='row_index'>7,353,022</td><td>1673305</td><td>12968</td><td>1</td><td>0</td><td>0</td><td>20210420</td></tr>\n",
       "    <tr><td class='row_index'>7,353,023</td><td>4806675</td><td>39040</td><td>1</td><td>0</td><td>0</td><td>20210420</td></tr>\n",
       "  </tbody>\n",
       "  </table>\n",
       "  <div class='footer'>\n",
       "    <div class='frame_dimensions'>7,353,024 rows &times; 6 columns</div>\n",
       "  </div>\n",
       "</div>\n"
      ],
      "text/plain": [
       "<Frame#7fa8236fcdb0 7353024x6>"
      ]
     },
     "execution_count": 248,
     "metadata": {},
     "output_type": "execute_result"
    }
   ],
   "source": [
    "all_action = dt.fread(os.path.join(train_data_dir, \"all_actions_with_ptd.jay\"))\n",
    "all_action"
   ]
  },
  {
   "cell_type": "code",
   "execution_count": 266,
   "metadata": {},
   "outputs": [
    {
     "data": {
      "text/html": [
       "<div class='datatable'>\n",
       "  <table class='frame'>\n",
       "  <thead>\n",
       "    <tr class='colnames'><td class='row_index'></td><th>user_id</th></tr>\n",
       "    <tr class='coltypes'><td class='row_index'></td><td class='int' title='int64'>&#x25AA;&#x25AA;&#x25AA;&#x25AA;&#x25AA;&#x25AA;&#x25AA;&#x25AA;</td></tr>\n",
       "  </thead>\n",
       "  <tbody>\n",
       "    <tr><td class='row_index'>0</td><td>2</td></tr>\n",
       "    <tr><td class='row_index'>1</td><td>10</td></tr>\n",
       "    <tr><td class='row_index'>2</td><td>30</td></tr>\n",
       "    <tr><td class='row_index'>3</td><td>43</td></tr>\n",
       "    <tr><td class='row_index'>4</td><td>51</td></tr>\n",
       "    <tr><td class='row_index'>5</td><td>93</td></tr>\n",
       "    <tr><td class='row_index'>6</td><td>114</td></tr>\n",
       "    <tr><td class='row_index'>7</td><td>115</td></tr>\n",
       "    <tr><td class='row_index'>8</td><td>120</td></tr>\n",
       "    <tr><td class='row_index'>9</td><td>124</td></tr>\n",
       "    <tr><td class='row_index'>10</td><td>142</td></tr>\n",
       "    <tr><td class='row_index'>11</td><td>144</td></tr>\n",
       "    <tr><td class='row_index'>12</td><td>157</td></tr>\n",
       "    <tr><td class='row_index'>13</td><td>174</td></tr>\n",
       "    <tr><td class='row_index'>14</td><td>190</td></tr>\n",
       "    <tr><td class='row_index'>&#x22EE;</td><td class='hellipsis'>&#x22EE;</td></tr>\n",
       "    <tr><td class='row_index'>299,426</td><td>5910678</td></tr>\n",
       "    <tr><td class='row_index'>299,427</td><td>5910706</td></tr>\n",
       "    <tr><td class='row_index'>299,428</td><td>5910713</td></tr>\n",
       "    <tr><td class='row_index'>299,429</td><td>5910715</td></tr>\n",
       "    <tr><td class='row_index'>299,430</td><td>5910788</td></tr>\n",
       "  </tbody>\n",
       "  </table>\n",
       "  <div class='footer'>\n",
       "    <div class='frame_dimensions'>299,431 rows &times; 1 column</div>\n",
       "  </div>\n",
       "</div>\n"
      ],
      "text/plain": [
       "<Frame#7fa97063c390 299431x1>"
      ]
     },
     "execution_count": 266,
     "metadata": {},
     "output_type": "execute_result"
    }
   ],
   "source": [
    "dt.unique(all_action[dt.f.pt_d == 20210419, 'user_id'])"
   ]
  },
  {
   "cell_type": "code",
   "execution_count": 275,
   "metadata": {},
   "outputs": [],
   "source": [
    "tab.cbind(dt.Frame({'pt_d': [20210420] * tab.shape[0]}))"
   ]
  },
  {
   "cell_type": "code",
   "execution_count": 277,
   "metadata": {},
   "outputs": [],
   "source": [
    "tab.key = ('user_id', 'pt_d')"
   ]
  },
  {
   "cell_type": "code",
   "execution_count": 282,
   "metadata": {},
   "outputs": [],
   "source": [
    "tmp = all_action[:, :, dt.join(tab)]"
   ]
  },
  {
   "cell_type": "code",
   "execution_count": 284,
   "metadata": {},
   "outputs": [
    {
     "data": {
      "text/html": [
       "<div class='datatable'>\n",
       "  <table class='frame'>\n",
       "  <thead>\n",
       "    <tr class='colnames'><td class='row_index'></td><th>user_id</th><th>video_id</th><th>is_watch</th><th>is_share</th><th>watch_label</th><th>pt_d</th><th>desc_0</th><th>desc_3</th><th>desc_4</th><th>desc_8</th><th class='vellipsis'>&hellip;</th><th>da_0</th><th>da_1</th><th>da_2</th><th>da_3</th><th>da_4</th></tr>\n",
       "    <tr class='coltypes'><td class='row_index'></td><td class='int' title='int64'>&#x25AA;&#x25AA;&#x25AA;&#x25AA;&#x25AA;&#x25AA;&#x25AA;&#x25AA;</td><td class='int' title='int64'>&#x25AA;&#x25AA;&#x25AA;&#x25AA;&#x25AA;&#x25AA;&#x25AA;&#x25AA;</td><td class='int' title='int64'>&#x25AA;&#x25AA;&#x25AA;&#x25AA;&#x25AA;&#x25AA;&#x25AA;&#x25AA;</td><td class='int' title='int64'>&#x25AA;&#x25AA;&#x25AA;&#x25AA;&#x25AA;&#x25AA;&#x25AA;&#x25AA;</td><td class='int' title='int64'>&#x25AA;&#x25AA;&#x25AA;&#x25AA;&#x25AA;&#x25AA;&#x25AA;&#x25AA;</td><td class='int' title='int64'>&#x25AA;&#x25AA;&#x25AA;&#x25AA;&#x25AA;&#x25AA;&#x25AA;&#x25AA;</td><td class='float' title='float64'>&#x25AA;&#x25AA;&#x25AA;&#x25AA;&#x25AA;&#x25AA;&#x25AA;&#x25AA;</td><td class='float' title='float64'>&#x25AA;&#x25AA;&#x25AA;&#x25AA;&#x25AA;&#x25AA;&#x25AA;&#x25AA;</td><td class='float' title='float64'>&#x25AA;&#x25AA;&#x25AA;&#x25AA;&#x25AA;&#x25AA;&#x25AA;&#x25AA;</td><td class='float' title='float64'>&#x25AA;&#x25AA;&#x25AA;&#x25AA;&#x25AA;&#x25AA;&#x25AA;&#x25AA;</td><td></td><td class='float' title='float64'>&#x25AA;&#x25AA;&#x25AA;&#x25AA;&#x25AA;&#x25AA;&#x25AA;&#x25AA;</td><td class='float' title='float64'>&#x25AA;&#x25AA;&#x25AA;&#x25AA;&#x25AA;&#x25AA;&#x25AA;&#x25AA;</td><td class='float' title='float64'>&#x25AA;&#x25AA;&#x25AA;&#x25AA;&#x25AA;&#x25AA;&#x25AA;&#x25AA;</td><td class='float' title='float64'>&#x25AA;&#x25AA;&#x25AA;&#x25AA;&#x25AA;&#x25AA;&#x25AA;&#x25AA;</td><td class='float' title='float64'>&#x25AA;&#x25AA;&#x25AA;&#x25AA;&#x25AA;&#x25AA;&#x25AA;&#x25AA;</td></tr>\n",
       "  </thead>\n",
       "  <tbody>\n",
       "    <tr><td class='row_index'>0</td><td>1628547</td><td>6693</td><td>1</td><td>0</td><td>0</td><td>20210420</td><td>0.0324835</td><td>0.0324818</td><td>0.0324878</td><td>0.0324872</td><td class=vellipsis>&hellip;</td><td>0.238563</td><td>0.0737447</td><td>0.0737447</td><td>0.0737447</td><td>0.540203</td></tr>\n",
       "    <tr><td class='row_index'>1</td><td>1163144</td><td>17311</td><td>1</td><td>0</td><td>0</td><td>20210420</td><td>0.0274978</td><td>0.0275037</td><td>0.0275049</td><td>0.507654</td><td class=vellipsis>&hellip;</td><td>0.649882</td><td>0.0841381</td><td>0.0873212</td><td>0.0946125</td><td>0.0840458</td></tr>\n",
       "    <tr><td class='row_index'>2</td><td>1163144</td><td>22598</td><td>1</td><td>0</td><td>9</td><td>20210420</td><td>0.0274978</td><td>0.0275037</td><td>0.0275049</td><td>0.507654</td><td class=vellipsis>&hellip;</td><td>0.649882</td><td>0.0841381</td><td>0.0873212</td><td>0.0946125</td><td>0.0840458</td></tr>\n",
       "    <tr><td class='row_index'>3</td><td>376022</td><td>9994</td><td>1</td><td>0</td><td>1</td><td>20210420</td><td>0.0266068</td><td>0.0265962</td><td>0.0266032</td><td>0.026605</td><td class=vellipsis>&hellip;</td><td>0.0863924</td><td>0.086406</td><td>0.089773</td><td>0.651886</td><td>0.0855428</td></tr>\n",
       "    <tr><td class='row_index'>4</td><td>5897052</td><td>12968</td><td>1</td><td>0</td><td>0</td><td>20210420</td><td>0.350774</td><td>0.0226458</td><td>0.0226486</td><td>0.022647</td><td class=vellipsis>&hellip;</td><td>0.504303</td><td>0.0723026</td><td>0.0705481</td><td>0.0690034</td><td>0.283843</td></tr>\n",
       "    <tr><td class='row_index'>5</td><td>5182275</td><td>27138</td><td>1</td><td>0</td><td>2</td><td>20210420</td><td>0.0256326</td><td>0.0256264</td><td>0.0256326</td><td>0.769342</td><td class=vellipsis>&hellip;</td><td>0.0845231</td><td>0.0850983</td><td>0.661279</td><td>0.0845425</td><td>0.0845573</td></tr>\n",
       "    <tr><td class='row_index'>6</td><td>3457796</td><td>12968</td><td>1</td><td>0</td><td>0</td><td>20210420</td><td>0.350774</td><td>0.0226458</td><td>0.0226486</td><td>0.022647</td><td class=vellipsis>&hellip;</td><td>0.504303</td><td>0.0723026</td><td>0.0705481</td><td>0.0690034</td><td>0.283843</td></tr>\n",
       "    <tr><td class='row_index'>7</td><td>5568235</td><td>12968</td><td>1</td><td>0</td><td>0</td><td>20210420</td><td>0.350774</td><td>0.0226458</td><td>0.0226486</td><td>0.022647</td><td class=vellipsis>&hellip;</td><td>0.504303</td><td>0.0723026</td><td>0.0705481</td><td>0.0690034</td><td>0.283843</td></tr>\n",
       "    <tr><td class='row_index'>8</td><td>5081645</td><td>5239</td><td>1</td><td>0</td><td>5</td><td>20210420</td><td>0.212675</td><td>0.0687802</td><td>0.490904</td><td>0.028394</td><td class=vellipsis>&hellip;</td><td>0.163256</td><td>0.0753263</td><td>0.145666</td><td>0.0739688</td><td>0.541782</td></tr>\n",
       "    <tr><td class='row_index'>9</td><td>5081645</td><td>27010</td><td>1</td><td>0</td><td>2</td><td>20210420</td><td>0.212675</td><td>0.0687802</td><td>0.490904</td><td>0.028394</td><td class=vellipsis>&hellip;</td><td>0.163256</td><td>0.0753263</td><td>0.145666</td><td>0.0739688</td><td>0.541782</td></tr>\n",
       "    <tr><td class='row_index'>10</td><td>2590779</td><td>39040</td><td>1</td><td>0</td><td>0</td><td>20210420</td><td>0.022017</td><td>0.0220078</td><td>0.0220395</td><td>0.0220151</td><td class=vellipsis>&hellip;</td><td>0.346691</td><td>0.0830755</td><td>0.0830755</td><td>0.404082</td><td>0.0830755</td></tr>\n",
       "    <tr><td class='row_index'>11</td><td>3188656</td><td>1863</td><td>1</td><td>0</td><td>0</td><td>20210420</td><td>0.166429</td><td>0.0209244</td><td>0.0536763</td><td>0.175435</td><td class=vellipsis>&hellip;</td><td>0.251061</td><td>0.0795981</td><td>0.311933</td><td>0.20304</td><td>0.154368</td></tr>\n",
       "    <tr><td class='row_index'>12</td><td>3188656</td><td>26923</td><td>1</td><td>0</td><td>0</td><td>20210420</td><td>0.166429</td><td>0.0209244</td><td>0.0536763</td><td>0.175435</td><td class=vellipsis>&hellip;</td><td>0.251061</td><td>0.0795981</td><td>0.311933</td><td>0.20304</td><td>0.154368</td></tr>\n",
       "    <tr><td class='row_index'>13</td><td>3188656</td><td>3547</td><td>1</td><td>0</td><td>0</td><td>20210420</td><td>0.166429</td><td>0.0209244</td><td>0.0536763</td><td>0.175435</td><td class=vellipsis>&hellip;</td><td>0.251061</td><td>0.0795981</td><td>0.311933</td><td>0.20304</td><td>0.154368</td></tr>\n",
       "    <tr><td class='row_index'>14</td><td>3188656</td><td>2773</td><td>1</td><td>0</td><td>1</td><td>20210420</td><td>0.166429</td><td>0.0209244</td><td>0.0536763</td><td>0.175435</td><td class=vellipsis>&hellip;</td><td>0.251061</td><td>0.0795981</td><td>0.311933</td><td>0.20304</td><td>0.154368</td></tr>\n",
       "    <tr><td class='row_index'>&#x22EE;</td><td class='hellipsis'>&#x22EE;</td><td class='hellipsis'>&#x22EE;</td><td class='hellipsis'>&#x22EE;</td><td class='hellipsis'>&#x22EE;</td><td class='hellipsis'>&#x22EE;</td><td class='hellipsis'>&#x22EE;</td><td class='hellipsis'>&#x22EE;</td><td class='hellipsis'>&#x22EE;</td><td class='hellipsis'>&#x22EE;</td><td class='hellipsis'>&#x22EE;</td><td class='hellipsis'>&#x22F1;</td><td class='hellipsis'>&#x22EE;</td><td class='hellipsis'>&#x22EE;</td><td class='hellipsis'>&#x22EE;</td><td class='hellipsis'>&#x22EE;</td><td class='hellipsis'>&#x22EE;</td></tr>\n",
       "    <tr><td class='row_index'>510,398</td><td>1073806</td><td>39040</td><td>1</td><td>0</td><td>0</td><td>20210420</td><td>0.0450444</td><td>0.14353</td><td>0.0272974</td><td>0.0272974</td><td class=vellipsis>&hellip;</td><td>0.119842</td><td>0.0937371</td><td>0.597996</td><td>0.105058</td><td>0.0833673</td></tr>\n",
       "    <tr><td class='row_index'>510,399</td><td>1073806</td><td>30641</td><td>1</td><td>0</td><td>0</td><td>20210420</td><td>0.0450444</td><td>0.14353</td><td>0.0272974</td><td>0.0272974</td><td class=vellipsis>&hellip;</td><td>0.119842</td><td>0.0937371</td><td>0.597996</td><td>0.105058</td><td>0.0833673</td></tr>\n",
       "    <tr><td class='row_index'>510,400</td><td>1073806</td><td>29794</td><td>1</td><td>0</td><td>8</td><td>20210420</td><td>0.0450444</td><td>0.14353</td><td>0.0272974</td><td>0.0272974</td><td class=vellipsis>&hellip;</td><td>0.119842</td><td>0.0937371</td><td>0.597996</td><td>0.105058</td><td>0.0833673</td></tr>\n",
       "    <tr><td class='row_index'>510,401</td><td>1673305</td><td>12968</td><td>1</td><td>0</td><td>0</td><td>20210420</td><td>0.350774</td><td>0.0226458</td><td>0.0226486</td><td>0.022647</td><td class=vellipsis>&hellip;</td><td>0.504303</td><td>0.0723026</td><td>0.0705481</td><td>0.0690034</td><td>0.283843</td></tr>\n",
       "    <tr><td class='row_index'>510,402</td><td>4806675</td><td>39040</td><td>1</td><td>0</td><td>0</td><td>20210420</td><td>0.022017</td><td>0.0220078</td><td>0.0220395</td><td>0.0220151</td><td class=vellipsis>&hellip;</td><td>0.346691</td><td>0.0830755</td><td>0.0830755</td><td>0.404082</td><td>0.0830755</td></tr>\n",
       "  </tbody>\n",
       "  </table>\n",
       "  <div class='footer'>\n",
       "    <div class='frame_dimensions'>510,403 rows &times; 25 columns</div>\n",
       "  </div>\n",
       "</div>\n"
      ],
      "text/plain": [
       "<Frame#7fa7da7ccc30 510403x25>"
      ]
     },
     "execution_count": 284,
     "metadata": {},
     "output_type": "execute_result"
    }
   ],
   "source": [
    "tmp[dt.f.pt_d == 20210420, :]"
   ]
  },
  {
   "cell_type": "code",
   "execution_count": 292,
   "metadata": {},
   "outputs": [
    {
     "data": {
      "text/plain": [
       "[20210419,\n",
       " 20210420,\n",
       " 20210421,\n",
       " 20210422,\n",
       " 20210423,\n",
       " 20210424,\n",
       " 20210425,\n",
       " 20210426,\n",
       " 20210427,\n",
       " 20210428,\n",
       " 20210429,\n",
       " 20210430,\n",
       " 20210501,\n",
       " 20210502]"
      ]
     },
     "execution_count": 292,
     "metadata": {},
     "output_type": "execute_result"
    }
   ],
   "source": [
    "dt.unique(all_action[:, dt.f.pt_d, dt.sort()]).to_pandas()['pt_d'].tolist()"
   ]
  },
  {
   "cell_type": "code",
   "execution_count": 293,
   "metadata": {},
   "outputs": [],
   "source": [
    "pt_d = [20210419, 20210420, 20210421, 20210422, 20210423, 20210424, 20210425, 20210426, 20210427, 20210428, 20210429, 20210430, 20210501, 20210502]"
   ]
  },
  {
   "cell_type": "code",
   "execution_count": 294,
   "metadata": {},
   "outputs": [
    {
     "data": {
      "text/plain": [
       "14"
      ]
     },
     "execution_count": 294,
     "metadata": {},
     "output_type": "execute_result"
    }
   ],
   "source": [
    "context_data_dir = os.path.join(train_data_dir, 'user_context')\n",
    "window_size = 3\n",
    "weight = [.2, .3, .5]\n",
    "for i, date in enumerate(pt_d):\n",
    "    if i < window_size:\n",
    "        start = 0\n",
    "    else:\n",
    "        start = i - window_size\n",
    "    \n",
    "    if i == 0:\n",
    "        process_cold_start(all_action[dt.f.pt_d == date])\n",
    "        continue\n",
    "    end = i - 1\n",
    "    tabs = None\n",
    "    for j, d in enumerate(pt[start: end+1]):\n",
    "        t_tab = dt.fread(os.path.join(context_data_dir, f\"{d}.jay\"))\n",
    "        "
   ]
  },
  {
   "cell_type": "code",
   "execution_count": null,
   "metadata": {},
   "outputs": [],
   "source": []
  }
 ],
 "metadata": {
  "kernelspec": {
   "display_name": "Python 3 (ipykernel)",
   "language": "python",
   "name": "python3"
  },
  "language_info": {
   "codemirror_mode": {
    "name": "ipython",
    "version": 3
   },
   "file_extension": ".py",
   "mimetype": "text/x-python",
   "name": "python",
   "nbconvert_exporter": "python",
   "pygments_lexer": "ipython3",
   "version": "3.8.0"
  }
 },
 "nbformat": 4,
 "nbformat_minor": 4
}
