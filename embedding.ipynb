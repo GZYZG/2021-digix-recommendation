{
 "cells": [
  {
   "cell_type": "code",
   "execution_count": 2,
   "metadata": {},
   "outputs": [
    {
     "data": {
      "text/html": [
       "<style type='text/css'>\n",
       ".datatable table.frame { margin-bottom: 0; }\n",
       ".datatable table.frame thead { border-bottom: none; }\n",
       ".datatable table.frame tr.coltypes td {  color: #FFFFFF;  line-height: 6px;  padding: 0 0.5em;}\n",
       ".datatable .bool    { background: #DDDD99; }\n",
       ".datatable .object  { background: #565656; }\n",
       ".datatable .int     { background: #5D9E5D; }\n",
       ".datatable .float   { background: #4040CC; }\n",
       ".datatable .str     { background: #CC4040; }\n",
       ".datatable .time    { background: #40CC40; }\n",
       ".datatable .row_index {  background: var(--jp-border-color3);  border-right: 1px solid var(--jp-border-color0);  color: var(--jp-ui-font-color3);  font-size: 9px;}\n",
       ".datatable .frame tbody td { text-align: left; }\n",
       ".datatable .frame tr.coltypes .row_index {  background: var(--jp-border-color0);}\n",
       ".datatable th:nth-child(2) { padding-left: 12px; }\n",
       ".datatable .hellipsis {  color: var(--jp-cell-editor-border-color);}\n",
       ".datatable .vellipsis {  background: var(--jp-layout-color0);  color: var(--jp-cell-editor-border-color);}\n",
       ".datatable .na {  color: var(--jp-cell-editor-border-color);  font-size: 80%;}\n",
       ".datatable .sp {  opacity: 0.25;}\n",
       ".datatable .footer { font-size: 9px; }\n",
       ".datatable .frame_dimensions {  background: var(--jp-border-color3);  border-top: 1px solid var(--jp-border-color0);  color: var(--jp-ui-font-color3);  display: inline-block;  opacity: 0.6;  padding: 1px 10px 1px 5px;}\n",
       "</style>\n"
      ],
      "text/plain": [
       "<IPython.core.display.HTML object>"
      ]
     },
     "metadata": {},
     "output_type": "display_data"
    }
   ],
   "source": [
    "import os\n",
    "from time import time\n",
    "import datatable as dt\n",
    "from datatable import f, join, by\n",
    "import pandas as pd\n",
    "import numpy as np\n",
    "import matplotlib.pyplot as plt\n",
    "from datatable import f, by\n",
    "from sklearn.feature_selection import VarianceThreshold, SelectKBest"
   ]
  },
  {
   "cell_type": "code",
   "execution_count": 3,
   "metadata": {},
   "outputs": [
    {
     "name": "stdout",
     "output_type": "stream",
     "text": [
      "['all_actions.npz', 'user_features_data', 'all_actions_with_ptd.npz', 'video_features_data', 'all_actions_with_ptd.jay', 'train.jay', 'all_actions.jay', 'user_context', 'history_behavior_data', 'train.npz', '.ipynb_checkpoints'] \n",
      " ['test.npz', 'test.csv', 'test.jay', '.ipynb_checkpoints']\n"
     ]
    }
   ],
   "source": [
    "base_dir = \"./2021_3_data\"\n",
    "test_data_dir  = os.path.join(base_dir, \"testdata\")\n",
    "train_data_dir = os.path.join(base_dir, \"traindata\")\n",
    "\n",
    "train_dirs = os.listdir(train_data_dir)\n",
    "test_dirs  = os.listdir(test_data_dir)\n",
    "\n",
    "action_dirs = os.listdir(os.path.join(train_data_dir, \"history_behavior_data\"))\n",
    "action_files = {e: os.listdir(os.path.join(train_data_dir, f\"history_behavior_data/{e}\"))[0] for e in action_dirs}\n",
    "print(train_dirs,'\\n', test_dirs)"
   ]
  },
  {
   "cell_type": "code",
   "execution_count": 4,
   "metadata": {},
   "outputs": [],
   "source": [
    "user_df = dt.fread(os.path.join(train_data_dir, \"user_features_data/user_features_data.csv\"), sep='\\t')"
   ]
  },
  {
   "cell_type": "markdown",
   "metadata": {},
   "source": [
    "# random walk\n",
    "- 通过用户的观看记录的随机游走，生成视频的嵌入\n",
    "- 通过视频被用户观看的记录的随机游走，生成用户的嵌入\n",
    "\n",
    "需要考虑以下问题：\n",
    "1. 随机游走序列的时间跨度是十四天还是时间窗口的形式\n",
    "2. 随机游走序列能否覆盖所有用户或所有视频\n",
    "3. "
   ]
  },
  {
   "cell_type": "code",
   "execution_count": 5,
   "metadata": {},
   "outputs": [
    {
     "name": "stdout",
     "output_type": "stream",
     "text": [
      "all history data read ...\n",
      "CPU times: user 2min 13s, sys: 12.3 s, total: 2min 25s\n",
      "Wall time: 28.3 s\n"
     ]
    }
   ],
   "source": [
    "%%time\n",
    "all_df = None  # pd.DataFrame([], columns=['user_id', 'video', 'watch_labe', 'is_share'])\n",
    "\n",
    "for i, d in enumerate(action_dirs):\n",
    "    df = dt.fread(os.path.join(train_data_dir, f\"history_behavior_data/{d}/{action_files[d]}\"), sep=\"\\t\", )\n",
    "#                      columns=['user_id', 'video_id', 'is_watch', 'is_sollect', 'is_comment', 'is_share', 'watch_label', 'pt_d'])\n",
    "    del df[:, 'watch_start_time']\n",
    "    if all_df is None:\n",
    "        all_df = df\n",
    "    else:\n",
    "        all_df.rbind(df, bynames=True)\n",
    "print(f\"all history data read ...\")"
   ]
  },
  {
   "cell_type": "code",
   "execution_count": 6,
   "metadata": {},
   "outputs": [
    {
     "data": {
      "text/plain": [
       "(80276856, 8)"
      ]
     },
     "execution_count": 6,
     "metadata": {},
     "output_type": "execute_result"
    }
   ],
   "source": [
    "all_df.shape"
   ]
  },
  {
   "cell_type": "code",
   "execution_count": 30,
   "metadata": {},
   "outputs": [
    {
     "data": {
      "text/plain": [
       "((3953209, 1), (34218, 1))"
      ]
     },
     "execution_count": 30,
     "metadata": {},
     "output_type": "execute_result"
    }
   ],
   "source": [
    "dt.unique(all_df['user_id']).shape, dt.unique(all_df['video_id']).shape"
   ]
  },
  {
   "cell_type": "code",
   "execution_count": 54,
   "metadata": {},
   "outputs": [
    {
     "data": {
      "text/html": [
       "<div class='datatable'>\n",
       "  <table class='frame'>\n",
       "  <thead>\n",
       "    <tr class='colnames'><td class='row_index'></td><th>count</th></tr>\n",
       "    <tr class='coltypes'><td class='row_index'></td><td class='float' title='float64'>&#x25AA;&#x25AA;&#x25AA;&#x25AA;&#x25AA;&#x25AA;&#x25AA;&#x25AA;</td></tr>\n",
       "  </thead>\n",
       "  <tbody>\n",
       "    <tr><td class='row_index'>0</td><td>20.3068</td></tr>\n",
       "  </tbody>\n",
       "  </table>\n",
       "  <div class='footer'>\n",
       "    <div class='frame_dimensions'>1 row &times; 1 column</div>\n",
       "  </div>\n",
       "</div>\n"
      ],
      "text/plain": [
       "<Frame#1f481c4bbd0 1x1>"
      ]
     },
     "execution_count": 54,
     "metadata": {},
     "output_type": "execute_result"
    }
   ],
   "source": [
    "# 并不是所有的用户都有行为数据，3953209用户有行为数据，每个用户平均有20.03068个视频记录\n",
    "all_df[:, dt.count(), by(\"user_id\")][:, dt.mean(f.count)]"
   ]
  },
  {
   "cell_type": "code",
   "execution_count": 57,
   "metadata": {},
   "outputs": [
    {
     "data": {
      "text/html": [
       "<div class='datatable'>\n",
       "  <table class='frame'>\n",
       "  <thead>\n",
       "    <tr class='colnames'><td class='row_index'></td><th>count</th><th>count.0</th></tr>\n",
       "    <tr class='coltypes'><td class='row_index'></td><td class='int' title='int64'>&#x25AA;&#x25AA;&#x25AA;&#x25AA;&#x25AA;&#x25AA;&#x25AA;&#x25AA;</td><td class='int' title='int64'>&#x25AA;&#x25AA;&#x25AA;&#x25AA;&#x25AA;&#x25AA;&#x25AA;&#x25AA;</td></tr>\n",
       "  </thead>\n",
       "  <tbody>\n",
       "    <tr><td class='row_index'>0</td><td>1</td><td>76</td></tr>\n",
       "  </tbody>\n",
       "  </table>\n",
       "  <div class='footer'>\n",
       "    <div class='frame_dimensions'>1 row &times; 2 columns</div>\n",
       "  </div>\n",
       "</div>\n"
      ],
      "text/plain": [
       "<Frame#1f484f906f0 1x2>"
      ]
     },
     "execution_count": 57,
     "metadata": {},
     "output_type": "execute_result"
    }
   ],
   "source": [
    "# 视频记录次数最少的用户只有 1 次，最多的有 76 次\n",
    "all_df[:, dt.count(), by(\"user_id\")][:,dt.max(f.count), dt.min(f.count)]"
   ]
  },
  {
   "cell_type": "code",
   "execution_count": 61,
   "metadata": {},
   "outputs": [
    {
     "data": {
      "text/html": [
       "<div class='datatable'>\n",
       "  <table class='frame'>\n",
       "  <thead>\n",
       "    <tr class='colnames'><td class='row_index'></td><th>count</th><th>count.0</th></tr>\n",
       "    <tr class='coltypes'><td class='row_index'></td><td class='int' title='int64'>&#x25AA;&#x25AA;&#x25AA;&#x25AA;&#x25AA;&#x25AA;&#x25AA;&#x25AA;</td><td class='int' title='int64'>&#x25AA;&#x25AA;&#x25AA;&#x25AA;&#x25AA;&#x25AA;&#x25AA;&#x25AA;</td></tr>\n",
       "  </thead>\n",
       "  <tbody>\n",
       "    <tr><td class='row_index'>0</td><td>1932565</td><td>963</td></tr>\n",
       "  </tbody>\n",
       "  </table>\n",
       "  <div class='footer'>\n",
       "    <div class='frame_dimensions'>1 row &times; 2 columns</div>\n",
       "  </div>\n",
       "</div>\n"
      ],
      "text/plain": [
       "<Frame#1f484f90d50 1x2>"
      ]
     },
     "execution_count": 61,
     "metadata": {},
     "output_type": "execute_result"
    }
   ],
   "source": [
    "# 出现的视频总数 34218，其中还包括没有在视频特征中出现的视频，每个视频平均出现的次数是 2346.04，最多出现了1932565次，最少出现了 963 次\n",
    "all_df[:, dt.count(), by(\"video_id\")][:, dt.min(f.count), dt.max(f.count)]"
   ]
  },
  {
   "cell_type": "markdown",
   "metadata": {},
   "source": [
    "# 用户上下文\n",
    "为每个用户每天生成一个上下文向量。\n",
    "对于用户$u$，其第$t$天的上下文向量$c_{u, t}$由$u$的$[t-w, t-1]$范围内的交互行为产生，$w$是时间窗口大小。\n",
    "\n",
    "**不能简单的使用视频的特征作为视频的表征。基础特征里有一些特征不适合进行算术运算，有些特征进行算术运算后就失去了原本的含义**\n",
    "目前方法：\n",
    "- 选择一部分列作为视频的表征，基于方差选择\n",
    "- 选择大部分列作为视频特征再进行降维作为视频表征\n",
    "- 深度学习\n",
    "\n",
    "试验后发现，任一天内的大部分用户的上下文不存在，在总的训练数据中，确实上下文的样本超过500w+，总共为750w+。"
   ]
  },
  {
   "cell_type": "code",
   "execution_count": 108,
   "metadata": {},
   "outputs": [],
   "source": [
    "# 每个strategy将一个行为向量转化为一个未归一化的参数\n",
    "# 每个行为向量是一个向量\n",
    "def mean_strategy(action):\n",
    "    assert len(action) > 0\n",
    "    return sum(action) / len(action)\n",
    "\n",
    "\n",
    "def weight_strategy(action, weight=None):\n",
    "    assert len(action) > 0\n",
    "    if weight is None:\n",
    "        weight = np.array([1/len(action)] * len(action))\n",
    "    \n",
    "    assert len(weight) == len(action)\n",
    "    act = np.array(action)\n",
    "    w = act * weight\n",
    "    \n",
    "    return sum(w)\n",
    "    \n",
    "\n",
    "def cal_context(actions, embeds, strategy, **kwargs):\n",
    "    \"\"\"\n",
    "    根据交互行为，生成上下文向量\n",
    "    \"\"\"\n",
    "    context = None\n",
    "    w = list(map(lambda x: strategy(x, **kwargs), actions))\n",
    "    z = sum(w)\n",
    "    \n",
    "    embs = np.array(embeds)\n",
    "    w = np.array(w)\n",
    "    w = w.reshape((len(w), 1))\n",
    "    w_embs = np.multiply(embs, w).sum(axis=0)\n",
    "    if z != 0:\n",
    "        w_embs = w_embs / z\n",
    "    \n",
    "    return w_embs\n",
    "\n",
    "behaviors = ['is_watch', 'is_share', 'is_collect', 'is_comment', 'watch_label']\n",
    "# emb_cols = ['desc_0', 'desc_3', 'desc_4', 'desc_8', 'desc_9', 'tags_0', 'tags_3', 'tags_4', 'tags_6', 'tags_8', \n",
    "#             'class_0', 'class_2', 'class_5', 'class_8', 'da_0', 'da_1', 'da_2', 'da_3', 'da_4']\n",
    "behavior_weights = [0.05, 0.3, 0.3, 0.2, .15]\n",
    "def apply_one_user_one_day(df, video_features, emb_cols=None, strategy=mean_strategy):\n",
    "    actions = df[behaviors].astype(np.uint8).values\n",
    "    vids = df['video_id']\n",
    "    \n",
    "    assert video_features.key and video_features.key[0] == 'video_id'\n",
    "    if emb_cols is None:\n",
    "        emb_cols = video_features.names\n",
    "    embs = video_features[vids, emb_cols]\n",
    "#     print(actions)\n",
    "    context = cal_context(actions, embs, weight_strategy, weight=behavior_weights)\n",
    "#     print(context)\n",
    "    return context\n",
    "\n",
    "\n",
    "def select_emb_cols_by_variance(video_features, threshold=0.015):\n",
    "    exclude_cols = ['video_id', 'video_name', 'video_release_year', 'video_release_month', 'video_release_day', 'video_duration']\n",
    "    stds = list(video_features.sd().to_pandas().to_dict(orient='records')[0].items())\n",
    "    \n",
    "    stds = list(filter(lambda x: x[0] not in exclude_cols, stds))\n",
    "    varis = list(map(lambda x: (x[0], x[1]**2), stds))\n",
    "\n",
    "    emb_cols = list(filter(lambda x: x[1] > threshold, varis))\n",
    "    emb_cols = [e[0] for e in emb_cols]\n",
    "    return emb_cols\n",
    "\n",
    "def process_cold_start(frame, emb_cols):\n",
    "    tmp = dt.Frame(np.zeros(len(frame, len(emb_cols))), names=emb_cols)\n",
    "    tmp.cbind(dt.Frame({'pt_d': [] * tab.shape[0]}))\n",
    "    frame[:,:, dt.join(tmp)]\n",
    "    \n",
    "def null_count(df, axis=0):\n",
    "    null = df.apply(lambda x: sum(x.isnull()), axis=axis)\n",
    "    return null"
   ]
  },
  {
   "cell_type": "code",
   "execution_count": 131,
   "metadata": {},
   "outputs": [
    {
     "name": "stdout",
     "output_type": "stream",
     "text": [
      "[[0.6]\n",
      " [0.6]]\n"
     ]
    },
    {
     "data": {
      "text/plain": [
       "array([1. , 2. , 2. , 2.5])"
      ]
     },
     "execution_count": 131,
     "metadata": {},
     "output_type": "execute_result"
    }
   ],
   "source": [
    "actions = [[0, 1, 0, 1], [0, 1, 0, 1]]\n",
    "embeds = [[1,2,3,4], [1, 2,1, 1]]\n",
    "kwargs = {'weight': [0.1, 0.2, 0.3, 0.4]}\n",
    "cal_context(actions, embeds, weight_strategy, **kwargs)"
   ]
  },
  {
   "cell_type": "code",
   "execution_count": 31,
   "metadata": {},
   "outputs": [],
   "source": [
    "i = action_dirs[0]\n",
    "tab1 = dt.fread(os.path.join(train_data_dir, f\"history_behavior_data/{i}/{action_files[i]}\"), sep=\"\\t\")"
   ]
  },
  {
   "cell_type": "code",
   "execution_count": 32,
   "metadata": {},
   "outputs": [],
   "source": [
    "del tab1[:, 'watch_start_time']"
   ]
  },
  {
   "cell_type": "code",
   "execution_count": 33,
   "metadata": {},
   "outputs": [],
   "source": [
    "af1 = tab1.to_pandas()"
   ]
  },
  {
   "cell_type": "code",
   "execution_count": 28,
   "metadata": {},
   "outputs": [],
   "source": [
    "g = af1.groupby('user_id')"
   ]
  },
  {
   "cell_type": "code",
   "execution_count": 25,
   "metadata": {},
   "outputs": [],
   "source": [
    "video = dt.fread(os.path.join(train_data_dir, \"video_features_data/video_features.jay\"))"
   ]
  },
  {
   "cell_type": "code",
   "execution_count": 26,
   "metadata": {},
   "outputs": [],
   "source": [
    "video.key = 'video_id'"
   ]
  },
  {
   "cell_type": "code",
   "execution_count": 27,
   "metadata": {
    "tags": []
   },
   "outputs": [
    {
     "data": {
      "text/plain": [
       "['desc_0',\n",
       " 'desc_3',\n",
       " 'desc_4',\n",
       " 'desc_8',\n",
       " 'desc_9',\n",
       " 'tags_0',\n",
       " 'tags_3',\n",
       " 'tags_4',\n",
       " 'tags_6',\n",
       " 'tags_8',\n",
       " 'class_0',\n",
       " 'class_2',\n",
       " 'class_5',\n",
       " 'class_8',\n",
       " 'da_0',\n",
       " 'da_1',\n",
       " 'da_2',\n",
       " 'da_3',\n",
       " 'da_4']"
      ]
     },
     "execution_count": 27,
     "metadata": {},
     "output_type": "execute_result"
    }
   ],
   "source": [
    "emb_cols = select_emb_cols_by_variance(video, threshold=0.015)\n",
    "emb_cols"
   ]
  },
  {
   "cell_type": "code",
   "execution_count": 176,
   "metadata": {
    "tags": []
   },
   "outputs": [
    {
     "name": "stdout",
     "output_type": "stream",
     "text": [
      "CPU times: user 1d 20h 16min 35s, sys: 3min 39s, total: 1d 20h 20min 15s\n",
      "Wall time: 1h 58min 19s\n"
     ]
    }
   ],
   "source": [
    "%%time\n",
    "context1 = g.apply(lambda x: apply_one_user_one_day(x, video, emb_cols=emb_cols))"
   ]
  },
  {
   "cell_type": "code",
   "execution_count": 246,
   "metadata": {},
   "outputs": [
    {
     "data": {
      "text/plain": [
       "(664594, 19)"
      ]
     },
     "execution_count": 246,
     "metadata": {},
     "output_type": "execute_result"
    }
   ],
   "source": [
    "np.array(context1.values.tolist()).shape"
   ]
  },
  {
   "cell_type": "code",
   "execution_count": 205,
   "metadata": {},
   "outputs": [],
   "source": [
    "uids = context1.index\n",
    "contexts = context1.values\n",
    "contexts = np.array(contexts.tolist())"
   ]
  },
  {
   "cell_type": "code",
   "execution_count": 214,
   "metadata": {
    "tags": []
   },
   "outputs": [
    {
     "data": {
      "text/html": [
       "<div>\n",
       "<style scoped>\n",
       "    .dataframe tbody tr th:only-of-type {\n",
       "        vertical-align: middle;\n",
       "    }\n",
       "\n",
       "    .dataframe tbody tr th {\n",
       "        vertical-align: top;\n",
       "    }\n",
       "\n",
       "    .dataframe thead th {\n",
       "        text-align: right;\n",
       "    }\n",
       "</style>\n",
       "<table border=\"1\" class=\"dataframe\">\n",
       "  <thead>\n",
       "    <tr style=\"text-align: right;\">\n",
       "      <th></th>\n",
       "      <th>desc_0</th>\n",
       "      <th>desc_3</th>\n",
       "      <th>desc_4</th>\n",
       "      <th>desc_8</th>\n",
       "      <th>desc_9</th>\n",
       "      <th>tags_0</th>\n",
       "      <th>tags_3</th>\n",
       "      <th>tags_4</th>\n",
       "      <th>tags_6</th>\n",
       "      <th>tags_8</th>\n",
       "      <th>class_0</th>\n",
       "      <th>class_2</th>\n",
       "      <th>class_5</th>\n",
       "      <th>class_8</th>\n",
       "      <th>da_0</th>\n",
       "      <th>da_1</th>\n",
       "      <th>da_2</th>\n",
       "      <th>da_3</th>\n",
       "      <th>da_4</th>\n",
       "      <th>user_id</th>\n",
       "    </tr>\n",
       "  </thead>\n",
       "  <tbody>\n",
       "    <tr>\n",
       "      <th>0</th>\n",
       "      <td>0.029417</td>\n",
       "      <td>0.029415</td>\n",
       "      <td>0.029416</td>\n",
       "      <td>0.029418</td>\n",
       "      <td>0.735253</td>\n",
       "      <td>0.100000</td>\n",
       "      <td>0.100000</td>\n",
       "      <td>0.100000</td>\n",
       "      <td>0.100000</td>\n",
       "      <td>0.100000</td>\n",
       "      <td>0.315723</td>\n",
       "      <td>0.041771</td>\n",
       "      <td>0.041771</td>\n",
       "      <td>0.041778</td>\n",
       "      <td>0.324958</td>\n",
       "      <td>0.083541</td>\n",
       "      <td>0.083541</td>\n",
       "      <td>0.083541</td>\n",
       "      <td>0.424418</td>\n",
       "      <td>2</td>\n",
       "    </tr>\n",
       "    <tr>\n",
       "      <th>1</th>\n",
       "      <td>0.000000</td>\n",
       "      <td>0.000000</td>\n",
       "      <td>0.000000</td>\n",
       "      <td>0.000000</td>\n",
       "      <td>0.000000</td>\n",
       "      <td>0.000000</td>\n",
       "      <td>0.000000</td>\n",
       "      <td>0.000000</td>\n",
       "      <td>0.000000</td>\n",
       "      <td>0.000000</td>\n",
       "      <td>0.000000</td>\n",
       "      <td>0.000000</td>\n",
       "      <td>0.000000</td>\n",
       "      <td>0.000000</td>\n",
       "      <td>0.000000</td>\n",
       "      <td>0.000000</td>\n",
       "      <td>0.000000</td>\n",
       "      <td>0.000000</td>\n",
       "      <td>0.000000</td>\n",
       "      <td>15</td>\n",
       "    </tr>\n",
       "    <tr>\n",
       "      <th>2</th>\n",
       "      <td>0.000000</td>\n",
       "      <td>0.000000</td>\n",
       "      <td>0.000000</td>\n",
       "      <td>0.000000</td>\n",
       "      <td>0.000000</td>\n",
       "      <td>0.000000</td>\n",
       "      <td>0.000000</td>\n",
       "      <td>0.000000</td>\n",
       "      <td>0.000000</td>\n",
       "      <td>0.000000</td>\n",
       "      <td>0.000000</td>\n",
       "      <td>0.000000</td>\n",
       "      <td>0.000000</td>\n",
       "      <td>0.000000</td>\n",
       "      <td>0.000000</td>\n",
       "      <td>0.000000</td>\n",
       "      <td>0.000000</td>\n",
       "      <td>0.000000</td>\n",
       "      <td>0.000000</td>\n",
       "      <td>19</td>\n",
       "    </tr>\n",
       "    <tr>\n",
       "      <th>3</th>\n",
       "      <td>0.000000</td>\n",
       "      <td>0.000000</td>\n",
       "      <td>0.000000</td>\n",
       "      <td>0.000000</td>\n",
       "      <td>0.000000</td>\n",
       "      <td>0.000000</td>\n",
       "      <td>0.000000</td>\n",
       "      <td>0.000000</td>\n",
       "      <td>0.000000</td>\n",
       "      <td>0.000000</td>\n",
       "      <td>0.000000</td>\n",
       "      <td>0.000000</td>\n",
       "      <td>0.000000</td>\n",
       "      <td>0.000000</td>\n",
       "      <td>0.000000</td>\n",
       "      <td>0.000000</td>\n",
       "      <td>0.000000</td>\n",
       "      <td>0.000000</td>\n",
       "      <td>0.000000</td>\n",
       "      <td>38</td>\n",
       "    </tr>\n",
       "    <tr>\n",
       "      <th>4</th>\n",
       "      <td>0.000000</td>\n",
       "      <td>0.000000</td>\n",
       "      <td>0.000000</td>\n",
       "      <td>0.000000</td>\n",
       "      <td>0.000000</td>\n",
       "      <td>0.000000</td>\n",
       "      <td>0.000000</td>\n",
       "      <td>0.000000</td>\n",
       "      <td>0.000000</td>\n",
       "      <td>0.000000</td>\n",
       "      <td>0.000000</td>\n",
       "      <td>0.000000</td>\n",
       "      <td>0.000000</td>\n",
       "      <td>0.000000</td>\n",
       "      <td>0.000000</td>\n",
       "      <td>0.000000</td>\n",
       "      <td>0.000000</td>\n",
       "      <td>0.000000</td>\n",
       "      <td>0.000000</td>\n",
       "      <td>43</td>\n",
       "    </tr>\n",
       "    <tr>\n",
       "      <th>...</th>\n",
       "      <td>...</td>\n",
       "      <td>...</td>\n",
       "      <td>...</td>\n",
       "      <td>...</td>\n",
       "      <td>...</td>\n",
       "      <td>...</td>\n",
       "      <td>...</td>\n",
       "      <td>...</td>\n",
       "      <td>...</td>\n",
       "      <td>...</td>\n",
       "      <td>...</td>\n",
       "      <td>...</td>\n",
       "      <td>...</td>\n",
       "      <td>...</td>\n",
       "      <td>...</td>\n",
       "      <td>...</td>\n",
       "      <td>...</td>\n",
       "      <td>...</td>\n",
       "      <td>...</td>\n",
       "      <td>...</td>\n",
       "    </tr>\n",
       "    <tr>\n",
       "      <th>664589</th>\n",
       "      <td>0.796570</td>\n",
       "      <td>0.016869</td>\n",
       "      <td>0.016871</td>\n",
       "      <td>0.068302</td>\n",
       "      <td>0.016957</td>\n",
       "      <td>0.037248</td>\n",
       "      <td>0.189083</td>\n",
       "      <td>0.037245</td>\n",
       "      <td>0.239687</td>\n",
       "      <td>0.037245</td>\n",
       "      <td>0.037486</td>\n",
       "      <td>0.037501</td>\n",
       "      <td>0.304189</td>\n",
       "      <td>0.395917</td>\n",
       "      <td>0.075851</td>\n",
       "      <td>0.075966</td>\n",
       "      <td>0.388781</td>\n",
       "      <td>0.383735</td>\n",
       "      <td>0.075666</td>\n",
       "      <td>5910767</td>\n",
       "    </tr>\n",
       "    <tr>\n",
       "      <th>664590</th>\n",
       "      <td>0.796570</td>\n",
       "      <td>0.016869</td>\n",
       "      <td>0.016871</td>\n",
       "      <td>0.068302</td>\n",
       "      <td>0.016957</td>\n",
       "      <td>0.037248</td>\n",
       "      <td>0.189083</td>\n",
       "      <td>0.037245</td>\n",
       "      <td>0.239687</td>\n",
       "      <td>0.037245</td>\n",
       "      <td>0.037486</td>\n",
       "      <td>0.037501</td>\n",
       "      <td>0.304189</td>\n",
       "      <td>0.395917</td>\n",
       "      <td>0.075851</td>\n",
       "      <td>0.075966</td>\n",
       "      <td>0.388781</td>\n",
       "      <td>0.383735</td>\n",
       "      <td>0.075666</td>\n",
       "      <td>5910778</td>\n",
       "    </tr>\n",
       "    <tr>\n",
       "      <th>664591</th>\n",
       "      <td>0.000000</td>\n",
       "      <td>0.000000</td>\n",
       "      <td>0.000000</td>\n",
       "      <td>0.000000</td>\n",
       "      <td>0.000000</td>\n",
       "      <td>0.000000</td>\n",
       "      <td>0.000000</td>\n",
       "      <td>0.000000</td>\n",
       "      <td>0.000000</td>\n",
       "      <td>0.000000</td>\n",
       "      <td>0.000000</td>\n",
       "      <td>0.000000</td>\n",
       "      <td>0.000000</td>\n",
       "      <td>0.000000</td>\n",
       "      <td>0.000000</td>\n",
       "      <td>0.000000</td>\n",
       "      <td>0.000000</td>\n",
       "      <td>0.000000</td>\n",
       "      <td>0.000000</td>\n",
       "      <td>5910789</td>\n",
       "    </tr>\n",
       "    <tr>\n",
       "      <th>664592</th>\n",
       "      <td>0.000000</td>\n",
       "      <td>0.000000</td>\n",
       "      <td>0.000000</td>\n",
       "      <td>0.000000</td>\n",
       "      <td>0.000000</td>\n",
       "      <td>0.000000</td>\n",
       "      <td>0.000000</td>\n",
       "      <td>0.000000</td>\n",
       "      <td>0.000000</td>\n",
       "      <td>0.000000</td>\n",
       "      <td>0.000000</td>\n",
       "      <td>0.000000</td>\n",
       "      <td>0.000000</td>\n",
       "      <td>0.000000</td>\n",
       "      <td>0.000000</td>\n",
       "      <td>0.000000</td>\n",
       "      <td>0.000000</td>\n",
       "      <td>0.000000</td>\n",
       "      <td>0.000000</td>\n",
       "      <td>5910794</td>\n",
       "    </tr>\n",
       "    <tr>\n",
       "      <th>664593</th>\n",
       "      <td>0.029045</td>\n",
       "      <td>0.029036</td>\n",
       "      <td>0.428919</td>\n",
       "      <td>0.338745</td>\n",
       "      <td>0.029043</td>\n",
       "      <td>0.033664</td>\n",
       "      <td>0.033664</td>\n",
       "      <td>0.340357</td>\n",
       "      <td>0.033664</td>\n",
       "      <td>0.390328</td>\n",
       "      <td>0.050004</td>\n",
       "      <td>0.549971</td>\n",
       "      <td>0.050005</td>\n",
       "      <td>0.050004</td>\n",
       "      <td>0.100892</td>\n",
       "      <td>0.100906</td>\n",
       "      <td>0.597238</td>\n",
       "      <td>0.100963</td>\n",
       "      <td>0.100001</td>\n",
       "      <td>5910797</td>\n",
       "    </tr>\n",
       "  </tbody>\n",
       "</table>\n",
       "<p>664594 rows × 20 columns</p>\n",
       "</div>"
      ],
      "text/plain": [
       "          desc_0    desc_3    desc_4    desc_8    desc_9    tags_0    tags_3  \\\n",
       "0       0.029417  0.029415  0.029416  0.029418  0.735253  0.100000  0.100000   \n",
       "1       0.000000  0.000000  0.000000  0.000000  0.000000  0.000000  0.000000   \n",
       "2       0.000000  0.000000  0.000000  0.000000  0.000000  0.000000  0.000000   \n",
       "3       0.000000  0.000000  0.000000  0.000000  0.000000  0.000000  0.000000   \n",
       "4       0.000000  0.000000  0.000000  0.000000  0.000000  0.000000  0.000000   \n",
       "...          ...       ...       ...       ...       ...       ...       ...   \n",
       "664589  0.796570  0.016869  0.016871  0.068302  0.016957  0.037248  0.189083   \n",
       "664590  0.796570  0.016869  0.016871  0.068302  0.016957  0.037248  0.189083   \n",
       "664591  0.000000  0.000000  0.000000  0.000000  0.000000  0.000000  0.000000   \n",
       "664592  0.000000  0.000000  0.000000  0.000000  0.000000  0.000000  0.000000   \n",
       "664593  0.029045  0.029036  0.428919  0.338745  0.029043  0.033664  0.033664   \n",
       "\n",
       "          tags_4    tags_6    tags_8   class_0   class_2   class_5   class_8  \\\n",
       "0       0.100000  0.100000  0.100000  0.315723  0.041771  0.041771  0.041778   \n",
       "1       0.000000  0.000000  0.000000  0.000000  0.000000  0.000000  0.000000   \n",
       "2       0.000000  0.000000  0.000000  0.000000  0.000000  0.000000  0.000000   \n",
       "3       0.000000  0.000000  0.000000  0.000000  0.000000  0.000000  0.000000   \n",
       "4       0.000000  0.000000  0.000000  0.000000  0.000000  0.000000  0.000000   \n",
       "...          ...       ...       ...       ...       ...       ...       ...   \n",
       "664589  0.037245  0.239687  0.037245  0.037486  0.037501  0.304189  0.395917   \n",
       "664590  0.037245  0.239687  0.037245  0.037486  0.037501  0.304189  0.395917   \n",
       "664591  0.000000  0.000000  0.000000  0.000000  0.000000  0.000000  0.000000   \n",
       "664592  0.000000  0.000000  0.000000  0.000000  0.000000  0.000000  0.000000   \n",
       "664593  0.340357  0.033664  0.390328  0.050004  0.549971  0.050005  0.050004   \n",
       "\n",
       "            da_0      da_1      da_2      da_3      da_4  user_id  \n",
       "0       0.324958  0.083541  0.083541  0.083541  0.424418        2  \n",
       "1       0.000000  0.000000  0.000000  0.000000  0.000000       15  \n",
       "2       0.000000  0.000000  0.000000  0.000000  0.000000       19  \n",
       "3       0.000000  0.000000  0.000000  0.000000  0.000000       38  \n",
       "4       0.000000  0.000000  0.000000  0.000000  0.000000       43  \n",
       "...          ...       ...       ...       ...       ...      ...  \n",
       "664589  0.075851  0.075966  0.388781  0.383735  0.075666  5910767  \n",
       "664590  0.075851  0.075966  0.388781  0.383735  0.075666  5910778  \n",
       "664591  0.000000  0.000000  0.000000  0.000000  0.000000  5910789  \n",
       "664592  0.000000  0.000000  0.000000  0.000000  0.000000  5910794  \n",
       "664593  0.100892  0.100906  0.597238  0.100963  0.100001  5910797  \n",
       "\n",
       "[664594 rows x 20 columns]"
      ]
     },
     "execution_count": 214,
     "metadata": {},
     "output_type": "execute_result"
    }
   ],
   "source": [
    "df = pd.DataFrame(contexts, columns=emb_cols)\n",
    "df['user_id'] = uids\n",
    "df"
   ]
  },
  {
   "cell_type": "code",
   "execution_count": 216,
   "metadata": {},
   "outputs": [
    {
     "data": {
      "text/plain": [
       "['20210502',\n",
       " '20210423',\n",
       " '20210424',\n",
       " '20210421',\n",
       " '20210430',\n",
       " '20210427',\n",
       " '20210419',\n",
       " '20210428',\n",
       " '20210429',\n",
       " '20210422',\n",
       " '20210425',\n",
       " '20210501',\n",
       " '20210426',\n",
       " '20210420']"
      ]
     },
     "execution_count": 216,
     "metadata": {},
     "output_type": "execute_result"
    },
    {
     "name": "stdout",
     "output_type": "stream",
     "text": [
      "The history saving thread hit an unexpected error (OperationalError('database is locked')).History will not be written to the database.\n"
     ]
    }
   ],
   "source": [
    "action_dirs"
   ]
  },
  {
   "cell_type": "code",
   "execution_count": 247,
   "metadata": {},
   "outputs": [
    {
     "name": "stdout",
     "output_type": "stream",
     "text": [
      "20210423/part-00000-9809d73a-a55f-4ac2-a59b-9b83cbc5028e-c000.csv processed...\t\t(9990.520050764084)\n",
      "20210424/part-00000-225e55dc-4504-4c14-b289-322312355b2b-c000.csv processed...\t\t(6234.936888933182)\n",
      "20210421/part-00000-c15f29da-6b1e-48c0-b7d0-2cd560998c3f-c000.csv processed...\t\t(1962.8847260475159)\n",
      "20210430/part-00000-2da4c3a0-2fcc-422d-8b7c-48940da315ad-c000.csv processed...\t\t(1743.763418674469)\n",
      "20210427/part-00000-9132ab46-51c3-4cc3-97de-e7ad5312b852-c000.csv processed...\t\t(1212.925900220871)\n",
      "20210419/part-00000-236b99d5-456a-42b2-bd8d-3cbd61d21cc6-c000.csv processed...\t\t(1260.5789487361908)\n",
      "20210428/part-00000-fc8c8ca1-e655-4a45-b179-c8d9e2dd804c-c000.csv processed...\t\t(2153.1079547405243)\n",
      "20210429/part-00000-c5dbd994-54d7-4734-adea-0f22d75b23d3-c000.csv processed...\t\t(4843.6583869457245)\n",
      "20210422/part-00000-3d97d0f8-2572-45e6-bb60-f367c97e7870-c000.csv processed...\t\t(4087.833338737488)\n",
      "20210425/part-00000-9d23862b-6bbf-48c6-a598-572df1359737-c000.csv processed...\t\t(6606.477695465088)\n",
      "20210501/part-00000-56b6f0ff-57b8-41ac-96ec-c20e3306297e-c000.csv processed...\t\t(6883.380467176437)\n",
      "20210426/part-00000-0d315342-3ba7-4727-b4a2-123a1a004786-c000.csv processed...\t\t(5880.851266622543)\n",
      "20210420/part-00000-aad75aa4-b60b-4f5b-8def-c4d60f391fae-c000.csv processed...\t\t(5657.571493864059)\n",
      "CPU times: user 20d 15h 36min 45s, sys: 44min 41s, total: 20d 16h 21min 26s\n",
      "Wall time: 16h 15min 18s\n"
     ]
    }
   ],
   "source": [
    "%%time\n",
    "for d in action_dirs[1:]:\n",
    "    t0 = time()\n",
    "    f = action_files[d]\n",
    "    tab = dt.fread(os.path.join(train_data_dir, f\"history_behavior_data/{d}/{f}\"), sep=\"\\t\")\n",
    "    df = tab.to_pandas()\n",
    "    g = df.groupby('user_id')\n",
    "    context = g.apply(lambda x: apply_one_user_one_day(x, video, emb_cols=emb_cols))\n",
    "    uids = context.index.tolist()\n",
    "    data = context.values\n",
    "    data = np.array(data.tolist())\n",
    "    df = pd.DataFrame(data, columns=emb_cols)\n",
    "    df['user_id'] = uids\n",
    "    tab = dt.Frame(df)\n",
    "    tab.to_jay(os.path.join(train_data_dir, f\"user_context/{d}.jay\"))\n",
    "    print(f\"{d}/{f} processed...\\t\\t({time() - t0})\")\n",
    "    t0 = time()"
   ]
  },
  {
   "cell_type": "code",
   "execution_count": 238,
   "metadata": {},
   "outputs": [
    {
     "data": {
      "text/plain": [
       "(664594, 19)"
      ]
     },
     "execution_count": 238,
     "metadata": {},
     "output_type": "execute_result"
    }
   ],
   "source": [
    "context.shape"
   ]
  },
  {
   "cell_type": "code",
   "execution_count": 8,
   "metadata": {},
   "outputs": [
    {
     "data": {
      "text/html": [
       "<div class='datatable'>\n",
       "  <table class='frame'>\n",
       "  <thead>\n",
       "    <tr class='colnames'><td class='row_index'></td><th>user_id</th><th>video_id</th><th>is_watch</th><th>is_share</th><th>watch_label</th><th>pt_d</th></tr>\n",
       "    <tr class='coltypes'><td class='row_index'></td><td class='int' title='int64'>&#x25AA;&#x25AA;&#x25AA;&#x25AA;&#x25AA;&#x25AA;&#x25AA;&#x25AA;</td><td class='int' title='int64'>&#x25AA;&#x25AA;&#x25AA;&#x25AA;&#x25AA;&#x25AA;&#x25AA;&#x25AA;</td><td class='int' title='int64'>&#x25AA;&#x25AA;&#x25AA;&#x25AA;&#x25AA;&#x25AA;&#x25AA;&#x25AA;</td><td class='int' title='int64'>&#x25AA;&#x25AA;&#x25AA;&#x25AA;&#x25AA;&#x25AA;&#x25AA;&#x25AA;</td><td class='int' title='int64'>&#x25AA;&#x25AA;&#x25AA;&#x25AA;&#x25AA;&#x25AA;&#x25AA;&#x25AA;</td><td class='int' title='int64'>&#x25AA;&#x25AA;&#x25AA;&#x25AA;&#x25AA;&#x25AA;&#x25AA;&#x25AA;</td></tr>\n",
       "  </thead>\n",
       "  <tbody>\n",
       "    <tr><td class='row_index'>0</td><td>4239342</td><td>28149</td><td>1</td><td>0</td><td>2</td><td>20210502</td></tr>\n",
       "    <tr><td class='row_index'>1</td><td>3577036</td><td>115</td><td>1</td><td>0</td><td>0</td><td>20210502</td></tr>\n",
       "    <tr><td class='row_index'>2</td><td>5527504</td><td>3636</td><td>1</td><td>0</td><td>5</td><td>20210502</td></tr>\n",
       "    <tr><td class='row_index'>3</td><td>1117889</td><td>12968</td><td>1</td><td>0</td><td>0</td><td>20210502</td></tr>\n",
       "    <tr><td class='row_index'>4</td><td>1117889</td><td>860</td><td>1</td><td>0</td><td>4</td><td>20210502</td></tr>\n",
       "    <tr><td class='row_index'>5</td><td>1117889</td><td>39046</td><td>1</td><td>0</td><td>1</td><td>20210502</td></tr>\n",
       "    <tr><td class='row_index'>6</td><td>1117889</td><td>6693</td><td>1</td><td>0</td><td>0</td><td>20210502</td></tr>\n",
       "    <tr><td class='row_index'>7</td><td>3463198</td><td>30796</td><td>1</td><td>0</td><td>5</td><td>20210502</td></tr>\n",
       "    <tr><td class='row_index'>8</td><td>3463198</td><td>13511</td><td>1</td><td>0</td><td>0</td><td>20210502</td></tr>\n",
       "    <tr><td class='row_index'>9</td><td>807748</td><td>28149</td><td>1</td><td>0</td><td>0</td><td>20210502</td></tr>\n",
       "    <tr><td class='row_index'>10</td><td>1754365</td><td>23874</td><td>1</td><td>0</td><td>1</td><td>20210502</td></tr>\n",
       "    <tr><td class='row_index'>11</td><td>2494369</td><td>44723</td><td>1</td><td>0</td><td>0</td><td>20210502</td></tr>\n",
       "    <tr><td class='row_index'>12</td><td>4248954</td><td>46495</td><td>1</td><td>0</td><td>0</td><td>20210502</td></tr>\n",
       "    <tr><td class='row_index'>13</td><td>5904239</td><td>28149</td><td>1</td><td>0</td><td>0</td><td>20210502</td></tr>\n",
       "    <tr><td class='row_index'>14</td><td>4203862</td><td>26875</td><td>1</td><td>0</td><td>0</td><td>20210502</td></tr>\n",
       "    <tr><td class='row_index'>&#x22EE;</td><td class='hellipsis'>&#x22EE;</td><td class='hellipsis'>&#x22EE;</td><td class='hellipsis'>&#x22EE;</td><td class='hellipsis'>&#x22EE;</td><td class='hellipsis'>&#x22EE;</td><td class='hellipsis'>&#x22EE;</td></tr>\n",
       "    <tr><td class='row_index'>7,353,019</td><td>1073806</td><td>39040</td><td>1</td><td>0</td><td>0</td><td>20210420</td></tr>\n",
       "    <tr><td class='row_index'>7,353,020</td><td>1073806</td><td>30641</td><td>1</td><td>0</td><td>0</td><td>20210420</td></tr>\n",
       "    <tr><td class='row_index'>7,353,021</td><td>1073806</td><td>29794</td><td>1</td><td>0</td><td>8</td><td>20210420</td></tr>\n",
       "    <tr><td class='row_index'>7,353,022</td><td>1673305</td><td>12968</td><td>1</td><td>0</td><td>0</td><td>20210420</td></tr>\n",
       "    <tr><td class='row_index'>7,353,023</td><td>4806675</td><td>39040</td><td>1</td><td>0</td><td>0</td><td>20210420</td></tr>\n",
       "  </tbody>\n",
       "  </table>\n",
       "  <div class='footer'>\n",
       "    <div class='frame_dimensions'>7,353,024 rows &times; 6 columns</div>\n",
       "  </div>\n",
       "</div>\n"
      ],
      "text/plain": [
       "<Frame#7f4ecb5ad7e0 7353024x6>"
      ]
     },
     "execution_count": 8,
     "metadata": {},
     "output_type": "execute_result"
    }
   ],
   "source": [
    "all_action = dt.fread(os.path.join(train_data_dir, \"all_actions_with_ptd.jay\"))\n",
    "all_action"
   ]
  },
  {
   "cell_type": "code",
   "execution_count": 129,
   "metadata": {},
   "outputs": [
    {
     "name": "stdout",
     "output_type": "stream",
     "text": [
      "20210419 (539921, 6)\n",
      "20210420 (510403, 6)\n",
      "766312 285341 100783\n",
      "20210421 (549099, 6)\n",
      "1293608 314953 140674\n",
      "20210422 (587612, 6)\n",
      "1724999 345421 173163\n",
      "20210423 (546778, 6)\n",
      "1786514 319800 165999\n",
      "20210424 (615733, 6)\n",
      "1823149 344611 174674\n",
      "20210425 (626030, 6)\n",
      "1816887 351067 181223\n",
      "20210426 (508352, 6)\n",
      "1798319 284499 151424\n",
      "20210427 (426942, 6)\n",
      "1729891 255849 136554\n",
      "20210428 (430673, 6)\n",
      "1688075 259381 135309\n",
      "20210429 (527986, 6)\n",
      "1627778 295757 158242\n",
      "20210430 (475165, 6)\n",
      "1642774 276843 143993\n",
      "20210501 (542584, 6)\n",
      "1672174 308081 152485\n",
      "20210502 (465746, 6)\n",
      "1743579 251619 142787\n"
     ]
    },
    {
     "data": {
      "text/html": [
       "<div class='datatable'>\n",
       "  <table class='frame'>\n",
       "  <thead>\n",
       "    <tr class='colnames'><td class='row_index'></td><th>user_id</th><th>video_id</th><th>is_watch</th><th>is_share</th><th>watch_label</th><th>pt_d</th><th>uc_0</th><th>uc_1</th><th>uc_2</th><th>uc_3</th><th class='vellipsis'>&hellip;</th><th>uc_14</th><th>uc_15</th><th>uc_16</th><th>uc_17</th><th>uc_18</th></tr>\n",
       "    <tr class='coltypes'><td class='row_index'></td><td class='int' title='int64'>&#x25AA;&#x25AA;&#x25AA;&#x25AA;&#x25AA;&#x25AA;&#x25AA;&#x25AA;</td><td class='int' title='int64'>&#x25AA;&#x25AA;&#x25AA;&#x25AA;&#x25AA;&#x25AA;&#x25AA;&#x25AA;</td><td class='int' title='int64'>&#x25AA;&#x25AA;&#x25AA;&#x25AA;&#x25AA;&#x25AA;&#x25AA;&#x25AA;</td><td class='int' title='int64'>&#x25AA;&#x25AA;&#x25AA;&#x25AA;&#x25AA;&#x25AA;&#x25AA;&#x25AA;</td><td class='int' title='int64'>&#x25AA;&#x25AA;&#x25AA;&#x25AA;&#x25AA;&#x25AA;&#x25AA;&#x25AA;</td><td class='int' title='int64'>&#x25AA;&#x25AA;&#x25AA;&#x25AA;&#x25AA;&#x25AA;&#x25AA;&#x25AA;</td><td class='float' title='float64'>&#x25AA;&#x25AA;&#x25AA;&#x25AA;&#x25AA;&#x25AA;&#x25AA;&#x25AA;</td><td class='float' title='float64'>&#x25AA;&#x25AA;&#x25AA;&#x25AA;&#x25AA;&#x25AA;&#x25AA;&#x25AA;</td><td class='float' title='float64'>&#x25AA;&#x25AA;&#x25AA;&#x25AA;&#x25AA;&#x25AA;&#x25AA;&#x25AA;</td><td class='float' title='float64'>&#x25AA;&#x25AA;&#x25AA;&#x25AA;&#x25AA;&#x25AA;&#x25AA;&#x25AA;</td><td></td><td class='float' title='float64'>&#x25AA;&#x25AA;&#x25AA;&#x25AA;&#x25AA;&#x25AA;&#x25AA;&#x25AA;</td><td class='float' title='float64'>&#x25AA;&#x25AA;&#x25AA;&#x25AA;&#x25AA;&#x25AA;&#x25AA;&#x25AA;</td><td class='float' title='float64'>&#x25AA;&#x25AA;&#x25AA;&#x25AA;&#x25AA;&#x25AA;&#x25AA;&#x25AA;</td><td class='float' title='float64'>&#x25AA;&#x25AA;&#x25AA;&#x25AA;&#x25AA;&#x25AA;&#x25AA;&#x25AA;</td><td class='float' title='float64'>&#x25AA;&#x25AA;&#x25AA;&#x25AA;&#x25AA;&#x25AA;&#x25AA;&#x25AA;</td></tr>\n",
       "  </thead>\n",
       "  <tbody>\n",
       "    <tr><td class='row_index'>0</td><td>1881912</td><td>27065</td><td>1</td><td>0</td><td>0</td><td>20210419</td><td>0</td><td>0</td><td>0</td><td>0</td><td class=vellipsis>&hellip;</td><td>0</td><td>0</td><td>0</td><td>0</td><td>0</td></tr>\n",
       "    <tr><td class='row_index'>1</td><td>5884261</td><td>4184</td><td>1</td><td>0</td><td>0</td><td>20210419</td><td>0</td><td>0</td><td>0</td><td>0</td><td class=vellipsis>&hellip;</td><td>0</td><td>0</td><td>0</td><td>0</td><td>0</td></tr>\n",
       "    <tr><td class='row_index'>2</td><td>5884261</td><td>36246</td><td>1</td><td>0</td><td>9</td><td>20210419</td><td>0</td><td>0</td><td>0</td><td>0</td><td class=vellipsis>&hellip;</td><td>0</td><td>0</td><td>0</td><td>0</td><td>0</td></tr>\n",
       "    <tr><td class='row_index'>3</td><td>5884261</td><td>39446</td><td>1</td><td>0</td><td>0</td><td>20210419</td><td>0</td><td>0</td><td>0</td><td>0</td><td class=vellipsis>&hellip;</td><td>0</td><td>0</td><td>0</td><td>0</td><td>0</td></tr>\n",
       "    <tr><td class='row_index'>4</td><td>2152280</td><td>35489</td><td>1</td><td>0</td><td>0</td><td>20210419</td><td>0</td><td>0</td><td>0</td><td>0</td><td class=vellipsis>&hellip;</td><td>0</td><td>0</td><td>0</td><td>0</td><td>0</td></tr>\n",
       "    <tr><td class='row_index'>5</td><td>3270863</td><td>14611</td><td>1</td><td>0</td><td>0</td><td>20210419</td><td>0</td><td>0</td><td>0</td><td>0</td><td class=vellipsis>&hellip;</td><td>0</td><td>0</td><td>0</td><td>0</td><td>0</td></tr>\n",
       "    <tr><td class='row_index'>6</td><td>3270863</td><td>49432</td><td>1</td><td>0</td><td>0</td><td>20210419</td><td>0</td><td>0</td><td>0</td><td>0</td><td class=vellipsis>&hellip;</td><td>0</td><td>0</td><td>0</td><td>0</td><td>0</td></tr>\n",
       "    <tr><td class='row_index'>7</td><td>3682544</td><td>12968</td><td>1</td><td>0</td><td>3</td><td>20210419</td><td>0</td><td>0</td><td>0</td><td>0</td><td class=vellipsis>&hellip;</td><td>0</td><td>0</td><td>0</td><td>0</td><td>0</td></tr>\n",
       "    <tr><td class='row_index'>8</td><td>5222669</td><td>12968</td><td>1</td><td>0</td><td>0</td><td>20210419</td><td>0</td><td>0</td><td>0</td><td>0</td><td class=vellipsis>&hellip;</td><td>0</td><td>0</td><td>0</td><td>0</td><td>0</td></tr>\n",
       "    <tr><td class='row_index'>9</td><td>4688911</td><td>28849</td><td>1</td><td>0</td><td>3</td><td>20210419</td><td>0</td><td>0</td><td>0</td><td>0</td><td class=vellipsis>&hellip;</td><td>0</td><td>0</td><td>0</td><td>0</td><td>0</td></tr>\n",
       "    <tr><td class='row_index'>10</td><td>3815148</td><td>49979</td><td>1</td><td>0</td><td>3</td><td>20210419</td><td>0</td><td>0</td><td>0</td><td>0</td><td class=vellipsis>&hellip;</td><td>0</td><td>0</td><td>0</td><td>0</td><td>0</td></tr>\n",
       "    <tr><td class='row_index'>11</td><td>594747</td><td>11926</td><td>1</td><td>0</td><td>9</td><td>20210419</td><td>0</td><td>0</td><td>0</td><td>0</td><td class=vellipsis>&hellip;</td><td>0</td><td>0</td><td>0</td><td>0</td><td>0</td></tr>\n",
       "    <tr><td class='row_index'>12</td><td>3452656</td><td>12968</td><td>1</td><td>0</td><td>0</td><td>20210419</td><td>0</td><td>0</td><td>0</td><td>0</td><td class=vellipsis>&hellip;</td><td>0</td><td>0</td><td>0</td><td>0</td><td>0</td></tr>\n",
       "    <tr><td class='row_index'>13</td><td>2673597</td><td>47815</td><td>1</td><td>0</td><td>0</td><td>20210419</td><td>0</td><td>0</td><td>0</td><td>0</td><td class=vellipsis>&hellip;</td><td>0</td><td>0</td><td>0</td><td>0</td><td>0</td></tr>\n",
       "    <tr><td class='row_index'>14</td><td>3843912</td><td>6706</td><td>1</td><td>0</td><td>3</td><td>20210419</td><td>0</td><td>0</td><td>0</td><td>0</td><td class=vellipsis>&hellip;</td><td>0</td><td>0</td><td>0</td><td>0</td><td>0</td></tr>\n",
       "    <tr><td class='row_index'>&#x22EE;</td><td class='hellipsis'>&#x22EE;</td><td class='hellipsis'>&#x22EE;</td><td class='hellipsis'>&#x22EE;</td><td class='hellipsis'>&#x22EE;</td><td class='hellipsis'>&#x22EE;</td><td class='hellipsis'>&#x22EE;</td><td class='hellipsis'>&#x22EE;</td><td class='hellipsis'>&#x22EE;</td><td class='hellipsis'>&#x22EE;</td><td class='hellipsis'>&#x22EE;</td><td class='hellipsis'>&#x22F1;</td><td class='hellipsis'>&#x22EE;</td><td class='hellipsis'>&#x22EE;</td><td class='hellipsis'>&#x22EE;</td><td class='hellipsis'>&#x22EE;</td><td class='hellipsis'>&#x22EE;</td></tr>\n",
       "    <tr><td class='row_index'>7,353,019</td><td>3824966</td><td>29998</td><td>1</td><td>0</td><td>0</td><td>20210502</td><td>0</td><td>0</td><td>0</td><td>0</td><td class=vellipsis>&hellip;</td><td>0</td><td>0</td><td>0</td><td>0</td><td>0</td></tr>\n",
       "    <tr><td class='row_index'>7,353,020</td><td>3824966</td><td>26273</td><td>1</td><td>0</td><td>0</td><td>20210502</td><td>0</td><td>0</td><td>0</td><td>0</td><td class=vellipsis>&hellip;</td><td>0</td><td>0</td><td>0</td><td>0</td><td>0</td></tr>\n",
       "    <tr><td class='row_index'>7,353,021</td><td>1687377</td><td>17585</td><td>1</td><td>0</td><td>0</td><td>20210502</td><td>0</td><td>0</td><td>0</td><td>0</td><td class=vellipsis>&hellip;</td><td>0</td><td>0</td><td>0</td><td>0</td><td>0</td></tr>\n",
       "    <tr><td class='row_index'>7,353,022</td><td>1286468</td><td>41270</td><td>1</td><td>0</td><td>0</td><td>20210502</td><td>0</td><td>0</td><td>0</td><td>0</td><td class=vellipsis>&hellip;</td><td>0</td><td>0</td><td>0</td><td>0</td><td>0</td></tr>\n",
       "    <tr><td class='row_index'>7,353,023</td><td>3814011</td><td>20262</td><td>1</td><td>0</td><td>1</td><td>20210502</td><td>0.00902033</td><td>0.00902216</td><td>0.00902892</td><td>0.0090211</td><td class=vellipsis>&hellip;</td><td>0.127906</td><td>0.0341424</td><td>0.0346925</td><td>0.269282</td><td>0.0339766</td></tr>\n",
       "  </tbody>\n",
       "  </table>\n",
       "  <div class='footer'>\n",
       "    <div class='frame_dimensions'>7,353,024 rows &times; 25 columns</div>\n",
       "  </div>\n",
       "</div>\n"
      ],
      "text/plain": [
       "<Frame#7f4ecb51bf60 7353024x25>"
      ]
     },
     "execution_count": 129,
     "metadata": {},
     "output_type": "execute_result"
    }
   ],
   "source": [
    "pt_d = [20210419, 20210420, 20210421, 20210422, 20210423, 20210424, 20210425, 20210426, 20210427, 20210428, 20210429, 20210430, 20210501, 20210502]\n",
    "context_data_dir = os.path.join(train_data_dir, 'user_context')\n",
    "window_size = 3\n",
    "weight = [.2, .3, .5]\n",
    "new_action = None\n",
    "for i, date in enumerate(pt_d):   \n",
    "    \n",
    "    act = all_action[dt.f.pt_d == date, :]\n",
    "    print(date, act.shape)\n",
    "    if i == 0:\n",
    "        # 冷启动\n",
    "        cold = dt.Frame(np.zeros((act.shape[0], len(emb_cols))), names=[f'uc_{id}' for id in range(len(emb_cols))])\n",
    "        interest = cold\n",
    "    else:\n",
    "        if i < window_size:\n",
    "            start = 0\n",
    "        else:\n",
    "            start = i - window_size\n",
    "        end = i - 1\n",
    "        tabs = None\n",
    "        \n",
    "        if i == 1:\n",
    "            _weights = [1.0]\n",
    "        elif i == 2:\n",
    "            _weights = [0.45, 0.55]\n",
    "        else:\n",
    "            _weights = weight\n",
    "        \n",
    "        s = set()\n",
    "        for j, d in enumerate(pt_d[start: end+1]):\n",
    "            t_tab = dt.fread(os.path.join(context_data_dir, f\"{d}.jay\"))\n",
    "            t_tab.key = ('user_id')\n",
    "            s = s.union(set(t_tab['user_id'].to_list()[0]))\n",
    "            tmp = act[:, :, dt.join(t_tab)]\n",
    "            tmp = tmp.to_pandas().fillna(0)\n",
    "            tmp = dt.Frame(tmp)\n",
    "#             print(np.sum(np.isnan(tmp[:, emb_cols].to_numpy()), axis=0).tolist())\n",
    "            if tabs is None:\n",
    "                tabs = tmp[:, emb_cols].to_numpy() * _weights[j]\n",
    "            else:\n",
    "                tabs += tmp[:, emb_cols].to_numpy() * _weights[j]\n",
    "\n",
    "#             print('\\t', tabs.shape[0] == act.shape[0])\n",
    "        print(len(s), len(set(act['user_id'].to_list()[0])), s.intersection(set(act['user_id'].to_list()[0])).__len__())\n",
    "        interest = dt.Frame(tabs, names=[f'uc_{id}' for id in range(len(emb_cols))])\n",
    "#         print(interest)\n",
    "    act.cbind(interest)\n",
    "    \n",
    "    if new_action is None:\n",
    "        new_action = act\n",
    "    else:\n",
    "        new_action.rbind(act)\n",
    "\n",
    "new_action"
   ]
  },
  {
   "cell_type": "code",
   "execution_count": 121,
   "metadata": {},
   "outputs": [
    {
     "data": {
      "text/html": [
       "<div class='datatable'>\n",
       "  <table class='frame'>\n",
       "  <thead>\n",
       "    <tr class='colnames'><td class='row_index'></td><th>user_id</th><th>video_id</th><th>is_watch</th><th>is_share</th><th>watch_label</th><th>pt_d</th><th>uc_0</th><th>uc_1</th><th>uc_2</th><th>uc_3</th><th class='vellipsis'>&hellip;</th><th>uc_14</th><th>uc_15</th><th>uc_16</th><th>uc_17</th><th>uc_18</th></tr>\n",
       "    <tr class='coltypes'><td class='row_index'></td><td class='int' title='int64'>&#x25AA;&#x25AA;&#x25AA;&#x25AA;&#x25AA;&#x25AA;&#x25AA;&#x25AA;</td><td class='int' title='int64'>&#x25AA;&#x25AA;&#x25AA;&#x25AA;&#x25AA;&#x25AA;&#x25AA;&#x25AA;</td><td class='int' title='int64'>&#x25AA;&#x25AA;&#x25AA;&#x25AA;&#x25AA;&#x25AA;&#x25AA;&#x25AA;</td><td class='int' title='int64'>&#x25AA;&#x25AA;&#x25AA;&#x25AA;&#x25AA;&#x25AA;&#x25AA;&#x25AA;</td><td class='int' title='int64'>&#x25AA;&#x25AA;&#x25AA;&#x25AA;&#x25AA;&#x25AA;&#x25AA;&#x25AA;</td><td class='int' title='int64'>&#x25AA;&#x25AA;&#x25AA;&#x25AA;&#x25AA;&#x25AA;&#x25AA;&#x25AA;</td><td class='float' title='float64'>&#x25AA;&#x25AA;&#x25AA;&#x25AA;&#x25AA;&#x25AA;&#x25AA;&#x25AA;</td><td class='float' title='float64'>&#x25AA;&#x25AA;&#x25AA;&#x25AA;&#x25AA;&#x25AA;&#x25AA;&#x25AA;</td><td class='float' title='float64'>&#x25AA;&#x25AA;&#x25AA;&#x25AA;&#x25AA;&#x25AA;&#x25AA;&#x25AA;</td><td class='float' title='float64'>&#x25AA;&#x25AA;&#x25AA;&#x25AA;&#x25AA;&#x25AA;&#x25AA;&#x25AA;</td><td></td><td class='float' title='float64'>&#x25AA;&#x25AA;&#x25AA;&#x25AA;&#x25AA;&#x25AA;&#x25AA;&#x25AA;</td><td class='float' title='float64'>&#x25AA;&#x25AA;&#x25AA;&#x25AA;&#x25AA;&#x25AA;&#x25AA;&#x25AA;</td><td class='float' title='float64'>&#x25AA;&#x25AA;&#x25AA;&#x25AA;&#x25AA;&#x25AA;&#x25AA;&#x25AA;</td><td class='float' title='float64'>&#x25AA;&#x25AA;&#x25AA;&#x25AA;&#x25AA;&#x25AA;&#x25AA;&#x25AA;</td><td class='float' title='float64'>&#x25AA;&#x25AA;&#x25AA;&#x25AA;&#x25AA;&#x25AA;&#x25AA;&#x25AA;</td></tr>\n",
       "  </thead>\n",
       "  <tbody>\n",
       "    <tr><td class='row_index'>0</td><td>3824966</td><td>32191</td><td>1</td><td>0</td><td>0</td><td>20210502</td><td>0</td><td>0</td><td>0</td><td>0</td><td class=vellipsis>&hellip;</td><td>0</td><td>0</td><td>0</td><td>0</td><td>0</td></tr>\n",
       "    <tr><td class='row_index'>1</td><td>3824966</td><td>35025</td><td>1</td><td>0</td><td>0</td><td>20210502</td><td>0</td><td>0</td><td>0</td><td>0</td><td class=vellipsis>&hellip;</td><td>0</td><td>0</td><td>0</td><td>0</td><td>0</td></tr>\n",
       "    <tr><td class='row_index'>2</td><td>3824966</td><td>7191</td><td>1</td><td>0</td><td>0</td><td>20210502</td><td>0</td><td>0</td><td>0</td><td>0</td><td class=vellipsis>&hellip;</td><td>0</td><td>0</td><td>0</td><td>0</td><td>0</td></tr>\n",
       "    <tr><td class='row_index'>3</td><td>3824966</td><td>3468</td><td>1</td><td>0</td><td>0</td><td>20210502</td><td>0</td><td>0</td><td>0</td><td>0</td><td class=vellipsis>&hellip;</td><td>0</td><td>0</td><td>0</td><td>0</td><td>0</td></tr>\n",
       "    <tr><td class='row_index'>4</td><td>3824966</td><td>44786</td><td>1</td><td>0</td><td>0</td><td>20210502</td><td>0</td><td>0</td><td>0</td><td>0</td><td class=vellipsis>&hellip;</td><td>0</td><td>0</td><td>0</td><td>0</td><td>0</td></tr>\n",
       "    <tr><td class='row_index'>5</td><td>3824966</td><td>29998</td><td>1</td><td>0</td><td>0</td><td>20210502</td><td>0</td><td>0</td><td>0</td><td>0</td><td class=vellipsis>&hellip;</td><td>0</td><td>0</td><td>0</td><td>0</td><td>0</td></tr>\n",
       "    <tr><td class='row_index'>6</td><td>3824966</td><td>26273</td><td>1</td><td>0</td><td>0</td><td>20210502</td><td>0</td><td>0</td><td>0</td><td>0</td><td class=vellipsis>&hellip;</td><td>0</td><td>0</td><td>0</td><td>0</td><td>0</td></tr>\n",
       "    <tr><td class='row_index'>7</td><td>1687377</td><td>17585</td><td>1</td><td>0</td><td>0</td><td>20210502</td><td>0</td><td>0</td><td>0</td><td>0</td><td class=vellipsis>&hellip;</td><td>0</td><td>0</td><td>0</td><td>0</td><td>0</td></tr>\n",
       "    <tr><td class='row_index'>8</td><td>1286468</td><td>41270</td><td>1</td><td>0</td><td>0</td><td>20210502</td><td>0</td><td>0</td><td>0</td><td>0</td><td class=vellipsis>&hellip;</td><td>0</td><td>0</td><td>0</td><td>0</td><td>0</td></tr>\n",
       "    <tr><td class='row_index'>9</td><td>3814011</td><td>20262</td><td>1</td><td>0</td><td>1</td><td>20210502</td><td>0.00902033</td><td>0.00902216</td><td>0.00902892</td><td>0.0090211</td><td class=vellipsis>&hellip;</td><td>0.127906</td><td>0.0341424</td><td>0.0346925</td><td>0.269282</td><td>0.0339766</td></tr>\n",
       "  </tbody>\n",
       "  </table>\n",
       "  <div class='footer'>\n",
       "    <div class='frame_dimensions'>10 rows &times; 25 columns</div>\n",
       "  </div>\n",
       "</div>\n"
      ],
      "text/plain": [
       "<Frame#7f4ebd2c0f60 10x25>"
      ]
     },
     "execution_count": 121,
     "metadata": {},
     "output_type": "execute_result"
    }
   ],
   "source": [
    "new_action.tail()"
   ]
  },
  {
   "cell_type": "code",
   "execution_count": 107,
   "metadata": {},
   "outputs": [
    {
     "data": {
      "text/plain": [
       "user_id              0\n",
       "video_id             0\n",
       "is_watch             0\n",
       "is_share             0\n",
       "watch_label          0\n",
       "pt_d                 0\n",
       "uc_0           5515420\n",
       "uc_1           5515420\n",
       "uc_2           5515420\n",
       "uc_3           5515420\n",
       "uc_4           5515420\n",
       "uc_5           5515420\n",
       "uc_6           5515420\n",
       "uc_7           5515420\n",
       "uc_8           5515420\n",
       "uc_9           5515420\n",
       "uc_10          5515420\n",
       "uc_11          5515420\n",
       "uc_12          5515420\n",
       "uc_13          5515420\n",
       "uc_14          5515420\n",
       "uc_15          5515420\n",
       "uc_16          5515420\n",
       "uc_17          5515420\n",
       "uc_18          5515420\n",
       "dtype: int64"
      ]
     },
     "execution_count": 107,
     "metadata": {},
     "output_type": "execute_result"
    }
   ],
   "source": [
    "# new_action = new_action.to_pandas()\n",
    "new_action.apply(lambda x: sum(x.isnull()), axis=0)"
   ]
  },
  {
   "cell_type": "code",
   "execution_count": null,
   "metadata": {},
   "outputs": [],
   "source": [
    "new_action.to_jay(os.path.join(train_data_dir, \"all_actions_with_user_context\"))"
   ]
  },
  {
   "cell_type": "code",
   "execution_count": 49,
   "metadata": {},
   "outputs": [
    {
     "data": {
      "text/html": [
       "<div class='datatable'>\n",
       "  <table class='frame'>\n",
       "  <thead>\n",
       "    <tr class='colnames'><td class='row_index'></td><th>desc_0</th><th>desc_3</th><th>desc_4</th><th>desc_8</th><th>desc_9</th><th>tags_0</th><th>tags_3</th><th>tags_4</th><th>tags_6</th><th>tags_8</th><th class='vellipsis'>&hellip;</th><th>da_1</th><th>da_2</th><th>da_3</th><th>da_4</th><th>user_id</th></tr>\n",
       "    <tr class='coltypes'><td class='row_index'></td><td class='float' title='float64'>&#x25AA;&#x25AA;&#x25AA;&#x25AA;&#x25AA;&#x25AA;&#x25AA;&#x25AA;</td><td class='float' title='float64'>&#x25AA;&#x25AA;&#x25AA;&#x25AA;&#x25AA;&#x25AA;&#x25AA;&#x25AA;</td><td class='float' title='float64'>&#x25AA;&#x25AA;&#x25AA;&#x25AA;&#x25AA;&#x25AA;&#x25AA;&#x25AA;</td><td class='float' title='float64'>&#x25AA;&#x25AA;&#x25AA;&#x25AA;&#x25AA;&#x25AA;&#x25AA;&#x25AA;</td><td class='float' title='float64'>&#x25AA;&#x25AA;&#x25AA;&#x25AA;&#x25AA;&#x25AA;&#x25AA;&#x25AA;</td><td class='float' title='float64'>&#x25AA;&#x25AA;&#x25AA;&#x25AA;&#x25AA;&#x25AA;&#x25AA;&#x25AA;</td><td class='float' title='float64'>&#x25AA;&#x25AA;&#x25AA;&#x25AA;&#x25AA;&#x25AA;&#x25AA;&#x25AA;</td><td class='float' title='float64'>&#x25AA;&#x25AA;&#x25AA;&#x25AA;&#x25AA;&#x25AA;&#x25AA;&#x25AA;</td><td class='float' title='float64'>&#x25AA;&#x25AA;&#x25AA;&#x25AA;&#x25AA;&#x25AA;&#x25AA;&#x25AA;</td><td class='float' title='float64'>&#x25AA;&#x25AA;&#x25AA;&#x25AA;&#x25AA;&#x25AA;&#x25AA;&#x25AA;</td><td></td><td class='float' title='float64'>&#x25AA;&#x25AA;&#x25AA;&#x25AA;&#x25AA;&#x25AA;&#x25AA;&#x25AA;</td><td class='float' title='float64'>&#x25AA;&#x25AA;&#x25AA;&#x25AA;&#x25AA;&#x25AA;&#x25AA;&#x25AA;</td><td class='float' title='float64'>&#x25AA;&#x25AA;&#x25AA;&#x25AA;&#x25AA;&#x25AA;&#x25AA;&#x25AA;</td><td class='float' title='float64'>&#x25AA;&#x25AA;&#x25AA;&#x25AA;&#x25AA;&#x25AA;&#x25AA;&#x25AA;</td><td class='int' title='int64'>&#x25AA;&#x25AA;&#x25AA;&#x25AA;&#x25AA;&#x25AA;&#x25AA;&#x25AA;</td></tr>\n",
       "  </thead>\n",
       "  <tbody>\n",
       "    <tr><td class='row_index'>0</td><td>0.0235944</td><td>0.3617</td><td>0.0235887</td><td>0.0235859</td><td>0.2977</td><td>0.67035</td><td>0.0366278</td><td>0.0366278</td><td>0.0366278</td><td>0.0366278</td><td class=vellipsis>&hellip;</td><td>0.0790638</td><td>0.0773256</td><td>0.0757207</td><td>0.0752074</td><td>11</td></tr>\n",
       "    <tr><td class='row_index'>1</td><td>0.0213796</td><td>0.807674</td><td>0.0213669</td><td>0.0213688</td><td>0.0213677</td><td>0.394388</td><td>0.0373914</td><td>0.0373336</td><td>0.0373336</td><td>0.0373336</td><td class=vellipsis>&hellip;</td><td>0.0848106</td><td>0.661892</td><td>0.0841265</td><td>0.0844701</td><td>12</td></tr>\n",
       "    <tr><td class='row_index'>2</td><td>0.350774</td><td>0.0226458</td><td>0.0226486</td><td>0.022647</td><td>0.468054</td><td>0.335954</td><td>0.0337867</td><td>0.0337867</td><td>0.173597</td><td>0.0337867</td><td class=vellipsis>&hellip;</td><td>0.0723026</td><td>0.0705481</td><td>0.0690034</td><td>0.283843</td><td>19</td></tr>\n",
       "    <tr><td class='row_index'>3</td><td>0.0291229</td><td>0.492652</td><td>0.0291263</td><td>0.0291237</td><td>0.0291224</td><td>0.1</td><td>0.1</td><td>0.1</td><td>0.1</td><td>0.1</td><td class=vellipsis>&hellip;</td><td>0.0848106</td><td>0.661892</td><td>0.0841265</td><td>0.0844701</td><td>21</td></tr>\n",
       "    <tr><td class='row_index'>4</td><td>0.0230648</td><td>0.0230438</td><td>0.0230567</td><td>0.0230536</td><td>0.745862</td><td>0.0279282</td><td>0.0279282</td><td>0.0279282</td><td>0.153108</td><td>0.0279282</td><td class=vellipsis>&hellip;</td><td>0.0645075</td><td>0.0634023</td><td>0.0626724</td><td>0.247702</td><td>30</td></tr>\n",
       "    <tr><td class='row_index'>5</td><td>0</td><td>0</td><td>0</td><td>0</td><td>0</td><td>0</td><td>0</td><td>0</td><td>0</td><td>0</td><td class=vellipsis>&hellip;</td><td>0</td><td>0</td><td>0</td><td>0</td><td>42</td></tr>\n",
       "    <tr><td class='row_index'>6</td><td>0</td><td>0</td><td>0</td><td>0</td><td>0</td><td>0</td><td>0</td><td>0</td><td>0</td><td>0</td><td class=vellipsis>&hellip;</td><td>0</td><td>0</td><td>0</td><td>0</td><td>43</td></tr>\n",
       "    <tr><td class='row_index'>7</td><td>0.350774</td><td>0.0226458</td><td>0.0226486</td><td>0.022647</td><td>0.468054</td><td>0.335954</td><td>0.0337867</td><td>0.0337867</td><td>0.173597</td><td>0.0337867</td><td class=vellipsis>&hellip;</td><td>0.0723026</td><td>0.0705481</td><td>0.0690034</td><td>0.283843</td><td>51</td></tr>\n",
       "    <tr><td class='row_index'>8</td><td>0</td><td>0</td><td>0</td><td>0</td><td>0</td><td>0</td><td>0</td><td>0</td><td>0</td><td>0</td><td class=vellipsis>&hellip;</td><td>0</td><td>0</td><td>0</td><td>0</td><td>52</td></tr>\n",
       "    <tr><td class='row_index'>9</td><td>0.0295728</td><td>0.0295652</td><td>0.0295732</td><td>0.0295742</td><td>0.733899</td><td>0.234139</td><td>0.268745</td><td>0.0366613</td><td>0.240473</td><td>0.0366613</td><td class=vellipsis>&hellip;</td><td>0.0780383</td><td>0.0735202</td><td>0.300631</td><td>0.0735202</td><td>54</td></tr>\n",
       "    <tr><td class='row_index'>10</td><td>0</td><td>0</td><td>0</td><td>0</td><td>0</td><td>0</td><td>0</td><td>0</td><td>0</td><td>0</td><td class=vellipsis>&hellip;</td><td>0</td><td>0</td><td>0</td><td>0</td><td>57</td></tr>\n",
       "    <tr><td class='row_index'>11</td><td>0.0270246</td><td>0.206365</td><td>0.0270267</td><td>0.0270259</td><td>0.51041</td><td>0.0833333</td><td>0.0833333</td><td>0.0833333</td><td>0.0833333</td><td>0.0833333</td><td class=vellipsis>&hellip;</td><td>0.083276</td><td>0.246896</td><td>0.132756</td><td>0.22453</td><td>73</td></tr>\n",
       "    <tr><td class='row_index'>12</td><td>0</td><td>0</td><td>0</td><td>0</td><td>0</td><td>0</td><td>0</td><td>0</td><td>0</td><td>0</td><td class=vellipsis>&hellip;</td><td>0</td><td>0</td><td>0</td><td>0</td><td>92</td></tr>\n",
       "    <tr><td class='row_index'>13</td><td>0.301685</td><td>0.028334</td><td>0.0379973</td><td>0.0323134</td><td>0.477598</td><td>0.0636092</td><td>0.0466157</td><td>0.0466214</td><td>0.0550533</td><td>0.513136</td><td class=vellipsis>&hellip;</td><td>0.0813413</td><td>0.116534</td><td>0.142253</td><td>0.12842</td><td>100</td></tr>\n",
       "    <tr><td class='row_index'>14</td><td>0</td><td>0</td><td>0</td><td>0</td><td>0</td><td>0</td><td>0</td><td>0</td><td>0</td><td>0</td><td class=vellipsis>&hellip;</td><td>0</td><td>0</td><td>0</td><td>0</td><td>107</td></tr>\n",
       "    <tr><td class='row_index'>&#x22EE;</td><td class='hellipsis'>&#x22EE;</td><td class='hellipsis'>&#x22EE;</td><td class='hellipsis'>&#x22EE;</td><td class='hellipsis'>&#x22EE;</td><td class='hellipsis'>&#x22EE;</td><td class='hellipsis'>&#x22EE;</td><td class='hellipsis'>&#x22EE;</td><td class='hellipsis'>&#x22EE;</td><td class='hellipsis'>&#x22EE;</td><td class='hellipsis'>&#x22EE;</td><td class='hellipsis'>&#x22F1;</td><td class='hellipsis'>&#x22EE;</td><td class='hellipsis'>&#x22EE;</td><td class='hellipsis'>&#x22EE;</td><td class='hellipsis'>&#x22EE;</td><td class='hellipsis'>&#x22EE;</td></tr>\n",
       "    <tr><td class='row_index'>806,651</td><td>0</td><td>0</td><td>0</td><td>0</td><td>0</td><td>0</td><td>0</td><td>0</td><td>0</td><td>0</td><td class=vellipsis>&hellip;</td><td>0</td><td>0</td><td>0</td><td>0</td><td>5910749</td></tr>\n",
       "    <tr><td class='row_index'>806,652</td><td>0.0335291</td><td>0.033504</td><td>0.0335168</td><td>0.0335219</td><td>0.69837</td><td>0.05</td><td>0.05</td><td>0.05</td><td>0.05</td><td>0.05</td><td class=vellipsis>&hellip;</td><td>0.0749323</td><td>0.0749323</td><td>0.0749323</td><td>0.57215</td><td>5910751</td></tr>\n",
       "    <tr><td class='row_index'>806,653</td><td>0</td><td>0</td><td>0</td><td>0</td><td>0</td><td>0</td><td>0</td><td>0</td><td>0</td><td>0</td><td class=vellipsis>&hellip;</td><td>0</td><td>0</td><td>0</td><td>0</td><td>5910754</td></tr>\n",
       "    <tr><td class='row_index'>806,654</td><td>0</td><td>0</td><td>0</td><td>0</td><td>0</td><td>0</td><td>0</td><td>0</td><td>0</td><td>0</td><td class=vellipsis>&hellip;</td><td>0</td><td>0</td><td>0</td><td>0</td><td>5910760</td></tr>\n",
       "    <tr><td class='row_index'>806,655</td><td>0</td><td>0</td><td>0</td><td>0</td><td>0</td><td>0</td><td>0</td><td>0</td><td>0</td><td>0</td><td class=vellipsis>&hellip;</td><td>0</td><td>0</td><td>0</td><td>0</td><td>5910775</td></tr>\n",
       "  </tbody>\n",
       "  </table>\n",
       "  <div class='footer'>\n",
       "    <div class='frame_dimensions'>806,656 rows &times; 20 columns</div>\n",
       "  </div>\n",
       "</div>\n"
      ],
      "text/plain": [
       "<Frame#7f4ecb5179f0 806656x20>"
      ]
     },
     "execution_count": 49,
     "metadata": {},
     "output_type": "execute_result"
    }
   ],
   "source": [
    "tab = dt.fread(os.path.join(train_data_dir, \"user_context/20210420.jay\"))\n",
    "tab"
   ]
  },
  {
   "cell_type": "code",
   "execution_count": 64,
   "metadata": {},
   "outputs": [
    {
     "data": {
      "text/html": [
       "<div class='datatable'>\n",
       "  <table class='frame'>\n",
       "  <thead>\n",
       "    <tr class='colnames'><td class='row_index'></td><th>user_id</th><th>video_id</th><th>is_watch</th><th>is_share</th><th>watch_label</th><th>pt_d</th></tr>\n",
       "    <tr class='coltypes'><td class='row_index'></td><td class='int' title='int64'>&#x25AA;&#x25AA;&#x25AA;&#x25AA;&#x25AA;&#x25AA;&#x25AA;&#x25AA;</td><td class='int' title='int64'>&#x25AA;&#x25AA;&#x25AA;&#x25AA;&#x25AA;&#x25AA;&#x25AA;&#x25AA;</td><td class='int' title='int64'>&#x25AA;&#x25AA;&#x25AA;&#x25AA;&#x25AA;&#x25AA;&#x25AA;&#x25AA;</td><td class='int' title='int64'>&#x25AA;&#x25AA;&#x25AA;&#x25AA;&#x25AA;&#x25AA;&#x25AA;&#x25AA;</td><td class='int' title='int64'>&#x25AA;&#x25AA;&#x25AA;&#x25AA;&#x25AA;&#x25AA;&#x25AA;&#x25AA;</td><td class='int' title='int64'>&#x25AA;&#x25AA;&#x25AA;&#x25AA;&#x25AA;&#x25AA;&#x25AA;&#x25AA;</td></tr>\n",
       "  </thead>\n",
       "  <tbody>\n",
       "    <tr><td class='row_index'>0</td><td>1881912</td><td>27065</td><td>1</td><td>0</td><td>0</td><td>20210419</td></tr>\n",
       "    <tr><td class='row_index'>1</td><td>5884261</td><td>4184</td><td>1</td><td>0</td><td>0</td><td>20210419</td></tr>\n",
       "    <tr><td class='row_index'>2</td><td>5884261</td><td>36246</td><td>1</td><td>0</td><td>9</td><td>20210419</td></tr>\n",
       "    <tr><td class='row_index'>3</td><td>5884261</td><td>39446</td><td>1</td><td>0</td><td>0</td><td>20210419</td></tr>\n",
       "    <tr><td class='row_index'>4</td><td>2152280</td><td>35489</td><td>1</td><td>0</td><td>0</td><td>20210419</td></tr>\n",
       "    <tr><td class='row_index'>5</td><td>3270863</td><td>14611</td><td>1</td><td>0</td><td>0</td><td>20210419</td></tr>\n",
       "    <tr><td class='row_index'>6</td><td>3270863</td><td>49432</td><td>1</td><td>0</td><td>0</td><td>20210419</td></tr>\n",
       "    <tr><td class='row_index'>7</td><td>3682544</td><td>12968</td><td>1</td><td>0</td><td>3</td><td>20210419</td></tr>\n",
       "    <tr><td class='row_index'>8</td><td>5222669</td><td>12968</td><td>1</td><td>0</td><td>0</td><td>20210419</td></tr>\n",
       "    <tr><td class='row_index'>9</td><td>4688911</td><td>28849</td><td>1</td><td>0</td><td>3</td><td>20210419</td></tr>\n",
       "    <tr><td class='row_index'>10</td><td>3815148</td><td>49979</td><td>1</td><td>0</td><td>3</td><td>20210419</td></tr>\n",
       "    <tr><td class='row_index'>11</td><td>594747</td><td>11926</td><td>1</td><td>0</td><td>9</td><td>20210419</td></tr>\n",
       "    <tr><td class='row_index'>12</td><td>3452656</td><td>12968</td><td>1</td><td>0</td><td>0</td><td>20210419</td></tr>\n",
       "    <tr><td class='row_index'>13</td><td>2673597</td><td>47815</td><td>1</td><td>0</td><td>0</td><td>20210419</td></tr>\n",
       "    <tr><td class='row_index'>14</td><td>3843912</td><td>6706</td><td>1</td><td>0</td><td>3</td><td>20210419</td></tr>\n",
       "    <tr><td class='row_index'>&#x22EE;</td><td class='hellipsis'>&#x22EE;</td><td class='hellipsis'>&#x22EE;</td><td class='hellipsis'>&#x22EE;</td><td class='hellipsis'>&#x22EE;</td><td class='hellipsis'>&#x22EE;</td><td class='hellipsis'>&#x22EE;</td></tr>\n",
       "    <tr><td class='row_index'>539,916</td><td>1857465</td><td>42734</td><td>1</td><td>0</td><td>9</td><td>20210419</td></tr>\n",
       "    <tr><td class='row_index'>539,917</td><td>3762442</td><td>12968</td><td>1</td><td>0</td><td>0</td><td>20210419</td></tr>\n",
       "    <tr><td class='row_index'>539,918</td><td>3762442</td><td>1516</td><td>1</td><td>0</td><td>2</td><td>20210419</td></tr>\n",
       "    <tr><td class='row_index'>539,919</td><td>3762442</td><td>13812</td><td>1</td><td>0</td><td>0</td><td>20210419</td></tr>\n",
       "    <tr><td class='row_index'>539,920</td><td>1997194</td><td>25416</td><td>1</td><td>0</td><td>0</td><td>20210419</td></tr>\n",
       "  </tbody>\n",
       "  </table>\n",
       "  <div class='footer'>\n",
       "    <div class='frame_dimensions'>539,921 rows &times; 6 columns</div>\n",
       "  </div>\n",
       "</div>\n"
      ],
      "text/plain": [
       "<Frame#7f4ecb4e7510 539921x6>"
      ]
     },
     "execution_count": 64,
     "metadata": {},
     "output_type": "execute_result"
    }
   ],
   "source": [
    "all_action[dt.f.pt_d == 20210419,:]"
   ]
  },
  {
   "cell_type": "code",
   "execution_count": null,
   "metadata": {},
   "outputs": [],
   "source": []
  }
 ],
 "metadata": {
  "kernelspec": {
   "display_name": "Python 3 (ipykernel)",
   "language": "python",
   "name": "python3"
  },
  "language_info": {
   "codemirror_mode": {
    "name": "ipython",
    "version": 3
   },
   "file_extension": ".py",
   "mimetype": "text/x-python",
   "name": "python",
   "nbconvert_exporter": "python",
   "pygments_lexer": "ipython3",
   "version": "3.8.0"
  }
 },
 "nbformat": 4,
 "nbformat_minor": 4
}
